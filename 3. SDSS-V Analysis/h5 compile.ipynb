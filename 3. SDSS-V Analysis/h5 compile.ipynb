{
 "cells": [
  {
   "cell_type": "code",
   "execution_count": 1,
   "metadata": {},
   "outputs": [
    {
     "name": "stderr",
     "output_type": "stream",
     "text": [
      "2023-06-15 14:45:16.890254: I tensorflow/core/platform/cpu_feature_guard.cc:182] This TensorFlow binary is optimized to use available CPU instructions in performance-critical operations.\n",
      "To enable the following instructions: AVX2 FMA, in other operations, rebuild TensorFlow with the appropriate compiler flags.\n",
      "2023-06-15 14:45:18.969419: W tensorflow/compiler/tf2tensorrt/utils/py_utils.cc:38] TF-TRT Warning: Could not find TensorRT\n"
     ]
    }
   ],
   "source": [
    "import os\n",
    "import astroNN\n",
    "from astroNN import datasets\n",
    "from astroNN.apogee import allstar, visit_spectra, combined_spectra, gap_delete, apogee_continuum, bitmask_boolean\n",
    "from astroNN.models import load_folder\n",
    "from astroNN.apogee.chips import wavelength_solution, chips_split\n",
    "\n",
    "from astropy.io import fits\n",
    "from astropy.wcs import WCS\n",
    "from tensorflow.keras import utils\n",
    "import matplotlib.pyplot as plt\n",
    "import numpy as np\n",
    "from tqdm import tqdm\n",
    "import pickle\n",
    "import traceback\n",
    "import h5py as h5\n",
    "\n",
    "%matplotlib inline\n",
    "import matplotlib.ticker as ticker"
   ]
  },
  {
   "cell_type": "code",
   "execution_count": 2,
   "metadata": {},
   "outputs": [],
   "source": [
    "geir_path = \"/geir_data/scr/petershi\" #should save work here \n",
    "sdssv_path = \"/yngve_data/sdssv/ipl-2/spectro/astra/0.3.0/v6_0_9-1.0/spectra/star\" #path for SDSSV spectra\n",
    "sdssiv_path = \"/yngve_data/sdss/apogee/dr17/apogee/spectro/redux/dr17/stars/apo25m\"\n",
    "\n",
    "xmatch_path = \"/yngve_data/sdssv/ipl-2/spectro/astra/0.3.0/v6_0_9-1.0/aux_xmatch/ipl-1_dr17_lite_230517_byYS.fits\"\n",
    "catlist_path = \"/yngve_data/sdssv/ipl-2/spectro/astra/0.3.0/v6_0_9-1.0/aux_xmatch/allStar-TIC_v8-APOGEE-0.2.6-v6_0_9-1.0.fits\""
   ]
  },
  {
   "cell_type": "code",
   "execution_count": 3,
   "metadata": {},
   "outputs": [],
   "source": [
    "def getPathList(path_0):\n",
    "\n",
    "    l = []\n",
    "\n",
    "    for root, dirs, files in tqdm(os.walk(path_0, topdown=False)):\n",
    "        for name in files:\n",
    "            l.append(os.path.join(root, name))\n",
    "        # for name in dirs:\n",
    "        #     l.append(os.path.join(root, name))\n",
    "    return (l, path_0)"
   ]
  },
  {
   "cell_type": "code",
   "execution_count": 4,
   "metadata": {},
   "outputs": [],
   "source": [
    "def getPath(s, l):\n",
    "    for elem in l[0]:\n",
    "        if str(s) in elem:\n",
    "            return elem\n",
    "\n",
    "    print(\"File \" + str(s) + \" not found in \" + str(l[1]))\n",
    "    return None"
   ]
  },
  {
   "cell_type": "code",
   "execution_count": 5,
   "metadata": {},
   "outputs": [],
   "source": [
    "def getSDSSVData(hdul):\n",
    "\n",
    "    snr = hdul[3].data[\"SNR\"]\n",
    "    ra = hdul[0].header[\"RA\"]\n",
    "    dec = hdul[0].header[\"DEC\"]\n",
    "    flux = hdul[3].data[\"FLUX\"]\n",
    "    flux_err = hdul[3].data[\"E_FLUX\"]\n",
    "    bitmask = hdul[3].data[\"BITMASK\"]\n",
    "\n",
    "    rd = {}\n",
    "\n",
    "    rd[\"SNR\"] = snr\n",
    "    rd[\"RA\"] = ra\n",
    "    rd[\"DEC\"] = dec\n",
    "    rd[\"FLUX\"] = flux\n",
    "    rd[\"FLUX_ERR\"] = flux_err\n",
    "    rd[\"BITMASK\"] = bitmask\n",
    "\n",
    "    return rd "
   ]
  },
  {
   "cell_type": "code",
   "execution_count": 6,
   "metadata": {},
   "outputs": [
    {
     "name": "stderr",
     "output_type": "stream",
     "text": [
      "10101it [00:22, 447.09it/s]\n"
     ]
    }
   ],
   "source": [
    "sdssv_files = getPathList(sdssv_path)"
   ]
  },
  {
   "cell_type": "code",
   "execution_count": 7,
   "metadata": {},
   "outputs": [],
   "source": [
    "example = sdssv_files[0][0]\n",
    "ex = fits.open(example)"
   ]
  },
  {
   "cell_type": "code",
   "execution_count": 8,
   "metadata": {},
   "outputs": [
    {
     "name": "stdout",
     "output_type": "stream",
     "text": [
      "Filename: /yngve_data/sdssv/ipl-2/spectro/astra/0.3.0/v6_0_9-1.0/spectra/star/00/00/mwmStar-0.3.0-27021598754250000.fits\n",
      "No.    Name      Ver    Type      Cards   Dimensions   Format\n",
      "  0  PRIMARY       1 PrimaryHDU      59   ()      \n",
      "  1  BOSS/APO      1 BinTableHDU     19   0R x 0C   []   \n",
      "  2  BOSS/LCO      1 BinTableHDU     19   0R x 0C   []   \n",
      "  3  APOGEE/APO    1 BinTableHDU     83   1R x 11C   [1E, 8575E, 8575E, 8575E, 8575J, 8575E, 8575E, 21E, 50E, 1E, 1L]   \n",
      "  4  APOGEE/LCO    1 BinTableHDU     19   0R x 0C   []   \n"
     ]
    }
   ],
   "source": [
    "ex.info()"
   ]
  },
  {
   "cell_type": "code",
   "execution_count": 9,
   "metadata": {},
   "outputs": [
    {
     "name": "stdout",
     "output_type": "stream",
     "text": [
      "XTENSION= 'BINTABLE'           / binary table extension                         \n",
      "BITPIX  =                    8 / array data type                                \n",
      "NAXIS   =                    2 / number of array dimensions                     \n",
      "NAXIS1  =               206093 / length of dimension 1                          \n",
      "NAXIS2  =                    1 / length of dimension 2                          \n",
      "PCOUNT  =                    0 / number of group parameters                     \n",
      "GCOUNT  =                    1 / number of groups                               \n",
      "TFIELDS =                   11 / number of table fields                         \n",
      "                                                                                \n",
      "        METADATA                                                                \n",
      "EXTNAME = 'APOGEE/APO'         / Short extension name                           \n",
      "OBSRVTRY= 'APO     '           / Observatory name                               \n",
      "INSTRMNT= 'APOGEE  '           / Instrument name                                \n",
      "                                                                                \n",
      "        APOGEE DATA REDUCTION PIPELINE                                          \n",
      "V_APRED = '69de0d7427363363aae2017a0890751f40a3463e' / DRP version(s)           \n",
      "                                                                                \n",
      "        SPECTRUM SAMPLING AND STACKING                                          \n",
      "NRES    = '5 4.25 3.5'         / Sinc bandlimit [pixel/resolution element]      \n",
      "FILTSIZE=                  501 / Median filter size for pseudo-continuum [pixel]\n",
      "NORMSIZE=                  100 / Gaussian width for pseudo-continuum [pixel]    \n",
      "CONSCALE=                    F / Scale by pseudo-continuum when stacking        \n",
      "DITHERED=                  1.0 / Fraction of visits that were dithered          \n",
      "NVISITS =                    1 / Number of visits included in the stack         \n",
      "FPS     =                  1.0 / Fraction of observation taken with fiber positi\n",
      "                                                                                \n",
      "        DOPPLER STELLAR PARAMETERS (SDSS-V)                                     \n",
      "TEFF_D  =               3507.8 / Effective temperature from DOPPLER [K]         \n",
      "E_TEFF_D=                  3.8 / Error in effective temperature from DOPPLER [K]\n",
      "LOGG_D  =                0.739 / Surface gravity from DOPPLER                   \n",
      "E_LOGG_D=                0.022 / Error in surface gravity from DOPPLER          \n",
      "FEH_D   =               -0.579 / Metallicity from DOPPLER                       \n",
      "E_FEH_D =                0.011 / Error in metallicity from DOPPLER              \n",
      "                                                                                \n",
      "        WAVELENGTH INFORMATION (VACUUM)                                         \n",
      "CRVAL   =                4.179 / Log(10) wavelength of first pixel [Angstrom]   \n",
      "CDELT   =                6E-06 / Log(10) delta wavelength per pixel [Angstrom]  \n",
      "CTYPE   = 'LOG-LINEAR'         / Wavelength solution description                \n",
      "CUNIT   = 'Angstrom (Vacuum)'  / Wavelength solution unit                       \n",
      "CRPIX   =                    1 / Pixel offset from the first pixel              \n",
      "DC-FLAG =                    1 / Wavelength solution flag                       \n",
      "NPIXELS =                 8575 / Number of pixels per spectrum                  \n",
      "                                                                                \n",
      "        SPECTRAL DATA                                                           \n",
      "TTYPE1  = 'SNR     '           / Mean signal-to-noise ratio                     \n",
      "TFORM1  = '1E      '                                                            \n",
      "TDIM1   = '(1)     '                                                            \n",
      "TTYPE2  = 'LAMBDA  '           / Source rest frame vacuum wavelength [Angstrom] \n",
      "TFORM2  = '8575E   '                                                            \n",
      "TDIM2   = '(8575)  '                                                            \n",
      "TTYPE3  = 'FLUX    '           / Source flux                                    \n",
      "TFORM3  = '8575E   '                                                            \n",
      "TDIM3   = '(8575)  '                                                            \n",
      "TTYPE4  = 'E_FLUX  '           / Standard deviation of source flux              \n",
      "TFORM4  = '8575E   '                                                            \n",
      "TDIM4   = '(8575)  '                                                            \n",
      "TTYPE5  = 'BITMASK '           / Pixel-level bitmask (see documentation)        \n",
      "TFORM5  = '8575J   '                                                            \n",
      "TDIM5   = '(8575)  '                                                            \n",
      "                                                                                \n",
      "        CONTINUUM FITTING                                                       \n",
      "TTYPE6  = 'MODEL_FLUX'         / Best-fitting model of source flux              \n",
      "TFORM6  = '8575E   '                                                            \n",
      "TDIM6   = '(8575)  '                                                            \n",
      "TTYPE7  = 'CONTINUUM'          / Continuum flux used in model fit               \n",
      "TFORM7  = '8575E   '                                                            \n",
      "TDIM7   = '(8575)  '                                                            \n",
      "TTYPE8  = 'CONTINUUM_THETA'    / Sine and cosine coefficients for continuum fit \n",
      "TFORM8  = '21E     '                                                            \n",
      "TDIM8   = '(21)    '                                                            \n",
      "TTYPE9  = 'CONTINUUM_PHI'      / Amplitudes to approximate the rectified flux   \n",
      "TFORM9  = '50E     '                                                            \n",
      "TDIM9   = '(50)    '                                                            \n",
      "TTYPE10 = 'CONTINUUM_RCHISQ'   / Reduced chi-squared of the continuum fit       \n",
      "TFORM10 = '1E      '                                                            \n",
      "TDIM10  = '(1)     '                                                            \n",
      "TTYPE11 = 'CONTINUUM_SUCCESS'  / Success flag for the continuum fit             \n",
      "TFORM11 = '1L      '                                                            \n",
      "TDIM11  = '(1)     '                                                            \n",
      "                                                                                \n",
      "        DATA INTEGRITY                                                          \n",
      "CHECKSUM= 'oL5arI3ToI3ZoI3Z'   / HDU checksum updated 2023-02-23T07:44:49       \n",
      "DATASUM = '199297341'          / data unit checksum updated 2023-02-23T07:44:49 \n"
     ]
    }
   ],
   "source": [
    "print(repr(ex[3].header))"
   ]
  },
  {
   "cell_type": "code",
   "execution_count": 10,
   "metadata": {},
   "outputs": [],
   "source": [
    "hdul = fits.open(catlist_path)"
   ]
  },
  {
   "cell_type": "code",
   "execution_count": 11,
   "metadata": {},
   "outputs": [
    {
     "name": "stdout",
     "output_type": "stream",
     "text": [
      "Filename: /yngve_data/sdssv/ipl-2/spectro/astra/0.3.0/v6_0_9-1.0/aux_xmatch/allStar-TIC_v8-APOGEE-0.2.6-v6_0_9-1.0.fits\n",
      "No.    Name      Ver    Type      Cards   Dimensions   Format\n",
      "  0  PRIMARY       1 PrimaryHDU       4   ()      \n",
      "  1                1 BinTableHDU    287   153700R x 131C   [K, D, D, K, K, K, 17A, K, K, 19A, K, 8A, K, 12A, 10A, 17A, K, 19A, 8A, K, 4A, 10A, 10A, D, D, D, D, 6A, D, D, 5A, D, D, D, D, D, D, D, D, D, D, D, D, D, D, D, D, D, D, D, D, D, D, D, D, 19A, D, D, D, D, D, D, D, D, D, D, D, 5A, D, 5A, D, D, D, D, D, D, D, D, D, D, D, D, 5A, D, D, D, D, D, D, K, D, 5A, D, D, D, 9A, D, D, D, D, D, D, D, D, D, D, D, D, 6A, D, D, 6A, D, D, K, D, D, D, 8A, D, 8A, D, 15A, D, D, D, K, K, K, K, K]   \n"
     ]
    }
   ],
   "source": [
    "hdul.info()"
   ]
  },
  {
   "cell_type": "code",
   "execution_count": 12,
   "metadata": {},
   "outputs": [],
   "source": [
    "cat = hdul[1].data[\"catalogid\"]"
   ]
  },
  {
   "cell_type": "code",
   "execution_count": 13,
   "metadata": {},
   "outputs": [
    {
     "name": "stderr",
     "output_type": "stream",
     "text": [
      "  0%|          | 722/153700 [03:37<11:44:51,  3.62it/s]"
     ]
    },
    {
     "name": "stdout",
     "output_type": "stream",
     "text": [
      "File 4215415336 not found in /yngve_data/sdssv/ipl-2/spectro/astra/0.3.0/v6_0_9-1.0/spectra/star\n"
     ]
    },
    {
     "name": "stderr",
     "output_type": "stream",
     "text": [
      "  1%|          | 1385/153700 [07:03<11:41:23,  3.62it/s]"
     ]
    },
    {
     "name": "stdout",
     "output_type": "stream",
     "text": [
      "File 4223279602 not found in /yngve_data/sdssv/ipl-2/spectro/astra/0.3.0/v6_0_9-1.0/spectra/star\n"
     ]
    },
    {
     "name": "stderr",
     "output_type": "stream",
     "text": [
      "  1%|▏         | 2097/153700 [10:37<14:53:04,  2.83it/s]"
     ]
    },
    {
     "name": "stdout",
     "output_type": "stream",
     "text": [
      "File 4255998928 not found in /yngve_data/sdssv/ipl-2/spectro/astra/0.3.0/v6_0_9-1.0/spectra/star\n"
     ]
    },
    {
     "name": "stderr",
     "output_type": "stream",
     "text": [
      "  2%|▏         | 3002/153700 [15:13<13:43:19,  3.05it/s]"
     ]
    },
    {
     "name": "stdout",
     "output_type": "stream",
     "text": [
      "File 4271095509 not found in /yngve_data/sdssv/ipl-2/spectro/astra/0.3.0/v6_0_9-1.0/spectra/star\n"
     ]
    },
    {
     "name": "stderr",
     "output_type": "stream",
     "text": [
      "  2%|▏         | 3334/153700 [16:55<10:17:02,  4.06it/s]"
     ]
    },
    {
     "name": "stdout",
     "output_type": "stream",
     "text": [
      "File 4277062030 not found in /yngve_data/sdssv/ipl-2/spectro/astra/0.3.0/v6_0_9-1.0/spectra/star\n"
     ]
    },
    {
     "name": "stderr",
     "output_type": "stream",
     "text": [
      "  2%|▏         | 3352/153700 [17:01<15:01:04,  2.78it/s]"
     ]
    },
    {
     "name": "stdout",
     "output_type": "stream",
     "text": [
      "File 4277395410 not found in /yngve_data/sdssv/ipl-2/spectro/astra/0.3.0/v6_0_9-1.0/spectra/star\n"
     ]
    },
    {
     "name": "stderr",
     "output_type": "stream",
     "text": [
      "  3%|▎         | 5369/153700 [27:14<13:47:02,  2.99it/s]"
     ]
    },
    {
     "name": "stdout",
     "output_type": "stream",
     "text": [
      "File 4342021178 not found in /yngve_data/sdssv/ipl-2/spectro/astra/0.3.0/v6_0_9-1.0/spectra/star\n"
     ]
    },
    {
     "name": "stderr",
     "output_type": "stream",
     "text": [
      "  4%|▎         | 5422/153700 [27:32<13:11:16,  3.12it/s]"
     ]
    },
    {
     "name": "stdout",
     "output_type": "stream",
     "text": [
      "File 4342080964 not found in /yngve_data/sdssv/ipl-2/spectro/astra/0.3.0/v6_0_9-1.0/spectra/star\n"
     ]
    },
    {
     "name": "stderr",
     "output_type": "stream",
     "text": [
      "  4%|▎         | 5487/153700 [27:52<13:17:41,  3.10it/s]"
     ]
    },
    {
     "name": "stdout",
     "output_type": "stream",
     "text": [
      "File 4342145794 not found in /yngve_data/sdssv/ipl-2/spectro/astra/0.3.0/v6_0_9-1.0/spectra/star\n"
     ]
    },
    {
     "name": "stderr",
     "output_type": "stream",
     "text": [
      "  4%|▎         | 5530/153700 [28:06<15:27:56,  2.66it/s]"
     ]
    },
    {
     "name": "stdout",
     "output_type": "stream",
     "text": [
      "File 4342197943 not found in /yngve_data/sdssv/ipl-2/spectro/astra/0.3.0/v6_0_9-1.0/spectra/star\n"
     ]
    },
    {
     "name": "stderr",
     "output_type": "stream",
     "text": [
      "  4%|▍         | 6032/153700 [30:30<17:34:40,  2.33it/s]"
     ]
    },
    {
     "name": "stdout",
     "output_type": "stream",
     "text": [
      "File 4345904409 not found in /yngve_data/sdssv/ipl-2/spectro/astra/0.3.0/v6_0_9-1.0/spectra/star\n"
     ]
    },
    {
     "name": "stderr",
     "output_type": "stream",
     "text": [
      "  4%|▍         | 6301/153700 [31:54<12:06:57,  3.38it/s]"
     ]
    },
    {
     "name": "stdout",
     "output_type": "stream",
     "text": [
      "File 4346023462 not found in /yngve_data/sdssv/ipl-2/spectro/astra/0.3.0/v6_0_9-1.0/spectra/star\n"
     ]
    },
    {
     "name": "stderr",
     "output_type": "stream",
     "text": [
      "  5%|▍         | 6995/153700 [35:30<20:52:49,  1.95it/s]"
     ]
    },
    {
     "name": "stdout",
     "output_type": "stream",
     "text": [
      "File 4346329383 not found in /yngve_data/sdssv/ipl-2/spectro/astra/0.3.0/v6_0_9-1.0/spectra/star\n"
     ]
    },
    {
     "name": "stderr",
     "output_type": "stream",
     "text": [
      "  5%|▍         | 7009/153700 [35:34<10:10:55,  4.00it/s]"
     ]
    },
    {
     "name": "stdout",
     "output_type": "stream",
     "text": [
      "File 4346332386 not found in /yngve_data/sdssv/ipl-2/spectro/astra/0.3.0/v6_0_9-1.0/spectra/star\n"
     ]
    },
    {
     "name": "stderr",
     "output_type": "stream",
     "text": [
      "  5%|▍         | 7122/153700 [36:07<14:39:28,  2.78it/s]"
     ]
    },
    {
     "name": "stdout",
     "output_type": "stream",
     "text": [
      "File 4346354795 not found in /yngve_data/sdssv/ipl-2/spectro/astra/0.3.0/v6_0_9-1.0/spectra/star\n"
     ]
    },
    {
     "name": "stderr",
     "output_type": "stream",
     "text": [
      "  6%|▌         | 8584/153700 [44:01<17:00:06,  2.37it/s]"
     ]
    },
    {
     "name": "stdout",
     "output_type": "stream",
     "text": [
      "File 4347487002 not found in /yngve_data/sdssv/ipl-2/spectro/astra/0.3.0/v6_0_9-1.0/spectra/star\n"
     ]
    },
    {
     "name": "stderr",
     "output_type": "stream",
     "text": [
      "  8%|▊         | 12429/153700 [1:03:36<18:43:59,  2.09it/s]"
     ]
    },
    {
     "name": "stdout",
     "output_type": "stream",
     "text": [
      "File 4351927327 not found in /yngve_data/sdssv/ipl-2/spectro/astra/0.3.0/v6_0_9-1.0/spectra/star\n"
     ]
    },
    {
     "name": "stderr",
     "output_type": "stream",
     "text": [
      "  9%|▉         | 13500/153700 [1:09:27<12:00:20,  3.24it/s]"
     ]
    },
    {
     "name": "stdout",
     "output_type": "stream",
     "text": [
      "File 4360803449 not found in /yngve_data/sdssv/ipl-2/spectro/astra/0.3.0/v6_0_9-1.0/spectra/star\n"
     ]
    },
    {
     "name": "stderr",
     "output_type": "stream",
     "text": [
      "  9%|▉         | 13913/153700 [1:11:39<12:13:25,  3.18it/s]"
     ]
    },
    {
     "name": "stdout",
     "output_type": "stream",
     "text": [
      "File 4367713884 not found in /yngve_data/sdssv/ipl-2/spectro/astra/0.3.0/v6_0_9-1.0/spectra/star\n"
     ]
    },
    {
     "name": "stderr",
     "output_type": "stream",
     "text": [
      "  9%|▉         | 13942/153700 [1:11:50<16:18:06,  2.38it/s]"
     ]
    },
    {
     "name": "stdout",
     "output_type": "stream",
     "text": [
      "File 4367731155 not found in /yngve_data/sdssv/ipl-2/spectro/astra/0.3.0/v6_0_9-1.0/spectra/star\n"
     ]
    },
    {
     "name": "stderr",
     "output_type": "stream",
     "text": [
      "  9%|▉         | 14214/153700 [1:13:17<18:02:06,  2.15it/s]"
     ]
    },
    {
     "name": "stdout",
     "output_type": "stream",
     "text": [
      "File 4368348860 not found in /yngve_data/sdssv/ipl-2/spectro/astra/0.3.0/v6_0_9-1.0/spectra/star\n"
     ]
    },
    {
     "name": "stderr",
     "output_type": "stream",
     "text": [
      "  9%|▉         | 14259/153700 [1:13:32<12:53:10,  3.01it/s]"
     ]
    },
    {
     "name": "stdout",
     "output_type": "stream",
     "text": [
      "File 4368374685 not found in /yngve_data/sdssv/ipl-2/spectro/astra/0.3.0/v6_0_9-1.0/spectra/star\n"
     ]
    },
    {
     "name": "stderr",
     "output_type": "stream",
     "text": [
      "  9%|▉         | 14303/153700 [1:13:49<10:30:47,  3.68it/s]"
     ]
    },
    {
     "name": "stdout",
     "output_type": "stream",
     "text": [
      "File 4368618436 not found in /yngve_data/sdssv/ipl-2/spectro/astra/0.3.0/v6_0_9-1.0/spectra/star\n"
     ]
    },
    {
     "name": "stderr",
     "output_type": "stream",
     "text": [
      " 10%|▉         | 14654/153700 [1:15:36<12:59:37,  2.97it/s]"
     ]
    },
    {
     "name": "stdout",
     "output_type": "stream",
     "text": [
      "File 4371154430 not found in /yngve_data/sdssv/ipl-2/spectro/astra/0.3.0/v6_0_9-1.0/spectra/star\n"
     ]
    },
    {
     "name": "stderr",
     "output_type": "stream",
     "text": [
      " 10%|▉         | 14670/153700 [1:15:41<14:44:55,  2.62it/s]"
     ]
    },
    {
     "name": "stdout",
     "output_type": "stream",
     "text": [
      "File 4371155154 not found in /yngve_data/sdssv/ipl-2/spectro/astra/0.3.0/v6_0_9-1.0/spectra/star\n"
     ]
    },
    {
     "name": "stderr",
     "output_type": "stream",
     "text": [
      " 10%|▉         | 14689/153700 [1:15:49<19:12:42,  2.01it/s]"
     ]
    },
    {
     "name": "stdout",
     "output_type": "stream",
     "text": [
      "File 4371178163 not found in /yngve_data/sdssv/ipl-2/spectro/astra/0.3.0/v6_0_9-1.0/spectra/star\n"
     ]
    },
    {
     "name": "stderr",
     "output_type": "stream",
     "text": [
      " 10%|▉         | 14899/153700 [1:16:46<17:09:56,  2.25it/s]"
     ]
    },
    {
     "name": "stdout",
     "output_type": "stream",
     "text": [
      "File 4374496896 not found in /yngve_data/sdssv/ipl-2/spectro/astra/0.3.0/v6_0_9-1.0/spectra/star\n"
     ]
    },
    {
     "name": "stderr",
     "output_type": "stream",
     "text": [
      " 10%|▉         | 15320/153700 [1:19:14<19:55:28,  1.93it/s]"
     ]
    },
    {
     "name": "stdout",
     "output_type": "stream",
     "text": [
      "File 4375118697 not found in /yngve_data/sdssv/ipl-2/spectro/astra/0.3.0/v6_0_9-1.0/spectra/star\n"
     ]
    },
    {
     "name": "stderr",
     "output_type": "stream",
     "text": [
      " 10%|▉         | 15366/153700 [1:19:24<14:32:57,  2.64it/s]"
     ]
    },
    {
     "name": "stdout",
     "output_type": "stream",
     "text": [
      "File 4375124912 not found in /yngve_data/sdssv/ipl-2/spectro/astra/0.3.0/v6_0_9-1.0/spectra/star\n"
     ]
    },
    {
     "name": "stderr",
     "output_type": "stream",
     "text": [
      " 10%|█         | 15410/153700 [1:19:38<10:09:05,  3.78it/s]"
     ]
    },
    {
     "name": "stdout",
     "output_type": "stream",
     "text": [
      "File 4375140020 not found in /yngve_data/sdssv/ipl-2/spectro/astra/0.3.0/v6_0_9-1.0/spectra/star\n"
     ]
    },
    {
     "name": "stderr",
     "output_type": "stream",
     "text": [
      " 10%|█         | 15443/153700 [1:19:42<7:52:57,  4.87it/s] "
     ]
    },
    {
     "name": "stdout",
     "output_type": "stream",
     "text": [
      "File 4375141940 not found in /yngve_data/sdssv/ipl-2/spectro/astra/0.3.0/v6_0_9-1.0/spectra/star\n"
     ]
    },
    {
     "name": "stderr",
     "output_type": "stream",
     "text": [
      " 10%|█         | 15523/153700 [1:20:06<10:13:03,  3.76it/s]"
     ]
    },
    {
     "name": "stdout",
     "output_type": "stream",
     "text": [
      "File 4375149818 not found in /yngve_data/sdssv/ipl-2/spectro/astra/0.3.0/v6_0_9-1.0/spectra/star\n"
     ]
    },
    {
     "name": "stderr",
     "output_type": "stream",
     "text": [
      " 10%|█         | 15650/153700 [1:20:47<24:16:17,  1.58it/s]"
     ]
    },
    {
     "name": "stdout",
     "output_type": "stream",
     "text": [
      "File 4375839334 not found in /yngve_data/sdssv/ipl-2/spectro/astra/0.3.0/v6_0_9-1.0/spectra/star\n"
     ]
    },
    {
     "name": "stderr",
     "output_type": "stream",
     "text": [
      " 10%|█         | 15879/153700 [1:21:48<16:29:26,  2.32it/s]"
     ]
    },
    {
     "name": "stdout",
     "output_type": "stream",
     "text": [
      "File 4375876467 not found in /yngve_data/sdssv/ipl-2/spectro/astra/0.3.0/v6_0_9-1.0/spectra/star\n"
     ]
    },
    {
     "name": "stderr",
     "output_type": "stream",
     "text": [
      " 10%|█         | 15935/153700 [1:22:09<9:20:53,  4.09it/s] "
     ]
    },
    {
     "name": "stdout",
     "output_type": "stream",
     "text": [
      "File 4375882661 not found in /yngve_data/sdssv/ipl-2/spectro/astra/0.3.0/v6_0_9-1.0/spectra/star\n"
     ]
    },
    {
     "name": "stderr",
     "output_type": "stream",
     "text": [
      " 10%|█         | 15940/153700 [1:22:10<11:06:05,  3.45it/s]"
     ]
    },
    {
     "name": "stdout",
     "output_type": "stream",
     "text": [
      "File 4375882896 not found in /yngve_data/sdssv/ipl-2/spectro/astra/0.3.0/v6_0_9-1.0/spectra/star\n"
     ]
    },
    {
     "name": "stderr",
     "output_type": "stream",
     "text": [
      " 10%|█         | 15968/153700 [1:22:18<14:26:00,  2.65it/s]"
     ]
    },
    {
     "name": "stdout",
     "output_type": "stream",
     "text": [
      "File 4375885591 not found in /yngve_data/sdssv/ipl-2/spectro/astra/0.3.0/v6_0_9-1.0/spectra/star\n"
     ]
    },
    {
     "name": "stderr",
     "output_type": "stream",
     "text": [
      " 10%|█         | 15977/153700 [1:22:21<16:18:43,  2.35it/s]"
     ]
    },
    {
     "name": "stdout",
     "output_type": "stream",
     "text": [
      "File 4375886448 not found in /yngve_data/sdssv/ipl-2/spectro/astra/0.3.0/v6_0_9-1.0/spectra/star\n"
     ]
    },
    {
     "name": "stderr",
     "output_type": "stream",
     "text": [
      " 10%|█         | 15978/153700 [1:22:22<17:29:39,  2.19it/s]"
     ]
    },
    {
     "name": "stdout",
     "output_type": "stream",
     "text": [
      "File 4375886491 not found in /yngve_data/sdssv/ipl-2/spectro/astra/0.3.0/v6_0_9-1.0/spectra/star\n"
     ]
    },
    {
     "name": "stderr",
     "output_type": "stream",
     "text": [
      " 10%|█         | 16067/153700 [1:23:00<19:07:24,  2.00it/s]"
     ]
    },
    {
     "name": "stdout",
     "output_type": "stream",
     "text": [
      "File 4375907975 not found in /yngve_data/sdssv/ipl-2/spectro/astra/0.3.0/v6_0_9-1.0/spectra/star\n"
     ]
    },
    {
     "name": "stderr",
     "output_type": "stream",
     "text": [
      " 10%|█         | 16101/153700 [1:23:15<8:04:39,  4.73it/s] "
     ]
    },
    {
     "name": "stdout",
     "output_type": "stream",
     "text": [
      "File 4375911138 not found in /yngve_data/sdssv/ipl-2/spectro/astra/0.3.0/v6_0_9-1.0/spectra/star\n"
     ]
    },
    {
     "name": "stderr",
     "output_type": "stream",
     "text": [
      " 10%|█         | 16124/153700 [1:23:21<14:46:01,  2.59it/s]"
     ]
    },
    {
     "name": "stdout",
     "output_type": "stream",
     "text": [
      "File 4375915448 not found in /yngve_data/sdssv/ipl-2/spectro/astra/0.3.0/v6_0_9-1.0/spectra/star\n"
     ]
    },
    {
     "name": "stderr",
     "output_type": "stream",
     "text": [
      " 10%|█         | 16126/153700 [1:23:22<16:19:58,  2.34it/s]"
     ]
    },
    {
     "name": "stdout",
     "output_type": "stream",
     "text": [
      "File 4375915513 not found in /yngve_data/sdssv/ipl-2/spectro/astra/0.3.0/v6_0_9-1.0/spectra/star\n"
     ]
    },
    {
     "name": "stderr",
     "output_type": "stream",
     "text": [
      " 10%|█         | 16127/153700 [1:23:23<17:53:39,  2.14it/s]"
     ]
    },
    {
     "name": "stdout",
     "output_type": "stream",
     "text": [
      "File 4375915589 not found in /yngve_data/sdssv/ipl-2/spectro/astra/0.3.0/v6_0_9-1.0/spectra/star\n"
     ]
    },
    {
     "name": "stderr",
     "output_type": "stream",
     "text": [
      " 11%|█         | 16313/153700 [1:24:27<19:22:45,  1.97it/s]"
     ]
    },
    {
     "name": "stdout",
     "output_type": "stream",
     "text": [
      "Traceback (most recent call last):\n",
      "  File \"/home/petershi/miniconda3/envs/SDSSV/lib/python3.11/site-packages/astropy/io/fits/column.py\", line 2142, in _get_index\n",
      "    indx = names.index(key.rstrip())\n",
      "           ^^^^^^^^^^^^^^^^^^^^^^^^^\n",
      "ValueError: 'SNR' is not in list\n",
      "\n",
      "During handling of the above exception, another exception occurred:\n",
      "\n",
      "Traceback (most recent call last):\n",
      "  File \"/tmp/ipykernel_10073/3388262553.py\", line 15, in <module>\n",
      "    cdata = getSDSSVData(cfile)\n",
      "            ^^^^^^^^^^^^^^^^^^^\n",
      "  File \"/tmp/ipykernel_10073/4007893978.py\", line 3, in getSDSSVData\n",
      "    snr = hdul[3].data[\"SNR\"]\n",
      "          ~~~~~~~~~~~~^^^^^^^\n",
      "  File \"/home/petershi/miniconda3/envs/SDSSV/lib/python3.11/site-packages/astropy/io/fits/fitsrec.py\", line 513, in __getitem__\n",
      "    return self.field(key)\n",
      "           ^^^^^^^^^^^^^^^\n",
      "  File \"/home/petershi/miniconda3/envs/SDSSV/lib/python3.11/site-packages/astropy/io/fits/fitsrec.py\", line 695, in field\n",
      "    column = self.columns[key]\n",
      "             ~~~~~~~~~~~~^^^^^\n",
      "  File \"/home/petershi/miniconda3/envs/SDSSV/lib/python3.11/site-packages/astropy/io/fits/column.py\", line 1751, in __getitem__\n",
      "    key = _get_index(self.names, key)\n",
      "          ^^^^^^^^^^^^^^^^^^^^^^^^^^^\n",
      "  File \"/home/petershi/miniconda3/envs/SDSSV/lib/python3.11/site-packages/astropy/io/fits/column.py\", line 2151, in _get_index\n",
      "    raise KeyError(f\"Key '{key}' does not exist.\")\n",
      "KeyError: \"Key 'SNR' does not exist.\"\n",
      "\n"
     ]
    },
    {
     "name": "stderr",
     "output_type": "stream",
     "text": [
      " 11%|█         | 16343/153700 [1:24:34<5:47:00,  6.60it/s] "
     ]
    },
    {
     "name": "stdout",
     "output_type": "stream",
     "text": [
      "File 4375941261 not found in /yngve_data/sdssv/ipl-2/spectro/astra/0.3.0/v6_0_9-1.0/spectra/star\n"
     ]
    },
    {
     "name": "stderr",
     "output_type": "stream",
     "text": [
      " 11%|█         | 16410/153700 [1:24:51<16:29:47,  2.31it/s]"
     ]
    },
    {
     "name": "stdout",
     "output_type": "stream",
     "text": [
      "File 4375948968 not found in /yngve_data/sdssv/ipl-2/spectro/astra/0.3.0/v6_0_9-1.0/spectra/star\n"
     ]
    },
    {
     "name": "stderr",
     "output_type": "stream",
     "text": [
      " 11%|█         | 16500/153700 [1:25:19<7:51:44,  4.85it/s] "
     ]
    },
    {
     "name": "stdout",
     "output_type": "stream",
     "text": [
      "File 4375962308 not found in /yngve_data/sdssv/ipl-2/spectro/astra/0.3.0/v6_0_9-1.0/spectra/star\n"
     ]
    },
    {
     "name": "stderr",
     "output_type": "stream",
     "text": [
      " 11%|█         | 16778/153700 [1:27:01<10:34:22,  3.60it/s]"
     ]
    },
    {
     "name": "stdout",
     "output_type": "stream",
     "text": [
      "File 4376210093 not found in /yngve_data/sdssv/ipl-2/spectro/astra/0.3.0/v6_0_9-1.0/spectra/star\n"
     ]
    },
    {
     "name": "stderr",
     "output_type": "stream",
     "text": [
      " 11%|█         | 16824/153700 [1:27:08<15:50:57,  2.40it/s]"
     ]
    },
    {
     "name": "stdout",
     "output_type": "stream",
     "text": [
      "File 4376216581 not found in /yngve_data/sdssv/ipl-2/spectro/astra/0.3.0/v6_0_9-1.0/spectra/star\n"
     ]
    },
    {
     "name": "stderr",
     "output_type": "stream",
     "text": [
      " 11%|█         | 16924/153700 [1:27:35<10:01:28,  3.79it/s]"
     ]
    },
    {
     "name": "stdout",
     "output_type": "stream",
     "text": [
      "File 4376322709 not found in /yngve_data/sdssv/ipl-2/spectro/astra/0.3.0/v6_0_9-1.0/spectra/star\n"
     ]
    },
    {
     "name": "stderr",
     "output_type": "stream",
     "text": [
      " 11%|█         | 17068/153700 [1:28:20<10:22:22,  3.66it/s]"
     ]
    },
    {
     "name": "stdout",
     "output_type": "stream",
     "text": [
      "File 4377412428 not found in /yngve_data/sdssv/ipl-2/spectro/astra/0.3.0/v6_0_9-1.0/spectra/star\n"
     ]
    },
    {
     "name": "stderr",
     "output_type": "stream",
     "text": [
      " 11%|█         | 17287/153700 [1:29:32<15:04:59,  2.51it/s]"
     ]
    },
    {
     "name": "stdout",
     "output_type": "stream",
     "text": [
      "File 4381166029 not found in /yngve_data/sdssv/ipl-2/spectro/astra/0.3.0/v6_0_9-1.0/spectra/star\n"
     ]
    },
    {
     "name": "stderr",
     "output_type": "stream",
     "text": [
      " 11%|█▏        | 17444/153700 [1:30:25<18:09:09,  2.09it/s]"
     ]
    },
    {
     "name": "stdout",
     "output_type": "stream",
     "text": [
      "File 4382187671 not found in /yngve_data/sdssv/ipl-2/spectro/astra/0.3.0/v6_0_9-1.0/spectra/star\n"
     ]
    },
    {
     "name": "stderr",
     "output_type": "stream",
     "text": [
      " 12%|█▏        | 17923/153700 [1:32:57<5:16:56,  7.14it/s] "
     ]
    },
    {
     "name": "stdout",
     "output_type": "stream",
     "text": [
      "File 4383261662 not found in /yngve_data/sdssv/ipl-2/spectro/astra/0.3.0/v6_0_9-1.0/spectra/star\n"
     ]
    },
    {
     "name": "stderr",
     "output_type": "stream",
     "text": [
      " 12%|█▏        | 17975/153700 [1:33:18<16:09:18,  2.33it/s]"
     ]
    },
    {
     "name": "stdout",
     "output_type": "stream",
     "text": [
      "File 4383279651 not found in /yngve_data/sdssv/ipl-2/spectro/astra/0.3.0/v6_0_9-1.0/spectra/star\n"
     ]
    },
    {
     "name": "stderr",
     "output_type": "stream",
     "text": [
      " 12%|█▏        | 18022/153700 [1:33:35<9:33:59,  3.94it/s] "
     ]
    },
    {
     "name": "stdout",
     "output_type": "stream",
     "text": [
      "File 4383300931 not found in /yngve_data/sdssv/ipl-2/spectro/astra/0.3.0/v6_0_9-1.0/spectra/star\n"
     ]
    },
    {
     "name": "stderr",
     "output_type": "stream",
     "text": [
      " 12%|█▏        | 18850/153700 [1:38:13<21:21:19,  1.75it/s]"
     ]
    },
    {
     "name": "stdout",
     "output_type": "stream",
     "text": [
      "File 4399119834 not found in /yngve_data/sdssv/ipl-2/spectro/astra/0.3.0/v6_0_9-1.0/spectra/star\n"
     ]
    },
    {
     "name": "stderr",
     "output_type": "stream",
     "text": [
      " 12%|█▏        | 19096/153700 [1:39:28<19:36:00,  1.91it/s]"
     ]
    },
    {
     "name": "stdout",
     "output_type": "stream",
     "text": [
      "File 4399286223 not found in /yngve_data/sdssv/ipl-2/spectro/astra/0.3.0/v6_0_9-1.0/spectra/star\n"
     ]
    },
    {
     "name": "stderr",
     "output_type": "stream",
     "text": [
      " 12%|█▏        | 19102/153700 [1:39:31<17:39:47,  2.12it/s]"
     ]
    },
    {
     "name": "stdout",
     "output_type": "stream",
     "text": [
      "File 4399286521 not found in /yngve_data/sdssv/ipl-2/spectro/astra/0.3.0/v6_0_9-1.0/spectra/star\n"
     ]
    },
    {
     "name": "stderr",
     "output_type": "stream",
     "text": [
      " 13%|█▎        | 19345/153700 [1:40:53<6:05:41,  6.12it/s] "
     ]
    },
    {
     "name": "stdout",
     "output_type": "stream",
     "text": [
      "File 4399881699 not found in /yngve_data/sdssv/ipl-2/spectro/astra/0.3.0/v6_0_9-1.0/spectra/star\n"
     ]
    },
    {
     "name": "stderr",
     "output_type": "stream",
     "text": [
      " 13%|█▎        | 19388/153700 [1:41:03<14:39:03,  2.55it/s]"
     ]
    },
    {
     "name": "stdout",
     "output_type": "stream",
     "text": [
      "File 4399885242 not found in /yngve_data/sdssv/ipl-2/spectro/astra/0.3.0/v6_0_9-1.0/spectra/star\n"
     ]
    },
    {
     "name": "stderr",
     "output_type": "stream",
     "text": [
      " 13%|█▎        | 19439/153700 [1:41:24<19:25:55,  1.92it/s]"
     ]
    },
    {
     "name": "stdout",
     "output_type": "stream",
     "text": [
      "File 4399904095 not found in /yngve_data/sdssv/ipl-2/spectro/astra/0.3.0/v6_0_9-1.0/spectra/star\n"
     ]
    },
    {
     "name": "stderr",
     "output_type": "stream",
     "text": [
      " 13%|█▎        | 19474/153700 [1:41:38<11:16:58,  3.30it/s]"
     ]
    },
    {
     "name": "stdout",
     "output_type": "stream",
     "text": [
      "File 4399909147 not found in /yngve_data/sdssv/ipl-2/spectro/astra/0.3.0/v6_0_9-1.0/spectra/star\n"
     ]
    },
    {
     "name": "stderr",
     "output_type": "stream",
     "text": [
      " 13%|█▎        | 19536/153700 [1:41:58<17:43:41,  2.10it/s]"
     ]
    },
    {
     "name": "stdout",
     "output_type": "stream",
     "text": [
      "File 4400708563 not found in /yngve_data/sdssv/ipl-2/spectro/astra/0.3.0/v6_0_9-1.0/spectra/star\n"
     ]
    },
    {
     "name": "stderr",
     "output_type": "stream",
     "text": [
      " 13%|█▎        | 19799/153700 [1:43:17<7:10:38,  5.18it/s] "
     ]
    },
    {
     "name": "stdout",
     "output_type": "stream",
     "text": [
      "File 4400911188 not found in /yngve_data/sdssv/ipl-2/spectro/astra/0.3.0/v6_0_9-1.0/spectra/star\n"
     ]
    },
    {
     "name": "stderr",
     "output_type": "stream",
     "text": [
      " 13%|█▎        | 19906/153700 [1:43:55<15:38:04,  2.38it/s]"
     ]
    },
    {
     "name": "stdout",
     "output_type": "stream",
     "text": [
      "File 4401096721 not found in /yngve_data/sdssv/ipl-2/spectro/astra/0.3.0/v6_0_9-1.0/spectra/star\n"
     ]
    },
    {
     "name": "stderr",
     "output_type": "stream",
     "text": [
      " 14%|█▎        | 21005/153700 [1:49:51<16:06:46,  2.29it/s]"
     ]
    },
    {
     "name": "stdout",
     "output_type": "stream",
     "text": [
      "File 4416817098 not found in /yngve_data/sdssv/ipl-2/spectro/astra/0.3.0/v6_0_9-1.0/spectra/star\n"
     ]
    },
    {
     "name": "stderr",
     "output_type": "stream",
     "text": [
      " 14%|█▍        | 22022/153700 [1:55:13<14:45:04,  2.48it/s]"
     ]
    },
    {
     "name": "stdout",
     "output_type": "stream",
     "text": [
      "File 4457300136 not found in /yngve_data/sdssv/ipl-2/spectro/astra/0.3.0/v6_0_9-1.0/spectra/star\n"
     ]
    },
    {
     "name": "stderr",
     "output_type": "stream",
     "text": [
      " 17%|█▋        | 25437/153700 [2:13:50<13:39:47,  2.61it/s]"
     ]
    },
    {
     "name": "stdout",
     "output_type": "stream",
     "text": [
      "File 4512146091 not found in /yngve_data/sdssv/ipl-2/spectro/astra/0.3.0/v6_0_9-1.0/spectra/star\n"
     ]
    },
    {
     "name": "stderr",
     "output_type": "stream",
     "text": [
      " 17%|█▋        | 25467/153700 [2:13:59<15:00:44,  2.37it/s]"
     ]
    },
    {
     "name": "stdout",
     "output_type": "stream",
     "text": [
      "File 4513559913 not found in /yngve_data/sdssv/ipl-2/spectro/astra/0.3.0/v6_0_9-1.0/spectra/star\n"
     ]
    },
    {
     "name": "stderr",
     "output_type": "stream",
     "text": [
      " 17%|█▋        | 25640/153700 [2:14:56<15:12:34,  2.34it/s]"
     ]
    },
    {
     "name": "stdout",
     "output_type": "stream",
     "text": [
      "File 4514078639 not found in /yngve_data/sdssv/ipl-2/spectro/astra/0.3.0/v6_0_9-1.0/spectra/star\n"
     ]
    },
    {
     "name": "stderr",
     "output_type": "stream",
     "text": [
      " 17%|█▋        | 26145/153700 [2:17:50<10:50:21,  3.27it/s]"
     ]
    },
    {
     "name": "stdout",
     "output_type": "stream",
     "text": [
      "File 4519714713 not found in /yngve_data/sdssv/ipl-2/spectro/astra/0.3.0/v6_0_9-1.0/spectra/star\n"
     ]
    },
    {
     "name": "stderr",
     "output_type": "stream",
     "text": [
      " 18%|█▊        | 27836/153700 [2:26:40<11:11:11,  3.13it/s]"
     ]
    },
    {
     "name": "stdout",
     "output_type": "stream",
     "text": [
      "File 4527372656 not found in /yngve_data/sdssv/ipl-2/spectro/astra/0.3.0/v6_0_9-1.0/spectra/star\n"
     ]
    },
    {
     "name": "stderr",
     "output_type": "stream",
     "text": [
      " 19%|█▊        | 28524/153700 [2:30:24<13:27:56,  2.58it/s]"
     ]
    },
    {
     "name": "stdout",
     "output_type": "stream",
     "text": [
      "File 4536744622 not found in /yngve_data/sdssv/ipl-2/spectro/astra/0.3.0/v6_0_9-1.0/spectra/star\n"
     ]
    },
    {
     "name": "stderr",
     "output_type": "stream",
     "text": [
      " 19%|█▊        | 28568/153700 [2:30:38<14:10:33,  2.45it/s]"
     ]
    },
    {
     "name": "stdout",
     "output_type": "stream",
     "text": [
      "File 4536796979 not found in /yngve_data/sdssv/ipl-2/spectro/astra/0.3.0/v6_0_9-1.0/spectra/star\n"
     ]
    },
    {
     "name": "stderr",
     "output_type": "stream",
     "text": [
      " 19%|█▊        | 28581/153700 [2:30:41<11:03:52,  3.14it/s]"
     ]
    },
    {
     "name": "stdout",
     "output_type": "stream",
     "text": [
      "File 4536805160 not found in /yngve_data/sdssv/ipl-2/spectro/astra/0.3.0/v6_0_9-1.0/spectra/star\n"
     ]
    },
    {
     "name": "stderr",
     "output_type": "stream",
     "text": [
      " 21%|██        | 32116/153700 [2:49:33<6:23:45,  5.28it/s] "
     ]
    },
    {
     "name": "stdout",
     "output_type": "stream",
     "text": [
      "File 4546371322 not found in /yngve_data/sdssv/ipl-2/spectro/astra/0.3.0/v6_0_9-1.0/spectra/star\n"
     ]
    },
    {
     "name": "stderr",
     "output_type": "stream",
     "text": [
      " 21%|██        | 32427/153700 [2:51:17<14:21:12,  2.35it/s]"
     ]
    },
    {
     "name": "stdout",
     "output_type": "stream",
     "text": [
      "File 4546826389 not found in /yngve_data/sdssv/ipl-2/spectro/astra/0.3.0/v6_0_9-1.0/spectra/star\n"
     ]
    },
    {
     "name": "stderr",
     "output_type": "stream",
     "text": [
      " 21%|██        | 32565/153700 [2:52:02<9:15:12,  3.64it/s] "
     ]
    },
    {
     "name": "stdout",
     "output_type": "stream",
     "text": [
      "File 4546853317 not found in /yngve_data/sdssv/ipl-2/spectro/astra/0.3.0/v6_0_9-1.0/spectra/star\n"
     ]
    },
    {
     "name": "stderr",
     "output_type": "stream",
     "text": [
      " 22%|██▏       | 33583/153700 [2:57:41<4:30:38,  7.40it/s] "
     ]
    },
    {
     "name": "stdout",
     "output_type": "stream",
     "text": [
      "Traceback (most recent call last):\n",
      "  File \"/home/petershi/miniconda3/envs/SDSSV/lib/python3.11/site-packages/astropy/io/fits/column.py\", line 2142, in _get_index\n",
      "    indx = names.index(key.rstrip())\n",
      "           ^^^^^^^^^^^^^^^^^^^^^^^^^\n",
      "ValueError: 'SNR' is not in list\n",
      "\n",
      "During handling of the above exception, another exception occurred:\n",
      "\n",
      "Traceback (most recent call last):\n",
      "  File \"/tmp/ipykernel_10073/3388262553.py\", line 15, in <module>\n",
      "    cdata = getSDSSVData(cfile)\n",
      "            ^^^^^^^^^^^^^^^^^^^\n",
      "  File \"/tmp/ipykernel_10073/4007893978.py\", line 3, in getSDSSVData\n",
      "    snr = hdul[3].data[\"SNR\"]\n",
      "          ~~~~~~~~~~~~^^^^^^^\n",
      "  File \"/home/petershi/miniconda3/envs/SDSSV/lib/python3.11/site-packages/astropy/io/fits/fitsrec.py\", line 513, in __getitem__\n",
      "    return self.field(key)\n",
      "           ^^^^^^^^^^^^^^^\n",
      "  File \"/home/petershi/miniconda3/envs/SDSSV/lib/python3.11/site-packages/astropy/io/fits/fitsrec.py\", line 695, in field\n",
      "    column = self.columns[key]\n",
      "             ~~~~~~~~~~~~^^^^^\n",
      "  File \"/home/petershi/miniconda3/envs/SDSSV/lib/python3.11/site-packages/astropy/io/fits/column.py\", line 1751, in __getitem__\n",
      "    key = _get_index(self.names, key)\n",
      "          ^^^^^^^^^^^^^^^^^^^^^^^^^^^\n",
      "  File \"/home/petershi/miniconda3/envs/SDSSV/lib/python3.11/site-packages/astropy/io/fits/column.py\", line 2151, in _get_index\n",
      "    raise KeyError(f\"Key '{key}' does not exist.\")\n",
      "KeyError: \"Key 'SNR' does not exist.\"\n",
      "\n"
     ]
    },
    {
     "name": "stderr",
     "output_type": "stream",
     "text": [
      " 22%|██▏       | 33698/153700 [2:58:19<16:53:52,  1.97it/s]"
     ]
    },
    {
     "name": "stdout",
     "output_type": "stream",
     "text": [
      "Traceback (most recent call last):\n",
      "  File \"/home/petershi/miniconda3/envs/SDSSV/lib/python3.11/site-packages/astropy/io/fits/column.py\", line 2142, in _get_index\n",
      "    indx = names.index(key.rstrip())\n",
      "           ^^^^^^^^^^^^^^^^^^^^^^^^^\n",
      "ValueError: 'SNR' is not in list\n",
      "\n",
      "During handling of the above exception, another exception occurred:\n",
      "\n",
      "Traceback (most recent call last):\n",
      "  File \"/tmp/ipykernel_10073/3388262553.py\", line 15, in <module>\n",
      "    cdata = getSDSSVData(cfile)\n",
      "            ^^^^^^^^^^^^^^^^^^^\n",
      "  File \"/tmp/ipykernel_10073/4007893978.py\", line 3, in getSDSSVData\n",
      "    snr = hdul[3].data[\"SNR\"]\n",
      "          ~~~~~~~~~~~~^^^^^^^\n",
      "  File \"/home/petershi/miniconda3/envs/SDSSV/lib/python3.11/site-packages/astropy/io/fits/fitsrec.py\", line 513, in __getitem__\n",
      "    return self.field(key)\n",
      "           ^^^^^^^^^^^^^^^\n",
      "  File \"/home/petershi/miniconda3/envs/SDSSV/lib/python3.11/site-packages/astropy/io/fits/fitsrec.py\", line 695, in field\n",
      "    column = self.columns[key]\n",
      "             ~~~~~~~~~~~~^^^^^\n",
      "  File \"/home/petershi/miniconda3/envs/SDSSV/lib/python3.11/site-packages/astropy/io/fits/column.py\", line 1751, in __getitem__\n",
      "    key = _get_index(self.names, key)\n",
      "          ^^^^^^^^^^^^^^^^^^^^^^^^^^^\n",
      "  File \"/home/petershi/miniconda3/envs/SDSSV/lib/python3.11/site-packages/astropy/io/fits/column.py\", line 2151, in _get_index\n",
      "    raise KeyError(f\"Key '{key}' does not exist.\")\n",
      "KeyError: \"Key 'SNR' does not exist.\"\n",
      "\n"
     ]
    },
    {
     "name": "stderr",
     "output_type": "stream",
     "text": [
      " 22%|██▏       | 34522/153700 [3:02:49<8:10:46,  4.05it/s] "
     ]
    },
    {
     "name": "stdout",
     "output_type": "stream",
     "text": [
      "File 4554481515 not found in /yngve_data/sdssv/ipl-2/spectro/astra/0.3.0/v6_0_9-1.0/spectra/star\n"
     ]
    },
    {
     "name": "stderr",
     "output_type": "stream",
     "text": [
      " 23%|██▎       | 35309/153700 [3:06:56<10:51:07,  3.03it/s]"
     ]
    },
    {
     "name": "stdout",
     "output_type": "stream",
     "text": [
      "File 4554913358 not found in /yngve_data/sdssv/ipl-2/spectro/astra/0.3.0/v6_0_9-1.0/spectra/star\n"
     ]
    },
    {
     "name": "stderr",
     "output_type": "stream",
     "text": [
      " 23%|██▎       | 35348/153700 [3:07:12<17:46:56,  1.85it/s]"
     ]
    },
    {
     "name": "stdout",
     "output_type": "stream",
     "text": [
      "File 4555019090 not found in /yngve_data/sdssv/ipl-2/spectro/astra/0.3.0/v6_0_9-1.0/spectra/star\n"
     ]
    },
    {
     "name": "stderr",
     "output_type": "stream",
     "text": [
      " 23%|██▎       | 35359/153700 [3:07:15<7:37:09,  4.31it/s] "
     ]
    },
    {
     "name": "stdout",
     "output_type": "stream",
     "text": [
      "File 4555021105 not found in /yngve_data/sdssv/ipl-2/spectro/astra/0.3.0/v6_0_9-1.0/spectra/star\n"
     ]
    },
    {
     "name": "stderr",
     "output_type": "stream",
     "text": [
      " 23%|██▎       | 35486/153700 [3:07:56<9:10:53,  3.58it/s] "
     ]
    },
    {
     "name": "stdout",
     "output_type": "stream",
     "text": [
      "File 4555042914 not found in /yngve_data/sdssv/ipl-2/spectro/astra/0.3.0/v6_0_9-1.0/spectra/star\n"
     ]
    },
    {
     "name": "stderr",
     "output_type": "stream",
     "text": [
      " 23%|██▎       | 36118/153700 [3:11:26<10:45:46,  3.03it/s]"
     ]
    },
    {
     "name": "stdout",
     "output_type": "stream",
     "text": [
      "File 4555312307 not found in /yngve_data/sdssv/ipl-2/spectro/astra/0.3.0/v6_0_9-1.0/spectra/star\n"
     ]
    },
    {
     "name": "stderr",
     "output_type": "stream",
     "text": [
      " 24%|██▎       | 36183/153700 [3:11:53<17:51:29,  1.83it/s]"
     ]
    },
    {
     "name": "stdout",
     "output_type": "stream",
     "text": [
      "File 4555339658 not found in /yngve_data/sdssv/ipl-2/spectro/astra/0.3.0/v6_0_9-1.0/spectra/star\n"
     ]
    },
    {
     "name": "stderr",
     "output_type": "stream",
     "text": [
      " 24%|██▎       | 36304/153700 [3:12:31<6:29:26,  5.02it/s] "
     ]
    },
    {
     "name": "stdout",
     "output_type": "stream",
     "text": [
      "File 4555361360 not found in /yngve_data/sdssv/ipl-2/spectro/astra/0.3.0/v6_0_9-1.0/spectra/star\n"
     ]
    },
    {
     "name": "stderr",
     "output_type": "stream",
     "text": [
      " 24%|██▎       | 36411/153700 [3:13:05<13:31:32,  2.41it/s]"
     ]
    },
    {
     "name": "stdout",
     "output_type": "stream",
     "text": [
      "File 4555375705 not found in /yngve_data/sdssv/ipl-2/spectro/astra/0.3.0/v6_0_9-1.0/spectra/star\n"
     ]
    },
    {
     "name": "stderr",
     "output_type": "stream",
     "text": [
      " 24%|██▎       | 36412/153700 [3:13:06<14:49:21,  2.20it/s]"
     ]
    },
    {
     "name": "stdout",
     "output_type": "stream",
     "text": [
      "File 4555375711 not found in /yngve_data/sdssv/ipl-2/spectro/astra/0.3.0/v6_0_9-1.0/spectra/star\n"
     ]
    },
    {
     "name": "stderr",
     "output_type": "stream",
     "text": [
      " 24%|██▍       | 36553/153700 [3:13:55<14:40:00,  2.22it/s]"
     ]
    },
    {
     "name": "stdout",
     "output_type": "stream",
     "text": [
      "File 4555488365 not found in /yngve_data/sdssv/ipl-2/spectro/astra/0.3.0/v6_0_9-1.0/spectra/star\n"
     ]
    },
    {
     "name": "stderr",
     "output_type": "stream",
     "text": [
      " 24%|██▍       | 36554/153700 [3:13:55<16:05:15,  2.02it/s]"
     ]
    },
    {
     "name": "stdout",
     "output_type": "stream",
     "text": [
      "File 4555488573 not found in /yngve_data/sdssv/ipl-2/spectro/astra/0.3.0/v6_0_9-1.0/spectra/star\n"
     ]
    },
    {
     "name": "stderr",
     "output_type": "stream",
     "text": [
      " 24%|██▍       | 36555/153700 [3:13:56<16:44:45,  1.94it/s]"
     ]
    },
    {
     "name": "stdout",
     "output_type": "stream",
     "text": [
      "File 4555488577 not found in /yngve_data/sdssv/ipl-2/spectro/astra/0.3.0/v6_0_9-1.0/spectra/star\n"
     ]
    },
    {
     "name": "stderr",
     "output_type": "stream",
     "text": [
      " 24%|██▍       | 36556/153700 [3:13:56<17:12:11,  1.89it/s]"
     ]
    },
    {
     "name": "stdout",
     "output_type": "stream",
     "text": [
      "File 4555488746 not found in /yngve_data/sdssv/ipl-2/spectro/astra/0.3.0/v6_0_9-1.0/spectra/star\n"
     ]
    },
    {
     "name": "stderr",
     "output_type": "stream",
     "text": [
      " 24%|██▍       | 36558/153700 [3:13:58<17:32:51,  1.85it/s]"
     ]
    },
    {
     "name": "stdout",
     "output_type": "stream",
     "text": [
      "File 4555488915 not found in /yngve_data/sdssv/ipl-2/spectro/astra/0.3.0/v6_0_9-1.0/spectra/star\n"
     ]
    },
    {
     "name": "stderr",
     "output_type": "stream",
     "text": [
      " 24%|██▍       | 36559/153700 [3:13:58<17:51:22,  1.82it/s]"
     ]
    },
    {
     "name": "stdout",
     "output_type": "stream",
     "text": [
      "File 4555488931 not found in /yngve_data/sdssv/ipl-2/spectro/astra/0.3.0/v6_0_9-1.0/spectra/star\n"
     ]
    },
    {
     "name": "stderr",
     "output_type": "stream",
     "text": [
      " 24%|██▍       | 36560/153700 [3:13:59<18:21:00,  1.77it/s]"
     ]
    },
    {
     "name": "stdout",
     "output_type": "stream",
     "text": [
      "File 4555488990 not found in /yngve_data/sdssv/ipl-2/spectro/astra/0.3.0/v6_0_9-1.0/spectra/star\n"
     ]
    },
    {
     "name": "stderr",
     "output_type": "stream",
     "text": [
      " 24%|██▍       | 36561/153700 [3:13:59<18:40:48,  1.74it/s]"
     ]
    },
    {
     "name": "stdout",
     "output_type": "stream",
     "text": [
      "File 4555489230 not found in /yngve_data/sdssv/ipl-2/spectro/astra/0.3.0/v6_0_9-1.0/spectra/star\n"
     ]
    },
    {
     "name": "stderr",
     "output_type": "stream",
     "text": [
      " 24%|██▍       | 36562/153700 [3:14:00<19:09:24,  1.70it/s]"
     ]
    },
    {
     "name": "stdout",
     "output_type": "stream",
     "text": [
      "File 4555489293 not found in /yngve_data/sdssv/ipl-2/spectro/astra/0.3.0/v6_0_9-1.0/spectra/star\n"
     ]
    },
    {
     "name": "stderr",
     "output_type": "stream",
     "text": [
      " 24%|██▍       | 36563/153700 [3:14:00<19:06:46,  1.70it/s]"
     ]
    },
    {
     "name": "stdout",
     "output_type": "stream",
     "text": [
      "File 4555489352 not found in /yngve_data/sdssv/ipl-2/spectro/astra/0.3.0/v6_0_9-1.0/spectra/star\n"
     ]
    },
    {
     "name": "stderr",
     "output_type": "stream",
     "text": [
      " 24%|██▍       | 36564/153700 [3:14:01<18:55:36,  1.72it/s]"
     ]
    },
    {
     "name": "stdout",
     "output_type": "stream",
     "text": [
      "File 4555489355 not found in /yngve_data/sdssv/ipl-2/spectro/astra/0.3.0/v6_0_9-1.0/spectra/star\n"
     ]
    },
    {
     "name": "stderr",
     "output_type": "stream",
     "text": [
      " 24%|██▍       | 36565/153700 [3:14:02<18:56:23,  1.72it/s]"
     ]
    },
    {
     "name": "stdout",
     "output_type": "stream",
     "text": [
      "File 4555489415 not found in /yngve_data/sdssv/ipl-2/spectro/astra/0.3.0/v6_0_9-1.0/spectra/star\n"
     ]
    },
    {
     "name": "stderr",
     "output_type": "stream",
     "text": [
      " 24%|██▍       | 36566/153700 [3:14:02<18:52:22,  1.72it/s]"
     ]
    },
    {
     "name": "stdout",
     "output_type": "stream",
     "text": [
      "File 4555489446 not found in /yngve_data/sdssv/ipl-2/spectro/astra/0.3.0/v6_0_9-1.0/spectra/star\n"
     ]
    },
    {
     "name": "stderr",
     "output_type": "stream",
     "text": [
      " 24%|██▍       | 36567/153700 [3:14:03<18:44:25,  1.74it/s]"
     ]
    },
    {
     "name": "stdout",
     "output_type": "stream",
     "text": [
      "File 4555489475 not found in /yngve_data/sdssv/ipl-2/spectro/astra/0.3.0/v6_0_9-1.0/spectra/star\n"
     ]
    },
    {
     "name": "stderr",
     "output_type": "stream",
     "text": [
      " 24%|██▍       | 36568/153700 [3:14:03<18:49:48,  1.73it/s]"
     ]
    },
    {
     "name": "stdout",
     "output_type": "stream",
     "text": [
      "File 4555489610 not found in /yngve_data/sdssv/ipl-2/spectro/astra/0.3.0/v6_0_9-1.0/spectra/star\n"
     ]
    },
    {
     "name": "stderr",
     "output_type": "stream",
     "text": [
      " 24%|██▍       | 36569/153700 [3:14:04<18:41:39,  1.74it/s]"
     ]
    },
    {
     "name": "stdout",
     "output_type": "stream",
     "text": [
      "File 4555489789 not found in /yngve_data/sdssv/ipl-2/spectro/astra/0.3.0/v6_0_9-1.0/spectra/star\n"
     ]
    },
    {
     "name": "stderr",
     "output_type": "stream",
     "text": [
      " 24%|██▍       | 36570/153700 [3:14:05<18:37:11,  1.75it/s]"
     ]
    },
    {
     "name": "stdout",
     "output_type": "stream",
     "text": [
      "File 4555489838 not found in /yngve_data/sdssv/ipl-2/spectro/astra/0.3.0/v6_0_9-1.0/spectra/star\n"
     ]
    },
    {
     "name": "stderr",
     "output_type": "stream",
     "text": [
      " 24%|██▍       | 36571/153700 [3:14:05<18:34:17,  1.75it/s]"
     ]
    },
    {
     "name": "stdout",
     "output_type": "stream",
     "text": [
      "File 4555489893 not found in /yngve_data/sdssv/ipl-2/spectro/astra/0.3.0/v6_0_9-1.0/spectra/star\n"
     ]
    },
    {
     "name": "stderr",
     "output_type": "stream",
     "text": [
      " 24%|██▍       | 36572/153700 [3:14:06<18:36:03,  1.75it/s]"
     ]
    },
    {
     "name": "stdout",
     "output_type": "stream",
     "text": [
      "File 4555489942 not found in /yngve_data/sdssv/ipl-2/spectro/astra/0.3.0/v6_0_9-1.0/spectra/star\n"
     ]
    },
    {
     "name": "stderr",
     "output_type": "stream",
     "text": [
      " 24%|██▍       | 36573/153700 [3:14:06<18:44:56,  1.74it/s]"
     ]
    },
    {
     "name": "stdout",
     "output_type": "stream",
     "text": [
      "File 4555491109 not found in /yngve_data/sdssv/ipl-2/spectro/astra/0.3.0/v6_0_9-1.0/spectra/star\n"
     ]
    },
    {
     "name": "stderr",
     "output_type": "stream",
     "text": [
      " 24%|██▍       | 36574/153700 [3:14:07<18:48:54,  1.73it/s]"
     ]
    },
    {
     "name": "stdout",
     "output_type": "stream",
     "text": [
      "File 4555491873 not found in /yngve_data/sdssv/ipl-2/spectro/astra/0.3.0/v6_0_9-1.0/spectra/star\n"
     ]
    },
    {
     "name": "stderr",
     "output_type": "stream",
     "text": [
      " 24%|██▍       | 36575/153700 [3:14:07<18:42:28,  1.74it/s]"
     ]
    },
    {
     "name": "stdout",
     "output_type": "stream",
     "text": [
      "File 4555491915 not found in /yngve_data/sdssv/ipl-2/spectro/astra/0.3.0/v6_0_9-1.0/spectra/star\n"
     ]
    },
    {
     "name": "stderr",
     "output_type": "stream",
     "text": [
      " 24%|██▍       | 36576/153700 [3:14:08<18:35:18,  1.75it/s]"
     ]
    },
    {
     "name": "stdout",
     "output_type": "stream",
     "text": [
      "File 4555492258 not found in /yngve_data/sdssv/ipl-2/spectro/astra/0.3.0/v6_0_9-1.0/spectra/star\n"
     ]
    },
    {
     "name": "stderr",
     "output_type": "stream",
     "text": [
      " 24%|██▍       | 36594/153700 [3:14:16<17:55:32,  1.81it/s]"
     ]
    },
    {
     "name": "stdout",
     "output_type": "stream",
     "text": [
      "File 4555498669 not found in /yngve_data/sdssv/ipl-2/spectro/astra/0.3.0/v6_0_9-1.0/spectra/star\n"
     ]
    },
    {
     "name": "stderr",
     "output_type": "stream",
     "text": [
      " 24%|██▍       | 36595/153700 [3:14:16<19:03:46,  1.71it/s]"
     ]
    },
    {
     "name": "stdout",
     "output_type": "stream",
     "text": [
      "File 4555498684 not found in /yngve_data/sdssv/ipl-2/spectro/astra/0.3.0/v6_0_9-1.0/spectra/star\n"
     ]
    },
    {
     "name": "stderr",
     "output_type": "stream",
     "text": [
      " 24%|██▍       | 36597/153700 [3:14:18<20:09:40,  1.61it/s]"
     ]
    },
    {
     "name": "stdout",
     "output_type": "stream",
     "text": [
      "File 4555499094 not found in /yngve_data/sdssv/ipl-2/spectro/astra/0.3.0/v6_0_9-1.0/spectra/star\n"
     ]
    },
    {
     "name": "stderr",
     "output_type": "stream",
     "text": [
      " 24%|██▍       | 36598/153700 [3:14:18<20:10:26,  1.61it/s]"
     ]
    },
    {
     "name": "stdout",
     "output_type": "stream",
     "text": [
      "File 4555499416 not found in /yngve_data/sdssv/ipl-2/spectro/astra/0.3.0/v6_0_9-1.0/spectra/star\n"
     ]
    },
    {
     "name": "stderr",
     "output_type": "stream",
     "text": [
      " 24%|██▍       | 36599/153700 [3:14:19<20:37:06,  1.58it/s]"
     ]
    },
    {
     "name": "stdout",
     "output_type": "stream",
     "text": [
      "File 4555499584 not found in /yngve_data/sdssv/ipl-2/spectro/astra/0.3.0/v6_0_9-1.0/spectra/star\n"
     ]
    },
    {
     "name": "stderr",
     "output_type": "stream",
     "text": [
      " 24%|██▍       | 36600/153700 [3:14:20<21:30:04,  1.51it/s]"
     ]
    },
    {
     "name": "stdout",
     "output_type": "stream",
     "text": [
      "File 4555499607 not found in /yngve_data/sdssv/ipl-2/spectro/astra/0.3.0/v6_0_9-1.0/spectra/star\n"
     ]
    },
    {
     "name": "stderr",
     "output_type": "stream",
     "text": [
      " 24%|██▍       | 36601/153700 [3:14:21<22:27:30,  1.45it/s]"
     ]
    },
    {
     "name": "stdout",
     "output_type": "stream",
     "text": [
      "File 4555499930 not found in /yngve_data/sdssv/ipl-2/spectro/astra/0.3.0/v6_0_9-1.0/spectra/star\n"
     ]
    },
    {
     "name": "stderr",
     "output_type": "stream",
     "text": [
      " 24%|██▍       | 36602/153700 [3:14:21<22:02:32,  1.48it/s]"
     ]
    },
    {
     "name": "stdout",
     "output_type": "stream",
     "text": [
      "File 4555500125 not found in /yngve_data/sdssv/ipl-2/spectro/astra/0.3.0/v6_0_9-1.0/spectra/star\n"
     ]
    },
    {
     "name": "stderr",
     "output_type": "stream",
     "text": [
      " 24%|██▍       | 36605/153700 [3:14:22<12:19:28,  2.64it/s]"
     ]
    },
    {
     "name": "stdout",
     "output_type": "stream",
     "text": [
      "File 4555500199 not found in /yngve_data/sdssv/ipl-2/spectro/astra/0.3.0/v6_0_9-1.0/spectra/star\n"
     ]
    },
    {
     "name": "stderr",
     "output_type": "stream",
     "text": [
      " 24%|██▍       | 36624/153700 [3:14:25<8:46:13,  3.71it/s] "
     ]
    },
    {
     "name": "stdout",
     "output_type": "stream",
     "text": [
      "File 4555501967 not found in /yngve_data/sdssv/ipl-2/spectro/astra/0.3.0/v6_0_9-1.0/spectra/star\n"
     ]
    },
    {
     "name": "stderr",
     "output_type": "stream",
     "text": [
      " 24%|██▍       | 36625/153700 [3:14:25<11:25:24,  2.85it/s]"
     ]
    },
    {
     "name": "stdout",
     "output_type": "stream",
     "text": [
      "File 4555502216 not found in /yngve_data/sdssv/ipl-2/spectro/astra/0.3.0/v6_0_9-1.0/spectra/star\n"
     ]
    },
    {
     "name": "stderr",
     "output_type": "stream",
     "text": [
      " 24%|██▍       | 36627/153700 [3:14:26<11:32:02,  2.82it/s]"
     ]
    },
    {
     "name": "stdout",
     "output_type": "stream",
     "text": [
      "File 4555502222 not found in /yngve_data/sdssv/ipl-2/spectro/astra/0.3.0/v6_0_9-1.0/spectra/star\n"
     ]
    },
    {
     "name": "stderr",
     "output_type": "stream",
     "text": [
      " 24%|██▍       | 36632/153700 [3:14:27<10:51:25,  3.00it/s]"
     ]
    },
    {
     "name": "stdout",
     "output_type": "stream",
     "text": [
      "File 4555502843 not found in /yngve_data/sdssv/ipl-2/spectro/astra/0.3.0/v6_0_9-1.0/spectra/star\n"
     ]
    },
    {
     "name": "stderr",
     "output_type": "stream",
     "text": [
      " 24%|██▍       | 36633/153700 [3:14:28<13:15:04,  2.45it/s]"
     ]
    },
    {
     "name": "stdout",
     "output_type": "stream",
     "text": [
      "File 4555502962 not found in /yngve_data/sdssv/ipl-2/spectro/astra/0.3.0/v6_0_9-1.0/spectra/star\n"
     ]
    },
    {
     "name": "stderr",
     "output_type": "stream",
     "text": [
      " 24%|██▍       | 36634/153700 [3:14:28<15:15:00,  2.13it/s]"
     ]
    },
    {
     "name": "stdout",
     "output_type": "stream",
     "text": [
      "File 4555502968 not found in /yngve_data/sdssv/ipl-2/spectro/astra/0.3.0/v6_0_9-1.0/spectra/star\n"
     ]
    },
    {
     "name": "stderr",
     "output_type": "stream",
     "text": [
      " 24%|██▍       | 36635/153700 [3:14:29<16:24:41,  1.98it/s]"
     ]
    },
    {
     "name": "stdout",
     "output_type": "stream",
     "text": [
      "File 4555503491 not found in /yngve_data/sdssv/ipl-2/spectro/astra/0.3.0/v6_0_9-1.0/spectra/star\n"
     ]
    },
    {
     "name": "stderr",
     "output_type": "stream",
     "text": [
      " 24%|██▍       | 36636/153700 [3:14:30<17:04:09,  1.91it/s]"
     ]
    },
    {
     "name": "stdout",
     "output_type": "stream",
     "text": [
      "File 4555503539 not found in /yngve_data/sdssv/ipl-2/spectro/astra/0.3.0/v6_0_9-1.0/spectra/star\n"
     ]
    },
    {
     "name": "stderr",
     "output_type": "stream",
     "text": [
      " 24%|██▍       | 36637/153700 [3:14:30<17:19:42,  1.88it/s]"
     ]
    },
    {
     "name": "stdout",
     "output_type": "stream",
     "text": [
      "File 4555503610 not found in /yngve_data/sdssv/ipl-2/spectro/astra/0.3.0/v6_0_9-1.0/spectra/star\n"
     ]
    },
    {
     "name": "stderr",
     "output_type": "stream",
     "text": [
      " 24%|██▍       | 36638/153700 [3:14:31<17:38:12,  1.84it/s]"
     ]
    },
    {
     "name": "stdout",
     "output_type": "stream",
     "text": [
      "File 4555503644 not found in /yngve_data/sdssv/ipl-2/spectro/astra/0.3.0/v6_0_9-1.0/spectra/star\n"
     ]
    },
    {
     "name": "stderr",
     "output_type": "stream",
     "text": [
      " 24%|██▍       | 36639/153700 [3:14:31<17:57:25,  1.81it/s]"
     ]
    },
    {
     "name": "stdout",
     "output_type": "stream",
     "text": [
      "File 4555503654 not found in /yngve_data/sdssv/ipl-2/spectro/astra/0.3.0/v6_0_9-1.0/spectra/star\n"
     ]
    },
    {
     "name": "stderr",
     "output_type": "stream",
     "text": [
      " 24%|██▍       | 36640/153700 [3:14:32<18:04:47,  1.80it/s]"
     ]
    },
    {
     "name": "stdout",
     "output_type": "stream",
     "text": [
      "File 4555503674 not found in /yngve_data/sdssv/ipl-2/spectro/astra/0.3.0/v6_0_9-1.0/spectra/star\n"
     ]
    },
    {
     "name": "stderr",
     "output_type": "stream",
     "text": [
      " 24%|██▍       | 36641/153700 [3:14:32<18:11:12,  1.79it/s]"
     ]
    },
    {
     "name": "stdout",
     "output_type": "stream",
     "text": [
      "File 4555503717 not found in /yngve_data/sdssv/ipl-2/spectro/astra/0.3.0/v6_0_9-1.0/spectra/star\n"
     ]
    },
    {
     "name": "stderr",
     "output_type": "stream",
     "text": [
      " 24%|██▍       | 36642/153700 [3:14:33<18:34:15,  1.75it/s]"
     ]
    },
    {
     "name": "stdout",
     "output_type": "stream",
     "text": [
      "File 4555503782 not found in /yngve_data/sdssv/ipl-2/spectro/astra/0.3.0/v6_0_9-1.0/spectra/star\n"
     ]
    },
    {
     "name": "stderr",
     "output_type": "stream",
     "text": [
      " 24%|██▍       | 36643/153700 [3:14:34<18:25:51,  1.76it/s]"
     ]
    },
    {
     "name": "stdout",
     "output_type": "stream",
     "text": [
      "File 4555503812 not found in /yngve_data/sdssv/ipl-2/spectro/astra/0.3.0/v6_0_9-1.0/spectra/star\n"
     ]
    },
    {
     "name": "stderr",
     "output_type": "stream",
     "text": [
      " 24%|██▍       | 36644/153700 [3:14:34<18:24:11,  1.77it/s]"
     ]
    },
    {
     "name": "stdout",
     "output_type": "stream",
     "text": [
      "File 4555503886 not found in /yngve_data/sdssv/ipl-2/spectro/astra/0.3.0/v6_0_9-1.0/spectra/star\n"
     ]
    },
    {
     "name": "stderr",
     "output_type": "stream",
     "text": [
      " 24%|██▍       | 36645/153700 [3:14:35<18:32:34,  1.75it/s]"
     ]
    },
    {
     "name": "stdout",
     "output_type": "stream",
     "text": [
      "File 4555503920 not found in /yngve_data/sdssv/ipl-2/spectro/astra/0.3.0/v6_0_9-1.0/spectra/star\n"
     ]
    },
    {
     "name": "stderr",
     "output_type": "stream",
     "text": [
      " 24%|██▍       | 36646/153700 [3:14:35<18:33:33,  1.75it/s]"
     ]
    },
    {
     "name": "stdout",
     "output_type": "stream",
     "text": [
      "File 4555504013 not found in /yngve_data/sdssv/ipl-2/spectro/astra/0.3.0/v6_0_9-1.0/spectra/star\n"
     ]
    },
    {
     "name": "stderr",
     "output_type": "stream",
     "text": [
      " 24%|██▍       | 36652/153700 [3:14:37<13:29:29,  2.41it/s]"
     ]
    },
    {
     "name": "stdout",
     "output_type": "stream",
     "text": [
      "File 4555504745 not found in /yngve_data/sdssv/ipl-2/spectro/astra/0.3.0/v6_0_9-1.0/spectra/star\n"
     ]
    },
    {
     "name": "stderr",
     "output_type": "stream",
     "text": [
      " 24%|██▍       | 36654/153700 [3:14:38<14:15:56,  2.28it/s]"
     ]
    },
    {
     "name": "stdout",
     "output_type": "stream",
     "text": [
      "File 4555504803 not found in /yngve_data/sdssv/ipl-2/spectro/astra/0.3.0/v6_0_9-1.0/spectra/star\n"
     ]
    },
    {
     "name": "stderr",
     "output_type": "stream",
     "text": [
      " 24%|██▍       | 36655/153700 [3:14:39<15:17:44,  2.13it/s]"
     ]
    },
    {
     "name": "stdout",
     "output_type": "stream",
     "text": [
      "File 4555504836 not found in /yngve_data/sdssv/ipl-2/spectro/astra/0.3.0/v6_0_9-1.0/spectra/star\n"
     ]
    },
    {
     "name": "stderr",
     "output_type": "stream",
     "text": [
      " 24%|██▍       | 36656/153700 [3:14:39<16:04:07,  2.02it/s]"
     ]
    },
    {
     "name": "stdout",
     "output_type": "stream",
     "text": [
      "File 4555504917 not found in /yngve_data/sdssv/ipl-2/spectro/astra/0.3.0/v6_0_9-1.0/spectra/star\n"
     ]
    },
    {
     "name": "stderr",
     "output_type": "stream",
     "text": [
      " 24%|██▍       | 36657/153700 [3:14:40<16:43:58,  1.94it/s]"
     ]
    },
    {
     "name": "stdout",
     "output_type": "stream",
     "text": [
      "File 4555504922 not found in /yngve_data/sdssv/ipl-2/spectro/astra/0.3.0/v6_0_9-1.0/spectra/star\n"
     ]
    },
    {
     "name": "stderr",
     "output_type": "stream",
     "text": [
      " 24%|██▍       | 36658/153700 [3:14:41<17:23:35,  1.87it/s]"
     ]
    },
    {
     "name": "stdout",
     "output_type": "stream",
     "text": [
      "File 4555504964 not found in /yngve_data/sdssv/ipl-2/spectro/astra/0.3.0/v6_0_9-1.0/spectra/star\n"
     ]
    },
    {
     "name": "stderr",
     "output_type": "stream",
     "text": [
      " 24%|██▍       | 36659/153700 [3:14:41<17:33:29,  1.85it/s]"
     ]
    },
    {
     "name": "stdout",
     "output_type": "stream",
     "text": [
      "File 4555505229 not found in /yngve_data/sdssv/ipl-2/spectro/astra/0.3.0/v6_0_9-1.0/spectra/star\n"
     ]
    },
    {
     "name": "stderr",
     "output_type": "stream",
     "text": [
      " 24%|██▍       | 36661/153700 [3:14:42<16:28:32,  1.97it/s]"
     ]
    },
    {
     "name": "stdout",
     "output_type": "stream",
     "text": [
      "File 4555505543 not found in /yngve_data/sdssv/ipl-2/spectro/astra/0.3.0/v6_0_9-1.0/spectra/star\n"
     ]
    },
    {
     "name": "stderr",
     "output_type": "stream",
     "text": [
      " 24%|██▍       | 36662/153700 [3:14:43<16:55:36,  1.92it/s]"
     ]
    },
    {
     "name": "stdout",
     "output_type": "stream",
     "text": [
      "File 4555505794 not found in /yngve_data/sdssv/ipl-2/spectro/astra/0.3.0/v6_0_9-1.0/spectra/star\n"
     ]
    },
    {
     "name": "stderr",
     "output_type": "stream",
     "text": [
      " 24%|██▍       | 36663/153700 [3:14:43<17:20:35,  1.87it/s]"
     ]
    },
    {
     "name": "stdout",
     "output_type": "stream",
     "text": [
      "File 4555505809 not found in /yngve_data/sdssv/ipl-2/spectro/astra/0.3.0/v6_0_9-1.0/spectra/star\n"
     ]
    },
    {
     "name": "stderr",
     "output_type": "stream",
     "text": [
      " 24%|██▍       | 36664/153700 [3:14:44<17:28:53,  1.86it/s]"
     ]
    },
    {
     "name": "stdout",
     "output_type": "stream",
     "text": [
      "File 4555505829 not found in /yngve_data/sdssv/ipl-2/spectro/astra/0.3.0/v6_0_9-1.0/spectra/star\n"
     ]
    },
    {
     "name": "stderr",
     "output_type": "stream",
     "text": [
      " 24%|██▍       | 36665/153700 [3:14:44<17:47:47,  1.83it/s]"
     ]
    },
    {
     "name": "stdout",
     "output_type": "stream",
     "text": [
      "File 4555505902 not found in /yngve_data/sdssv/ipl-2/spectro/astra/0.3.0/v6_0_9-1.0/spectra/star\n"
     ]
    },
    {
     "name": "stderr",
     "output_type": "stream",
     "text": [
      " 24%|██▍       | 36666/153700 [3:14:45<17:52:06,  1.82it/s]"
     ]
    },
    {
     "name": "stdout",
     "output_type": "stream",
     "text": [
      "File 4555506302 not found in /yngve_data/sdssv/ipl-2/spectro/astra/0.3.0/v6_0_9-1.0/spectra/star\n"
     ]
    },
    {
     "name": "stderr",
     "output_type": "stream",
     "text": [
      " 24%|██▍       | 36667/153700 [3:14:45<18:06:13,  1.80it/s]"
     ]
    },
    {
     "name": "stdout",
     "output_type": "stream",
     "text": [
      "File 4555506402 not found in /yngve_data/sdssv/ipl-2/spectro/astra/0.3.0/v6_0_9-1.0/spectra/star\n"
     ]
    },
    {
     "name": "stderr",
     "output_type": "stream",
     "text": [
      " 24%|██▍       | 36668/153700 [3:14:46<18:09:43,  1.79it/s]"
     ]
    },
    {
     "name": "stdout",
     "output_type": "stream",
     "text": [
      "File 4555506584 not found in /yngve_data/sdssv/ipl-2/spectro/astra/0.3.0/v6_0_9-1.0/spectra/star\n"
     ]
    },
    {
     "name": "stderr",
     "output_type": "stream",
     "text": [
      " 24%|██▍       | 36669/153700 [3:14:46<18:22:02,  1.77it/s]"
     ]
    },
    {
     "name": "stdout",
     "output_type": "stream",
     "text": [
      "File 4555506736 not found in /yngve_data/sdssv/ipl-2/spectro/astra/0.3.0/v6_0_9-1.0/spectra/star\n"
     ]
    },
    {
     "name": "stderr",
     "output_type": "stream",
     "text": [
      " 24%|██▍       | 36670/153700 [3:14:47<18:14:35,  1.78it/s]"
     ]
    },
    {
     "name": "stdout",
     "output_type": "stream",
     "text": [
      "File 4555506834 not found in /yngve_data/sdssv/ipl-2/spectro/astra/0.3.0/v6_0_9-1.0/spectra/star\n"
     ]
    },
    {
     "name": "stderr",
     "output_type": "stream",
     "text": [
      " 24%|██▍       | 36671/153700 [3:14:48<18:26:55,  1.76it/s]"
     ]
    },
    {
     "name": "stdout",
     "output_type": "stream",
     "text": [
      "File 4555506921 not found in /yngve_data/sdssv/ipl-2/spectro/astra/0.3.0/v6_0_9-1.0/spectra/star\n"
     ]
    },
    {
     "name": "stderr",
     "output_type": "stream",
     "text": [
      " 24%|██▍       | 36672/153700 [3:14:48<18:35:17,  1.75it/s]"
     ]
    },
    {
     "name": "stdout",
     "output_type": "stream",
     "text": [
      "File 4555506940 not found in /yngve_data/sdssv/ipl-2/spectro/astra/0.3.0/v6_0_9-1.0/spectra/star\n"
     ]
    },
    {
     "name": "stderr",
     "output_type": "stream",
     "text": [
      " 24%|██▍       | 36673/153700 [3:14:49<18:35:03,  1.75it/s]"
     ]
    },
    {
     "name": "stdout",
     "output_type": "stream",
     "text": [
      "File 4555507004 not found in /yngve_data/sdssv/ipl-2/spectro/astra/0.3.0/v6_0_9-1.0/spectra/star\n"
     ]
    },
    {
     "name": "stderr",
     "output_type": "stream",
     "text": [
      " 24%|██▍       | 36674/153700 [3:14:49<18:42:34,  1.74it/s]"
     ]
    },
    {
     "name": "stdout",
     "output_type": "stream",
     "text": [
      "File 4555507175 not found in /yngve_data/sdssv/ipl-2/spectro/astra/0.3.0/v6_0_9-1.0/spectra/star\n"
     ]
    },
    {
     "name": "stderr",
     "output_type": "stream",
     "text": [
      " 24%|██▍       | 36675/153700 [3:14:50<19:50:35,  1.64it/s]"
     ]
    },
    {
     "name": "stdout",
     "output_type": "stream",
     "text": [
      "File 4555507213 not found in /yngve_data/sdssv/ipl-2/spectro/astra/0.3.0/v6_0_9-1.0/spectra/star\n"
     ]
    },
    {
     "name": "stderr",
     "output_type": "stream",
     "text": [
      " 24%|██▍       | 36676/153700 [3:14:51<20:57:54,  1.55it/s]"
     ]
    },
    {
     "name": "stdout",
     "output_type": "stream",
     "text": [
      "File 4555507298 not found in /yngve_data/sdssv/ipl-2/spectro/astra/0.3.0/v6_0_9-1.0/spectra/star\n"
     ]
    },
    {
     "name": "stderr",
     "output_type": "stream",
     "text": [
      " 24%|██▍       | 36677/153700 [3:14:51<20:30:14,  1.59it/s]"
     ]
    },
    {
     "name": "stdout",
     "output_type": "stream",
     "text": [
      "File 4555507552 not found in /yngve_data/sdssv/ipl-2/spectro/astra/0.3.0/v6_0_9-1.0/spectra/star\n"
     ]
    },
    {
     "name": "stderr",
     "output_type": "stream",
     "text": [
      " 24%|██▍       | 36703/153700 [3:15:02<7:44:45,  4.20it/s] "
     ]
    },
    {
     "name": "stdout",
     "output_type": "stream",
     "text": [
      "File 4555511745 not found in /yngve_data/sdssv/ipl-2/spectro/astra/0.3.0/v6_0_9-1.0/spectra/star\n"
     ]
    },
    {
     "name": "stderr",
     "output_type": "stream",
     "text": [
      " 24%|██▍       | 36706/153700 [3:15:03<9:42:43,  3.35it/s]"
     ]
    },
    {
     "name": "stdout",
     "output_type": "stream",
     "text": [
      "File 4555511990 not found in /yngve_data/sdssv/ipl-2/spectro/astra/0.3.0/v6_0_9-1.0/spectra/star\n"
     ]
    },
    {
     "name": "stderr",
     "output_type": "stream",
     "text": [
      " 24%|██▍       | 36707/153700 [3:15:03<12:16:56,  2.65it/s]"
     ]
    },
    {
     "name": "stdout",
     "output_type": "stream",
     "text": [
      "File 4555512135 not found in /yngve_data/sdssv/ipl-2/spectro/astra/0.3.0/v6_0_9-1.0/spectra/star\n"
     ]
    },
    {
     "name": "stderr",
     "output_type": "stream",
     "text": [
      " 24%|██▍       | 36708/153700 [3:15:04<14:08:31,  2.30it/s]"
     ]
    },
    {
     "name": "stdout",
     "output_type": "stream",
     "text": [
      "File 4555512190 not found in /yngve_data/sdssv/ipl-2/spectro/astra/0.3.0/v6_0_9-1.0/spectra/star\n"
     ]
    },
    {
     "name": "stderr",
     "output_type": "stream",
     "text": [
      " 24%|██▍       | 36709/153700 [3:15:04<15:14:45,  2.13it/s]"
     ]
    },
    {
     "name": "stdout",
     "output_type": "stream",
     "text": [
      "File 4555512368 not found in /yngve_data/sdssv/ipl-2/spectro/astra/0.3.0/v6_0_9-1.0/spectra/star\n"
     ]
    },
    {
     "name": "stderr",
     "output_type": "stream",
     "text": [
      " 24%|██▍       | 36710/153700 [3:15:05<15:59:39,  2.03it/s]"
     ]
    },
    {
     "name": "stdout",
     "output_type": "stream",
     "text": [
      "File 4555512437 not found in /yngve_data/sdssv/ipl-2/spectro/astra/0.3.0/v6_0_9-1.0/spectra/star\n"
     ]
    },
    {
     "name": "stderr",
     "output_type": "stream",
     "text": [
      " 24%|██▍       | 36711/153700 [3:15:05<16:42:30,  1.94it/s]"
     ]
    },
    {
     "name": "stdout",
     "output_type": "stream",
     "text": [
      "File 4555512888 not found in /yngve_data/sdssv/ipl-2/spectro/astra/0.3.0/v6_0_9-1.0/spectra/star\n"
     ]
    },
    {
     "name": "stderr",
     "output_type": "stream",
     "text": [
      " 24%|██▍       | 36712/153700 [3:15:06<17:10:56,  1.89it/s]"
     ]
    },
    {
     "name": "stdout",
     "output_type": "stream",
     "text": [
      "File 4555512946 not found in /yngve_data/sdssv/ipl-2/spectro/astra/0.3.0/v6_0_9-1.0/spectra/star\n"
     ]
    },
    {
     "name": "stderr",
     "output_type": "stream",
     "text": [
      " 24%|██▍       | 36713/153700 [3:15:06<17:31:11,  1.85it/s]"
     ]
    },
    {
     "name": "stdout",
     "output_type": "stream",
     "text": [
      "File 4555513013 not found in /yngve_data/sdssv/ipl-2/spectro/astra/0.3.0/v6_0_9-1.0/spectra/star\n"
     ]
    },
    {
     "name": "stderr",
     "output_type": "stream",
     "text": [
      " 24%|██▍       | 36714/153700 [3:15:07<17:46:00,  1.83it/s]"
     ]
    },
    {
     "name": "stdout",
     "output_type": "stream",
     "text": [
      "File 4555513132 not found in /yngve_data/sdssv/ipl-2/spectro/astra/0.3.0/v6_0_9-1.0/spectra/star\n"
     ]
    },
    {
     "name": "stderr",
     "output_type": "stream",
     "text": [
      " 24%|██▍       | 36715/153700 [3:15:08<17:57:33,  1.81it/s]"
     ]
    },
    {
     "name": "stdout",
     "output_type": "stream",
     "text": [
      "File 4555513255 not found in /yngve_data/sdssv/ipl-2/spectro/astra/0.3.0/v6_0_9-1.0/spectra/star\n"
     ]
    },
    {
     "name": "stderr",
     "output_type": "stream",
     "text": [
      " 24%|██▍       | 36716/153700 [3:15:08<17:58:12,  1.81it/s]"
     ]
    },
    {
     "name": "stdout",
     "output_type": "stream",
     "text": [
      "File 4555513281 not found in /yngve_data/sdssv/ipl-2/spectro/astra/0.3.0/v6_0_9-1.0/spectra/star\n"
     ]
    },
    {
     "name": "stderr",
     "output_type": "stream",
     "text": [
      " 24%|██▍       | 36717/153700 [3:15:09<18:00:51,  1.80it/s]"
     ]
    },
    {
     "name": "stdout",
     "output_type": "stream",
     "text": [
      "File 4555513326 not found in /yngve_data/sdssv/ipl-2/spectro/astra/0.3.0/v6_0_9-1.0/spectra/star\n"
     ]
    },
    {
     "name": "stderr",
     "output_type": "stream",
     "text": [
      " 24%|██▍       | 36718/153700 [3:15:09<18:08:21,  1.79it/s]"
     ]
    },
    {
     "name": "stdout",
     "output_type": "stream",
     "text": [
      "File 4555513525 not found in /yngve_data/sdssv/ipl-2/spectro/astra/0.3.0/v6_0_9-1.0/spectra/star\n"
     ]
    },
    {
     "name": "stderr",
     "output_type": "stream",
     "text": [
      " 24%|██▍       | 36719/153700 [3:15:10<18:16:02,  1.78it/s]"
     ]
    },
    {
     "name": "stdout",
     "output_type": "stream",
     "text": [
      "File 4555513565 not found in /yngve_data/sdssv/ipl-2/spectro/astra/0.3.0/v6_0_9-1.0/spectra/star\n"
     ]
    },
    {
     "name": "stderr",
     "output_type": "stream",
     "text": [
      " 24%|██▍       | 36720/153700 [3:15:10<18:45:17,  1.73it/s]"
     ]
    },
    {
     "name": "stdout",
     "output_type": "stream",
     "text": [
      "File 4555513834 not found in /yngve_data/sdssv/ipl-2/spectro/astra/0.3.0/v6_0_9-1.0/spectra/star\n"
     ]
    },
    {
     "name": "stderr",
     "output_type": "stream",
     "text": [
      " 24%|██▍       | 36721/153700 [3:15:11<18:29:37,  1.76it/s]"
     ]
    },
    {
     "name": "stdout",
     "output_type": "stream",
     "text": [
      "File 4555514049 not found in /yngve_data/sdssv/ipl-2/spectro/astra/0.3.0/v6_0_9-1.0/spectra/star\n"
     ]
    },
    {
     "name": "stderr",
     "output_type": "stream",
     "text": [
      " 24%|██▍       | 36722/153700 [3:15:12<18:17:32,  1.78it/s]"
     ]
    },
    {
     "name": "stdout",
     "output_type": "stream",
     "text": [
      "File 4555514168 not found in /yngve_data/sdssv/ipl-2/spectro/astra/0.3.0/v6_0_9-1.0/spectra/star\n"
     ]
    },
    {
     "name": "stderr",
     "output_type": "stream",
     "text": [
      " 24%|██▍       | 36723/153700 [3:15:12<18:07:00,  1.79it/s]"
     ]
    },
    {
     "name": "stdout",
     "output_type": "stream",
     "text": [
      "File 4555514818 not found in /yngve_data/sdssv/ipl-2/spectro/astra/0.3.0/v6_0_9-1.0/spectra/star\n"
     ]
    },
    {
     "name": "stderr",
     "output_type": "stream",
     "text": [
      " 24%|██▍       | 36725/153700 [3:15:13<16:58:03,  1.92it/s]"
     ]
    },
    {
     "name": "stdout",
     "output_type": "stream",
     "text": [
      "File 4555515160 not found in /yngve_data/sdssv/ipl-2/spectro/astra/0.3.0/v6_0_9-1.0/spectra/star\n"
     ]
    },
    {
     "name": "stderr",
     "output_type": "stream",
     "text": [
      " 24%|██▍       | 36726/153700 [3:15:14<17:23:42,  1.87it/s]"
     ]
    },
    {
     "name": "stdout",
     "output_type": "stream",
     "text": [
      "File 4555515261 not found in /yngve_data/sdssv/ipl-2/spectro/astra/0.3.0/v6_0_9-1.0/spectra/star\n"
     ]
    },
    {
     "name": "stderr",
     "output_type": "stream",
     "text": [
      " 24%|██▍       | 36727/153700 [3:15:14<17:51:41,  1.82it/s]"
     ]
    },
    {
     "name": "stdout",
     "output_type": "stream",
     "text": [
      "File 4555515525 not found in /yngve_data/sdssv/ipl-2/spectro/astra/0.3.0/v6_0_9-1.0/spectra/star\n"
     ]
    },
    {
     "name": "stderr",
     "output_type": "stream",
     "text": [
      " 24%|██▍       | 36728/153700 [3:15:15<18:18:49,  1.77it/s]"
     ]
    },
    {
     "name": "stdout",
     "output_type": "stream",
     "text": [
      "File 4555515690 not found in /yngve_data/sdssv/ipl-2/spectro/astra/0.3.0/v6_0_9-1.0/spectra/star\n"
     ]
    },
    {
     "name": "stderr",
     "output_type": "stream",
     "text": [
      " 24%|██▍       | 36729/153700 [3:15:15<18:26:19,  1.76it/s]"
     ]
    },
    {
     "name": "stdout",
     "output_type": "stream",
     "text": [
      "File 4555515852 not found in /yngve_data/sdssv/ipl-2/spectro/astra/0.3.0/v6_0_9-1.0/spectra/star\n"
     ]
    },
    {
     "name": "stderr",
     "output_type": "stream",
     "text": [
      " 24%|██▍       | 36730/153700 [3:15:16<18:22:09,  1.77it/s]"
     ]
    },
    {
     "name": "stdout",
     "output_type": "stream",
     "text": [
      "File 4555516127 not found in /yngve_data/sdssv/ipl-2/spectro/astra/0.3.0/v6_0_9-1.0/spectra/star\n"
     ]
    },
    {
     "name": "stderr",
     "output_type": "stream",
     "text": [
      " 24%|██▍       | 36731/153700 [3:15:16<18:33:36,  1.75it/s]"
     ]
    },
    {
     "name": "stdout",
     "output_type": "stream",
     "text": [
      "File 4555516274 not found in /yngve_data/sdssv/ipl-2/spectro/astra/0.3.0/v6_0_9-1.0/spectra/star\n"
     ]
    },
    {
     "name": "stderr",
     "output_type": "stream",
     "text": [
      " 24%|██▍       | 36732/153700 [3:15:17<18:44:30,  1.73it/s]"
     ]
    },
    {
     "name": "stdout",
     "output_type": "stream",
     "text": [
      "File 4555516354 not found in /yngve_data/sdssv/ipl-2/spectro/astra/0.3.0/v6_0_9-1.0/spectra/star\n"
     ]
    },
    {
     "name": "stderr",
     "output_type": "stream",
     "text": [
      " 24%|██▍       | 36733/153700 [3:15:18<18:32:46,  1.75it/s]"
     ]
    },
    {
     "name": "stdout",
     "output_type": "stream",
     "text": [
      "File 4555516536 not found in /yngve_data/sdssv/ipl-2/spectro/astra/0.3.0/v6_0_9-1.0/spectra/star\n"
     ]
    },
    {
     "name": "stderr",
     "output_type": "stream",
     "text": [
      " 24%|██▍       | 36734/153700 [3:15:18<18:30:03,  1.76it/s]"
     ]
    },
    {
     "name": "stdout",
     "output_type": "stream",
     "text": [
      "File 4555516592 not found in /yngve_data/sdssv/ipl-2/spectro/astra/0.3.0/v6_0_9-1.0/spectra/star\n"
     ]
    },
    {
     "name": "stderr",
     "output_type": "stream",
     "text": [
      " 24%|██▍       | 36735/153700 [3:15:19<18:41:01,  1.74it/s]"
     ]
    },
    {
     "name": "stdout",
     "output_type": "stream",
     "text": [
      "File 4555516621 not found in /yngve_data/sdssv/ipl-2/spectro/astra/0.3.0/v6_0_9-1.0/spectra/star\n"
     ]
    },
    {
     "name": "stderr",
     "output_type": "stream",
     "text": [
      " 24%|██▍       | 36736/153700 [3:15:19<18:39:59,  1.74it/s]"
     ]
    },
    {
     "name": "stdout",
     "output_type": "stream",
     "text": [
      "File 4555516669 not found in /yngve_data/sdssv/ipl-2/spectro/astra/0.3.0/v6_0_9-1.0/spectra/star\n"
     ]
    },
    {
     "name": "stderr",
     "output_type": "stream",
     "text": [
      " 24%|██▍       | 36737/153700 [3:15:20<18:34:45,  1.75it/s]"
     ]
    },
    {
     "name": "stdout",
     "output_type": "stream",
     "text": [
      "File 4555516765 not found in /yngve_data/sdssv/ipl-2/spectro/astra/0.3.0/v6_0_9-1.0/spectra/star\n"
     ]
    },
    {
     "name": "stderr",
     "output_type": "stream",
     "text": [
      " 24%|██▍       | 36738/153700 [3:15:20<18:38:25,  1.74it/s]"
     ]
    },
    {
     "name": "stdout",
     "output_type": "stream",
     "text": [
      "File 4555516881 not found in /yngve_data/sdssv/ipl-2/spectro/astra/0.3.0/v6_0_9-1.0/spectra/star\n"
     ]
    },
    {
     "name": "stderr",
     "output_type": "stream",
     "text": [
      " 24%|██▍       | 36739/153700 [3:15:21<18:42:28,  1.74it/s]"
     ]
    },
    {
     "name": "stdout",
     "output_type": "stream",
     "text": [
      "File 4555516904 not found in /yngve_data/sdssv/ipl-2/spectro/astra/0.3.0/v6_0_9-1.0/spectra/star\n"
     ]
    },
    {
     "name": "stderr",
     "output_type": "stream",
     "text": [
      " 24%|██▍       | 36740/153700 [3:15:22<18:49:19,  1.73it/s]"
     ]
    },
    {
     "name": "stdout",
     "output_type": "stream",
     "text": [
      "File 4555516961 not found in /yngve_data/sdssv/ipl-2/spectro/astra/0.3.0/v6_0_9-1.0/spectra/star\n"
     ]
    },
    {
     "name": "stderr",
     "output_type": "stream",
     "text": [
      " 24%|██▍       | 36741/153700 [3:15:22<18:39:14,  1.74it/s]"
     ]
    },
    {
     "name": "stdout",
     "output_type": "stream",
     "text": [
      "File 4555517266 not found in /yngve_data/sdssv/ipl-2/spectro/astra/0.3.0/v6_0_9-1.0/spectra/star\n"
     ]
    },
    {
     "name": "stderr",
     "output_type": "stream",
     "text": [
      " 24%|██▍       | 36743/153700 [3:15:23<17:46:40,  1.83it/s]"
     ]
    },
    {
     "name": "stdout",
     "output_type": "stream",
     "text": [
      "File 4555517722 not found in /yngve_data/sdssv/ipl-2/spectro/astra/0.3.0/v6_0_9-1.0/spectra/star\n"
     ]
    },
    {
     "name": "stderr",
     "output_type": "stream",
     "text": [
      " 24%|██▍       | 36744/153700 [3:15:24<17:52:39,  1.82it/s]"
     ]
    },
    {
     "name": "stdout",
     "output_type": "stream",
     "text": [
      "File 4555517726 not found in /yngve_data/sdssv/ipl-2/spectro/astra/0.3.0/v6_0_9-1.0/spectra/star\n"
     ]
    },
    {
     "name": "stderr",
     "output_type": "stream",
     "text": [
      " 24%|██▍       | 36748/153700 [3:15:26<17:35:13,  1.85it/s]"
     ]
    },
    {
     "name": "stdout",
     "output_type": "stream",
     "text": [
      "File 4555518223 not found in /yngve_data/sdssv/ipl-2/spectro/astra/0.3.0/v6_0_9-1.0/spectra/star\n"
     ]
    },
    {
     "name": "stderr",
     "output_type": "stream",
     "text": [
      " 24%|██▍       | 36749/153700 [3:15:26<17:56:20,  1.81it/s]"
     ]
    },
    {
     "name": "stdout",
     "output_type": "stream",
     "text": [
      "File 4555518289 not found in /yngve_data/sdssv/ipl-2/spectro/astra/0.3.0/v6_0_9-1.0/spectra/star\n"
     ]
    },
    {
     "name": "stderr",
     "output_type": "stream",
     "text": [
      " 24%|██▍       | 36750/153700 [3:15:27<18:01:56,  1.80it/s]"
     ]
    },
    {
     "name": "stdout",
     "output_type": "stream",
     "text": [
      "File 4555518290 not found in /yngve_data/sdssv/ipl-2/spectro/astra/0.3.0/v6_0_9-1.0/spectra/star\n"
     ]
    },
    {
     "name": "stderr",
     "output_type": "stream",
     "text": [
      " 24%|██▍       | 36751/153700 [3:15:28<18:10:55,  1.79it/s]"
     ]
    },
    {
     "name": "stdout",
     "output_type": "stream",
     "text": [
      "File 4555518543 not found in /yngve_data/sdssv/ipl-2/spectro/astra/0.3.0/v6_0_9-1.0/spectra/star\n"
     ]
    },
    {
     "name": "stderr",
     "output_type": "stream",
     "text": [
      " 24%|██▍       | 36753/153700 [3:15:29<18:41:46,  1.74it/s]"
     ]
    },
    {
     "name": "stdout",
     "output_type": "stream",
     "text": [
      "File 4555518703 not found in /yngve_data/sdssv/ipl-2/spectro/astra/0.3.0/v6_0_9-1.0/spectra/star\n"
     ]
    },
    {
     "name": "stderr",
     "output_type": "stream",
     "text": [
      " 24%|██▍       | 36754/153700 [3:15:29<18:35:58,  1.75it/s]"
     ]
    },
    {
     "name": "stdout",
     "output_type": "stream",
     "text": [
      "File 4555518978 not found in /yngve_data/sdssv/ipl-2/spectro/astra/0.3.0/v6_0_9-1.0/spectra/star\n"
     ]
    },
    {
     "name": "stderr",
     "output_type": "stream",
     "text": [
      " 24%|██▍       | 36755/153700 [3:15:30<18:43:22,  1.74it/s]"
     ]
    },
    {
     "name": "stdout",
     "output_type": "stream",
     "text": [
      "File 4555519688 not found in /yngve_data/sdssv/ipl-2/spectro/astra/0.3.0/v6_0_9-1.0/spectra/star\n"
     ]
    },
    {
     "name": "stderr",
     "output_type": "stream",
     "text": [
      " 24%|██▍       | 36756/153700 [3:15:31<18:48:19,  1.73it/s]"
     ]
    },
    {
     "name": "stdout",
     "output_type": "stream",
     "text": [
      "File 4555519773 not found in /yngve_data/sdssv/ipl-2/spectro/astra/0.3.0/v6_0_9-1.0/spectra/star\n"
     ]
    },
    {
     "name": "stderr",
     "output_type": "stream",
     "text": [
      " 24%|██▍       | 36757/153700 [3:15:31<18:56:18,  1.72it/s]"
     ]
    },
    {
     "name": "stdout",
     "output_type": "stream",
     "text": [
      "File 4555520279 not found in /yngve_data/sdssv/ipl-2/spectro/astra/0.3.0/v6_0_9-1.0/spectra/star\n"
     ]
    },
    {
     "name": "stderr",
     "output_type": "stream",
     "text": [
      " 24%|██▍       | 36759/153700 [3:15:32<14:21:10,  2.26it/s]"
     ]
    },
    {
     "name": "stdout",
     "output_type": "stream",
     "text": [
      "File 4555520662 not found in /yngve_data/sdssv/ipl-2/spectro/astra/0.3.0/v6_0_9-1.0/spectra/star\n"
     ]
    },
    {
     "name": "stderr",
     "output_type": "stream",
     "text": [
      " 24%|██▍       | 36884/153700 [3:16:18<20:05:25,  1.62it/s]"
     ]
    },
    {
     "name": "stdout",
     "output_type": "stream",
     "text": [
      "File 4555540473 not found in /yngve_data/sdssv/ipl-2/spectro/astra/0.3.0/v6_0_9-1.0/spectra/star\n"
     ]
    },
    {
     "name": "stderr",
     "output_type": "stream",
     "text": [
      " 24%|██▍       | 36885/153700 [3:16:18<19:47:47,  1.64it/s]"
     ]
    },
    {
     "name": "stdout",
     "output_type": "stream",
     "text": [
      "File 4555540510 not found in /yngve_data/sdssv/ipl-2/spectro/astra/0.3.0/v6_0_9-1.0/spectra/star\n"
     ]
    },
    {
     "name": "stderr",
     "output_type": "stream",
     "text": [
      " 24%|██▍       | 36887/153700 [3:16:19<15:30:33,  2.09it/s]"
     ]
    },
    {
     "name": "stdout",
     "output_type": "stream",
     "text": [
      "File 4555541185 not found in /yngve_data/sdssv/ipl-2/spectro/astra/0.3.0/v6_0_9-1.0/spectra/star\n"
     ]
    },
    {
     "name": "stderr",
     "output_type": "stream",
     "text": [
      " 24%|██▍       | 36888/153700 [3:16:19<16:02:14,  2.02it/s]"
     ]
    },
    {
     "name": "stdout",
     "output_type": "stream",
     "text": [
      "File 4555541307 not found in /yngve_data/sdssv/ipl-2/spectro/astra/0.3.0/v6_0_9-1.0/spectra/star\n"
     ]
    },
    {
     "name": "stderr",
     "output_type": "stream",
     "text": [
      " 24%|██▍       | 36889/153700 [3:16:20<16:26:00,  1.97it/s]"
     ]
    },
    {
     "name": "stdout",
     "output_type": "stream",
     "text": [
      "File 4555541397 not found in /yngve_data/sdssv/ipl-2/spectro/astra/0.3.0/v6_0_9-1.0/spectra/star\n"
     ]
    },
    {
     "name": "stderr",
     "output_type": "stream",
     "text": [
      " 24%|██▍       | 36891/153700 [3:16:21<14:17:28,  2.27it/s]"
     ]
    },
    {
     "name": "stdout",
     "output_type": "stream",
     "text": [
      "File 4555541609 not found in /yngve_data/sdssv/ipl-2/spectro/astra/0.3.0/v6_0_9-1.0/spectra/star\n"
     ]
    },
    {
     "name": "stderr",
     "output_type": "stream",
     "text": [
      " 24%|██▍       | 36893/153700 [3:16:22<15:28:30,  2.10it/s]"
     ]
    },
    {
     "name": "stdout",
     "output_type": "stream",
     "text": [
      "File 4555541890 not found in /yngve_data/sdssv/ipl-2/spectro/astra/0.3.0/v6_0_9-1.0/spectra/star\n"
     ]
    },
    {
     "name": "stderr",
     "output_type": "stream",
     "text": [
      " 24%|██▍       | 36895/153700 [3:16:22<13:16:17,  2.44it/s]"
     ]
    },
    {
     "name": "stdout",
     "output_type": "stream",
     "text": [
      "File 4555541913 not found in /yngve_data/sdssv/ipl-2/spectro/astra/0.3.0/v6_0_9-1.0/spectra/star\n"
     ]
    },
    {
     "name": "stderr",
     "output_type": "stream",
     "text": [
      " 24%|██▍       | 36902/153700 [3:16:24<10:38:49,  3.05it/s]"
     ]
    },
    {
     "name": "stdout",
     "output_type": "stream",
     "text": [
      "File 4555543324 not found in /yngve_data/sdssv/ipl-2/spectro/astra/0.3.0/v6_0_9-1.0/spectra/star\n"
     ]
    },
    {
     "name": "stderr",
     "output_type": "stream",
     "text": [
      " 24%|██▍       | 36904/153700 [3:16:25<12:18:02,  2.64it/s]"
     ]
    },
    {
     "name": "stdout",
     "output_type": "stream",
     "text": [
      "File 4555543495 not found in /yngve_data/sdssv/ipl-2/spectro/astra/0.3.0/v6_0_9-1.0/spectra/star\n"
     ]
    },
    {
     "name": "stderr",
     "output_type": "stream",
     "text": [
      " 24%|██▍       | 36905/153700 [3:16:26<14:09:43,  2.29it/s]"
     ]
    },
    {
     "name": "stdout",
     "output_type": "stream",
     "text": [
      "File 4555543516 not found in /yngve_data/sdssv/ipl-2/spectro/astra/0.3.0/v6_0_9-1.0/spectra/star\n"
     ]
    },
    {
     "name": "stderr",
     "output_type": "stream",
     "text": [
      " 24%|██▍       | 36906/153700 [3:16:26<15:29:22,  2.09it/s]"
     ]
    },
    {
     "name": "stdout",
     "output_type": "stream",
     "text": [
      "File 4555543542 not found in /yngve_data/sdssv/ipl-2/spectro/astra/0.3.0/v6_0_9-1.0/spectra/star\n"
     ]
    },
    {
     "name": "stderr",
     "output_type": "stream",
     "text": [
      " 24%|██▍       | 36907/153700 [3:16:27<16:15:17,  2.00it/s]"
     ]
    },
    {
     "name": "stdout",
     "output_type": "stream",
     "text": [
      "File 4555543615 not found in /yngve_data/sdssv/ipl-2/spectro/astra/0.3.0/v6_0_9-1.0/spectra/star\n"
     ]
    },
    {
     "name": "stderr",
     "output_type": "stream",
     "text": [
      " 24%|██▍       | 36908/153700 [3:16:27<16:50:45,  1.93it/s]"
     ]
    },
    {
     "name": "stdout",
     "output_type": "stream",
     "text": [
      "File 4555544381 not found in /yngve_data/sdssv/ipl-2/spectro/astra/0.3.0/v6_0_9-1.0/spectra/star\n"
     ]
    },
    {
     "name": "stderr",
     "output_type": "stream",
     "text": [
      " 24%|██▍       | 36909/153700 [3:16:28<17:25:21,  1.86it/s]"
     ]
    },
    {
     "name": "stdout",
     "output_type": "stream",
     "text": [
      "File 4555544891 not found in /yngve_data/sdssv/ipl-2/spectro/astra/0.3.0/v6_0_9-1.0/spectra/star\n"
     ]
    },
    {
     "name": "stderr",
     "output_type": "stream",
     "text": [
      " 24%|██▍       | 36910/153700 [3:16:28<17:57:58,  1.81it/s]"
     ]
    },
    {
     "name": "stdout",
     "output_type": "stream",
     "text": [
      "File 4555545069 not found in /yngve_data/sdssv/ipl-2/spectro/astra/0.3.0/v6_0_9-1.0/spectra/star\n"
     ]
    },
    {
     "name": "stderr",
     "output_type": "stream",
     "text": [
      " 24%|██▍       | 36911/153700 [3:16:29<18:11:35,  1.78it/s]"
     ]
    },
    {
     "name": "stdout",
     "output_type": "stream",
     "text": [
      "File 4555545100 not found in /yngve_data/sdssv/ipl-2/spectro/astra/0.3.0/v6_0_9-1.0/spectra/star\n"
     ]
    },
    {
     "name": "stderr",
     "output_type": "stream",
     "text": [
      " 24%|██▍       | 36912/153700 [3:16:30<18:30:29,  1.75it/s]"
     ]
    },
    {
     "name": "stdout",
     "output_type": "stream",
     "text": [
      "File 4555545154 not found in /yngve_data/sdssv/ipl-2/spectro/astra/0.3.0/v6_0_9-1.0/spectra/star\n"
     ]
    },
    {
     "name": "stderr",
     "output_type": "stream",
     "text": [
      " 24%|██▍       | 36913/153700 [3:16:30<18:30:20,  1.75it/s]"
     ]
    },
    {
     "name": "stdout",
     "output_type": "stream",
     "text": [
      "File 4555545204 not found in /yngve_data/sdssv/ipl-2/spectro/astra/0.3.0/v6_0_9-1.0/spectra/star\n"
     ]
    },
    {
     "name": "stderr",
     "output_type": "stream",
     "text": [
      " 24%|██▍       | 36914/153700 [3:16:31<18:31:17,  1.75it/s]"
     ]
    },
    {
     "name": "stdout",
     "output_type": "stream",
     "text": [
      "File 4555545304 not found in /yngve_data/sdssv/ipl-2/spectro/astra/0.3.0/v6_0_9-1.0/spectra/star\n"
     ]
    },
    {
     "name": "stderr",
     "output_type": "stream",
     "text": [
      " 24%|██▍       | 36915/153700 [3:16:31<18:32:16,  1.75it/s]"
     ]
    },
    {
     "name": "stdout",
     "output_type": "stream",
     "text": [
      "File 4555545350 not found in /yngve_data/sdssv/ipl-2/spectro/astra/0.3.0/v6_0_9-1.0/spectra/star\n"
     ]
    },
    {
     "name": "stderr",
     "output_type": "stream",
     "text": [
      " 24%|██▍       | 36916/153700 [3:16:32<18:34:27,  1.75it/s]"
     ]
    },
    {
     "name": "stdout",
     "output_type": "stream",
     "text": [
      "File 4555545644 not found in /yngve_data/sdssv/ipl-2/spectro/astra/0.3.0/v6_0_9-1.0/spectra/star\n"
     ]
    },
    {
     "name": "stderr",
     "output_type": "stream",
     "text": [
      " 24%|██▍       | 36917/153700 [3:16:32<18:43:44,  1.73it/s]"
     ]
    },
    {
     "name": "stdout",
     "output_type": "stream",
     "text": [
      "File 4555546015 not found in /yngve_data/sdssv/ipl-2/spectro/astra/0.3.0/v6_0_9-1.0/spectra/star\n"
     ]
    },
    {
     "name": "stderr",
     "output_type": "stream",
     "text": [
      " 24%|██▍       | 36918/153700 [3:16:33<18:40:49,  1.74it/s]"
     ]
    },
    {
     "name": "stdout",
     "output_type": "stream",
     "text": [
      "File 4555546043 not found in /yngve_data/sdssv/ipl-2/spectro/astra/0.3.0/v6_0_9-1.0/spectra/star\n"
     ]
    },
    {
     "name": "stderr",
     "output_type": "stream",
     "text": [
      " 24%|██▍       | 36919/153700 [3:16:34<18:37:58,  1.74it/s]"
     ]
    },
    {
     "name": "stdout",
     "output_type": "stream",
     "text": [
      "File 4555546083 not found in /yngve_data/sdssv/ipl-2/spectro/astra/0.3.0/v6_0_9-1.0/spectra/star\n"
     ]
    },
    {
     "name": "stderr",
     "output_type": "stream",
     "text": [
      " 24%|██▍       | 36920/153700 [3:16:34<18:38:52,  1.74it/s]"
     ]
    },
    {
     "name": "stdout",
     "output_type": "stream",
     "text": [
      "File 4555546176 not found in /yngve_data/sdssv/ipl-2/spectro/astra/0.3.0/v6_0_9-1.0/spectra/star\n"
     ]
    },
    {
     "name": "stderr",
     "output_type": "stream",
     "text": [
      " 24%|██▍       | 36921/153700 [3:16:35<18:36:31,  1.74it/s]"
     ]
    },
    {
     "name": "stdout",
     "output_type": "stream",
     "text": [
      "File 4555546365 not found in /yngve_data/sdssv/ipl-2/spectro/astra/0.3.0/v6_0_9-1.0/spectra/star\n"
     ]
    },
    {
     "name": "stderr",
     "output_type": "stream",
     "text": [
      " 24%|██▍       | 36922/153700 [3:16:35<18:41:53,  1.73it/s]"
     ]
    },
    {
     "name": "stdout",
     "output_type": "stream",
     "text": [
      "File 4555546489 not found in /yngve_data/sdssv/ipl-2/spectro/astra/0.3.0/v6_0_9-1.0/spectra/star\n"
     ]
    },
    {
     "name": "stderr",
     "output_type": "stream",
     "text": [
      " 24%|██▍       | 36923/153700 [3:16:36<18:38:26,  1.74it/s]"
     ]
    },
    {
     "name": "stdout",
     "output_type": "stream",
     "text": [
      "File 4555546738 not found in /yngve_data/sdssv/ipl-2/spectro/astra/0.3.0/v6_0_9-1.0/spectra/star\n"
     ]
    },
    {
     "name": "stderr",
     "output_type": "stream",
     "text": [
      " 24%|██▍       | 36924/153700 [3:16:36<18:33:41,  1.75it/s]"
     ]
    },
    {
     "name": "stdout",
     "output_type": "stream",
     "text": [
      "File 4555547172 not found in /yngve_data/sdssv/ipl-2/spectro/astra/0.3.0/v6_0_9-1.0/spectra/star\n"
     ]
    },
    {
     "name": "stderr",
     "output_type": "stream",
     "text": [
      " 24%|██▍       | 36925/153700 [3:16:37<18:39:52,  1.74it/s]"
     ]
    },
    {
     "name": "stdout",
     "output_type": "stream",
     "text": [
      "File 4555547378 not found in /yngve_data/sdssv/ipl-2/spectro/astra/0.3.0/v6_0_9-1.0/spectra/star\n"
     ]
    },
    {
     "name": "stderr",
     "output_type": "stream",
     "text": [
      " 24%|██▍       | 36926/153700 [3:16:38<18:42:27,  1.73it/s]"
     ]
    },
    {
     "name": "stdout",
     "output_type": "stream",
     "text": [
      "File 4555547419 not found in /yngve_data/sdssv/ipl-2/spectro/astra/0.3.0/v6_0_9-1.0/spectra/star\n"
     ]
    },
    {
     "name": "stderr",
     "output_type": "stream",
     "text": [
      " 24%|██▍       | 36927/153700 [3:16:38<18:35:02,  1.75it/s]"
     ]
    },
    {
     "name": "stdout",
     "output_type": "stream",
     "text": [
      "File 4555547497 not found in /yngve_data/sdssv/ipl-2/spectro/astra/0.3.0/v6_0_9-1.0/spectra/star\n"
     ]
    },
    {
     "name": "stderr",
     "output_type": "stream",
     "text": [
      " 24%|██▍       | 36928/153700 [3:16:39<18:35:25,  1.74it/s]"
     ]
    },
    {
     "name": "stdout",
     "output_type": "stream",
     "text": [
      "File 4555547620 not found in /yngve_data/sdssv/ipl-2/spectro/astra/0.3.0/v6_0_9-1.0/spectra/star\n"
     ]
    },
    {
     "name": "stderr",
     "output_type": "stream",
     "text": [
      " 24%|██▍       | 36929/153700 [3:16:39<18:36:20,  1.74it/s]"
     ]
    },
    {
     "name": "stdout",
     "output_type": "stream",
     "text": [
      "File 4555547670 not found in /yngve_data/sdssv/ipl-2/spectro/astra/0.3.0/v6_0_9-1.0/spectra/star\n"
     ]
    },
    {
     "name": "stderr",
     "output_type": "stream",
     "text": [
      " 24%|██▍       | 36930/153700 [3:16:40<18:36:50,  1.74it/s]"
     ]
    },
    {
     "name": "stdout",
     "output_type": "stream",
     "text": [
      "File 4555547868 not found in /yngve_data/sdssv/ipl-2/spectro/astra/0.3.0/v6_0_9-1.0/spectra/star\n"
     ]
    },
    {
     "name": "stderr",
     "output_type": "stream",
     "text": [
      " 24%|██▍       | 36931/153700 [3:16:40<18:32:14,  1.75it/s]"
     ]
    },
    {
     "name": "stdout",
     "output_type": "stream",
     "text": [
      "File 4555547877 not found in /yngve_data/sdssv/ipl-2/spectro/astra/0.3.0/v6_0_9-1.0/spectra/star\n"
     ]
    },
    {
     "name": "stderr",
     "output_type": "stream",
     "text": [
      " 24%|██▍       | 36932/153700 [3:16:41<18:22:30,  1.77it/s]"
     ]
    },
    {
     "name": "stdout",
     "output_type": "stream",
     "text": [
      "File 4555547926 not found in /yngve_data/sdssv/ipl-2/spectro/astra/0.3.0/v6_0_9-1.0/spectra/star\n"
     ]
    },
    {
     "name": "stderr",
     "output_type": "stream",
     "text": [
      " 24%|██▍       | 36933/153700 [3:16:42<18:29:53,  1.75it/s]"
     ]
    },
    {
     "name": "stdout",
     "output_type": "stream",
     "text": [
      "File 4555547950 not found in /yngve_data/sdssv/ipl-2/spectro/astra/0.3.0/v6_0_9-1.0/spectra/star\n"
     ]
    },
    {
     "name": "stderr",
     "output_type": "stream",
     "text": [
      " 24%|██▍       | 36934/153700 [3:16:42<18:32:22,  1.75it/s]"
     ]
    },
    {
     "name": "stdout",
     "output_type": "stream",
     "text": [
      "File 4555548011 not found in /yngve_data/sdssv/ipl-2/spectro/astra/0.3.0/v6_0_9-1.0/spectra/star\n"
     ]
    },
    {
     "name": "stderr",
     "output_type": "stream",
     "text": [
      " 24%|██▍       | 36962/153700 [3:16:50<9:15:40,  3.50it/s] "
     ]
    },
    {
     "name": "stdout",
     "output_type": "stream",
     "text": [
      "File 4555553088 not found in /yngve_data/sdssv/ipl-2/spectro/astra/0.3.0/v6_0_9-1.0/spectra/star\n"
     ]
    },
    {
     "name": "stderr",
     "output_type": "stream",
     "text": [
      " 24%|██▍       | 37194/153700 [3:18:05<10:33:47,  3.06it/s]"
     ]
    },
    {
     "name": "stdout",
     "output_type": "stream",
     "text": [
      "File 4555693696 not found in /yngve_data/sdssv/ipl-2/spectro/astra/0.3.0/v6_0_9-1.0/spectra/star\n"
     ]
    },
    {
     "name": "stderr",
     "output_type": "stream",
     "text": [
      " 24%|██▍       | 37257/153700 [3:18:26<16:50:20,  1.92it/s]"
     ]
    },
    {
     "name": "stdout",
     "output_type": "stream",
     "text": [
      "File 4555718072 not found in /yngve_data/sdssv/ipl-2/spectro/astra/0.3.0/v6_0_9-1.0/spectra/star\n"
     ]
    },
    {
     "name": "stderr",
     "output_type": "stream",
     "text": [
      " 25%|██▍       | 38254/153700 [3:23:49<9:22:06,  3.42it/s] "
     ]
    },
    {
     "name": "stdout",
     "output_type": "stream",
     "text": [
      "File 4589583077 not found in /yngve_data/sdssv/ipl-2/spectro/astra/0.3.0/v6_0_9-1.0/spectra/star\n"
     ]
    },
    {
     "name": "stderr",
     "output_type": "stream",
     "text": [
      " 25%|██▌       | 38787/153700 [3:26:48<5:41:29,  5.61it/s] "
     ]
    },
    {
     "name": "stdout",
     "output_type": "stream",
     "text": [
      "File 4592550724 not found in /yngve_data/sdssv/ipl-2/spectro/astra/0.3.0/v6_0_9-1.0/spectra/star\n"
     ]
    },
    {
     "name": "stderr",
     "output_type": "stream",
     "text": [
      " 27%|██▋       | 41082/153700 [3:39:50<5:13:19,  5.99it/s] "
     ]
    },
    {
     "name": "stdout",
     "output_type": "stream",
     "text": [
      "File 4597241110 not found in /yngve_data/sdssv/ipl-2/spectro/astra/0.3.0/v6_0_9-1.0/spectra/star\n"
     ]
    },
    {
     "name": "stderr",
     "output_type": "stream",
     "text": [
      " 28%|██▊       | 42416/153700 [3:46:47<16:34:42,  1.86it/s]"
     ]
    },
    {
     "name": "stdout",
     "output_type": "stream",
     "text": [
      "File 4599339365 not found in /yngve_data/sdssv/ipl-2/spectro/astra/0.3.0/v6_0_9-1.0/spectra/star\n"
     ]
    },
    {
     "name": "stderr",
     "output_type": "stream",
     "text": [
      " 29%|██▊       | 44064/153700 [3:55:44<10:54:58,  2.79it/s]"
     ]
    },
    {
     "name": "stdout",
     "output_type": "stream",
     "text": [
      "File 4601876619 not found in /yngve_data/sdssv/ipl-2/spectro/astra/0.3.0/v6_0_9-1.0/spectra/star\n"
     ]
    },
    {
     "name": "stderr",
     "output_type": "stream",
     "text": [
      " 29%|██▊       | 44149/153700 [3:56:05<12:15:24,  2.48it/s]"
     ]
    },
    {
     "name": "stdout",
     "output_type": "stream",
     "text": [
      "File 4601885906 not found in /yngve_data/sdssv/ipl-2/spectro/astra/0.3.0/v6_0_9-1.0/spectra/star\n"
     ]
    },
    {
     "name": "stderr",
     "output_type": "stream",
     "text": [
      " 29%|██▉       | 44354/153700 [3:57:09<14:35:16,  2.08it/s]"
     ]
    },
    {
     "name": "stdout",
     "output_type": "stream",
     "text": [
      "File 4601969907 not found in /yngve_data/sdssv/ipl-2/spectro/astra/0.3.0/v6_0_9-1.0/spectra/star\n"
     ]
    },
    {
     "name": "stderr",
     "output_type": "stream",
     "text": [
      " 30%|██▉       | 45905/153700 [4:04:41<10:10:52,  2.94it/s]"
     ]
    },
    {
     "name": "stdout",
     "output_type": "stream",
     "text": [
      "File 4603874407 not found in /yngve_data/sdssv/ipl-2/spectro/astra/0.3.0/v6_0_9-1.0/spectra/star\n"
     ]
    },
    {
     "name": "stderr",
     "output_type": "stream",
     "text": [
      " 30%|███       | 46272/153700 [4:06:29<8:17:37,  3.60it/s] "
     ]
    },
    {
     "name": "stdout",
     "output_type": "stream",
     "text": [
      "File 4787792316 not found in /yngve_data/sdssv/ipl-2/spectro/astra/0.3.0/v6_0_9-1.0/spectra/star\n"
     ]
    },
    {
     "name": "stderr",
     "output_type": "stream",
     "text": [
      " 31%|███       | 47770/153700 [4:14:38<12:00:30,  2.45it/s]"
     ]
    },
    {
     "name": "stdout",
     "output_type": "stream",
     "text": [
      "File 4875233874 not found in /yngve_data/sdssv/ipl-2/spectro/astra/0.3.0/v6_0_9-1.0/spectra/star\n"
     ]
    },
    {
     "name": "stderr",
     "output_type": "stream",
     "text": [
      " 31%|███▏      | 48409/153700 [4:18:19<12:05:50,  2.42it/s]"
     ]
    },
    {
     "name": "stdout",
     "output_type": "stream",
     "text": [
      "File 5127308725 not found in /yngve_data/sdssv/ipl-2/spectro/astra/0.3.0/v6_0_9-1.0/spectra/star\n"
     ]
    },
    {
     "name": "stderr",
     "output_type": "stream",
     "text": [
      " 32%|███▏      | 49151/153700 [4:22:44<8:10:14,  3.55it/s] "
     ]
    },
    {
     "name": "stdout",
     "output_type": "stream",
     "text": [
      "File 5177686217 not found in /yngve_data/sdssv/ipl-2/spectro/astra/0.3.0/v6_0_9-1.0/spectra/star\n"
     ]
    },
    {
     "name": "stderr",
     "output_type": "stream",
     "text": [
      " 32%|███▏      | 49432/153700 [4:24:24<14:06:31,  2.05it/s]"
     ]
    },
    {
     "name": "stdout",
     "output_type": "stream",
     "text": [
      "File 5178489646 not found in /yngve_data/sdssv/ipl-2/spectro/astra/0.3.0/v6_0_9-1.0/spectra/star\n"
     ]
    },
    {
     "name": "stderr",
     "output_type": "stream",
     "text": [
      " 32%|███▏      | 49470/153700 [4:24:34<11:05:48,  2.61it/s]"
     ]
    },
    {
     "name": "stdout",
     "output_type": "stream",
     "text": [
      "File 5178648101 not found in /yngve_data/sdssv/ipl-2/spectro/astra/0.3.0/v6_0_9-1.0/spectra/star\n"
     ]
    },
    {
     "name": "stderr",
     "output_type": "stream",
     "text": [
      " 33%|███▎      | 50271/153700 [4:28:59<14:31:46,  1.98it/s]"
     ]
    },
    {
     "name": "stdout",
     "output_type": "stream",
     "text": [
      "File 5188648991 not found in /yngve_data/sdssv/ipl-2/spectro/astra/0.3.0/v6_0_9-1.0/spectra/star\n"
     ]
    },
    {
     "name": "stderr",
     "output_type": "stream",
     "text": [
      " 34%|███▎      | 51583/153700 [4:35:18<13:21:31,  2.12it/s]"
     ]
    },
    {
     "name": "stdout",
     "output_type": "stream",
     "text": [
      "File 5201108009 not found in /yngve_data/sdssv/ipl-2/spectro/astra/0.3.0/v6_0_9-1.0/spectra/star\n"
     ]
    },
    {
     "name": "stderr",
     "output_type": "stream",
     "text": [
      " 34%|███▎      | 51609/153700 [4:35:25<9:21:42,  3.03it/s] "
     ]
    },
    {
     "name": "stdout",
     "output_type": "stream",
     "text": [
      "File 5201281542 not found in /yngve_data/sdssv/ipl-2/spectro/astra/0.3.0/v6_0_9-1.0/spectra/star\n"
     ]
    },
    {
     "name": "stderr",
     "output_type": "stream",
     "text": [
      " 34%|███▎      | 51625/153700 [4:35:30<8:00:07,  3.54it/s] "
     ]
    },
    {
     "name": "stdout",
     "output_type": "stream",
     "text": [
      "File 5201349312 not found in /yngve_data/sdssv/ipl-2/spectro/astra/0.3.0/v6_0_9-1.0/spectra/star\n"
     ]
    },
    {
     "name": "stderr",
     "output_type": "stream",
     "text": [
      " 34%|███▍      | 51881/153700 [4:36:49<7:12:50,  3.92it/s] "
     ]
    },
    {
     "name": "stdout",
     "output_type": "stream",
     "text": [
      "File 5238692799 not found in /yngve_data/sdssv/ipl-2/spectro/astra/0.3.0/v6_0_9-1.0/spectra/star\n"
     ]
    },
    {
     "name": "stderr",
     "output_type": "stream",
     "text": [
      " 34%|███▍      | 51889/153700 [4:36:52<10:49:36,  2.61it/s]"
     ]
    },
    {
     "name": "stdout",
     "output_type": "stream",
     "text": [
      "File 5238712295 not found in /yngve_data/sdssv/ipl-2/spectro/astra/0.3.0/v6_0_9-1.0/spectra/star\n"
     ]
    },
    {
     "name": "stderr",
     "output_type": "stream",
     "text": [
      " 34%|███▍      | 52008/153700 [4:37:28<8:29:55,  3.32it/s] "
     ]
    },
    {
     "name": "stdout",
     "output_type": "stream",
     "text": [
      "File 5239946941 not found in /yngve_data/sdssv/ipl-2/spectro/astra/0.3.0/v6_0_9-1.0/spectra/star\n"
     ]
    },
    {
     "name": "stderr",
     "output_type": "stream",
     "text": [
      " 34%|███▍      | 52117/153700 [4:38:00<10:54:12,  2.59it/s]"
     ]
    },
    {
     "name": "stdout",
     "output_type": "stream",
     "text": [
      "File 5241586768 not found in /yngve_data/sdssv/ipl-2/spectro/astra/0.3.0/v6_0_9-1.0/spectra/star\n"
     ]
    },
    {
     "name": "stderr",
     "output_type": "stream",
     "text": [
      " 34%|███▍      | 52481/153700 [4:39:57<10:45:10,  2.61it/s]"
     ]
    },
    {
     "name": "stdout",
     "output_type": "stream",
     "text": [
      "File 5277987455 not found in /yngve_data/sdssv/ipl-2/spectro/astra/0.3.0/v6_0_9-1.0/spectra/star\n"
     ]
    },
    {
     "name": "stderr",
     "output_type": "stream",
     "text": [
      " 34%|███▍      | 52539/153700 [4:40:14<7:44:41,  3.63it/s] "
     ]
    },
    {
     "name": "stdout",
     "output_type": "stream",
     "text": [
      "File 5282476515 not found in /yngve_data/sdssv/ipl-2/spectro/astra/0.3.0/v6_0_9-1.0/spectra/star\n"
     ]
    },
    {
     "name": "stderr",
     "output_type": "stream",
     "text": [
      " 34%|███▍      | 52590/153700 [4:40:32<12:34:28,  2.23it/s]"
     ]
    },
    {
     "name": "stdout",
     "output_type": "stream",
     "text": [
      "File 5282620064 not found in /yngve_data/sdssv/ipl-2/spectro/astra/0.3.0/v6_0_9-1.0/spectra/star\n"
     ]
    },
    {
     "name": "stderr",
     "output_type": "stream",
     "text": [
      " 34%|███▍      | 52633/153700 [4:40:46<12:36:25,  2.23it/s]"
     ]
    },
    {
     "name": "stdout",
     "output_type": "stream",
     "text": [
      "File 5283479713 not found in /yngve_data/sdssv/ipl-2/spectro/astra/0.3.0/v6_0_9-1.0/spectra/star\n"
     ]
    },
    {
     "name": "stderr",
     "output_type": "stream",
     "text": [
      " 35%|███▌      | 54047/153700 [4:47:48<6:25:07,  4.31it/s] "
     ]
    },
    {
     "name": "stdout",
     "output_type": "stream",
     "text": [
      "File 5333689768 not found in /yngve_data/sdssv/ipl-2/spectro/astra/0.3.0/v6_0_9-1.0/spectra/star\n"
     ]
    },
    {
     "name": "stderr",
     "output_type": "stream",
     "text": [
      " 35%|███▌      | 54505/153700 [4:50:15<10:48:53,  2.55it/s]"
     ]
    },
    {
     "name": "stdout",
     "output_type": "stream",
     "text": [
      "File 5374949845 not found in /yngve_data/sdssv/ipl-2/spectro/astra/0.3.0/v6_0_9-1.0/spectra/star\n"
     ]
    },
    {
     "name": "stderr",
     "output_type": "stream",
     "text": [
      " 35%|███▌      | 54508/153700 [4:50:16<7:56:30,  3.47it/s] "
     ]
    },
    {
     "name": "stdout",
     "output_type": "stream",
     "text": [
      "File 5374951268 not found in /yngve_data/sdssv/ipl-2/spectro/astra/0.3.0/v6_0_9-1.0/spectra/star\n"
     ]
    },
    {
     "name": "stderr",
     "output_type": "stream",
     "text": [
      " 36%|███▌      | 54649/153700 [4:51:01<9:55:48,  2.77it/s] "
     ]
    },
    {
     "name": "stdout",
     "output_type": "stream",
     "text": [
      "File 5388966037 not found in /yngve_data/sdssv/ipl-2/spectro/astra/0.3.0/v6_0_9-1.0/spectra/star\n"
     ]
    },
    {
     "name": "stderr",
     "output_type": "stream",
     "text": [
      " 36%|███▌      | 54978/153700 [4:52:44<10:31:09,  2.61it/s]"
     ]
    },
    {
     "name": "stdout",
     "output_type": "stream",
     "text": [
      "File 5398613022 not found in /yngve_data/sdssv/ipl-2/spectro/astra/0.3.0/v6_0_9-1.0/spectra/star\n"
     ]
    },
    {
     "name": "stderr",
     "output_type": "stream",
     "text": [
      " 36%|███▌      | 55038/153700 [4:53:02<8:54:29,  3.08it/s] "
     ]
    },
    {
     "name": "stdout",
     "output_type": "stream",
     "text": [
      "File 5401273197 not found in /yngve_data/sdssv/ipl-2/spectro/astra/0.3.0/v6_0_9-1.0/spectra/star\n"
     ]
    },
    {
     "name": "stderr",
     "output_type": "stream",
     "text": [
      " 36%|███▌      | 55056/153700 [4:53:08<9:02:29,  3.03it/s] "
     ]
    },
    {
     "name": "stdout",
     "output_type": "stream",
     "text": [
      "File 5407228953 not found in /yngve_data/sdssv/ipl-2/spectro/astra/0.3.0/v6_0_9-1.0/spectra/star\n"
     ]
    },
    {
     "name": "stderr",
     "output_type": "stream",
     "text": [
      " 36%|███▌      | 55323/153700 [4:54:26<11:23:00,  2.40it/s]"
     ]
    },
    {
     "name": "stdout",
     "output_type": "stream",
     "text": [
      "File 27021597768605515 not found in /yngve_data/sdssv/ipl-2/spectro/astra/0.3.0/v6_0_9-1.0/spectra/star\n"
     ]
    },
    {
     "name": "stderr",
     "output_type": "stream",
     "text": [
      " 36%|███▌      | 55377/153700 [4:54:44<9:45:24,  2.80it/s] "
     ]
    },
    {
     "name": "stdout",
     "output_type": "stream",
     "text": [
      "File 27021597768744442 not found in /yngve_data/sdssv/ipl-2/spectro/astra/0.3.0/v6_0_9-1.0/spectra/star\n"
     ]
    },
    {
     "name": "stderr",
     "output_type": "stream",
     "text": [
      " 36%|███▌      | 55428/153700 [4:55:00<11:18:57,  2.41it/s]"
     ]
    },
    {
     "name": "stdout",
     "output_type": "stream",
     "text": [
      "File 27021597769045469 not found in /yngve_data/sdssv/ipl-2/spectro/astra/0.3.0/v6_0_9-1.0/spectra/star\n"
     ]
    },
    {
     "name": "stderr",
     "output_type": "stream",
     "text": [
      " 36%|███▌      | 55471/153700 [4:55:14<10:12:43,  2.67it/s]"
     ]
    },
    {
     "name": "stdout",
     "output_type": "stream",
     "text": [
      "File 27021597769153369 not found in /yngve_data/sdssv/ipl-2/spectro/astra/0.3.0/v6_0_9-1.0/spectra/star\n"
     ]
    },
    {
     "name": "stderr",
     "output_type": "stream",
     "text": [
      " 36%|███▌      | 55648/153700 [4:56:06<8:12:52,  3.32it/s] "
     ]
    },
    {
     "name": "stdout",
     "output_type": "stream",
     "text": [
      "File 27021597775551418 not found in /yngve_data/sdssv/ipl-2/spectro/astra/0.3.0/v6_0_9-1.0/spectra/star\n"
     ]
    },
    {
     "name": "stderr",
     "output_type": "stream",
     "text": [
      " 36%|███▋      | 55782/153700 [4:56:52<12:42:55,  2.14it/s]"
     ]
    },
    {
     "name": "stdout",
     "output_type": "stream",
     "text": [
      "File 27021597776086991 not found in /yngve_data/sdssv/ipl-2/spectro/astra/0.3.0/v6_0_9-1.0/spectra/star\n"
     ]
    },
    {
     "name": "stderr",
     "output_type": "stream",
     "text": [
      " 36%|███▋      | 55833/153700 [4:57:09<14:18:24,  1.90it/s]"
     ]
    },
    {
     "name": "stdout",
     "output_type": "stream",
     "text": [
      "File 27021597780051771 not found in /yngve_data/sdssv/ipl-2/spectro/astra/0.3.0/v6_0_9-1.0/spectra/star\n"
     ]
    },
    {
     "name": "stderr",
     "output_type": "stream",
     "text": [
      " 36%|███▋      | 55834/153700 [4:57:10<14:31:49,  1.87it/s]"
     ]
    },
    {
     "name": "stdout",
     "output_type": "stream",
     "text": [
      "File 27021597780051924 not found in /yngve_data/sdssv/ipl-2/spectro/astra/0.3.0/v6_0_9-1.0/spectra/star\n"
     ]
    },
    {
     "name": "stderr",
     "output_type": "stream",
     "text": [
      " 36%|███▋      | 55892/153700 [4:57:26<11:31:57,  2.36it/s]"
     ]
    },
    {
     "name": "stdout",
     "output_type": "stream",
     "text": [
      "File 27021597780340333 not found in /yngve_data/sdssv/ipl-2/spectro/astra/0.3.0/v6_0_9-1.0/spectra/star\n"
     ]
    },
    {
     "name": "stderr",
     "output_type": "stream",
     "text": [
      " 36%|███▋      | 55894/153700 [4:57:26<9:44:34,  2.79it/s] "
     ]
    },
    {
     "name": "stdout",
     "output_type": "stream",
     "text": [
      "File 27021597780340564 not found in /yngve_data/sdssv/ipl-2/spectro/astra/0.3.0/v6_0_9-1.0/spectra/star\n"
     ]
    },
    {
     "name": "stderr",
     "output_type": "stream",
     "text": [
      " 36%|███▋      | 55895/153700 [4:57:27<11:27:42,  2.37it/s]"
     ]
    },
    {
     "name": "stdout",
     "output_type": "stream",
     "text": [
      "File 27021597780342817 not found in /yngve_data/sdssv/ipl-2/spectro/astra/0.3.0/v6_0_9-1.0/spectra/star\n"
     ]
    },
    {
     "name": "stderr",
     "output_type": "stream",
     "text": [
      " 36%|███▋      | 55915/153700 [4:57:32<8:26:20,  3.22it/s] "
     ]
    },
    {
     "name": "stdout",
     "output_type": "stream",
     "text": [
      "File 27021597780439236 not found in /yngve_data/sdssv/ipl-2/spectro/astra/0.3.0/v6_0_9-1.0/spectra/star\n"
     ]
    },
    {
     "name": "stderr",
     "output_type": "stream",
     "text": [
      " 36%|███▋      | 55951/153700 [4:57:45<13:35:15,  2.00it/s]"
     ]
    },
    {
     "name": "stdout",
     "output_type": "stream",
     "text": [
      "File 27021597780597691 not found in /yngve_data/sdssv/ipl-2/spectro/astra/0.3.0/v6_0_9-1.0/spectra/star\n"
     ]
    },
    {
     "name": "stderr",
     "output_type": "stream",
     "text": [
      " 36%|███▋      | 55971/153700 [4:57:53<11:03:20,  2.46it/s]"
     ]
    },
    {
     "name": "stdout",
     "output_type": "stream",
     "text": [
      "Traceback (most recent call last):\n",
      "  File \"/home/petershi/miniconda3/envs/SDSSV/lib/python3.11/site-packages/astropy/io/fits/column.py\", line 2142, in _get_index\n",
      "    indx = names.index(key.rstrip())\n",
      "           ^^^^^^^^^^^^^^^^^^^^^^^^^\n",
      "ValueError: 'SNR' is not in list\n",
      "\n",
      "During handling of the above exception, another exception occurred:\n",
      "\n",
      "Traceback (most recent call last):\n",
      "  File \"/tmp/ipykernel_10073/3388262553.py\", line 15, in <module>\n",
      "    cdata = getSDSSVData(cfile)\n",
      "            ^^^^^^^^^^^^^^^^^^^\n",
      "  File \"/tmp/ipykernel_10073/4007893978.py\", line 3, in getSDSSVData\n",
      "    snr = hdul[3].data[\"SNR\"]\n",
      "          ~~~~~~~~~~~~^^^^^^^\n",
      "  File \"/home/petershi/miniconda3/envs/SDSSV/lib/python3.11/site-packages/astropy/io/fits/fitsrec.py\", line 513, in __getitem__\n",
      "    return self.field(key)\n",
      "           ^^^^^^^^^^^^^^^\n",
      "  File \"/home/petershi/miniconda3/envs/SDSSV/lib/python3.11/site-packages/astropy/io/fits/fitsrec.py\", line 695, in field\n",
      "    column = self.columns[key]\n",
      "             ~~~~~~~~~~~~^^^^^\n",
      "  File \"/home/petershi/miniconda3/envs/SDSSV/lib/python3.11/site-packages/astropy/io/fits/column.py\", line 1751, in __getitem__\n",
      "    key = _get_index(self.names, key)\n",
      "          ^^^^^^^^^^^^^^^^^^^^^^^^^^^\n",
      "  File \"/home/petershi/miniconda3/envs/SDSSV/lib/python3.11/site-packages/astropy/io/fits/column.py\", line 2151, in _get_index\n",
      "    raise KeyError(f\"Key '{key}' does not exist.\")\n",
      "KeyError: \"Key 'SNR' does not exist.\"\n",
      "\n"
     ]
    },
    {
     "name": "stderr",
     "output_type": "stream",
     "text": [
      " 36%|███▋      | 55982/153700 [4:57:58<10:36:31,  2.56it/s]"
     ]
    },
    {
     "name": "stdout",
     "output_type": "stream",
     "text": [
      "File 27021597780752361 not found in /yngve_data/sdssv/ipl-2/spectro/astra/0.3.0/v6_0_9-1.0/spectra/star\n",
      "Traceback (most recent call last):\n",
      "  File \"/home/petershi/miniconda3/envs/SDSSV/lib/python3.11/site-packages/astropy/io/fits/column.py\", line 2142, in _get_index\n",
      "    indx = names.index(key.rstrip())\n",
      "           ^^^^^^^^^^^^^^^^^^^^^^^^^\n",
      "ValueError: 'SNR' is not in list\n",
      "\n",
      "During handling of the above exception, another exception occurred:\n",
      "\n",
      "Traceback (most recent call last):\n",
      "  File \"/tmp/ipykernel_10073/3388262553.py\", line 15, in <module>\n",
      "    cdata = getSDSSVData(cfile)\n",
      "            ^^^^^^^^^^^^^^^^^^^\n",
      "  File \"/tmp/ipykernel_10073/4007893978.py\", line 3, in getSDSSVData\n",
      "    snr = hdul[3].data[\"SNR\"]\n",
      "          ~~~~~~~~~~~~^^^^^^^\n",
      "  File \"/home/petershi/miniconda3/envs/SDSSV/lib/python3.11/site-packages/astropy/io/fits/fitsrec.py\", line 513, in __getitem__\n",
      "    return self.field(key)\n",
      "           ^^^^^^^^^^^^^^^\n",
      "  File \"/home/petershi/miniconda3/envs/SDSSV/lib/python3.11/site-packages/astropy/io/fits/fitsrec.py\", line 695, in field\n",
      "    column = self.columns[key]\n",
      "             ~~~~~~~~~~~~^^^^^\n",
      "  File \"/home/petershi/miniconda3/envs/SDSSV/lib/python3.11/site-packages/astropy/io/fits/column.py\", line 1751, in __getitem__\n",
      "    key = _get_index(self.names, key)\n",
      "          ^^^^^^^^^^^^^^^^^^^^^^^^^^^\n",
      "  File \"/home/petershi/miniconda3/envs/SDSSV/lib/python3.11/site-packages/astropy/io/fits/column.py\", line 2151, in _get_index\n",
      "    raise KeyError(f\"Key '{key}' does not exist.\")\n",
      "KeyError: \"Key 'SNR' does not exist.\"\n",
      "\n"
     ]
    },
    {
     "name": "stderr",
     "output_type": "stream",
     "text": [
      " 36%|███▋      | 55990/153700 [4:58:00<7:03:54,  3.84it/s] "
     ]
    },
    {
     "name": "stdout",
     "output_type": "stream",
     "text": [
      "Traceback (most recent call last):\n",
      "  File \"/home/petershi/miniconda3/envs/SDSSV/lib/python3.11/site-packages/astropy/io/fits/column.py\", line 2142, in _get_index\n",
      "    indx = names.index(key.rstrip())\n",
      "           ^^^^^^^^^^^^^^^^^^^^^^^^^\n",
      "ValueError: 'SNR' is not in list\n",
      "\n",
      "During handling of the above exception, another exception occurred:\n",
      "\n",
      "Traceback (most recent call last):\n",
      "  File \"/tmp/ipykernel_10073/3388262553.py\", line 15, in <module>\n",
      "    cdata = getSDSSVData(cfile)\n",
      "            ^^^^^^^^^^^^^^^^^^^\n",
      "  File \"/tmp/ipykernel_10073/4007893978.py\", line 3, in getSDSSVData\n",
      "    snr = hdul[3].data[\"SNR\"]\n",
      "          ~~~~~~~~~~~~^^^^^^^\n",
      "  File \"/home/petershi/miniconda3/envs/SDSSV/lib/python3.11/site-packages/astropy/io/fits/fitsrec.py\", line 513, in __getitem__\n",
      "    return self.field(key)\n",
      "           ^^^^^^^^^^^^^^^\n",
      "  File \"/home/petershi/miniconda3/envs/SDSSV/lib/python3.11/site-packages/astropy/io/fits/fitsrec.py\", line 695, in field\n",
      "    column = self.columns[key]\n",
      "             ~~~~~~~~~~~~^^^^^\n",
      "  File \"/home/petershi/miniconda3/envs/SDSSV/lib/python3.11/site-packages/astropy/io/fits/column.py\", line 1751, in __getitem__\n",
      "    key = _get_index(self.names, key)\n",
      "          ^^^^^^^^^^^^^^^^^^^^^^^^^^^\n",
      "  File \"/home/petershi/miniconda3/envs/SDSSV/lib/python3.11/site-packages/astropy/io/fits/column.py\", line 2151, in _get_index\n",
      "    raise KeyError(f\"Key '{key}' does not exist.\")\n",
      "KeyError: \"Key 'SNR' does not exist.\"\n",
      "\n"
     ]
    },
    {
     "name": "stderr",
     "output_type": "stream",
     "text": [
      " 36%|███▋      | 56020/153700 [4:58:09<9:10:39,  2.96it/s] "
     ]
    },
    {
     "name": "stdout",
     "output_type": "stream",
     "text": [
      "Traceback (most recent call last):\n",
      "  File \"/home/petershi/miniconda3/envs/SDSSV/lib/python3.11/site-packages/astropy/io/fits/column.py\", line 2142, in _get_index\n",
      "    indx = names.index(key.rstrip())\n",
      "           ^^^^^^^^^^^^^^^^^^^^^^^^^\n",
      "ValueError: 'SNR' is not in list\n",
      "\n",
      "During handling of the above exception, another exception occurred:\n",
      "\n",
      "Traceback (most recent call last):\n",
      "  File \"/tmp/ipykernel_10073/3388262553.py\", line 15, in <module>\n",
      "    cdata = getSDSSVData(cfile)\n",
      "            ^^^^^^^^^^^^^^^^^^^\n",
      "  File \"/tmp/ipykernel_10073/4007893978.py\", line 3, in getSDSSVData\n",
      "    snr = hdul[3].data[\"SNR\"]\n",
      "          ~~~~~~~~~~~~^^^^^^^\n",
      "  File \"/home/petershi/miniconda3/envs/SDSSV/lib/python3.11/site-packages/astropy/io/fits/fitsrec.py\", line 513, in __getitem__\n",
      "    return self.field(key)\n",
      "           ^^^^^^^^^^^^^^^\n",
      "  File \"/home/petershi/miniconda3/envs/SDSSV/lib/python3.11/site-packages/astropy/io/fits/fitsrec.py\", line 695, in field\n",
      "    column = self.columns[key]\n",
      "             ~~~~~~~~~~~~^^^^^\n",
      "  File \"/home/petershi/miniconda3/envs/SDSSV/lib/python3.11/site-packages/astropy/io/fits/column.py\", line 1751, in __getitem__\n",
      "    key = _get_index(self.names, key)\n",
      "          ^^^^^^^^^^^^^^^^^^^^^^^^^^^\n",
      "  File \"/home/petershi/miniconda3/envs/SDSSV/lib/python3.11/site-packages/astropy/io/fits/column.py\", line 2151, in _get_index\n",
      "    raise KeyError(f\"Key '{key}' does not exist.\")\n",
      "KeyError: \"Key 'SNR' does not exist.\"\n",
      "\n"
     ]
    },
    {
     "name": "stderr",
     "output_type": "stream",
     "text": [
      " 36%|███▋      | 56036/153700 [4:58:14<8:49:59,  3.07it/s]"
     ]
    },
    {
     "name": "stdout",
     "output_type": "stream",
     "text": [
      "Traceback (most recent call last):\n",
      "  File \"/home/petershi/miniconda3/envs/SDSSV/lib/python3.11/site-packages/astropy/io/fits/column.py\", line 2142, in _get_index\n",
      "    indx = names.index(key.rstrip())\n",
      "           ^^^^^^^^^^^^^^^^^^^^^^^^^\n",
      "ValueError: 'SNR' is not in list\n",
      "\n",
      "During handling of the above exception, another exception occurred:\n",
      "\n",
      "Traceback (most recent call last):\n",
      "  File \"/tmp/ipykernel_10073/3388262553.py\", line 15, in <module>\n",
      "    cdata = getSDSSVData(cfile)\n",
      "            ^^^^^^^^^^^^^^^^^^^\n",
      "  File \"/tmp/ipykernel_10073/4007893978.py\", line 3, in getSDSSVData\n",
      "    snr = hdul[3].data[\"SNR\"]\n",
      "          ~~~~~~~~~~~~^^^^^^^\n",
      "  File \"/home/petershi/miniconda3/envs/SDSSV/lib/python3.11/site-packages/astropy/io/fits/fitsrec.py\", line 513, in __getitem__\n",
      "    return self.field(key)\n",
      "           ^^^^^^^^^^^^^^^\n",
      "  File \"/home/petershi/miniconda3/envs/SDSSV/lib/python3.11/site-packages/astropy/io/fits/fitsrec.py\", line 695, in field\n",
      "    column = self.columns[key]\n",
      "             ~~~~~~~~~~~~^^^^^\n",
      "  File \"/home/petershi/miniconda3/envs/SDSSV/lib/python3.11/site-packages/astropy/io/fits/column.py\", line 1751, in __getitem__\n",
      "    key = _get_index(self.names, key)\n",
      "          ^^^^^^^^^^^^^^^^^^^^^^^^^^^\n",
      "  File \"/home/petershi/miniconda3/envs/SDSSV/lib/python3.11/site-packages/astropy/io/fits/column.py\", line 2151, in _get_index\n",
      "    raise KeyError(f\"Key '{key}' does not exist.\")\n",
      "KeyError: \"Key 'SNR' does not exist.\"\n",
      "\n"
     ]
    },
    {
     "name": "stderr",
     "output_type": "stream",
     "text": [
      " 36%|███▋      | 56054/153700 [4:58:20<10:03:17,  2.70it/s]"
     ]
    },
    {
     "name": "stdout",
     "output_type": "stream",
     "text": [
      "File 27021597781171098 not found in /yngve_data/sdssv/ipl-2/spectro/astra/0.3.0/v6_0_9-1.0/spectra/star\n"
     ]
    },
    {
     "name": "stderr",
     "output_type": "stream",
     "text": [
      " 36%|███▋      | 56072/153700 [4:58:26<8:02:54,  3.37it/s] "
     ]
    },
    {
     "name": "stdout",
     "output_type": "stream",
     "text": [
      "Traceback (most recent call last):\n",
      "  File \"/home/petershi/miniconda3/envs/SDSSV/lib/python3.11/site-packages/astropy/io/fits/column.py\", line 2142, in _get_index\n",
      "    indx = names.index(key.rstrip())\n",
      "           ^^^^^^^^^^^^^^^^^^^^^^^^^\n",
      "ValueError: 'SNR' is not in list\n",
      "\n",
      "During handling of the above exception, another exception occurred:\n",
      "\n",
      "Traceback (most recent call last):\n",
      "  File \"/tmp/ipykernel_10073/3388262553.py\", line 15, in <module>\n",
      "    cdata = getSDSSVData(cfile)\n",
      "            ^^^^^^^^^^^^^^^^^^^\n",
      "  File \"/tmp/ipykernel_10073/4007893978.py\", line 3, in getSDSSVData\n",
      "    snr = hdul[3].data[\"SNR\"]\n",
      "          ~~~~~~~~~~~~^^^^^^^\n",
      "  File \"/home/petershi/miniconda3/envs/SDSSV/lib/python3.11/site-packages/astropy/io/fits/fitsrec.py\", line 513, in __getitem__\n",
      "    return self.field(key)\n",
      "           ^^^^^^^^^^^^^^^\n",
      "  File \"/home/petershi/miniconda3/envs/SDSSV/lib/python3.11/site-packages/astropy/io/fits/fitsrec.py\", line 695, in field\n",
      "    column = self.columns[key]\n",
      "             ~~~~~~~~~~~~^^^^^\n",
      "  File \"/home/petershi/miniconda3/envs/SDSSV/lib/python3.11/site-packages/astropy/io/fits/column.py\", line 1751, in __getitem__\n",
      "    key = _get_index(self.names, key)\n",
      "          ^^^^^^^^^^^^^^^^^^^^^^^^^^^\n",
      "  File \"/home/petershi/miniconda3/envs/SDSSV/lib/python3.11/site-packages/astropy/io/fits/column.py\", line 2151, in _get_index\n",
      "    raise KeyError(f\"Key '{key}' does not exist.\")\n",
      "KeyError: \"Key 'SNR' does not exist.\"\n",
      "\n"
     ]
    },
    {
     "name": "stderr",
     "output_type": "stream",
     "text": [
      " 36%|███▋      | 56095/153700 [4:58:33<10:13:07,  2.65it/s]"
     ]
    },
    {
     "name": "stdout",
     "output_type": "stream",
     "text": [
      "File 27021597781418431 not found in /yngve_data/sdssv/ipl-2/spectro/astra/0.3.0/v6_0_9-1.0/spectra/star\n"
     ]
    },
    {
     "name": "stderr",
     "output_type": "stream",
     "text": [
      " 36%|███▋      | 56096/153700 [4:58:34<11:32:10,  2.35it/s]"
     ]
    },
    {
     "name": "stdout",
     "output_type": "stream",
     "text": [
      "File 27021597781421921 not found in /yngve_data/sdssv/ipl-2/spectro/astra/0.3.0/v6_0_9-1.0/spectra/star\n"
     ]
    },
    {
     "name": "stderr",
     "output_type": "stream",
     "text": [
      " 37%|███▋      | 56124/153700 [4:58:44<11:36:21,  2.34it/s]"
     ]
    },
    {
     "name": "stdout",
     "output_type": "stream",
     "text": [
      "File 27021597781528207 not found in /yngve_data/sdssv/ipl-2/spectro/astra/0.3.0/v6_0_9-1.0/spectra/star\n"
     ]
    },
    {
     "name": "stderr",
     "output_type": "stream",
     "text": [
      " 37%|███▋      | 56300/153700 [4:59:36<12:15:05,  2.21it/s]"
     ]
    },
    {
     "name": "stdout",
     "output_type": "stream",
     "text": [
      "File 27021597782436642 not found in /yngve_data/sdssv/ipl-2/spectro/astra/0.3.0/v6_0_9-1.0/spectra/star\n"
     ]
    },
    {
     "name": "stderr",
     "output_type": "stream",
     "text": [
      " 37%|███▋      | 56311/153700 [4:59:40<8:31:22,  3.17it/s] "
     ]
    },
    {
     "name": "stdout",
     "output_type": "stream",
     "text": [
      "File 27021597782464139 not found in /yngve_data/sdssv/ipl-2/spectro/astra/0.3.0/v6_0_9-1.0/spectra/star\n"
     ]
    },
    {
     "name": "stderr",
     "output_type": "stream",
     "text": [
      " 37%|███▋      | 56325/153700 [4:59:44<10:31:03,  2.57it/s]"
     ]
    },
    {
     "name": "stdout",
     "output_type": "stream",
     "text": [
      "Traceback (most recent call last):\n",
      "  File \"/home/petershi/miniconda3/envs/SDSSV/lib/python3.11/site-packages/astropy/io/fits/column.py\", line 2142, in _get_index\n",
      "    indx = names.index(key.rstrip())\n",
      "           ^^^^^^^^^^^^^^^^^^^^^^^^^\n",
      "ValueError: 'SNR' is not in list\n",
      "\n",
      "During handling of the above exception, another exception occurred:\n",
      "\n",
      "Traceback (most recent call last):\n",
      "  File \"/tmp/ipykernel_10073/3388262553.py\", line 15, in <module>\n",
      "    cdata = getSDSSVData(cfile)\n",
      "            ^^^^^^^^^^^^^^^^^^^\n",
      "  File \"/tmp/ipykernel_10073/4007893978.py\", line 3, in getSDSSVData\n",
      "    snr = hdul[3].data[\"SNR\"]\n",
      "          ~~~~~~~~~~~~^^^^^^^\n",
      "  File \"/home/petershi/miniconda3/envs/SDSSV/lib/python3.11/site-packages/astropy/io/fits/fitsrec.py\", line 513, in __getitem__\n",
      "    return self.field(key)\n",
      "           ^^^^^^^^^^^^^^^\n",
      "  File \"/home/petershi/miniconda3/envs/SDSSV/lib/python3.11/site-packages/astropy/io/fits/fitsrec.py\", line 695, in field\n",
      "    column = self.columns[key]\n",
      "             ~~~~~~~~~~~~^^^^^\n",
      "  File \"/home/petershi/miniconda3/envs/SDSSV/lib/python3.11/site-packages/astropy/io/fits/column.py\", line 1751, in __getitem__\n",
      "    key = _get_index(self.names, key)\n",
      "          ^^^^^^^^^^^^^^^^^^^^^^^^^^^\n",
      "  File \"/home/petershi/miniconda3/envs/SDSSV/lib/python3.11/site-packages/astropy/io/fits/column.py\", line 2151, in _get_index\n",
      "    raise KeyError(f\"Key '{key}' does not exist.\")\n",
      "KeyError: \"Key 'SNR' does not exist.\"\n",
      "\n"
     ]
    },
    {
     "name": "stderr",
     "output_type": "stream",
     "text": [
      " 37%|███▋      | 56417/153700 [5:00:17<10:57:28,  2.47it/s]"
     ]
    },
    {
     "name": "stdout",
     "output_type": "stream",
     "text": [
      "File 27021597783163629 not found in /yngve_data/sdssv/ipl-2/spectro/astra/0.3.0/v6_0_9-1.0/spectra/star\n"
     ]
    },
    {
     "name": "stderr",
     "output_type": "stream",
     "text": [
      " 37%|███▋      | 56440/153700 [5:00:26<10:33:01,  2.56it/s]"
     ]
    },
    {
     "name": "stdout",
     "output_type": "stream",
     "text": [
      "File 27021597784136045 not found in /yngve_data/sdssv/ipl-2/spectro/astra/0.3.0/v6_0_9-1.0/spectra/star\n"
     ]
    },
    {
     "name": "stderr",
     "output_type": "stream",
     "text": [
      " 37%|███▋      | 56455/153700 [5:00:30<10:49:41,  2.49it/s]"
     ]
    },
    {
     "name": "stdout",
     "output_type": "stream",
     "text": [
      "File 27021597784202735 not found in /yngve_data/sdssv/ipl-2/spectro/astra/0.3.0/v6_0_9-1.0/spectra/star\n"
     ]
    },
    {
     "name": "stderr",
     "output_type": "stream",
     "text": [
      " 37%|███▋      | 56463/153700 [5:00:34<10:59:58,  2.46it/s]"
     ]
    },
    {
     "name": "stdout",
     "output_type": "stream",
     "text": [
      "File 27021597784225174 not found in /yngve_data/sdssv/ipl-2/spectro/astra/0.3.0/v6_0_9-1.0/spectra/star\n"
     ]
    },
    {
     "name": "stderr",
     "output_type": "stream",
     "text": [
      " 37%|███▋      | 56578/153700 [5:01:11<11:39:05,  2.32it/s]"
     ]
    },
    {
     "name": "stdout",
     "output_type": "stream",
     "text": [
      "File 27021597784563840 not found in /yngve_data/sdssv/ipl-2/spectro/astra/0.3.0/v6_0_9-1.0/spectra/star\n"
     ]
    },
    {
     "name": "stderr",
     "output_type": "stream",
     "text": [
      " 37%|███▋      | 56638/153700 [5:01:33<14:14:30,  1.89it/s]"
     ]
    },
    {
     "name": "stdout",
     "output_type": "stream",
     "text": [
      "File 27021597785112141 not found in /yngve_data/sdssv/ipl-2/spectro/astra/0.3.0/v6_0_9-1.0/spectra/star\n"
     ]
    },
    {
     "name": "stderr",
     "output_type": "stream",
     "text": [
      " 37%|███▋      | 56680/153700 [5:01:49<9:26:17,  2.86it/s] "
     ]
    },
    {
     "name": "stdout",
     "output_type": "stream",
     "text": [
      "File 27021597785279029 not found in /yngve_data/sdssv/ipl-2/spectro/astra/0.3.0/v6_0_9-1.0/spectra/star\n"
     ]
    },
    {
     "name": "stderr",
     "output_type": "stream",
     "text": [
      " 37%|███▋      | 56681/153700 [5:01:49<11:11:56,  2.41it/s]"
     ]
    },
    {
     "name": "stdout",
     "output_type": "stream",
     "text": [
      "File 27021597785285637 not found in /yngve_data/sdssv/ipl-2/spectro/astra/0.3.0/v6_0_9-1.0/spectra/star\n"
     ]
    },
    {
     "name": "stderr",
     "output_type": "stream",
     "text": [
      " 37%|███▋      | 56690/153700 [5:01:52<11:57:26,  2.25it/s]"
     ]
    },
    {
     "name": "stdout",
     "output_type": "stream",
     "text": [
      "File 27021597785361277 not found in /yngve_data/sdssv/ipl-2/spectro/astra/0.3.0/v6_0_9-1.0/spectra/star\n"
     ]
    },
    {
     "name": "stderr",
     "output_type": "stream",
     "text": [
      " 37%|███▋      | 56762/153700 [5:02:17<11:17:42,  2.38it/s]"
     ]
    },
    {
     "name": "stdout",
     "output_type": "stream",
     "text": [
      "File 27021597785682378 not found in /yngve_data/sdssv/ipl-2/spectro/astra/0.3.0/v6_0_9-1.0/spectra/star\n"
     ]
    },
    {
     "name": "stderr",
     "output_type": "stream",
     "text": [
      " 37%|███▋      | 56771/153700 [5:02:20<9:23:20,  2.87it/s] "
     ]
    },
    {
     "name": "stdout",
     "output_type": "stream",
     "text": [
      "File 27021597785710835 not found in /yngve_data/sdssv/ipl-2/spectro/astra/0.3.0/v6_0_9-1.0/spectra/star\n"
     ]
    },
    {
     "name": "stderr",
     "output_type": "stream",
     "text": [
      " 37%|███▋      | 56800/153700 [5:02:31<11:24:05,  2.36it/s]"
     ]
    },
    {
     "name": "stdout",
     "output_type": "stream",
     "text": [
      "File 27021597785855691 not found in /yngve_data/sdssv/ipl-2/spectro/astra/0.3.0/v6_0_9-1.0/spectra/star\n"
     ]
    },
    {
     "name": "stderr",
     "output_type": "stream",
     "text": [
      " 37%|███▋      | 56820/153700 [5:02:39<9:32:50,  2.82it/s] "
     ]
    },
    {
     "name": "stdout",
     "output_type": "stream",
     "text": [
      "File 27021597785904605 not found in /yngve_data/sdssv/ipl-2/spectro/astra/0.3.0/v6_0_9-1.0/spectra/star\n"
     ]
    },
    {
     "name": "stderr",
     "output_type": "stream",
     "text": [
      " 37%|███▋      | 56879/153700 [5:02:59<10:09:44,  2.65it/s]"
     ]
    },
    {
     "name": "stdout",
     "output_type": "stream",
     "text": [
      "File 27021597787293497 not found in /yngve_data/sdssv/ipl-2/spectro/astra/0.3.0/v6_0_9-1.0/spectra/star\n"
     ]
    },
    {
     "name": "stderr",
     "output_type": "stream",
     "text": [
      " 37%|███▋      | 56886/153700 [5:03:01<8:38:08,  3.11it/s] "
     ]
    },
    {
     "name": "stdout",
     "output_type": "stream",
     "text": [
      "File 27021597787305107 not found in /yngve_data/sdssv/ipl-2/spectro/astra/0.3.0/v6_0_9-1.0/spectra/star\n"
     ]
    },
    {
     "name": "stderr",
     "output_type": "stream",
     "text": [
      " 37%|███▋      | 56887/153700 [5:03:01<10:28:38,  2.57it/s]"
     ]
    },
    {
     "name": "stdout",
     "output_type": "stream",
     "text": [
      "File 27021597787306884 not found in /yngve_data/sdssv/ipl-2/spectro/astra/0.3.0/v6_0_9-1.0/spectra/star\n"
     ]
    },
    {
     "name": "stderr",
     "output_type": "stream",
     "text": [
      " 37%|███▋      | 56910/153700 [5:03:09<10:03:26,  2.67it/s]"
     ]
    },
    {
     "name": "stdout",
     "output_type": "stream",
     "text": [
      "File 27021597787366179 not found in /yngve_data/sdssv/ipl-2/spectro/astra/0.3.0/v6_0_9-1.0/spectra/star\n"
     ]
    },
    {
     "name": "stderr",
     "output_type": "stream",
     "text": [
      " 37%|███▋      | 56928/153700 [5:03:15<8:07:50,  3.31it/s] "
     ]
    },
    {
     "name": "stdout",
     "output_type": "stream",
     "text": [
      "File 27021597787429097 not found in /yngve_data/sdssv/ipl-2/spectro/astra/0.3.0/v6_0_9-1.0/spectra/star\n"
     ]
    },
    {
     "name": "stderr",
     "output_type": "stream",
     "text": [
      " 37%|███▋      | 56966/153700 [5:03:28<9:20:11,  2.88it/s] "
     ]
    },
    {
     "name": "stdout",
     "output_type": "stream",
     "text": [
      "File 27021597787498963 not found in /yngve_data/sdssv/ipl-2/spectro/astra/0.3.0/v6_0_9-1.0/spectra/star\n"
     ]
    },
    {
     "name": "stderr",
     "output_type": "stream",
     "text": [
      " 37%|███▋      | 56974/153700 [5:03:32<13:33:49,  1.98it/s]"
     ]
    },
    {
     "name": "stdout",
     "output_type": "stream",
     "text": [
      "File 27021597787511494 not found in /yngve_data/sdssv/ipl-2/spectro/astra/0.3.0/v6_0_9-1.0/spectra/star\n"
     ]
    },
    {
     "name": "stderr",
     "output_type": "stream",
     "text": [
      " 37%|███▋      | 57031/153700 [5:04:01<19:15:26,  1.39it/s]"
     ]
    },
    {
     "name": "stdout",
     "output_type": "stream",
     "text": [
      "File 27021597787630434 not found in /yngve_data/sdssv/ipl-2/spectro/astra/0.3.0/v6_0_9-1.0/spectra/star\n"
     ]
    },
    {
     "name": "stderr",
     "output_type": "stream",
     "text": [
      " 37%|███▋      | 57052/153700 [5:04:09<11:00:48,  2.44it/s]"
     ]
    },
    {
     "name": "stdout",
     "output_type": "stream",
     "text": [
      "File 27021597787656503 not found in /yngve_data/sdssv/ipl-2/spectro/astra/0.3.0/v6_0_9-1.0/spectra/star\n"
     ]
    },
    {
     "name": "stderr",
     "output_type": "stream",
     "text": [
      " 37%|███▋      | 57092/153700 [5:04:23<9:42:32,  2.76it/s] "
     ]
    },
    {
     "name": "stdout",
     "output_type": "stream",
     "text": [
      "File 27021597787708643 not found in /yngve_data/sdssv/ipl-2/spectro/astra/0.3.0/v6_0_9-1.0/spectra/star\n"
     ]
    },
    {
     "name": "stderr",
     "output_type": "stream",
     "text": [
      " 37%|███▋      | 57200/153700 [5:05:03<11:36:42,  2.31it/s]"
     ]
    },
    {
     "name": "stdout",
     "output_type": "stream",
     "text": [
      "File 27021597787949254 not found in /yngve_data/sdssv/ipl-2/spectro/astra/0.3.0/v6_0_9-1.0/spectra/star\n"
     ]
    },
    {
     "name": "stderr",
     "output_type": "stream",
     "text": [
      " 37%|███▋      | 57210/153700 [5:05:09<13:58:59,  1.92it/s]"
     ]
    },
    {
     "name": "stdout",
     "output_type": "stream",
     "text": [
      "File 27021597787963791 not found in /yngve_data/sdssv/ipl-2/spectro/astra/0.3.0/v6_0_9-1.0/spectra/star\n"
     ]
    },
    {
     "name": "stderr",
     "output_type": "stream",
     "text": [
      " 37%|███▋      | 57215/153700 [5:05:11<10:28:41,  2.56it/s]"
     ]
    },
    {
     "name": "stdout",
     "output_type": "stream",
     "text": [
      "File 27021597787973160 not found in /yngve_data/sdssv/ipl-2/spectro/astra/0.3.0/v6_0_9-1.0/spectra/star\n"
     ]
    },
    {
     "name": "stderr",
     "output_type": "stream",
     "text": [
      " 37%|███▋      | 57296/153700 [5:05:44<21:09:50,  1.27it/s]"
     ]
    },
    {
     "name": "stdout",
     "output_type": "stream",
     "text": [
      "File 27021597802248857 not found in /yngve_data/sdssv/ipl-2/spectro/astra/0.3.0/v6_0_9-1.0/spectra/star\n"
     ]
    },
    {
     "name": "stderr",
     "output_type": "stream",
     "text": [
      " 37%|███▋      | 57468/153700 [5:06:45<11:02:20,  2.42it/s]"
     ]
    },
    {
     "name": "stdout",
     "output_type": "stream",
     "text": [
      "File 27021597802594347 not found in /yngve_data/sdssv/ipl-2/spectro/astra/0.3.0/v6_0_9-1.0/spectra/star\n"
     ]
    },
    {
     "name": "stderr",
     "output_type": "stream",
     "text": [
      " 37%|███▋      | 57610/153700 [5:07:33<10:22:46,  2.57it/s]"
     ]
    },
    {
     "name": "stdout",
     "output_type": "stream",
     "text": [
      "File 27021597803076660 not found in /yngve_data/sdssv/ipl-2/spectro/astra/0.3.0/v6_0_9-1.0/spectra/star\n"
     ]
    },
    {
     "name": "stderr",
     "output_type": "stream",
     "text": [
      " 37%|███▋      | 57616/153700 [5:07:35<8:57:26,  2.98it/s] "
     ]
    },
    {
     "name": "stdout",
     "output_type": "stream",
     "text": [
      "File 27021597803082358 not found in /yngve_data/sdssv/ipl-2/spectro/astra/0.3.0/v6_0_9-1.0/spectra/star\n"
     ]
    },
    {
     "name": "stderr",
     "output_type": "stream",
     "text": [
      " 38%|███▊      | 57763/153700 [5:08:31<17:25:55,  1.53it/s]"
     ]
    },
    {
     "name": "stdout",
     "output_type": "stream",
     "text": [
      "File 27021597805783179 not found in /yngve_data/sdssv/ipl-2/spectro/astra/0.3.0/v6_0_9-1.0/spectra/star\n"
     ]
    },
    {
     "name": "stderr",
     "output_type": "stream",
     "text": [
      " 38%|███▊      | 58277/153700 [5:11:37<5:55:29,  4.47it/s] "
     ]
    },
    {
     "name": "stdout",
     "output_type": "stream",
     "text": [
      "Traceback (most recent call last):\n",
      "  File \"/home/petershi/miniconda3/envs/SDSSV/lib/python3.11/site-packages/astropy/io/fits/column.py\", line 2142, in _get_index\n",
      "    indx = names.index(key.rstrip())\n",
      "           ^^^^^^^^^^^^^^^^^^^^^^^^^\n",
      "ValueError: 'SNR' is not in list\n",
      "\n",
      "During handling of the above exception, another exception occurred:\n",
      "\n",
      "Traceback (most recent call last):\n",
      "  File \"/tmp/ipykernel_10073/3388262553.py\", line 15, in <module>\n",
      "    cdata = getSDSSVData(cfile)\n",
      "            ^^^^^^^^^^^^^^^^^^^\n",
      "  File \"/tmp/ipykernel_10073/4007893978.py\", line 3, in getSDSSVData\n",
      "    snr = hdul[3].data[\"SNR\"]\n",
      "          ~~~~~~~~~~~~^^^^^^^\n",
      "  File \"/home/petershi/miniconda3/envs/SDSSV/lib/python3.11/site-packages/astropy/io/fits/fitsrec.py\", line 513, in __getitem__\n",
      "    return self.field(key)\n",
      "           ^^^^^^^^^^^^^^^\n",
      "  File \"/home/petershi/miniconda3/envs/SDSSV/lib/python3.11/site-packages/astropy/io/fits/fitsrec.py\", line 695, in field\n",
      "    column = self.columns[key]\n",
      "             ~~~~~~~~~~~~^^^^^\n",
      "  File \"/home/petershi/miniconda3/envs/SDSSV/lib/python3.11/site-packages/astropy/io/fits/column.py\", line 1751, in __getitem__\n",
      "    key = _get_index(self.names, key)\n",
      "          ^^^^^^^^^^^^^^^^^^^^^^^^^^^\n",
      "  File \"/home/petershi/miniconda3/envs/SDSSV/lib/python3.11/site-packages/astropy/io/fits/column.py\", line 2151, in _get_index\n",
      "    raise KeyError(f\"Key '{key}' does not exist.\")\n",
      "KeyError: \"Key 'SNR' does not exist.\"\n",
      "\n"
     ]
    },
    {
     "name": "stderr",
     "output_type": "stream",
     "text": [
      " 38%|███▊      | 58472/153700 [5:12:52<23:29:43,  1.13it/s]"
     ]
    },
    {
     "name": "stdout",
     "output_type": "stream",
     "text": [
      "File 27021597811821628 not found in /yngve_data/sdssv/ipl-2/spectro/astra/0.3.0/v6_0_9-1.0/spectra/star\n"
     ]
    },
    {
     "name": "stderr",
     "output_type": "stream",
     "text": [
      " 38%|███▊      | 58541/153700 [5:13:13<9:59:14,  2.65it/s] "
     ]
    },
    {
     "name": "stdout",
     "output_type": "stream",
     "text": [
      "Traceback (most recent call last):\n",
      "  File \"/home/petershi/miniconda3/envs/SDSSV/lib/python3.11/site-packages/astropy/io/fits/column.py\", line 2142, in _get_index\n",
      "    indx = names.index(key.rstrip())\n",
      "           ^^^^^^^^^^^^^^^^^^^^^^^^^\n",
      "ValueError: 'SNR' is not in list\n",
      "\n",
      "During handling of the above exception, another exception occurred:\n",
      "\n",
      "Traceback (most recent call last):\n",
      "  File \"/tmp/ipykernel_10073/3388262553.py\", line 15, in <module>\n",
      "    cdata = getSDSSVData(cfile)\n",
      "            ^^^^^^^^^^^^^^^^^^^\n",
      "  File \"/tmp/ipykernel_10073/4007893978.py\", line 3, in getSDSSVData\n",
      "    snr = hdul[3].data[\"SNR\"]\n",
      "          ~~~~~~~~~~~~^^^^^^^\n",
      "  File \"/home/petershi/miniconda3/envs/SDSSV/lib/python3.11/site-packages/astropy/io/fits/fitsrec.py\", line 513, in __getitem__\n",
      "    return self.field(key)\n",
      "           ^^^^^^^^^^^^^^^\n",
      "  File \"/home/petershi/miniconda3/envs/SDSSV/lib/python3.11/site-packages/astropy/io/fits/fitsrec.py\", line 695, in field\n",
      "    column = self.columns[key]\n",
      "             ~~~~~~~~~~~~^^^^^\n",
      "  File \"/home/petershi/miniconda3/envs/SDSSV/lib/python3.11/site-packages/astropy/io/fits/column.py\", line 1751, in __getitem__\n",
      "    key = _get_index(self.names, key)\n",
      "          ^^^^^^^^^^^^^^^^^^^^^^^^^^^\n",
      "  File \"/home/petershi/miniconda3/envs/SDSSV/lib/python3.11/site-packages/astropy/io/fits/column.py\", line 2151, in _get_index\n",
      "    raise KeyError(f\"Key '{key}' does not exist.\")\n",
      "KeyError: \"Key 'SNR' does not exist.\"\n",
      "\n"
     ]
    },
    {
     "name": "stderr",
     "output_type": "stream",
     "text": [
      " 38%|███▊      | 58543/153700 [5:13:14<10:16:52,  2.57it/s]"
     ]
    },
    {
     "name": "stdout",
     "output_type": "stream",
     "text": [
      "Traceback (most recent call last):\n",
      "  File \"/home/petershi/miniconda3/envs/SDSSV/lib/python3.11/site-packages/astropy/io/fits/column.py\", line 2142, in _get_index\n",
      "    indx = names.index(key.rstrip())\n",
      "           ^^^^^^^^^^^^^^^^^^^^^^^^^\n",
      "ValueError: 'SNR' is not in list\n",
      "\n",
      "During handling of the above exception, another exception occurred:\n",
      "\n",
      "Traceback (most recent call last):\n",
      "  File \"/tmp/ipykernel_10073/3388262553.py\", line 15, in <module>\n",
      "    cdata = getSDSSVData(cfile)\n",
      "            ^^^^^^^^^^^^^^^^^^^\n",
      "  File \"/tmp/ipykernel_10073/4007893978.py\", line 3, in getSDSSVData\n",
      "    snr = hdul[3].data[\"SNR\"]\n",
      "          ~~~~~~~~~~~~^^^^^^^\n",
      "  File \"/home/petershi/miniconda3/envs/SDSSV/lib/python3.11/site-packages/astropy/io/fits/fitsrec.py\", line 513, in __getitem__\n",
      "    return self.field(key)\n",
      "           ^^^^^^^^^^^^^^^\n",
      "  File \"/home/petershi/miniconda3/envs/SDSSV/lib/python3.11/site-packages/astropy/io/fits/fitsrec.py\", line 695, in field\n",
      "    column = self.columns[key]\n",
      "             ~~~~~~~~~~~~^^^^^\n",
      "  File \"/home/petershi/miniconda3/envs/SDSSV/lib/python3.11/site-packages/astropy/io/fits/column.py\", line 1751, in __getitem__\n",
      "    key = _get_index(self.names, key)\n",
      "          ^^^^^^^^^^^^^^^^^^^^^^^^^^^\n",
      "  File \"/home/petershi/miniconda3/envs/SDSSV/lib/python3.11/site-packages/astropy/io/fits/column.py\", line 2151, in _get_index\n",
      "    raise KeyError(f\"Key '{key}' does not exist.\")\n",
      "KeyError: \"Key 'SNR' does not exist.\"\n",
      "\n"
     ]
    },
    {
     "name": "stderr",
     "output_type": "stream",
     "text": [
      " 38%|███▊      | 58558/153700 [5:13:22<9:12:21,  2.87it/s] "
     ]
    },
    {
     "name": "stdout",
     "output_type": "stream",
     "text": [
      "File 27021597813283681 not found in /yngve_data/sdssv/ipl-2/spectro/astra/0.3.0/v6_0_9-1.0/spectra/star\n"
     ]
    },
    {
     "name": "stderr",
     "output_type": "stream",
     "text": [
      " 38%|███▊      | 58576/153700 [5:13:28<8:44:51,  3.02it/s] "
     ]
    },
    {
     "name": "stdout",
     "output_type": "stream",
     "text": [
      "File 27021597813314207 not found in /yngve_data/sdssv/ipl-2/spectro/astra/0.3.0/v6_0_9-1.0/spectra/star\n"
     ]
    },
    {
     "name": "stderr",
     "output_type": "stream",
     "text": [
      " 38%|███▊      | 58963/153700 [5:15:46<9:20:17,  2.82it/s] "
     ]
    },
    {
     "name": "stdout",
     "output_type": "stream",
     "text": [
      "Traceback (most recent call last):\n",
      "  File \"/home/petershi/miniconda3/envs/SDSSV/lib/python3.11/site-packages/astropy/io/fits/column.py\", line 2142, in _get_index\n",
      "    indx = names.index(key.rstrip())\n",
      "           ^^^^^^^^^^^^^^^^^^^^^^^^^\n",
      "ValueError: 'SNR' is not in list\n",
      "\n",
      "During handling of the above exception, another exception occurred:\n",
      "\n",
      "Traceback (most recent call last):\n",
      "  File \"/tmp/ipykernel_10073/3388262553.py\", line 15, in <module>\n",
      "    cdata = getSDSSVData(cfile)\n",
      "            ^^^^^^^^^^^^^^^^^^^\n",
      "  File \"/tmp/ipykernel_10073/4007893978.py\", line 3, in getSDSSVData\n",
      "    snr = hdul[3].data[\"SNR\"]\n",
      "          ~~~~~~~~~~~~^^^^^^^\n",
      "  File \"/home/petershi/miniconda3/envs/SDSSV/lib/python3.11/site-packages/astropy/io/fits/fitsrec.py\", line 513, in __getitem__\n",
      "    return self.field(key)\n",
      "           ^^^^^^^^^^^^^^^\n",
      "  File \"/home/petershi/miniconda3/envs/SDSSV/lib/python3.11/site-packages/astropy/io/fits/fitsrec.py\", line 695, in field\n",
      "    column = self.columns[key]\n",
      "             ~~~~~~~~~~~~^^^^^\n",
      "  File \"/home/petershi/miniconda3/envs/SDSSV/lib/python3.11/site-packages/astropy/io/fits/column.py\", line 1751, in __getitem__\n",
      "    key = _get_index(self.names, key)\n",
      "          ^^^^^^^^^^^^^^^^^^^^^^^^^^^\n",
      "  File \"/home/petershi/miniconda3/envs/SDSSV/lib/python3.11/site-packages/astropy/io/fits/column.py\", line 2151, in _get_index\n",
      "    raise KeyError(f\"Key '{key}' does not exist.\")\n",
      "KeyError: \"Key 'SNR' does not exist.\"\n",
      "\n"
     ]
    },
    {
     "name": "stderr",
     "output_type": "stream",
     "text": [
      " 38%|███▊      | 58971/153700 [5:15:48<8:35:33,  3.06it/s] "
     ]
    },
    {
     "name": "stdout",
     "output_type": "stream",
     "text": [
      "File 27021597814123328 not found in /yngve_data/sdssv/ipl-2/spectro/astra/0.3.0/v6_0_9-1.0/spectra/star\n"
     ]
    },
    {
     "name": "stderr",
     "output_type": "stream",
     "text": [
      " 38%|███▊      | 58978/153700 [5:15:51<10:17:56,  2.55it/s]"
     ]
    },
    {
     "name": "stdout",
     "output_type": "stream",
     "text": [
      "Traceback (most recent call last):\n",
      "  File \"/home/petershi/miniconda3/envs/SDSSV/lib/python3.11/site-packages/astropy/io/fits/column.py\", line 2142, in _get_index\n",
      "    indx = names.index(key.rstrip())\n",
      "           ^^^^^^^^^^^^^^^^^^^^^^^^^\n",
      "ValueError: 'SNR' is not in list\n",
      "\n",
      "During handling of the above exception, another exception occurred:\n",
      "\n",
      "Traceback (most recent call last):\n",
      "  File \"/tmp/ipykernel_10073/3388262553.py\", line 15, in <module>\n",
      "    cdata = getSDSSVData(cfile)\n",
      "            ^^^^^^^^^^^^^^^^^^^\n",
      "  File \"/tmp/ipykernel_10073/4007893978.py\", line 3, in getSDSSVData\n",
      "    snr = hdul[3].data[\"SNR\"]\n",
      "          ~~~~~~~~~~~~^^^^^^^\n",
      "  File \"/home/petershi/miniconda3/envs/SDSSV/lib/python3.11/site-packages/astropy/io/fits/fitsrec.py\", line 513, in __getitem__\n",
      "    return self.field(key)\n",
      "           ^^^^^^^^^^^^^^^\n",
      "  File \"/home/petershi/miniconda3/envs/SDSSV/lib/python3.11/site-packages/astropy/io/fits/fitsrec.py\", line 695, in field\n",
      "    column = self.columns[key]\n",
      "             ~~~~~~~~~~~~^^^^^\n",
      "  File \"/home/petershi/miniconda3/envs/SDSSV/lib/python3.11/site-packages/astropy/io/fits/column.py\", line 1751, in __getitem__\n",
      "    key = _get_index(self.names, key)\n",
      "          ^^^^^^^^^^^^^^^^^^^^^^^^^^^\n",
      "  File \"/home/petershi/miniconda3/envs/SDSSV/lib/python3.11/site-packages/astropy/io/fits/column.py\", line 2151, in _get_index\n",
      "    raise KeyError(f\"Key '{key}' does not exist.\")\n",
      "KeyError: \"Key 'SNR' does not exist.\"\n",
      "\n"
     ]
    },
    {
     "name": "stderr",
     "output_type": "stream",
     "text": [
      " 38%|███▊      | 59098/153700 [5:16:35<9:23:39,  2.80it/s] "
     ]
    },
    {
     "name": "stdout",
     "output_type": "stream",
     "text": [
      "File 27021597814269474 not found in /yngve_data/sdssv/ipl-2/spectro/astra/0.3.0/v6_0_9-1.0/spectra/star\n"
     ]
    },
    {
     "name": "stderr",
     "output_type": "stream",
     "text": [
      " 38%|███▊      | 59129/153700 [5:16:50<10:22:27,  2.53it/s]"
     ]
    },
    {
     "name": "stdout",
     "output_type": "stream",
     "text": [
      "File 27021597814305781 not found in /yngve_data/sdssv/ipl-2/spectro/astra/0.3.0/v6_0_9-1.0/spectra/star\n"
     ]
    },
    {
     "name": "stderr",
     "output_type": "stream",
     "text": [
      " 39%|███▊      | 59400/153700 [5:18:31<26:34:53,  1.01s/it]"
     ]
    },
    {
     "name": "stdout",
     "output_type": "stream",
     "text": [
      "File 27021597815189551 not found in /yngve_data/sdssv/ipl-2/spectro/astra/0.3.0/v6_0_9-1.0/spectra/star\n"
     ]
    },
    {
     "name": "stderr",
     "output_type": "stream",
     "text": [
      " 39%|███▊      | 59470/153700 [5:18:54<6:30:40,  4.02it/s] "
     ]
    },
    {
     "name": "stdout",
     "output_type": "stream",
     "text": [
      "Traceback (most recent call last):\n",
      "  File \"/home/petershi/miniconda3/envs/SDSSV/lib/python3.11/site-packages/astropy/io/fits/column.py\", line 2142, in _get_index\n",
      "    indx = names.index(key.rstrip())\n",
      "           ^^^^^^^^^^^^^^^^^^^^^^^^^\n",
      "ValueError: 'SNR' is not in list\n",
      "\n",
      "During handling of the above exception, another exception occurred:\n",
      "\n",
      "Traceback (most recent call last):\n",
      "  File \"/tmp/ipykernel_10073/3388262553.py\", line 15, in <module>\n",
      "    cdata = getSDSSVData(cfile)\n",
      "            ^^^^^^^^^^^^^^^^^^^\n",
      "  File \"/tmp/ipykernel_10073/4007893978.py\", line 3, in getSDSSVData\n",
      "    snr = hdul[3].data[\"SNR\"]\n",
      "          ~~~~~~~~~~~~^^^^^^^\n",
      "  File \"/home/petershi/miniconda3/envs/SDSSV/lib/python3.11/site-packages/astropy/io/fits/fitsrec.py\", line 513, in __getitem__\n",
      "    return self.field(key)\n",
      "           ^^^^^^^^^^^^^^^\n",
      "  File \"/home/petershi/miniconda3/envs/SDSSV/lib/python3.11/site-packages/astropy/io/fits/fitsrec.py\", line 695, in field\n",
      "    column = self.columns[key]\n",
      "             ~~~~~~~~~~~~^^^^^\n",
      "  File \"/home/petershi/miniconda3/envs/SDSSV/lib/python3.11/site-packages/astropy/io/fits/column.py\", line 1751, in __getitem__\n",
      "    key = _get_index(self.names, key)\n",
      "          ^^^^^^^^^^^^^^^^^^^^^^^^^^^\n",
      "  File \"/home/petershi/miniconda3/envs/SDSSV/lib/python3.11/site-packages/astropy/io/fits/column.py\", line 2151, in _get_index\n",
      "    raise KeyError(f\"Key '{key}' does not exist.\")\n",
      "KeyError: \"Key 'SNR' does not exist.\"\n",
      "\n"
     ]
    },
    {
     "name": "stderr",
     "output_type": "stream",
     "text": [
      " 39%|███▉      | 59570/153700 [5:19:31<17:40:59,  1.48it/s]"
     ]
    },
    {
     "name": "stdout",
     "output_type": "stream",
     "text": [
      "Traceback (most recent call last):\n",
      "  File \"/home/petershi/miniconda3/envs/SDSSV/lib/python3.11/site-packages/astropy/io/fits/column.py\", line 2142, in _get_index\n",
      "    indx = names.index(key.rstrip())\n",
      "           ^^^^^^^^^^^^^^^^^^^^^^^^^\n",
      "ValueError: 'SNR' is not in list\n",
      "\n",
      "During handling of the above exception, another exception occurred:\n",
      "\n",
      "Traceback (most recent call last):\n",
      "  File \"/tmp/ipykernel_10073/3388262553.py\", line 15, in <module>\n",
      "    cdata = getSDSSVData(cfile)\n",
      "            ^^^^^^^^^^^^^^^^^^^\n",
      "  File \"/tmp/ipykernel_10073/4007893978.py\", line 3, in getSDSSVData\n",
      "    snr = hdul[3].data[\"SNR\"]\n",
      "          ~~~~~~~~~~~~^^^^^^^\n",
      "  File \"/home/petershi/miniconda3/envs/SDSSV/lib/python3.11/site-packages/astropy/io/fits/fitsrec.py\", line 513, in __getitem__\n",
      "    return self.field(key)\n",
      "           ^^^^^^^^^^^^^^^\n",
      "  File \"/home/petershi/miniconda3/envs/SDSSV/lib/python3.11/site-packages/astropy/io/fits/fitsrec.py\", line 695, in field\n",
      "    column = self.columns[key]\n",
      "             ~~~~~~~~~~~~^^^^^\n",
      "  File \"/home/petershi/miniconda3/envs/SDSSV/lib/python3.11/site-packages/astropy/io/fits/column.py\", line 1751, in __getitem__\n",
      "    key = _get_index(self.names, key)\n",
      "          ^^^^^^^^^^^^^^^^^^^^^^^^^^^\n",
      "  File \"/home/petershi/miniconda3/envs/SDSSV/lib/python3.11/site-packages/astropy/io/fits/column.py\", line 2151, in _get_index\n",
      "    raise KeyError(f\"Key '{key}' does not exist.\")\n",
      "KeyError: \"Key 'SNR' does not exist.\"\n",
      "\n"
     ]
    },
    {
     "name": "stderr",
     "output_type": "stream",
     "text": [
      " 39%|███▉      | 59578/153700 [5:19:34<10:59:32,  2.38it/s]"
     ]
    },
    {
     "name": "stdout",
     "output_type": "stream",
     "text": [
      "Traceback (most recent call last):\n",
      "  File \"/home/petershi/miniconda3/envs/SDSSV/lib/python3.11/site-packages/astropy/io/fits/column.py\", line 2142, in _get_index\n",
      "    indx = names.index(key.rstrip())\n",
      "           ^^^^^^^^^^^^^^^^^^^^^^^^^\n",
      "ValueError: 'SNR' is not in list\n",
      "\n",
      "During handling of the above exception, another exception occurred:\n",
      "\n",
      "Traceback (most recent call last):\n",
      "  File \"/tmp/ipykernel_10073/3388262553.py\", line 15, in <module>\n",
      "    cdata = getSDSSVData(cfile)\n",
      "            ^^^^^^^^^^^^^^^^^^^\n",
      "  File \"/tmp/ipykernel_10073/4007893978.py\", line 3, in getSDSSVData\n",
      "    snr = hdul[3].data[\"SNR\"]\n",
      "          ~~~~~~~~~~~~^^^^^^^\n",
      "  File \"/home/petershi/miniconda3/envs/SDSSV/lib/python3.11/site-packages/astropy/io/fits/fitsrec.py\", line 513, in __getitem__\n",
      "    return self.field(key)\n",
      "           ^^^^^^^^^^^^^^^\n",
      "  File \"/home/petershi/miniconda3/envs/SDSSV/lib/python3.11/site-packages/astropy/io/fits/fitsrec.py\", line 695, in field\n",
      "    column = self.columns[key]\n",
      "             ~~~~~~~~~~~~^^^^^\n",
      "  File \"/home/petershi/miniconda3/envs/SDSSV/lib/python3.11/site-packages/astropy/io/fits/column.py\", line 1751, in __getitem__\n",
      "    key = _get_index(self.names, key)\n",
      "          ^^^^^^^^^^^^^^^^^^^^^^^^^^^\n",
      "  File \"/home/petershi/miniconda3/envs/SDSSV/lib/python3.11/site-packages/astropy/io/fits/column.py\", line 2151, in _get_index\n",
      "    raise KeyError(f\"Key '{key}' does not exist.\")\n",
      "KeyError: \"Key 'SNR' does not exist.\"\n",
      "\n"
     ]
    },
    {
     "name": "stderr",
     "output_type": "stream",
     "text": [
      " 39%|███▉      | 59841/153700 [5:21:12<15:43:57,  1.66it/s]"
     ]
    },
    {
     "name": "stdout",
     "output_type": "stream",
     "text": [
      "File 27021597815869211 not found in /yngve_data/sdssv/ipl-2/spectro/astra/0.3.0/v6_0_9-1.0/spectra/star\n"
     ]
    },
    {
     "name": "stderr",
     "output_type": "stream",
     "text": [
      " 39%|███▉      | 59935/153700 [5:21:43<8:21:35,  3.12it/s] "
     ]
    },
    {
     "name": "stdout",
     "output_type": "stream",
     "text": [
      "File 27021597815988800 not found in /yngve_data/sdssv/ipl-2/spectro/astra/0.3.0/v6_0_9-1.0/spectra/star\n"
     ]
    },
    {
     "name": "stderr",
     "output_type": "stream",
     "text": [
      " 39%|███▉      | 60122/153700 [5:22:49<5:38:14,  4.61it/s] "
     ]
    },
    {
     "name": "stdout",
     "output_type": "stream",
     "text": [
      "Traceback (most recent call last):\n",
      "  File \"/home/petershi/miniconda3/envs/SDSSV/lib/python3.11/site-packages/astropy/io/fits/column.py\", line 2142, in _get_index\n",
      "    indx = names.index(key.rstrip())\n",
      "           ^^^^^^^^^^^^^^^^^^^^^^^^^\n",
      "ValueError: 'SNR' is not in list\n",
      "\n",
      "During handling of the above exception, another exception occurred:\n",
      "\n",
      "Traceback (most recent call last):\n",
      "  File \"/tmp/ipykernel_10073/3388262553.py\", line 15, in <module>\n",
      "    cdata = getSDSSVData(cfile)\n",
      "            ^^^^^^^^^^^^^^^^^^^\n",
      "  File \"/tmp/ipykernel_10073/4007893978.py\", line 3, in getSDSSVData\n",
      "    snr = hdul[3].data[\"SNR\"]\n",
      "          ~~~~~~~~~~~~^^^^^^^\n",
      "  File \"/home/petershi/miniconda3/envs/SDSSV/lib/python3.11/site-packages/astropy/io/fits/fitsrec.py\", line 513, in __getitem__\n",
      "    return self.field(key)\n",
      "           ^^^^^^^^^^^^^^^\n",
      "  File \"/home/petershi/miniconda3/envs/SDSSV/lib/python3.11/site-packages/astropy/io/fits/fitsrec.py\", line 695, in field\n",
      "    column = self.columns[key]\n",
      "             ~~~~~~~~~~~~^^^^^\n",
      "  File \"/home/petershi/miniconda3/envs/SDSSV/lib/python3.11/site-packages/astropy/io/fits/column.py\", line 1751, in __getitem__\n",
      "    key = _get_index(self.names, key)\n",
      "          ^^^^^^^^^^^^^^^^^^^^^^^^^^^\n",
      "  File \"/home/petershi/miniconda3/envs/SDSSV/lib/python3.11/site-packages/astropy/io/fits/column.py\", line 2151, in _get_index\n",
      "    raise KeyError(f\"Key '{key}' does not exist.\")\n",
      "KeyError: \"Key 'SNR' does not exist.\"\n",
      "\n"
     ]
    },
    {
     "name": "stderr",
     "output_type": "stream",
     "text": [
      " 39%|███▉      | 60143/153700 [5:22:59<17:02:25,  1.53it/s]"
     ]
    },
    {
     "name": "stdout",
     "output_type": "stream",
     "text": [
      "File 27021597816398249 not found in /yngve_data/sdssv/ipl-2/spectro/astra/0.3.0/v6_0_9-1.0/spectra/star\n"
     ]
    },
    {
     "name": "stderr",
     "output_type": "stream",
     "text": [
      " 39%|███▉      | 60147/153700 [5:23:00<11:09:04,  2.33it/s]"
     ]
    },
    {
     "name": "stdout",
     "output_type": "stream",
     "text": [
      "File 27021597816402361 not found in /yngve_data/sdssv/ipl-2/spectro/astra/0.3.0/v6_0_9-1.0/spectra/star\n"
     ]
    },
    {
     "name": "stderr",
     "output_type": "stream",
     "text": [
      " 39%|███▉      | 60273/153700 [5:23:51<12:05:09,  2.15it/s]"
     ]
    },
    {
     "name": "stdout",
     "output_type": "stream",
     "text": [
      "File 27021597816586167 not found in /yngve_data/sdssv/ipl-2/spectro/astra/0.3.0/v6_0_9-1.0/spectra/star\n"
     ]
    },
    {
     "name": "stderr",
     "output_type": "stream",
     "text": [
      " 39%|███▉      | 60364/153700 [5:24:22<7:03:37,  3.67it/s] "
     ]
    },
    {
     "name": "stdout",
     "output_type": "stream",
     "text": [
      "File 27021597825210308 not found in /yngve_data/sdssv/ipl-2/spectro/astra/0.3.0/v6_0_9-1.0/spectra/star\n"
     ]
    },
    {
     "name": "stderr",
     "output_type": "stream",
     "text": [
      " 39%|███▉      | 60433/153700 [5:24:47<11:50:45,  2.19it/s]"
     ]
    },
    {
     "name": "stdout",
     "output_type": "stream",
     "text": [
      "File 27021597825428172 not found in /yngve_data/sdssv/ipl-2/spectro/astra/0.3.0/v6_0_9-1.0/spectra/star\n"
     ]
    },
    {
     "name": "stderr",
     "output_type": "stream",
     "text": [
      " 39%|███▉      | 60512/153700 [5:25:15<13:48:41,  1.87it/s]"
     ]
    },
    {
     "name": "stdout",
     "output_type": "stream",
     "text": [
      "File 27021597825568440 not found in /yngve_data/sdssv/ipl-2/spectro/astra/0.3.0/v6_0_9-1.0/spectra/star\n"
     ]
    },
    {
     "name": "stderr",
     "output_type": "stream",
     "text": [
      " 39%|███▉      | 60541/153700 [5:25:24<8:39:27,  2.99it/s] "
     ]
    },
    {
     "name": "stdout",
     "output_type": "stream",
     "text": [
      "File 27021597825601260 not found in /yngve_data/sdssv/ipl-2/spectro/astra/0.3.0/v6_0_9-1.0/spectra/star\n"
     ]
    },
    {
     "name": "stderr",
     "output_type": "stream",
     "text": [
      " 39%|███▉      | 60600/153700 [5:25:46<8:57:59,  2.88it/s] "
     ]
    },
    {
     "name": "stdout",
     "output_type": "stream",
     "text": [
      "File 27021597825703817 not found in /yngve_data/sdssv/ipl-2/spectro/astra/0.3.0/v6_0_9-1.0/spectra/star\n"
     ]
    },
    {
     "name": "stderr",
     "output_type": "stream",
     "text": [
      " 39%|███▉      | 60614/153700 [5:25:52<14:11:22,  1.82it/s]"
     ]
    },
    {
     "name": "stdout",
     "output_type": "stream",
     "text": [
      "File 27021597827257637 not found in /yngve_data/sdssv/ipl-2/spectro/astra/0.3.0/v6_0_9-1.0/spectra/star\n"
     ]
    },
    {
     "name": "stderr",
     "output_type": "stream",
     "text": [
      " 39%|███▉      | 60655/153700 [5:26:08<14:14:28,  1.81it/s]"
     ]
    },
    {
     "name": "stdout",
     "output_type": "stream",
     "text": [
      "File 27021597827611173 not found in /yngve_data/sdssv/ipl-2/spectro/astra/0.3.0/v6_0_9-1.0/spectra/star\n"
     ]
    },
    {
     "name": "stderr",
     "output_type": "stream",
     "text": [
      " 40%|███▉      | 60781/153700 [5:26:51<7:53:37,  3.27it/s] "
     ]
    },
    {
     "name": "stdout",
     "output_type": "stream",
     "text": [
      "Traceback (most recent call last):\n",
      "  File \"/home/petershi/miniconda3/envs/SDSSV/lib/python3.11/site-packages/astropy/io/fits/column.py\", line 2142, in _get_index\n",
      "    indx = names.index(key.rstrip())\n",
      "           ^^^^^^^^^^^^^^^^^^^^^^^^^\n",
      "ValueError: 'SNR' is not in list\n",
      "\n",
      "During handling of the above exception, another exception occurred:\n",
      "\n",
      "Traceback (most recent call last):\n",
      "  File \"/tmp/ipykernel_10073/3388262553.py\", line 15, in <module>\n",
      "    cdata = getSDSSVData(cfile)\n",
      "            ^^^^^^^^^^^^^^^^^^^\n",
      "  File \"/tmp/ipykernel_10073/4007893978.py\", line 3, in getSDSSVData\n",
      "    snr = hdul[3].data[\"SNR\"]\n",
      "          ~~~~~~~~~~~~^^^^^^^\n",
      "  File \"/home/petershi/miniconda3/envs/SDSSV/lib/python3.11/site-packages/astropy/io/fits/fitsrec.py\", line 513, in __getitem__\n",
      "    return self.field(key)\n",
      "           ^^^^^^^^^^^^^^^\n",
      "  File \"/home/petershi/miniconda3/envs/SDSSV/lib/python3.11/site-packages/astropy/io/fits/fitsrec.py\", line 695, in field\n",
      "    column = self.columns[key]\n",
      "             ~~~~~~~~~~~~^^^^^\n",
      "  File \"/home/petershi/miniconda3/envs/SDSSV/lib/python3.11/site-packages/astropy/io/fits/column.py\", line 1751, in __getitem__\n",
      "    key = _get_index(self.names, key)\n",
      "          ^^^^^^^^^^^^^^^^^^^^^^^^^^^\n",
      "  File \"/home/petershi/miniconda3/envs/SDSSV/lib/python3.11/site-packages/astropy/io/fits/column.py\", line 2151, in _get_index\n",
      "    raise KeyError(f\"Key '{key}' does not exist.\")\n",
      "KeyError: \"Key 'SNR' does not exist.\"\n",
      "\n"
     ]
    },
    {
     "name": "stderr",
     "output_type": "stream",
     "text": [
      " 40%|████      | 61489/153700 [5:30:42<10:23:45,  2.46it/s]"
     ]
    },
    {
     "name": "stdout",
     "output_type": "stream",
     "text": [
      "File 27021597828746837 not found in /yngve_data/sdssv/ipl-2/spectro/astra/0.3.0/v6_0_9-1.0/spectra/star\n"
     ]
    },
    {
     "name": "stderr",
     "output_type": "stream",
     "text": [
      " 40%|████      | 61580/153700 [5:31:12<9:29:20,  2.70it/s] "
     ]
    },
    {
     "name": "stdout",
     "output_type": "stream",
     "text": [
      "File 27021597829416043 not found in /yngve_data/sdssv/ipl-2/spectro/astra/0.3.0/v6_0_9-1.0/spectra/star\n"
     ]
    },
    {
     "name": "stderr",
     "output_type": "stream",
     "text": [
      " 40%|████      | 61614/153700 [5:31:23<9:37:04,  2.66it/s] "
     ]
    },
    {
     "name": "stdout",
     "output_type": "stream",
     "text": [
      "File 27021597829471342 not found in /yngve_data/sdssv/ipl-2/spectro/astra/0.3.0/v6_0_9-1.0/spectra/star\n"
     ]
    },
    {
     "name": "stderr",
     "output_type": "stream",
     "text": [
      " 40%|████      | 61652/153700 [5:31:39<7:51:55,  3.25it/s] "
     ]
    },
    {
     "name": "stdout",
     "output_type": "stream",
     "text": [
      "File 27021597829529500 not found in /yngve_data/sdssv/ipl-2/spectro/astra/0.3.0/v6_0_9-1.0/spectra/star\n"
     ]
    },
    {
     "name": "stderr",
     "output_type": "stream",
     "text": [
      " 40%|████      | 61791/153700 [5:32:27<8:16:12,  3.09it/s] "
     ]
    },
    {
     "name": "stdout",
     "output_type": "stream",
     "text": [
      "File 27021597831459682 not found in /yngve_data/sdssv/ipl-2/spectro/astra/0.3.0/v6_0_9-1.0/spectra/star\n"
     ]
    },
    {
     "name": "stderr",
     "output_type": "stream",
     "text": [
      " 40%|████      | 61799/153700 [5:32:30<9:56:46,  2.57it/s] "
     ]
    },
    {
     "name": "stdout",
     "output_type": "stream",
     "text": [
      "File 27021597831474714 not found in /yngve_data/sdssv/ipl-2/spectro/astra/0.3.0/v6_0_9-1.0/spectra/star\n"
     ]
    },
    {
     "name": "stderr",
     "output_type": "stream",
     "text": [
      " 40%|████      | 61874/153700 [5:32:55<9:10:27,  2.78it/s] "
     ]
    },
    {
     "name": "stdout",
     "output_type": "stream",
     "text": [
      "File 27021597831756168 not found in /yngve_data/sdssv/ipl-2/spectro/astra/0.3.0/v6_0_9-1.0/spectra/star\n"
     ]
    },
    {
     "name": "stderr",
     "output_type": "stream",
     "text": [
      " 41%|████      | 62298/153700 [5:35:25<8:51:25,  2.87it/s] "
     ]
    },
    {
     "name": "stdout",
     "output_type": "stream",
     "text": [
      "File 27021597833465330 not found in /yngve_data/sdssv/ipl-2/spectro/astra/0.3.0/v6_0_9-1.0/spectra/star\n"
     ]
    },
    {
     "name": "stderr",
     "output_type": "stream",
     "text": [
      " 41%|████      | 62384/153700 [5:35:58<11:50:08,  2.14it/s]"
     ]
    },
    {
     "name": "stdout",
     "output_type": "stream",
     "text": [
      "Traceback (most recent call last):\n",
      "  File \"/home/petershi/miniconda3/envs/SDSSV/lib/python3.11/site-packages/astropy/io/fits/column.py\", line 2142, in _get_index\n",
      "    indx = names.index(key.rstrip())\n",
      "           ^^^^^^^^^^^^^^^^^^^^^^^^^\n",
      "ValueError: 'SNR' is not in list\n",
      "\n",
      "During handling of the above exception, another exception occurred:\n",
      "\n",
      "Traceback (most recent call last):\n",
      "  File \"/tmp/ipykernel_10073/3388262553.py\", line 15, in <module>\n",
      "    cdata = getSDSSVData(cfile)\n",
      "            ^^^^^^^^^^^^^^^^^^^\n",
      "  File \"/tmp/ipykernel_10073/4007893978.py\", line 3, in getSDSSVData\n",
      "    snr = hdul[3].data[\"SNR\"]\n",
      "          ~~~~~~~~~~~~^^^^^^^\n",
      "  File \"/home/petershi/miniconda3/envs/SDSSV/lib/python3.11/site-packages/astropy/io/fits/fitsrec.py\", line 513, in __getitem__\n",
      "    return self.field(key)\n",
      "           ^^^^^^^^^^^^^^^\n",
      "  File \"/home/petershi/miniconda3/envs/SDSSV/lib/python3.11/site-packages/astropy/io/fits/fitsrec.py\", line 695, in field\n",
      "    column = self.columns[key]\n",
      "             ~~~~~~~~~~~~^^^^^\n",
      "  File \"/home/petershi/miniconda3/envs/SDSSV/lib/python3.11/site-packages/astropy/io/fits/column.py\", line 1751, in __getitem__\n",
      "    key = _get_index(self.names, key)\n",
      "          ^^^^^^^^^^^^^^^^^^^^^^^^^^^\n",
      "  File \"/home/petershi/miniconda3/envs/SDSSV/lib/python3.11/site-packages/astropy/io/fits/column.py\", line 2151, in _get_index\n",
      "    raise KeyError(f\"Key '{key}' does not exist.\")\n",
      "KeyError: \"Key 'SNR' does not exist.\"\n",
      "\n"
     ]
    },
    {
     "name": "stderr",
     "output_type": "stream",
     "text": [
      " 41%|████      | 62421/153700 [5:36:09<6:35:38,  3.85it/s] "
     ]
    },
    {
     "name": "stdout",
     "output_type": "stream",
     "text": [
      "Traceback (most recent call last):\n",
      "  File \"/home/petershi/miniconda3/envs/SDSSV/lib/python3.11/site-packages/astropy/io/fits/column.py\", line 2142, in _get_index\n",
      "    indx = names.index(key.rstrip())\n",
      "           ^^^^^^^^^^^^^^^^^^^^^^^^^\n",
      "ValueError: 'SNR' is not in list\n",
      "\n",
      "During handling of the above exception, another exception occurred:\n",
      "\n",
      "Traceback (most recent call last):\n",
      "  File \"/tmp/ipykernel_10073/3388262553.py\", line 15, in <module>\n",
      "    cdata = getSDSSVData(cfile)\n",
      "            ^^^^^^^^^^^^^^^^^^^\n",
      "  File \"/tmp/ipykernel_10073/4007893978.py\", line 3, in getSDSSVData\n",
      "    snr = hdul[3].data[\"SNR\"]\n",
      "          ~~~~~~~~~~~~^^^^^^^\n",
      "  File \"/home/petershi/miniconda3/envs/SDSSV/lib/python3.11/site-packages/astropy/io/fits/fitsrec.py\", line 513, in __getitem__\n",
      "    return self.field(key)\n",
      "           ^^^^^^^^^^^^^^^\n",
      "  File \"/home/petershi/miniconda3/envs/SDSSV/lib/python3.11/site-packages/astropy/io/fits/fitsrec.py\", line 695, in field\n",
      "    column = self.columns[key]\n",
      "             ~~~~~~~~~~~~^^^^^\n",
      "  File \"/home/petershi/miniconda3/envs/SDSSV/lib/python3.11/site-packages/astropy/io/fits/column.py\", line 1751, in __getitem__\n",
      "    key = _get_index(self.names, key)\n",
      "          ^^^^^^^^^^^^^^^^^^^^^^^^^^^\n",
      "  File \"/home/petershi/miniconda3/envs/SDSSV/lib/python3.11/site-packages/astropy/io/fits/column.py\", line 2151, in _get_index\n",
      "    raise KeyError(f\"Key '{key}' does not exist.\")\n",
      "KeyError: \"Key 'SNR' does not exist.\"\n",
      "\n"
     ]
    },
    {
     "name": "stderr",
     "output_type": "stream",
     "text": [
      " 41%|████      | 62571/153700 [5:37:02<7:49:46,  3.23it/s] "
     ]
    },
    {
     "name": "stdout",
     "output_type": "stream",
     "text": [
      "Traceback (most recent call last):\n",
      "  File \"/home/petershi/miniconda3/envs/SDSSV/lib/python3.11/site-packages/astropy/io/fits/column.py\", line 2142, in _get_index\n",
      "    indx = names.index(key.rstrip())\n",
      "           ^^^^^^^^^^^^^^^^^^^^^^^^^\n",
      "ValueError: 'SNR' is not in list\n",
      "\n",
      "During handling of the above exception, another exception occurred:\n",
      "\n",
      "Traceback (most recent call last):\n",
      "  File \"/tmp/ipykernel_10073/3388262553.py\", line 15, in <module>\n",
      "    cdata = getSDSSVData(cfile)\n",
      "            ^^^^^^^^^^^^^^^^^^^\n",
      "  File \"/tmp/ipykernel_10073/4007893978.py\", line 3, in getSDSSVData\n",
      "    snr = hdul[3].data[\"SNR\"]\n",
      "          ~~~~~~~~~~~~^^^^^^^\n",
      "  File \"/home/petershi/miniconda3/envs/SDSSV/lib/python3.11/site-packages/astropy/io/fits/fitsrec.py\", line 513, in __getitem__\n",
      "    return self.field(key)\n",
      "           ^^^^^^^^^^^^^^^\n",
      "  File \"/home/petershi/miniconda3/envs/SDSSV/lib/python3.11/site-packages/astropy/io/fits/fitsrec.py\", line 695, in field\n",
      "    column = self.columns[key]\n",
      "             ~~~~~~~~~~~~^^^^^\n",
      "  File \"/home/petershi/miniconda3/envs/SDSSV/lib/python3.11/site-packages/astropy/io/fits/column.py\", line 1751, in __getitem__\n",
      "    key = _get_index(self.names, key)\n",
      "          ^^^^^^^^^^^^^^^^^^^^^^^^^^^\n",
      "  File \"/home/petershi/miniconda3/envs/SDSSV/lib/python3.11/site-packages/astropy/io/fits/column.py\", line 2151, in _get_index\n",
      "    raise KeyError(f\"Key '{key}' does not exist.\")\n",
      "KeyError: \"Key 'SNR' does not exist.\"\n",
      "\n"
     ]
    },
    {
     "name": "stderr",
     "output_type": "stream",
     "text": [
      " 41%|████      | 62721/153700 [5:37:54<12:29:34,  2.02it/s]"
     ]
    },
    {
     "name": "stdout",
     "output_type": "stream",
     "text": [
      "File 27021597834510135 not found in /yngve_data/sdssv/ipl-2/spectro/astra/0.3.0/v6_0_9-1.0/spectra/star\n"
     ]
    },
    {
     "name": "stderr",
     "output_type": "stream",
     "text": [
      " 41%|████      | 62850/153700 [5:38:39<12:47:29,  1.97it/s]"
     ]
    },
    {
     "name": "stdout",
     "output_type": "stream",
     "text": [
      "File 27021597834786147 not found in /yngve_data/sdssv/ipl-2/spectro/astra/0.3.0/v6_0_9-1.0/spectra/star\n"
     ]
    },
    {
     "name": "stderr",
     "output_type": "stream",
     "text": [
      " 41%|████      | 62988/153700 [5:39:26<9:30:11,  2.65it/s] "
     ]
    },
    {
     "name": "stdout",
     "output_type": "stream",
     "text": [
      "File 27021597834975672 not found in /yngve_data/sdssv/ipl-2/spectro/astra/0.3.0/v6_0_9-1.0/spectra/star\n"
     ]
    },
    {
     "name": "stderr",
     "output_type": "stream",
     "text": [
      " 41%|████      | 62995/153700 [5:39:28<9:46:11,  2.58it/s] "
     ]
    },
    {
     "name": "stdout",
     "output_type": "stream",
     "text": [
      "File 27021597834991068 not found in /yngve_data/sdssv/ipl-2/spectro/astra/0.3.0/v6_0_9-1.0/spectra/star\n"
     ]
    },
    {
     "name": "stderr",
     "output_type": "stream",
     "text": [
      " 41%|████      | 63029/153700 [5:39:40<11:39:17,  2.16it/s]"
     ]
    },
    {
     "name": "stdout",
     "output_type": "stream",
     "text": [
      "File 27021597835220488 not found in /yngve_data/sdssv/ipl-2/spectro/astra/0.3.0/v6_0_9-1.0/spectra/star\n"
     ]
    },
    {
     "name": "stderr",
     "output_type": "stream",
     "text": [
      " 41%|████      | 63194/153700 [5:40:38<9:11:46,  2.73it/s] "
     ]
    },
    {
     "name": "stdout",
     "output_type": "stream",
     "text": [
      "File 27021597835762485 not found in /yngve_data/sdssv/ipl-2/spectro/astra/0.3.0/v6_0_9-1.0/spectra/star\n"
     ]
    },
    {
     "name": "stderr",
     "output_type": "stream",
     "text": [
      " 41%|████      | 63202/153700 [5:40:40<8:32:31,  2.94it/s]"
     ]
    },
    {
     "name": "stdout",
     "output_type": "stream",
     "text": [
      "File 27021597835770775 not found in /yngve_data/sdssv/ipl-2/spectro/astra/0.3.0/v6_0_9-1.0/spectra/star\n"
     ]
    },
    {
     "name": "stderr",
     "output_type": "stream",
     "text": [
      " 41%|████      | 63205/153700 [5:40:41<7:11:39,  3.49it/s]"
     ]
    },
    {
     "name": "stdout",
     "output_type": "stream",
     "text": [
      "File 27021597835771043 not found in /yngve_data/sdssv/ipl-2/spectro/astra/0.3.0/v6_0_9-1.0/spectra/star\n"
     ]
    },
    {
     "name": "stderr",
     "output_type": "stream",
     "text": [
      " 41%|████      | 63240/153700 [5:40:54<10:00:47,  2.51it/s]"
     ]
    },
    {
     "name": "stdout",
     "output_type": "stream",
     "text": [
      "File 27021597835836715 not found in /yngve_data/sdssv/ipl-2/spectro/astra/0.3.0/v6_0_9-1.0/spectra/star\n"
     ]
    },
    {
     "name": "stderr",
     "output_type": "stream",
     "text": [
      " 41%|████      | 63316/153700 [5:41:21<18:47:30,  1.34it/s]"
     ]
    },
    {
     "name": "stdout",
     "output_type": "stream",
     "text": [
      "File 27021597835951977 not found in /yngve_data/sdssv/ipl-2/spectro/astra/0.3.0/v6_0_9-1.0/spectra/star\n"
     ]
    },
    {
     "name": "stderr",
     "output_type": "stream",
     "text": [
      " 41%|████▏     | 63751/153700 [5:43:54<15:39:34,  1.60it/s]"
     ]
    },
    {
     "name": "stdout",
     "output_type": "stream",
     "text": [
      "Traceback (most recent call last):\n",
      "  File \"/home/petershi/miniconda3/envs/SDSSV/lib/python3.11/site-packages/astropy/io/fits/column.py\", line 2142, in _get_index\n",
      "    indx = names.index(key.rstrip())\n",
      "           ^^^^^^^^^^^^^^^^^^^^^^^^^\n",
      "ValueError: 'SNR' is not in list\n",
      "\n",
      "During handling of the above exception, another exception occurred:\n",
      "\n",
      "Traceback (most recent call last):\n",
      "  File \"/tmp/ipykernel_10073/3388262553.py\", line 15, in <module>\n",
      "    cdata = getSDSSVData(cfile)\n",
      "            ^^^^^^^^^^^^^^^^^^^\n",
      "  File \"/tmp/ipykernel_10073/4007893978.py\", line 3, in getSDSSVData\n",
      "    snr = hdul[3].data[\"SNR\"]\n",
      "          ~~~~~~~~~~~~^^^^^^^\n",
      "  File \"/home/petershi/miniconda3/envs/SDSSV/lib/python3.11/site-packages/astropy/io/fits/fitsrec.py\", line 513, in __getitem__\n",
      "    return self.field(key)\n",
      "           ^^^^^^^^^^^^^^^\n",
      "  File \"/home/petershi/miniconda3/envs/SDSSV/lib/python3.11/site-packages/astropy/io/fits/fitsrec.py\", line 695, in field\n",
      "    column = self.columns[key]\n",
      "             ~~~~~~~~~~~~^^^^^\n",
      "  File \"/home/petershi/miniconda3/envs/SDSSV/lib/python3.11/site-packages/astropy/io/fits/column.py\", line 1751, in __getitem__\n",
      "    key = _get_index(self.names, key)\n",
      "          ^^^^^^^^^^^^^^^^^^^^^^^^^^^\n",
      "  File \"/home/petershi/miniconda3/envs/SDSSV/lib/python3.11/site-packages/astropy/io/fits/column.py\", line 2151, in _get_index\n",
      "    raise KeyError(f\"Key '{key}' does not exist.\")\n",
      "KeyError: \"Key 'SNR' does not exist.\"\n",
      "\n"
     ]
    },
    {
     "name": "stderr",
     "output_type": "stream",
     "text": [
      " 42%|████▏     | 63871/153700 [5:44:36<8:18:16,  3.00it/s] "
     ]
    },
    {
     "name": "stdout",
     "output_type": "stream",
     "text": [
      "File 27021597837234538 not found in /yngve_data/sdssv/ipl-2/spectro/astra/0.3.0/v6_0_9-1.0/spectra/star\n"
     ]
    },
    {
     "name": "stderr",
     "output_type": "stream",
     "text": [
      " 42%|████▏     | 64141/153700 [5:46:14<10:56:39,  2.27it/s]"
     ]
    },
    {
     "name": "stdout",
     "output_type": "stream",
     "text": [
      "File 27021597837500436 not found in /yngve_data/sdssv/ipl-2/spectro/astra/0.3.0/v6_0_9-1.0/spectra/star\n"
     ]
    },
    {
     "name": "stderr",
     "output_type": "stream",
     "text": [
      " 42%|████▏     | 64143/153700 [5:46:14<9:34:30,  2.60it/s] "
     ]
    },
    {
     "name": "stdout",
     "output_type": "stream",
     "text": [
      "File 27021597837501218 not found in /yngve_data/sdssv/ipl-2/spectro/astra/0.3.0/v6_0_9-1.0/spectra/star\n"
     ]
    },
    {
     "name": "stderr",
     "output_type": "stream",
     "text": [
      " 42%|████▏     | 64223/153700 [5:46:42<8:59:46,  2.76it/s] "
     ]
    },
    {
     "name": "stdout",
     "output_type": "stream",
     "text": [
      "File 27021597837586086 not found in /yngve_data/sdssv/ipl-2/spectro/astra/0.3.0/v6_0_9-1.0/spectra/star\n"
     ]
    },
    {
     "name": "stderr",
     "output_type": "stream",
     "text": [
      " 42%|████▏     | 64341/153700 [5:47:23<13:46:46,  1.80it/s]"
     ]
    },
    {
     "name": "stdout",
     "output_type": "stream",
     "text": [
      "File 27021597837698765 not found in /yngve_data/sdssv/ipl-2/spectro/astra/0.3.0/v6_0_9-1.0/spectra/star\n"
     ]
    },
    {
     "name": "stderr",
     "output_type": "stream",
     "text": [
      " 42%|████▏     | 64521/153700 [5:48:29<6:08:27,  4.03it/s] "
     ]
    },
    {
     "name": "stdout",
     "output_type": "stream",
     "text": [
      "File 27021597837900588 not found in /yngve_data/sdssv/ipl-2/spectro/astra/0.3.0/v6_0_9-1.0/spectra/star\n"
     ]
    },
    {
     "name": "stderr",
     "output_type": "stream",
     "text": [
      " 42%|████▏     | 64567/153700 [5:48:43<10:41:39,  2.32it/s]"
     ]
    },
    {
     "name": "stdout",
     "output_type": "stream",
     "text": [
      "File 27021597837927748 not found in /yngve_data/sdssv/ipl-2/spectro/astra/0.3.0/v6_0_9-1.0/spectra/star\n"
     ]
    },
    {
     "name": "stderr",
     "output_type": "stream",
     "text": [
      " 42%|████▏     | 64595/153700 [5:48:52<7:44:21,  3.20it/s] "
     ]
    },
    {
     "name": "stdout",
     "output_type": "stream",
     "text": [
      "File 27021597837952938 not found in /yngve_data/sdssv/ipl-2/spectro/astra/0.3.0/v6_0_9-1.0/spectra/star\n"
     ]
    },
    {
     "name": "stderr",
     "output_type": "stream",
     "text": [
      " 42%|████▏     | 64728/153700 [5:49:32<7:43:36,  3.20it/s] "
     ]
    },
    {
     "name": "stdout",
     "output_type": "stream",
     "text": [
      "File 27021597838137925 not found in /yngve_data/sdssv/ipl-2/spectro/astra/0.3.0/v6_0_9-1.0/spectra/star\n"
     ]
    },
    {
     "name": "stderr",
     "output_type": "stream",
     "text": [
      " 42%|████▏     | 64788/153700 [5:49:49<9:35:52,  2.57it/s] "
     ]
    },
    {
     "name": "stdout",
     "output_type": "stream",
     "text": [
      "File 27021597838316592 not found in /yngve_data/sdssv/ipl-2/spectro/astra/0.3.0/v6_0_9-1.0/spectra/star\n"
     ]
    },
    {
     "name": "stderr",
     "output_type": "stream",
     "text": [
      " 42%|████▏     | 64809/153700 [5:49:58<10:15:12,  2.41it/s]"
     ]
    },
    {
     "name": "stdout",
     "output_type": "stream",
     "text": [
      "File 27021597838482672 not found in /yngve_data/sdssv/ipl-2/spectro/astra/0.3.0/v6_0_9-1.0/spectra/star\n"
     ]
    },
    {
     "name": "stderr",
     "output_type": "stream",
     "text": [
      " 42%|████▏     | 64811/153700 [5:49:59<11:53:38,  2.08it/s]"
     ]
    },
    {
     "name": "stdout",
     "output_type": "stream",
     "text": [
      "File 27021597838613626 not found in /yngve_data/sdssv/ipl-2/spectro/astra/0.3.0/v6_0_9-1.0/spectra/star\n"
     ]
    },
    {
     "name": "stderr",
     "output_type": "stream",
     "text": [
      " 42%|████▏     | 65270/153700 [5:52:22<10:22:52,  2.37it/s]"
     ]
    },
    {
     "name": "stdout",
     "output_type": "stream",
     "text": [
      "Traceback (most recent call last):\n",
      "  File \"/home/petershi/miniconda3/envs/SDSSV/lib/python3.11/site-packages/astropy/io/fits/column.py\", line 2142, in _get_index\n",
      "    indx = names.index(key.rstrip())\n",
      "           ^^^^^^^^^^^^^^^^^^^^^^^^^\n",
      "ValueError: 'SNR' is not in list\n",
      "\n",
      "During handling of the above exception, another exception occurred:\n",
      "\n",
      "Traceback (most recent call last):\n",
      "  File \"/tmp/ipykernel_10073/3388262553.py\", line 15, in <module>\n",
      "    cdata = getSDSSVData(cfile)\n",
      "            ^^^^^^^^^^^^^^^^^^^\n",
      "  File \"/tmp/ipykernel_10073/4007893978.py\", line 3, in getSDSSVData\n",
      "    snr = hdul[3].data[\"SNR\"]\n",
      "          ~~~~~~~~~~~~^^^^^^^\n",
      "  File \"/home/petershi/miniconda3/envs/SDSSV/lib/python3.11/site-packages/astropy/io/fits/fitsrec.py\", line 513, in __getitem__\n",
      "    return self.field(key)\n",
      "           ^^^^^^^^^^^^^^^\n",
      "  File \"/home/petershi/miniconda3/envs/SDSSV/lib/python3.11/site-packages/astropy/io/fits/fitsrec.py\", line 695, in field\n",
      "    column = self.columns[key]\n",
      "             ~~~~~~~~~~~~^^^^^\n",
      "  File \"/home/petershi/miniconda3/envs/SDSSV/lib/python3.11/site-packages/astropy/io/fits/column.py\", line 1751, in __getitem__\n",
      "    key = _get_index(self.names, key)\n",
      "          ^^^^^^^^^^^^^^^^^^^^^^^^^^^\n",
      "  File \"/home/petershi/miniconda3/envs/SDSSV/lib/python3.11/site-packages/astropy/io/fits/column.py\", line 2151, in _get_index\n",
      "    raise KeyError(f\"Key '{key}' does not exist.\")\n",
      "KeyError: \"Key 'SNR' does not exist.\"\n",
      "\n"
     ]
    },
    {
     "name": "stderr",
     "output_type": "stream",
     "text": [
      " 43%|████▎     | 65559/153700 [5:53:45<11:44:56,  2.08it/s]"
     ]
    },
    {
     "name": "stdout",
     "output_type": "stream",
     "text": [
      "Traceback (most recent call last):\n",
      "  File \"/home/petershi/miniconda3/envs/SDSSV/lib/python3.11/site-packages/astropy/io/fits/column.py\", line 2142, in _get_index\n",
      "    indx = names.index(key.rstrip())\n",
      "           ^^^^^^^^^^^^^^^^^^^^^^^^^\n",
      "ValueError: 'SNR' is not in list\n",
      "\n",
      "During handling of the above exception, another exception occurred:\n",
      "\n",
      "Traceback (most recent call last):\n",
      "  File \"/tmp/ipykernel_10073/3388262553.py\", line 15, in <module>\n",
      "    cdata = getSDSSVData(cfile)\n",
      "            ^^^^^^^^^^^^^^^^^^^\n",
      "  File \"/tmp/ipykernel_10073/4007893978.py\", line 3, in getSDSSVData\n",
      "    snr = hdul[3].data[\"SNR\"]\n",
      "          ~~~~~~~~~~~~^^^^^^^\n",
      "  File \"/home/petershi/miniconda3/envs/SDSSV/lib/python3.11/site-packages/astropy/io/fits/fitsrec.py\", line 513, in __getitem__\n",
      "    return self.field(key)\n",
      "           ^^^^^^^^^^^^^^^\n",
      "  File \"/home/petershi/miniconda3/envs/SDSSV/lib/python3.11/site-packages/astropy/io/fits/fitsrec.py\", line 695, in field\n",
      "    column = self.columns[key]\n",
      "             ~~~~~~~~~~~~^^^^^\n",
      "  File \"/home/petershi/miniconda3/envs/SDSSV/lib/python3.11/site-packages/astropy/io/fits/column.py\", line 1751, in __getitem__\n",
      "    key = _get_index(self.names, key)\n",
      "          ^^^^^^^^^^^^^^^^^^^^^^^^^^^\n",
      "  File \"/home/petershi/miniconda3/envs/SDSSV/lib/python3.11/site-packages/astropy/io/fits/column.py\", line 2151, in _get_index\n",
      "    raise KeyError(f\"Key '{key}' does not exist.\")\n",
      "KeyError: \"Key 'SNR' does not exist.\"\n",
      "\n"
     ]
    },
    {
     "name": "stderr",
     "output_type": "stream",
     "text": [
      " 43%|████▎     | 65889/153700 [5:55:26<6:26:27,  3.79it/s] "
     ]
    },
    {
     "name": "stdout",
     "output_type": "stream",
     "text": [
      "Traceback (most recent call last):\n",
      "  File \"/home/petershi/miniconda3/envs/SDSSV/lib/python3.11/site-packages/astropy/io/fits/column.py\", line 2142, in _get_index\n",
      "    indx = names.index(key.rstrip())\n",
      "           ^^^^^^^^^^^^^^^^^^^^^^^^^\n",
      "ValueError: 'SNR' is not in list\n",
      "\n",
      "During handling of the above exception, another exception occurred:\n",
      "\n",
      "Traceback (most recent call last):\n",
      "  File \"/tmp/ipykernel_10073/3388262553.py\", line 15, in <module>\n",
      "    cdata = getSDSSVData(cfile)\n",
      "            ^^^^^^^^^^^^^^^^^^^\n",
      "  File \"/tmp/ipykernel_10073/4007893978.py\", line 3, in getSDSSVData\n",
      "    snr = hdul[3].data[\"SNR\"]\n",
      "          ~~~~~~~~~~~~^^^^^^^\n",
      "  File \"/home/petershi/miniconda3/envs/SDSSV/lib/python3.11/site-packages/astropy/io/fits/fitsrec.py\", line 513, in __getitem__\n",
      "    return self.field(key)\n",
      "           ^^^^^^^^^^^^^^^\n",
      "  File \"/home/petershi/miniconda3/envs/SDSSV/lib/python3.11/site-packages/astropy/io/fits/fitsrec.py\", line 695, in field\n",
      "    column = self.columns[key]\n",
      "             ~~~~~~~~~~~~^^^^^\n",
      "  File \"/home/petershi/miniconda3/envs/SDSSV/lib/python3.11/site-packages/astropy/io/fits/column.py\", line 1751, in __getitem__\n",
      "    key = _get_index(self.names, key)\n",
      "          ^^^^^^^^^^^^^^^^^^^^^^^^^^^\n",
      "  File \"/home/petershi/miniconda3/envs/SDSSV/lib/python3.11/site-packages/astropy/io/fits/column.py\", line 2151, in _get_index\n",
      "    raise KeyError(f\"Key '{key}' does not exist.\")\n",
      "KeyError: \"Key 'SNR' does not exist.\"\n",
      "\n"
     ]
    },
    {
     "name": "stderr",
     "output_type": "stream",
     "text": [
      " 43%|████▎     | 65933/153700 [5:55:40<11:10:25,  2.18it/s]"
     ]
    },
    {
     "name": "stdout",
     "output_type": "stream",
     "text": [
      "Traceback (most recent call last):\n",
      "  File \"/home/petershi/miniconda3/envs/SDSSV/lib/python3.11/site-packages/astropy/io/fits/column.py\", line 2142, in _get_index\n",
      "    indx = names.index(key.rstrip())\n",
      "           ^^^^^^^^^^^^^^^^^^^^^^^^^\n",
      "ValueError: 'SNR' is not in list\n",
      "\n",
      "During handling of the above exception, another exception occurred:\n",
      "\n",
      "Traceback (most recent call last):\n",
      "  File \"/tmp/ipykernel_10073/3388262553.py\", line 15, in <module>\n",
      "    cdata = getSDSSVData(cfile)\n",
      "            ^^^^^^^^^^^^^^^^^^^\n",
      "  File \"/tmp/ipykernel_10073/4007893978.py\", line 3, in getSDSSVData\n",
      "    snr = hdul[3].data[\"SNR\"]\n",
      "          ~~~~~~~~~~~~^^^^^^^\n",
      "  File \"/home/petershi/miniconda3/envs/SDSSV/lib/python3.11/site-packages/astropy/io/fits/fitsrec.py\", line 513, in __getitem__\n",
      "    return self.field(key)\n",
      "           ^^^^^^^^^^^^^^^\n",
      "  File \"/home/petershi/miniconda3/envs/SDSSV/lib/python3.11/site-packages/astropy/io/fits/fitsrec.py\", line 695, in field\n",
      "    column = self.columns[key]\n",
      "             ~~~~~~~~~~~~^^^^^\n",
      "  File \"/home/petershi/miniconda3/envs/SDSSV/lib/python3.11/site-packages/astropy/io/fits/column.py\", line 1751, in __getitem__\n",
      "    key = _get_index(self.names, key)\n",
      "          ^^^^^^^^^^^^^^^^^^^^^^^^^^^\n",
      "  File \"/home/petershi/miniconda3/envs/SDSSV/lib/python3.11/site-packages/astropy/io/fits/column.py\", line 2151, in _get_index\n",
      "    raise KeyError(f\"Key '{key}' does not exist.\")\n",
      "KeyError: \"Key 'SNR' does not exist.\"\n",
      "\n"
     ]
    },
    {
     "name": "stderr",
     "output_type": "stream",
     "text": [
      " 43%|████▎     | 66316/153700 [5:57:40<7:33:07,  3.21it/s] "
     ]
    },
    {
     "name": "stdout",
     "output_type": "stream",
     "text": [
      "Traceback (most recent call last):\n",
      "  File \"/home/petershi/miniconda3/envs/SDSSV/lib/python3.11/site-packages/astropy/io/fits/column.py\", line 2142, in _get_index\n",
      "    indx = names.index(key.rstrip())\n",
      "           ^^^^^^^^^^^^^^^^^^^^^^^^^\n",
      "ValueError: 'SNR' is not in list\n",
      "\n",
      "During handling of the above exception, another exception occurred:\n",
      "\n",
      "Traceback (most recent call last):\n",
      "  File \"/tmp/ipykernel_10073/3388262553.py\", line 15, in <module>\n",
      "    cdata = getSDSSVData(cfile)\n",
      "            ^^^^^^^^^^^^^^^^^^^\n",
      "  File \"/tmp/ipykernel_10073/4007893978.py\", line 3, in getSDSSVData\n",
      "    snr = hdul[3].data[\"SNR\"]\n",
      "          ~~~~~~~~~~~~^^^^^^^\n",
      "  File \"/home/petershi/miniconda3/envs/SDSSV/lib/python3.11/site-packages/astropy/io/fits/fitsrec.py\", line 513, in __getitem__\n",
      "    return self.field(key)\n",
      "           ^^^^^^^^^^^^^^^\n",
      "  File \"/home/petershi/miniconda3/envs/SDSSV/lib/python3.11/site-packages/astropy/io/fits/fitsrec.py\", line 695, in field\n",
      "    column = self.columns[key]\n",
      "             ~~~~~~~~~~~~^^^^^\n",
      "  File \"/home/petershi/miniconda3/envs/SDSSV/lib/python3.11/site-packages/astropy/io/fits/column.py\", line 1751, in __getitem__\n",
      "    key = _get_index(self.names, key)\n",
      "          ^^^^^^^^^^^^^^^^^^^^^^^^^^^\n",
      "  File \"/home/petershi/miniconda3/envs/SDSSV/lib/python3.11/site-packages/astropy/io/fits/column.py\", line 2151, in _get_index\n",
      "    raise KeyError(f\"Key '{key}' does not exist.\")\n",
      "KeyError: \"Key 'SNR' does not exist.\"\n",
      "\n"
     ]
    },
    {
     "name": "stderr",
     "output_type": "stream",
     "text": [
      " 43%|████▎     | 66321/153700 [5:57:42<8:42:40,  2.79it/s]"
     ]
    },
    {
     "name": "stdout",
     "output_type": "stream",
     "text": [
      "Traceback (most recent call last):\n",
      "  File \"/home/petershi/miniconda3/envs/SDSSV/lib/python3.11/site-packages/astropy/io/fits/column.py\", line 2142, in _get_index\n",
      "    indx = names.index(key.rstrip())\n",
      "           ^^^^^^^^^^^^^^^^^^^^^^^^^\n",
      "ValueError: 'SNR' is not in list\n",
      "\n",
      "During handling of the above exception, another exception occurred:\n",
      "\n",
      "Traceback (most recent call last):\n",
      "  File \"/tmp/ipykernel_10073/3388262553.py\", line 15, in <module>\n",
      "    cdata = getSDSSVData(cfile)\n",
      "            ^^^^^^^^^^^^^^^^^^^\n",
      "  File \"/tmp/ipykernel_10073/4007893978.py\", line 3, in getSDSSVData\n",
      "    snr = hdul[3].data[\"SNR\"]\n",
      "          ~~~~~~~~~~~~^^^^^^^\n",
      "  File \"/home/petershi/miniconda3/envs/SDSSV/lib/python3.11/site-packages/astropy/io/fits/fitsrec.py\", line 513, in __getitem__\n",
      "    return self.field(key)\n",
      "           ^^^^^^^^^^^^^^^\n",
      "  File \"/home/petershi/miniconda3/envs/SDSSV/lib/python3.11/site-packages/astropy/io/fits/fitsrec.py\", line 695, in field\n",
      "    column = self.columns[key]\n",
      "             ~~~~~~~~~~~~^^^^^\n",
      "  File \"/home/petershi/miniconda3/envs/SDSSV/lib/python3.11/site-packages/astropy/io/fits/column.py\", line 1751, in __getitem__\n",
      "    key = _get_index(self.names, key)\n",
      "          ^^^^^^^^^^^^^^^^^^^^^^^^^^^\n",
      "  File \"/home/petershi/miniconda3/envs/SDSSV/lib/python3.11/site-packages/astropy/io/fits/column.py\", line 2151, in _get_index\n",
      "    raise KeyError(f\"Key '{key}' does not exist.\")\n",
      "KeyError: \"Key 'SNR' does not exist.\"\n",
      "\n"
     ]
    },
    {
     "name": "stderr",
     "output_type": "stream",
     "text": [
      " 43%|████▎     | 66325/153700 [5:57:43<9:31:23,  2.55it/s]"
     ]
    },
    {
     "name": "stdout",
     "output_type": "stream",
     "text": [
      "Traceback (most recent call last):\n",
      "  File \"/home/petershi/miniconda3/envs/SDSSV/lib/python3.11/site-packages/astropy/io/fits/column.py\", line 2142, in _get_index\n",
      "    indx = names.index(key.rstrip())\n",
      "           ^^^^^^^^^^^^^^^^^^^^^^^^^\n",
      "ValueError: 'SNR' is not in list\n",
      "\n",
      "During handling of the above exception, another exception occurred:\n",
      "\n",
      "Traceback (most recent call last):\n",
      "  File \"/tmp/ipykernel_10073/3388262553.py\", line 15, in <module>\n",
      "    cdata = getSDSSVData(cfile)\n",
      "            ^^^^^^^^^^^^^^^^^^^\n",
      "  File \"/tmp/ipykernel_10073/4007893978.py\", line 3, in getSDSSVData\n",
      "    snr = hdul[3].data[\"SNR\"]\n",
      "          ~~~~~~~~~~~~^^^^^^^\n",
      "  File \"/home/petershi/miniconda3/envs/SDSSV/lib/python3.11/site-packages/astropy/io/fits/fitsrec.py\", line 513, in __getitem__\n",
      "    return self.field(key)\n",
      "           ^^^^^^^^^^^^^^^\n",
      "  File \"/home/petershi/miniconda3/envs/SDSSV/lib/python3.11/site-packages/astropy/io/fits/fitsrec.py\", line 695, in field\n",
      "    column = self.columns[key]\n",
      "             ~~~~~~~~~~~~^^^^^\n",
      "  File \"/home/petershi/miniconda3/envs/SDSSV/lib/python3.11/site-packages/astropy/io/fits/column.py\", line 1751, in __getitem__\n",
      "    key = _get_index(self.names, key)\n",
      "          ^^^^^^^^^^^^^^^^^^^^^^^^^^^\n",
      "  File \"/home/petershi/miniconda3/envs/SDSSV/lib/python3.11/site-packages/astropy/io/fits/column.py\", line 2151, in _get_index\n",
      "    raise KeyError(f\"Key '{key}' does not exist.\")\n",
      "KeyError: \"Key 'SNR' does not exist.\"\n",
      "\n"
     ]
    },
    {
     "name": "stderr",
     "output_type": "stream",
     "text": [
      " 43%|████▎     | 66438/153700 [5:58:15<8:50:47,  2.74it/s] "
     ]
    },
    {
     "name": "stdout",
     "output_type": "stream",
     "text": [
      "File 27021597843286574 not found in /yngve_data/sdssv/ipl-2/spectro/astra/0.3.0/v6_0_9-1.0/spectra/star\n"
     ]
    },
    {
     "name": "stderr",
     "output_type": "stream",
     "text": [
      " 43%|████▎     | 66460/153700 [5:58:22<5:17:09,  4.58it/s] "
     ]
    },
    {
     "name": "stdout",
     "output_type": "stream",
     "text": [
      "Traceback (most recent call last):\n",
      "  File \"/home/petershi/miniconda3/envs/SDSSV/lib/python3.11/site-packages/astropy/io/fits/column.py\", line 2142, in _get_index\n",
      "    indx = names.index(key.rstrip())\n",
      "           ^^^^^^^^^^^^^^^^^^^^^^^^^\n",
      "ValueError: 'SNR' is not in list\n",
      "\n",
      "During handling of the above exception, another exception occurred:\n",
      "\n",
      "Traceback (most recent call last):\n",
      "  File \"/tmp/ipykernel_10073/3388262553.py\", line 15, in <module>\n",
      "    cdata = getSDSSVData(cfile)\n",
      "            ^^^^^^^^^^^^^^^^^^^\n",
      "  File \"/tmp/ipykernel_10073/4007893978.py\", line 3, in getSDSSVData\n",
      "    snr = hdul[3].data[\"SNR\"]\n",
      "          ~~~~~~~~~~~~^^^^^^^\n",
      "  File \"/home/petershi/miniconda3/envs/SDSSV/lib/python3.11/site-packages/astropy/io/fits/fitsrec.py\", line 513, in __getitem__\n",
      "    return self.field(key)\n",
      "           ^^^^^^^^^^^^^^^\n",
      "  File \"/home/petershi/miniconda3/envs/SDSSV/lib/python3.11/site-packages/astropy/io/fits/fitsrec.py\", line 695, in field\n",
      "    column = self.columns[key]\n",
      "             ~~~~~~~~~~~~^^^^^\n",
      "  File \"/home/petershi/miniconda3/envs/SDSSV/lib/python3.11/site-packages/astropy/io/fits/column.py\", line 1751, in __getitem__\n",
      "    key = _get_index(self.names, key)\n",
      "          ^^^^^^^^^^^^^^^^^^^^^^^^^^^\n",
      "  File \"/home/petershi/miniconda3/envs/SDSSV/lib/python3.11/site-packages/astropy/io/fits/column.py\", line 2151, in _get_index\n",
      "    raise KeyError(f\"Key '{key}' does not exist.\")\n",
      "KeyError: \"Key 'SNR' does not exist.\"\n",
      "\n"
     ]
    },
    {
     "name": "stderr",
     "output_type": "stream",
     "text": [
      " 43%|████▎     | 66564/153700 [5:58:56<6:19:14,  3.83it/s] "
     ]
    },
    {
     "name": "stdout",
     "output_type": "stream",
     "text": [
      "File 27021597843370075 not found in /yngve_data/sdssv/ipl-2/spectro/astra/0.3.0/v6_0_9-1.0/spectra/star\n"
     ]
    },
    {
     "name": "stderr",
     "output_type": "stream",
     "text": [
      " 43%|████▎     | 66715/153700 [5:59:46<10:16:37,  2.35it/s]"
     ]
    },
    {
     "name": "stdout",
     "output_type": "stream",
     "text": [
      "File 27021597843578813 not found in /yngve_data/sdssv/ipl-2/spectro/astra/0.3.0/v6_0_9-1.0/spectra/star\n"
     ]
    },
    {
     "name": "stderr",
     "output_type": "stream",
     "text": [
      " 43%|████▎     | 66815/153700 [6:00:13<9:42:01,  2.49it/s] "
     ]
    },
    {
     "name": "stdout",
     "output_type": "stream",
     "text": [
      "File 27021597843616505 not found in /yngve_data/sdssv/ipl-2/spectro/astra/0.3.0/v6_0_9-1.0/spectra/star\n"
     ]
    },
    {
     "name": "stderr",
     "output_type": "stream",
     "text": [
      " 43%|████▎     | 66818/153700 [6:00:14<9:55:47,  2.43it/s]"
     ]
    },
    {
     "name": "stdout",
     "output_type": "stream",
     "text": [
      "Traceback (most recent call last):\n",
      "  File \"/home/petershi/miniconda3/envs/SDSSV/lib/python3.11/site-packages/astropy/io/fits/column.py\", line 2142, in _get_index\n",
      "    indx = names.index(key.rstrip())\n",
      "           ^^^^^^^^^^^^^^^^^^^^^^^^^\n",
      "ValueError: 'SNR' is not in list\n",
      "\n",
      "During handling of the above exception, another exception occurred:\n",
      "\n",
      "Traceback (most recent call last):\n",
      "  File \"/tmp/ipykernel_10073/3388262553.py\", line 15, in <module>\n",
      "    cdata = getSDSSVData(cfile)\n",
      "            ^^^^^^^^^^^^^^^^^^^\n",
      "  File \"/tmp/ipykernel_10073/4007893978.py\", line 3, in getSDSSVData\n",
      "    snr = hdul[3].data[\"SNR\"]\n",
      "          ~~~~~~~~~~~~^^^^^^^\n",
      "  File \"/home/petershi/miniconda3/envs/SDSSV/lib/python3.11/site-packages/astropy/io/fits/fitsrec.py\", line 513, in __getitem__\n",
      "    return self.field(key)\n",
      "           ^^^^^^^^^^^^^^^\n",
      "  File \"/home/petershi/miniconda3/envs/SDSSV/lib/python3.11/site-packages/astropy/io/fits/fitsrec.py\", line 695, in field\n",
      "    column = self.columns[key]\n",
      "             ~~~~~~~~~~~~^^^^^\n",
      "  File \"/home/petershi/miniconda3/envs/SDSSV/lib/python3.11/site-packages/astropy/io/fits/column.py\", line 1751, in __getitem__\n",
      "    key = _get_index(self.names, key)\n",
      "          ^^^^^^^^^^^^^^^^^^^^^^^^^^^\n",
      "  File \"/home/petershi/miniconda3/envs/SDSSV/lib/python3.11/site-packages/astropy/io/fits/column.py\", line 2151, in _get_index\n",
      "    raise KeyError(f\"Key '{key}' does not exist.\")\n",
      "KeyError: \"Key 'SNR' does not exist.\"\n",
      "\n"
     ]
    },
    {
     "name": "stderr",
     "output_type": "stream",
     "text": [
      " 44%|████▎     | 66913/153700 [6:00:45<4:43:53,  5.10it/s] "
     ]
    },
    {
     "name": "stdout",
     "output_type": "stream",
     "text": [
      "Traceback (most recent call last):\n",
      "  File \"/home/petershi/miniconda3/envs/SDSSV/lib/python3.11/site-packages/astropy/io/fits/column.py\", line 2142, in _get_index\n",
      "    indx = names.index(key.rstrip())\n",
      "           ^^^^^^^^^^^^^^^^^^^^^^^^^\n",
      "ValueError: 'SNR' is not in list\n",
      "\n",
      "During handling of the above exception, another exception occurred:\n",
      "\n",
      "Traceback (most recent call last):\n",
      "  File \"/tmp/ipykernel_10073/3388262553.py\", line 15, in <module>\n",
      "    cdata = getSDSSVData(cfile)\n",
      "            ^^^^^^^^^^^^^^^^^^^\n",
      "  File \"/tmp/ipykernel_10073/4007893978.py\", line 3, in getSDSSVData\n",
      "    snr = hdul[3].data[\"SNR\"]\n",
      "          ~~~~~~~~~~~~^^^^^^^\n",
      "  File \"/home/petershi/miniconda3/envs/SDSSV/lib/python3.11/site-packages/astropy/io/fits/fitsrec.py\", line 513, in __getitem__\n",
      "    return self.field(key)\n",
      "           ^^^^^^^^^^^^^^^\n",
      "  File \"/home/petershi/miniconda3/envs/SDSSV/lib/python3.11/site-packages/astropy/io/fits/fitsrec.py\", line 695, in field\n",
      "    column = self.columns[key]\n",
      "             ~~~~~~~~~~~~^^^^^\n",
      "  File \"/home/petershi/miniconda3/envs/SDSSV/lib/python3.11/site-packages/astropy/io/fits/column.py\", line 1751, in __getitem__\n",
      "    key = _get_index(self.names, key)\n",
      "          ^^^^^^^^^^^^^^^^^^^^^^^^^^^\n",
      "  File \"/home/petershi/miniconda3/envs/SDSSV/lib/python3.11/site-packages/astropy/io/fits/column.py\", line 2151, in _get_index\n",
      "    raise KeyError(f\"Key '{key}' does not exist.\")\n",
      "KeyError: \"Key 'SNR' does not exist.\"\n",
      "\n"
     ]
    },
    {
     "name": "stderr",
     "output_type": "stream",
     "text": [
      " 44%|████▎     | 67056/153700 [6:01:26<2:40:25,  9.00it/s] "
     ]
    },
    {
     "name": "stdout",
     "output_type": "stream",
     "text": [
      "Traceback (most recent call last):\n",
      "  File \"/home/petershi/miniconda3/envs/SDSSV/lib/python3.11/site-packages/astropy/io/fits/column.py\", line 2142, in _get_index\n",
      "    indx = names.index(key.rstrip())\n",
      "           ^^^^^^^^^^^^^^^^^^^^^^^^^\n",
      "ValueError: 'SNR' is not in list\n",
      "\n",
      "During handling of the above exception, another exception occurred:\n",
      "\n",
      "Traceback (most recent call last):\n",
      "  File \"/tmp/ipykernel_10073/3388262553.py\", line 15, in <module>\n",
      "    cdata = getSDSSVData(cfile)\n",
      "            ^^^^^^^^^^^^^^^^^^^\n",
      "  File \"/tmp/ipykernel_10073/4007893978.py\", line 3, in getSDSSVData\n",
      "    snr = hdul[3].data[\"SNR\"]\n",
      "          ~~~~~~~~~~~~^^^^^^^\n",
      "  File \"/home/petershi/miniconda3/envs/SDSSV/lib/python3.11/site-packages/astropy/io/fits/fitsrec.py\", line 513, in __getitem__\n",
      "    return self.field(key)\n",
      "           ^^^^^^^^^^^^^^^\n",
      "  File \"/home/petershi/miniconda3/envs/SDSSV/lib/python3.11/site-packages/astropy/io/fits/fitsrec.py\", line 695, in field\n",
      "    column = self.columns[key]\n",
      "             ~~~~~~~~~~~~^^^^^\n",
      "  File \"/home/petershi/miniconda3/envs/SDSSV/lib/python3.11/site-packages/astropy/io/fits/column.py\", line 1751, in __getitem__\n",
      "    key = _get_index(self.names, key)\n",
      "          ^^^^^^^^^^^^^^^^^^^^^^^^^^^\n",
      "  File \"/home/petershi/miniconda3/envs/SDSSV/lib/python3.11/site-packages/astropy/io/fits/column.py\", line 2151, in _get_index\n",
      "    raise KeyError(f\"Key '{key}' does not exist.\")\n",
      "KeyError: \"Key 'SNR' does not exist.\"\n",
      "\n"
     ]
    },
    {
     "name": "stderr",
     "output_type": "stream",
     "text": [
      " 44%|████▎     | 67131/153700 [6:01:47<10:10:51,  2.36it/s]"
     ]
    },
    {
     "name": "stdout",
     "output_type": "stream",
     "text": [
      "Traceback (most recent call last):\n",
      "  File \"/home/petershi/miniconda3/envs/SDSSV/lib/python3.11/site-packages/astropy/io/fits/column.py\", line 2142, in _get_index\n",
      "    indx = names.index(key.rstrip())\n",
      "           ^^^^^^^^^^^^^^^^^^^^^^^^^\n",
      "ValueError: 'SNR' is not in list\n",
      "\n",
      "During handling of the above exception, another exception occurred:\n",
      "\n",
      "Traceback (most recent call last):\n",
      "  File \"/tmp/ipykernel_10073/3388262553.py\", line 15, in <module>\n",
      "    cdata = getSDSSVData(cfile)\n",
      "            ^^^^^^^^^^^^^^^^^^^\n",
      "  File \"/tmp/ipykernel_10073/4007893978.py\", line 3, in getSDSSVData\n",
      "    snr = hdul[3].data[\"SNR\"]\n",
      "          ~~~~~~~~~~~~^^^^^^^\n",
      "  File \"/home/petershi/miniconda3/envs/SDSSV/lib/python3.11/site-packages/astropy/io/fits/fitsrec.py\", line 513, in __getitem__\n",
      "    return self.field(key)\n",
      "           ^^^^^^^^^^^^^^^\n",
      "  File \"/home/petershi/miniconda3/envs/SDSSV/lib/python3.11/site-packages/astropy/io/fits/fitsrec.py\", line 695, in field\n",
      "    column = self.columns[key]\n",
      "             ~~~~~~~~~~~~^^^^^\n",
      "  File \"/home/petershi/miniconda3/envs/SDSSV/lib/python3.11/site-packages/astropy/io/fits/column.py\", line 1751, in __getitem__\n",
      "    key = _get_index(self.names, key)\n",
      "          ^^^^^^^^^^^^^^^^^^^^^^^^^^^\n",
      "  File \"/home/petershi/miniconda3/envs/SDSSV/lib/python3.11/site-packages/astropy/io/fits/column.py\", line 2151, in _get_index\n",
      "    raise KeyError(f\"Key '{key}' does not exist.\")\n",
      "KeyError: \"Key 'SNR' does not exist.\"\n",
      "\n"
     ]
    },
    {
     "name": "stderr",
     "output_type": "stream",
     "text": [
      " 44%|████▍     | 67276/153700 [6:02:29<10:06:49,  2.37it/s]"
     ]
    },
    {
     "name": "stdout",
     "output_type": "stream",
     "text": [
      "File 27021597843878089 not found in /yngve_data/sdssv/ipl-2/spectro/astra/0.3.0/v6_0_9-1.0/spectra/star\n"
     ]
    },
    {
     "name": "stderr",
     "output_type": "stream",
     "text": [
      " 44%|████▍     | 67382/153700 [6:03:03<8:30:13,  2.82it/s] "
     ]
    },
    {
     "name": "stdout",
     "output_type": "stream",
     "text": [
      "File 27021597844330677 not found in /yngve_data/sdssv/ipl-2/spectro/astra/0.3.0/v6_0_9-1.0/spectra/star\n"
     ]
    },
    {
     "name": "stderr",
     "output_type": "stream",
     "text": [
      " 44%|████▍     | 67619/153700 [6:04:12<4:51:17,  4.93it/s] "
     ]
    },
    {
     "name": "stdout",
     "output_type": "stream",
     "text": [
      "File 27021597844382016 not found in /yngve_data/sdssv/ipl-2/spectro/astra/0.3.0/v6_0_9-1.0/spectra/star\n"
     ]
    },
    {
     "name": "stderr",
     "output_type": "stream",
     "text": [
      " 44%|████▍     | 67704/153700 [6:04:36<4:49:22,  4.95it/s] "
     ]
    },
    {
     "name": "stdout",
     "output_type": "stream",
     "text": [
      "File 27021597844401712 not found in /yngve_data/sdssv/ipl-2/spectro/astra/0.3.0/v6_0_9-1.0/spectra/star\n"
     ]
    },
    {
     "name": "stderr",
     "output_type": "stream",
     "text": [
      " 44%|████▍     | 67737/153700 [6:04:46<11:36:50,  2.06it/s]"
     ]
    },
    {
     "name": "stdout",
     "output_type": "stream",
     "text": [
      "File 27021597844489171 not found in /yngve_data/sdssv/ipl-2/spectro/astra/0.3.0/v6_0_9-1.0/spectra/star\n"
     ]
    },
    {
     "name": "stderr",
     "output_type": "stream",
     "text": [
      " 44%|████▍     | 67739/153700 [6:04:47<12:35:58,  1.90it/s]"
     ]
    },
    {
     "name": "stdout",
     "output_type": "stream",
     "text": [
      "Traceback (most recent call last):\n",
      "  File \"/home/petershi/miniconda3/envs/SDSSV/lib/python3.11/site-packages/astropy/io/fits/column.py\", line 2142, in _get_index\n",
      "    indx = names.index(key.rstrip())\n",
      "           ^^^^^^^^^^^^^^^^^^^^^^^^^\n",
      "ValueError: 'SNR' is not in list\n",
      "\n",
      "During handling of the above exception, another exception occurred:\n",
      "\n",
      "Traceback (most recent call last):\n",
      "  File \"/tmp/ipykernel_10073/3388262553.py\", line 15, in <module>\n",
      "    cdata = getSDSSVData(cfile)\n",
      "            ^^^^^^^^^^^^^^^^^^^\n",
      "  File \"/tmp/ipykernel_10073/4007893978.py\", line 3, in getSDSSVData\n",
      "    snr = hdul[3].data[\"SNR\"]\n",
      "          ~~~~~~~~~~~~^^^^^^^\n",
      "  File \"/home/petershi/miniconda3/envs/SDSSV/lib/python3.11/site-packages/astropy/io/fits/fitsrec.py\", line 513, in __getitem__\n",
      "    return self.field(key)\n",
      "           ^^^^^^^^^^^^^^^\n",
      "  File \"/home/petershi/miniconda3/envs/SDSSV/lib/python3.11/site-packages/astropy/io/fits/fitsrec.py\", line 695, in field\n",
      "    column = self.columns[key]\n",
      "             ~~~~~~~~~~~~^^^^^\n",
      "  File \"/home/petershi/miniconda3/envs/SDSSV/lib/python3.11/site-packages/astropy/io/fits/column.py\", line 1751, in __getitem__\n",
      "    key = _get_index(self.names, key)\n",
      "          ^^^^^^^^^^^^^^^^^^^^^^^^^^^\n",
      "  File \"/home/petershi/miniconda3/envs/SDSSV/lib/python3.11/site-packages/astropy/io/fits/column.py\", line 2151, in _get_index\n",
      "    raise KeyError(f\"Key '{key}' does not exist.\")\n",
      "KeyError: \"Key 'SNR' does not exist.\"\n",
      "\n"
     ]
    },
    {
     "name": "stderr",
     "output_type": "stream",
     "text": [
      " 44%|████▍     | 67826/153700 [6:05:15<5:10:25,  4.61it/s] "
     ]
    },
    {
     "name": "stdout",
     "output_type": "stream",
     "text": [
      "Traceback (most recent call last):\n",
      "  File \"/home/petershi/miniconda3/envs/SDSSV/lib/python3.11/site-packages/astropy/io/fits/column.py\", line 2142, in _get_index\n",
      "    indx = names.index(key.rstrip())\n",
      "           ^^^^^^^^^^^^^^^^^^^^^^^^^\n",
      "ValueError: 'SNR' is not in list\n",
      "\n",
      "During handling of the above exception, another exception occurred:\n",
      "\n",
      "Traceback (most recent call last):\n",
      "  File \"/tmp/ipykernel_10073/3388262553.py\", line 15, in <module>\n",
      "    cdata = getSDSSVData(cfile)\n",
      "            ^^^^^^^^^^^^^^^^^^^\n",
      "  File \"/tmp/ipykernel_10073/4007893978.py\", line 3, in getSDSSVData\n",
      "    snr = hdul[3].data[\"SNR\"]\n",
      "          ~~~~~~~~~~~~^^^^^^^\n",
      "  File \"/home/petershi/miniconda3/envs/SDSSV/lib/python3.11/site-packages/astropy/io/fits/fitsrec.py\", line 513, in __getitem__\n",
      "    return self.field(key)\n",
      "           ^^^^^^^^^^^^^^^\n",
      "  File \"/home/petershi/miniconda3/envs/SDSSV/lib/python3.11/site-packages/astropy/io/fits/fitsrec.py\", line 695, in field\n",
      "    column = self.columns[key]\n",
      "             ~~~~~~~~~~~~^^^^^\n",
      "  File \"/home/petershi/miniconda3/envs/SDSSV/lib/python3.11/site-packages/astropy/io/fits/column.py\", line 1751, in __getitem__\n",
      "    key = _get_index(self.names, key)\n",
      "          ^^^^^^^^^^^^^^^^^^^^^^^^^^^\n",
      "  File \"/home/petershi/miniconda3/envs/SDSSV/lib/python3.11/site-packages/astropy/io/fits/column.py\", line 2151, in _get_index\n",
      "    raise KeyError(f\"Key '{key}' does not exist.\")\n",
      "KeyError: \"Key 'SNR' does not exist.\"\n",
      "\n"
     ]
    },
    {
     "name": "stderr",
     "output_type": "stream",
     "text": [
      " 44%|████▍     | 67850/153700 [6:05:21<5:06:59,  4.66it/s] "
     ]
    },
    {
     "name": "stdout",
     "output_type": "stream",
     "text": [
      "Traceback (most recent call last):\n",
      "  File \"/home/petershi/miniconda3/envs/SDSSV/lib/python3.11/site-packages/astropy/io/fits/column.py\", line 2142, in _get_index\n",
      "    indx = names.index(key.rstrip())\n",
      "           ^^^^^^^^^^^^^^^^^^^^^^^^^\n",
      "ValueError: 'SNR' is not in list\n",
      "\n",
      "During handling of the above exception, another exception occurred:\n",
      "\n",
      "Traceback (most recent call last):\n",
      "  File \"/tmp/ipykernel_10073/3388262553.py\", line 15, in <module>\n",
      "    cdata = getSDSSVData(cfile)\n",
      "            ^^^^^^^^^^^^^^^^^^^\n",
      "  File \"/tmp/ipykernel_10073/4007893978.py\", line 3, in getSDSSVData\n",
      "    snr = hdul[3].data[\"SNR\"]\n",
      "          ~~~~~~~~~~~~^^^^^^^\n",
      "  File \"/home/petershi/miniconda3/envs/SDSSV/lib/python3.11/site-packages/astropy/io/fits/fitsrec.py\", line 513, in __getitem__\n",
      "    return self.field(key)\n",
      "           ^^^^^^^^^^^^^^^\n",
      "  File \"/home/petershi/miniconda3/envs/SDSSV/lib/python3.11/site-packages/astropy/io/fits/fitsrec.py\", line 695, in field\n",
      "    column = self.columns[key]\n",
      "             ~~~~~~~~~~~~^^^^^\n",
      "  File \"/home/petershi/miniconda3/envs/SDSSV/lib/python3.11/site-packages/astropy/io/fits/column.py\", line 1751, in __getitem__\n",
      "    key = _get_index(self.names, key)\n",
      "          ^^^^^^^^^^^^^^^^^^^^^^^^^^^\n",
      "  File \"/home/petershi/miniconda3/envs/SDSSV/lib/python3.11/site-packages/astropy/io/fits/column.py\", line 2151, in _get_index\n",
      "    raise KeyError(f\"Key '{key}' does not exist.\")\n",
      "KeyError: \"Key 'SNR' does not exist.\"\n",
      "\n"
     ]
    },
    {
     "name": "stderr",
     "output_type": "stream",
     "text": [
      " 44%|████▍     | 67967/153700 [6:05:58<9:45:39,  2.44it/s] "
     ]
    },
    {
     "name": "stdout",
     "output_type": "stream",
     "text": [
      "File 27021597845346909 not found in /yngve_data/sdssv/ipl-2/spectro/astra/0.3.0/v6_0_9-1.0/spectra/star\n"
     ]
    },
    {
     "name": "stderr",
     "output_type": "stream",
     "text": [
      " 44%|████▍     | 68186/153700 [6:07:08<5:41:01,  4.18it/s] "
     ]
    },
    {
     "name": "stdout",
     "output_type": "stream",
     "text": [
      "File 27021597845392684 not found in /yngve_data/sdssv/ipl-2/spectro/astra/0.3.0/v6_0_9-1.0/spectra/star\n"
     ]
    },
    {
     "name": "stderr",
     "output_type": "stream",
     "text": [
      " 45%|████▍     | 68458/153700 [6:08:26<7:31:45,  3.14it/s] "
     ]
    },
    {
     "name": "stdout",
     "output_type": "stream",
     "text": [
      "Traceback (most recent call last):\n",
      "  File \"/home/petershi/miniconda3/envs/SDSSV/lib/python3.11/site-packages/astropy/io/fits/column.py\", line 2142, in _get_index\n",
      "    indx = names.index(key.rstrip())\n",
      "           ^^^^^^^^^^^^^^^^^^^^^^^^^\n",
      "ValueError: 'SNR' is not in list\n",
      "\n",
      "During handling of the above exception, another exception occurred:\n",
      "\n",
      "Traceback (most recent call last):\n",
      "  File \"/tmp/ipykernel_10073/3388262553.py\", line 15, in <module>\n",
      "    cdata = getSDSSVData(cfile)\n",
      "            ^^^^^^^^^^^^^^^^^^^\n",
      "  File \"/tmp/ipykernel_10073/4007893978.py\", line 3, in getSDSSVData\n",
      "    snr = hdul[3].data[\"SNR\"]\n",
      "          ~~~~~~~~~~~~^^^^^^^\n",
      "  File \"/home/petershi/miniconda3/envs/SDSSV/lib/python3.11/site-packages/astropy/io/fits/fitsrec.py\", line 513, in __getitem__\n",
      "    return self.field(key)\n",
      "           ^^^^^^^^^^^^^^^\n",
      "  File \"/home/petershi/miniconda3/envs/SDSSV/lib/python3.11/site-packages/astropy/io/fits/fitsrec.py\", line 695, in field\n",
      "    column = self.columns[key]\n",
      "             ~~~~~~~~~~~~^^^^^\n",
      "  File \"/home/petershi/miniconda3/envs/SDSSV/lib/python3.11/site-packages/astropy/io/fits/column.py\", line 1751, in __getitem__\n",
      "    key = _get_index(self.names, key)\n",
      "          ^^^^^^^^^^^^^^^^^^^^^^^^^^^\n",
      "  File \"/home/petershi/miniconda3/envs/SDSSV/lib/python3.11/site-packages/astropy/io/fits/column.py\", line 2151, in _get_index\n",
      "    raise KeyError(f\"Key '{key}' does not exist.\")\n",
      "KeyError: \"Key 'SNR' does not exist.\"\n",
      "\n"
     ]
    },
    {
     "name": "stderr",
     "output_type": "stream",
     "text": [
      " 45%|████▍     | 68653/153700 [6:09:28<10:27:06,  2.26it/s]"
     ]
    },
    {
     "name": "stdout",
     "output_type": "stream",
     "text": [
      "Traceback (most recent call last):\n",
      "  File \"/home/petershi/miniconda3/envs/SDSSV/lib/python3.11/site-packages/astropy/io/fits/column.py\", line 2142, in _get_index\n",
      "    indx = names.index(key.rstrip())\n",
      "           ^^^^^^^^^^^^^^^^^^^^^^^^^\n",
      "ValueError: 'SNR' is not in list\n",
      "\n",
      "During handling of the above exception, another exception occurred:\n",
      "\n",
      "Traceback (most recent call last):\n",
      "  File \"/tmp/ipykernel_10073/3388262553.py\", line 15, in <module>\n",
      "    cdata = getSDSSVData(cfile)\n",
      "            ^^^^^^^^^^^^^^^^^^^\n",
      "  File \"/tmp/ipykernel_10073/4007893978.py\", line 3, in getSDSSVData\n",
      "    snr = hdul[3].data[\"SNR\"]\n",
      "          ~~~~~~~~~~~~^^^^^^^\n",
      "  File \"/home/petershi/miniconda3/envs/SDSSV/lib/python3.11/site-packages/astropy/io/fits/fitsrec.py\", line 513, in __getitem__\n",
      "    return self.field(key)\n",
      "           ^^^^^^^^^^^^^^^\n",
      "  File \"/home/petershi/miniconda3/envs/SDSSV/lib/python3.11/site-packages/astropy/io/fits/fitsrec.py\", line 695, in field\n",
      "    column = self.columns[key]\n",
      "             ~~~~~~~~~~~~^^^^^\n",
      "  File \"/home/petershi/miniconda3/envs/SDSSV/lib/python3.11/site-packages/astropy/io/fits/column.py\", line 1751, in __getitem__\n",
      "    key = _get_index(self.names, key)\n",
      "          ^^^^^^^^^^^^^^^^^^^^^^^^^^^\n",
      "  File \"/home/petershi/miniconda3/envs/SDSSV/lib/python3.11/site-packages/astropy/io/fits/column.py\", line 2151, in _get_index\n",
      "    raise KeyError(f\"Key '{key}' does not exist.\")\n",
      "KeyError: \"Key 'SNR' does not exist.\"\n",
      "\n"
     ]
    },
    {
     "name": "stderr",
     "output_type": "stream",
     "text": [
      " 45%|████▍     | 68664/153700 [6:09:32<5:15:32,  4.49it/s] "
     ]
    },
    {
     "name": "stdout",
     "output_type": "stream",
     "text": [
      "Traceback (most recent call last):\n",
      "  File \"/home/petershi/miniconda3/envs/SDSSV/lib/python3.11/site-packages/astropy/io/fits/column.py\", line 2142, in _get_index\n",
      "    indx = names.index(key.rstrip())\n",
      "           ^^^^^^^^^^^^^^^^^^^^^^^^^\n",
      "ValueError: 'SNR' is not in list\n",
      "\n",
      "During handling of the above exception, another exception occurred:\n",
      "\n",
      "Traceback (most recent call last):\n",
      "  File \"/tmp/ipykernel_10073/3388262553.py\", line 15, in <module>\n",
      "    cdata = getSDSSVData(cfile)\n",
      "            ^^^^^^^^^^^^^^^^^^^\n",
      "  File \"/tmp/ipykernel_10073/4007893978.py\", line 3, in getSDSSVData\n",
      "    snr = hdul[3].data[\"SNR\"]\n",
      "          ~~~~~~~~~~~~^^^^^^^\n",
      "  File \"/home/petershi/miniconda3/envs/SDSSV/lib/python3.11/site-packages/astropy/io/fits/fitsrec.py\", line 513, in __getitem__\n",
      "    return self.field(key)\n",
      "           ^^^^^^^^^^^^^^^\n",
      "  File \"/home/petershi/miniconda3/envs/SDSSV/lib/python3.11/site-packages/astropy/io/fits/fitsrec.py\", line 695, in field\n",
      "    column = self.columns[key]\n",
      "             ~~~~~~~~~~~~^^^^^\n",
      "  File \"/home/petershi/miniconda3/envs/SDSSV/lib/python3.11/site-packages/astropy/io/fits/column.py\", line 1751, in __getitem__\n",
      "    key = _get_index(self.names, key)\n",
      "          ^^^^^^^^^^^^^^^^^^^^^^^^^^^\n",
      "  File \"/home/petershi/miniconda3/envs/SDSSV/lib/python3.11/site-packages/astropy/io/fits/column.py\", line 2151, in _get_index\n",
      "    raise KeyError(f\"Key '{key}' does not exist.\")\n",
      "KeyError: \"Key 'SNR' does not exist.\"\n",
      "\n"
     ]
    },
    {
     "name": "stderr",
     "output_type": "stream",
     "text": [
      " 45%|████▍     | 68799/153700 [6:10:12<6:54:39,  3.41it/s] "
     ]
    },
    {
     "name": "stdout",
     "output_type": "stream",
     "text": [
      "File 27021597846122946 not found in /yngve_data/sdssv/ipl-2/spectro/astra/0.3.0/v6_0_9-1.0/spectra/star\n"
     ]
    },
    {
     "name": "stderr",
     "output_type": "stream",
     "text": [
      " 45%|████▍     | 68875/153700 [6:10:37<11:54:11,  1.98it/s]"
     ]
    },
    {
     "name": "stdout",
     "output_type": "stream",
     "text": [
      "File 27021597846198934 not found in /yngve_data/sdssv/ipl-2/spectro/astra/0.3.0/v6_0_9-1.0/spectra/star\n"
     ]
    },
    {
     "name": "stderr",
     "output_type": "stream",
     "text": [
      " 45%|████▍     | 68904/153700 [6:10:45<10:09:25,  2.32it/s]"
     ]
    },
    {
     "name": "stdout",
     "output_type": "stream",
     "text": [
      "File 27021597846218093 not found in /yngve_data/sdssv/ipl-2/spectro/astra/0.3.0/v6_0_9-1.0/spectra/star\n"
     ]
    },
    {
     "name": "stderr",
     "output_type": "stream",
     "text": [
      " 45%|████▍     | 68906/153700 [6:10:46<11:06:40,  2.12it/s]"
     ]
    },
    {
     "name": "stdout",
     "output_type": "stream",
     "text": [
      "File 27021597846218441 not found in /yngve_data/sdssv/ipl-2/spectro/astra/0.3.0/v6_0_9-1.0/spectra/star\n"
     ]
    },
    {
     "name": "stderr",
     "output_type": "stream",
     "text": [
      " 45%|████▍     | 69032/153700 [6:11:29<6:57:18,  3.38it/s] "
     ]
    },
    {
     "name": "stdout",
     "output_type": "stream",
     "text": [
      "File 27021597853989903 not found in /yngve_data/sdssv/ipl-2/spectro/astra/0.3.0/v6_0_9-1.0/spectra/star\n"
     ]
    },
    {
     "name": "stderr",
     "output_type": "stream",
     "text": [
      " 45%|████▌     | 69275/153700 [6:12:45<6:25:57,  3.65it/s] "
     ]
    },
    {
     "name": "stdout",
     "output_type": "stream",
     "text": [
      "File 27021597854857164 not found in /yngve_data/sdssv/ipl-2/spectro/astra/0.3.0/v6_0_9-1.0/spectra/star\n"
     ]
    },
    {
     "name": "stderr",
     "output_type": "stream",
     "text": [
      " 45%|████▌     | 69286/153700 [6:12:49<9:35:44,  2.44it/s]"
     ]
    },
    {
     "name": "stdout",
     "output_type": "stream",
     "text": [
      "File 27021597854877124 not found in /yngve_data/sdssv/ipl-2/spectro/astra/0.3.0/v6_0_9-1.0/spectra/star\n"
     ]
    },
    {
     "name": "stderr",
     "output_type": "stream",
     "text": [
      " 45%|████▌     | 69311/153700 [6:12:58<9:01:37,  2.60it/s] "
     ]
    },
    {
     "name": "stdout",
     "output_type": "stream",
     "text": [
      "File 27021597854914651 not found in /yngve_data/sdssv/ipl-2/spectro/astra/0.3.0/v6_0_9-1.0/spectra/star\n"
     ]
    },
    {
     "name": "stderr",
     "output_type": "stream",
     "text": [
      " 45%|████▌     | 69320/153700 [6:13:01<9:09:34,  2.56it/s] "
     ]
    },
    {
     "name": "stdout",
     "output_type": "stream",
     "text": [
      "File 27021597854938124 not found in /yngve_data/sdssv/ipl-2/spectro/astra/0.3.0/v6_0_9-1.0/spectra/star\n"
     ]
    },
    {
     "name": "stderr",
     "output_type": "stream",
     "text": [
      " 45%|████▌     | 69341/153700 [6:13:08<7:20:44,  3.19it/s] "
     ]
    },
    {
     "name": "stdout",
     "output_type": "stream",
     "text": [
      "File 27021597854971267 not found in /yngve_data/sdssv/ipl-2/spectro/astra/0.3.0/v6_0_9-1.0/spectra/star\n"
     ]
    },
    {
     "name": "stderr",
     "output_type": "stream",
     "text": [
      " 45%|████▌     | 69435/153700 [6:13:36<7:33:16,  3.10it/s] "
     ]
    },
    {
     "name": "stdout",
     "output_type": "stream",
     "text": [
      "File 27021597855071650 not found in /yngve_data/sdssv/ipl-2/spectro/astra/0.3.0/v6_0_9-1.0/spectra/star\n"
     ]
    },
    {
     "name": "stderr",
     "output_type": "stream",
     "text": [
      " 45%|████▌     | 69504/153700 [6:13:58<7:55:16,  2.95it/s] "
     ]
    },
    {
     "name": "stdout",
     "output_type": "stream",
     "text": [
      "File 27021597856509780 not found in /yngve_data/sdssv/ipl-2/spectro/astra/0.3.0/v6_0_9-1.0/spectra/star\n"
     ]
    },
    {
     "name": "stderr",
     "output_type": "stream",
     "text": [
      " 45%|████▌     | 69541/153700 [6:14:09<8:09:06,  2.87it/s] "
     ]
    },
    {
     "name": "stdout",
     "output_type": "stream",
     "text": [
      "Traceback (most recent call last):\n",
      "  File \"/home/petershi/miniconda3/envs/SDSSV/lib/python3.11/site-packages/astropy/io/fits/column.py\", line 2142, in _get_index\n",
      "    indx = names.index(key.rstrip())\n",
      "           ^^^^^^^^^^^^^^^^^^^^^^^^^\n",
      "ValueError: 'SNR' is not in list\n",
      "\n",
      "During handling of the above exception, another exception occurred:\n",
      "\n",
      "Traceback (most recent call last):\n",
      "  File \"/tmp/ipykernel_10073/3388262553.py\", line 15, in <module>\n",
      "    cdata = getSDSSVData(cfile)\n",
      "            ^^^^^^^^^^^^^^^^^^^\n",
      "  File \"/tmp/ipykernel_10073/4007893978.py\", line 3, in getSDSSVData\n",
      "    snr = hdul[3].data[\"SNR\"]\n",
      "          ~~~~~~~~~~~~^^^^^^^\n",
      "  File \"/home/petershi/miniconda3/envs/SDSSV/lib/python3.11/site-packages/astropy/io/fits/fitsrec.py\", line 513, in __getitem__\n",
      "    return self.field(key)\n",
      "           ^^^^^^^^^^^^^^^\n",
      "  File \"/home/petershi/miniconda3/envs/SDSSV/lib/python3.11/site-packages/astropy/io/fits/fitsrec.py\", line 695, in field\n",
      "    column = self.columns[key]\n",
      "             ~~~~~~~~~~~~^^^^^\n",
      "  File \"/home/petershi/miniconda3/envs/SDSSV/lib/python3.11/site-packages/astropy/io/fits/column.py\", line 1751, in __getitem__\n",
      "    key = _get_index(self.names, key)\n",
      "          ^^^^^^^^^^^^^^^^^^^^^^^^^^^\n",
      "  File \"/home/petershi/miniconda3/envs/SDSSV/lib/python3.11/site-packages/astropy/io/fits/column.py\", line 2151, in _get_index\n",
      "    raise KeyError(f\"Key '{key}' does not exist.\")\n",
      "KeyError: \"Key 'SNR' does not exist.\"\n",
      "\n"
     ]
    },
    {
     "name": "stderr",
     "output_type": "stream",
     "text": [
      " 45%|████▌     | 69549/153700 [6:14:11<6:46:03,  3.45it/s]"
     ]
    },
    {
     "name": "stdout",
     "output_type": "stream",
     "text": [
      "Traceback (most recent call last):\n",
      "  File \"/home/petershi/miniconda3/envs/SDSSV/lib/python3.11/site-packages/astropy/io/fits/column.py\", line 2142, in _get_index\n",
      "    indx = names.index(key.rstrip())\n",
      "           ^^^^^^^^^^^^^^^^^^^^^^^^^\n",
      "ValueError: 'SNR' is not in list\n",
      "\n",
      "During handling of the above exception, another exception occurred:\n",
      "\n",
      "Traceback (most recent call last):\n",
      "  File \"/tmp/ipykernel_10073/3388262553.py\", line 15, in <module>\n",
      "    cdata = getSDSSVData(cfile)\n",
      "            ^^^^^^^^^^^^^^^^^^^\n",
      "  File \"/tmp/ipykernel_10073/4007893978.py\", line 3, in getSDSSVData\n",
      "    snr = hdul[3].data[\"SNR\"]\n",
      "          ~~~~~~~~~~~~^^^^^^^\n",
      "  File \"/home/petershi/miniconda3/envs/SDSSV/lib/python3.11/site-packages/astropy/io/fits/fitsrec.py\", line 513, in __getitem__\n",
      "    return self.field(key)\n",
      "           ^^^^^^^^^^^^^^^\n",
      "  File \"/home/petershi/miniconda3/envs/SDSSV/lib/python3.11/site-packages/astropy/io/fits/fitsrec.py\", line 695, in field\n",
      "    column = self.columns[key]\n",
      "             ~~~~~~~~~~~~^^^^^\n",
      "  File \"/home/petershi/miniconda3/envs/SDSSV/lib/python3.11/site-packages/astropy/io/fits/column.py\", line 1751, in __getitem__\n",
      "    key = _get_index(self.names, key)\n",
      "          ^^^^^^^^^^^^^^^^^^^^^^^^^^^\n",
      "  File \"/home/petershi/miniconda3/envs/SDSSV/lib/python3.11/site-packages/astropy/io/fits/column.py\", line 2151, in _get_index\n",
      "    raise KeyError(f\"Key '{key}' does not exist.\")\n",
      "KeyError: \"Key 'SNR' does not exist.\"\n",
      "\n"
     ]
    },
    {
     "name": "stderr",
     "output_type": "stream",
     "text": [
      " 45%|████▌     | 69553/153700 [6:14:12<6:32:03,  3.58it/s]"
     ]
    },
    {
     "name": "stdout",
     "output_type": "stream",
     "text": [
      "Traceback (most recent call last):\n",
      "  File \"/home/petershi/miniconda3/envs/SDSSV/lib/python3.11/site-packages/astropy/io/fits/column.py\", line 2142, in _get_index\n",
      "    indx = names.index(key.rstrip())\n",
      "           ^^^^^^^^^^^^^^^^^^^^^^^^^\n",
      "ValueError: 'SNR' is not in list\n",
      "\n",
      "During handling of the above exception, another exception occurred:\n",
      "\n",
      "Traceback (most recent call last):\n",
      "  File \"/tmp/ipykernel_10073/3388262553.py\", line 15, in <module>\n",
      "    cdata = getSDSSVData(cfile)\n",
      "            ^^^^^^^^^^^^^^^^^^^\n",
      "  File \"/tmp/ipykernel_10073/4007893978.py\", line 3, in getSDSSVData\n",
      "    snr = hdul[3].data[\"SNR\"]\n",
      "          ~~~~~~~~~~~~^^^^^^^\n",
      "  File \"/home/petershi/miniconda3/envs/SDSSV/lib/python3.11/site-packages/astropy/io/fits/fitsrec.py\", line 513, in __getitem__\n",
      "    return self.field(key)\n",
      "           ^^^^^^^^^^^^^^^\n",
      "  File \"/home/petershi/miniconda3/envs/SDSSV/lib/python3.11/site-packages/astropy/io/fits/fitsrec.py\", line 695, in field\n",
      "    column = self.columns[key]\n",
      "             ~~~~~~~~~~~~^^^^^\n",
      "  File \"/home/petershi/miniconda3/envs/SDSSV/lib/python3.11/site-packages/astropy/io/fits/column.py\", line 1751, in __getitem__\n",
      "    key = _get_index(self.names, key)\n",
      "          ^^^^^^^^^^^^^^^^^^^^^^^^^^^\n",
      "  File \"/home/petershi/miniconda3/envs/SDSSV/lib/python3.11/site-packages/astropy/io/fits/column.py\", line 2151, in _get_index\n",
      "    raise KeyError(f\"Key '{key}' does not exist.\")\n",
      "KeyError: \"Key 'SNR' does not exist.\"\n",
      "\n"
     ]
    },
    {
     "name": "stderr",
     "output_type": "stream",
     "text": [
      " 45%|████▌     | 69582/153700 [6:14:21<10:58:42,  2.13it/s]"
     ]
    },
    {
     "name": "stdout",
     "output_type": "stream",
     "text": [
      "File 27021597857047325 not found in /yngve_data/sdssv/ipl-2/spectro/astra/0.3.0/v6_0_9-1.0/spectra/star\n"
     ]
    },
    {
     "name": "stderr",
     "output_type": "stream",
     "text": [
      " 45%|████▌     | 69584/153700 [6:14:22<11:28:41,  2.04it/s]"
     ]
    },
    {
     "name": "stdout",
     "output_type": "stream",
     "text": [
      "File 27021597857153516 not found in /yngve_data/sdssv/ipl-2/spectro/astra/0.3.0/v6_0_9-1.0/spectra/star\n"
     ]
    },
    {
     "name": "stderr",
     "output_type": "stream",
     "text": [
      " 45%|████▌     | 69594/153700 [6:14:26<8:06:29,  2.88it/s] "
     ]
    },
    {
     "name": "stdout",
     "output_type": "stream",
     "text": [
      "File 27021597857260245 not found in /yngve_data/sdssv/ipl-2/spectro/astra/0.3.0/v6_0_9-1.0/spectra/star\n"
     ]
    },
    {
     "name": "stderr",
     "output_type": "stream",
     "text": [
      " 46%|████▌     | 70059/153700 [6:16:49<10:21:51,  2.24it/s]"
     ]
    },
    {
     "name": "stdout",
     "output_type": "stream",
     "text": [
      "File 27021597868950839 not found in /yngve_data/sdssv/ipl-2/spectro/astra/0.3.0/v6_0_9-1.0/spectra/star\n"
     ]
    },
    {
     "name": "stderr",
     "output_type": "stream",
     "text": [
      " 46%|████▌     | 70134/153700 [6:17:14<10:16:35,  2.26it/s]"
     ]
    },
    {
     "name": "stdout",
     "output_type": "stream",
     "text": [
      "File 27021597869068744 not found in /yngve_data/sdssv/ipl-2/spectro/astra/0.3.0/v6_0_9-1.0/spectra/star\n"
     ]
    },
    {
     "name": "stderr",
     "output_type": "stream",
     "text": [
      " 46%|████▌     | 70282/153700 [6:18:00<9:06:59,  2.54it/s] "
     ]
    },
    {
     "name": "stdout",
     "output_type": "stream",
     "text": [
      "File 27021597869327346 not found in /yngve_data/sdssv/ipl-2/spectro/astra/0.3.0/v6_0_9-1.0/spectra/star\n"
     ]
    },
    {
     "name": "stderr",
     "output_type": "stream",
     "text": [
      " 46%|████▌     | 70299/153700 [6:18:06<10:11:12,  2.27it/s]"
     ]
    },
    {
     "name": "stdout",
     "output_type": "stream",
     "text": [
      "File 27021597869337827 not found in /yngve_data/sdssv/ipl-2/spectro/astra/0.3.0/v6_0_9-1.0/spectra/star\n"
     ]
    },
    {
     "name": "stderr",
     "output_type": "stream",
     "text": [
      " 46%|████▌     | 70384/153700 [6:18:32<7:11:01,  3.22it/s] "
     ]
    },
    {
     "name": "stdout",
     "output_type": "stream",
     "text": [
      "File 27021597869422481 not found in /yngve_data/sdssv/ipl-2/spectro/astra/0.3.0/v6_0_9-1.0/spectra/star\n"
     ]
    },
    {
     "name": "stderr",
     "output_type": "stream",
     "text": [
      " 46%|████▌     | 70421/153700 [6:18:44<10:56:31,  2.11it/s]"
     ]
    },
    {
     "name": "stdout",
     "output_type": "stream",
     "text": [
      "File 27021597869458679 not found in /yngve_data/sdssv/ipl-2/spectro/astra/0.3.0/v6_0_9-1.0/spectra/star\n"
     ]
    },
    {
     "name": "stderr",
     "output_type": "stream",
     "text": [
      " 46%|████▌     | 70426/153700 [6:18:46<7:44:51,  2.99it/s] "
     ]
    },
    {
     "name": "stdout",
     "output_type": "stream",
     "text": [
      "File 27021597869462403 not found in /yngve_data/sdssv/ipl-2/spectro/astra/0.3.0/v6_0_9-1.0/spectra/star\n"
     ]
    },
    {
     "name": "stderr",
     "output_type": "stream",
     "text": [
      " 46%|████▌     | 70529/153700 [6:19:20<7:38:24,  3.02it/s] "
     ]
    },
    {
     "name": "stdout",
     "output_type": "stream",
     "text": [
      "File 27021597869634394 not found in /yngve_data/sdssv/ipl-2/spectro/astra/0.3.0/v6_0_9-1.0/spectra/star\n"
     ]
    },
    {
     "name": "stderr",
     "output_type": "stream",
     "text": [
      " 46%|████▌     | 70642/153700 [6:19:56<8:01:59,  2.87it/s] "
     ]
    },
    {
     "name": "stdout",
     "output_type": "stream",
     "text": [
      "File 27021597869766383 not found in /yngve_data/sdssv/ipl-2/spectro/astra/0.3.0/v6_0_9-1.0/spectra/star\n"
     ]
    },
    {
     "name": "stderr",
     "output_type": "stream",
     "text": [
      " 46%|████▌     | 70688/153700 [6:20:09<7:01:22,  3.28it/s] "
     ]
    },
    {
     "name": "stdout",
     "output_type": "stream",
     "text": [
      "File 27021597869816579 not found in /yngve_data/sdssv/ipl-2/spectro/astra/0.3.0/v6_0_9-1.0/spectra/star\n"
     ]
    },
    {
     "name": "stderr",
     "output_type": "stream",
     "text": [
      " 46%|████▌     | 70738/153700 [6:20:25<7:57:13,  2.90it/s] "
     ]
    },
    {
     "name": "stdout",
     "output_type": "stream",
     "text": [
      "File 27021597869885175 not found in /yngve_data/sdssv/ipl-2/spectro/astra/0.3.0/v6_0_9-1.0/spectra/star\n"
     ]
    },
    {
     "name": "stderr",
     "output_type": "stream",
     "text": [
      " 46%|████▌     | 70740/153700 [6:20:26<9:10:41,  2.51it/s]"
     ]
    },
    {
     "name": "stdout",
     "output_type": "stream",
     "text": [
      "File 27021597869887757 not found in /yngve_data/sdssv/ipl-2/spectro/astra/0.3.0/v6_0_9-1.0/spectra/star\n"
     ]
    },
    {
     "name": "stderr",
     "output_type": "stream",
     "text": [
      " 46%|████▌     | 70833/153700 [6:20:54<8:15:06,  2.79it/s] "
     ]
    },
    {
     "name": "stdout",
     "output_type": "stream",
     "text": [
      "File 27021597871074224 not found in /yngve_data/sdssv/ipl-2/spectro/astra/0.3.0/v6_0_9-1.0/spectra/star\n"
     ]
    },
    {
     "name": "stderr",
     "output_type": "stream",
     "text": [
      " 46%|████▌     | 70837/153700 [6:20:55<4:58:24,  4.63it/s]"
     ]
    },
    {
     "name": "stdout",
     "output_type": "stream",
     "text": [
      "Traceback (most recent call last):\n",
      "  File \"/home/petershi/miniconda3/envs/SDSSV/lib/python3.11/site-packages/astropy/io/fits/column.py\", line 2142, in _get_index\n",
      "    indx = names.index(key.rstrip())\n",
      "           ^^^^^^^^^^^^^^^^^^^^^^^^^\n",
      "ValueError: 'SNR' is not in list\n",
      "\n",
      "During handling of the above exception, another exception occurred:\n",
      "\n",
      "Traceback (most recent call last):\n",
      "  File \"/tmp/ipykernel_10073/3388262553.py\", line 15, in <module>\n",
      "    cdata = getSDSSVData(cfile)\n",
      "            ^^^^^^^^^^^^^^^^^^^\n",
      "  File \"/tmp/ipykernel_10073/4007893978.py\", line 3, in getSDSSVData\n",
      "    snr = hdul[3].data[\"SNR\"]\n",
      "          ~~~~~~~~~~~~^^^^^^^\n",
      "  File \"/home/petershi/miniconda3/envs/SDSSV/lib/python3.11/site-packages/astropy/io/fits/fitsrec.py\", line 513, in __getitem__\n",
      "    return self.field(key)\n",
      "           ^^^^^^^^^^^^^^^\n",
      "  File \"/home/petershi/miniconda3/envs/SDSSV/lib/python3.11/site-packages/astropy/io/fits/fitsrec.py\", line 695, in field\n",
      "    column = self.columns[key]\n",
      "             ~~~~~~~~~~~~^^^^^\n",
      "  File \"/home/petershi/miniconda3/envs/SDSSV/lib/python3.11/site-packages/astropy/io/fits/column.py\", line 1751, in __getitem__\n",
      "    key = _get_index(self.names, key)\n",
      "          ^^^^^^^^^^^^^^^^^^^^^^^^^^^\n",
      "  File \"/home/petershi/miniconda3/envs/SDSSV/lib/python3.11/site-packages/astropy/io/fits/column.py\", line 2151, in _get_index\n",
      "    raise KeyError(f\"Key '{key}' does not exist.\")\n",
      "KeyError: \"Key 'SNR' does not exist.\"\n",
      "\n"
     ]
    },
    {
     "name": "stderr",
     "output_type": "stream",
     "text": [
      " 46%|████▌     | 70881/153700 [6:21:08<8:20:10,  2.76it/s] "
     ]
    },
    {
     "name": "stdout",
     "output_type": "stream",
     "text": [
      "File 27021597871166567 not found in /yngve_data/sdssv/ipl-2/spectro/astra/0.3.0/v6_0_9-1.0/spectra/star\n"
     ]
    },
    {
     "name": "stderr",
     "output_type": "stream",
     "text": [
      " 46%|████▌     | 70934/153700 [6:21:24<4:36:35,  4.99it/s] "
     ]
    },
    {
     "name": "stdout",
     "output_type": "stream",
     "text": [
      "Traceback (most recent call last):\n",
      "  File \"/home/petershi/miniconda3/envs/SDSSV/lib/python3.11/site-packages/astropy/io/fits/column.py\", line 2142, in _get_index\n",
      "    indx = names.index(key.rstrip())\n",
      "           ^^^^^^^^^^^^^^^^^^^^^^^^^\n",
      "ValueError: 'SNR' is not in list\n",
      "\n",
      "During handling of the above exception, another exception occurred:\n",
      "\n",
      "Traceback (most recent call last):\n",
      "  File \"/tmp/ipykernel_10073/3388262553.py\", line 15, in <module>\n",
      "    cdata = getSDSSVData(cfile)\n",
      "            ^^^^^^^^^^^^^^^^^^^\n",
      "  File \"/tmp/ipykernel_10073/4007893978.py\", line 3, in getSDSSVData\n",
      "    snr = hdul[3].data[\"SNR\"]\n",
      "          ~~~~~~~~~~~~^^^^^^^\n",
      "  File \"/home/petershi/miniconda3/envs/SDSSV/lib/python3.11/site-packages/astropy/io/fits/fitsrec.py\", line 513, in __getitem__\n",
      "    return self.field(key)\n",
      "           ^^^^^^^^^^^^^^^\n",
      "  File \"/home/petershi/miniconda3/envs/SDSSV/lib/python3.11/site-packages/astropy/io/fits/fitsrec.py\", line 695, in field\n",
      "    column = self.columns[key]\n",
      "             ~~~~~~~~~~~~^^^^^\n",
      "  File \"/home/petershi/miniconda3/envs/SDSSV/lib/python3.11/site-packages/astropy/io/fits/column.py\", line 1751, in __getitem__\n",
      "    key = _get_index(self.names, key)\n",
      "          ^^^^^^^^^^^^^^^^^^^^^^^^^^^\n",
      "  File \"/home/petershi/miniconda3/envs/SDSSV/lib/python3.11/site-packages/astropy/io/fits/column.py\", line 2151, in _get_index\n",
      "    raise KeyError(f\"Key '{key}' does not exist.\")\n",
      "KeyError: \"Key 'SNR' does not exist.\"\n",
      "\n"
     ]
    },
    {
     "name": "stderr",
     "output_type": "stream",
     "text": [
      " 46%|████▌     | 71054/153700 [6:22:01<7:23:05,  3.11it/s] "
     ]
    },
    {
     "name": "stdout",
     "output_type": "stream",
     "text": [
      "Traceback (most recent call last):\n",
      "  File \"/home/petershi/miniconda3/envs/SDSSV/lib/python3.11/site-packages/astropy/io/fits/column.py\", line 2142, in _get_index\n",
      "    indx = names.index(key.rstrip())\n",
      "           ^^^^^^^^^^^^^^^^^^^^^^^^^\n",
      "ValueError: 'SNR' is not in list\n",
      "\n",
      "During handling of the above exception, another exception occurred:\n",
      "\n",
      "Traceback (most recent call last):\n",
      "  File \"/tmp/ipykernel_10073/3388262553.py\", line 15, in <module>\n",
      "    cdata = getSDSSVData(cfile)\n",
      "            ^^^^^^^^^^^^^^^^^^^\n",
      "  File \"/tmp/ipykernel_10073/4007893978.py\", line 3, in getSDSSVData\n",
      "    snr = hdul[3].data[\"SNR\"]\n",
      "          ~~~~~~~~~~~~^^^^^^^\n",
      "  File \"/home/petershi/miniconda3/envs/SDSSV/lib/python3.11/site-packages/astropy/io/fits/fitsrec.py\", line 513, in __getitem__\n",
      "    return self.field(key)\n",
      "           ^^^^^^^^^^^^^^^\n",
      "  File \"/home/petershi/miniconda3/envs/SDSSV/lib/python3.11/site-packages/astropy/io/fits/fitsrec.py\", line 695, in field\n",
      "    column = self.columns[key]\n",
      "             ~~~~~~~~~~~~^^^^^\n",
      "  File \"/home/petershi/miniconda3/envs/SDSSV/lib/python3.11/site-packages/astropy/io/fits/column.py\", line 1751, in __getitem__\n",
      "    key = _get_index(self.names, key)\n",
      "          ^^^^^^^^^^^^^^^^^^^^^^^^^^^\n",
      "  File \"/home/petershi/miniconda3/envs/SDSSV/lib/python3.11/site-packages/astropy/io/fits/column.py\", line 2151, in _get_index\n",
      "    raise KeyError(f\"Key '{key}' does not exist.\")\n",
      "KeyError: \"Key 'SNR' does not exist.\"\n",
      "\n"
     ]
    },
    {
     "name": "stderr",
     "output_type": "stream",
     "text": [
      " 46%|████▌     | 71057/153700 [6:22:03<8:45:46,  2.62it/s]"
     ]
    },
    {
     "name": "stdout",
     "output_type": "stream",
     "text": [
      "File 27021597871997416 not found in /yngve_data/sdssv/ipl-2/spectro/astra/0.3.0/v6_0_9-1.0/spectra/star\n"
     ]
    },
    {
     "name": "stderr",
     "output_type": "stream",
     "text": [
      " 46%|████▋     | 71171/153700 [6:22:39<9:50:48,  2.33it/s] "
     ]
    },
    {
     "name": "stdout",
     "output_type": "stream",
     "text": [
      "Traceback (most recent call last):\n",
      "  File \"/home/petershi/miniconda3/envs/SDSSV/lib/python3.11/site-packages/astropy/io/fits/column.py\", line 2142, in _get_index\n",
      "    indx = names.index(key.rstrip())\n",
      "           ^^^^^^^^^^^^^^^^^^^^^^^^^\n",
      "ValueError: 'SNR' is not in list\n",
      "\n",
      "During handling of the above exception, another exception occurred:\n",
      "\n",
      "Traceback (most recent call last):\n",
      "  File \"/tmp/ipykernel_10073/3388262553.py\", line 15, in <module>\n",
      "    cdata = getSDSSVData(cfile)\n",
      "            ^^^^^^^^^^^^^^^^^^^\n",
      "  File \"/tmp/ipykernel_10073/4007893978.py\", line 3, in getSDSSVData\n",
      "    snr = hdul[3].data[\"SNR\"]\n",
      "          ~~~~~~~~~~~~^^^^^^^\n",
      "  File \"/home/petershi/miniconda3/envs/SDSSV/lib/python3.11/site-packages/astropy/io/fits/fitsrec.py\", line 513, in __getitem__\n",
      "    return self.field(key)\n",
      "           ^^^^^^^^^^^^^^^\n",
      "  File \"/home/petershi/miniconda3/envs/SDSSV/lib/python3.11/site-packages/astropy/io/fits/fitsrec.py\", line 695, in field\n",
      "    column = self.columns[key]\n",
      "             ~~~~~~~~~~~~^^^^^\n",
      "  File \"/home/petershi/miniconda3/envs/SDSSV/lib/python3.11/site-packages/astropy/io/fits/column.py\", line 1751, in __getitem__\n",
      "    key = _get_index(self.names, key)\n",
      "          ^^^^^^^^^^^^^^^^^^^^^^^^^^^\n",
      "  File \"/home/petershi/miniconda3/envs/SDSSV/lib/python3.11/site-packages/astropy/io/fits/column.py\", line 2151, in _get_index\n",
      "    raise KeyError(f\"Key '{key}' does not exist.\")\n",
      "KeyError: \"Key 'SNR' does not exist.\"\n",
      "\n"
     ]
    },
    {
     "name": "stderr",
     "output_type": "stream",
     "text": [
      " 46%|████▋     | 71174/153700 [6:22:41<10:34:45,  2.17it/s]"
     ]
    },
    {
     "name": "stdout",
     "output_type": "stream",
     "text": [
      "File 27021597872847222 not found in /yngve_data/sdssv/ipl-2/spectro/astra/0.3.0/v6_0_9-1.0/spectra/star\n"
     ]
    },
    {
     "name": "stderr",
     "output_type": "stream",
     "text": [
      " 46%|████▋     | 71179/153700 [6:22:42<6:52:55,  3.33it/s] "
     ]
    },
    {
     "name": "stdout",
     "output_type": "stream",
     "text": [
      "Traceback (most recent call last):\n",
      "  File \"/home/petershi/miniconda3/envs/SDSSV/lib/python3.11/site-packages/astropy/io/fits/column.py\", line 2142, in _get_index\n",
      "    indx = names.index(key.rstrip())\n",
      "           ^^^^^^^^^^^^^^^^^^^^^^^^^\n",
      "ValueError: 'SNR' is not in list\n",
      "\n",
      "During handling of the above exception, another exception occurred:\n",
      "\n",
      "Traceback (most recent call last):\n",
      "  File \"/tmp/ipykernel_10073/3388262553.py\", line 15, in <module>\n",
      "    cdata = getSDSSVData(cfile)\n",
      "            ^^^^^^^^^^^^^^^^^^^\n",
      "  File \"/tmp/ipykernel_10073/4007893978.py\", line 3, in getSDSSVData\n",
      "    snr = hdul[3].data[\"SNR\"]\n",
      "          ~~~~~~~~~~~~^^^^^^^\n",
      "  File \"/home/petershi/miniconda3/envs/SDSSV/lib/python3.11/site-packages/astropy/io/fits/fitsrec.py\", line 513, in __getitem__\n",
      "    return self.field(key)\n",
      "           ^^^^^^^^^^^^^^^\n",
      "  File \"/home/petershi/miniconda3/envs/SDSSV/lib/python3.11/site-packages/astropy/io/fits/fitsrec.py\", line 695, in field\n",
      "    column = self.columns[key]\n",
      "             ~~~~~~~~~~~~^^^^^\n",
      "  File \"/home/petershi/miniconda3/envs/SDSSV/lib/python3.11/site-packages/astropy/io/fits/column.py\", line 1751, in __getitem__\n",
      "    key = _get_index(self.names, key)\n",
      "          ^^^^^^^^^^^^^^^^^^^^^^^^^^^\n",
      "  File \"/home/petershi/miniconda3/envs/SDSSV/lib/python3.11/site-packages/astropy/io/fits/column.py\", line 2151, in _get_index\n",
      "    raise KeyError(f\"Key '{key}' does not exist.\")\n",
      "KeyError: \"Key 'SNR' does not exist.\"\n",
      "\n"
     ]
    },
    {
     "name": "stderr",
     "output_type": "stream",
     "text": [
      " 46%|████▋     | 71303/153700 [6:23:19<4:59:08,  4.59it/s] "
     ]
    },
    {
     "name": "stdout",
     "output_type": "stream",
     "text": [
      "Traceback (most recent call last):\n",
      "  File \"/home/petershi/miniconda3/envs/SDSSV/lib/python3.11/site-packages/astropy/io/fits/column.py\", line 2142, in _get_index\n",
      "    indx = names.index(key.rstrip())\n",
      "           ^^^^^^^^^^^^^^^^^^^^^^^^^\n",
      "ValueError: 'SNR' is not in list\n",
      "\n",
      "During handling of the above exception, another exception occurred:\n",
      "\n",
      "Traceback (most recent call last):\n",
      "  File \"/tmp/ipykernel_10073/3388262553.py\", line 15, in <module>\n",
      "    cdata = getSDSSVData(cfile)\n",
      "            ^^^^^^^^^^^^^^^^^^^\n",
      "  File \"/tmp/ipykernel_10073/4007893978.py\", line 3, in getSDSSVData\n",
      "    snr = hdul[3].data[\"SNR\"]\n",
      "          ~~~~~~~~~~~~^^^^^^^\n",
      "  File \"/home/petershi/miniconda3/envs/SDSSV/lib/python3.11/site-packages/astropy/io/fits/fitsrec.py\", line 513, in __getitem__\n",
      "    return self.field(key)\n",
      "           ^^^^^^^^^^^^^^^\n",
      "  File \"/home/petershi/miniconda3/envs/SDSSV/lib/python3.11/site-packages/astropy/io/fits/fitsrec.py\", line 695, in field\n",
      "    column = self.columns[key]\n",
      "             ~~~~~~~~~~~~^^^^^\n",
      "  File \"/home/petershi/miniconda3/envs/SDSSV/lib/python3.11/site-packages/astropy/io/fits/column.py\", line 1751, in __getitem__\n",
      "    key = _get_index(self.names, key)\n",
      "          ^^^^^^^^^^^^^^^^^^^^^^^^^^^\n",
      "  File \"/home/petershi/miniconda3/envs/SDSSV/lib/python3.11/site-packages/astropy/io/fits/column.py\", line 2151, in _get_index\n",
      "    raise KeyError(f\"Key '{key}' does not exist.\")\n",
      "KeyError: \"Key 'SNR' does not exist.\"\n",
      "\n"
     ]
    },
    {
     "name": "stderr",
     "output_type": "stream",
     "text": [
      " 46%|████▋     | 71325/153700 [6:23:24<7:49:49,  2.92it/s]"
     ]
    },
    {
     "name": "stdout",
     "output_type": "stream",
     "text": [
      "File 27021597873296513 not found in /yngve_data/sdssv/ipl-2/spectro/astra/0.3.0/v6_0_9-1.0/spectra/star\n"
     ]
    },
    {
     "name": "stderr",
     "output_type": "stream",
     "text": [
      " 47%|████▋     | 71654/153700 [6:25:08<7:50:12,  2.91it/s] "
     ]
    },
    {
     "name": "stdout",
     "output_type": "stream",
     "text": [
      "File 27021597877590950 not found in /yngve_data/sdssv/ipl-2/spectro/astra/0.3.0/v6_0_9-1.0/spectra/star\n"
     ]
    },
    {
     "name": "stderr",
     "output_type": "stream",
     "text": [
      " 47%|████▋     | 71659/153700 [6:25:09<7:24:50,  3.07it/s]"
     ]
    },
    {
     "name": "stdout",
     "output_type": "stream",
     "text": [
      "File 27021597877597913 not found in /yngve_data/sdssv/ipl-2/spectro/astra/0.3.0/v6_0_9-1.0/spectra/star\n"
     ]
    },
    {
     "name": "stderr",
     "output_type": "stream",
     "text": [
      " 47%|████▋     | 71706/153700 [6:25:23<8:52:47,  2.56it/s] "
     ]
    },
    {
     "name": "stdout",
     "output_type": "stream",
     "text": [
      "File 27021597877646788 not found in /yngve_data/sdssv/ipl-2/spectro/astra/0.3.0/v6_0_9-1.0/spectra/star\n"
     ]
    },
    {
     "name": "stderr",
     "output_type": "stream",
     "text": [
      " 47%|████▋     | 71781/153700 [6:25:47<6:36:03,  3.45it/s] "
     ]
    },
    {
     "name": "stdout",
     "output_type": "stream",
     "text": [
      "Traceback (most recent call last):\n",
      "  File \"/home/petershi/miniconda3/envs/SDSSV/lib/python3.11/site-packages/astropy/io/fits/column.py\", line 2142, in _get_index\n",
      "    indx = names.index(key.rstrip())\n",
      "           ^^^^^^^^^^^^^^^^^^^^^^^^^\n",
      "ValueError: 'SNR' is not in list\n",
      "\n",
      "During handling of the above exception, another exception occurred:\n",
      "\n",
      "Traceback (most recent call last):\n",
      "  File \"/tmp/ipykernel_10073/3388262553.py\", line 15, in <module>\n",
      "    cdata = getSDSSVData(cfile)\n",
      "            ^^^^^^^^^^^^^^^^^^^\n",
      "  File \"/tmp/ipykernel_10073/4007893978.py\", line 3, in getSDSSVData\n",
      "    snr = hdul[3].data[\"SNR\"]\n",
      "          ~~~~~~~~~~~~^^^^^^^\n",
      "  File \"/home/petershi/miniconda3/envs/SDSSV/lib/python3.11/site-packages/astropy/io/fits/fitsrec.py\", line 513, in __getitem__\n",
      "    return self.field(key)\n",
      "           ^^^^^^^^^^^^^^^\n",
      "  File \"/home/petershi/miniconda3/envs/SDSSV/lib/python3.11/site-packages/astropy/io/fits/fitsrec.py\", line 695, in field\n",
      "    column = self.columns[key]\n",
      "             ~~~~~~~~~~~~^^^^^\n",
      "  File \"/home/petershi/miniconda3/envs/SDSSV/lib/python3.11/site-packages/astropy/io/fits/column.py\", line 1751, in __getitem__\n",
      "    key = _get_index(self.names, key)\n",
      "          ^^^^^^^^^^^^^^^^^^^^^^^^^^^\n",
      "  File \"/home/petershi/miniconda3/envs/SDSSV/lib/python3.11/site-packages/astropy/io/fits/column.py\", line 2151, in _get_index\n",
      "    raise KeyError(f\"Key '{key}' does not exist.\")\n",
      "KeyError: \"Key 'SNR' does not exist.\"\n",
      "\n"
     ]
    },
    {
     "name": "stderr",
     "output_type": "stream",
     "text": [
      " 47%|████▋     | 71925/153700 [6:26:34<6:41:19,  3.40it/s] "
     ]
    },
    {
     "name": "stdout",
     "output_type": "stream",
     "text": [
      "Traceback (most recent call last):\n",
      "  File \"/home/petershi/miniconda3/envs/SDSSV/lib/python3.11/site-packages/astropy/io/fits/column.py\", line 2142, in _get_index\n",
      "    indx = names.index(key.rstrip())\n",
      "           ^^^^^^^^^^^^^^^^^^^^^^^^^\n",
      "ValueError: 'SNR' is not in list\n",
      "\n",
      "During handling of the above exception, another exception occurred:\n",
      "\n",
      "Traceback (most recent call last):\n",
      "  File \"/tmp/ipykernel_10073/3388262553.py\", line 15, in <module>\n",
      "    cdata = getSDSSVData(cfile)\n",
      "            ^^^^^^^^^^^^^^^^^^^\n",
      "  File \"/tmp/ipykernel_10073/4007893978.py\", line 3, in getSDSSVData\n",
      "    snr = hdul[3].data[\"SNR\"]\n",
      "          ~~~~~~~~~~~~^^^^^^^\n",
      "  File \"/home/petershi/miniconda3/envs/SDSSV/lib/python3.11/site-packages/astropy/io/fits/fitsrec.py\", line 513, in __getitem__\n",
      "    return self.field(key)\n",
      "           ^^^^^^^^^^^^^^^\n",
      "  File \"/home/petershi/miniconda3/envs/SDSSV/lib/python3.11/site-packages/astropy/io/fits/fitsrec.py\", line 695, in field\n",
      "    column = self.columns[key]\n",
      "             ~~~~~~~~~~~~^^^^^\n",
      "  File \"/home/petershi/miniconda3/envs/SDSSV/lib/python3.11/site-packages/astropy/io/fits/column.py\", line 1751, in __getitem__\n",
      "    key = _get_index(self.names, key)\n",
      "          ^^^^^^^^^^^^^^^^^^^^^^^^^^^\n",
      "  File \"/home/petershi/miniconda3/envs/SDSSV/lib/python3.11/site-packages/astropy/io/fits/column.py\", line 2151, in _get_index\n",
      "    raise KeyError(f\"Key '{key}' does not exist.\")\n",
      "KeyError: \"Key 'SNR' does not exist.\"\n",
      "\n"
     ]
    },
    {
     "name": "stderr",
     "output_type": "stream",
     "text": [
      " 47%|████▋     | 72134/153700 [6:27:38<6:37:58,  3.42it/s] "
     ]
    },
    {
     "name": "stdout",
     "output_type": "stream",
     "text": [
      "Traceback (most recent call last):\n",
      "  File \"/home/petershi/miniconda3/envs/SDSSV/lib/python3.11/site-packages/astropy/io/fits/column.py\", line 2142, in _get_index\n",
      "    indx = names.index(key.rstrip())\n",
      "           ^^^^^^^^^^^^^^^^^^^^^^^^^\n",
      "ValueError: 'SNR' is not in list\n",
      "\n",
      "During handling of the above exception, another exception occurred:\n",
      "\n",
      "Traceback (most recent call last):\n",
      "  File \"/tmp/ipykernel_10073/3388262553.py\", line 15, in <module>\n",
      "    cdata = getSDSSVData(cfile)\n",
      "            ^^^^^^^^^^^^^^^^^^^\n",
      "  File \"/tmp/ipykernel_10073/4007893978.py\", line 3, in getSDSSVData\n",
      "    snr = hdul[3].data[\"SNR\"]\n",
      "          ~~~~~~~~~~~~^^^^^^^\n",
      "  File \"/home/petershi/miniconda3/envs/SDSSV/lib/python3.11/site-packages/astropy/io/fits/fitsrec.py\", line 513, in __getitem__\n",
      "    return self.field(key)\n",
      "           ^^^^^^^^^^^^^^^\n",
      "  File \"/home/petershi/miniconda3/envs/SDSSV/lib/python3.11/site-packages/astropy/io/fits/fitsrec.py\", line 695, in field\n",
      "    column = self.columns[key]\n",
      "             ~~~~~~~~~~~~^^^^^\n",
      "  File \"/home/petershi/miniconda3/envs/SDSSV/lib/python3.11/site-packages/astropy/io/fits/column.py\", line 1751, in __getitem__\n",
      "    key = _get_index(self.names, key)\n",
      "          ^^^^^^^^^^^^^^^^^^^^^^^^^^^\n",
      "  File \"/home/petershi/miniconda3/envs/SDSSV/lib/python3.11/site-packages/astropy/io/fits/column.py\", line 2151, in _get_index\n",
      "    raise KeyError(f\"Key '{key}' does not exist.\")\n",
      "KeyError: \"Key 'SNR' does not exist.\"\n",
      "\n"
     ]
    },
    {
     "name": "stderr",
     "output_type": "stream",
     "text": [
      " 47%|████▋     | 72154/153700 [6:27:44<8:38:14,  2.62it/s]"
     ]
    },
    {
     "name": "stdout",
     "output_type": "stream",
     "text": [
      "File 27021597878605878 not found in /yngve_data/sdssv/ipl-2/spectro/astra/0.3.0/v6_0_9-1.0/spectra/star\n"
     ]
    },
    {
     "name": "stderr",
     "output_type": "stream",
     "text": [
      " 47%|████▋     | 72303/153700 [6:28:31<7:39:44,  2.95it/s] "
     ]
    },
    {
     "name": "stdout",
     "output_type": "stream",
     "text": [
      "Traceback (most recent call last):\n",
      "  File \"/home/petershi/miniconda3/envs/SDSSV/lib/python3.11/site-packages/astropy/io/fits/column.py\", line 2142, in _get_index\n",
      "    indx = names.index(key.rstrip())\n",
      "           ^^^^^^^^^^^^^^^^^^^^^^^^^\n",
      "ValueError: 'SNR' is not in list\n",
      "\n",
      "During handling of the above exception, another exception occurred:\n",
      "\n",
      "Traceback (most recent call last):\n",
      "  File \"/tmp/ipykernel_10073/3388262553.py\", line 15, in <module>\n",
      "    cdata = getSDSSVData(cfile)\n",
      "            ^^^^^^^^^^^^^^^^^^^\n",
      "  File \"/tmp/ipykernel_10073/4007893978.py\", line 3, in getSDSSVData\n",
      "    snr = hdul[3].data[\"SNR\"]\n",
      "          ~~~~~~~~~~~~^^^^^^^\n",
      "  File \"/home/petershi/miniconda3/envs/SDSSV/lib/python3.11/site-packages/astropy/io/fits/fitsrec.py\", line 513, in __getitem__\n",
      "    return self.field(key)\n",
      "           ^^^^^^^^^^^^^^^\n",
      "  File \"/home/petershi/miniconda3/envs/SDSSV/lib/python3.11/site-packages/astropy/io/fits/fitsrec.py\", line 695, in field\n",
      "    column = self.columns[key]\n",
      "             ~~~~~~~~~~~~^^^^^\n",
      "  File \"/home/petershi/miniconda3/envs/SDSSV/lib/python3.11/site-packages/astropy/io/fits/column.py\", line 1751, in __getitem__\n",
      "    key = _get_index(self.names, key)\n",
      "          ^^^^^^^^^^^^^^^^^^^^^^^^^^^\n",
      "  File \"/home/petershi/miniconda3/envs/SDSSV/lib/python3.11/site-packages/astropy/io/fits/column.py\", line 2151, in _get_index\n",
      "    raise KeyError(f\"Key '{key}' does not exist.\")\n",
      "KeyError: \"Key 'SNR' does not exist.\"\n",
      "\n"
     ]
    },
    {
     "name": "stderr",
     "output_type": "stream",
     "text": [
      " 47%|████▋     | 72380/153700 [6:28:52<7:18:08,  3.09it/s] "
     ]
    },
    {
     "name": "stdout",
     "output_type": "stream",
     "text": [
      "Traceback (most recent call last):\n",
      "  File \"/home/petershi/miniconda3/envs/SDSSV/lib/python3.11/site-packages/astropy/io/fits/column.py\", line 2142, in _get_index\n",
      "    indx = names.index(key.rstrip())\n",
      "           ^^^^^^^^^^^^^^^^^^^^^^^^^\n",
      "ValueError: 'SNR' is not in list\n",
      "\n",
      "During handling of the above exception, another exception occurred:\n",
      "\n",
      "Traceback (most recent call last):\n",
      "  File \"/tmp/ipykernel_10073/3388262553.py\", line 15, in <module>\n",
      "    cdata = getSDSSVData(cfile)\n",
      "            ^^^^^^^^^^^^^^^^^^^\n",
      "  File \"/tmp/ipykernel_10073/4007893978.py\", line 3, in getSDSSVData\n",
      "    snr = hdul[3].data[\"SNR\"]\n",
      "          ~~~~~~~~~~~~^^^^^^^\n",
      "  File \"/home/petershi/miniconda3/envs/SDSSV/lib/python3.11/site-packages/astropy/io/fits/fitsrec.py\", line 513, in __getitem__\n",
      "    return self.field(key)\n",
      "           ^^^^^^^^^^^^^^^\n",
      "  File \"/home/petershi/miniconda3/envs/SDSSV/lib/python3.11/site-packages/astropy/io/fits/fitsrec.py\", line 695, in field\n",
      "    column = self.columns[key]\n",
      "             ~~~~~~~~~~~~^^^^^\n",
      "  File \"/home/petershi/miniconda3/envs/SDSSV/lib/python3.11/site-packages/astropy/io/fits/column.py\", line 1751, in __getitem__\n",
      "    key = _get_index(self.names, key)\n",
      "          ^^^^^^^^^^^^^^^^^^^^^^^^^^^\n",
      "  File \"/home/petershi/miniconda3/envs/SDSSV/lib/python3.11/site-packages/astropy/io/fits/column.py\", line 2151, in _get_index\n",
      "    raise KeyError(f\"Key '{key}' does not exist.\")\n",
      "KeyError: \"Key 'SNR' does not exist.\"\n",
      "\n"
     ]
    },
    {
     "name": "stderr",
     "output_type": "stream",
     "text": [
      " 47%|████▋     | 72589/153700 [6:29:57<7:07:56,  3.16it/s] "
     ]
    },
    {
     "name": "stdout",
     "output_type": "stream",
     "text": [
      "File 27021597893724945 not found in /yngve_data/sdssv/ipl-2/spectro/astra/0.3.0/v6_0_9-1.0/spectra/star\n"
     ]
    },
    {
     "name": "stderr",
     "output_type": "stream",
     "text": [
      " 47%|████▋     | 72606/153700 [6:30:02<7:05:24,  3.18it/s]"
     ]
    },
    {
     "name": "stdout",
     "output_type": "stream",
     "text": [
      "File 27021597893750778 not found in /yngve_data/sdssv/ipl-2/spectro/astra/0.3.0/v6_0_9-1.0/spectra/star\n"
     ]
    },
    {
     "name": "stderr",
     "output_type": "stream",
     "text": [
      " 47%|████▋     | 72659/153700 [6:30:18<5:58:59,  3.76it/s] "
     ]
    },
    {
     "name": "stdout",
     "output_type": "stream",
     "text": [
      "File 27021597895761116 not found in /yngve_data/sdssv/ipl-2/spectro/astra/0.3.0/v6_0_9-1.0/spectra/star\n"
     ]
    },
    {
     "name": "stderr",
     "output_type": "stream",
     "text": [
      " 47%|████▋     | 72963/153700 [6:31:55<9:27:55,  2.37it/s] "
     ]
    },
    {
     "name": "stdout",
     "output_type": "stream",
     "text": [
      "File 27021597898365447 not found in /yngve_data/sdssv/ipl-2/spectro/astra/0.3.0/v6_0_9-1.0/spectra/star\n"
     ]
    },
    {
     "name": "stderr",
     "output_type": "stream",
     "text": [
      " 47%|████▋     | 73006/153700 [6:32:10<8:05:34,  2.77it/s] "
     ]
    },
    {
     "name": "stdout",
     "output_type": "stream",
     "text": [
      "File 27021597899683674 not found in /yngve_data/sdssv/ipl-2/spectro/astra/0.3.0/v6_0_9-1.0/spectra/star\n"
     ]
    },
    {
     "name": "stderr",
     "output_type": "stream",
     "text": [
      " 48%|████▊     | 73019/153700 [6:32:15<11:13:28,  2.00it/s]"
     ]
    },
    {
     "name": "stdout",
     "output_type": "stream",
     "text": [
      "File 27021597899758304 not found in /yngve_data/sdssv/ipl-2/spectro/astra/0.3.0/v6_0_9-1.0/spectra/star\n"
     ]
    },
    {
     "name": "stderr",
     "output_type": "stream",
     "text": [
      " 48%|████▊     | 73032/153700 [6:32:19<8:52:49,  2.52it/s] "
     ]
    },
    {
     "name": "stdout",
     "output_type": "stream",
     "text": [
      "File 27021597899765773 not found in /yngve_data/sdssv/ipl-2/spectro/astra/0.3.0/v6_0_9-1.0/spectra/star\n"
     ]
    },
    {
     "name": "stderr",
     "output_type": "stream",
     "text": [
      " 48%|████▊     | 73039/153700 [6:32:23<10:56:32,  2.05it/s]"
     ]
    },
    {
     "name": "stdout",
     "output_type": "stream",
     "text": [
      "File 27021597899768218 not found in /yngve_data/sdssv/ipl-2/spectro/astra/0.3.0/v6_0_9-1.0/spectra/star\n"
     ]
    },
    {
     "name": "stderr",
     "output_type": "stream",
     "text": [
      " 48%|████▊     | 73042/153700 [6:32:24<13:00:09,  1.72it/s]"
     ]
    },
    {
     "name": "stdout",
     "output_type": "stream",
     "text": [
      "File 27021597899768726 not found in /yngve_data/sdssv/ipl-2/spectro/astra/0.3.0/v6_0_9-1.0/spectra/star\n"
     ]
    },
    {
     "name": "stderr",
     "output_type": "stream",
     "text": [
      " 48%|████▊     | 73070/153700 [6:32:32<9:39:45,  2.32it/s] "
     ]
    },
    {
     "name": "stdout",
     "output_type": "stream",
     "text": [
      "File 27021597899776373 not found in /yngve_data/sdssv/ipl-2/spectro/astra/0.3.0/v6_0_9-1.0/spectra/star\n"
     ]
    },
    {
     "name": "stderr",
     "output_type": "stream",
     "text": [
      " 48%|████▊     | 73097/153700 [6:32:44<4:45:59,  4.70it/s] "
     ]
    },
    {
     "name": "stdout",
     "output_type": "stream",
     "text": [
      "File 27021597899780875 not found in /yngve_data/sdssv/ipl-2/spectro/astra/0.3.0/v6_0_9-1.0/spectra/star\n"
     ]
    },
    {
     "name": "stderr",
     "output_type": "stream",
     "text": [
      " 48%|████▊     | 73100/153700 [6:32:44<5:39:19,  3.96it/s]"
     ]
    },
    {
     "name": "stdout",
     "output_type": "stream",
     "text": [
      "File 27021597899781529 not found in /yngve_data/sdssv/ipl-2/spectro/astra/0.3.0/v6_0_9-1.0/spectra/star\n"
     ]
    },
    {
     "name": "stderr",
     "output_type": "stream",
     "text": [
      " 48%|████▊     | 73101/153700 [6:32:45<5:13:13,  4.29it/s]"
     ]
    },
    {
     "name": "stdout",
     "output_type": "stream",
     "text": [
      "Traceback (most recent call last):\n",
      "  File \"/home/petershi/miniconda3/envs/SDSSV/lib/python3.11/site-packages/astropy/io/fits/column.py\", line 2142, in _get_index\n",
      "    indx = names.index(key.rstrip())\n",
      "           ^^^^^^^^^^^^^^^^^^^^^^^^^\n",
      "ValueError: 'SNR' is not in list\n",
      "\n",
      "During handling of the above exception, another exception occurred:\n",
      "\n",
      "Traceback (most recent call last):\n",
      "  File \"/tmp/ipykernel_10073/3388262553.py\", line 15, in <module>\n",
      "    cdata = getSDSSVData(cfile)\n",
      "            ^^^^^^^^^^^^^^^^^^^\n",
      "  File \"/tmp/ipykernel_10073/4007893978.py\", line 3, in getSDSSVData\n",
      "    snr = hdul[3].data[\"SNR\"]\n",
      "          ~~~~~~~~~~~~^^^^^^^\n",
      "  File \"/home/petershi/miniconda3/envs/SDSSV/lib/python3.11/site-packages/astropy/io/fits/fitsrec.py\", line 513, in __getitem__\n",
      "    return self.field(key)\n",
      "           ^^^^^^^^^^^^^^^\n",
      "  File \"/home/petershi/miniconda3/envs/SDSSV/lib/python3.11/site-packages/astropy/io/fits/fitsrec.py\", line 695, in field\n",
      "    column = self.columns[key]\n",
      "             ~~~~~~~~~~~~^^^^^\n",
      "  File \"/home/petershi/miniconda3/envs/SDSSV/lib/python3.11/site-packages/astropy/io/fits/column.py\", line 1751, in __getitem__\n",
      "    key = _get_index(self.names, key)\n",
      "          ^^^^^^^^^^^^^^^^^^^^^^^^^^^\n",
      "  File \"/home/petershi/miniconda3/envs/SDSSV/lib/python3.11/site-packages/astropy/io/fits/column.py\", line 2151, in _get_index\n",
      "    raise KeyError(f\"Key '{key}' does not exist.\")\n",
      "KeyError: \"Key 'SNR' does not exist.\"\n",
      "\n"
     ]
    },
    {
     "name": "stderr",
     "output_type": "stream",
     "text": [
      " 48%|████▊     | 73130/153700 [6:32:52<9:32:41,  2.34it/s]"
     ]
    },
    {
     "name": "stdout",
     "output_type": "stream",
     "text": [
      "File 27021597899806784 not found in /yngve_data/sdssv/ipl-2/spectro/astra/0.3.0/v6_0_9-1.0/spectra/star\n"
     ]
    },
    {
     "name": "stderr",
     "output_type": "stream",
     "text": [
      " 48%|████▊     | 73388/153700 [6:34:24<5:07:33,  4.35it/s] "
     ]
    },
    {
     "name": "stdout",
     "output_type": "stream",
     "text": [
      "File 27021597904551125 not found in /yngve_data/sdssv/ipl-2/spectro/astra/0.3.0/v6_0_9-1.0/spectra/star\n"
     ]
    },
    {
     "name": "stderr",
     "output_type": "stream",
     "text": [
      " 48%|████▊     | 73862/153700 [6:36:44<8:22:47,  2.65it/s] "
     ]
    },
    {
     "name": "stdout",
     "output_type": "stream",
     "text": [
      "File 27021597905866982 not found in /yngve_data/sdssv/ipl-2/spectro/astra/0.3.0/v6_0_9-1.0/spectra/star\n"
     ]
    },
    {
     "name": "stderr",
     "output_type": "stream",
     "text": [
      " 48%|████▊     | 73966/153700 [6:37:16<8:21:05,  2.65it/s] "
     ]
    },
    {
     "name": "stdout",
     "output_type": "stream",
     "text": [
      "Traceback (most recent call last):\n",
      "  File \"/home/petershi/miniconda3/envs/SDSSV/lib/python3.11/site-packages/astropy/io/fits/column.py\", line 2142, in _get_index\n",
      "    indx = names.index(key.rstrip())\n",
      "           ^^^^^^^^^^^^^^^^^^^^^^^^^\n",
      "ValueError: 'SNR' is not in list\n",
      "\n",
      "During handling of the above exception, another exception occurred:\n",
      "\n",
      "Traceback (most recent call last):\n",
      "  File \"/tmp/ipykernel_10073/3388262553.py\", line 15, in <module>\n",
      "    cdata = getSDSSVData(cfile)\n",
      "            ^^^^^^^^^^^^^^^^^^^\n",
      "  File \"/tmp/ipykernel_10073/4007893978.py\", line 3, in getSDSSVData\n",
      "    snr = hdul[3].data[\"SNR\"]\n",
      "          ~~~~~~~~~~~~^^^^^^^\n",
      "  File \"/home/petershi/miniconda3/envs/SDSSV/lib/python3.11/site-packages/astropy/io/fits/fitsrec.py\", line 513, in __getitem__\n",
      "    return self.field(key)\n",
      "           ^^^^^^^^^^^^^^^\n",
      "  File \"/home/petershi/miniconda3/envs/SDSSV/lib/python3.11/site-packages/astropy/io/fits/fitsrec.py\", line 695, in field\n",
      "    column = self.columns[key]\n",
      "             ~~~~~~~~~~~~^^^^^\n",
      "  File \"/home/petershi/miniconda3/envs/SDSSV/lib/python3.11/site-packages/astropy/io/fits/column.py\", line 1751, in __getitem__\n",
      "    key = _get_index(self.names, key)\n",
      "          ^^^^^^^^^^^^^^^^^^^^^^^^^^^\n",
      "  File \"/home/petershi/miniconda3/envs/SDSSV/lib/python3.11/site-packages/astropy/io/fits/column.py\", line 2151, in _get_index\n",
      "    raise KeyError(f\"Key '{key}' does not exist.\")\n",
      "KeyError: \"Key 'SNR' does not exist.\"\n",
      "\n"
     ]
    },
    {
     "name": "stderr",
     "output_type": "stream",
     "text": [
      " 48%|████▊     | 73968/153700 [6:37:17<9:31:37,  2.32it/s]"
     ]
    },
    {
     "name": "stdout",
     "output_type": "stream",
     "text": [
      "File 27021597905896643 not found in /yngve_data/sdssv/ipl-2/spectro/astra/0.3.0/v6_0_9-1.0/spectra/star\n"
     ]
    },
    {
     "name": "stderr",
     "output_type": "stream",
     "text": [
      " 48%|████▊     | 74038/153700 [6:37:41<5:23:45,  4.10it/s] "
     ]
    },
    {
     "name": "stdout",
     "output_type": "stream",
     "text": [
      "Traceback (most recent call last):\n",
      "  File \"/home/petershi/miniconda3/envs/SDSSV/lib/python3.11/site-packages/astropy/io/fits/column.py\", line 2142, in _get_index\n",
      "    indx = names.index(key.rstrip())\n",
      "           ^^^^^^^^^^^^^^^^^^^^^^^^^\n",
      "ValueError: 'SNR' is not in list\n",
      "\n",
      "During handling of the above exception, another exception occurred:\n",
      "\n",
      "Traceback (most recent call last):\n",
      "  File \"/tmp/ipykernel_10073/3388262553.py\", line 15, in <module>\n",
      "    cdata = getSDSSVData(cfile)\n",
      "            ^^^^^^^^^^^^^^^^^^^\n",
      "  File \"/tmp/ipykernel_10073/4007893978.py\", line 3, in getSDSSVData\n",
      "    snr = hdul[3].data[\"SNR\"]\n",
      "          ~~~~~~~~~~~~^^^^^^^\n",
      "  File \"/home/petershi/miniconda3/envs/SDSSV/lib/python3.11/site-packages/astropy/io/fits/fitsrec.py\", line 513, in __getitem__\n",
      "    return self.field(key)\n",
      "           ^^^^^^^^^^^^^^^\n",
      "  File \"/home/petershi/miniconda3/envs/SDSSV/lib/python3.11/site-packages/astropy/io/fits/fitsrec.py\", line 695, in field\n",
      "    column = self.columns[key]\n",
      "             ~~~~~~~~~~~~^^^^^\n",
      "  File \"/home/petershi/miniconda3/envs/SDSSV/lib/python3.11/site-packages/astropy/io/fits/column.py\", line 1751, in __getitem__\n",
      "    key = _get_index(self.names, key)\n",
      "          ^^^^^^^^^^^^^^^^^^^^^^^^^^^\n",
      "  File \"/home/petershi/miniconda3/envs/SDSSV/lib/python3.11/site-packages/astropy/io/fits/column.py\", line 2151, in _get_index\n",
      "    raise KeyError(f\"Key '{key}' does not exist.\")\n",
      "KeyError: \"Key 'SNR' does not exist.\"\n",
      "\n"
     ]
    },
    {
     "name": "stderr",
     "output_type": "stream",
     "text": [
      " 48%|████▊     | 74041/153700 [6:37:42<7:05:34,  3.12it/s]"
     ]
    },
    {
     "name": "stdout",
     "output_type": "stream",
     "text": [
      "File 27021597905953240 not found in /yngve_data/sdssv/ipl-2/spectro/astra/0.3.0/v6_0_9-1.0/spectra/star\n"
     ]
    },
    {
     "name": "stderr",
     "output_type": "stream",
     "text": [
      " 48%|████▊     | 74102/153700 [6:38:02<5:36:32,  3.94it/s] "
     ]
    },
    {
     "name": "stdout",
     "output_type": "stream",
     "text": [
      "File 27021597905972951 not found in /yngve_data/sdssv/ipl-2/spectro/astra/0.3.0/v6_0_9-1.0/spectra/star\n"
     ]
    },
    {
     "name": "stderr",
     "output_type": "stream",
     "text": [
      " 48%|████▊     | 74112/153700 [6:38:05<8:08:26,  2.72it/s]"
     ]
    },
    {
     "name": "stdout",
     "output_type": "stream",
     "text": [
      "File 27021597905975045 not found in /yngve_data/sdssv/ipl-2/spectro/astra/0.3.0/v6_0_9-1.0/spectra/star\n"
     ]
    },
    {
     "name": "stderr",
     "output_type": "stream",
     "text": [
      " 48%|████▊     | 74118/153700 [6:38:07<7:45:10,  2.85it/s]"
     ]
    },
    {
     "name": "stdout",
     "output_type": "stream",
     "text": [
      "Traceback (most recent call last):\n",
      "  File \"/home/petershi/miniconda3/envs/SDSSV/lib/python3.11/site-packages/astropy/io/fits/column.py\", line 2142, in _get_index\n",
      "    indx = names.index(key.rstrip())\n",
      "           ^^^^^^^^^^^^^^^^^^^^^^^^^\n",
      "ValueError: 'SNR' is not in list\n",
      "\n",
      "During handling of the above exception, another exception occurred:\n",
      "\n",
      "Traceback (most recent call last):\n",
      "  File \"/tmp/ipykernel_10073/3388262553.py\", line 15, in <module>\n",
      "    cdata = getSDSSVData(cfile)\n",
      "            ^^^^^^^^^^^^^^^^^^^\n",
      "  File \"/tmp/ipykernel_10073/4007893978.py\", line 3, in getSDSSVData\n",
      "    snr = hdul[3].data[\"SNR\"]\n",
      "          ~~~~~~~~~~~~^^^^^^^\n",
      "  File \"/home/petershi/miniconda3/envs/SDSSV/lib/python3.11/site-packages/astropy/io/fits/fitsrec.py\", line 513, in __getitem__\n",
      "    return self.field(key)\n",
      "           ^^^^^^^^^^^^^^^\n",
      "  File \"/home/petershi/miniconda3/envs/SDSSV/lib/python3.11/site-packages/astropy/io/fits/fitsrec.py\", line 695, in field\n",
      "    column = self.columns[key]\n",
      "             ~~~~~~~~~~~~^^^^^\n",
      "  File \"/home/petershi/miniconda3/envs/SDSSV/lib/python3.11/site-packages/astropy/io/fits/column.py\", line 1751, in __getitem__\n",
      "    key = _get_index(self.names, key)\n",
      "          ^^^^^^^^^^^^^^^^^^^^^^^^^^^\n",
      "  File \"/home/petershi/miniconda3/envs/SDSSV/lib/python3.11/site-packages/astropy/io/fits/column.py\", line 2151, in _get_index\n",
      "    raise KeyError(f\"Key '{key}' does not exist.\")\n",
      "KeyError: \"Key 'SNR' does not exist.\"\n",
      "\n"
     ]
    },
    {
     "name": "stderr",
     "output_type": "stream",
     "text": [
      " 48%|████▊     | 74233/153700 [6:38:43<5:26:50,  4.05it/s] "
     ]
    },
    {
     "name": "stdout",
     "output_type": "stream",
     "text": [
      "File 27021597906011693 not found in /yngve_data/sdssv/ipl-2/spectro/astra/0.3.0/v6_0_9-1.0/spectra/star\n"
     ]
    },
    {
     "name": "stderr",
     "output_type": "stream",
     "text": [
      " 48%|████▊     | 74238/153700 [6:38:44<7:01:47,  3.14it/s]"
     ]
    },
    {
     "name": "stdout",
     "output_type": "stream",
     "text": [
      "File 27021597906013738 not found in /yngve_data/sdssv/ipl-2/spectro/astra/0.3.0/v6_0_9-1.0/spectra/star\n"
     ]
    },
    {
     "name": "stderr",
     "output_type": "stream",
     "text": [
      " 48%|████▊     | 74281/153700 [6:38:59<5:22:44,  4.10it/s] "
     ]
    },
    {
     "name": "stdout",
     "output_type": "stream",
     "text": [
      "File 27021597906022907 not found in /yngve_data/sdssv/ipl-2/spectro/astra/0.3.0/v6_0_9-1.0/spectra/star\n"
     ]
    },
    {
     "name": "stderr",
     "output_type": "stream",
     "text": [
      " 48%|████▊     | 74282/153700 [6:38:59<7:16:18,  3.03it/s]"
     ]
    },
    {
     "name": "stdout",
     "output_type": "stream",
     "text": [
      "File 27021597906023241 not found in /yngve_data/sdssv/ipl-2/spectro/astra/0.3.0/v6_0_9-1.0/spectra/star\n"
     ]
    },
    {
     "name": "stderr",
     "output_type": "stream",
     "text": [
      " 48%|████▊     | 74296/153700 [6:39:05<9:05:41,  2.43it/s]"
     ]
    },
    {
     "name": "stdout",
     "output_type": "stream",
     "text": [
      "Traceback (most recent call last):\n",
      "  File \"/home/petershi/miniconda3/envs/SDSSV/lib/python3.11/site-packages/astropy/io/fits/column.py\", line 2142, in _get_index\n",
      "    indx = names.index(key.rstrip())\n",
      "           ^^^^^^^^^^^^^^^^^^^^^^^^^\n",
      "ValueError: 'SNR' is not in list\n",
      "\n",
      "During handling of the above exception, another exception occurred:\n",
      "\n",
      "Traceback (most recent call last):\n",
      "  File \"/tmp/ipykernel_10073/3388262553.py\", line 15, in <module>\n",
      "    cdata = getSDSSVData(cfile)\n",
      "            ^^^^^^^^^^^^^^^^^^^\n",
      "  File \"/tmp/ipykernel_10073/4007893978.py\", line 3, in getSDSSVData\n",
      "    snr = hdul[3].data[\"SNR\"]\n",
      "          ~~~~~~~~~~~~^^^^^^^\n",
      "  File \"/home/petershi/miniconda3/envs/SDSSV/lib/python3.11/site-packages/astropy/io/fits/fitsrec.py\", line 513, in __getitem__\n",
      "    return self.field(key)\n",
      "           ^^^^^^^^^^^^^^^\n",
      "  File \"/home/petershi/miniconda3/envs/SDSSV/lib/python3.11/site-packages/astropy/io/fits/fitsrec.py\", line 695, in field\n",
      "    column = self.columns[key]\n",
      "             ~~~~~~~~~~~~^^^^^\n",
      "  File \"/home/petershi/miniconda3/envs/SDSSV/lib/python3.11/site-packages/astropy/io/fits/column.py\", line 1751, in __getitem__\n",
      "    key = _get_index(self.names, key)\n",
      "          ^^^^^^^^^^^^^^^^^^^^^^^^^^^\n",
      "  File \"/home/petershi/miniconda3/envs/SDSSV/lib/python3.11/site-packages/astropy/io/fits/column.py\", line 2151, in _get_index\n",
      "    raise KeyError(f\"Key '{key}' does not exist.\")\n",
      "KeyError: \"Key 'SNR' does not exist.\"\n",
      "\n"
     ]
    },
    {
     "name": "stderr",
     "output_type": "stream",
     "text": [
      " 48%|████▊     | 74387/153700 [6:39:33<4:01:35,  5.47it/s] "
     ]
    },
    {
     "name": "stdout",
     "output_type": "stream",
     "text": [
      "File 27021597906041879 not found in /yngve_data/sdssv/ipl-2/spectro/astra/0.3.0/v6_0_9-1.0/spectra/star\n"
     ]
    },
    {
     "name": "stderr",
     "output_type": "stream",
     "text": [
      " 48%|████▊     | 74405/153700 [6:39:38<3:43:36,  5.91it/s]"
     ]
    },
    {
     "name": "stdout",
     "output_type": "stream",
     "text": [
      "Traceback (most recent call last):\n",
      "  File \"/home/petershi/miniconda3/envs/SDSSV/lib/python3.11/site-packages/astropy/io/fits/column.py\", line 2142, in _get_index\n",
      "    indx = names.index(key.rstrip())\n",
      "           ^^^^^^^^^^^^^^^^^^^^^^^^^\n",
      "ValueError: 'SNR' is not in list\n",
      "\n",
      "During handling of the above exception, another exception occurred:\n",
      "\n",
      "Traceback (most recent call last):\n",
      "  File \"/tmp/ipykernel_10073/3388262553.py\", line 15, in <module>\n",
      "    cdata = getSDSSVData(cfile)\n",
      "            ^^^^^^^^^^^^^^^^^^^\n",
      "  File \"/tmp/ipykernel_10073/4007893978.py\", line 3, in getSDSSVData\n",
      "    snr = hdul[3].data[\"SNR\"]\n",
      "          ~~~~~~~~~~~~^^^^^^^\n",
      "  File \"/home/petershi/miniconda3/envs/SDSSV/lib/python3.11/site-packages/astropy/io/fits/fitsrec.py\", line 513, in __getitem__\n",
      "    return self.field(key)\n",
      "           ^^^^^^^^^^^^^^^\n",
      "  File \"/home/petershi/miniconda3/envs/SDSSV/lib/python3.11/site-packages/astropy/io/fits/fitsrec.py\", line 695, in field\n",
      "    column = self.columns[key]\n",
      "             ~~~~~~~~~~~~^^^^^\n",
      "  File \"/home/petershi/miniconda3/envs/SDSSV/lib/python3.11/site-packages/astropy/io/fits/column.py\", line 1751, in __getitem__\n",
      "    key = _get_index(self.names, key)\n",
      "          ^^^^^^^^^^^^^^^^^^^^^^^^^^^\n",
      "  File \"/home/petershi/miniconda3/envs/SDSSV/lib/python3.11/site-packages/astropy/io/fits/column.py\", line 2151, in _get_index\n",
      "    raise KeyError(f\"Key '{key}' does not exist.\")\n",
      "KeyError: \"Key 'SNR' does not exist.\"\n",
      "\n"
     ]
    },
    {
     "name": "stderr",
     "output_type": "stream",
     "text": [
      " 48%|████▊     | 74422/153700 [6:39:42<8:15:04,  2.67it/s]"
     ]
    },
    {
     "name": "stdout",
     "output_type": "stream",
     "text": [
      "File 27021597906056092 not found in /yngve_data/sdssv/ipl-2/spectro/astra/0.3.0/v6_0_9-1.0/spectra/star\n"
     ]
    },
    {
     "name": "stderr",
     "output_type": "stream",
     "text": [
      " 48%|████▊     | 74490/153700 [6:40:03<11:20:11,  1.94it/s]"
     ]
    },
    {
     "name": "stdout",
     "output_type": "stream",
     "text": [
      "Traceback (most recent call last):\n",
      "  File \"/home/petershi/miniconda3/envs/SDSSV/lib/python3.11/site-packages/astropy/io/fits/column.py\", line 2142, in _get_index\n",
      "    indx = names.index(key.rstrip())\n",
      "           ^^^^^^^^^^^^^^^^^^^^^^^^^\n",
      "ValueError: 'SNR' is not in list\n",
      "\n",
      "During handling of the above exception, another exception occurred:\n",
      "\n",
      "Traceback (most recent call last):\n",
      "  File \"/tmp/ipykernel_10073/3388262553.py\", line 15, in <module>\n",
      "    cdata = getSDSSVData(cfile)\n",
      "            ^^^^^^^^^^^^^^^^^^^\n",
      "  File \"/tmp/ipykernel_10073/4007893978.py\", line 3, in getSDSSVData\n",
      "    snr = hdul[3].data[\"SNR\"]\n",
      "          ~~~~~~~~~~~~^^^^^^^\n",
      "  File \"/home/petershi/miniconda3/envs/SDSSV/lib/python3.11/site-packages/astropy/io/fits/fitsrec.py\", line 513, in __getitem__\n",
      "    return self.field(key)\n",
      "           ^^^^^^^^^^^^^^^\n",
      "  File \"/home/petershi/miniconda3/envs/SDSSV/lib/python3.11/site-packages/astropy/io/fits/fitsrec.py\", line 695, in field\n",
      "    column = self.columns[key]\n",
      "             ~~~~~~~~~~~~^^^^^\n",
      "  File \"/home/petershi/miniconda3/envs/SDSSV/lib/python3.11/site-packages/astropy/io/fits/column.py\", line 1751, in __getitem__\n",
      "    key = _get_index(self.names, key)\n",
      "          ^^^^^^^^^^^^^^^^^^^^^^^^^^^\n",
      "  File \"/home/petershi/miniconda3/envs/SDSSV/lib/python3.11/site-packages/astropy/io/fits/column.py\", line 2151, in _get_index\n",
      "    raise KeyError(f\"Key '{key}' does not exist.\")\n",
      "KeyError: \"Key 'SNR' does not exist.\"\n",
      "\n"
     ]
    },
    {
     "name": "stderr",
     "output_type": "stream",
     "text": [
      " 48%|████▊     | 74513/153700 [6:40:10<3:05:55,  7.10it/s] "
     ]
    },
    {
     "name": "stdout",
     "output_type": "stream",
     "text": [
      "Traceback (most recent call last):\n",
      "  File \"/home/petershi/miniconda3/envs/SDSSV/lib/python3.11/site-packages/astropy/io/fits/column.py\", line 2142, in _get_index\n",
      "    indx = names.index(key.rstrip())\n",
      "           ^^^^^^^^^^^^^^^^^^^^^^^^^\n",
      "ValueError: 'SNR' is not in list\n",
      "\n",
      "During handling of the above exception, another exception occurred:\n",
      "\n",
      "Traceback (most recent call last):\n",
      "  File \"/tmp/ipykernel_10073/3388262553.py\", line 15, in <module>\n",
      "    cdata = getSDSSVData(cfile)\n",
      "            ^^^^^^^^^^^^^^^^^^^\n",
      "  File \"/tmp/ipykernel_10073/4007893978.py\", line 3, in getSDSSVData\n",
      "    snr = hdul[3].data[\"SNR\"]\n",
      "          ~~~~~~~~~~~~^^^^^^^\n",
      "  File \"/home/petershi/miniconda3/envs/SDSSV/lib/python3.11/site-packages/astropy/io/fits/fitsrec.py\", line 513, in __getitem__\n",
      "    return self.field(key)\n",
      "           ^^^^^^^^^^^^^^^\n",
      "  File \"/home/petershi/miniconda3/envs/SDSSV/lib/python3.11/site-packages/astropy/io/fits/fitsrec.py\", line 695, in field\n",
      "    column = self.columns[key]\n",
      "             ~~~~~~~~~~~~^^^^^\n",
      "  File \"/home/petershi/miniconda3/envs/SDSSV/lib/python3.11/site-packages/astropy/io/fits/column.py\", line 1751, in __getitem__\n",
      "    key = _get_index(self.names, key)\n",
      "          ^^^^^^^^^^^^^^^^^^^^^^^^^^^\n",
      "  File \"/home/petershi/miniconda3/envs/SDSSV/lib/python3.11/site-packages/astropy/io/fits/column.py\", line 2151, in _get_index\n",
      "    raise KeyError(f\"Key '{key}' does not exist.\")\n",
      "KeyError: \"Key 'SNR' does not exist.\"\n",
      "\n"
     ]
    },
    {
     "name": "stderr",
     "output_type": "stream",
     "text": [
      " 49%|████▊     | 74645/153700 [6:40:55<9:00:13,  2.44it/s] "
     ]
    },
    {
     "name": "stdout",
     "output_type": "stream",
     "text": [
      "File 27021597906106037 not found in /yngve_data/sdssv/ipl-2/spectro/astra/0.3.0/v6_0_9-1.0/spectra/star\n"
     ]
    },
    {
     "name": "stderr",
     "output_type": "stream",
     "text": [
      " 49%|████▊     | 74701/153700 [6:41:12<5:56:40,  3.69it/s] "
     ]
    },
    {
     "name": "stdout",
     "output_type": "stream",
     "text": [
      "Traceback (most recent call last):\n",
      "  File \"/home/petershi/miniconda3/envs/SDSSV/lib/python3.11/site-packages/astropy/io/fits/column.py\", line 2142, in _get_index\n",
      "    indx = names.index(key.rstrip())\n",
      "           ^^^^^^^^^^^^^^^^^^^^^^^^^\n",
      "ValueError: 'SNR' is not in list\n",
      "\n",
      "During handling of the above exception, another exception occurred:\n",
      "\n",
      "Traceback (most recent call last):\n",
      "  File \"/tmp/ipykernel_10073/3388262553.py\", line 15, in <module>\n",
      "    cdata = getSDSSVData(cfile)\n",
      "            ^^^^^^^^^^^^^^^^^^^\n",
      "  File \"/tmp/ipykernel_10073/4007893978.py\", line 3, in getSDSSVData\n",
      "    snr = hdul[3].data[\"SNR\"]\n",
      "          ~~~~~~~~~~~~^^^^^^^\n",
      "  File \"/home/petershi/miniconda3/envs/SDSSV/lib/python3.11/site-packages/astropy/io/fits/fitsrec.py\", line 513, in __getitem__\n",
      "    return self.field(key)\n",
      "           ^^^^^^^^^^^^^^^\n",
      "  File \"/home/petershi/miniconda3/envs/SDSSV/lib/python3.11/site-packages/astropy/io/fits/fitsrec.py\", line 695, in field\n",
      "    column = self.columns[key]\n",
      "             ~~~~~~~~~~~~^^^^^\n",
      "  File \"/home/petershi/miniconda3/envs/SDSSV/lib/python3.11/site-packages/astropy/io/fits/column.py\", line 1751, in __getitem__\n",
      "    key = _get_index(self.names, key)\n",
      "          ^^^^^^^^^^^^^^^^^^^^^^^^^^^\n",
      "  File \"/home/petershi/miniconda3/envs/SDSSV/lib/python3.11/site-packages/astropy/io/fits/column.py\", line 2151, in _get_index\n",
      "    raise KeyError(f\"Key '{key}' does not exist.\")\n",
      "KeyError: \"Key 'SNR' does not exist.\"\n",
      "\n"
     ]
    },
    {
     "name": "stderr",
     "output_type": "stream",
     "text": [
      " 49%|████▉     | 74964/153700 [6:42:35<4:41:50,  4.66it/s] "
     ]
    },
    {
     "name": "stdout",
     "output_type": "stream",
     "text": [
      "File 27021597906270868 not found in /yngve_data/sdssv/ipl-2/spectro/astra/0.3.0/v6_0_9-1.0/spectra/star\n"
     ]
    },
    {
     "name": "stderr",
     "output_type": "stream",
     "text": [
      " 49%|████▉     | 74973/153700 [6:42:37<5:00:31,  4.37it/s]"
     ]
    },
    {
     "name": "stdout",
     "output_type": "stream",
     "text": [
      "File 27021597906272513 not found in /yngve_data/sdssv/ipl-2/spectro/astra/0.3.0/v6_0_9-1.0/spectra/star\n"
     ]
    },
    {
     "name": "stderr",
     "output_type": "stream",
     "text": [
      " 49%|████▉     | 75024/153700 [6:42:53<9:10:36,  2.38it/s] "
     ]
    },
    {
     "name": "stdout",
     "output_type": "stream",
     "text": [
      "File 27021597906296794 not found in /yngve_data/sdssv/ipl-2/spectro/astra/0.3.0/v6_0_9-1.0/spectra/star\n"
     ]
    },
    {
     "name": "stderr",
     "output_type": "stream",
     "text": [
      " 49%|████▉     | 75128/153700 [6:43:31<11:22:17,  1.92it/s]"
     ]
    },
    {
     "name": "stdout",
     "output_type": "stream",
     "text": [
      "Traceback (most recent call last):\n",
      "  File \"/home/petershi/miniconda3/envs/SDSSV/lib/python3.11/site-packages/astropy/io/fits/column.py\", line 2142, in _get_index\n",
      "    indx = names.index(key.rstrip())\n",
      "           ^^^^^^^^^^^^^^^^^^^^^^^^^\n",
      "ValueError: 'SNR' is not in list\n",
      "\n",
      "During handling of the above exception, another exception occurred:\n",
      "\n",
      "Traceback (most recent call last):\n",
      "  File \"/tmp/ipykernel_10073/3388262553.py\", line 15, in <module>\n",
      "    cdata = getSDSSVData(cfile)\n",
      "            ^^^^^^^^^^^^^^^^^^^\n",
      "  File \"/tmp/ipykernel_10073/4007893978.py\", line 3, in getSDSSVData\n",
      "    snr = hdul[3].data[\"SNR\"]\n",
      "          ~~~~~~~~~~~~^^^^^^^\n",
      "  File \"/home/petershi/miniconda3/envs/SDSSV/lib/python3.11/site-packages/astropy/io/fits/fitsrec.py\", line 513, in __getitem__\n",
      "    return self.field(key)\n",
      "           ^^^^^^^^^^^^^^^\n",
      "  File \"/home/petershi/miniconda3/envs/SDSSV/lib/python3.11/site-packages/astropy/io/fits/fitsrec.py\", line 695, in field\n",
      "    column = self.columns[key]\n",
      "             ~~~~~~~~~~~~^^^^^\n",
      "  File \"/home/petershi/miniconda3/envs/SDSSV/lib/python3.11/site-packages/astropy/io/fits/column.py\", line 1751, in __getitem__\n",
      "    key = _get_index(self.names, key)\n",
      "          ^^^^^^^^^^^^^^^^^^^^^^^^^^^\n",
      "  File \"/home/petershi/miniconda3/envs/SDSSV/lib/python3.11/site-packages/astropy/io/fits/column.py\", line 2151, in _get_index\n",
      "    raise KeyError(f\"Key '{key}' does not exist.\")\n",
      "KeyError: \"Key 'SNR' does not exist.\"\n",
      "\n"
     ]
    },
    {
     "name": "stderr",
     "output_type": "stream",
     "text": [
      " 49%|████▉     | 75153/153700 [6:43:38<7:27:34,  2.92it/s] "
     ]
    },
    {
     "name": "stdout",
     "output_type": "stream",
     "text": [
      "File 27021597906356645 not found in /yngve_data/sdssv/ipl-2/spectro/astra/0.3.0/v6_0_9-1.0/spectra/star\n"
     ]
    },
    {
     "name": "stderr",
     "output_type": "stream",
     "text": [
      " 49%|████▉     | 75424/153700 [6:45:03<6:45:07,  3.22it/s] "
     ]
    },
    {
     "name": "stdout",
     "output_type": "stream",
     "text": [
      "File 27021597906431974 not found in /yngve_data/sdssv/ipl-2/spectro/astra/0.3.0/v6_0_9-1.0/spectra/star\n"
     ]
    },
    {
     "name": "stderr",
     "output_type": "stream",
     "text": [
      " 49%|████▉     | 75713/153700 [6:46:33<5:53:09,  3.68it/s] "
     ]
    },
    {
     "name": "stdout",
     "output_type": "stream",
     "text": [
      "File 27021597906850983 not found in /yngve_data/sdssv/ipl-2/spectro/astra/0.3.0/v6_0_9-1.0/spectra/star\n"
     ]
    },
    {
     "name": "stderr",
     "output_type": "stream",
     "text": [
      " 49%|████▉     | 75719/153700 [6:46:35<5:08:15,  4.22it/s]"
     ]
    },
    {
     "name": "stdout",
     "output_type": "stream",
     "text": [
      "File 27021597906851808 not found in /yngve_data/sdssv/ipl-2/spectro/astra/0.3.0/v6_0_9-1.0/spectra/star\n"
     ]
    },
    {
     "name": "stderr",
     "output_type": "stream",
     "text": [
      " 49%|████▉     | 75942/153700 [6:47:44<3:08:06,  6.89it/s] "
     ]
    },
    {
     "name": "stdout",
     "output_type": "stream",
     "text": [
      "Traceback (most recent call last):\n",
      "  File \"/home/petershi/miniconda3/envs/SDSSV/lib/python3.11/site-packages/astropy/io/fits/column.py\", line 2142, in _get_index\n",
      "    indx = names.index(key.rstrip())\n",
      "           ^^^^^^^^^^^^^^^^^^^^^^^^^\n",
      "ValueError: 'SNR' is not in list\n",
      "\n",
      "During handling of the above exception, another exception occurred:\n",
      "\n",
      "Traceback (most recent call last):\n",
      "  File \"/tmp/ipykernel_10073/3388262553.py\", line 15, in <module>\n",
      "    cdata = getSDSSVData(cfile)\n",
      "            ^^^^^^^^^^^^^^^^^^^\n",
      "  File \"/tmp/ipykernel_10073/4007893978.py\", line 3, in getSDSSVData\n",
      "    snr = hdul[3].data[\"SNR\"]\n",
      "          ~~~~~~~~~~~~^^^^^^^\n",
      "  File \"/home/petershi/miniconda3/envs/SDSSV/lib/python3.11/site-packages/astropy/io/fits/fitsrec.py\", line 513, in __getitem__\n",
      "    return self.field(key)\n",
      "           ^^^^^^^^^^^^^^^\n",
      "  File \"/home/petershi/miniconda3/envs/SDSSV/lib/python3.11/site-packages/astropy/io/fits/fitsrec.py\", line 695, in field\n",
      "    column = self.columns[key]\n",
      "             ~~~~~~~~~~~~^^^^^\n",
      "  File \"/home/petershi/miniconda3/envs/SDSSV/lib/python3.11/site-packages/astropy/io/fits/column.py\", line 1751, in __getitem__\n",
      "    key = _get_index(self.names, key)\n",
      "          ^^^^^^^^^^^^^^^^^^^^^^^^^^^\n",
      "  File \"/home/petershi/miniconda3/envs/SDSSV/lib/python3.11/site-packages/astropy/io/fits/column.py\", line 2151, in _get_index\n",
      "    raise KeyError(f\"Key '{key}' does not exist.\")\n",
      "KeyError: \"Key 'SNR' does not exist.\"\n",
      "\n"
     ]
    },
    {
     "name": "stderr",
     "output_type": "stream",
     "text": [
      " 49%|████▉     | 75955/153700 [6:47:48<8:08:02,  2.66it/s]"
     ]
    },
    {
     "name": "stdout",
     "output_type": "stream",
     "text": [
      "Traceback (most recent call last):\n",
      "  File \"/home/petershi/miniconda3/envs/SDSSV/lib/python3.11/site-packages/astropy/io/fits/column.py\", line 2142, in _get_index\n",
      "    indx = names.index(key.rstrip())\n",
      "           ^^^^^^^^^^^^^^^^^^^^^^^^^\n",
      "ValueError: 'SNR' is not in list\n",
      "\n",
      "During handling of the above exception, another exception occurred:\n",
      "\n",
      "Traceback (most recent call last):\n",
      "  File \"/tmp/ipykernel_10073/3388262553.py\", line 15, in <module>\n",
      "    cdata = getSDSSVData(cfile)\n",
      "            ^^^^^^^^^^^^^^^^^^^\n",
      "  File \"/tmp/ipykernel_10073/4007893978.py\", line 3, in getSDSSVData\n",
      "    snr = hdul[3].data[\"SNR\"]\n",
      "          ~~~~~~~~~~~~^^^^^^^\n",
      "  File \"/home/petershi/miniconda3/envs/SDSSV/lib/python3.11/site-packages/astropy/io/fits/fitsrec.py\", line 513, in __getitem__\n",
      "    return self.field(key)\n",
      "           ^^^^^^^^^^^^^^^\n",
      "  File \"/home/petershi/miniconda3/envs/SDSSV/lib/python3.11/site-packages/astropy/io/fits/fitsrec.py\", line 695, in field\n",
      "    column = self.columns[key]\n",
      "             ~~~~~~~~~~~~^^^^^\n",
      "  File \"/home/petershi/miniconda3/envs/SDSSV/lib/python3.11/site-packages/astropy/io/fits/column.py\", line 1751, in __getitem__\n",
      "    key = _get_index(self.names, key)\n",
      "          ^^^^^^^^^^^^^^^^^^^^^^^^^^^\n",
      "  File \"/home/petershi/miniconda3/envs/SDSSV/lib/python3.11/site-packages/astropy/io/fits/column.py\", line 2151, in _get_index\n",
      "    raise KeyError(f\"Key '{key}' does not exist.\")\n",
      "KeyError: \"Key 'SNR' does not exist.\"\n",
      "\n"
     ]
    },
    {
     "name": "stderr",
     "output_type": "stream",
     "text": [
      " 49%|████▉     | 75970/153700 [6:47:52<5:45:48,  3.75it/s] "
     ]
    },
    {
     "name": "stdout",
     "output_type": "stream",
     "text": [
      "File 27021597906943465 not found in /yngve_data/sdssv/ipl-2/spectro/astra/0.3.0/v6_0_9-1.0/spectra/star\n"
     ]
    },
    {
     "name": "stderr",
     "output_type": "stream",
     "text": [
      " 49%|████▉     | 76055/153700 [6:48:22<9:44:08,  2.22it/s] "
     ]
    },
    {
     "name": "stdout",
     "output_type": "stream",
     "text": [
      "Traceback (most recent call last):\n",
      "  File \"/home/petershi/miniconda3/envs/SDSSV/lib/python3.11/site-packages/astropy/io/fits/column.py\", line 2142, in _get_index\n",
      "    indx = names.index(key.rstrip())\n",
      "           ^^^^^^^^^^^^^^^^^^^^^^^^^\n",
      "ValueError: 'SNR' is not in list\n",
      "\n",
      "During handling of the above exception, another exception occurred:\n",
      "\n",
      "Traceback (most recent call last):\n",
      "  File \"/tmp/ipykernel_10073/3388262553.py\", line 15, in <module>\n",
      "    cdata = getSDSSVData(cfile)\n",
      "            ^^^^^^^^^^^^^^^^^^^\n",
      "  File \"/tmp/ipykernel_10073/4007893978.py\", line 3, in getSDSSVData\n",
      "    snr = hdul[3].data[\"SNR\"]\n",
      "          ~~~~~~~~~~~~^^^^^^^\n",
      "  File \"/home/petershi/miniconda3/envs/SDSSV/lib/python3.11/site-packages/astropy/io/fits/fitsrec.py\", line 513, in __getitem__\n",
      "    return self.field(key)\n",
      "           ^^^^^^^^^^^^^^^\n",
      "  File \"/home/petershi/miniconda3/envs/SDSSV/lib/python3.11/site-packages/astropy/io/fits/fitsrec.py\", line 695, in field\n",
      "    column = self.columns[key]\n",
      "             ~~~~~~~~~~~~^^^^^\n",
      "  File \"/home/petershi/miniconda3/envs/SDSSV/lib/python3.11/site-packages/astropy/io/fits/column.py\", line 1751, in __getitem__\n",
      "    key = _get_index(self.names, key)\n",
      "          ^^^^^^^^^^^^^^^^^^^^^^^^^^^\n",
      "  File \"/home/petershi/miniconda3/envs/SDSSV/lib/python3.11/site-packages/astropy/io/fits/column.py\", line 2151, in _get_index\n",
      "    raise KeyError(f\"Key '{key}' does not exist.\")\n",
      "KeyError: \"Key 'SNR' does not exist.\"\n",
      "\n"
     ]
    },
    {
     "name": "stderr",
     "output_type": "stream",
     "text": [
      " 50%|████▉     | 76086/153700 [6:48:32<8:59:53,  2.40it/s] "
     ]
    },
    {
     "name": "stdout",
     "output_type": "stream",
     "text": [
      "File 27021597906977011 not found in /yngve_data/sdssv/ipl-2/spectro/astra/0.3.0/v6_0_9-1.0/spectra/star\n"
     ]
    },
    {
     "name": "stderr",
     "output_type": "stream",
     "text": [
      " 50%|████▉     | 76104/153700 [6:48:37<4:52:02,  4.43it/s] "
     ]
    },
    {
     "name": "stdout",
     "output_type": "stream",
     "text": [
      "File 27021597906992172 not found in /yngve_data/sdssv/ipl-2/spectro/astra/0.3.0/v6_0_9-1.0/spectra/star\n"
     ]
    },
    {
     "name": "stderr",
     "output_type": "stream",
     "text": [
      " 50%|████▉     | 76222/153700 [6:49:15<7:20:43,  2.93it/s] "
     ]
    },
    {
     "name": "stdout",
     "output_type": "stream",
     "text": [
      "File 27021597907094324 not found in /yngve_data/sdssv/ipl-2/spectro/astra/0.3.0/v6_0_9-1.0/spectra/star\n"
     ]
    },
    {
     "name": "stderr",
     "output_type": "stream",
     "text": [
      " 50%|████▉     | 76255/153700 [6:49:25<7:33:12,  2.85it/s] "
     ]
    },
    {
     "name": "stdout",
     "output_type": "stream",
     "text": [
      "File 27021597907155250 not found in /yngve_data/sdssv/ipl-2/spectro/astra/0.3.0/v6_0_9-1.0/spectra/star\n"
     ]
    },
    {
     "name": "stderr",
     "output_type": "stream",
     "text": [
      " 50%|████▉     | 76278/153700 [6:49:34<5:27:37,  3.94it/s] "
     ]
    },
    {
     "name": "stdout",
     "output_type": "stream",
     "text": [
      "File 27021597907162404 not found in /yngve_data/sdssv/ipl-2/spectro/astra/0.3.0/v6_0_9-1.0/spectra/star\n"
     ]
    },
    {
     "name": "stderr",
     "output_type": "stream",
     "text": [
      " 50%|████▉     | 76312/153700 [6:49:45<10:41:03,  2.01it/s]"
     ]
    },
    {
     "name": "stdout",
     "output_type": "stream",
     "text": [
      "File 27021597907179064 not found in /yngve_data/sdssv/ipl-2/spectro/astra/0.3.0/v6_0_9-1.0/spectra/star\n"
     ]
    },
    {
     "name": "stderr",
     "output_type": "stream",
     "text": [
      " 50%|████▉     | 76331/153700 [6:49:53<7:43:55,  2.78it/s] "
     ]
    },
    {
     "name": "stdout",
     "output_type": "stream",
     "text": [
      "File 27021597907194191 not found in /yngve_data/sdssv/ipl-2/spectro/astra/0.3.0/v6_0_9-1.0/spectra/star\n"
     ]
    },
    {
     "name": "stderr",
     "output_type": "stream",
     "text": [
      " 50%|████▉     | 76335/153700 [6:49:54<5:16:22,  4.08it/s]"
     ]
    },
    {
     "name": "stdout",
     "output_type": "stream",
     "text": [
      "File 27021597907195042 not found in /yngve_data/sdssv/ipl-2/spectro/astra/0.3.0/v6_0_9-1.0/spectra/star\n"
     ]
    },
    {
     "name": "stderr",
     "output_type": "stream",
     "text": [
      " 50%|████▉     | 76346/153700 [6:49:56<6:44:05,  3.19it/s]"
     ]
    },
    {
     "name": "stdout",
     "output_type": "stream",
     "text": [
      "File 27021597907204896 not found in /yngve_data/sdssv/ipl-2/spectro/astra/0.3.0/v6_0_9-1.0/spectra/star\n"
     ]
    },
    {
     "name": "stderr",
     "output_type": "stream",
     "text": [
      " 50%|████▉     | 76368/153700 [6:50:03<8:30:35,  2.52it/s] "
     ]
    },
    {
     "name": "stdout",
     "output_type": "stream",
     "text": [
      "File 27021597907220276 not found in /yngve_data/sdssv/ipl-2/spectro/astra/0.3.0/v6_0_9-1.0/spectra/star\n"
     ]
    },
    {
     "name": "stderr",
     "output_type": "stream",
     "text": [
      " 50%|████▉     | 76370/153700 [6:50:03<7:43:37,  2.78it/s]"
     ]
    },
    {
     "name": "stdout",
     "output_type": "stream",
     "text": [
      "File 27021597907220798 not found in /yngve_data/sdssv/ipl-2/spectro/astra/0.3.0/v6_0_9-1.0/spectra/star\n"
     ]
    },
    {
     "name": "stderr",
     "output_type": "stream",
     "text": [
      " 50%|████▉     | 76374/153700 [6:50:04<6:49:45,  3.15it/s]"
     ]
    },
    {
     "name": "stdout",
     "output_type": "stream",
     "text": [
      "File 27021597907222608 not found in /yngve_data/sdssv/ipl-2/spectro/astra/0.3.0/v6_0_9-1.0/spectra/star\n"
     ]
    },
    {
     "name": "stderr",
     "output_type": "stream",
     "text": [
      " 50%|████▉     | 76375/153700 [6:50:05<8:00:47,  2.68it/s]"
     ]
    },
    {
     "name": "stdout",
     "output_type": "stream",
     "text": [
      "File 27021597907223084 not found in /yngve_data/sdssv/ipl-2/spectro/astra/0.3.0/v6_0_9-1.0/spectra/star\n"
     ]
    },
    {
     "name": "stderr",
     "output_type": "stream",
     "text": [
      " 50%|████▉     | 76377/153700 [6:50:06<8:17:39,  2.59it/s]"
     ]
    },
    {
     "name": "stdout",
     "output_type": "stream",
     "text": [
      "File 27021597907224222 not found in /yngve_data/sdssv/ipl-2/spectro/astra/0.3.0/v6_0_9-1.0/spectra/star\n"
     ]
    },
    {
     "name": "stderr",
     "output_type": "stream",
     "text": [
      " 50%|████▉     | 76379/153700 [6:50:06<8:46:24,  2.45it/s]"
     ]
    },
    {
     "name": "stdout",
     "output_type": "stream",
     "text": [
      "File 27021597907224793 not found in /yngve_data/sdssv/ipl-2/spectro/astra/0.3.0/v6_0_9-1.0/spectra/star\n"
     ]
    },
    {
     "name": "stderr",
     "output_type": "stream",
     "text": [
      " 50%|████▉     | 76389/153700 [6:50:11<11:05:03,  1.94it/s]"
     ]
    },
    {
     "name": "stdout",
     "output_type": "stream",
     "text": [
      "File 27021597907229394 not found in /yngve_data/sdssv/ipl-2/spectro/astra/0.3.0/v6_0_9-1.0/spectra/star\n"
     ]
    },
    {
     "name": "stderr",
     "output_type": "stream",
     "text": [
      " 50%|████▉     | 76395/153700 [6:50:14<7:05:31,  3.03it/s] "
     ]
    },
    {
     "name": "stdout",
     "output_type": "stream",
     "text": [
      "File 27021597907230618 not found in /yngve_data/sdssv/ipl-2/spectro/astra/0.3.0/v6_0_9-1.0/spectra/star\n"
     ]
    },
    {
     "name": "stderr",
     "output_type": "stream",
     "text": [
      " 50%|████▉     | 76404/153700 [6:50:15<6:01:26,  3.56it/s]"
     ]
    },
    {
     "name": "stdout",
     "output_type": "stream",
     "text": [
      "File 27021597907233151 not found in /yngve_data/sdssv/ipl-2/spectro/astra/0.3.0/v6_0_9-1.0/spectra/star\n"
     ]
    },
    {
     "name": "stderr",
     "output_type": "stream",
     "text": [
      " 50%|████▉     | 76407/153700 [6:50:16<7:24:50,  2.90it/s]"
     ]
    },
    {
     "name": "stdout",
     "output_type": "stream",
     "text": [
      "File 27021597907305307 not found in /yngve_data/sdssv/ipl-2/spectro/astra/0.3.0/v6_0_9-1.0/spectra/star\n"
     ]
    },
    {
     "name": "stderr",
     "output_type": "stream",
     "text": [
      " 50%|████▉     | 76413/153700 [6:50:20<11:21:04,  1.89it/s]"
     ]
    },
    {
     "name": "stdout",
     "output_type": "stream",
     "text": [
      "File 27021597907310339 not found in /yngve_data/sdssv/ipl-2/spectro/astra/0.3.0/v6_0_9-1.0/spectra/star\n"
     ]
    },
    {
     "name": "stderr",
     "output_type": "stream",
     "text": [
      " 50%|████▉     | 76464/153700 [6:50:35<8:34:34,  2.50it/s] "
     ]
    },
    {
     "name": "stdout",
     "output_type": "stream",
     "text": [
      "File 27021597907334887 not found in /yngve_data/sdssv/ipl-2/spectro/astra/0.3.0/v6_0_9-1.0/spectra/star\n"
     ]
    },
    {
     "name": "stderr",
     "output_type": "stream",
     "text": [
      " 50%|████▉     | 76467/153700 [6:50:36<8:44:23,  2.45it/s]"
     ]
    },
    {
     "name": "stdout",
     "output_type": "stream",
     "text": [
      "File 27021597907335163 not found in /yngve_data/sdssv/ipl-2/spectro/astra/0.3.0/v6_0_9-1.0/spectra/star\n"
     ]
    },
    {
     "name": "stderr",
     "output_type": "stream",
     "text": [
      " 50%|████▉     | 76548/153700 [6:51:03<6:44:26,  3.18it/s] "
     ]
    },
    {
     "name": "stdout",
     "output_type": "stream",
     "text": [
      "Traceback (most recent call last):\n",
      "  File \"/home/petershi/miniconda3/envs/SDSSV/lib/python3.11/site-packages/astropy/io/fits/column.py\", line 2142, in _get_index\n",
      "    indx = names.index(key.rstrip())\n",
      "           ^^^^^^^^^^^^^^^^^^^^^^^^^\n",
      "ValueError: 'SNR' is not in list\n",
      "\n",
      "During handling of the above exception, another exception occurred:\n",
      "\n",
      "Traceback (most recent call last):\n",
      "  File \"/tmp/ipykernel_10073/3388262553.py\", line 15, in <module>\n",
      "    cdata = getSDSSVData(cfile)\n",
      "            ^^^^^^^^^^^^^^^^^^^\n",
      "  File \"/tmp/ipykernel_10073/4007893978.py\", line 3, in getSDSSVData\n",
      "    snr = hdul[3].data[\"SNR\"]\n",
      "          ~~~~~~~~~~~~^^^^^^^\n",
      "  File \"/home/petershi/miniconda3/envs/SDSSV/lib/python3.11/site-packages/astropy/io/fits/fitsrec.py\", line 513, in __getitem__\n",
      "    return self.field(key)\n",
      "           ^^^^^^^^^^^^^^^\n",
      "  File \"/home/petershi/miniconda3/envs/SDSSV/lib/python3.11/site-packages/astropy/io/fits/fitsrec.py\", line 695, in field\n",
      "    column = self.columns[key]\n",
      "             ~~~~~~~~~~~~^^^^^\n",
      "  File \"/home/petershi/miniconda3/envs/SDSSV/lib/python3.11/site-packages/astropy/io/fits/column.py\", line 1751, in __getitem__\n",
      "    key = _get_index(self.names, key)\n",
      "          ^^^^^^^^^^^^^^^^^^^^^^^^^^^\n",
      "  File \"/home/petershi/miniconda3/envs/SDSSV/lib/python3.11/site-packages/astropy/io/fits/column.py\", line 2151, in _get_index\n",
      "    raise KeyError(f\"Key '{key}' does not exist.\")\n",
      "KeyError: \"Key 'SNR' does not exist.\"\n",
      "\n"
     ]
    },
    {
     "name": "stderr",
     "output_type": "stream",
     "text": [
      " 50%|█████     | 76932/153700 [6:53:06<7:16:59,  2.93it/s] "
     ]
    },
    {
     "name": "stdout",
     "output_type": "stream",
     "text": [
      "File 27021597908317084 not found in /yngve_data/sdssv/ipl-2/spectro/astra/0.3.0/v6_0_9-1.0/spectra/star\n"
     ]
    },
    {
     "name": "stderr",
     "output_type": "stream",
     "text": [
      " 50%|█████     | 76935/153700 [6:53:07<9:45:41,  2.18it/s]"
     ]
    },
    {
     "name": "stdout",
     "output_type": "stream",
     "text": [
      "File 27021597908317893 not found in /yngve_data/sdssv/ipl-2/spectro/astra/0.3.0/v6_0_9-1.0/spectra/star\n"
     ]
    },
    {
     "name": "stderr",
     "output_type": "stream",
     "text": [
      " 50%|█████     | 76961/153700 [6:53:22<13:15:31,  1.61it/s]"
     ]
    },
    {
     "name": "stdout",
     "output_type": "stream",
     "text": [
      "File 27021597908319954 not found in /yngve_data/sdssv/ipl-2/spectro/astra/0.3.0/v6_0_9-1.0/spectra/star\n"
     ]
    },
    {
     "name": "stderr",
     "output_type": "stream",
     "text": [
      " 50%|█████     | 76966/153700 [6:53:23<6:00:49,  3.54it/s] "
     ]
    },
    {
     "name": "stdout",
     "output_type": "stream",
     "text": [
      "File 27021597908320332 not found in /yngve_data/sdssv/ipl-2/spectro/astra/0.3.0/v6_0_9-1.0/spectra/star\n"
     ]
    },
    {
     "name": "stderr",
     "output_type": "stream",
     "text": [
      " 50%|█████     | 76986/153700 [6:53:25<3:47:13,  5.63it/s]"
     ]
    },
    {
     "name": "stdout",
     "output_type": "stream",
     "text": [
      "File 27021597908321776 not found in /yngve_data/sdssv/ipl-2/spectro/astra/0.3.0/v6_0_9-1.0/spectra/star\n"
     ]
    },
    {
     "name": "stderr",
     "output_type": "stream",
     "text": [
      " 50%|█████     | 76991/153700 [6:53:26<4:54:45,  4.34it/s]"
     ]
    },
    {
     "name": "stdout",
     "output_type": "stream",
     "text": [
      "File 27021597908322118 not found in /yngve_data/sdssv/ipl-2/spectro/astra/0.3.0/v6_0_9-1.0/spectra/star\n"
     ]
    },
    {
     "name": "stderr",
     "output_type": "stream",
     "text": [
      " 50%|█████     | 77000/153700 [6:53:28<6:22:06,  3.35it/s]"
     ]
    },
    {
     "name": "stdout",
     "output_type": "stream",
     "text": [
      "File 27021597908323775 not found in /yngve_data/sdssv/ipl-2/spectro/astra/0.3.0/v6_0_9-1.0/spectra/star\n"
     ]
    },
    {
     "name": "stderr",
     "output_type": "stream",
     "text": [
      " 50%|█████     | 77143/153700 [6:54:18<7:28:40,  2.84it/s] "
     ]
    },
    {
     "name": "stdout",
     "output_type": "stream",
     "text": [
      "File 27021597909525455 not found in /yngve_data/sdssv/ipl-2/spectro/astra/0.3.0/v6_0_9-1.0/spectra/star\n"
     ]
    },
    {
     "name": "stderr",
     "output_type": "stream",
     "text": [
      " 50%|█████     | 77174/153700 [6:54:29<6:42:55,  3.17it/s] "
     ]
    },
    {
     "name": "stdout",
     "output_type": "stream",
     "text": [
      "File 27021597909555645 not found in /yngve_data/sdssv/ipl-2/spectro/astra/0.3.0/v6_0_9-1.0/spectra/star\n"
     ]
    },
    {
     "name": "stderr",
     "output_type": "stream",
     "text": [
      " 50%|█████     | 77192/153700 [6:54:38<12:42:01,  1.67it/s]"
     ]
    },
    {
     "name": "stdout",
     "output_type": "stream",
     "text": [
      "File 27021597909557615 not found in /yngve_data/sdssv/ipl-2/spectro/astra/0.3.0/v6_0_9-1.0/spectra/star\n"
     ]
    },
    {
     "name": "stderr",
     "output_type": "stream",
     "text": [
      " 50%|█████     | 77218/153700 [6:54:46<3:48:12,  5.59it/s] "
     ]
    },
    {
     "name": "stdout",
     "output_type": "stream",
     "text": [
      "File 27021597909561463 not found in /yngve_data/sdssv/ipl-2/spectro/astra/0.3.0/v6_0_9-1.0/spectra/star\n"
     ]
    },
    {
     "name": "stderr",
     "output_type": "stream",
     "text": [
      " 50%|█████     | 77221/153700 [6:54:47<4:44:24,  4.48it/s]"
     ]
    },
    {
     "name": "stdout",
     "output_type": "stream",
     "text": [
      "File 27021597909561677 not found in /yngve_data/sdssv/ipl-2/spectro/astra/0.3.0/v6_0_9-1.0/spectra/star\n"
     ]
    },
    {
     "name": "stderr",
     "output_type": "stream",
     "text": [
      " 50%|█████     | 77230/153700 [6:54:49<5:27:03,  3.90it/s]"
     ]
    },
    {
     "name": "stdout",
     "output_type": "stream",
     "text": [
      "File 27021597909562412 not found in /yngve_data/sdssv/ipl-2/spectro/astra/0.3.0/v6_0_9-1.0/spectra/star\n"
     ]
    },
    {
     "name": "stderr",
     "output_type": "stream",
     "text": [
      " 50%|█████     | 77231/153700 [6:54:49<7:21:17,  2.89it/s]"
     ]
    },
    {
     "name": "stdout",
     "output_type": "stream",
     "text": [
      "File 27021597909562691 not found in /yngve_data/sdssv/ipl-2/spectro/astra/0.3.0/v6_0_9-1.0/spectra/star\n"
     ]
    },
    {
     "name": "stderr",
     "output_type": "stream",
     "text": [
      " 50%|█████     | 77235/153700 [6:54:50<7:19:14,  2.90it/s]"
     ]
    },
    {
     "name": "stdout",
     "output_type": "stream",
     "text": [
      "File 27021597909563331 not found in /yngve_data/sdssv/ipl-2/spectro/astra/0.3.0/v6_0_9-1.0/spectra/star\n"
     ]
    },
    {
     "name": "stderr",
     "output_type": "stream",
     "text": [
      " 50%|█████     | 77249/153700 [6:54:55<8:14:34,  2.58it/s]"
     ]
    },
    {
     "name": "stdout",
     "output_type": "stream",
     "text": [
      "File 27021597909565491 not found in /yngve_data/sdssv/ipl-2/spectro/astra/0.3.0/v6_0_9-1.0/spectra/star\n"
     ]
    },
    {
     "name": "stderr",
     "output_type": "stream",
     "text": [
      " 50%|█████     | 77250/153700 [6:54:55<9:20:27,  2.27it/s]"
     ]
    },
    {
     "name": "stdout",
     "output_type": "stream",
     "text": [
      "File 27021597909565538 not found in /yngve_data/sdssv/ipl-2/spectro/astra/0.3.0/v6_0_9-1.0/spectra/star\n"
     ]
    },
    {
     "name": "stderr",
     "output_type": "stream",
     "text": [
      " 50%|█████     | 77251/153700 [6:54:56<10:12:04,  2.08it/s]"
     ]
    },
    {
     "name": "stdout",
     "output_type": "stream",
     "text": [
      "File 27021597909565550 not found in /yngve_data/sdssv/ipl-2/spectro/astra/0.3.0/v6_0_9-1.0/spectra/star\n"
     ]
    },
    {
     "name": "stderr",
     "output_type": "stream",
     "text": [
      " 50%|█████     | 77261/153700 [6:55:00<9:46:43,  2.17it/s] "
     ]
    },
    {
     "name": "stdout",
     "output_type": "stream",
     "text": [
      "File 27021597909567436 not found in /yngve_data/sdssv/ipl-2/spectro/astra/0.3.0/v6_0_9-1.0/spectra/star\n"
     ]
    },
    {
     "name": "stderr",
     "output_type": "stream",
     "text": [
      " 50%|█████     | 77277/153700 [6:55:08<10:19:19,  2.06it/s]"
     ]
    },
    {
     "name": "stdout",
     "output_type": "stream",
     "text": [
      "File 27021597909594469 not found in /yngve_data/sdssv/ipl-2/spectro/astra/0.3.0/v6_0_9-1.0/spectra/star\n"
     ]
    },
    {
     "name": "stderr",
     "output_type": "stream",
     "text": [
      " 50%|█████     | 77283/153700 [6:55:10<6:37:26,  3.20it/s] "
     ]
    },
    {
     "name": "stdout",
     "output_type": "stream",
     "text": [
      "File 27021597909622894 not found in /yngve_data/sdssv/ipl-2/spectro/astra/0.3.0/v6_0_9-1.0/spectra/star\n"
     ]
    },
    {
     "name": "stderr",
     "output_type": "stream",
     "text": [
      " 50%|█████     | 77285/153700 [6:55:11<6:50:30,  3.10it/s]"
     ]
    },
    {
     "name": "stdout",
     "output_type": "stream",
     "text": [
      "File 27021597909622964 not found in /yngve_data/sdssv/ipl-2/spectro/astra/0.3.0/v6_0_9-1.0/spectra/star\n"
     ]
    },
    {
     "name": "stderr",
     "output_type": "stream",
     "text": [
      " 50%|█████     | 77292/153700 [6:55:12<3:52:09,  5.49it/s]"
     ]
    },
    {
     "name": "stdout",
     "output_type": "stream",
     "text": [
      "File 27021597909625064 not found in /yngve_data/sdssv/ipl-2/spectro/astra/0.3.0/v6_0_9-1.0/spectra/star\n"
     ]
    },
    {
     "name": "stderr",
     "output_type": "stream",
     "text": [
      " 50%|█████     | 77294/153700 [6:55:13<4:40:58,  4.53it/s]"
     ]
    },
    {
     "name": "stdout",
     "output_type": "stream",
     "text": [
      "File 27021597909860962 not found in /yngve_data/sdssv/ipl-2/spectro/astra/0.3.0/v6_0_9-1.0/spectra/star\n"
     ]
    },
    {
     "name": "stderr",
     "output_type": "stream",
     "text": [
      " 50%|█████     | 77397/153700 [6:55:41<8:43:35,  2.43it/s] "
     ]
    },
    {
     "name": "stdout",
     "output_type": "stream",
     "text": [
      "File 27021597909995966 not found in /yngve_data/sdssv/ipl-2/spectro/astra/0.3.0/v6_0_9-1.0/spectra/star\n"
     ]
    },
    {
     "name": "stderr",
     "output_type": "stream",
     "text": [
      " 50%|█████     | 77438/153700 [6:56:00<5:53:34,  3.59it/s] "
     ]
    },
    {
     "name": "stdout",
     "output_type": "stream",
     "text": [
      "File 27021597910000033 not found in /yngve_data/sdssv/ipl-2/spectro/astra/0.3.0/v6_0_9-1.0/spectra/star\n"
     ]
    },
    {
     "name": "stderr",
     "output_type": "stream",
     "text": [
      " 50%|█████     | 77447/153700 [6:56:02<6:23:37,  3.31it/s]"
     ]
    },
    {
     "name": "stdout",
     "output_type": "stream",
     "text": [
      "File 27021597910249725 not found in /yngve_data/sdssv/ipl-2/spectro/astra/0.3.0/v6_0_9-1.0/spectra/star\n"
     ]
    },
    {
     "name": "stderr",
     "output_type": "stream",
     "text": [
      " 50%|█████     | 77448/153700 [6:56:03<7:56:02,  2.67it/s]"
     ]
    },
    {
     "name": "stdout",
     "output_type": "stream",
     "text": [
      "File 27021597910249768 not found in /yngve_data/sdssv/ipl-2/spectro/astra/0.3.0/v6_0_9-1.0/spectra/star\n"
     ]
    },
    {
     "name": "stderr",
     "output_type": "stream",
     "text": [
      " 50%|█████     | 77452/153700 [6:56:03<5:15:10,  4.03it/s]"
     ]
    },
    {
     "name": "stdout",
     "output_type": "stream",
     "text": [
      "File 27021597910250239 not found in /yngve_data/sdssv/ipl-2/spectro/astra/0.3.0/v6_0_9-1.0/spectra/star\n"
     ]
    },
    {
     "name": "stderr",
     "output_type": "stream",
     "text": [
      " 50%|█████     | 77454/153700 [6:56:04<6:50:46,  3.09it/s]"
     ]
    },
    {
     "name": "stdout",
     "output_type": "stream",
     "text": [
      "File 27021597910253914 not found in /yngve_data/sdssv/ipl-2/spectro/astra/0.3.0/v6_0_9-1.0/spectra/star\n"
     ]
    },
    {
     "name": "stderr",
     "output_type": "stream",
     "text": [
      " 50%|█████     | 77466/153700 [6:56:08<8:02:16,  2.63it/s]"
     ]
    },
    {
     "name": "stdout",
     "output_type": "stream",
     "text": [
      "File 27021597910254817 not found in /yngve_data/sdssv/ipl-2/spectro/astra/0.3.0/v6_0_9-1.0/spectra/star\n"
     ]
    },
    {
     "name": "stderr",
     "output_type": "stream",
     "text": [
      " 50%|█████     | 77469/153700 [6:56:09<9:00:42,  2.35it/s]"
     ]
    },
    {
     "name": "stdout",
     "output_type": "stream",
     "text": [
      "File 27021597910256220 not found in /yngve_data/sdssv/ipl-2/spectro/astra/0.3.0/v6_0_9-1.0/spectra/star\n"
     ]
    },
    {
     "name": "stderr",
     "output_type": "stream",
     "text": [
      " 50%|█████     | 77483/153700 [6:56:15<10:06:26,  2.09it/s]"
     ]
    },
    {
     "name": "stdout",
     "output_type": "stream",
     "text": [
      "File 27021597910257460 not found in /yngve_data/sdssv/ipl-2/spectro/astra/0.3.0/v6_0_9-1.0/spectra/star\n"
     ]
    },
    {
     "name": "stderr",
     "output_type": "stream",
     "text": [
      " 50%|█████     | 77496/153700 [6:56:22<11:12:52,  1.89it/s]"
     ]
    },
    {
     "name": "stdout",
     "output_type": "stream",
     "text": [
      "File 27021597910258464 not found in /yngve_data/sdssv/ipl-2/spectro/astra/0.3.0/v6_0_9-1.0/spectra/star\n"
     ]
    },
    {
     "name": "stderr",
     "output_type": "stream",
     "text": [
      " 50%|█████     | 77498/153700 [6:56:23<11:22:36,  1.86it/s]"
     ]
    },
    {
     "name": "stdout",
     "output_type": "stream",
     "text": [
      "File 27021597910258608 not found in /yngve_data/sdssv/ipl-2/spectro/astra/0.3.0/v6_0_9-1.0/spectra/star\n"
     ]
    },
    {
     "name": "stderr",
     "output_type": "stream",
     "text": [
      " 50%|█████     | 77512/153700 [6:56:31<12:00:35,  1.76it/s]"
     ]
    },
    {
     "name": "stdout",
     "output_type": "stream",
     "text": [
      "File 27021597910260009 not found in /yngve_data/sdssv/ipl-2/spectro/astra/0.3.0/v6_0_9-1.0/spectra/star\n"
     ]
    },
    {
     "name": "stderr",
     "output_type": "stream",
     "text": [
      " 50%|█████     | 77516/153700 [6:56:32<6:09:09,  3.44it/s] "
     ]
    },
    {
     "name": "stdout",
     "output_type": "stream",
     "text": [
      "File 27021597910260121 not found in /yngve_data/sdssv/ipl-2/spectro/astra/0.3.0/v6_0_9-1.0/spectra/star\n"
     ]
    },
    {
     "name": "stderr",
     "output_type": "stream",
     "text": [
      " 50%|█████     | 77521/153700 [6:56:33<4:33:33,  4.64it/s]"
     ]
    },
    {
     "name": "stdout",
     "output_type": "stream",
     "text": [
      "File 27021597910260999 not found in /yngve_data/sdssv/ipl-2/spectro/astra/0.3.0/v6_0_9-1.0/spectra/star\n"
     ]
    },
    {
     "name": "stderr",
     "output_type": "stream",
     "text": [
      " 50%|█████     | 77529/153700 [6:56:34<4:30:46,  4.69it/s]"
     ]
    },
    {
     "name": "stdout",
     "output_type": "stream",
     "text": [
      "File 27021597910261589 not found in /yngve_data/sdssv/ipl-2/spectro/astra/0.3.0/v6_0_9-1.0/spectra/star\n"
     ]
    },
    {
     "name": "stderr",
     "output_type": "stream",
     "text": [
      " 50%|█████     | 77616/153700 [6:56:55<8:25:56,  2.51it/s] "
     ]
    },
    {
     "name": "stdout",
     "output_type": "stream",
     "text": [
      "File 27021597910295485 not found in /yngve_data/sdssv/ipl-2/spectro/astra/0.3.0/v6_0_9-1.0/spectra/star\n"
     ]
    },
    {
     "name": "stderr",
     "output_type": "stream",
     "text": [
      " 50%|█████     | 77618/153700 [6:56:56<9:13:33,  2.29it/s]"
     ]
    },
    {
     "name": "stdout",
     "output_type": "stream",
     "text": [
      "File 27021597910295629 not found in /yngve_data/sdssv/ipl-2/spectro/astra/0.3.0/v6_0_9-1.0/spectra/star\n"
     ]
    },
    {
     "name": "stderr",
     "output_type": "stream",
     "text": [
      " 51%|█████     | 77622/153700 [6:56:58<9:56:39,  2.13it/s]"
     ]
    },
    {
     "name": "stdout",
     "output_type": "stream",
     "text": [
      "File 27021597910295897 not found in /yngve_data/sdssv/ipl-2/spectro/astra/0.3.0/v6_0_9-1.0/spectra/star\n"
     ]
    },
    {
     "name": "stderr",
     "output_type": "stream",
     "text": [
      " 51%|█████     | 77627/153700 [6:57:00<9:29:11,  2.23it/s]"
     ]
    },
    {
     "name": "stdout",
     "output_type": "stream",
     "text": [
      "File 27021597910296037 not found in /yngve_data/sdssv/ipl-2/spectro/astra/0.3.0/v6_0_9-1.0/spectra/star\n"
     ]
    },
    {
     "name": "stderr",
     "output_type": "stream",
     "text": [
      " 51%|█████     | 77632/153700 [6:57:02<9:28:50,  2.23it/s]"
     ]
    },
    {
     "name": "stdout",
     "output_type": "stream",
     "text": [
      "File 27021597910296364 not found in /yngve_data/sdssv/ipl-2/spectro/astra/0.3.0/v6_0_9-1.0/spectra/star\n"
     ]
    },
    {
     "name": "stderr",
     "output_type": "stream",
     "text": [
      " 51%|█████     | 77661/153700 [6:57:14<10:26:18,  2.02it/s]"
     ]
    },
    {
     "name": "stdout",
     "output_type": "stream",
     "text": [
      "Traceback (most recent call last):\n",
      "  File \"/home/petershi/miniconda3/envs/SDSSV/lib/python3.11/site-packages/astropy/io/fits/column.py\", line 2142, in _get_index\n",
      "    indx = names.index(key.rstrip())\n",
      "           ^^^^^^^^^^^^^^^^^^^^^^^^^\n",
      "ValueError: 'SNR' is not in list\n",
      "\n",
      "During handling of the above exception, another exception occurred:\n",
      "\n",
      "Traceback (most recent call last):\n",
      "  File \"/tmp/ipykernel_10073/3388262553.py\", line 15, in <module>\n",
      "    cdata = getSDSSVData(cfile)\n",
      "            ^^^^^^^^^^^^^^^^^^^\n",
      "  File \"/tmp/ipykernel_10073/4007893978.py\", line 3, in getSDSSVData\n",
      "    snr = hdul[3].data[\"SNR\"]\n",
      "          ~~~~~~~~~~~~^^^^^^^\n",
      "  File \"/home/petershi/miniconda3/envs/SDSSV/lib/python3.11/site-packages/astropy/io/fits/fitsrec.py\", line 513, in __getitem__\n",
      "    return self.field(key)\n",
      "           ^^^^^^^^^^^^^^^\n",
      "  File \"/home/petershi/miniconda3/envs/SDSSV/lib/python3.11/site-packages/astropy/io/fits/fitsrec.py\", line 695, in field\n",
      "    column = self.columns[key]\n",
      "             ~~~~~~~~~~~~^^^^^\n",
      "  File \"/home/petershi/miniconda3/envs/SDSSV/lib/python3.11/site-packages/astropy/io/fits/column.py\", line 1751, in __getitem__\n",
      "    key = _get_index(self.names, key)\n",
      "          ^^^^^^^^^^^^^^^^^^^^^^^^^^^\n",
      "  File \"/home/petershi/miniconda3/envs/SDSSV/lib/python3.11/site-packages/astropy/io/fits/column.py\", line 2151, in _get_index\n",
      "    raise KeyError(f\"Key '{key}' does not exist.\")\n",
      "KeyError: \"Key 'SNR' does not exist.\"\n",
      "\n"
     ]
    },
    {
     "name": "stderr",
     "output_type": "stream",
     "text": [
      " 51%|█████     | 77673/153700 [6:57:17<4:58:37,  4.24it/s] "
     ]
    },
    {
     "name": "stdout",
     "output_type": "stream",
     "text": [
      "File 27021597910360772 not found in /yngve_data/sdssv/ipl-2/spectro/astra/0.3.0/v6_0_9-1.0/spectra/star\n"
     ]
    },
    {
     "name": "stderr",
     "output_type": "stream",
     "text": [
      " 51%|█████     | 77679/153700 [6:57:19<5:08:22,  4.11it/s]"
     ]
    },
    {
     "name": "stdout",
     "output_type": "stream",
     "text": [
      "File 27021597910362019 not found in /yngve_data/sdssv/ipl-2/spectro/astra/0.3.0/v6_0_9-1.0/spectra/star\n"
     ]
    },
    {
     "name": "stderr",
     "output_type": "stream",
     "text": [
      " 51%|█████     | 77681/153700 [6:57:19<5:58:53,  3.53it/s]"
     ]
    },
    {
     "name": "stdout",
     "output_type": "stream",
     "text": [
      "File 27021597910362058 not found in /yngve_data/sdssv/ipl-2/spectro/astra/0.3.0/v6_0_9-1.0/spectra/star\n",
      "Traceback (most recent call last):\n",
      "  File \"/home/petershi/miniconda3/envs/SDSSV/lib/python3.11/site-packages/astropy/io/fits/column.py\", line 2142, in _get_index\n",
      "    indx = names.index(key.rstrip())\n",
      "           ^^^^^^^^^^^^^^^^^^^^^^^^^\n",
      "ValueError: 'SNR' is not in list\n",
      "\n",
      "During handling of the above exception, another exception occurred:\n",
      "\n",
      "Traceback (most recent call last):\n",
      "  File \"/tmp/ipykernel_10073/3388262553.py\", line 15, in <module>\n",
      "    cdata = getSDSSVData(cfile)\n",
      "            ^^^^^^^^^^^^^^^^^^^\n",
      "  File \"/tmp/ipykernel_10073/4007893978.py\", line 3, in getSDSSVData\n",
      "    snr = hdul[3].data[\"SNR\"]\n",
      "          ~~~~~~~~~~~~^^^^^^^\n",
      "  File \"/home/petershi/miniconda3/envs/SDSSV/lib/python3.11/site-packages/astropy/io/fits/fitsrec.py\", line 513, in __getitem__\n",
      "    return self.field(key)\n",
      "           ^^^^^^^^^^^^^^^\n",
      "  File \"/home/petershi/miniconda3/envs/SDSSV/lib/python3.11/site-packages/astropy/io/fits/fitsrec.py\", line 695, in field\n",
      "    column = self.columns[key]\n",
      "             ~~~~~~~~~~~~^^^^^\n",
      "  File \"/home/petershi/miniconda3/envs/SDSSV/lib/python3.11/site-packages/astropy/io/fits/column.py\", line 1751, in __getitem__\n",
      "    key = _get_index(self.names, key)\n",
      "          ^^^^^^^^^^^^^^^^^^^^^^^^^^^\n",
      "  File \"/home/petershi/miniconda3/envs/SDSSV/lib/python3.11/site-packages/astropy/io/fits/column.py\", line 2151, in _get_index\n",
      "    raise KeyError(f\"Key '{key}' does not exist.\")\n",
      "KeyError: \"Key 'SNR' does not exist.\"\n",
      "\n"
     ]
    },
    {
     "name": "stderr",
     "output_type": "stream",
     "text": [
      " 51%|█████     | 77684/153700 [6:57:20<6:27:04,  3.27it/s]"
     ]
    },
    {
     "name": "stdout",
     "output_type": "stream",
     "text": [
      "File 27021597910362301 not found in /yngve_data/sdssv/ipl-2/spectro/astra/0.3.0/v6_0_9-1.0/spectra/star\n"
     ]
    },
    {
     "name": "stderr",
     "output_type": "stream",
     "text": [
      " 51%|█████     | 77686/153700 [6:57:21<6:59:42,  3.02it/s]"
     ]
    },
    {
     "name": "stdout",
     "output_type": "stream",
     "text": [
      "File 27021597910362661 not found in /yngve_data/sdssv/ipl-2/spectro/astra/0.3.0/v6_0_9-1.0/spectra/star\n"
     ]
    },
    {
     "name": "stderr",
     "output_type": "stream",
     "text": [
      " 51%|█████     | 77687/153700 [6:57:22<8:31:08,  2.48it/s]"
     ]
    },
    {
     "name": "stdout",
     "output_type": "stream",
     "text": [
      "File 27021597910362703 not found in /yngve_data/sdssv/ipl-2/spectro/astra/0.3.0/v6_0_9-1.0/spectra/star\n"
     ]
    },
    {
     "name": "stderr",
     "output_type": "stream",
     "text": [
      " 51%|█████     | 77688/153700 [6:57:22<9:32:53,  2.21it/s]"
     ]
    },
    {
     "name": "stdout",
     "output_type": "stream",
     "text": [
      "File 27021597910362806 not found in /yngve_data/sdssv/ipl-2/spectro/astra/0.3.0/v6_0_9-1.0/spectra/star\n"
     ]
    },
    {
     "name": "stderr",
     "output_type": "stream",
     "text": [
      " 51%|█████     | 77690/153700 [6:57:23<8:20:10,  2.53it/s] "
     ]
    },
    {
     "name": "stdout",
     "output_type": "stream",
     "text": [
      "File 27021597910362967 not found in /yngve_data/sdssv/ipl-2/spectro/astra/0.3.0/v6_0_9-1.0/spectra/star\n",
      "Traceback (most recent call last):\n",
      "  File \"/home/petershi/miniconda3/envs/SDSSV/lib/python3.11/site-packages/astropy/io/fits/column.py\", line 2142, in _get_index\n",
      "    indx = names.index(key.rstrip())\n",
      "           ^^^^^^^^^^^^^^^^^^^^^^^^^\n",
      "ValueError: 'SNR' is not in list\n",
      "\n",
      "During handling of the above exception, another exception occurred:\n",
      "\n",
      "Traceback (most recent call last):\n",
      "  File \"/tmp/ipykernel_10073/3388262553.py\", line 15, in <module>\n",
      "    cdata = getSDSSVData(cfile)\n",
      "            ^^^^^^^^^^^^^^^^^^^\n",
      "  File \"/tmp/ipykernel_10073/4007893978.py\", line 3, in getSDSSVData\n",
      "    snr = hdul[3].data[\"SNR\"]\n",
      "          ~~~~~~~~~~~~^^^^^^^\n",
      "  File \"/home/petershi/miniconda3/envs/SDSSV/lib/python3.11/site-packages/astropy/io/fits/fitsrec.py\", line 513, in __getitem__\n",
      "    return self.field(key)\n",
      "           ^^^^^^^^^^^^^^^\n",
      "  File \"/home/petershi/miniconda3/envs/SDSSV/lib/python3.11/site-packages/astropy/io/fits/fitsrec.py\", line 695, in field\n",
      "    column = self.columns[key]\n",
      "             ~~~~~~~~~~~~^^^^^\n",
      "  File \"/home/petershi/miniconda3/envs/SDSSV/lib/python3.11/site-packages/astropy/io/fits/column.py\", line 1751, in __getitem__\n",
      "    key = _get_index(self.names, key)\n",
      "          ^^^^^^^^^^^^^^^^^^^^^^^^^^^\n",
      "  File \"/home/petershi/miniconda3/envs/SDSSV/lib/python3.11/site-packages/astropy/io/fits/column.py\", line 2151, in _get_index\n",
      "    raise KeyError(f\"Key '{key}' does not exist.\")\n",
      "KeyError: \"Key 'SNR' does not exist.\"\n",
      "\n"
     ]
    },
    {
     "name": "stderr",
     "output_type": "stream",
     "text": [
      " 51%|█████     | 77699/153700 [6:57:25<7:18:18,  2.89it/s]"
     ]
    },
    {
     "name": "stdout",
     "output_type": "stream",
     "text": [
      "File 27021597910393496 not found in /yngve_data/sdssv/ipl-2/spectro/astra/0.3.0/v6_0_9-1.0/spectra/star\n"
     ]
    },
    {
     "name": "stderr",
     "output_type": "stream",
     "text": [
      " 51%|█████     | 77704/153700 [6:57:27<7:43:18,  2.73it/s]"
     ]
    },
    {
     "name": "stdout",
     "output_type": "stream",
     "text": [
      "File 27021597910393896 not found in /yngve_data/sdssv/ipl-2/spectro/astra/0.3.0/v6_0_9-1.0/spectra/star\n"
     ]
    },
    {
     "name": "stderr",
     "output_type": "stream",
     "text": [
      " 51%|█████     | 77713/153700 [6:57:30<7:47:40,  2.71it/s]"
     ]
    },
    {
     "name": "stdout",
     "output_type": "stream",
     "text": [
      "File 27021597910394418 not found in /yngve_data/sdssv/ipl-2/spectro/astra/0.3.0/v6_0_9-1.0/spectra/star\n"
     ]
    },
    {
     "name": "stderr",
     "output_type": "stream",
     "text": [
      " 51%|█████     | 77726/153700 [6:57:34<8:34:56,  2.46it/s]"
     ]
    },
    {
     "name": "stdout",
     "output_type": "stream",
     "text": [
      "File 27021597910395162 not found in /yngve_data/sdssv/ipl-2/spectro/astra/0.3.0/v6_0_9-1.0/spectra/star\n"
     ]
    },
    {
     "name": "stderr",
     "output_type": "stream",
     "text": [
      " 51%|█████     | 77728/153700 [6:57:35<7:42:00,  2.74it/s]"
     ]
    },
    {
     "name": "stdout",
     "output_type": "stream",
     "text": [
      "Traceback (most recent call last):\n",
      "  File \"/home/petershi/miniconda3/envs/SDSSV/lib/python3.11/site-packages/astropy/io/fits/column.py\", line 2142, in _get_index\n",
      "    indx = names.index(key.rstrip())\n",
      "           ^^^^^^^^^^^^^^^^^^^^^^^^^\n",
      "ValueError: 'SNR' is not in list\n",
      "\n",
      "During handling of the above exception, another exception occurred:\n",
      "\n",
      "Traceback (most recent call last):\n",
      "  File \"/tmp/ipykernel_10073/3388262553.py\", line 15, in <module>\n",
      "    cdata = getSDSSVData(cfile)\n",
      "            ^^^^^^^^^^^^^^^^^^^\n",
      "  File \"/tmp/ipykernel_10073/4007893978.py\", line 3, in getSDSSVData\n",
      "    snr = hdul[3].data[\"SNR\"]\n",
      "          ~~~~~~~~~~~~^^^^^^^\n",
      "  File \"/home/petershi/miniconda3/envs/SDSSV/lib/python3.11/site-packages/astropy/io/fits/fitsrec.py\", line 513, in __getitem__\n",
      "    return self.field(key)\n",
      "           ^^^^^^^^^^^^^^^\n",
      "  File \"/home/petershi/miniconda3/envs/SDSSV/lib/python3.11/site-packages/astropy/io/fits/fitsrec.py\", line 695, in field\n",
      "    column = self.columns[key]\n",
      "             ~~~~~~~~~~~~^^^^^\n",
      "  File \"/home/petershi/miniconda3/envs/SDSSV/lib/python3.11/site-packages/astropy/io/fits/column.py\", line 1751, in __getitem__\n",
      "    key = _get_index(self.names, key)\n",
      "          ^^^^^^^^^^^^^^^^^^^^^^^^^^^\n",
      "  File \"/home/petershi/miniconda3/envs/SDSSV/lib/python3.11/site-packages/astropy/io/fits/column.py\", line 2151, in _get_index\n",
      "    raise KeyError(f\"Key '{key}' does not exist.\")\n",
      "KeyError: \"Key 'SNR' does not exist.\"\n",
      "\n"
     ]
    },
    {
     "name": "stderr",
     "output_type": "stream",
     "text": [
      " 51%|█████     | 77835/153700 [6:58:19<6:29:15,  3.25it/s] "
     ]
    },
    {
     "name": "stdout",
     "output_type": "stream",
     "text": [
      "File 27021597911033713 not found in /yngve_data/sdssv/ipl-2/spectro/astra/0.3.0/v6_0_9-1.0/spectra/star\n"
     ]
    },
    {
     "name": "stderr",
     "output_type": "stream",
     "text": [
      " 51%|█████     | 77836/153700 [6:58:19<8:03:56,  2.61it/s]"
     ]
    },
    {
     "name": "stdout",
     "output_type": "stream",
     "text": [
      "File 27021597911034016 not found in /yngve_data/sdssv/ipl-2/spectro/astra/0.3.0/v6_0_9-1.0/spectra/star\n"
     ]
    },
    {
     "name": "stderr",
     "output_type": "stream",
     "text": [
      " 51%|█████     | 77842/153700 [6:58:22<8:41:56,  2.42it/s]"
     ]
    },
    {
     "name": "stdout",
     "output_type": "stream",
     "text": [
      "File 27021597911035626 not found in /yngve_data/sdssv/ipl-2/spectro/astra/0.3.0/v6_0_9-1.0/spectra/star\n"
     ]
    },
    {
     "name": "stderr",
     "output_type": "stream",
     "text": [
      " 51%|█████     | 77852/153700 [6:58:25<6:21:46,  3.31it/s] "
     ]
    },
    {
     "name": "stdout",
     "output_type": "stream",
     "text": [
      "File 27021597911038774 not found in /yngve_data/sdssv/ipl-2/spectro/astra/0.3.0/v6_0_9-1.0/spectra/star\n"
     ]
    },
    {
     "name": "stderr",
     "output_type": "stream",
     "text": [
      " 51%|█████     | 77856/153700 [6:58:26<3:56:46,  5.34it/s]"
     ]
    },
    {
     "name": "stdout",
     "output_type": "stream",
     "text": [
      "Traceback (most recent call last):\n",
      "  File \"/home/petershi/miniconda3/envs/SDSSV/lib/python3.11/site-packages/astropy/io/fits/column.py\", line 2142, in _get_index\n",
      "    indx = names.index(key.rstrip())\n",
      "           ^^^^^^^^^^^^^^^^^^^^^^^^^\n",
      "ValueError: 'SNR' is not in list\n",
      "\n",
      "During handling of the above exception, another exception occurred:\n",
      "\n",
      "Traceback (most recent call last):\n",
      "  File \"/tmp/ipykernel_10073/3388262553.py\", line 15, in <module>\n",
      "    cdata = getSDSSVData(cfile)\n",
      "            ^^^^^^^^^^^^^^^^^^^\n",
      "  File \"/tmp/ipykernel_10073/4007893978.py\", line 3, in getSDSSVData\n",
      "    snr = hdul[3].data[\"SNR\"]\n",
      "          ~~~~~~~~~~~~^^^^^^^\n",
      "  File \"/home/petershi/miniconda3/envs/SDSSV/lib/python3.11/site-packages/astropy/io/fits/fitsrec.py\", line 513, in __getitem__\n",
      "    return self.field(key)\n",
      "           ^^^^^^^^^^^^^^^\n",
      "  File \"/home/petershi/miniconda3/envs/SDSSV/lib/python3.11/site-packages/astropy/io/fits/fitsrec.py\", line 695, in field\n",
      "    column = self.columns[key]\n",
      "             ~~~~~~~~~~~~^^^^^\n",
      "  File \"/home/petershi/miniconda3/envs/SDSSV/lib/python3.11/site-packages/astropy/io/fits/column.py\", line 1751, in __getitem__\n",
      "    key = _get_index(self.names, key)\n",
      "          ^^^^^^^^^^^^^^^^^^^^^^^^^^^\n",
      "  File \"/home/petershi/miniconda3/envs/SDSSV/lib/python3.11/site-packages/astropy/io/fits/column.py\", line 2151, in _get_index\n",
      "    raise KeyError(f\"Key '{key}' does not exist.\")\n",
      "KeyError: \"Key 'SNR' does not exist.\"\n",
      "\n"
     ]
    },
    {
     "name": "stderr",
     "output_type": "stream",
     "text": [
      " 51%|█████     | 77887/153700 [6:58:39<6:14:44,  3.37it/s] "
     ]
    },
    {
     "name": "stdout",
     "output_type": "stream",
     "text": [
      "File 27021597911071383 not found in /yngve_data/sdssv/ipl-2/spectro/astra/0.3.0/v6_0_9-1.0/spectra/star\n"
     ]
    },
    {
     "name": "stderr",
     "output_type": "stream",
     "text": [
      " 51%|█████     | 77889/153700 [6:58:40<6:39:20,  3.16it/s]"
     ]
    },
    {
     "name": "stdout",
     "output_type": "stream",
     "text": [
      "File 27021597911071749 not found in /yngve_data/sdssv/ipl-2/spectro/astra/0.3.0/v6_0_9-1.0/spectra/star\n"
     ]
    },
    {
     "name": "stderr",
     "output_type": "stream",
     "text": [
      " 51%|█████     | 77891/153700 [6:58:41<7:43:44,  2.72it/s]"
     ]
    },
    {
     "name": "stdout",
     "output_type": "stream",
     "text": [
      "File 27021597911073232 not found in /yngve_data/sdssv/ipl-2/spectro/astra/0.3.0/v6_0_9-1.0/spectra/star\n"
     ]
    },
    {
     "name": "stderr",
     "output_type": "stream",
     "text": [
      " 51%|█████     | 77892/153700 [6:58:41<7:00:18,  3.01it/s]"
     ]
    },
    {
     "name": "stdout",
     "output_type": "stream",
     "text": [
      "Traceback (most recent call last):\n",
      "  File \"/home/petershi/miniconda3/envs/SDSSV/lib/python3.11/site-packages/astropy/io/fits/column.py\", line 2142, in _get_index\n",
      "    indx = names.index(key.rstrip())\n",
      "           ^^^^^^^^^^^^^^^^^^^^^^^^^\n",
      "ValueError: 'SNR' is not in list\n",
      "\n",
      "During handling of the above exception, another exception occurred:\n",
      "\n",
      "Traceback (most recent call last):\n",
      "  File \"/tmp/ipykernel_10073/3388262553.py\", line 15, in <module>\n",
      "    cdata = getSDSSVData(cfile)\n",
      "            ^^^^^^^^^^^^^^^^^^^\n",
      "  File \"/tmp/ipykernel_10073/4007893978.py\", line 3, in getSDSSVData\n",
      "    snr = hdul[3].data[\"SNR\"]\n",
      "          ~~~~~~~~~~~~^^^^^^^\n",
      "  File \"/home/petershi/miniconda3/envs/SDSSV/lib/python3.11/site-packages/astropy/io/fits/fitsrec.py\", line 513, in __getitem__\n",
      "    return self.field(key)\n",
      "           ^^^^^^^^^^^^^^^\n",
      "  File \"/home/petershi/miniconda3/envs/SDSSV/lib/python3.11/site-packages/astropy/io/fits/fitsrec.py\", line 695, in field\n",
      "    column = self.columns[key]\n",
      "             ~~~~~~~~~~~~^^^^^\n",
      "  File \"/home/petershi/miniconda3/envs/SDSSV/lib/python3.11/site-packages/astropy/io/fits/column.py\", line 1751, in __getitem__\n",
      "    key = _get_index(self.names, key)\n",
      "          ^^^^^^^^^^^^^^^^^^^^^^^^^^^\n",
      "  File \"/home/petershi/miniconda3/envs/SDSSV/lib/python3.11/site-packages/astropy/io/fits/column.py\", line 2151, in _get_index\n",
      "    raise KeyError(f\"Key '{key}' does not exist.\")\n",
      "KeyError: \"Key 'SNR' does not exist.\"\n",
      "\n"
     ]
    },
    {
     "name": "stderr",
     "output_type": "stream",
     "text": [
      " 51%|█████     | 77897/153700 [6:58:43<8:37:30,  2.44it/s]"
     ]
    },
    {
     "name": "stdout",
     "output_type": "stream",
     "text": [
      "File 27021597911074955 not found in /yngve_data/sdssv/ipl-2/spectro/astra/0.3.0/v6_0_9-1.0/spectra/star\n"
     ]
    },
    {
     "name": "stderr",
     "output_type": "stream",
     "text": [
      " 51%|█████     | 77907/153700 [6:58:47<10:57:12,  1.92it/s]"
     ]
    },
    {
     "name": "stdout",
     "output_type": "stream",
     "text": [
      "File 27021597911079806 not found in /yngve_data/sdssv/ipl-2/spectro/astra/0.3.0/v6_0_9-1.0/spectra/star\n"
     ]
    },
    {
     "name": "stderr",
     "output_type": "stream",
     "text": [
      " 51%|█████     | 77910/153700 [6:58:48<6:47:12,  3.10it/s] "
     ]
    },
    {
     "name": "stdout",
     "output_type": "stream",
     "text": [
      "File 27021597911080098 not found in /yngve_data/sdssv/ipl-2/spectro/astra/0.3.0/v6_0_9-1.0/spectra/star\n"
     ]
    },
    {
     "name": "stderr",
     "output_type": "stream",
     "text": [
      " 51%|█████     | 77915/153700 [6:58:49<7:59:24,  2.63it/s]"
     ]
    },
    {
     "name": "stdout",
     "output_type": "stream",
     "text": [
      "File 27021597911085288 not found in /yngve_data/sdssv/ipl-2/spectro/astra/0.3.0/v6_0_9-1.0/spectra/star\n"
     ]
    },
    {
     "name": "stderr",
     "output_type": "stream",
     "text": [
      " 51%|█████     | 77928/153700 [6:58:54<9:09:16,  2.30it/s]"
     ]
    },
    {
     "name": "stdout",
     "output_type": "stream",
     "text": [
      "File 27021597911095914 not found in /yngve_data/sdssv/ipl-2/spectro/astra/0.3.0/v6_0_9-1.0/spectra/star\n"
     ]
    },
    {
     "name": "stderr",
     "output_type": "stream",
     "text": [
      " 51%|█████     | 77948/153700 [6:59:01<8:38:20,  2.44it/s] "
     ]
    },
    {
     "name": "stdout",
     "output_type": "stream",
     "text": [
      "File 27021597911169428 not found in /yngve_data/sdssv/ipl-2/spectro/astra/0.3.0/v6_0_9-1.0/spectra/star\n"
     ]
    },
    {
     "name": "stderr",
     "output_type": "stream",
     "text": [
      " 51%|█████     | 78005/153700 [6:59:21<8:51:46,  2.37it/s] "
     ]
    },
    {
     "name": "stdout",
     "output_type": "stream",
     "text": [
      "File 27021597911224124 not found in /yngve_data/sdssv/ipl-2/spectro/astra/0.3.0/v6_0_9-1.0/spectra/star\n"
     ]
    },
    {
     "name": "stderr",
     "output_type": "stream",
     "text": [
      " 51%|█████     | 78037/153700 [6:59:32<10:25:25,  2.02it/s]"
     ]
    },
    {
     "name": "stdout",
     "output_type": "stream",
     "text": [
      "File 27021597911239493 not found in /yngve_data/sdssv/ipl-2/spectro/astra/0.3.0/v6_0_9-1.0/spectra/star\n"
     ]
    },
    {
     "name": "stderr",
     "output_type": "stream",
     "text": [
      " 51%|█████     | 78149/153700 [7:00:07<7:42:55,  2.72it/s] "
     ]
    },
    {
     "name": "stdout",
     "output_type": "stream",
     "text": [
      "File 27021597911302384 not found in /yngve_data/sdssv/ipl-2/spectro/astra/0.3.0/v6_0_9-1.0/spectra/star\n"
     ]
    },
    {
     "name": "stderr",
     "output_type": "stream",
     "text": [
      " 51%|█████     | 78152/153700 [7:00:08<8:03:11,  2.61it/s]"
     ]
    },
    {
     "name": "stdout",
     "output_type": "stream",
     "text": [
      "File 27021597911303769 not found in /yngve_data/sdssv/ipl-2/spectro/astra/0.3.0/v6_0_9-1.0/spectra/star\n"
     ]
    },
    {
     "name": "stderr",
     "output_type": "stream",
     "text": [
      " 51%|█████     | 78166/153700 [7:00:14<6:48:33,  3.08it/s] "
     ]
    },
    {
     "name": "stdout",
     "output_type": "stream",
     "text": [
      "Traceback (most recent call last):\n",
      "  File \"/home/petershi/miniconda3/envs/SDSSV/lib/python3.11/site-packages/astropy/io/fits/column.py\", line 2142, in _get_index\n",
      "    indx = names.index(key.rstrip())\n",
      "           ^^^^^^^^^^^^^^^^^^^^^^^^^\n",
      "ValueError: 'SNR' is not in list\n",
      "\n",
      "During handling of the above exception, another exception occurred:\n",
      "\n",
      "Traceback (most recent call last):\n",
      "  File \"/tmp/ipykernel_10073/3388262553.py\", line 15, in <module>\n",
      "    cdata = getSDSSVData(cfile)\n",
      "            ^^^^^^^^^^^^^^^^^^^\n",
      "  File \"/tmp/ipykernel_10073/4007893978.py\", line 3, in getSDSSVData\n",
      "    snr = hdul[3].data[\"SNR\"]\n",
      "          ~~~~~~~~~~~~^^^^^^^\n",
      "  File \"/home/petershi/miniconda3/envs/SDSSV/lib/python3.11/site-packages/astropy/io/fits/fitsrec.py\", line 513, in __getitem__\n",
      "    return self.field(key)\n",
      "           ^^^^^^^^^^^^^^^\n",
      "  File \"/home/petershi/miniconda3/envs/SDSSV/lib/python3.11/site-packages/astropy/io/fits/fitsrec.py\", line 695, in field\n",
      "    column = self.columns[key]\n",
      "             ~~~~~~~~~~~~^^^^^\n",
      "  File \"/home/petershi/miniconda3/envs/SDSSV/lib/python3.11/site-packages/astropy/io/fits/column.py\", line 1751, in __getitem__\n",
      "    key = _get_index(self.names, key)\n",
      "          ^^^^^^^^^^^^^^^^^^^^^^^^^^^\n",
      "  File \"/home/petershi/miniconda3/envs/SDSSV/lib/python3.11/site-packages/astropy/io/fits/column.py\", line 2151, in _get_index\n",
      "    raise KeyError(f\"Key '{key}' does not exist.\")\n",
      "KeyError: \"Key 'SNR' does not exist.\"\n",
      "\n"
     ]
    },
    {
     "name": "stderr",
     "output_type": "stream",
     "text": [
      " 51%|█████     | 78169/153700 [7:00:15<7:33:37,  2.78it/s]"
     ]
    },
    {
     "name": "stdout",
     "output_type": "stream",
     "text": [
      "File 27021597911314233 not found in /yngve_data/sdssv/ipl-2/spectro/astra/0.3.0/v6_0_9-1.0/spectra/star\n"
     ]
    },
    {
     "name": "stderr",
     "output_type": "stream",
     "text": [
      " 51%|█████     | 78178/153700 [7:00:18<6:56:24,  3.02it/s]"
     ]
    },
    {
     "name": "stdout",
     "output_type": "stream",
     "text": [
      "File 27021597911320904 not found in /yngve_data/sdssv/ipl-2/spectro/astra/0.3.0/v6_0_9-1.0/spectra/star\n"
     ]
    },
    {
     "name": "stderr",
     "output_type": "stream",
     "text": [
      " 51%|█████     | 78192/153700 [7:00:23<10:19:47,  2.03it/s]"
     ]
    },
    {
     "name": "stdout",
     "output_type": "stream",
     "text": [
      "File 27021597911328450 not found in /yngve_data/sdssv/ipl-2/spectro/astra/0.3.0/v6_0_9-1.0/spectra/star\n"
     ]
    },
    {
     "name": "stderr",
     "output_type": "stream",
     "text": [
      " 51%|█████     | 78194/153700 [7:00:24<10:55:52,  1.92it/s]"
     ]
    },
    {
     "name": "stdout",
     "output_type": "stream",
     "text": [
      "File 27021597911329101 not found in /yngve_data/sdssv/ipl-2/spectro/astra/0.3.0/v6_0_9-1.0/spectra/star\n"
     ]
    },
    {
     "name": "stderr",
     "output_type": "stream",
     "text": [
      " 51%|█████     | 78483/153700 [7:02:02<8:37:35,  2.42it/s] "
     ]
    },
    {
     "name": "stdout",
     "output_type": "stream",
     "text": [
      "File 27021597911816178 not found in /yngve_data/sdssv/ipl-2/spectro/astra/0.3.0/v6_0_9-1.0/spectra/star\n"
     ]
    },
    {
     "name": "stderr",
     "output_type": "stream",
     "text": [
      " 52%|█████▏    | 79190/153700 [7:06:03<9:10:24,  2.26it/s] "
     ]
    },
    {
     "name": "stdout",
     "output_type": "stream",
     "text": [
      "File 27021597913534234 not found in /yngve_data/sdssv/ipl-2/spectro/astra/0.3.0/v6_0_9-1.0/spectra/star\n"
     ]
    },
    {
     "name": "stderr",
     "output_type": "stream",
     "text": [
      " 52%|█████▏    | 79191/153700 [7:06:04<9:51:35,  2.10it/s]"
     ]
    },
    {
     "name": "stdout",
     "output_type": "stream",
     "text": [
      "File 27021597913534476 not found in /yngve_data/sdssv/ipl-2/spectro/astra/0.3.0/v6_0_9-1.0/spectra/star\n"
     ]
    },
    {
     "name": "stderr",
     "output_type": "stream",
     "text": [
      " 52%|█████▏    | 79434/153700 [7:07:27<6:38:25,  3.11it/s] "
     ]
    },
    {
     "name": "stdout",
     "output_type": "stream",
     "text": [
      "File 27021597913793172 not found in /yngve_data/sdssv/ipl-2/spectro/astra/0.3.0/v6_0_9-1.0/spectra/star\n"
     ]
    },
    {
     "name": "stderr",
     "output_type": "stream",
     "text": [
      " 52%|█████▏    | 79502/153700 [7:07:46<5:25:46,  3.80it/s] "
     ]
    },
    {
     "name": "stdout",
     "output_type": "stream",
     "text": [
      "File 27021597913981895 not found in /yngve_data/sdssv/ipl-2/spectro/astra/0.3.0/v6_0_9-1.0/spectra/star\n"
     ]
    },
    {
     "name": "stderr",
     "output_type": "stream",
     "text": [
      " 52%|█████▏    | 79725/153700 [7:08:49<5:35:08,  3.68it/s] "
     ]
    },
    {
     "name": "stdout",
     "output_type": "stream",
     "text": [
      "File 27021597914313120 not found in /yngve_data/sdssv/ipl-2/spectro/astra/0.3.0/v6_0_9-1.0/spectra/star\n"
     ]
    },
    {
     "name": "stderr",
     "output_type": "stream",
     "text": [
      " 52%|█████▏    | 79729/153700 [7:08:50<6:57:43,  2.95it/s]"
     ]
    },
    {
     "name": "stdout",
     "output_type": "stream",
     "text": [
      "File 27021597914313745 not found in /yngve_data/sdssv/ipl-2/spectro/astra/0.3.0/v6_0_9-1.0/spectra/star\n"
     ]
    },
    {
     "name": "stderr",
     "output_type": "stream",
     "text": [
      " 52%|█████▏    | 79736/153700 [7:08:53<8:27:50,  2.43it/s]"
     ]
    },
    {
     "name": "stdout",
     "output_type": "stream",
     "text": [
      "File 27021597914315241 not found in /yngve_data/sdssv/ipl-2/spectro/astra/0.3.0/v6_0_9-1.0/spectra/star\n"
     ]
    },
    {
     "name": "stderr",
     "output_type": "stream",
     "text": [
      " 52%|█████▏    | 79739/153700 [7:08:54<8:52:07,  2.32it/s]"
     ]
    },
    {
     "name": "stdout",
     "output_type": "stream",
     "text": [
      "File 27021597914315384 not found in /yngve_data/sdssv/ipl-2/spectro/astra/0.3.0/v6_0_9-1.0/spectra/star\n"
     ]
    },
    {
     "name": "stderr",
     "output_type": "stream",
     "text": [
      " 52%|█████▏    | 79744/153700 [7:08:56<9:01:58,  2.27it/s]"
     ]
    },
    {
     "name": "stdout",
     "output_type": "stream",
     "text": [
      "File 27021597914316134 not found in /yngve_data/sdssv/ipl-2/spectro/astra/0.3.0/v6_0_9-1.0/spectra/star\n"
     ]
    },
    {
     "name": "stderr",
     "output_type": "stream",
     "text": [
      " 52%|█████▏    | 79746/153700 [7:08:57<9:42:45,  2.12it/s]"
     ]
    },
    {
     "name": "stdout",
     "output_type": "stream",
     "text": [
      "File 27021597914316437 not found in /yngve_data/sdssv/ipl-2/spectro/astra/0.3.0/v6_0_9-1.0/spectra/star\n"
     ]
    },
    {
     "name": "stderr",
     "output_type": "stream",
     "text": [
      " 52%|█████▏    | 79750/153700 [7:08:59<9:36:10,  2.14it/s]"
     ]
    },
    {
     "name": "stdout",
     "output_type": "stream",
     "text": [
      "File 27021597914316814 not found in /yngve_data/sdssv/ipl-2/spectro/astra/0.3.0/v6_0_9-1.0/spectra/star\n"
     ]
    },
    {
     "name": "stderr",
     "output_type": "stream",
     "text": [
      " 52%|█████▏    | 79751/153700 [7:08:59<10:15:51,  2.00it/s]"
     ]
    },
    {
     "name": "stdout",
     "output_type": "stream",
     "text": [
      "File 27021597914316859 not found in /yngve_data/sdssv/ipl-2/spectro/astra/0.3.0/v6_0_9-1.0/spectra/star\n"
     ]
    },
    {
     "name": "stderr",
     "output_type": "stream",
     "text": [
      " 52%|█████▏    | 79752/153700 [7:09:00<10:38:52,  1.93it/s]"
     ]
    },
    {
     "name": "stdout",
     "output_type": "stream",
     "text": [
      "File 27021597914316965 not found in /yngve_data/sdssv/ipl-2/spectro/astra/0.3.0/v6_0_9-1.0/spectra/star\n"
     ]
    },
    {
     "name": "stderr",
     "output_type": "stream",
     "text": [
      " 52%|█████▏    | 79774/153700 [7:09:11<11:21:52,  1.81it/s]"
     ]
    },
    {
     "name": "stdout",
     "output_type": "stream",
     "text": [
      "File 27021597914319074 not found in /yngve_data/sdssv/ipl-2/spectro/astra/0.3.0/v6_0_9-1.0/spectra/star\n"
     ]
    },
    {
     "name": "stderr",
     "output_type": "stream",
     "text": [
      " 52%|█████▏    | 79782/153700 [7:09:16<12:11:13,  1.68it/s]"
     ]
    },
    {
     "name": "stdout",
     "output_type": "stream",
     "text": [
      "File 27021597914319812 not found in /yngve_data/sdssv/ipl-2/spectro/astra/0.3.0/v6_0_9-1.0/spectra/star\n"
     ]
    },
    {
     "name": "stderr",
     "output_type": "stream",
     "text": [
      " 52%|█████▏    | 79784/153700 [7:09:16<9:41:31,  2.12it/s] "
     ]
    },
    {
     "name": "stdout",
     "output_type": "stream",
     "text": [
      "File 27021597914330957 not found in /yngve_data/sdssv/ipl-2/spectro/astra/0.3.0/v6_0_9-1.0/spectra/star\n"
     ]
    },
    {
     "name": "stderr",
     "output_type": "stream",
     "text": [
      " 52%|█████▏    | 79802/153700 [7:09:20<5:39:08,  3.63it/s]"
     ]
    },
    {
     "name": "stdout",
     "output_type": "stream",
     "text": [
      "File 27021597914332774 not found in /yngve_data/sdssv/ipl-2/spectro/astra/0.3.0/v6_0_9-1.0/spectra/star\n"
     ]
    },
    {
     "name": "stderr",
     "output_type": "stream",
     "text": [
      " 52%|█████▏    | 79804/153700 [7:09:20<7:13:03,  2.84it/s]"
     ]
    },
    {
     "name": "stdout",
     "output_type": "stream",
     "text": [
      "File 27021597914333126 not found in /yngve_data/sdssv/ipl-2/spectro/astra/0.3.0/v6_0_9-1.0/spectra/star\n"
     ]
    },
    {
     "name": "stderr",
     "output_type": "stream",
     "text": [
      " 52%|█████▏    | 79815/153700 [7:09:24<9:20:06,  2.20it/s]"
     ]
    },
    {
     "name": "stdout",
     "output_type": "stream",
     "text": [
      "File 27021597914333959 not found in /yngve_data/sdssv/ipl-2/spectro/astra/0.3.0/v6_0_9-1.0/spectra/star\n"
     ]
    },
    {
     "name": "stderr",
     "output_type": "stream",
     "text": [
      " 52%|█████▏    | 79817/153700 [7:09:25<9:06:37,  2.25it/s]"
     ]
    },
    {
     "name": "stdout",
     "output_type": "stream",
     "text": [
      "File 27021597914334335 not found in /yngve_data/sdssv/ipl-2/spectro/astra/0.3.0/v6_0_9-1.0/spectra/star\n"
     ]
    },
    {
     "name": "stderr",
     "output_type": "stream",
     "text": [
      " 52%|█████▏    | 79834/153700 [7:09:31<10:10:29,  2.02it/s]"
     ]
    },
    {
     "name": "stdout",
     "output_type": "stream",
     "text": [
      "File 27021597914335781 not found in /yngve_data/sdssv/ipl-2/spectro/astra/0.3.0/v6_0_9-1.0/spectra/star\n"
     ]
    },
    {
     "name": "stderr",
     "output_type": "stream",
     "text": [
      " 52%|█████▏    | 79835/153700 [7:09:31<10:56:09,  1.88it/s]"
     ]
    },
    {
     "name": "stdout",
     "output_type": "stream",
     "text": [
      "File 27021597914335802 not found in /yngve_data/sdssv/ipl-2/spectro/astra/0.3.0/v6_0_9-1.0/spectra/star\n"
     ]
    },
    {
     "name": "stderr",
     "output_type": "stream",
     "text": [
      " 52%|█████▏    | 79851/153700 [7:09:38<9:44:55,  2.10it/s] "
     ]
    },
    {
     "name": "stdout",
     "output_type": "stream",
     "text": [
      "File 27021597914337585 not found in /yngve_data/sdssv/ipl-2/spectro/astra/0.3.0/v6_0_9-1.0/spectra/star\n"
     ]
    },
    {
     "name": "stderr",
     "output_type": "stream",
     "text": [
      " 52%|█████▏    | 79854/153700 [7:09:40<10:28:54,  1.96it/s]"
     ]
    },
    {
     "name": "stdout",
     "output_type": "stream",
     "text": [
      "File 27021597914338490 not found in /yngve_data/sdssv/ipl-2/spectro/astra/0.3.0/v6_0_9-1.0/spectra/star\n"
     ]
    },
    {
     "name": "stderr",
     "output_type": "stream",
     "text": [
      " 52%|█████▏    | 79863/153700 [7:09:45<11:30:46,  1.78it/s]"
     ]
    },
    {
     "name": "stdout",
     "output_type": "stream",
     "text": [
      "File 27021597914339765 not found in /yngve_data/sdssv/ipl-2/spectro/astra/0.3.0/v6_0_9-1.0/spectra/star\n"
     ]
    },
    {
     "name": "stderr",
     "output_type": "stream",
     "text": [
      " 52%|█████▏    | 79878/153700 [7:09:48<2:33:42,  8.00it/s] "
     ]
    },
    {
     "name": "stdout",
     "output_type": "stream",
     "text": [
      "Traceback (most recent call last):\n",
      "  File \"/home/petershi/miniconda3/envs/SDSSV/lib/python3.11/site-packages/astropy/io/fits/column.py\", line 2142, in _get_index\n",
      "    indx = names.index(key.rstrip())\n",
      "           ^^^^^^^^^^^^^^^^^^^^^^^^^\n",
      "ValueError: 'SNR' is not in list\n",
      "\n",
      "During handling of the above exception, another exception occurred:\n",
      "\n",
      "Traceback (most recent call last):\n",
      "  File \"/tmp/ipykernel_10073/3388262553.py\", line 15, in <module>\n",
      "    cdata = getSDSSVData(cfile)\n",
      "            ^^^^^^^^^^^^^^^^^^^\n",
      "  File \"/tmp/ipykernel_10073/4007893978.py\", line 3, in getSDSSVData\n",
      "    snr = hdul[3].data[\"SNR\"]\n",
      "          ~~~~~~~~~~~~^^^^^^^\n",
      "  File \"/home/petershi/miniconda3/envs/SDSSV/lib/python3.11/site-packages/astropy/io/fits/fitsrec.py\", line 513, in __getitem__\n",
      "    return self.field(key)\n",
      "           ^^^^^^^^^^^^^^^\n",
      "  File \"/home/petershi/miniconda3/envs/SDSSV/lib/python3.11/site-packages/astropy/io/fits/fitsrec.py\", line 695, in field\n",
      "    column = self.columns[key]\n",
      "             ~~~~~~~~~~~~^^^^^\n",
      "  File \"/home/petershi/miniconda3/envs/SDSSV/lib/python3.11/site-packages/astropy/io/fits/column.py\", line 1751, in __getitem__\n",
      "    key = _get_index(self.names, key)\n",
      "          ^^^^^^^^^^^^^^^^^^^^^^^^^^^\n",
      "  File \"/home/petershi/miniconda3/envs/SDSSV/lib/python3.11/site-packages/astropy/io/fits/column.py\", line 2151, in _get_index\n",
      "    raise KeyError(f\"Key '{key}' does not exist.\")\n",
      "KeyError: \"Key 'SNR' does not exist.\"\n",
      "\n"
     ]
    },
    {
     "name": "stderr",
     "output_type": "stream",
     "text": [
      " 52%|█████▏    | 79882/153700 [7:09:49<3:54:53,  5.24it/s]"
     ]
    },
    {
     "name": "stdout",
     "output_type": "stream",
     "text": [
      "File 27021597914340827 not found in /yngve_data/sdssv/ipl-2/spectro/astra/0.3.0/v6_0_9-1.0/spectra/star\n"
     ]
    },
    {
     "name": "stderr",
     "output_type": "stream",
     "text": [
      " 52%|█████▏    | 79929/153700 [7:10:01<5:43:15,  3.58it/s]"
     ]
    },
    {
     "name": "stdout",
     "output_type": "stream",
     "text": [
      "Traceback (most recent call last):\n",
      "  File \"/home/petershi/miniconda3/envs/SDSSV/lib/python3.11/site-packages/astropy/io/fits/column.py\", line 2142, in _get_index\n",
      "    indx = names.index(key.rstrip())\n",
      "           ^^^^^^^^^^^^^^^^^^^^^^^^^\n",
      "ValueError: 'SNR' is not in list\n",
      "\n",
      "During handling of the above exception, another exception occurred:\n",
      "\n",
      "Traceback (most recent call last):\n",
      "  File \"/tmp/ipykernel_10073/3388262553.py\", line 15, in <module>\n",
      "    cdata = getSDSSVData(cfile)\n",
      "            ^^^^^^^^^^^^^^^^^^^\n",
      "  File \"/tmp/ipykernel_10073/4007893978.py\", line 3, in getSDSSVData\n",
      "    snr = hdul[3].data[\"SNR\"]\n",
      "          ~~~~~~~~~~~~^^^^^^^\n",
      "  File \"/home/petershi/miniconda3/envs/SDSSV/lib/python3.11/site-packages/astropy/io/fits/fitsrec.py\", line 513, in __getitem__\n",
      "    return self.field(key)\n",
      "           ^^^^^^^^^^^^^^^\n",
      "  File \"/home/petershi/miniconda3/envs/SDSSV/lib/python3.11/site-packages/astropy/io/fits/fitsrec.py\", line 695, in field\n",
      "    column = self.columns[key]\n",
      "             ~~~~~~~~~~~~^^^^^\n",
      "  File \"/home/petershi/miniconda3/envs/SDSSV/lib/python3.11/site-packages/astropy/io/fits/column.py\", line 1751, in __getitem__\n",
      "    key = _get_index(self.names, key)\n",
      "          ^^^^^^^^^^^^^^^^^^^^^^^^^^^\n",
      "  File \"/home/petershi/miniconda3/envs/SDSSV/lib/python3.11/site-packages/astropy/io/fits/column.py\", line 2151, in _get_index\n",
      "    raise KeyError(f\"Key '{key}' does not exist.\")\n",
      "KeyError: \"Key 'SNR' does not exist.\"\n",
      "\n"
     ]
    },
    {
     "name": "stderr",
     "output_type": "stream",
     "text": [
      " 52%|█████▏    | 79930/153700 [7:10:02<7:10:00,  2.86it/s]"
     ]
    },
    {
     "name": "stdout",
     "output_type": "stream",
     "text": [
      "File 27021597914506570 not found in /yngve_data/sdssv/ipl-2/spectro/astra/0.3.0/v6_0_9-1.0/spectra/star\n"
     ]
    },
    {
     "name": "stderr",
     "output_type": "stream",
     "text": [
      " 52%|█████▏    | 79931/153700 [7:10:02<7:32:25,  2.72it/s]"
     ]
    },
    {
     "name": "stdout",
     "output_type": "stream",
     "text": [
      "Traceback (most recent call last):\n",
      "  File \"/home/petershi/miniconda3/envs/SDSSV/lib/python3.11/site-packages/astropy/io/fits/column.py\", line 2142, in _get_index\n",
      "    indx = names.index(key.rstrip())\n",
      "           ^^^^^^^^^^^^^^^^^^^^^^^^^\n",
      "ValueError: 'SNR' is not in list\n",
      "\n",
      "During handling of the above exception, another exception occurred:\n",
      "\n",
      "Traceback (most recent call last):\n",
      "  File \"/tmp/ipykernel_10073/3388262553.py\", line 15, in <module>\n",
      "    cdata = getSDSSVData(cfile)\n",
      "            ^^^^^^^^^^^^^^^^^^^\n",
      "  File \"/tmp/ipykernel_10073/4007893978.py\", line 3, in getSDSSVData\n",
      "    snr = hdul[3].data[\"SNR\"]\n",
      "          ~~~~~~~~~~~~^^^^^^^\n",
      "  File \"/home/petershi/miniconda3/envs/SDSSV/lib/python3.11/site-packages/astropy/io/fits/fitsrec.py\", line 513, in __getitem__\n",
      "    return self.field(key)\n",
      "           ^^^^^^^^^^^^^^^\n",
      "  File \"/home/petershi/miniconda3/envs/SDSSV/lib/python3.11/site-packages/astropy/io/fits/fitsrec.py\", line 695, in field\n",
      "    column = self.columns[key]\n",
      "             ~~~~~~~~~~~~^^^^^\n",
      "  File \"/home/petershi/miniconda3/envs/SDSSV/lib/python3.11/site-packages/astropy/io/fits/column.py\", line 1751, in __getitem__\n",
      "    key = _get_index(self.names, key)\n",
      "          ^^^^^^^^^^^^^^^^^^^^^^^^^^^\n",
      "  File \"/home/petershi/miniconda3/envs/SDSSV/lib/python3.11/site-packages/astropy/io/fits/column.py\", line 2151, in _get_index\n",
      "    raise KeyError(f\"Key '{key}' does not exist.\")\n",
      "KeyError: \"Key 'SNR' does not exist.\"\n",
      "\n"
     ]
    },
    {
     "name": "stderr",
     "output_type": "stream",
     "text": [
      " 52%|█████▏    | 79936/153700 [7:10:04<8:30:23,  2.41it/s]"
     ]
    },
    {
     "name": "stdout",
     "output_type": "stream",
     "text": [
      "Traceback (most recent call last):\n",
      "  File \"/home/petershi/miniconda3/envs/SDSSV/lib/python3.11/site-packages/astropy/io/fits/column.py\", line 2142, in _get_index\n",
      "    indx = names.index(key.rstrip())\n",
      "           ^^^^^^^^^^^^^^^^^^^^^^^^^\n",
      "ValueError: 'SNR' is not in list\n",
      "\n",
      "During handling of the above exception, another exception occurred:\n",
      "\n",
      "Traceback (most recent call last):\n",
      "  File \"/tmp/ipykernel_10073/3388262553.py\", line 15, in <module>\n",
      "    cdata = getSDSSVData(cfile)\n",
      "            ^^^^^^^^^^^^^^^^^^^\n",
      "  File \"/tmp/ipykernel_10073/4007893978.py\", line 3, in getSDSSVData\n",
      "    snr = hdul[3].data[\"SNR\"]\n",
      "          ~~~~~~~~~~~~^^^^^^^\n",
      "  File \"/home/petershi/miniconda3/envs/SDSSV/lib/python3.11/site-packages/astropy/io/fits/fitsrec.py\", line 513, in __getitem__\n",
      "    return self.field(key)\n",
      "           ^^^^^^^^^^^^^^^\n",
      "  File \"/home/petershi/miniconda3/envs/SDSSV/lib/python3.11/site-packages/astropy/io/fits/fitsrec.py\", line 695, in field\n",
      "    column = self.columns[key]\n",
      "             ~~~~~~~~~~~~^^^^^\n",
      "  File \"/home/petershi/miniconda3/envs/SDSSV/lib/python3.11/site-packages/astropy/io/fits/column.py\", line 1751, in __getitem__\n",
      "    key = _get_index(self.names, key)\n",
      "          ^^^^^^^^^^^^^^^^^^^^^^^^^^^\n",
      "  File \"/home/petershi/miniconda3/envs/SDSSV/lib/python3.11/site-packages/astropy/io/fits/column.py\", line 2151, in _get_index\n",
      "    raise KeyError(f\"Key '{key}' does not exist.\")\n",
      "KeyError: \"Key 'SNR' does not exist.\"\n",
      "\n"
     ]
    },
    {
     "name": "stderr",
     "output_type": "stream",
     "text": [
      " 52%|█████▏    | 79937/153700 [7:10:05<8:30:45,  2.41it/s]"
     ]
    },
    {
     "name": "stdout",
     "output_type": "stream",
     "text": [
      "Traceback (most recent call last):\n",
      "  File \"/home/petershi/miniconda3/envs/SDSSV/lib/python3.11/site-packages/astropy/io/fits/column.py\", line 2142, in _get_index\n",
      "    indx = names.index(key.rstrip())\n",
      "           ^^^^^^^^^^^^^^^^^^^^^^^^^\n",
      "ValueError: 'SNR' is not in list\n",
      "\n",
      "During handling of the above exception, another exception occurred:\n",
      "\n",
      "Traceback (most recent call last):\n",
      "  File \"/tmp/ipykernel_10073/3388262553.py\", line 15, in <module>\n",
      "    cdata = getSDSSVData(cfile)\n",
      "            ^^^^^^^^^^^^^^^^^^^\n",
      "  File \"/tmp/ipykernel_10073/4007893978.py\", line 3, in getSDSSVData\n",
      "    snr = hdul[3].data[\"SNR\"]\n",
      "          ~~~~~~~~~~~~^^^^^^^\n",
      "  File \"/home/petershi/miniconda3/envs/SDSSV/lib/python3.11/site-packages/astropy/io/fits/fitsrec.py\", line 513, in __getitem__\n",
      "    return self.field(key)\n",
      "           ^^^^^^^^^^^^^^^\n",
      "  File \"/home/petershi/miniconda3/envs/SDSSV/lib/python3.11/site-packages/astropy/io/fits/fitsrec.py\", line 695, in field\n",
      "    column = self.columns[key]\n",
      "             ~~~~~~~~~~~~^^^^^\n",
      "  File \"/home/petershi/miniconda3/envs/SDSSV/lib/python3.11/site-packages/astropy/io/fits/column.py\", line 1751, in __getitem__\n",
      "    key = _get_index(self.names, key)\n",
      "          ^^^^^^^^^^^^^^^^^^^^^^^^^^^\n",
      "  File \"/home/petershi/miniconda3/envs/SDSSV/lib/python3.11/site-packages/astropy/io/fits/column.py\", line 2151, in _get_index\n",
      "    raise KeyError(f\"Key '{key}' does not exist.\")\n",
      "KeyError: \"Key 'SNR' does not exist.\"\n",
      "\n"
     ]
    },
    {
     "name": "stderr",
     "output_type": "stream",
     "text": [
      " 52%|█████▏    | 79938/153700 [7:10:05<8:33:35,  2.39it/s]"
     ]
    },
    {
     "name": "stdout",
     "output_type": "stream",
     "text": [
      "Traceback (most recent call last):\n",
      "  File \"/home/petershi/miniconda3/envs/SDSSV/lib/python3.11/site-packages/astropy/io/fits/column.py\", line 2142, in _get_index\n",
      "    indx = names.index(key.rstrip())\n",
      "           ^^^^^^^^^^^^^^^^^^^^^^^^^\n",
      "ValueError: 'SNR' is not in list\n",
      "\n",
      "During handling of the above exception, another exception occurred:\n",
      "\n",
      "Traceback (most recent call last):\n",
      "  File \"/tmp/ipykernel_10073/3388262553.py\", line 15, in <module>\n",
      "    cdata = getSDSSVData(cfile)\n",
      "            ^^^^^^^^^^^^^^^^^^^\n",
      "  File \"/tmp/ipykernel_10073/4007893978.py\", line 3, in getSDSSVData\n",
      "    snr = hdul[3].data[\"SNR\"]\n",
      "          ~~~~~~~~~~~~^^^^^^^\n",
      "  File \"/home/petershi/miniconda3/envs/SDSSV/lib/python3.11/site-packages/astropy/io/fits/fitsrec.py\", line 513, in __getitem__\n",
      "    return self.field(key)\n",
      "           ^^^^^^^^^^^^^^^\n",
      "  File \"/home/petershi/miniconda3/envs/SDSSV/lib/python3.11/site-packages/astropy/io/fits/fitsrec.py\", line 695, in field\n",
      "    column = self.columns[key]\n",
      "             ~~~~~~~~~~~~^^^^^\n",
      "  File \"/home/petershi/miniconda3/envs/SDSSV/lib/python3.11/site-packages/astropy/io/fits/column.py\", line 1751, in __getitem__\n",
      "    key = _get_index(self.names, key)\n",
      "          ^^^^^^^^^^^^^^^^^^^^^^^^^^^\n",
      "  File \"/home/petershi/miniconda3/envs/SDSSV/lib/python3.11/site-packages/astropy/io/fits/column.py\", line 2151, in _get_index\n",
      "    raise KeyError(f\"Key '{key}' does not exist.\")\n",
      "KeyError: \"Key 'SNR' does not exist.\"\n",
      "\n"
     ]
    },
    {
     "name": "stderr",
     "output_type": "stream",
     "text": [
      " 52%|█████▏    | 79941/153700 [7:10:07<9:47:59,  2.09it/s]"
     ]
    },
    {
     "name": "stdout",
     "output_type": "stream",
     "text": [
      "Traceback (most recent call last):\n",
      "  File \"/home/petershi/miniconda3/envs/SDSSV/lib/python3.11/site-packages/astropy/io/fits/column.py\", line 2142, in _get_index\n",
      "    indx = names.index(key.rstrip())\n",
      "           ^^^^^^^^^^^^^^^^^^^^^^^^^\n",
      "ValueError: 'SNR' is not in list\n",
      "\n",
      "During handling of the above exception, another exception occurred:\n",
      "\n",
      "Traceback (most recent call last):\n",
      "  File \"/tmp/ipykernel_10073/3388262553.py\", line 15, in <module>\n",
      "    cdata = getSDSSVData(cfile)\n",
      "            ^^^^^^^^^^^^^^^^^^^\n",
      "  File \"/tmp/ipykernel_10073/4007893978.py\", line 3, in getSDSSVData\n",
      "    snr = hdul[3].data[\"SNR\"]\n",
      "          ~~~~~~~~~~~~^^^^^^^\n",
      "  File \"/home/petershi/miniconda3/envs/SDSSV/lib/python3.11/site-packages/astropy/io/fits/fitsrec.py\", line 513, in __getitem__\n",
      "    return self.field(key)\n",
      "           ^^^^^^^^^^^^^^^\n",
      "  File \"/home/petershi/miniconda3/envs/SDSSV/lib/python3.11/site-packages/astropy/io/fits/fitsrec.py\", line 695, in field\n",
      "    column = self.columns[key]\n",
      "             ~~~~~~~~~~~~^^^^^\n",
      "  File \"/home/petershi/miniconda3/envs/SDSSV/lib/python3.11/site-packages/astropy/io/fits/column.py\", line 1751, in __getitem__\n",
      "    key = _get_index(self.names, key)\n",
      "          ^^^^^^^^^^^^^^^^^^^^^^^^^^^\n",
      "  File \"/home/petershi/miniconda3/envs/SDSSV/lib/python3.11/site-packages/astropy/io/fits/column.py\", line 2151, in _get_index\n",
      "    raise KeyError(f\"Key '{key}' does not exist.\")\n",
      "KeyError: \"Key 'SNR' does not exist.\"\n",
      "\n"
     ]
    },
    {
     "name": "stderr",
     "output_type": "stream",
     "text": [
      " 52%|█████▏    | 79943/153700 [7:10:08<10:41:23,  1.92it/s]"
     ]
    },
    {
     "name": "stdout",
     "output_type": "stream",
     "text": [
      "File 27021597914509232 not found in /yngve_data/sdssv/ipl-2/spectro/astra/0.3.0/v6_0_9-1.0/spectra/star\n"
     ]
    },
    {
     "name": "stderr",
     "output_type": "stream",
     "text": [
      " 52%|█████▏    | 79950/153700 [7:10:12<12:07:00,  1.69it/s]"
     ]
    },
    {
     "name": "stdout",
     "output_type": "stream",
     "text": [
      "File 27021597914509782 not found in /yngve_data/sdssv/ipl-2/spectro/astra/0.3.0/v6_0_9-1.0/spectra/star\n"
     ]
    },
    {
     "name": "stderr",
     "output_type": "stream",
     "text": [
      " 52%|█████▏    | 79954/153700 [7:10:13<7:06:20,  2.88it/s] "
     ]
    },
    {
     "name": "stdout",
     "output_type": "stream",
     "text": [
      "Traceback (most recent call last):\n",
      "  File \"/home/petershi/miniconda3/envs/SDSSV/lib/python3.11/site-packages/astropy/io/fits/column.py\", line 2142, in _get_index\n",
      "    indx = names.index(key.rstrip())\n",
      "           ^^^^^^^^^^^^^^^^^^^^^^^^^\n",
      "ValueError: 'SNR' is not in list\n",
      "\n",
      "During handling of the above exception, another exception occurred:\n",
      "\n",
      "Traceback (most recent call last):\n",
      "  File \"/tmp/ipykernel_10073/3388262553.py\", line 15, in <module>\n",
      "    cdata = getSDSSVData(cfile)\n",
      "            ^^^^^^^^^^^^^^^^^^^\n",
      "  File \"/tmp/ipykernel_10073/4007893978.py\", line 3, in getSDSSVData\n",
      "    snr = hdul[3].data[\"SNR\"]\n",
      "          ~~~~~~~~~~~~^^^^^^^\n",
      "  File \"/home/petershi/miniconda3/envs/SDSSV/lib/python3.11/site-packages/astropy/io/fits/fitsrec.py\", line 513, in __getitem__\n",
      "    return self.field(key)\n",
      "           ^^^^^^^^^^^^^^^\n",
      "  File \"/home/petershi/miniconda3/envs/SDSSV/lib/python3.11/site-packages/astropy/io/fits/fitsrec.py\", line 695, in field\n",
      "    column = self.columns[key]\n",
      "             ~~~~~~~~~~~~^^^^^\n",
      "  File \"/home/petershi/miniconda3/envs/SDSSV/lib/python3.11/site-packages/astropy/io/fits/column.py\", line 1751, in __getitem__\n",
      "    key = _get_index(self.names, key)\n",
      "          ^^^^^^^^^^^^^^^^^^^^^^^^^^^\n",
      "  File \"/home/petershi/miniconda3/envs/SDSSV/lib/python3.11/site-packages/astropy/io/fits/column.py\", line 2151, in _get_index\n",
      "    raise KeyError(f\"Key '{key}' does not exist.\")\n",
      "KeyError: \"Key 'SNR' does not exist.\"\n",
      "\n"
     ]
    },
    {
     "name": "stderr",
     "output_type": "stream",
     "text": [
      " 52%|█████▏    | 79956/153700 [7:10:14<6:52:47,  2.98it/s]"
     ]
    },
    {
     "name": "stdout",
     "output_type": "stream",
     "text": [
      "File 27021597914510301 not found in /yngve_data/sdssv/ipl-2/spectro/astra/0.3.0/v6_0_9-1.0/spectra/star\n"
     ]
    },
    {
     "name": "stderr",
     "output_type": "stream",
     "text": [
      " 52%|█████▏    | 79958/153700 [7:10:15<6:40:17,  3.07it/s]"
     ]
    },
    {
     "name": "stdout",
     "output_type": "stream",
     "text": [
      "File 27021597914510507 not found in /yngve_data/sdssv/ipl-2/spectro/astra/0.3.0/v6_0_9-1.0/spectra/star\n"
     ]
    },
    {
     "name": "stderr",
     "output_type": "stream",
     "text": [
      " 52%|█████▏    | 79961/153700 [7:10:15<5:36:32,  3.65it/s]"
     ]
    },
    {
     "name": "stdout",
     "output_type": "stream",
     "text": [
      "File 27021597914510510 not found in /yngve_data/sdssv/ipl-2/spectro/astra/0.3.0/v6_0_9-1.0/spectra/star\n"
     ]
    },
    {
     "name": "stderr",
     "output_type": "stream",
     "text": [
      " 52%|█████▏    | 79966/153700 [7:10:16<4:54:59,  4.17it/s]"
     ]
    },
    {
     "name": "stdout",
     "output_type": "stream",
     "text": [
      "File 27021597914510866 not found in /yngve_data/sdssv/ipl-2/spectro/astra/0.3.0/v6_0_9-1.0/spectra/star\n"
     ]
    },
    {
     "name": "stderr",
     "output_type": "stream",
     "text": [
      " 52%|█████▏    | 79968/153700 [7:10:17<5:34:31,  3.67it/s]"
     ]
    },
    {
     "name": "stdout",
     "output_type": "stream",
     "text": [
      "File 27021597914511277 not found in /yngve_data/sdssv/ipl-2/spectro/astra/0.3.0/v6_0_9-1.0/spectra/star\n"
     ]
    },
    {
     "name": "stderr",
     "output_type": "stream",
     "text": [
      " 52%|█████▏    | 79975/153700 [7:10:18<4:50:19,  4.23it/s]"
     ]
    },
    {
     "name": "stdout",
     "output_type": "stream",
     "text": [
      "File 27021597914512015 not found in /yngve_data/sdssv/ipl-2/spectro/astra/0.3.0/v6_0_9-1.0/spectra/star\n"
     ]
    },
    {
     "name": "stderr",
     "output_type": "stream",
     "text": [
      " 52%|█████▏    | 79981/153700 [7:10:19<3:35:03,  5.71it/s]"
     ]
    },
    {
     "name": "stdout",
     "output_type": "stream",
     "text": [
      "Traceback (most recent call last):\n",
      "  File \"/home/petershi/miniconda3/envs/SDSSV/lib/python3.11/site-packages/astropy/io/fits/column.py\", line 2142, in _get_index\n",
      "    indx = names.index(key.rstrip())\n",
      "           ^^^^^^^^^^^^^^^^^^^^^^^^^\n",
      "ValueError: 'SNR' is not in list\n",
      "\n",
      "During handling of the above exception, another exception occurred:\n",
      "\n",
      "Traceback (most recent call last):\n",
      "  File \"/tmp/ipykernel_10073/3388262553.py\", line 15, in <module>\n",
      "    cdata = getSDSSVData(cfile)\n",
      "            ^^^^^^^^^^^^^^^^^^^\n",
      "  File \"/tmp/ipykernel_10073/4007893978.py\", line 3, in getSDSSVData\n",
      "    snr = hdul[3].data[\"SNR\"]\n",
      "          ~~~~~~~~~~~~^^^^^^^\n",
      "  File \"/home/petershi/miniconda3/envs/SDSSV/lib/python3.11/site-packages/astropy/io/fits/fitsrec.py\", line 513, in __getitem__\n",
      "    return self.field(key)\n",
      "           ^^^^^^^^^^^^^^^\n",
      "  File \"/home/petershi/miniconda3/envs/SDSSV/lib/python3.11/site-packages/astropy/io/fits/fitsrec.py\", line 695, in field\n",
      "    column = self.columns[key]\n",
      "             ~~~~~~~~~~~~^^^^^\n",
      "  File \"/home/petershi/miniconda3/envs/SDSSV/lib/python3.11/site-packages/astropy/io/fits/column.py\", line 1751, in __getitem__\n",
      "    key = _get_index(self.names, key)\n",
      "          ^^^^^^^^^^^^^^^^^^^^^^^^^^^\n",
      "  File \"/home/petershi/miniconda3/envs/SDSSV/lib/python3.11/site-packages/astropy/io/fits/column.py\", line 2151, in _get_index\n",
      "    raise KeyError(f\"Key '{key}' does not exist.\")\n",
      "KeyError: \"Key 'SNR' does not exist.\"\n",
      "\n"
     ]
    },
    {
     "name": "stderr",
     "output_type": "stream",
     "text": [
      " 52%|█████▏    | 79983/153700 [7:10:20<5:24:30,  3.79it/s]"
     ]
    },
    {
     "name": "stdout",
     "output_type": "stream",
     "text": [
      "File 27021597914512523 not found in /yngve_data/sdssv/ipl-2/spectro/astra/0.3.0/v6_0_9-1.0/spectra/star\n"
     ]
    },
    {
     "name": "stderr",
     "output_type": "stream",
     "text": [
      " 52%|█████▏    | 80002/153700 [7:10:26<7:16:13,  2.82it/s]"
     ]
    },
    {
     "name": "stdout",
     "output_type": "stream",
     "text": [
      "Traceback (most recent call last):\n",
      "  File \"/home/petershi/miniconda3/envs/SDSSV/lib/python3.11/site-packages/astropy/io/fits/column.py\", line 2142, in _get_index\n",
      "    indx = names.index(key.rstrip())\n",
      "           ^^^^^^^^^^^^^^^^^^^^^^^^^\n",
      "ValueError: 'SNR' is not in list\n",
      "\n",
      "During handling of the above exception, another exception occurred:\n",
      "\n",
      "Traceback (most recent call last):\n",
      "  File \"/tmp/ipykernel_10073/3388262553.py\", line 15, in <module>\n",
      "    cdata = getSDSSVData(cfile)\n",
      "            ^^^^^^^^^^^^^^^^^^^\n",
      "  File \"/tmp/ipykernel_10073/4007893978.py\", line 3, in getSDSSVData\n",
      "    snr = hdul[3].data[\"SNR\"]\n",
      "          ~~~~~~~~~~~~^^^^^^^\n",
      "  File \"/home/petershi/miniconda3/envs/SDSSV/lib/python3.11/site-packages/astropy/io/fits/fitsrec.py\", line 513, in __getitem__\n",
      "    return self.field(key)\n",
      "           ^^^^^^^^^^^^^^^\n",
      "  File \"/home/petershi/miniconda3/envs/SDSSV/lib/python3.11/site-packages/astropy/io/fits/fitsrec.py\", line 695, in field\n",
      "    column = self.columns[key]\n",
      "             ~~~~~~~~~~~~^^^^^\n",
      "  File \"/home/petershi/miniconda3/envs/SDSSV/lib/python3.11/site-packages/astropy/io/fits/column.py\", line 1751, in __getitem__\n",
      "    key = _get_index(self.names, key)\n",
      "          ^^^^^^^^^^^^^^^^^^^^^^^^^^^\n",
      "  File \"/home/petershi/miniconda3/envs/SDSSV/lib/python3.11/site-packages/astropy/io/fits/column.py\", line 2151, in _get_index\n",
      "    raise KeyError(f\"Key '{key}' does not exist.\")\n",
      "KeyError: \"Key 'SNR' does not exist.\"\n",
      "\n"
     ]
    },
    {
     "name": "stderr",
     "output_type": "stream",
     "text": [
      " 52%|█████▏    | 80014/153700 [7:10:31<8:22:34,  2.44it/s]"
     ]
    },
    {
     "name": "stdout",
     "output_type": "stream",
     "text": [
      "Traceback (most recent call last):\n",
      "  File \"/home/petershi/miniconda3/envs/SDSSV/lib/python3.11/site-packages/astropy/io/fits/column.py\", line 2142, in _get_index\n",
      "    indx = names.index(key.rstrip())\n",
      "           ^^^^^^^^^^^^^^^^^^^^^^^^^\n",
      "ValueError: 'SNR' is not in list\n",
      "\n",
      "During handling of the above exception, another exception occurred:\n",
      "\n",
      "Traceback (most recent call last):\n",
      "  File \"/tmp/ipykernel_10073/3388262553.py\", line 15, in <module>\n",
      "    cdata = getSDSSVData(cfile)\n",
      "            ^^^^^^^^^^^^^^^^^^^\n",
      "  File \"/tmp/ipykernel_10073/4007893978.py\", line 3, in getSDSSVData\n",
      "    snr = hdul[3].data[\"SNR\"]\n",
      "          ~~~~~~~~~~~~^^^^^^^\n",
      "  File \"/home/petershi/miniconda3/envs/SDSSV/lib/python3.11/site-packages/astropy/io/fits/fitsrec.py\", line 513, in __getitem__\n",
      "    return self.field(key)\n",
      "           ^^^^^^^^^^^^^^^\n",
      "  File \"/home/petershi/miniconda3/envs/SDSSV/lib/python3.11/site-packages/astropy/io/fits/fitsrec.py\", line 695, in field\n",
      "    column = self.columns[key]\n",
      "             ~~~~~~~~~~~~^^^^^\n",
      "  File \"/home/petershi/miniconda3/envs/SDSSV/lib/python3.11/site-packages/astropy/io/fits/column.py\", line 1751, in __getitem__\n",
      "    key = _get_index(self.names, key)\n",
      "          ^^^^^^^^^^^^^^^^^^^^^^^^^^^\n",
      "  File \"/home/petershi/miniconda3/envs/SDSSV/lib/python3.11/site-packages/astropy/io/fits/column.py\", line 2151, in _get_index\n",
      "    raise KeyError(f\"Key '{key}' does not exist.\")\n",
      "KeyError: \"Key 'SNR' does not exist.\"\n",
      "\n"
     ]
    },
    {
     "name": "stderr",
     "output_type": "stream",
     "text": [
      " 52%|█████▏    | 80016/153700 [7:10:32<8:38:34,  2.37it/s]"
     ]
    },
    {
     "name": "stdout",
     "output_type": "stream",
     "text": [
      "Traceback (most recent call last):\n",
      "  File \"/home/petershi/miniconda3/envs/SDSSV/lib/python3.11/site-packages/astropy/io/fits/column.py\", line 2142, in _get_index\n",
      "    indx = names.index(key.rstrip())\n",
      "           ^^^^^^^^^^^^^^^^^^^^^^^^^\n",
      "ValueError: 'SNR' is not in list\n",
      "\n",
      "During handling of the above exception, another exception occurred:\n",
      "\n",
      "Traceback (most recent call last):\n",
      "  File \"/tmp/ipykernel_10073/3388262553.py\", line 15, in <module>\n",
      "    cdata = getSDSSVData(cfile)\n",
      "            ^^^^^^^^^^^^^^^^^^^\n",
      "  File \"/tmp/ipykernel_10073/4007893978.py\", line 3, in getSDSSVData\n",
      "    snr = hdul[3].data[\"SNR\"]\n",
      "          ~~~~~~~~~~~~^^^^^^^\n",
      "  File \"/home/petershi/miniconda3/envs/SDSSV/lib/python3.11/site-packages/astropy/io/fits/fitsrec.py\", line 513, in __getitem__\n",
      "    return self.field(key)\n",
      "           ^^^^^^^^^^^^^^^\n",
      "  File \"/home/petershi/miniconda3/envs/SDSSV/lib/python3.11/site-packages/astropy/io/fits/fitsrec.py\", line 695, in field\n",
      "    column = self.columns[key]\n",
      "             ~~~~~~~~~~~~^^^^^\n",
      "  File \"/home/petershi/miniconda3/envs/SDSSV/lib/python3.11/site-packages/astropy/io/fits/column.py\", line 1751, in __getitem__\n",
      "    key = _get_index(self.names, key)\n",
      "          ^^^^^^^^^^^^^^^^^^^^^^^^^^^\n",
      "  File \"/home/petershi/miniconda3/envs/SDSSV/lib/python3.11/site-packages/astropy/io/fits/column.py\", line 2151, in _get_index\n",
      "    raise KeyError(f\"Key '{key}' does not exist.\")\n",
      "KeyError: \"Key 'SNR' does not exist.\"\n",
      "\n"
     ]
    },
    {
     "name": "stderr",
     "output_type": "stream",
     "text": [
      " 52%|█████▏    | 80019/153700 [7:10:33<9:40:52,  2.11it/s]"
     ]
    },
    {
     "name": "stdout",
     "output_type": "stream",
     "text": [
      "File 27021597914517082 not found in /yngve_data/sdssv/ipl-2/spectro/astra/0.3.0/v6_0_9-1.0/spectra/star\n"
     ]
    },
    {
     "name": "stderr",
     "output_type": "stream",
     "text": [
      " 52%|█████▏    | 80021/153700 [7:10:34<10:05:39,  2.03it/s]"
     ]
    },
    {
     "name": "stdout",
     "output_type": "stream",
     "text": [
      "File 27021597914517217 not found in /yngve_data/sdssv/ipl-2/spectro/astra/0.3.0/v6_0_9-1.0/spectra/star\n"
     ]
    },
    {
     "name": "stderr",
     "output_type": "stream",
     "text": [
      " 52%|█████▏    | 80022/153700 [7:10:35<10:42:20,  1.91it/s]"
     ]
    },
    {
     "name": "stdout",
     "output_type": "stream",
     "text": [
      "File 27021597914517329 not found in /yngve_data/sdssv/ipl-2/spectro/astra/0.3.0/v6_0_9-1.0/spectra/star\n"
     ]
    },
    {
     "name": "stderr",
     "output_type": "stream",
     "text": [
      " 52%|█████▏    | 80027/153700 [7:10:37<9:39:14,  2.12it/s] "
     ]
    },
    {
     "name": "stdout",
     "output_type": "stream",
     "text": [
      "Traceback (most recent call last):\n",
      "  File \"/home/petershi/miniconda3/envs/SDSSV/lib/python3.11/site-packages/astropy/io/fits/column.py\", line 2142, in _get_index\n",
      "    indx = names.index(key.rstrip())\n",
      "           ^^^^^^^^^^^^^^^^^^^^^^^^^\n",
      "ValueError: 'SNR' is not in list\n",
      "\n",
      "During handling of the above exception, another exception occurred:\n",
      "\n",
      "Traceback (most recent call last):\n",
      "  File \"/tmp/ipykernel_10073/3388262553.py\", line 15, in <module>\n",
      "    cdata = getSDSSVData(cfile)\n",
      "            ^^^^^^^^^^^^^^^^^^^\n",
      "  File \"/tmp/ipykernel_10073/4007893978.py\", line 3, in getSDSSVData\n",
      "    snr = hdul[3].data[\"SNR\"]\n",
      "          ~~~~~~~~~~~~^^^^^^^\n",
      "  File \"/home/petershi/miniconda3/envs/SDSSV/lib/python3.11/site-packages/astropy/io/fits/fitsrec.py\", line 513, in __getitem__\n",
      "    return self.field(key)\n",
      "           ^^^^^^^^^^^^^^^\n",
      "  File \"/home/petershi/miniconda3/envs/SDSSV/lib/python3.11/site-packages/astropy/io/fits/fitsrec.py\", line 695, in field\n",
      "    column = self.columns[key]\n",
      "             ~~~~~~~~~~~~^^^^^\n",
      "  File \"/home/petershi/miniconda3/envs/SDSSV/lib/python3.11/site-packages/astropy/io/fits/column.py\", line 1751, in __getitem__\n",
      "    key = _get_index(self.names, key)\n",
      "          ^^^^^^^^^^^^^^^^^^^^^^^^^^^\n",
      "  File \"/home/petershi/miniconda3/envs/SDSSV/lib/python3.11/site-packages/astropy/io/fits/column.py\", line 2151, in _get_index\n",
      "    raise KeyError(f\"Key '{key}' does not exist.\")\n",
      "KeyError: \"Key 'SNR' does not exist.\"\n",
      "\n"
     ]
    },
    {
     "name": "stderr",
     "output_type": "stream",
     "text": [
      " 52%|█████▏    | 80029/153700 [7:10:38<9:32:25,  2.14it/s]"
     ]
    },
    {
     "name": "stdout",
     "output_type": "stream",
     "text": [
      "Traceback (most recent call last):\n",
      "  File \"/home/petershi/miniconda3/envs/SDSSV/lib/python3.11/site-packages/astropy/io/fits/column.py\", line 2142, in _get_index\n",
      "    indx = names.index(key.rstrip())\n",
      "           ^^^^^^^^^^^^^^^^^^^^^^^^^\n",
      "ValueError: 'SNR' is not in list\n",
      "\n",
      "During handling of the above exception, another exception occurred:\n",
      "\n",
      "Traceback (most recent call last):\n",
      "  File \"/tmp/ipykernel_10073/3388262553.py\", line 15, in <module>\n",
      "    cdata = getSDSSVData(cfile)\n",
      "            ^^^^^^^^^^^^^^^^^^^\n",
      "  File \"/tmp/ipykernel_10073/4007893978.py\", line 3, in getSDSSVData\n",
      "    snr = hdul[3].data[\"SNR\"]\n",
      "          ~~~~~~~~~~~~^^^^^^^\n",
      "  File \"/home/petershi/miniconda3/envs/SDSSV/lib/python3.11/site-packages/astropy/io/fits/fitsrec.py\", line 513, in __getitem__\n",
      "    return self.field(key)\n",
      "           ^^^^^^^^^^^^^^^\n",
      "  File \"/home/petershi/miniconda3/envs/SDSSV/lib/python3.11/site-packages/astropy/io/fits/fitsrec.py\", line 695, in field\n",
      "    column = self.columns[key]\n",
      "             ~~~~~~~~~~~~^^^^^\n",
      "  File \"/home/petershi/miniconda3/envs/SDSSV/lib/python3.11/site-packages/astropy/io/fits/column.py\", line 1751, in __getitem__\n",
      "    key = _get_index(self.names, key)\n",
      "          ^^^^^^^^^^^^^^^^^^^^^^^^^^^\n",
      "  File \"/home/petershi/miniconda3/envs/SDSSV/lib/python3.11/site-packages/astropy/io/fits/column.py\", line 2151, in _get_index\n",
      "    raise KeyError(f\"Key '{key}' does not exist.\")\n",
      "KeyError: \"Key 'SNR' does not exist.\"\n",
      "\n"
     ]
    },
    {
     "name": "stderr",
     "output_type": "stream",
     "text": [
      " 52%|█████▏    | 80040/153700 [7:10:42<5:11:23,  3.94it/s] "
     ]
    },
    {
     "name": "stdout",
     "output_type": "stream",
     "text": [
      "File 27021597914551090 not found in /yngve_data/sdssv/ipl-2/spectro/astra/0.3.0/v6_0_9-1.0/spectra/star\n"
     ]
    },
    {
     "name": "stderr",
     "output_type": "stream",
     "text": [
      " 52%|█████▏    | 80053/153700 [7:10:44<4:45:44,  4.30it/s]"
     ]
    },
    {
     "name": "stdout",
     "output_type": "stream",
     "text": [
      "Traceback (most recent call last):\n",
      "  File \"/home/petershi/miniconda3/envs/SDSSV/lib/python3.11/site-packages/astropy/io/fits/column.py\", line 2142, in _get_index\n",
      "    indx = names.index(key.rstrip())\n",
      "           ^^^^^^^^^^^^^^^^^^^^^^^^^\n",
      "ValueError: 'SNR' is not in list\n",
      "\n",
      "During handling of the above exception, another exception occurred:\n",
      "\n",
      "Traceback (most recent call last):\n",
      "  File \"/tmp/ipykernel_10073/3388262553.py\", line 15, in <module>\n",
      "    cdata = getSDSSVData(cfile)\n",
      "            ^^^^^^^^^^^^^^^^^^^\n",
      "  File \"/tmp/ipykernel_10073/4007893978.py\", line 3, in getSDSSVData\n",
      "    snr = hdul[3].data[\"SNR\"]\n",
      "          ~~~~~~~~~~~~^^^^^^^\n",
      "  File \"/home/petershi/miniconda3/envs/SDSSV/lib/python3.11/site-packages/astropy/io/fits/fitsrec.py\", line 513, in __getitem__\n",
      "    return self.field(key)\n",
      "           ^^^^^^^^^^^^^^^\n",
      "  File \"/home/petershi/miniconda3/envs/SDSSV/lib/python3.11/site-packages/astropy/io/fits/fitsrec.py\", line 695, in field\n",
      "    column = self.columns[key]\n",
      "             ~~~~~~~~~~~~^^^^^\n",
      "  File \"/home/petershi/miniconda3/envs/SDSSV/lib/python3.11/site-packages/astropy/io/fits/column.py\", line 1751, in __getitem__\n",
      "    key = _get_index(self.names, key)\n",
      "          ^^^^^^^^^^^^^^^^^^^^^^^^^^^\n",
      "  File \"/home/petershi/miniconda3/envs/SDSSV/lib/python3.11/site-packages/astropy/io/fits/column.py\", line 2151, in _get_index\n",
      "    raise KeyError(f\"Key '{key}' does not exist.\")\n",
      "KeyError: \"Key 'SNR' does not exist.\"\n",
      "\n"
     ]
    },
    {
     "name": "stderr",
     "output_type": "stream",
     "text": [
      " 52%|█████▏    | 80054/153700 [7:10:45<7:59:33,  2.56it/s]"
     ]
    },
    {
     "name": "stdout",
     "output_type": "stream",
     "text": [
      "File 27021597914553346 not found in /yngve_data/sdssv/ipl-2/spectro/astra/0.3.0/v6_0_9-1.0/spectra/star\n"
     ]
    },
    {
     "name": "stderr",
     "output_type": "stream",
     "text": [
      " 52%|█████▏    | 80142/153700 [7:11:16<11:50:14,  1.73it/s]"
     ]
    },
    {
     "name": "stdout",
     "output_type": "stream",
     "text": [
      "Traceback (most recent call last):\n",
      "  File \"/home/petershi/miniconda3/envs/SDSSV/lib/python3.11/site-packages/astropy/io/fits/column.py\", line 2142, in _get_index\n",
      "    indx = names.index(key.rstrip())\n",
      "           ^^^^^^^^^^^^^^^^^^^^^^^^^\n",
      "ValueError: 'SNR' is not in list\n",
      "\n",
      "During handling of the above exception, another exception occurred:\n",
      "\n",
      "Traceback (most recent call last):\n",
      "  File \"/tmp/ipykernel_10073/3388262553.py\", line 15, in <module>\n",
      "    cdata = getSDSSVData(cfile)\n",
      "            ^^^^^^^^^^^^^^^^^^^\n",
      "  File \"/tmp/ipykernel_10073/4007893978.py\", line 3, in getSDSSVData\n",
      "    snr = hdul[3].data[\"SNR\"]\n",
      "          ~~~~~~~~~~~~^^^^^^^\n",
      "  File \"/home/petershi/miniconda3/envs/SDSSV/lib/python3.11/site-packages/astropy/io/fits/fitsrec.py\", line 513, in __getitem__\n",
      "    return self.field(key)\n",
      "           ^^^^^^^^^^^^^^^\n",
      "  File \"/home/petershi/miniconda3/envs/SDSSV/lib/python3.11/site-packages/astropy/io/fits/fitsrec.py\", line 695, in field\n",
      "    column = self.columns[key]\n",
      "             ~~~~~~~~~~~~^^^^^\n",
      "  File \"/home/petershi/miniconda3/envs/SDSSV/lib/python3.11/site-packages/astropy/io/fits/column.py\", line 1751, in __getitem__\n",
      "    key = _get_index(self.names, key)\n",
      "          ^^^^^^^^^^^^^^^^^^^^^^^^^^^\n",
      "  File \"/home/petershi/miniconda3/envs/SDSSV/lib/python3.11/site-packages/astropy/io/fits/column.py\", line 2151, in _get_index\n",
      "    raise KeyError(f\"Key '{key}' does not exist.\")\n",
      "KeyError: \"Key 'SNR' does not exist.\"\n",
      "\n"
     ]
    },
    {
     "name": "stderr",
     "output_type": "stream",
     "text": [
      " 52%|█████▏    | 80179/153700 [7:11:26<5:05:19,  4.01it/s] "
     ]
    },
    {
     "name": "stdout",
     "output_type": "stream",
     "text": [
      "Traceback (most recent call last):\n",
      "  File \"/home/petershi/miniconda3/envs/SDSSV/lib/python3.11/site-packages/astropy/io/fits/column.py\", line 2142, in _get_index\n",
      "    indx = names.index(key.rstrip())\n",
      "           ^^^^^^^^^^^^^^^^^^^^^^^^^\n",
      "ValueError: 'SNR' is not in list\n",
      "\n",
      "During handling of the above exception, another exception occurred:\n",
      "\n",
      "Traceback (most recent call last):\n",
      "  File \"/tmp/ipykernel_10073/3388262553.py\", line 15, in <module>\n",
      "    cdata = getSDSSVData(cfile)\n",
      "            ^^^^^^^^^^^^^^^^^^^\n",
      "  File \"/tmp/ipykernel_10073/4007893978.py\", line 3, in getSDSSVData\n",
      "    snr = hdul[3].data[\"SNR\"]\n",
      "          ~~~~~~~~~~~~^^^^^^^\n",
      "  File \"/home/petershi/miniconda3/envs/SDSSV/lib/python3.11/site-packages/astropy/io/fits/fitsrec.py\", line 513, in __getitem__\n",
      "    return self.field(key)\n",
      "           ^^^^^^^^^^^^^^^\n",
      "  File \"/home/petershi/miniconda3/envs/SDSSV/lib/python3.11/site-packages/astropy/io/fits/fitsrec.py\", line 695, in field\n",
      "    column = self.columns[key]\n",
      "             ~~~~~~~~~~~~^^^^^\n",
      "  File \"/home/petershi/miniconda3/envs/SDSSV/lib/python3.11/site-packages/astropy/io/fits/column.py\", line 1751, in __getitem__\n",
      "    key = _get_index(self.names, key)\n",
      "          ^^^^^^^^^^^^^^^^^^^^^^^^^^^\n",
      "  File \"/home/petershi/miniconda3/envs/SDSSV/lib/python3.11/site-packages/astropy/io/fits/column.py\", line 2151, in _get_index\n",
      "    raise KeyError(f\"Key '{key}' does not exist.\")\n",
      "KeyError: \"Key 'SNR' does not exist.\"\n",
      "\n"
     ]
    },
    {
     "name": "stderr",
     "output_type": "stream",
     "text": [
      " 52%|█████▏    | 80198/153700 [7:11:33<9:39:23,  2.11it/s]"
     ]
    },
    {
     "name": "stdout",
     "output_type": "stream",
     "text": [
      "File 27021597914576995 not found in /yngve_data/sdssv/ipl-2/spectro/astra/0.3.0/v6_0_9-1.0/spectra/star\n"
     ]
    },
    {
     "name": "stderr",
     "output_type": "stream",
     "text": [
      " 52%|█████▏    | 80199/153700 [7:11:34<10:08:51,  2.01it/s]"
     ]
    },
    {
     "name": "stdout",
     "output_type": "stream",
     "text": [
      "File 27021597914577071 not found in /yngve_data/sdssv/ipl-2/spectro/astra/0.3.0/v6_0_9-1.0/spectra/star\n"
     ]
    },
    {
     "name": "stderr",
     "output_type": "stream",
     "text": [
      " 52%|█████▏    | 80221/153700 [7:11:45<11:38:25,  1.75it/s]"
     ]
    },
    {
     "name": "stdout",
     "output_type": "stream",
     "text": [
      "File 27021597914579096 not found in /yngve_data/sdssv/ipl-2/spectro/astra/0.3.0/v6_0_9-1.0/spectra/star\n"
     ]
    },
    {
     "name": "stderr",
     "output_type": "stream",
     "text": [
      " 52%|█████▏    | 80226/153700 [7:11:48<11:30:31,  1.77it/s]"
     ]
    },
    {
     "name": "stdout",
     "output_type": "stream",
     "text": [
      "File 27021597914579652 not found in /yngve_data/sdssv/ipl-2/spectro/astra/0.3.0/v6_0_9-1.0/spectra/star\n"
     ]
    },
    {
     "name": "stderr",
     "output_type": "stream",
     "text": [
      " 52%|█████▏    | 80246/153700 [7:11:54<6:49:51,  2.99it/s] "
     ]
    },
    {
     "name": "stdout",
     "output_type": "stream",
     "text": [
      "File 27021597914714580 not found in /yngve_data/sdssv/ipl-2/spectro/astra/0.3.0/v6_0_9-1.0/spectra/star\n"
     ]
    },
    {
     "name": "stderr",
     "output_type": "stream",
     "text": [
      " 52%|█████▏    | 80253/153700 [7:11:56<8:06:30,  2.52it/s]"
     ]
    },
    {
     "name": "stdout",
     "output_type": "stream",
     "text": [
      "File 27021597914725554 not found in /yngve_data/sdssv/ipl-2/spectro/astra/0.3.0/v6_0_9-1.0/spectra/star\n"
     ]
    },
    {
     "name": "stderr",
     "output_type": "stream",
     "text": [
      " 52%|█████▏    | 80255/153700 [7:11:57<8:54:09,  2.29it/s]"
     ]
    },
    {
     "name": "stdout",
     "output_type": "stream",
     "text": [
      "File 27021597914725695 not found in /yngve_data/sdssv/ipl-2/spectro/astra/0.3.0/v6_0_9-1.0/spectra/star\n"
     ]
    },
    {
     "name": "stderr",
     "output_type": "stream",
     "text": [
      " 52%|█████▏    | 80358/153700 [7:12:30<5:22:12,  3.79it/s] "
     ]
    },
    {
     "name": "stdout",
     "output_type": "stream",
     "text": [
      "File 27021597914810339 not found in /yngve_data/sdssv/ipl-2/spectro/astra/0.3.0/v6_0_9-1.0/spectra/star\n"
     ]
    },
    {
     "name": "stderr",
     "output_type": "stream",
     "text": [
      " 52%|█████▏    | 80382/153700 [7:12:37<6:47:18,  3.00it/s] "
     ]
    },
    {
     "name": "stdout",
     "output_type": "stream",
     "text": [
      "File 27021597915484616 not found in /yngve_data/sdssv/ipl-2/spectro/astra/0.3.0/v6_0_9-1.0/spectra/star\n"
     ]
    },
    {
     "name": "stderr",
     "output_type": "stream",
     "text": [
      " 52%|█████▏    | 80446/153700 [7:12:59<6:29:11,  3.14it/s] "
     ]
    },
    {
     "name": "stdout",
     "output_type": "stream",
     "text": [
      "File 27021597915493699 not found in /yngve_data/sdssv/ipl-2/spectro/astra/0.3.0/v6_0_9-1.0/spectra/star\n"
     ]
    },
    {
     "name": "stderr",
     "output_type": "stream",
     "text": [
      " 52%|█████▏    | 80450/153700 [7:13:00<7:23:48,  2.75it/s]"
     ]
    },
    {
     "name": "stdout",
     "output_type": "stream",
     "text": [
      "File 27021597915494455 not found in /yngve_data/sdssv/ipl-2/spectro/astra/0.3.0/v6_0_9-1.0/spectra/star\n"
     ]
    },
    {
     "name": "stderr",
     "output_type": "stream",
     "text": [
      " 52%|█████▏    | 80463/153700 [7:13:05<8:39:39,  2.35it/s]"
     ]
    },
    {
     "name": "stdout",
     "output_type": "stream",
     "text": [
      "File 27021597915496242 not found in /yngve_data/sdssv/ipl-2/spectro/astra/0.3.0/v6_0_9-1.0/spectra/star\n"
     ]
    },
    {
     "name": "stderr",
     "output_type": "stream",
     "text": [
      " 52%|█████▏    | 80470/153700 [7:13:08<9:25:18,  2.16it/s]"
     ]
    },
    {
     "name": "stdout",
     "output_type": "stream",
     "text": [
      "File 27021597915497059 not found in /yngve_data/sdssv/ipl-2/spectro/astra/0.3.0/v6_0_9-1.0/spectra/star\n"
     ]
    },
    {
     "name": "stderr",
     "output_type": "stream",
     "text": [
      " 52%|█████▏    | 80508/153700 [7:13:24<4:37:16,  4.40it/s] "
     ]
    },
    {
     "name": "stdout",
     "output_type": "stream",
     "text": [
      "File 27021597915501299 not found in /yngve_data/sdssv/ipl-2/spectro/astra/0.3.0/v6_0_9-1.0/spectra/star\n"
     ]
    },
    {
     "name": "stderr",
     "output_type": "stream",
     "text": [
      " 52%|█████▏    | 80510/153700 [7:13:25<5:09:58,  3.94it/s]"
     ]
    },
    {
     "name": "stdout",
     "output_type": "stream",
     "text": [
      "File 27021597915501466 not found in /yngve_data/sdssv/ipl-2/spectro/astra/0.3.0/v6_0_9-1.0/spectra/star\n"
     ]
    },
    {
     "name": "stderr",
     "output_type": "stream",
     "text": [
      " 52%|█████▏    | 80541/153700 [7:13:30<3:46:03,  5.39it/s]"
     ]
    },
    {
     "name": "stdout",
     "output_type": "stream",
     "text": [
      "File 27021597915521692 not found in /yngve_data/sdssv/ipl-2/spectro/astra/0.3.0/v6_0_9-1.0/spectra/star\n"
     ]
    },
    {
     "name": "stderr",
     "output_type": "stream",
     "text": [
      " 52%|█████▏    | 80550/153700 [7:13:32<6:27:23,  3.15it/s]"
     ]
    },
    {
     "name": "stdout",
     "output_type": "stream",
     "text": [
      "File 27021597915523429 not found in /yngve_data/sdssv/ipl-2/spectro/astra/0.3.0/v6_0_9-1.0/spectra/star\n"
     ]
    },
    {
     "name": "stderr",
     "output_type": "stream",
     "text": [
      " 52%|█████▏    | 80551/153700 [7:13:33<7:42:56,  2.63it/s]"
     ]
    },
    {
     "name": "stdout",
     "output_type": "stream",
     "text": [
      "File 27021597915523558 not found in /yngve_data/sdssv/ipl-2/spectro/astra/0.3.0/v6_0_9-1.0/spectra/star\n"
     ]
    },
    {
     "name": "stderr",
     "output_type": "stream",
     "text": [
      " 52%|█████▏    | 80563/153700 [7:13:36<7:42:38,  2.63it/s]"
     ]
    },
    {
     "name": "stdout",
     "output_type": "stream",
     "text": [
      "File 27021597915524773 not found in /yngve_data/sdssv/ipl-2/spectro/astra/0.3.0/v6_0_9-1.0/spectra/star\n"
     ]
    },
    {
     "name": "stderr",
     "output_type": "stream",
     "text": [
      " 52%|█████▏    | 80625/153700 [7:14:01<10:39:47,  1.90it/s]"
     ]
    },
    {
     "name": "stdout",
     "output_type": "stream",
     "text": [
      "File 27021597915539677 not found in /yngve_data/sdssv/ipl-2/spectro/astra/0.3.0/v6_0_9-1.0/spectra/star\n"
     ]
    },
    {
     "name": "stderr",
     "output_type": "stream",
     "text": [
      " 52%|█████▏    | 80636/153700 [7:14:04<4:13:17,  4.81it/s] "
     ]
    },
    {
     "name": "stdout",
     "output_type": "stream",
     "text": [
      "File 27021597915540415 not found in /yngve_data/sdssv/ipl-2/spectro/astra/0.3.0/v6_0_9-1.0/spectra/star\n"
     ]
    },
    {
     "name": "stderr",
     "output_type": "stream",
     "text": [
      " 52%|█████▏    | 80647/153700 [7:14:06<5:22:44,  3.77it/s]"
     ]
    },
    {
     "name": "stdout",
     "output_type": "stream",
     "text": [
      "File 27021597915541782 not found in /yngve_data/sdssv/ipl-2/spectro/astra/0.3.0/v6_0_9-1.0/spectra/star\n"
     ]
    },
    {
     "name": "stderr",
     "output_type": "stream",
     "text": [
      " 52%|█████▏    | 80649/153700 [7:14:07<6:58:20,  2.91it/s]"
     ]
    },
    {
     "name": "stdout",
     "output_type": "stream",
     "text": [
      "File 27021597915545062 not found in /yngve_data/sdssv/ipl-2/spectro/astra/0.3.0/v6_0_9-1.0/spectra/star\n"
     ]
    },
    {
     "name": "stderr",
     "output_type": "stream",
     "text": [
      " 52%|█████▏    | 80663/153700 [7:14:13<10:54:32,  1.86it/s]"
     ]
    },
    {
     "name": "stdout",
     "output_type": "stream",
     "text": [
      "File 27021597915548571 not found in /yngve_data/sdssv/ipl-2/spectro/astra/0.3.0/v6_0_9-1.0/spectra/star\n"
     ]
    },
    {
     "name": "stderr",
     "output_type": "stream",
     "text": [
      " 53%|█████▎    | 80698/153700 [7:14:22<6:24:44,  3.16it/s] "
     ]
    },
    {
     "name": "stdout",
     "output_type": "stream",
     "text": [
      "File 27021597915553532 not found in /yngve_data/sdssv/ipl-2/spectro/astra/0.3.0/v6_0_9-1.0/spectra/star\n"
     ]
    },
    {
     "name": "stderr",
     "output_type": "stream",
     "text": [
      " 53%|█████▎    | 80753/153700 [7:14:45<5:01:56,  4.03it/s] "
     ]
    },
    {
     "name": "stdout",
     "output_type": "stream",
     "text": [
      "File 27021597915580711 not found in /yngve_data/sdssv/ipl-2/spectro/astra/0.3.0/v6_0_9-1.0/spectra/star\n"
     ]
    },
    {
     "name": "stderr",
     "output_type": "stream",
     "text": [
      " 53%|█████▎    | 80762/153700 [7:14:47<7:44:13,  2.62it/s]"
     ]
    },
    {
     "name": "stdout",
     "output_type": "stream",
     "text": [
      "File 27021597915583353 not found in /yngve_data/sdssv/ipl-2/spectro/astra/0.3.0/v6_0_9-1.0/spectra/star\n"
     ]
    },
    {
     "name": "stderr",
     "output_type": "stream",
     "text": [
      " 53%|█████▎    | 80778/153700 [7:14:52<5:05:39,  3.98it/s]"
     ]
    },
    {
     "name": "stdout",
     "output_type": "stream",
     "text": [
      "Traceback (most recent call last):\n",
      "  File \"/home/petershi/miniconda3/envs/SDSSV/lib/python3.11/site-packages/astropy/io/fits/column.py\", line 2142, in _get_index\n",
      "    indx = names.index(key.rstrip())\n",
      "           ^^^^^^^^^^^^^^^^^^^^^^^^^\n",
      "ValueError: 'SNR' is not in list\n",
      "\n",
      "During handling of the above exception, another exception occurred:\n",
      "\n",
      "Traceback (most recent call last):\n",
      "  File \"/tmp/ipykernel_10073/3388262553.py\", line 15, in <module>\n",
      "    cdata = getSDSSVData(cfile)\n",
      "            ^^^^^^^^^^^^^^^^^^^\n",
      "  File \"/tmp/ipykernel_10073/4007893978.py\", line 3, in getSDSSVData\n",
      "    snr = hdul[3].data[\"SNR\"]\n",
      "          ~~~~~~~~~~~~^^^^^^^\n",
      "  File \"/home/petershi/miniconda3/envs/SDSSV/lib/python3.11/site-packages/astropy/io/fits/fitsrec.py\", line 513, in __getitem__\n",
      "    return self.field(key)\n",
      "           ^^^^^^^^^^^^^^^\n",
      "  File \"/home/petershi/miniconda3/envs/SDSSV/lib/python3.11/site-packages/astropy/io/fits/fitsrec.py\", line 695, in field\n",
      "    column = self.columns[key]\n",
      "             ~~~~~~~~~~~~^^^^^\n",
      "  File \"/home/petershi/miniconda3/envs/SDSSV/lib/python3.11/site-packages/astropy/io/fits/column.py\", line 1751, in __getitem__\n",
      "    key = _get_index(self.names, key)\n",
      "          ^^^^^^^^^^^^^^^^^^^^^^^^^^^\n",
      "  File \"/home/petershi/miniconda3/envs/SDSSV/lib/python3.11/site-packages/astropy/io/fits/column.py\", line 2151, in _get_index\n",
      "    raise KeyError(f\"Key '{key}' does not exist.\")\n",
      "KeyError: \"Key 'SNR' does not exist.\"\n",
      "\n"
     ]
    },
    {
     "name": "stderr",
     "output_type": "stream",
     "text": [
      " 53%|█████▎    | 80780/153700 [7:14:53<5:50:53,  3.46it/s]"
     ]
    },
    {
     "name": "stdout",
     "output_type": "stream",
     "text": [
      "File 27021597917252157 not found in /yngve_data/sdssv/ipl-2/spectro/astra/0.3.0/v6_0_9-1.0/spectra/star\n"
     ]
    },
    {
     "name": "stderr",
     "output_type": "stream",
     "text": [
      " 53%|█████▎    | 80783/153700 [7:14:53<4:15:51,  4.75it/s]"
     ]
    },
    {
     "name": "stdout",
     "output_type": "stream",
     "text": [
      "Traceback (most recent call last):\n",
      "  File \"/home/petershi/miniconda3/envs/SDSSV/lib/python3.11/site-packages/astropy/io/fits/column.py\", line 2142, in _get_index\n",
      "    indx = names.index(key.rstrip())\n",
      "           ^^^^^^^^^^^^^^^^^^^^^^^^^\n",
      "ValueError: 'SNR' is not in list\n",
      "\n",
      "During handling of the above exception, another exception occurred:\n",
      "\n",
      "Traceback (most recent call last):\n",
      "  File \"/tmp/ipykernel_10073/3388262553.py\", line 15, in <module>\n",
      "    cdata = getSDSSVData(cfile)\n",
      "            ^^^^^^^^^^^^^^^^^^^\n",
      "  File \"/tmp/ipykernel_10073/4007893978.py\", line 3, in getSDSSVData\n",
      "    snr = hdul[3].data[\"SNR\"]\n",
      "          ~~~~~~~~~~~~^^^^^^^\n",
      "  File \"/home/petershi/miniconda3/envs/SDSSV/lib/python3.11/site-packages/astropy/io/fits/fitsrec.py\", line 513, in __getitem__\n",
      "    return self.field(key)\n",
      "           ^^^^^^^^^^^^^^^\n",
      "  File \"/home/petershi/miniconda3/envs/SDSSV/lib/python3.11/site-packages/astropy/io/fits/fitsrec.py\", line 695, in field\n",
      "    column = self.columns[key]\n",
      "             ~~~~~~~~~~~~^^^^^\n",
      "  File \"/home/petershi/miniconda3/envs/SDSSV/lib/python3.11/site-packages/astropy/io/fits/column.py\", line 1751, in __getitem__\n",
      "    key = _get_index(self.names, key)\n",
      "          ^^^^^^^^^^^^^^^^^^^^^^^^^^^\n",
      "  File \"/home/petershi/miniconda3/envs/SDSSV/lib/python3.11/site-packages/astropy/io/fits/column.py\", line 2151, in _get_index\n",
      "    raise KeyError(f\"Key '{key}' does not exist.\")\n",
      "KeyError: \"Key 'SNR' does not exist.\"\n",
      "\n"
     ]
    },
    {
     "name": "stderr",
     "output_type": "stream",
     "text": [
      " 53%|█████▎    | 80787/153700 [7:14:54<6:03:25,  3.34it/s]"
     ]
    },
    {
     "name": "stdout",
     "output_type": "stream",
     "text": [
      "File 27021597917253011 not found in /yngve_data/sdssv/ipl-2/spectro/astra/0.3.0/v6_0_9-1.0/spectra/star\n"
     ]
    },
    {
     "name": "stderr",
     "output_type": "stream",
     "text": [
      " 53%|█████▎    | 80820/153700 [7:15:04<5:12:13,  3.89it/s]"
     ]
    },
    {
     "name": "stdout",
     "output_type": "stream",
     "text": [
      "Traceback (most recent call last):\n",
      "  File \"/home/petershi/miniconda3/envs/SDSSV/lib/python3.11/site-packages/astropy/io/fits/column.py\", line 2142, in _get_index\n",
      "    indx = names.index(key.rstrip())\n",
      "           ^^^^^^^^^^^^^^^^^^^^^^^^^\n",
      "ValueError: 'SNR' is not in list\n",
      "\n",
      "During handling of the above exception, another exception occurred:\n",
      "\n",
      "Traceback (most recent call last):\n",
      "  File \"/tmp/ipykernel_10073/3388262553.py\", line 15, in <module>\n",
      "    cdata = getSDSSVData(cfile)\n",
      "            ^^^^^^^^^^^^^^^^^^^\n",
      "  File \"/tmp/ipykernel_10073/4007893978.py\", line 3, in getSDSSVData\n",
      "    snr = hdul[3].data[\"SNR\"]\n",
      "          ~~~~~~~~~~~~^^^^^^^\n",
      "  File \"/home/petershi/miniconda3/envs/SDSSV/lib/python3.11/site-packages/astropy/io/fits/fitsrec.py\", line 513, in __getitem__\n",
      "    return self.field(key)\n",
      "           ^^^^^^^^^^^^^^^\n",
      "  File \"/home/petershi/miniconda3/envs/SDSSV/lib/python3.11/site-packages/astropy/io/fits/fitsrec.py\", line 695, in field\n",
      "    column = self.columns[key]\n",
      "             ~~~~~~~~~~~~^^^^^\n",
      "  File \"/home/petershi/miniconda3/envs/SDSSV/lib/python3.11/site-packages/astropy/io/fits/column.py\", line 1751, in __getitem__\n",
      "    key = _get_index(self.names, key)\n",
      "          ^^^^^^^^^^^^^^^^^^^^^^^^^^^\n",
      "  File \"/home/petershi/miniconda3/envs/SDSSV/lib/python3.11/site-packages/astropy/io/fits/column.py\", line 2151, in _get_index\n",
      "    raise KeyError(f\"Key '{key}' does not exist.\")\n",
      "KeyError: \"Key 'SNR' does not exist.\"\n",
      "\n"
     ]
    },
    {
     "name": "stderr",
     "output_type": "stream",
     "text": [
      " 53%|█████▎    | 80844/153700 [7:15:07<5:28:01,  3.70it/s]"
     ]
    },
    {
     "name": "stdout",
     "output_type": "stream",
     "text": [
      "File 27021597917272519 not found in /yngve_data/sdssv/ipl-2/spectro/astra/0.3.0/v6_0_9-1.0/spectra/star\n"
     ]
    },
    {
     "name": "stderr",
     "output_type": "stream",
     "text": [
      " 53%|█████▎    | 80846/153700 [7:15:08<6:09:50,  3.28it/s]"
     ]
    },
    {
     "name": "stdout",
     "output_type": "stream",
     "text": [
      "File 27021597917272550 not found in /yngve_data/sdssv/ipl-2/spectro/astra/0.3.0/v6_0_9-1.0/spectra/star\n"
     ]
    },
    {
     "name": "stderr",
     "output_type": "stream",
     "text": [
      " 53%|█████▎    | 80929/153700 [7:15:36<3:01:09,  6.69it/s] "
     ]
    },
    {
     "name": "stdout",
     "output_type": "stream",
     "text": [
      "File 27021597917340259 not found in /yngve_data/sdssv/ipl-2/spectro/astra/0.3.0/v6_0_9-1.0/spectra/star\n"
     ]
    },
    {
     "name": "stderr",
     "output_type": "stream",
     "text": [
      " 53%|█████▎    | 80931/153700 [7:15:37<2:52:26,  7.03it/s]"
     ]
    },
    {
     "name": "stdout",
     "output_type": "stream",
     "text": [
      "File 27021597917730390 not found in /yngve_data/sdssv/ipl-2/spectro/astra/0.3.0/v6_0_9-1.0/spectra/star\n"
     ]
    },
    {
     "name": "stderr",
     "output_type": "stream",
     "text": [
      " 53%|█████▎    | 80933/153700 [7:15:38<5:30:27,  3.67it/s]"
     ]
    },
    {
     "name": "stdout",
     "output_type": "stream",
     "text": [
      "File 27021597917730872 not found in /yngve_data/sdssv/ipl-2/spectro/astra/0.3.0/v6_0_9-1.0/spectra/star\n"
     ]
    },
    {
     "name": "stderr",
     "output_type": "stream",
     "text": [
      " 53%|█████▎    | 80934/153700 [7:15:38<6:34:34,  3.07it/s]"
     ]
    },
    {
     "name": "stdout",
     "output_type": "stream",
     "text": [
      "File 27021597917731285 not found in /yngve_data/sdssv/ipl-2/spectro/astra/0.3.0/v6_0_9-1.0/spectra/star\n"
     ]
    },
    {
     "name": "stderr",
     "output_type": "stream",
     "text": [
      " 53%|█████▎    | 80935/153700 [7:15:39<7:33:49,  2.67it/s]"
     ]
    },
    {
     "name": "stdout",
     "output_type": "stream",
     "text": [
      "File 27021597917731646 not found in /yngve_data/sdssv/ipl-2/spectro/astra/0.3.0/v6_0_9-1.0/spectra/star\n"
     ]
    },
    {
     "name": "stderr",
     "output_type": "stream",
     "text": [
      " 53%|█████▎    | 80936/153700 [7:15:39<8:26:42,  2.39it/s]"
     ]
    },
    {
     "name": "stdout",
     "output_type": "stream",
     "text": [
      "File 27021597917732377 not found in /yngve_data/sdssv/ipl-2/spectro/astra/0.3.0/v6_0_9-1.0/spectra/star\n"
     ]
    },
    {
     "name": "stderr",
     "output_type": "stream",
     "text": [
      " 53%|█████▎    | 80937/153700 [7:15:40<9:08:40,  2.21it/s]"
     ]
    },
    {
     "name": "stdout",
     "output_type": "stream",
     "text": [
      "File 27021597917741609 not found in /yngve_data/sdssv/ipl-2/spectro/astra/0.3.0/v6_0_9-1.0/spectra/star\n"
     ]
    },
    {
     "name": "stderr",
     "output_type": "stream",
     "text": [
      " 53%|█████▎    | 80938/153700 [7:15:41<9:39:38,  2.09it/s]"
     ]
    },
    {
     "name": "stdout",
     "output_type": "stream",
     "text": [
      "File 27021597917742281 not found in /yngve_data/sdssv/ipl-2/spectro/astra/0.3.0/v6_0_9-1.0/spectra/star\n"
     ]
    },
    {
     "name": "stderr",
     "output_type": "stream",
     "text": [
      " 53%|█████▎    | 80939/153700 [7:15:41<10:08:37,  1.99it/s]"
     ]
    },
    {
     "name": "stdout",
     "output_type": "stream",
     "text": [
      "File 27021597917742488 not found in /yngve_data/sdssv/ipl-2/spectro/astra/0.3.0/v6_0_9-1.0/spectra/star\n"
     ]
    },
    {
     "name": "stderr",
     "output_type": "stream",
     "text": [
      " 53%|█████▎    | 80940/153700 [7:15:42<10:28:58,  1.93it/s]"
     ]
    },
    {
     "name": "stdout",
     "output_type": "stream",
     "text": [
      "File 27021597917743400 not found in /yngve_data/sdssv/ipl-2/spectro/astra/0.3.0/v6_0_9-1.0/spectra/star\n"
     ]
    },
    {
     "name": "stderr",
     "output_type": "stream",
     "text": [
      " 53%|█████▎    | 80941/153700 [7:15:42<10:40:35,  1.89it/s]"
     ]
    },
    {
     "name": "stdout",
     "output_type": "stream",
     "text": [
      "File 27021597917743539 not found in /yngve_data/sdssv/ipl-2/spectro/astra/0.3.0/v6_0_9-1.0/spectra/star\n"
     ]
    },
    {
     "name": "stderr",
     "output_type": "stream",
     "text": [
      " 53%|█████▎    | 80942/153700 [7:15:43<10:50:35,  1.86it/s]"
     ]
    },
    {
     "name": "stdout",
     "output_type": "stream",
     "text": [
      "File 27021597917743973 not found in /yngve_data/sdssv/ipl-2/spectro/astra/0.3.0/v6_0_9-1.0/spectra/star\n"
     ]
    },
    {
     "name": "stderr",
     "output_type": "stream",
     "text": [
      " 53%|█████▎    | 80943/153700 [7:15:43<10:56:58,  1.85it/s]"
     ]
    },
    {
     "name": "stdout",
     "output_type": "stream",
     "text": [
      "File 27021597917744108 not found in /yngve_data/sdssv/ipl-2/spectro/astra/0.3.0/v6_0_9-1.0/spectra/star\n"
     ]
    },
    {
     "name": "stderr",
     "output_type": "stream",
     "text": [
      " 53%|█████▎    | 80944/153700 [7:15:44<10:55:48,  1.85it/s]"
     ]
    },
    {
     "name": "stdout",
     "output_type": "stream",
     "text": [
      "File 27021597917744411 not found in /yngve_data/sdssv/ipl-2/spectro/astra/0.3.0/v6_0_9-1.0/spectra/star\n"
     ]
    },
    {
     "name": "stderr",
     "output_type": "stream",
     "text": [
      " 53%|█████▎    | 80945/153700 [7:15:44<9:41:36,  2.08it/s] "
     ]
    },
    {
     "name": "stdout",
     "output_type": "stream",
     "text": [
      "Traceback (most recent call last):\n",
      "  File \"/home/petershi/miniconda3/envs/SDSSV/lib/python3.11/site-packages/astropy/io/fits/column.py\", line 2142, in _get_index\n",
      "    indx = names.index(key.rstrip())\n",
      "           ^^^^^^^^^^^^^^^^^^^^^^^^^\n",
      "ValueError: 'SNR' is not in list\n",
      "\n",
      "During handling of the above exception, another exception occurred:\n",
      "\n",
      "Traceback (most recent call last):\n",
      "  File \"/tmp/ipykernel_10073/3388262553.py\", line 15, in <module>\n",
      "    cdata = getSDSSVData(cfile)\n",
      "            ^^^^^^^^^^^^^^^^^^^\n",
      "  File \"/tmp/ipykernel_10073/4007893978.py\", line 3, in getSDSSVData\n",
      "    snr = hdul[3].data[\"SNR\"]\n",
      "          ~~~~~~~~~~~~^^^^^^^\n",
      "  File \"/home/petershi/miniconda3/envs/SDSSV/lib/python3.11/site-packages/astropy/io/fits/fitsrec.py\", line 513, in __getitem__\n",
      "    return self.field(key)\n",
      "           ^^^^^^^^^^^^^^^\n",
      "  File \"/home/petershi/miniconda3/envs/SDSSV/lib/python3.11/site-packages/astropy/io/fits/fitsrec.py\", line 695, in field\n",
      "    column = self.columns[key]\n",
      "             ~~~~~~~~~~~~^^^^^\n",
      "  File \"/home/petershi/miniconda3/envs/SDSSV/lib/python3.11/site-packages/astropy/io/fits/column.py\", line 1751, in __getitem__\n",
      "    key = _get_index(self.names, key)\n",
      "          ^^^^^^^^^^^^^^^^^^^^^^^^^^^\n",
      "  File \"/home/petershi/miniconda3/envs/SDSSV/lib/python3.11/site-packages/astropy/io/fits/column.py\", line 2151, in _get_index\n",
      "    raise KeyError(f\"Key '{key}' does not exist.\")\n",
      "KeyError: \"Key 'SNR' does not exist.\"\n",
      "\n"
     ]
    },
    {
     "name": "stderr",
     "output_type": "stream",
     "text": [
      " 53%|█████▎    | 80946/153700 [7:15:45<10:16:15,  1.97it/s]"
     ]
    },
    {
     "name": "stdout",
     "output_type": "stream",
     "text": [
      "File 27021597917745541 not found in /yngve_data/sdssv/ipl-2/spectro/astra/0.3.0/v6_0_9-1.0/spectra/star\n"
     ]
    },
    {
     "name": "stderr",
     "output_type": "stream",
     "text": [
      " 53%|█████▎    | 80947/153700 [7:15:45<10:26:36,  1.94it/s]"
     ]
    },
    {
     "name": "stdout",
     "output_type": "stream",
     "text": [
      "File 27021597917746743 not found in /yngve_data/sdssv/ipl-2/spectro/astra/0.3.0/v6_0_9-1.0/spectra/star\n"
     ]
    },
    {
     "name": "stderr",
     "output_type": "stream",
     "text": [
      " 53%|█████▎    | 80948/153700 [7:15:46<10:36:16,  1.91it/s]"
     ]
    },
    {
     "name": "stdout",
     "output_type": "stream",
     "text": [
      "File 27021597917747412 not found in /yngve_data/sdssv/ipl-2/spectro/astra/0.3.0/v6_0_9-1.0/spectra/star\n"
     ]
    },
    {
     "name": "stderr",
     "output_type": "stream",
     "text": [
      " 53%|█████▎    | 80949/153700 [7:15:46<10:48:03,  1.87it/s]"
     ]
    },
    {
     "name": "stdout",
     "output_type": "stream",
     "text": [
      "File 27021597917747999 not found in /yngve_data/sdssv/ipl-2/spectro/astra/0.3.0/v6_0_9-1.0/spectra/star\n"
     ]
    },
    {
     "name": "stderr",
     "output_type": "stream",
     "text": [
      " 53%|█████▎    | 80950/153700 [7:15:47<10:52:48,  1.86it/s]"
     ]
    },
    {
     "name": "stdout",
     "output_type": "stream",
     "text": [
      "File 27021597917753419 not found in /yngve_data/sdssv/ipl-2/spectro/astra/0.3.0/v6_0_9-1.0/spectra/star\n"
     ]
    },
    {
     "name": "stderr",
     "output_type": "stream",
     "text": [
      " 53%|█████▎    | 80951/153700 [7:15:47<10:54:06,  1.85it/s]"
     ]
    },
    {
     "name": "stdout",
     "output_type": "stream",
     "text": [
      "File 27021597917754563 not found in /yngve_data/sdssv/ipl-2/spectro/astra/0.3.0/v6_0_9-1.0/spectra/star\n"
     ]
    },
    {
     "name": "stderr",
     "output_type": "stream",
     "text": [
      " 53%|█████▎    | 80952/153700 [7:15:48<10:57:07,  1.85it/s]"
     ]
    },
    {
     "name": "stdout",
     "output_type": "stream",
     "text": [
      "File 27021597917765268 not found in /yngve_data/sdssv/ipl-2/spectro/astra/0.3.0/v6_0_9-1.0/spectra/star\n"
     ]
    },
    {
     "name": "stderr",
     "output_type": "stream",
     "text": [
      " 53%|█████▎    | 80953/153700 [7:15:49<10:58:06,  1.84it/s]"
     ]
    },
    {
     "name": "stdout",
     "output_type": "stream",
     "text": [
      "File 27021597917765803 not found in /yngve_data/sdssv/ipl-2/spectro/astra/0.3.0/v6_0_9-1.0/spectra/star\n"
     ]
    },
    {
     "name": "stderr",
     "output_type": "stream",
     "text": [
      " 53%|█████▎    | 80954/153700 [7:15:49<10:54:30,  1.85it/s]"
     ]
    },
    {
     "name": "stdout",
     "output_type": "stream",
     "text": [
      "File 27021597917766478 not found in /yngve_data/sdssv/ipl-2/spectro/astra/0.3.0/v6_0_9-1.0/spectra/star\n"
     ]
    },
    {
     "name": "stderr",
     "output_type": "stream",
     "text": [
      " 53%|█████▎    | 80955/153700 [7:15:50<10:50:50,  1.86it/s]"
     ]
    },
    {
     "name": "stdout",
     "output_type": "stream",
     "text": [
      "File 27021597917766751 not found in /yngve_data/sdssv/ipl-2/spectro/astra/0.3.0/v6_0_9-1.0/spectra/star\n"
     ]
    },
    {
     "name": "stderr",
     "output_type": "stream",
     "text": [
      " 53%|█████▎    | 80956/153700 [7:15:50<10:48:50,  1.87it/s]"
     ]
    },
    {
     "name": "stdout",
     "output_type": "stream",
     "text": [
      "File 27021597917767496 not found in /yngve_data/sdssv/ipl-2/spectro/astra/0.3.0/v6_0_9-1.0/spectra/star\n"
     ]
    },
    {
     "name": "stderr",
     "output_type": "stream",
     "text": [
      " 53%|█████▎    | 80957/153700 [7:15:51<10:45:39,  1.88it/s]"
     ]
    },
    {
     "name": "stdout",
     "output_type": "stream",
     "text": [
      "File 27021597917767606 not found in /yngve_data/sdssv/ipl-2/spectro/astra/0.3.0/v6_0_9-1.0/spectra/star\n"
     ]
    },
    {
     "name": "stderr",
     "output_type": "stream",
     "text": [
      " 53%|█████▎    | 80958/153700 [7:15:51<10:48:15,  1.87it/s]"
     ]
    },
    {
     "name": "stdout",
     "output_type": "stream",
     "text": [
      "File 27021597917768226 not found in /yngve_data/sdssv/ipl-2/spectro/astra/0.3.0/v6_0_9-1.0/spectra/star\n",
      "Traceback (most recent call last):\n",
      "  File \"/home/petershi/miniconda3/envs/SDSSV/lib/python3.11/site-packages/astropy/io/fits/column.py\", line 2142, in _get_index\n",
      "    indx = names.index(key.rstrip())\n",
      "           ^^^^^^^^^^^^^^^^^^^^^^^^^\n",
      "ValueError: 'SNR' is not in list\n",
      "\n",
      "During handling of the above exception, another exception occurred:\n",
      "\n",
      "Traceback (most recent call last):\n",
      "  File \"/tmp/ipykernel_10073/3388262553.py\", line 15, in <module>\n",
      "    cdata = getSDSSVData(cfile)\n",
      "            ^^^^^^^^^^^^^^^^^^^\n",
      "  File \"/tmp/ipykernel_10073/4007893978.py\", line 3, in getSDSSVData\n",
      "    snr = hdul[3].data[\"SNR\"]\n",
      "          ~~~~~~~~~~~~^^^^^^^\n",
      "  File \"/home/petershi/miniconda3/envs/SDSSV/lib/python3.11/site-packages/astropy/io/fits/fitsrec.py\", line 513, in __getitem__\n",
      "    return self.field(key)\n",
      "           ^^^^^^^^^^^^^^^\n",
      "  File \"/home/petershi/miniconda3/envs/SDSSV/lib/python3.11/site-packages/astropy/io/fits/fitsrec.py\", line 695, in field\n",
      "    column = self.columns[key]\n",
      "             ~~~~~~~~~~~~^^^^^\n",
      "  File \"/home/petershi/miniconda3/envs/SDSSV/lib/python3.11/site-packages/astropy/io/fits/column.py\", line 1751, in __getitem__\n",
      "    key = _get_index(self.names, key)\n",
      "          ^^^^^^^^^^^^^^^^^^^^^^^^^^^\n",
      "  File \"/home/petershi/miniconda3/envs/SDSSV/lib/python3.11/site-packages/astropy/io/fits/column.py\", line 2151, in _get_index\n",
      "    raise KeyError(f\"Key '{key}' does not exist.\")\n",
      "KeyError: \"Key 'SNR' does not exist.\"\n",
      "\n"
     ]
    },
    {
     "name": "stderr",
     "output_type": "stream",
     "text": [
      " 53%|█████▎    | 80960/153700 [7:15:52<9:41:33,  2.08it/s] "
     ]
    },
    {
     "name": "stdout",
     "output_type": "stream",
     "text": [
      "File 27021597917770690 not found in /yngve_data/sdssv/ipl-2/spectro/astra/0.3.0/v6_0_9-1.0/spectra/star\n"
     ]
    },
    {
     "name": "stderr",
     "output_type": "stream",
     "text": [
      " 53%|█████▎    | 80961/153700 [7:15:53<10:00:41,  2.02it/s]"
     ]
    },
    {
     "name": "stdout",
     "output_type": "stream",
     "text": [
      "File 27021597917771797 not found in /yngve_data/sdssv/ipl-2/spectro/astra/0.3.0/v6_0_9-1.0/spectra/star\n"
     ]
    },
    {
     "name": "stderr",
     "output_type": "stream",
     "text": [
      " 53%|█████▎    | 80962/153700 [7:15:53<10:12:11,  1.98it/s]"
     ]
    },
    {
     "name": "stdout",
     "output_type": "stream",
     "text": [
      "File 27021597917772503 not found in /yngve_data/sdssv/ipl-2/spectro/astra/0.3.0/v6_0_9-1.0/spectra/star\n"
     ]
    },
    {
     "name": "stderr",
     "output_type": "stream",
     "text": [
      " 53%|█████▎    | 80963/153700 [7:15:54<10:22:30,  1.95it/s]"
     ]
    },
    {
     "name": "stdout",
     "output_type": "stream",
     "text": [
      "File 27021597917773037 not found in /yngve_data/sdssv/ipl-2/spectro/astra/0.3.0/v6_0_9-1.0/spectra/star\n"
     ]
    },
    {
     "name": "stderr",
     "output_type": "stream",
     "text": [
      " 53%|█████▎    | 80964/153700 [7:15:54<10:30:40,  1.92it/s]"
     ]
    },
    {
     "name": "stdout",
     "output_type": "stream",
     "text": [
      "File 27021597917774938 not found in /yngve_data/sdssv/ipl-2/spectro/astra/0.3.0/v6_0_9-1.0/spectra/star\n"
     ]
    },
    {
     "name": "stderr",
     "output_type": "stream",
     "text": [
      " 53%|█████▎    | 80965/153700 [7:15:55<10:33:42,  1.91it/s]"
     ]
    },
    {
     "name": "stdout",
     "output_type": "stream",
     "text": [
      "File 27021597917777039 not found in /yngve_data/sdssv/ipl-2/spectro/astra/0.3.0/v6_0_9-1.0/spectra/star\n"
     ]
    },
    {
     "name": "stderr",
     "output_type": "stream",
     "text": [
      " 53%|█████▎    | 80966/153700 [7:15:55<10:41:12,  1.89it/s]"
     ]
    },
    {
     "name": "stdout",
     "output_type": "stream",
     "text": [
      "File 27021597917777217 not found in /yngve_data/sdssv/ipl-2/spectro/astra/0.3.0/v6_0_9-1.0/spectra/star\n"
     ]
    },
    {
     "name": "stderr",
     "output_type": "stream",
     "text": [
      " 53%|█████▎    | 80967/153700 [7:15:56<10:47:03,  1.87it/s]"
     ]
    },
    {
     "name": "stdout",
     "output_type": "stream",
     "text": [
      "File 27021597917790539 not found in /yngve_data/sdssv/ipl-2/spectro/astra/0.3.0/v6_0_9-1.0/spectra/star\n"
     ]
    },
    {
     "name": "stderr",
     "output_type": "stream",
     "text": [
      " 53%|█████▎    | 80968/153700 [7:15:56<10:46:50,  1.87it/s]"
     ]
    },
    {
     "name": "stdout",
     "output_type": "stream",
     "text": [
      "File 27021597917791097 not found in /yngve_data/sdssv/ipl-2/spectro/astra/0.3.0/v6_0_9-1.0/spectra/star\n"
     ]
    },
    {
     "name": "stderr",
     "output_type": "stream",
     "text": [
      " 53%|█████▎    | 80969/153700 [7:15:57<10:54:12,  1.85it/s]"
     ]
    },
    {
     "name": "stdout",
     "output_type": "stream",
     "text": [
      "File 27021597917809904 not found in /yngve_data/sdssv/ipl-2/spectro/astra/0.3.0/v6_0_9-1.0/spectra/star\n"
     ]
    },
    {
     "name": "stderr",
     "output_type": "stream",
     "text": [
      " 53%|█████▎    | 80970/153700 [7:15:57<10:54:20,  1.85it/s]"
     ]
    },
    {
     "name": "stdout",
     "output_type": "stream",
     "text": [
      "File 27021597917810130 not found in /yngve_data/sdssv/ipl-2/spectro/astra/0.3.0/v6_0_9-1.0/spectra/star\n"
     ]
    },
    {
     "name": "stderr",
     "output_type": "stream",
     "text": [
      " 53%|█████▎    | 80971/153700 [7:15:58<10:58:41,  1.84it/s]"
     ]
    },
    {
     "name": "stdout",
     "output_type": "stream",
     "text": [
      "File 27021597917811087 not found in /yngve_data/sdssv/ipl-2/spectro/astra/0.3.0/v6_0_9-1.0/spectra/star\n"
     ]
    },
    {
     "name": "stderr",
     "output_type": "stream",
     "text": [
      " 53%|█████▎    | 80972/153700 [7:15:59<11:10:55,  1.81it/s]"
     ]
    },
    {
     "name": "stdout",
     "output_type": "stream",
     "text": [
      "File 27021597917811752 not found in /yngve_data/sdssv/ipl-2/spectro/astra/0.3.0/v6_0_9-1.0/spectra/star\n"
     ]
    },
    {
     "name": "stderr",
     "output_type": "stream",
     "text": [
      " 53%|█████▎    | 80973/153700 [7:15:59<11:09:51,  1.81it/s]"
     ]
    },
    {
     "name": "stdout",
     "output_type": "stream",
     "text": [
      "File 27021597917811900 not found in /yngve_data/sdssv/ipl-2/spectro/astra/0.3.0/v6_0_9-1.0/spectra/star\n"
     ]
    },
    {
     "name": "stderr",
     "output_type": "stream",
     "text": [
      " 53%|█████▎    | 80974/153700 [7:16:00<11:05:59,  1.82it/s]"
     ]
    },
    {
     "name": "stdout",
     "output_type": "stream",
     "text": [
      "File 27021597917811949 not found in /yngve_data/sdssv/ipl-2/spectro/astra/0.3.0/v6_0_9-1.0/spectra/star\n"
     ]
    },
    {
     "name": "stderr",
     "output_type": "stream",
     "text": [
      " 53%|█████▎    | 80975/153700 [7:16:00<11:02:26,  1.83it/s]"
     ]
    },
    {
     "name": "stdout",
     "output_type": "stream",
     "text": [
      "File 27021597917812056 not found in /yngve_data/sdssv/ipl-2/spectro/astra/0.3.0/v6_0_9-1.0/spectra/star\n"
     ]
    },
    {
     "name": "stderr",
     "output_type": "stream",
     "text": [
      " 53%|█████▎    | 80976/153700 [7:16:01<11:00:11,  1.84it/s]"
     ]
    },
    {
     "name": "stdout",
     "output_type": "stream",
     "text": [
      "File 27021597917812064 not found in /yngve_data/sdssv/ipl-2/spectro/astra/0.3.0/v6_0_9-1.0/spectra/star\n"
     ]
    },
    {
     "name": "stderr",
     "output_type": "stream",
     "text": [
      " 53%|█████▎    | 80977/153700 [7:16:01<10:56:38,  1.85it/s]"
     ]
    },
    {
     "name": "stdout",
     "output_type": "stream",
     "text": [
      "File 27021597917812265 not found in /yngve_data/sdssv/ipl-2/spectro/astra/0.3.0/v6_0_9-1.0/spectra/star\n"
     ]
    },
    {
     "name": "stderr",
     "output_type": "stream",
     "text": [
      " 53%|█████▎    | 80978/153700 [7:16:02<10:57:40,  1.84it/s]"
     ]
    },
    {
     "name": "stdout",
     "output_type": "stream",
     "text": [
      "File 27021597917817461 not found in /yngve_data/sdssv/ipl-2/spectro/astra/0.3.0/v6_0_9-1.0/spectra/star\n"
     ]
    },
    {
     "name": "stderr",
     "output_type": "stream",
     "text": [
      " 53%|█████▎    | 80980/153700 [7:16:02<8:20:43,  2.42it/s] "
     ]
    },
    {
     "name": "stdout",
     "output_type": "stream",
     "text": [
      "File 27021597917817743 not found in /yngve_data/sdssv/ipl-2/spectro/astra/0.3.0/v6_0_9-1.0/spectra/star\n"
     ]
    },
    {
     "name": "stderr",
     "output_type": "stream",
     "text": [
      " 53%|█████▎    | 80984/153700 [7:16:03<3:46:24,  5.35it/s]"
     ]
    },
    {
     "name": "stdout",
     "output_type": "stream",
     "text": [
      "Traceback (most recent call last):\n",
      "  File \"/home/petershi/miniconda3/envs/SDSSV/lib/python3.11/site-packages/astropy/io/fits/column.py\", line 2142, in _get_index\n",
      "    indx = names.index(key.rstrip())\n",
      "           ^^^^^^^^^^^^^^^^^^^^^^^^^\n",
      "ValueError: 'SNR' is not in list\n",
      "\n",
      "During handling of the above exception, another exception occurred:\n",
      "\n",
      "Traceback (most recent call last):\n",
      "  File \"/tmp/ipykernel_10073/3388262553.py\", line 15, in <module>\n",
      "    cdata = getSDSSVData(cfile)\n",
      "            ^^^^^^^^^^^^^^^^^^^\n",
      "  File \"/tmp/ipykernel_10073/4007893978.py\", line 3, in getSDSSVData\n",
      "    snr = hdul[3].data[\"SNR\"]\n",
      "          ~~~~~~~~~~~~^^^^^^^\n",
      "  File \"/home/petershi/miniconda3/envs/SDSSV/lib/python3.11/site-packages/astropy/io/fits/fitsrec.py\", line 513, in __getitem__\n",
      "    return self.field(key)\n",
      "           ^^^^^^^^^^^^^^^\n",
      "  File \"/home/petershi/miniconda3/envs/SDSSV/lib/python3.11/site-packages/astropy/io/fits/fitsrec.py\", line 695, in field\n",
      "    column = self.columns[key]\n",
      "             ~~~~~~~~~~~~^^^^^\n",
      "  File \"/home/petershi/miniconda3/envs/SDSSV/lib/python3.11/site-packages/astropy/io/fits/column.py\", line 1751, in __getitem__\n",
      "    key = _get_index(self.names, key)\n",
      "          ^^^^^^^^^^^^^^^^^^^^^^^^^^^\n",
      "  File \"/home/petershi/miniconda3/envs/SDSSV/lib/python3.11/site-packages/astropy/io/fits/column.py\", line 2151, in _get_index\n",
      "    raise KeyError(f\"Key '{key}' does not exist.\")\n",
      "KeyError: \"Key 'SNR' does not exist.\"\n",
      "\n"
     ]
    },
    {
     "name": "stderr",
     "output_type": "stream",
     "text": [
      " 53%|█████▎    | 80986/153700 [7:16:04<5:00:55,  4.03it/s]"
     ]
    },
    {
     "name": "stdout",
     "output_type": "stream",
     "text": [
      "File 27021597918441342 not found in /yngve_data/sdssv/ipl-2/spectro/astra/0.3.0/v6_0_9-1.0/spectra/star\n"
     ]
    },
    {
     "name": "stderr",
     "output_type": "stream",
     "text": [
      " 53%|█████▎    | 80988/153700 [7:16:04<6:12:27,  3.25it/s]"
     ]
    },
    {
     "name": "stdout",
     "output_type": "stream",
     "text": [
      "File 27021597918441571 not found in /yngve_data/sdssv/ipl-2/spectro/astra/0.3.0/v6_0_9-1.0/spectra/star\n"
     ]
    },
    {
     "name": "stderr",
     "output_type": "stream",
     "text": [
      " 53%|█████▎    | 80990/153700 [7:16:05<6:17:58,  3.21it/s]"
     ]
    },
    {
     "name": "stdout",
     "output_type": "stream",
     "text": [
      "File 27021597918441696 not found in /yngve_data/sdssv/ipl-2/spectro/astra/0.3.0/v6_0_9-1.0/spectra/star\n"
     ]
    },
    {
     "name": "stderr",
     "output_type": "stream",
     "text": [
      " 53%|█████▎    | 80995/153700 [7:16:06<5:23:49,  3.74it/s]"
     ]
    },
    {
     "name": "stdout",
     "output_type": "stream",
     "text": [
      "File 27021597918442220 not found in /yngve_data/sdssv/ipl-2/spectro/astra/0.3.0/v6_0_9-1.0/spectra/star\n"
     ]
    },
    {
     "name": "stderr",
     "output_type": "stream",
     "text": [
      " 53%|█████▎    | 81001/153700 [7:16:08<7:08:35,  2.83it/s]"
     ]
    },
    {
     "name": "stdout",
     "output_type": "stream",
     "text": [
      "File 27021597918476623 not found in /yngve_data/sdssv/ipl-2/spectro/astra/0.3.0/v6_0_9-1.0/spectra/star\n"
     ]
    },
    {
     "name": "stderr",
     "output_type": "stream",
     "text": [
      " 53%|█████▎    | 81008/153700 [7:16:11<9:44:44,  2.07it/s]"
     ]
    },
    {
     "name": "stdout",
     "output_type": "stream",
     "text": [
      "File 27021597918477647 not found in /yngve_data/sdssv/ipl-2/spectro/astra/0.3.0/v6_0_9-1.0/spectra/star\n"
     ]
    },
    {
     "name": "stderr",
     "output_type": "stream",
     "text": [
      " 53%|█████▎    | 81015/153700 [7:16:15<9:40:42,  2.09it/s]"
     ]
    },
    {
     "name": "stdout",
     "output_type": "stream",
     "text": [
      "Traceback (most recent call last):\n",
      "  File \"/home/petershi/miniconda3/envs/SDSSV/lib/python3.11/site-packages/astropy/io/fits/column.py\", line 2142, in _get_index\n",
      "    indx = names.index(key.rstrip())\n",
      "           ^^^^^^^^^^^^^^^^^^^^^^^^^\n",
      "ValueError: 'SNR' is not in list\n",
      "\n",
      "During handling of the above exception, another exception occurred:\n",
      "\n",
      "Traceback (most recent call last):\n",
      "  File \"/tmp/ipykernel_10073/3388262553.py\", line 15, in <module>\n",
      "    cdata = getSDSSVData(cfile)\n",
      "            ^^^^^^^^^^^^^^^^^^^\n",
      "  File \"/tmp/ipykernel_10073/4007893978.py\", line 3, in getSDSSVData\n",
      "    snr = hdul[3].data[\"SNR\"]\n",
      "          ~~~~~~~~~~~~^^^^^^^\n",
      "  File \"/home/petershi/miniconda3/envs/SDSSV/lib/python3.11/site-packages/astropy/io/fits/fitsrec.py\", line 513, in __getitem__\n",
      "    return self.field(key)\n",
      "           ^^^^^^^^^^^^^^^\n",
      "  File \"/home/petershi/miniconda3/envs/SDSSV/lib/python3.11/site-packages/astropy/io/fits/fitsrec.py\", line 695, in field\n",
      "    column = self.columns[key]\n",
      "             ~~~~~~~~~~~~^^^^^\n",
      "  File \"/home/petershi/miniconda3/envs/SDSSV/lib/python3.11/site-packages/astropy/io/fits/column.py\", line 1751, in __getitem__\n",
      "    key = _get_index(self.names, key)\n",
      "          ^^^^^^^^^^^^^^^^^^^^^^^^^^^\n",
      "  File \"/home/petershi/miniconda3/envs/SDSSV/lib/python3.11/site-packages/astropy/io/fits/column.py\", line 2151, in _get_index\n",
      "    raise KeyError(f\"Key '{key}' does not exist.\")\n",
      "KeyError: \"Key 'SNR' does not exist.\"\n",
      "\n"
     ]
    },
    {
     "name": "stderr",
     "output_type": "stream",
     "text": [
      " 53%|█████▎    | 81049/153700 [7:16:26<3:08:21,  6.43it/s] "
     ]
    },
    {
     "name": "stdout",
     "output_type": "stream",
     "text": [
      "File 27021597918481131 not found in /yngve_data/sdssv/ipl-2/spectro/astra/0.3.0/v6_0_9-1.0/spectra/star\n"
     ]
    },
    {
     "name": "stderr",
     "output_type": "stream",
     "text": [
      " 53%|█████▎    | 81086/153700 [7:16:36<2:44:58,  7.34it/s] "
     ]
    },
    {
     "name": "stdout",
     "output_type": "stream",
     "text": [
      "Traceback (most recent call last):\n",
      "  File \"/home/petershi/miniconda3/envs/SDSSV/lib/python3.11/site-packages/astropy/io/fits/column.py\", line 2142, in _get_index\n",
      "    indx = names.index(key.rstrip())\n",
      "           ^^^^^^^^^^^^^^^^^^^^^^^^^\n",
      "ValueError: 'SNR' is not in list\n",
      "\n",
      "During handling of the above exception, another exception occurred:\n",
      "\n",
      "Traceback (most recent call last):\n",
      "  File \"/tmp/ipykernel_10073/3388262553.py\", line 15, in <module>\n",
      "    cdata = getSDSSVData(cfile)\n",
      "            ^^^^^^^^^^^^^^^^^^^\n",
      "  File \"/tmp/ipykernel_10073/4007893978.py\", line 3, in getSDSSVData\n",
      "    snr = hdul[3].data[\"SNR\"]\n",
      "          ~~~~~~~~~~~~^^^^^^^\n",
      "  File \"/home/petershi/miniconda3/envs/SDSSV/lib/python3.11/site-packages/astropy/io/fits/fitsrec.py\", line 513, in __getitem__\n",
      "    return self.field(key)\n",
      "           ^^^^^^^^^^^^^^^\n",
      "  File \"/home/petershi/miniconda3/envs/SDSSV/lib/python3.11/site-packages/astropy/io/fits/fitsrec.py\", line 695, in field\n",
      "    column = self.columns[key]\n",
      "             ~~~~~~~~~~~~^^^^^\n",
      "  File \"/home/petershi/miniconda3/envs/SDSSV/lib/python3.11/site-packages/astropy/io/fits/column.py\", line 1751, in __getitem__\n",
      "    key = _get_index(self.names, key)\n",
      "          ^^^^^^^^^^^^^^^^^^^^^^^^^^^\n",
      "  File \"/home/petershi/miniconda3/envs/SDSSV/lib/python3.11/site-packages/astropy/io/fits/column.py\", line 2151, in _get_index\n",
      "    raise KeyError(f\"Key '{key}' does not exist.\")\n",
      "KeyError: \"Key 'SNR' does not exist.\"\n",
      "\n"
     ]
    },
    {
     "name": "stderr",
     "output_type": "stream",
     "text": [
      " 53%|█████▎    | 81100/153700 [7:16:41<7:55:02,  2.55it/s]"
     ]
    },
    {
     "name": "stdout",
     "output_type": "stream",
     "text": [
      "File 27021597918509682 not found in /yngve_data/sdssv/ipl-2/spectro/astra/0.3.0/v6_0_9-1.0/spectra/star\n"
     ]
    },
    {
     "name": "stderr",
     "output_type": "stream",
     "text": [
      " 53%|█████▎    | 81121/153700 [7:16:47<5:14:47,  3.84it/s] "
     ]
    },
    {
     "name": "stdout",
     "output_type": "stream",
     "text": [
      "File 27021597918532224 not found in /yngve_data/sdssv/ipl-2/spectro/astra/0.3.0/v6_0_9-1.0/spectra/star\n"
     ]
    },
    {
     "name": "stderr",
     "output_type": "stream",
     "text": [
      " 53%|█████▎    | 81124/153700 [7:16:49<8:58:52,  2.24it/s]"
     ]
    },
    {
     "name": "stdout",
     "output_type": "stream",
     "text": [
      "File 27021597918539553 not found in /yngve_data/sdssv/ipl-2/spectro/astra/0.3.0/v6_0_9-1.0/spectra/star\n"
     ]
    },
    {
     "name": "stderr",
     "output_type": "stream",
     "text": [
      " 53%|█████▎    | 81125/153700 [7:16:50<9:30:58,  2.12it/s]"
     ]
    },
    {
     "name": "stdout",
     "output_type": "stream",
     "text": [
      "File 27021597918539580 not found in /yngve_data/sdssv/ipl-2/spectro/astra/0.3.0/v6_0_9-1.0/spectra/star\n"
     ]
    },
    {
     "name": "stderr",
     "output_type": "stream",
     "text": [
      " 53%|█████▎    | 81129/153700 [7:16:52<10:57:54,  1.84it/s]"
     ]
    },
    {
     "name": "stdout",
     "output_type": "stream",
     "text": [
      "File 27021597918539812 not found in /yngve_data/sdssv/ipl-2/spectro/astra/0.3.0/v6_0_9-1.0/spectra/star\n"
     ]
    },
    {
     "name": "stderr",
     "output_type": "stream",
     "text": [
      " 53%|█████▎    | 81131/153700 [7:16:53<11:04:29,  1.82it/s]"
     ]
    },
    {
     "name": "stdout",
     "output_type": "stream",
     "text": [
      "File 27021597918539997 not found in /yngve_data/sdssv/ipl-2/spectro/astra/0.3.0/v6_0_9-1.0/spectra/star\n"
     ]
    },
    {
     "name": "stderr",
     "output_type": "stream",
     "text": [
      " 53%|█████▎    | 81132/153700 [7:16:54<11:03:05,  1.82it/s]"
     ]
    },
    {
     "name": "stdout",
     "output_type": "stream",
     "text": [
      "File 27021597918540144 not found in /yngve_data/sdssv/ipl-2/spectro/astra/0.3.0/v6_0_9-1.0/spectra/star\n"
     ]
    },
    {
     "name": "stderr",
     "output_type": "stream",
     "text": [
      " 53%|█████▎    | 81135/153700 [7:16:54<6:33:10,  3.08it/s] "
     ]
    },
    {
     "name": "stdout",
     "output_type": "stream",
     "text": [
      "File 27021597918540164 not found in /yngve_data/sdssv/ipl-2/spectro/astra/0.3.0/v6_0_9-1.0/spectra/star\n"
     ]
    },
    {
     "name": "stderr",
     "output_type": "stream",
     "text": [
      " 53%|█████▎    | 81136/153700 [7:16:55<7:40:27,  2.63it/s]"
     ]
    },
    {
     "name": "stdout",
     "output_type": "stream",
     "text": [
      "File 27021597918540768 not found in /yngve_data/sdssv/ipl-2/spectro/astra/0.3.0/v6_0_9-1.0/spectra/star\n"
     ]
    },
    {
     "name": "stderr",
     "output_type": "stream",
     "text": [
      " 53%|█████▎    | 81137/153700 [7:16:55<8:34:01,  2.35it/s]"
     ]
    },
    {
     "name": "stdout",
     "output_type": "stream",
     "text": [
      "File 27021597918541130 not found in /yngve_data/sdssv/ipl-2/spectro/astra/0.3.0/v6_0_9-1.0/spectra/star\n"
     ]
    },
    {
     "name": "stderr",
     "output_type": "stream",
     "text": [
      " 53%|█████▎    | 81138/153700 [7:16:56<9:10:01,  2.20it/s]"
     ]
    },
    {
     "name": "stdout",
     "output_type": "stream",
     "text": [
      "File 27021597918541148 not found in /yngve_data/sdssv/ipl-2/spectro/astra/0.3.0/v6_0_9-1.0/spectra/star\n"
     ]
    },
    {
     "name": "stderr",
     "output_type": "stream",
     "text": [
      " 53%|█████▎    | 81140/153700 [7:16:57<7:33:37,  2.67it/s]"
     ]
    },
    {
     "name": "stdout",
     "output_type": "stream",
     "text": [
      "File 27021597918541163 not found in /yngve_data/sdssv/ipl-2/spectro/astra/0.3.0/v6_0_9-1.0/spectra/star\n"
     ]
    },
    {
     "name": "stderr",
     "output_type": "stream",
     "text": [
      " 53%|█████▎    | 81142/153700 [7:16:57<6:52:04,  2.93it/s]"
     ]
    },
    {
     "name": "stdout",
     "output_type": "stream",
     "text": [
      "File 27021597918541393 not found in /yngve_data/sdssv/ipl-2/spectro/astra/0.3.0/v6_0_9-1.0/spectra/star\n"
     ]
    },
    {
     "name": "stderr",
     "output_type": "stream",
     "text": [
      " 53%|█████▎    | 81143/153700 [7:16:58<8:10:40,  2.46it/s]"
     ]
    },
    {
     "name": "stdout",
     "output_type": "stream",
     "text": [
      "File 27021597918541503 not found in /yngve_data/sdssv/ipl-2/spectro/astra/0.3.0/v6_0_9-1.0/spectra/star\n"
     ]
    },
    {
     "name": "stderr",
     "output_type": "stream",
     "text": [
      " 53%|█████▎    | 81145/153700 [7:16:59<7:23:08,  2.73it/s]"
     ]
    },
    {
     "name": "stdout",
     "output_type": "stream",
     "text": [
      "File 27021597918541713 not found in /yngve_data/sdssv/ipl-2/spectro/astra/0.3.0/v6_0_9-1.0/spectra/star\n"
     ]
    },
    {
     "name": "stderr",
     "output_type": "stream",
     "text": [
      " 53%|█████▎    | 81147/153700 [7:16:59<7:33:44,  2.66it/s]"
     ]
    },
    {
     "name": "stdout",
     "output_type": "stream",
     "text": [
      "File 27021597918542258 not found in /yngve_data/sdssv/ipl-2/spectro/astra/0.3.0/v6_0_9-1.0/spectra/star\n"
     ]
    },
    {
     "name": "stderr",
     "output_type": "stream",
     "text": [
      " 53%|█████▎    | 81149/153700 [7:17:00<7:08:11,  2.82it/s]"
     ]
    },
    {
     "name": "stdout",
     "output_type": "stream",
     "text": [
      "File 27021597918542554 not found in /yngve_data/sdssv/ipl-2/spectro/astra/0.3.0/v6_0_9-1.0/spectra/star\n"
     ]
    },
    {
     "name": "stderr",
     "output_type": "stream",
     "text": [
      " 53%|█████▎    | 81150/153700 [7:17:01<8:18:55,  2.42it/s]"
     ]
    },
    {
     "name": "stdout",
     "output_type": "stream",
     "text": [
      "File 27021597918542911 not found in /yngve_data/sdssv/ipl-2/spectro/astra/0.3.0/v6_0_9-1.0/spectra/star\n"
     ]
    },
    {
     "name": "stderr",
     "output_type": "stream",
     "text": [
      " 53%|█████▎    | 81152/153700 [7:17:01<8:24:52,  2.39it/s]"
     ]
    },
    {
     "name": "stdout",
     "output_type": "stream",
     "text": [
      "File 27021597918543186 not found in /yngve_data/sdssv/ipl-2/spectro/astra/0.3.0/v6_0_9-1.0/spectra/star\n"
     ]
    },
    {
     "name": "stderr",
     "output_type": "stream",
     "text": [
      " 53%|█████▎    | 81154/153700 [7:17:02<6:45:05,  2.98it/s]"
     ]
    },
    {
     "name": "stdout",
     "output_type": "stream",
     "text": [
      "Traceback (most recent call last):\n",
      "  File \"/home/petershi/miniconda3/envs/SDSSV/lib/python3.11/site-packages/astropy/io/fits/column.py\", line 2142, in _get_index\n",
      "    indx = names.index(key.rstrip())\n",
      "           ^^^^^^^^^^^^^^^^^^^^^^^^^\n",
      "ValueError: 'SNR' is not in list\n",
      "\n",
      "During handling of the above exception, another exception occurred:\n",
      "\n",
      "Traceback (most recent call last):\n",
      "  File \"/tmp/ipykernel_10073/3388262553.py\", line 15, in <module>\n",
      "    cdata = getSDSSVData(cfile)\n",
      "            ^^^^^^^^^^^^^^^^^^^\n",
      "  File \"/tmp/ipykernel_10073/4007893978.py\", line 3, in getSDSSVData\n",
      "    snr = hdul[3].data[\"SNR\"]\n",
      "          ~~~~~~~~~~~~^^^^^^^\n",
      "  File \"/home/petershi/miniconda3/envs/SDSSV/lib/python3.11/site-packages/astropy/io/fits/fitsrec.py\", line 513, in __getitem__\n",
      "    return self.field(key)\n",
      "           ^^^^^^^^^^^^^^^\n",
      "  File \"/home/petershi/miniconda3/envs/SDSSV/lib/python3.11/site-packages/astropy/io/fits/fitsrec.py\", line 695, in field\n",
      "    column = self.columns[key]\n",
      "             ~~~~~~~~~~~~^^^^^\n",
      "  File \"/home/petershi/miniconda3/envs/SDSSV/lib/python3.11/site-packages/astropy/io/fits/column.py\", line 1751, in __getitem__\n",
      "    key = _get_index(self.names, key)\n",
      "          ^^^^^^^^^^^^^^^^^^^^^^^^^^^\n",
      "  File \"/home/petershi/miniconda3/envs/SDSSV/lib/python3.11/site-packages/astropy/io/fits/column.py\", line 2151, in _get_index\n",
      "    raise KeyError(f\"Key '{key}' does not exist.\")\n",
      "KeyError: \"Key 'SNR' does not exist.\"\n",
      "\n"
     ]
    },
    {
     "name": "stderr",
     "output_type": "stream",
     "text": [
      " 53%|█████▎    | 81156/153700 [7:17:03<7:45:09,  2.60it/s]"
     ]
    },
    {
     "name": "stdout",
     "output_type": "stream",
     "text": [
      "File 27021597918543764 not found in /yngve_data/sdssv/ipl-2/spectro/astra/0.3.0/v6_0_9-1.0/spectra/star\n"
     ]
    },
    {
     "name": "stderr",
     "output_type": "stream",
     "text": [
      " 53%|█████▎    | 81157/153700 [7:17:03<6:49:51,  2.95it/s]"
     ]
    },
    {
     "name": "stdout",
     "output_type": "stream",
     "text": [
      "Traceback (most recent call last):\n",
      "  File \"/home/petershi/miniconda3/envs/SDSSV/lib/python3.11/site-packages/astropy/io/fits/column.py\", line 2142, in _get_index\n",
      "    indx = names.index(key.rstrip())\n",
      "           ^^^^^^^^^^^^^^^^^^^^^^^^^\n",
      "ValueError: 'SNR' is not in list\n",
      "\n",
      "During handling of the above exception, another exception occurred:\n",
      "\n",
      "Traceback (most recent call last):\n",
      "  File \"/tmp/ipykernel_10073/3388262553.py\", line 15, in <module>\n",
      "    cdata = getSDSSVData(cfile)\n",
      "            ^^^^^^^^^^^^^^^^^^^\n",
      "  File \"/tmp/ipykernel_10073/4007893978.py\", line 3, in getSDSSVData\n",
      "    snr = hdul[3].data[\"SNR\"]\n",
      "          ~~~~~~~~~~~~^^^^^^^\n",
      "  File \"/home/petershi/miniconda3/envs/SDSSV/lib/python3.11/site-packages/astropy/io/fits/fitsrec.py\", line 513, in __getitem__\n",
      "    return self.field(key)\n",
      "           ^^^^^^^^^^^^^^^\n",
      "  File \"/home/petershi/miniconda3/envs/SDSSV/lib/python3.11/site-packages/astropy/io/fits/fitsrec.py\", line 695, in field\n",
      "    column = self.columns[key]\n",
      "             ~~~~~~~~~~~~^^^^^\n",
      "  File \"/home/petershi/miniconda3/envs/SDSSV/lib/python3.11/site-packages/astropy/io/fits/column.py\", line 1751, in __getitem__\n",
      "    key = _get_index(self.names, key)\n",
      "          ^^^^^^^^^^^^^^^^^^^^^^^^^^^\n",
      "  File \"/home/petershi/miniconda3/envs/SDSSV/lib/python3.11/site-packages/astropy/io/fits/column.py\", line 2151, in _get_index\n",
      "    raise KeyError(f\"Key '{key}' does not exist.\")\n",
      "KeyError: \"Key 'SNR' does not exist.\"\n",
      "\n"
     ]
    },
    {
     "name": "stderr",
     "output_type": "stream",
     "text": [
      " 53%|█████▎    | 81158/153700 [7:17:03<8:02:39,  2.50it/s]"
     ]
    },
    {
     "name": "stdout",
     "output_type": "stream",
     "text": [
      "File 27021597918544039 not found in /yngve_data/sdssv/ipl-2/spectro/astra/0.3.0/v6_0_9-1.0/spectra/star\n"
     ]
    },
    {
     "name": "stderr",
     "output_type": "stream",
     "text": [
      " 53%|█████▎    | 81159/153700 [7:17:04<8:57:20,  2.25it/s]"
     ]
    },
    {
     "name": "stdout",
     "output_type": "stream",
     "text": [
      "File 27021597918544159 not found in /yngve_data/sdssv/ipl-2/spectro/astra/0.3.0/v6_0_9-1.0/spectra/star\n"
     ]
    },
    {
     "name": "stderr",
     "output_type": "stream",
     "text": [
      " 53%|█████▎    | 81161/153700 [7:17:05<9:04:51,  2.22it/s]"
     ]
    },
    {
     "name": "stdout",
     "output_type": "stream",
     "text": [
      "File 27021597918544300 not found in /yngve_data/sdssv/ipl-2/spectro/astra/0.3.0/v6_0_9-1.0/spectra/star\n"
     ]
    },
    {
     "name": "stderr",
     "output_type": "stream",
     "text": [
      " 53%|█████▎    | 81166/153700 [7:17:07<7:55:17,  2.54it/s]"
     ]
    },
    {
     "name": "stdout",
     "output_type": "stream",
     "text": [
      "File 27021597918544902 not found in /yngve_data/sdssv/ipl-2/spectro/astra/0.3.0/v6_0_9-1.0/spectra/star\n"
     ]
    },
    {
     "name": "stderr",
     "output_type": "stream",
     "text": [
      " 53%|█████▎    | 81168/153700 [7:17:07<8:27:20,  2.38it/s]"
     ]
    },
    {
     "name": "stdout",
     "output_type": "stream",
     "text": [
      "File 27021597918544997 not found in /yngve_data/sdssv/ipl-2/spectro/astra/0.3.0/v6_0_9-1.0/spectra/star\n"
     ]
    },
    {
     "name": "stderr",
     "output_type": "stream",
     "text": [
      " 53%|█████▎    | 81171/153700 [7:17:09<9:57:38,  2.02it/s]"
     ]
    },
    {
     "name": "stdout",
     "output_type": "stream",
     "text": [
      "File 27021597918545749 not found in /yngve_data/sdssv/ipl-2/spectro/astra/0.3.0/v6_0_9-1.0/spectra/star\n"
     ]
    },
    {
     "name": "stderr",
     "output_type": "stream",
     "text": [
      " 53%|█████▎    | 81173/153700 [7:17:10<10:07:18,  1.99it/s]"
     ]
    },
    {
     "name": "stdout",
     "output_type": "stream",
     "text": [
      "File 27021597918546456 not found in /yngve_data/sdssv/ipl-2/spectro/astra/0.3.0/v6_0_9-1.0/spectra/star\n"
     ]
    },
    {
     "name": "stderr",
     "output_type": "stream",
     "text": [
      " 53%|█████▎    | 81175/153700 [7:17:11<10:04:00,  2.00it/s]"
     ]
    },
    {
     "name": "stdout",
     "output_type": "stream",
     "text": [
      "File 27021597918546670 not found in /yngve_data/sdssv/ipl-2/spectro/astra/0.3.0/v6_0_9-1.0/spectra/star\n"
     ]
    },
    {
     "name": "stderr",
     "output_type": "stream",
     "text": [
      " 53%|█████▎    | 81178/153700 [7:17:12<9:37:07,  2.09it/s] "
     ]
    },
    {
     "name": "stdout",
     "output_type": "stream",
     "text": [
      "File 27021597918546874 not found in /yngve_data/sdssv/ipl-2/spectro/astra/0.3.0/v6_0_9-1.0/spectra/star\n"
     ]
    },
    {
     "name": "stderr",
     "output_type": "stream",
     "text": [
      " 53%|█████▎    | 81180/153700 [7:17:13<9:43:16,  2.07it/s]"
     ]
    },
    {
     "name": "stdout",
     "output_type": "stream",
     "text": [
      "File 27021597918547024 not found in /yngve_data/sdssv/ipl-2/spectro/astra/0.3.0/v6_0_9-1.0/spectra/star\n"
     ]
    },
    {
     "name": "stderr",
     "output_type": "stream",
     "text": [
      " 53%|█████▎    | 81182/153700 [7:17:14<10:12:14,  1.97it/s]"
     ]
    },
    {
     "name": "stdout",
     "output_type": "stream",
     "text": [
      "File 27021597918548941 not found in /yngve_data/sdssv/ipl-2/spectro/astra/0.3.0/v6_0_9-1.0/spectra/star\n"
     ]
    },
    {
     "name": "stderr",
     "output_type": "stream",
     "text": [
      " 53%|█████▎    | 81183/153700 [7:17:15<10:13:56,  1.97it/s]"
     ]
    },
    {
     "name": "stdout",
     "output_type": "stream",
     "text": [
      "Traceback (most recent call last):\n",
      "  File \"/home/petershi/miniconda3/envs/SDSSV/lib/python3.11/site-packages/astropy/io/fits/column.py\", line 2142, in _get_index\n",
      "    indx = names.index(key.rstrip())\n",
      "           ^^^^^^^^^^^^^^^^^^^^^^^^^\n",
      "ValueError: 'SNR' is not in list\n",
      "\n",
      "During handling of the above exception, another exception occurred:\n",
      "\n",
      "Traceback (most recent call last):\n",
      "  File \"/tmp/ipykernel_10073/3388262553.py\", line 15, in <module>\n",
      "    cdata = getSDSSVData(cfile)\n",
      "            ^^^^^^^^^^^^^^^^^^^\n",
      "  File \"/tmp/ipykernel_10073/4007893978.py\", line 3, in getSDSSVData\n",
      "    snr = hdul[3].data[\"SNR\"]\n",
      "          ~~~~~~~~~~~~^^^^^^^\n",
      "  File \"/home/petershi/miniconda3/envs/SDSSV/lib/python3.11/site-packages/astropy/io/fits/fitsrec.py\", line 513, in __getitem__\n",
      "    return self.field(key)\n",
      "           ^^^^^^^^^^^^^^^\n",
      "  File \"/home/petershi/miniconda3/envs/SDSSV/lib/python3.11/site-packages/astropy/io/fits/fitsrec.py\", line 695, in field\n",
      "    column = self.columns[key]\n",
      "             ~~~~~~~~~~~~^^^^^\n",
      "  File \"/home/petershi/miniconda3/envs/SDSSV/lib/python3.11/site-packages/astropy/io/fits/column.py\", line 1751, in __getitem__\n",
      "    key = _get_index(self.names, key)\n",
      "          ^^^^^^^^^^^^^^^^^^^^^^^^^^^\n",
      "  File \"/home/petershi/miniconda3/envs/SDSSV/lib/python3.11/site-packages/astropy/io/fits/column.py\", line 2151, in _get_index\n",
      "    raise KeyError(f\"Key '{key}' does not exist.\")\n",
      "KeyError: \"Key 'SNR' does not exist.\"\n",
      "\n"
     ]
    },
    {
     "name": "stderr",
     "output_type": "stream",
     "text": [
      " 53%|█████▎    | 81184/153700 [7:17:15<10:41:15,  1.88it/s]"
     ]
    },
    {
     "name": "stdout",
     "output_type": "stream",
     "text": [
      "File 27021597918549149 not found in /yngve_data/sdssv/ipl-2/spectro/astra/0.3.0/v6_0_9-1.0/spectra/star\n"
     ]
    },
    {
     "name": "stderr",
     "output_type": "stream",
     "text": [
      " 53%|█████▎    | 81185/153700 [7:17:16<10:43:42,  1.88it/s]"
     ]
    },
    {
     "name": "stdout",
     "output_type": "stream",
     "text": [
      "File 27021597918549153 not found in /yngve_data/sdssv/ipl-2/spectro/astra/0.3.0/v6_0_9-1.0/spectra/star\n"
     ]
    },
    {
     "name": "stderr",
     "output_type": "stream",
     "text": [
      " 53%|█████▎    | 81191/153700 [7:17:19<11:18:17,  1.78it/s]"
     ]
    },
    {
     "name": "stdout",
     "output_type": "stream",
     "text": [
      "Traceback (most recent call last):\n",
      "  File \"/home/petershi/miniconda3/envs/SDSSV/lib/python3.11/site-packages/astropy/io/fits/column.py\", line 2142, in _get_index\n",
      "    indx = names.index(key.rstrip())\n",
      "           ^^^^^^^^^^^^^^^^^^^^^^^^^\n",
      "ValueError: 'SNR' is not in list\n",
      "\n",
      "During handling of the above exception, another exception occurred:\n",
      "\n",
      "Traceback (most recent call last):\n",
      "  File \"/tmp/ipykernel_10073/3388262553.py\", line 15, in <module>\n",
      "    cdata = getSDSSVData(cfile)\n",
      "            ^^^^^^^^^^^^^^^^^^^\n",
      "  File \"/tmp/ipykernel_10073/4007893978.py\", line 3, in getSDSSVData\n",
      "    snr = hdul[3].data[\"SNR\"]\n",
      "          ~~~~~~~~~~~~^^^^^^^\n",
      "  File \"/home/petershi/miniconda3/envs/SDSSV/lib/python3.11/site-packages/astropy/io/fits/fitsrec.py\", line 513, in __getitem__\n",
      "    return self.field(key)\n",
      "           ^^^^^^^^^^^^^^^\n",
      "  File \"/home/petershi/miniconda3/envs/SDSSV/lib/python3.11/site-packages/astropy/io/fits/fitsrec.py\", line 695, in field\n",
      "    column = self.columns[key]\n",
      "             ~~~~~~~~~~~~^^^^^\n",
      "  File \"/home/petershi/miniconda3/envs/SDSSV/lib/python3.11/site-packages/astropy/io/fits/column.py\", line 1751, in __getitem__\n",
      "    key = _get_index(self.names, key)\n",
      "          ^^^^^^^^^^^^^^^^^^^^^^^^^^^\n",
      "  File \"/home/petershi/miniconda3/envs/SDSSV/lib/python3.11/site-packages/astropy/io/fits/column.py\", line 2151, in _get_index\n",
      "    raise KeyError(f\"Key '{key}' does not exist.\")\n",
      "KeyError: \"Key 'SNR' does not exist.\"\n",
      "\n"
     ]
    },
    {
     "name": "stderr",
     "output_type": "stream",
     "text": [
      " 53%|█████▎    | 81194/153700 [7:17:20<6:34:01,  3.07it/s] "
     ]
    },
    {
     "name": "stdout",
     "output_type": "stream",
     "text": [
      "File 27021597918549971 not found in /yngve_data/sdssv/ipl-2/spectro/astra/0.3.0/v6_0_9-1.0/spectra/star\n"
     ]
    },
    {
     "name": "stderr",
     "output_type": "stream",
     "text": [
      " 53%|█████▎    | 81195/153700 [7:17:20<7:39:23,  2.63it/s]"
     ]
    },
    {
     "name": "stdout",
     "output_type": "stream",
     "text": [
      "File 27021597918550563 not found in /yngve_data/sdssv/ipl-2/spectro/astra/0.3.0/v6_0_9-1.0/spectra/star\n"
     ]
    },
    {
     "name": "stderr",
     "output_type": "stream",
     "text": [
      " 53%|█████▎    | 81196/153700 [7:17:21<8:27:48,  2.38it/s]"
     ]
    },
    {
     "name": "stdout",
     "output_type": "stream",
     "text": [
      "File 27021597918551285 not found in /yngve_data/sdssv/ipl-2/spectro/astra/0.3.0/v6_0_9-1.0/spectra/star\n"
     ]
    },
    {
     "name": "stderr",
     "output_type": "stream",
     "text": [
      " 53%|█████▎    | 81197/153700 [7:17:21<9:04:22,  2.22it/s]"
     ]
    },
    {
     "name": "stdout",
     "output_type": "stream",
     "text": [
      "File 27021597918551414 not found in /yngve_data/sdssv/ipl-2/spectro/astra/0.3.0/v6_0_9-1.0/spectra/star\n",
      "Traceback (most recent call last):\n",
      "  File \"/home/petershi/miniconda3/envs/SDSSV/lib/python3.11/site-packages/astropy/io/fits/column.py\", line 2142, in _get_index\n",
      "    indx = names.index(key.rstrip())\n",
      "           ^^^^^^^^^^^^^^^^^^^^^^^^^\n",
      "ValueError: 'SNR' is not in list\n",
      "\n",
      "During handling of the above exception, another exception occurred:\n",
      "\n",
      "Traceback (most recent call last):\n",
      "  File \"/tmp/ipykernel_10073/3388262553.py\", line 15, in <module>\n",
      "    cdata = getSDSSVData(cfile)\n",
      "            ^^^^^^^^^^^^^^^^^^^\n",
      "  File \"/tmp/ipykernel_10073/4007893978.py\", line 3, in getSDSSVData\n",
      "    snr = hdul[3].data[\"SNR\"]\n",
      "          ~~~~~~~~~~~~^^^^^^^\n",
      "  File \"/home/petershi/miniconda3/envs/SDSSV/lib/python3.11/site-packages/astropy/io/fits/fitsrec.py\", line 513, in __getitem__\n",
      "    return self.field(key)\n",
      "           ^^^^^^^^^^^^^^^\n",
      "  File \"/home/petershi/miniconda3/envs/SDSSV/lib/python3.11/site-packages/astropy/io/fits/fitsrec.py\", line 695, in field\n",
      "    column = self.columns[key]\n",
      "             ~~~~~~~~~~~~^^^^^\n",
      "  File \"/home/petershi/miniconda3/envs/SDSSV/lib/python3.11/site-packages/astropy/io/fits/column.py\", line 1751, in __getitem__\n",
      "    key = _get_index(self.names, key)\n",
      "          ^^^^^^^^^^^^^^^^^^^^^^^^^^^\n",
      "  File \"/home/petershi/miniconda3/envs/SDSSV/lib/python3.11/site-packages/astropy/io/fits/column.py\", line 2151, in _get_index\n",
      "    raise KeyError(f\"Key '{key}' does not exist.\")\n",
      "KeyError: \"Key 'SNR' does not exist.\"\n",
      "\n"
     ]
    },
    {
     "name": "stderr",
     "output_type": "stream",
     "text": [
      " 53%|█████▎    | 81199/153700 [7:17:22<7:51:56,  2.56it/s]"
     ]
    },
    {
     "name": "stdout",
     "output_type": "stream",
     "text": [
      "File 27021597918579214 not found in /yngve_data/sdssv/ipl-2/spectro/astra/0.3.0/v6_0_9-1.0/spectra/star\n"
     ]
    },
    {
     "name": "stderr",
     "output_type": "stream",
     "text": [
      " 53%|█████▎    | 81200/153700 [7:17:23<8:33:23,  2.35it/s]"
     ]
    },
    {
     "name": "stdout",
     "output_type": "stream",
     "text": [
      "File 27021597918579355 not found in /yngve_data/sdssv/ipl-2/spectro/astra/0.3.0/v6_0_9-1.0/spectra/star\n"
     ]
    },
    {
     "name": "stderr",
     "output_type": "stream",
     "text": [
      " 53%|█████▎    | 81202/153700 [7:17:24<9:54:05,  2.03it/s]"
     ]
    },
    {
     "name": "stdout",
     "output_type": "stream",
     "text": [
      "File 27021597918579591 not found in /yngve_data/sdssv/ipl-2/spectro/astra/0.3.0/v6_0_9-1.0/spectra/star\n"
     ]
    },
    {
     "name": "stderr",
     "output_type": "stream",
     "text": [
      " 53%|█████▎    | 81206/153700 [7:17:26<10:58:02,  1.84it/s]"
     ]
    },
    {
     "name": "stdout",
     "output_type": "stream",
     "text": [
      "Traceback (most recent call last):\n",
      "  File \"/home/petershi/miniconda3/envs/SDSSV/lib/python3.11/site-packages/astropy/io/fits/column.py\", line 2142, in _get_index\n",
      "    indx = names.index(key.rstrip())\n",
      "           ^^^^^^^^^^^^^^^^^^^^^^^^^\n",
      "ValueError: 'SNR' is not in list\n",
      "\n",
      "During handling of the above exception, another exception occurred:\n",
      "\n",
      "Traceback (most recent call last):\n",
      "  File \"/tmp/ipykernel_10073/3388262553.py\", line 15, in <module>\n",
      "    cdata = getSDSSVData(cfile)\n",
      "            ^^^^^^^^^^^^^^^^^^^\n",
      "  File \"/tmp/ipykernel_10073/4007893978.py\", line 3, in getSDSSVData\n",
      "    snr = hdul[3].data[\"SNR\"]\n",
      "          ~~~~~~~~~~~~^^^^^^^\n",
      "  File \"/home/petershi/miniconda3/envs/SDSSV/lib/python3.11/site-packages/astropy/io/fits/fitsrec.py\", line 513, in __getitem__\n",
      "    return self.field(key)\n",
      "           ^^^^^^^^^^^^^^^\n",
      "  File \"/home/petershi/miniconda3/envs/SDSSV/lib/python3.11/site-packages/astropy/io/fits/fitsrec.py\", line 695, in field\n",
      "    column = self.columns[key]\n",
      "             ~~~~~~~~~~~~^^^^^\n",
      "  File \"/home/petershi/miniconda3/envs/SDSSV/lib/python3.11/site-packages/astropy/io/fits/column.py\", line 1751, in __getitem__\n",
      "    key = _get_index(self.names, key)\n",
      "          ^^^^^^^^^^^^^^^^^^^^^^^^^^^\n",
      "  File \"/home/petershi/miniconda3/envs/SDSSV/lib/python3.11/site-packages/astropy/io/fits/column.py\", line 2151, in _get_index\n",
      "    raise KeyError(f\"Key '{key}' does not exist.\")\n",
      "KeyError: \"Key 'SNR' does not exist.\"\n",
      "\n"
     ]
    },
    {
     "name": "stderr",
     "output_type": "stream",
     "text": [
      " 53%|█████▎    | 81207/153700 [7:17:27<10:54:54,  1.84it/s]"
     ]
    },
    {
     "name": "stdout",
     "output_type": "stream",
     "text": [
      "File 27021597918580095 not found in /yngve_data/sdssv/ipl-2/spectro/astra/0.3.0/v6_0_9-1.0/spectra/star\n"
     ]
    },
    {
     "name": "stderr",
     "output_type": "stream",
     "text": [
      " 53%|█████▎    | 81211/153700 [7:17:27<5:44:40,  3.51it/s] "
     ]
    },
    {
     "name": "stdout",
     "output_type": "stream",
     "text": [
      "File 27021597918580141 not found in /yngve_data/sdssv/ipl-2/spectro/astra/0.3.0/v6_0_9-1.0/spectra/star\n"
     ]
    },
    {
     "name": "stderr",
     "output_type": "stream",
     "text": [
      " 53%|█████▎    | 81212/153700 [7:17:28<6:54:42,  2.91it/s]"
     ]
    },
    {
     "name": "stdout",
     "output_type": "stream",
     "text": [
      "File 27021597918580717 not found in /yngve_data/sdssv/ipl-2/spectro/astra/0.3.0/v6_0_9-1.0/spectra/star\n"
     ]
    },
    {
     "name": "stderr",
     "output_type": "stream",
     "text": [
      " 53%|█████▎    | 81213/153700 [7:17:28<7:51:15,  2.56it/s]"
     ]
    },
    {
     "name": "stdout",
     "output_type": "stream",
     "text": [
      "File 27021597918580871 not found in /yngve_data/sdssv/ipl-2/spectro/astra/0.3.0/v6_0_9-1.0/spectra/star\n"
     ]
    },
    {
     "name": "stderr",
     "output_type": "stream",
     "text": [
      " 53%|█████▎    | 81215/153700 [7:17:29<6:56:13,  2.90it/s]"
     ]
    },
    {
     "name": "stdout",
     "output_type": "stream",
     "text": [
      "File 27021597918580938 not found in /yngve_data/sdssv/ipl-2/spectro/astra/0.3.0/v6_0_9-1.0/spectra/star\n"
     ]
    },
    {
     "name": "stderr",
     "output_type": "stream",
     "text": [
      " 53%|█████▎    | 81217/153700 [7:17:30<6:26:48,  3.12it/s]"
     ]
    },
    {
     "name": "stdout",
     "output_type": "stream",
     "text": [
      "File 27021597918581207 not found in /yngve_data/sdssv/ipl-2/spectro/astra/0.3.0/v6_0_9-1.0/spectra/star\n"
     ]
    },
    {
     "name": "stderr",
     "output_type": "stream",
     "text": [
      " 53%|█████▎    | 81219/153700 [7:17:30<6:09:11,  3.27it/s]"
     ]
    },
    {
     "name": "stdout",
     "output_type": "stream",
     "text": [
      "File 27021597918581357 not found in /yngve_data/sdssv/ipl-2/spectro/astra/0.3.0/v6_0_9-1.0/spectra/star\n"
     ]
    },
    {
     "name": "stderr",
     "output_type": "stream",
     "text": [
      " 53%|█████▎    | 81220/153700 [7:17:31<7:30:41,  2.68it/s]"
     ]
    },
    {
     "name": "stdout",
     "output_type": "stream",
     "text": [
      "File 27021597918581636 not found in /yngve_data/sdssv/ipl-2/spectro/astra/0.3.0/v6_0_9-1.0/spectra/star\n"
     ]
    },
    {
     "name": "stderr",
     "output_type": "stream",
     "text": [
      " 53%|█████▎    | 81222/153700 [7:17:32<6:49:44,  2.95it/s]"
     ]
    },
    {
     "name": "stdout",
     "output_type": "stream",
     "text": [
      "File 27021597918581910 not found in /yngve_data/sdssv/ipl-2/spectro/astra/0.3.0/v6_0_9-1.0/spectra/star\n"
     ]
    },
    {
     "name": "stderr",
     "output_type": "stream",
     "text": [
      " 53%|█████▎    | 81227/153700 [7:17:33<6:02:33,  3.33it/s]"
     ]
    },
    {
     "name": "stdout",
     "output_type": "stream",
     "text": [
      "File 27021597918582798 not found in /yngve_data/sdssv/ipl-2/spectro/astra/0.3.0/v6_0_9-1.0/spectra/star\n"
     ]
    },
    {
     "name": "stderr",
     "output_type": "stream",
     "text": [
      " 53%|█████▎    | 81228/153700 [7:17:33<7:28:13,  2.69it/s]"
     ]
    },
    {
     "name": "stdout",
     "output_type": "stream",
     "text": [
      "File 27021597918582820 not found in /yngve_data/sdssv/ipl-2/spectro/astra/0.3.0/v6_0_9-1.0/spectra/star\n"
     ]
    },
    {
     "name": "stderr",
     "output_type": "stream",
     "text": [
      " 53%|█████▎    | 81229/153700 [7:17:34<8:33:16,  2.35it/s]"
     ]
    },
    {
     "name": "stdout",
     "output_type": "stream",
     "text": [
      "File 27021597918582956 not found in /yngve_data/sdssv/ipl-2/spectro/astra/0.3.0/v6_0_9-1.0/spectra/star\n"
     ]
    },
    {
     "name": "stderr",
     "output_type": "stream",
     "text": [
      " 53%|█████▎    | 81230/153700 [7:17:34<7:28:53,  2.69it/s]"
     ]
    },
    {
     "name": "stdout",
     "output_type": "stream",
     "text": [
      "Traceback (most recent call last):\n",
      "  File \"/home/petershi/miniconda3/envs/SDSSV/lib/python3.11/site-packages/astropy/io/fits/column.py\", line 2142, in _get_index\n",
      "    indx = names.index(key.rstrip())\n",
      "           ^^^^^^^^^^^^^^^^^^^^^^^^^\n",
      "ValueError: 'SNR' is not in list\n",
      "\n",
      "During handling of the above exception, another exception occurred:\n",
      "\n",
      "Traceback (most recent call last):\n",
      "  File \"/tmp/ipykernel_10073/3388262553.py\", line 15, in <module>\n",
      "    cdata = getSDSSVData(cfile)\n",
      "            ^^^^^^^^^^^^^^^^^^^\n",
      "  File \"/tmp/ipykernel_10073/4007893978.py\", line 3, in getSDSSVData\n",
      "    snr = hdul[3].data[\"SNR\"]\n",
      "          ~~~~~~~~~~~~^^^^^^^\n",
      "  File \"/home/petershi/miniconda3/envs/SDSSV/lib/python3.11/site-packages/astropy/io/fits/fitsrec.py\", line 513, in __getitem__\n",
      "    return self.field(key)\n",
      "           ^^^^^^^^^^^^^^^\n",
      "  File \"/home/petershi/miniconda3/envs/SDSSV/lib/python3.11/site-packages/astropy/io/fits/fitsrec.py\", line 695, in field\n",
      "    column = self.columns[key]\n",
      "             ~~~~~~~~~~~~^^^^^\n",
      "  File \"/home/petershi/miniconda3/envs/SDSSV/lib/python3.11/site-packages/astropy/io/fits/column.py\", line 1751, in __getitem__\n",
      "    key = _get_index(self.names, key)\n",
      "          ^^^^^^^^^^^^^^^^^^^^^^^^^^^\n",
      "  File \"/home/petershi/miniconda3/envs/SDSSV/lib/python3.11/site-packages/astropy/io/fits/column.py\", line 2151, in _get_index\n",
      "    raise KeyError(f\"Key '{key}' does not exist.\")\n",
      "KeyError: \"Key 'SNR' does not exist.\"\n",
      "\n"
     ]
    },
    {
     "name": "stderr",
     "output_type": "stream",
     "text": [
      " 53%|█████▎    | 81231/153700 [7:17:34<6:51:27,  2.94it/s]"
     ]
    },
    {
     "name": "stdout",
     "output_type": "stream",
     "text": [
      "Traceback (most recent call last):\n",
      "  File \"/home/petershi/miniconda3/envs/SDSSV/lib/python3.11/site-packages/astropy/io/fits/column.py\", line 2142, in _get_index\n",
      "    indx = names.index(key.rstrip())\n",
      "           ^^^^^^^^^^^^^^^^^^^^^^^^^\n",
      "ValueError: 'SNR' is not in list\n",
      "\n",
      "During handling of the above exception, another exception occurred:\n",
      "\n",
      "Traceback (most recent call last):\n",
      "  File \"/tmp/ipykernel_10073/3388262553.py\", line 15, in <module>\n",
      "    cdata = getSDSSVData(cfile)\n",
      "            ^^^^^^^^^^^^^^^^^^^\n",
      "  File \"/tmp/ipykernel_10073/4007893978.py\", line 3, in getSDSSVData\n",
      "    snr = hdul[3].data[\"SNR\"]\n",
      "          ~~~~~~~~~~~~^^^^^^^\n",
      "  File \"/home/petershi/miniconda3/envs/SDSSV/lib/python3.11/site-packages/astropy/io/fits/fitsrec.py\", line 513, in __getitem__\n",
      "    return self.field(key)\n",
      "           ^^^^^^^^^^^^^^^\n",
      "  File \"/home/petershi/miniconda3/envs/SDSSV/lib/python3.11/site-packages/astropy/io/fits/fitsrec.py\", line 695, in field\n",
      "    column = self.columns[key]\n",
      "             ~~~~~~~~~~~~^^^^^\n",
      "  File \"/home/petershi/miniconda3/envs/SDSSV/lib/python3.11/site-packages/astropy/io/fits/column.py\", line 1751, in __getitem__\n",
      "    key = _get_index(self.names, key)\n",
      "          ^^^^^^^^^^^^^^^^^^^^^^^^^^^\n",
      "  File \"/home/petershi/miniconda3/envs/SDSSV/lib/python3.11/site-packages/astropy/io/fits/column.py\", line 2151, in _get_index\n",
      "    raise KeyError(f\"Key '{key}' does not exist.\")\n",
      "KeyError: \"Key 'SNR' does not exist.\"\n",
      "\n"
     ]
    },
    {
     "name": "stderr",
     "output_type": "stream",
     "text": [
      " 53%|█████▎    | 81233/153700 [7:17:35<7:52:10,  2.56it/s]"
     ]
    },
    {
     "name": "stdout",
     "output_type": "stream",
     "text": [
      "File 27021597918584156 not found in /yngve_data/sdssv/ipl-2/spectro/astra/0.3.0/v6_0_9-1.0/spectra/star\n"
     ]
    },
    {
     "name": "stderr",
     "output_type": "stream",
     "text": [
      " 53%|█████▎    | 81236/153700 [7:17:36<6:05:03,  3.31it/s]"
     ]
    },
    {
     "name": "stdout",
     "output_type": "stream",
     "text": [
      "Traceback (most recent call last):\n",
      "  File \"/home/petershi/miniconda3/envs/SDSSV/lib/python3.11/site-packages/astropy/io/fits/column.py\", line 2142, in _get_index\n",
      "    indx = names.index(key.rstrip())\n",
      "           ^^^^^^^^^^^^^^^^^^^^^^^^^\n",
      "ValueError: 'SNR' is not in list\n",
      "\n",
      "During handling of the above exception, another exception occurred:\n",
      "\n",
      "Traceback (most recent call last):\n",
      "  File \"/tmp/ipykernel_10073/3388262553.py\", line 15, in <module>\n",
      "    cdata = getSDSSVData(cfile)\n",
      "            ^^^^^^^^^^^^^^^^^^^\n",
      "  File \"/tmp/ipykernel_10073/4007893978.py\", line 3, in getSDSSVData\n",
      "    snr = hdul[3].data[\"SNR\"]\n",
      "          ~~~~~~~~~~~~^^^^^^^\n",
      "  File \"/home/petershi/miniconda3/envs/SDSSV/lib/python3.11/site-packages/astropy/io/fits/fitsrec.py\", line 513, in __getitem__\n",
      "    return self.field(key)\n",
      "           ^^^^^^^^^^^^^^^\n",
      "  File \"/home/petershi/miniconda3/envs/SDSSV/lib/python3.11/site-packages/astropy/io/fits/fitsrec.py\", line 695, in field\n",
      "    column = self.columns[key]\n",
      "             ~~~~~~~~~~~~^^^^^\n",
      "  File \"/home/petershi/miniconda3/envs/SDSSV/lib/python3.11/site-packages/astropy/io/fits/column.py\", line 1751, in __getitem__\n",
      "    key = _get_index(self.names, key)\n",
      "          ^^^^^^^^^^^^^^^^^^^^^^^^^^^\n",
      "  File \"/home/petershi/miniconda3/envs/SDSSV/lib/python3.11/site-packages/astropy/io/fits/column.py\", line 2151, in _get_index\n",
      "    raise KeyError(f\"Key '{key}' does not exist.\")\n",
      "KeyError: \"Key 'SNR' does not exist.\"\n",
      "\n"
     ]
    },
    {
     "name": "stderr",
     "output_type": "stream",
     "text": [
      " 53%|█████▎    | 81237/153700 [7:17:36<7:30:49,  2.68it/s]"
     ]
    },
    {
     "name": "stdout",
     "output_type": "stream",
     "text": [
      "File 27021597918584446 not found in /yngve_data/sdssv/ipl-2/spectro/astra/0.3.0/v6_0_9-1.0/spectra/star\n"
     ]
    },
    {
     "name": "stderr",
     "output_type": "stream",
     "text": [
      " 53%|█████▎    | 81239/153700 [7:17:37<8:05:04,  2.49it/s]"
     ]
    },
    {
     "name": "stdout",
     "output_type": "stream",
     "text": [
      "File 27021597918584675 not found in /yngve_data/sdssv/ipl-2/spectro/astra/0.3.0/v6_0_9-1.0/spectra/star\n"
     ]
    },
    {
     "name": "stderr",
     "output_type": "stream",
     "text": [
      " 53%|█████▎    | 81240/153700 [7:17:38<8:57:22,  2.25it/s]"
     ]
    },
    {
     "name": "stdout",
     "output_type": "stream",
     "text": [
      "File 27021597918585358 not found in /yngve_data/sdssv/ipl-2/spectro/astra/0.3.0/v6_0_9-1.0/spectra/star\n"
     ]
    },
    {
     "name": "stderr",
     "output_type": "stream",
     "text": [
      " 53%|█████▎    | 81245/153700 [7:17:40<8:33:07,  2.35it/s]"
     ]
    },
    {
     "name": "stdout",
     "output_type": "stream",
     "text": [
      "File 27021597918585793 not found in /yngve_data/sdssv/ipl-2/spectro/astra/0.3.0/v6_0_9-1.0/spectra/star\n"
     ]
    },
    {
     "name": "stderr",
     "output_type": "stream",
     "text": [
      " 53%|█████▎    | 81246/153700 [7:17:40<8:07:24,  2.48it/s]"
     ]
    },
    {
     "name": "stdout",
     "output_type": "stream",
     "text": [
      "Traceback (most recent call last):\n",
      "  File \"/home/petershi/miniconda3/envs/SDSSV/lib/python3.11/site-packages/astropy/io/fits/column.py\", line 2142, in _get_index\n",
      "    indx = names.index(key.rstrip())\n",
      "           ^^^^^^^^^^^^^^^^^^^^^^^^^\n",
      "ValueError: 'SNR' is not in list\n",
      "\n",
      "During handling of the above exception, another exception occurred:\n",
      "\n",
      "Traceback (most recent call last):\n",
      "  File \"/tmp/ipykernel_10073/3388262553.py\", line 15, in <module>\n",
      "    cdata = getSDSSVData(cfile)\n",
      "            ^^^^^^^^^^^^^^^^^^^\n",
      "  File \"/tmp/ipykernel_10073/4007893978.py\", line 3, in getSDSSVData\n",
      "    snr = hdul[3].data[\"SNR\"]\n",
      "          ~~~~~~~~~~~~^^^^^^^\n",
      "  File \"/home/petershi/miniconda3/envs/SDSSV/lib/python3.11/site-packages/astropy/io/fits/fitsrec.py\", line 513, in __getitem__\n",
      "    return self.field(key)\n",
      "           ^^^^^^^^^^^^^^^\n",
      "  File \"/home/petershi/miniconda3/envs/SDSSV/lib/python3.11/site-packages/astropy/io/fits/fitsrec.py\", line 695, in field\n",
      "    column = self.columns[key]\n",
      "             ~~~~~~~~~~~~^^^^^\n",
      "  File \"/home/petershi/miniconda3/envs/SDSSV/lib/python3.11/site-packages/astropy/io/fits/column.py\", line 1751, in __getitem__\n",
      "    key = _get_index(self.names, key)\n",
      "          ^^^^^^^^^^^^^^^^^^^^^^^^^^^\n",
      "  File \"/home/petershi/miniconda3/envs/SDSSV/lib/python3.11/site-packages/astropy/io/fits/column.py\", line 2151, in _get_index\n",
      "    raise KeyError(f\"Key '{key}' does not exist.\")\n",
      "KeyError: \"Key 'SNR' does not exist.\"\n",
      "\n"
     ]
    },
    {
     "name": "stderr",
     "output_type": "stream",
     "text": [
      " 53%|█████▎    | 81247/153700 [7:17:40<7:53:26,  2.55it/s]"
     ]
    },
    {
     "name": "stdout",
     "output_type": "stream",
     "text": [
      "Traceback (most recent call last):\n",
      "  File \"/home/petershi/miniconda3/envs/SDSSV/lib/python3.11/site-packages/astropy/io/fits/column.py\", line 2142, in _get_index\n",
      "    indx = names.index(key.rstrip())\n",
      "           ^^^^^^^^^^^^^^^^^^^^^^^^^\n",
      "ValueError: 'SNR' is not in list\n",
      "\n",
      "During handling of the above exception, another exception occurred:\n",
      "\n",
      "Traceback (most recent call last):\n",
      "  File \"/tmp/ipykernel_10073/3388262553.py\", line 15, in <module>\n",
      "    cdata = getSDSSVData(cfile)\n",
      "            ^^^^^^^^^^^^^^^^^^^\n",
      "  File \"/tmp/ipykernel_10073/4007893978.py\", line 3, in getSDSSVData\n",
      "    snr = hdul[3].data[\"SNR\"]\n",
      "          ~~~~~~~~~~~~^^^^^^^\n",
      "  File \"/home/petershi/miniconda3/envs/SDSSV/lib/python3.11/site-packages/astropy/io/fits/fitsrec.py\", line 513, in __getitem__\n",
      "    return self.field(key)\n",
      "           ^^^^^^^^^^^^^^^\n",
      "  File \"/home/petershi/miniconda3/envs/SDSSV/lib/python3.11/site-packages/astropy/io/fits/fitsrec.py\", line 695, in field\n",
      "    column = self.columns[key]\n",
      "             ~~~~~~~~~~~~^^^^^\n",
      "  File \"/home/petershi/miniconda3/envs/SDSSV/lib/python3.11/site-packages/astropy/io/fits/column.py\", line 1751, in __getitem__\n",
      "    key = _get_index(self.names, key)\n",
      "          ^^^^^^^^^^^^^^^^^^^^^^^^^^^\n",
      "  File \"/home/petershi/miniconda3/envs/SDSSV/lib/python3.11/site-packages/astropy/io/fits/column.py\", line 2151, in _get_index\n",
      "    raise KeyError(f\"Key '{key}' does not exist.\")\n",
      "KeyError: \"Key 'SNR' does not exist.\"\n",
      "\n"
     ]
    },
    {
     "name": "stderr",
     "output_type": "stream",
     "text": [
      " 53%|█████▎    | 81250/153700 [7:17:42<8:52:21,  2.27it/s]"
     ]
    },
    {
     "name": "stdout",
     "output_type": "stream",
     "text": [
      "File 27021597918586596 not found in /yngve_data/sdssv/ipl-2/spectro/astra/0.3.0/v6_0_9-1.0/spectra/star\n"
     ]
    },
    {
     "name": "stderr",
     "output_type": "stream",
     "text": [
      " 53%|█████▎    | 81253/153700 [7:17:43<9:23:52,  2.14it/s]"
     ]
    },
    {
     "name": "stdout",
     "output_type": "stream",
     "text": [
      "File 27021597918586750 not found in /yngve_data/sdssv/ipl-2/spectro/astra/0.3.0/v6_0_9-1.0/spectra/star\n"
     ]
    },
    {
     "name": "stderr",
     "output_type": "stream",
     "text": [
      " 53%|█████▎    | 81254/153700 [7:17:44<9:54:51,  2.03it/s]"
     ]
    },
    {
     "name": "stdout",
     "output_type": "stream",
     "text": [
      "File 27021597918586802 not found in /yngve_data/sdssv/ipl-2/spectro/astra/0.3.0/v6_0_9-1.0/spectra/star\n"
     ]
    },
    {
     "name": "stderr",
     "output_type": "stream",
     "text": [
      " 53%|█████▎    | 81257/153700 [7:17:45<9:50:55,  2.04it/s]"
     ]
    },
    {
     "name": "stdout",
     "output_type": "stream",
     "text": [
      "File 27021597918588422 not found in /yngve_data/sdssv/ipl-2/spectro/astra/0.3.0/v6_0_9-1.0/spectra/star\n"
     ]
    },
    {
     "name": "stderr",
     "output_type": "stream",
     "text": [
      " 53%|█████▎    | 81258/153700 [7:17:46<10:13:41,  1.97it/s]"
     ]
    },
    {
     "name": "stdout",
     "output_type": "stream",
     "text": [
      "File 27021597918588449 not found in /yngve_data/sdssv/ipl-2/spectro/astra/0.3.0/v6_0_9-1.0/spectra/star\n"
     ]
    },
    {
     "name": "stderr",
     "output_type": "stream",
     "text": [
      " 53%|█████▎    | 81259/153700 [7:17:46<10:30:57,  1.91it/s]"
     ]
    },
    {
     "name": "stdout",
     "output_type": "stream",
     "text": [
      "File 27021597918588507 not found in /yngve_data/sdssv/ipl-2/spectro/astra/0.3.0/v6_0_9-1.0/spectra/star\n"
     ]
    },
    {
     "name": "stderr",
     "output_type": "stream",
     "text": [
      " 53%|█████▎    | 81260/153700 [7:17:47<10:39:47,  1.89it/s]"
     ]
    },
    {
     "name": "stdout",
     "output_type": "stream",
     "text": [
      "File 27021597918588569 not found in /yngve_data/sdssv/ipl-2/spectro/astra/0.3.0/v6_0_9-1.0/spectra/star\n"
     ]
    },
    {
     "name": "stderr",
     "output_type": "stream",
     "text": [
      " 53%|█████▎    | 81262/153700 [7:17:48<10:47:31,  1.86it/s]"
     ]
    },
    {
     "name": "stdout",
     "output_type": "stream",
     "text": [
      "File 27021597918588857 not found in /yngve_data/sdssv/ipl-2/spectro/astra/0.3.0/v6_0_9-1.0/spectra/star\n"
     ]
    },
    {
     "name": "stderr",
     "output_type": "stream",
     "text": [
      " 53%|█████▎    | 81345/153700 [7:18:14<6:53:13,  2.92it/s] "
     ]
    },
    {
     "name": "stdout",
     "output_type": "stream",
     "text": [
      "Traceback (most recent call last):\n",
      "  File \"/home/petershi/miniconda3/envs/SDSSV/lib/python3.11/site-packages/astropy/io/fits/column.py\", line 2142, in _get_index\n",
      "    indx = names.index(key.rstrip())\n",
      "           ^^^^^^^^^^^^^^^^^^^^^^^^^\n",
      "ValueError: 'SNR' is not in list\n",
      "\n",
      "During handling of the above exception, another exception occurred:\n",
      "\n",
      "Traceback (most recent call last):\n",
      "  File \"/tmp/ipykernel_10073/3388262553.py\", line 15, in <module>\n",
      "    cdata = getSDSSVData(cfile)\n",
      "            ^^^^^^^^^^^^^^^^^^^\n",
      "  File \"/tmp/ipykernel_10073/4007893978.py\", line 3, in getSDSSVData\n",
      "    snr = hdul[3].data[\"SNR\"]\n",
      "          ~~~~~~~~~~~~^^^^^^^\n",
      "  File \"/home/petershi/miniconda3/envs/SDSSV/lib/python3.11/site-packages/astropy/io/fits/fitsrec.py\", line 513, in __getitem__\n",
      "    return self.field(key)\n",
      "           ^^^^^^^^^^^^^^^\n",
      "  File \"/home/petershi/miniconda3/envs/SDSSV/lib/python3.11/site-packages/astropy/io/fits/fitsrec.py\", line 695, in field\n",
      "    column = self.columns[key]\n",
      "             ~~~~~~~~~~~~^^^^^\n",
      "  File \"/home/petershi/miniconda3/envs/SDSSV/lib/python3.11/site-packages/astropy/io/fits/column.py\", line 1751, in __getitem__\n",
      "    key = _get_index(self.names, key)\n",
      "          ^^^^^^^^^^^^^^^^^^^^^^^^^^^\n",
      "  File \"/home/petershi/miniconda3/envs/SDSSV/lib/python3.11/site-packages/astropy/io/fits/column.py\", line 2151, in _get_index\n",
      "    raise KeyError(f\"Key '{key}' does not exist.\")\n",
      "KeyError: \"Key 'SNR' does not exist.\"\n",
      "\n"
     ]
    },
    {
     "name": "stderr",
     "output_type": "stream",
     "text": [
      " 53%|█████▎    | 81388/153700 [7:18:27<5:11:16,  3.87it/s] "
     ]
    },
    {
     "name": "stdout",
     "output_type": "stream",
     "text": [
      "File 27021597918802429 not found in /yngve_data/sdssv/ipl-2/spectro/astra/0.3.0/v6_0_9-1.0/spectra/star\n"
     ]
    },
    {
     "name": "stderr",
     "output_type": "stream",
     "text": [
      " 53%|█████▎    | 81391/153700 [7:18:28<4:24:54,  4.55it/s]"
     ]
    },
    {
     "name": "stdout",
     "output_type": "stream",
     "text": [
      "Traceback (most recent call last):\n",
      "  File \"/home/petershi/miniconda3/envs/SDSSV/lib/python3.11/site-packages/astropy/io/fits/column.py\", line 2142, in _get_index\n",
      "    indx = names.index(key.rstrip())\n",
      "           ^^^^^^^^^^^^^^^^^^^^^^^^^\n",
      "ValueError: 'SNR' is not in list\n",
      "\n",
      "During handling of the above exception, another exception occurred:\n",
      "\n",
      "Traceback (most recent call last):\n",
      "  File \"/tmp/ipykernel_10073/3388262553.py\", line 15, in <module>\n",
      "    cdata = getSDSSVData(cfile)\n",
      "            ^^^^^^^^^^^^^^^^^^^\n",
      "  File \"/tmp/ipykernel_10073/4007893978.py\", line 3, in getSDSSVData\n",
      "    snr = hdul[3].data[\"SNR\"]\n",
      "          ~~~~~~~~~~~~^^^^^^^\n",
      "  File \"/home/petershi/miniconda3/envs/SDSSV/lib/python3.11/site-packages/astropy/io/fits/fitsrec.py\", line 513, in __getitem__\n",
      "    return self.field(key)\n",
      "           ^^^^^^^^^^^^^^^\n",
      "  File \"/home/petershi/miniconda3/envs/SDSSV/lib/python3.11/site-packages/astropy/io/fits/fitsrec.py\", line 695, in field\n",
      "    column = self.columns[key]\n",
      "             ~~~~~~~~~~~~^^^^^\n",
      "  File \"/home/petershi/miniconda3/envs/SDSSV/lib/python3.11/site-packages/astropy/io/fits/column.py\", line 1751, in __getitem__\n",
      "    key = _get_index(self.names, key)\n",
      "          ^^^^^^^^^^^^^^^^^^^^^^^^^^^\n",
      "  File \"/home/petershi/miniconda3/envs/SDSSV/lib/python3.11/site-packages/astropy/io/fits/column.py\", line 2151, in _get_index\n",
      "    raise KeyError(f\"Key '{key}' does not exist.\")\n",
      "KeyError: \"Key 'SNR' does not exist.\"\n",
      "\n"
     ]
    },
    {
     "name": "stderr",
     "output_type": "stream",
     "text": [
      " 53%|█████▎    | 81404/153700 [7:18:31<4:52:07,  4.12it/s]"
     ]
    },
    {
     "name": "stdout",
     "output_type": "stream",
     "text": [
      "Traceback (most recent call last):\n",
      "  File \"/home/petershi/miniconda3/envs/SDSSV/lib/python3.11/site-packages/astropy/io/fits/column.py\", line 2142, in _get_index\n",
      "    indx = names.index(key.rstrip())\n",
      "           ^^^^^^^^^^^^^^^^^^^^^^^^^\n",
      "ValueError: 'SNR' is not in list\n",
      "\n",
      "During handling of the above exception, another exception occurred:\n",
      "\n",
      "Traceback (most recent call last):\n",
      "  File \"/tmp/ipykernel_10073/3388262553.py\", line 15, in <module>\n",
      "    cdata = getSDSSVData(cfile)\n",
      "            ^^^^^^^^^^^^^^^^^^^\n",
      "  File \"/tmp/ipykernel_10073/4007893978.py\", line 3, in getSDSSVData\n",
      "    snr = hdul[3].data[\"SNR\"]\n",
      "          ~~~~~~~~~~~~^^^^^^^\n",
      "  File \"/home/petershi/miniconda3/envs/SDSSV/lib/python3.11/site-packages/astropy/io/fits/fitsrec.py\", line 513, in __getitem__\n",
      "    return self.field(key)\n",
      "           ^^^^^^^^^^^^^^^\n",
      "  File \"/home/petershi/miniconda3/envs/SDSSV/lib/python3.11/site-packages/astropy/io/fits/fitsrec.py\", line 695, in field\n",
      "    column = self.columns[key]\n",
      "             ~~~~~~~~~~~~^^^^^\n",
      "  File \"/home/petershi/miniconda3/envs/SDSSV/lib/python3.11/site-packages/astropy/io/fits/column.py\", line 1751, in __getitem__\n",
      "    key = _get_index(self.names, key)\n",
      "          ^^^^^^^^^^^^^^^^^^^^^^^^^^^\n",
      "  File \"/home/petershi/miniconda3/envs/SDSSV/lib/python3.11/site-packages/astropy/io/fits/column.py\", line 2151, in _get_index\n",
      "    raise KeyError(f\"Key '{key}' does not exist.\")\n",
      "KeyError: \"Key 'SNR' does not exist.\"\n",
      "\n"
     ]
    },
    {
     "name": "stderr",
     "output_type": "stream",
     "text": [
      " 53%|█████▎    | 81411/153700 [7:18:33<5:22:52,  3.73it/s]"
     ]
    },
    {
     "name": "stdout",
     "output_type": "stream",
     "text": [
      "Traceback (most recent call last):\n",
      "  File \"/home/petershi/miniconda3/envs/SDSSV/lib/python3.11/site-packages/astropy/io/fits/column.py\", line 2142, in _get_index\n",
      "    indx = names.index(key.rstrip())\n",
      "           ^^^^^^^^^^^^^^^^^^^^^^^^^\n",
      "ValueError: 'SNR' is not in list\n",
      "\n",
      "During handling of the above exception, another exception occurred:\n",
      "\n",
      "Traceback (most recent call last):\n",
      "  File \"/tmp/ipykernel_10073/3388262553.py\", line 15, in <module>\n",
      "    cdata = getSDSSVData(cfile)\n",
      "            ^^^^^^^^^^^^^^^^^^^\n",
      "  File \"/tmp/ipykernel_10073/4007893978.py\", line 3, in getSDSSVData\n",
      "    snr = hdul[3].data[\"SNR\"]\n",
      "          ~~~~~~~~~~~~^^^^^^^\n",
      "  File \"/home/petershi/miniconda3/envs/SDSSV/lib/python3.11/site-packages/astropy/io/fits/fitsrec.py\", line 513, in __getitem__\n",
      "    return self.field(key)\n",
      "           ^^^^^^^^^^^^^^^\n",
      "  File \"/home/petershi/miniconda3/envs/SDSSV/lib/python3.11/site-packages/astropy/io/fits/fitsrec.py\", line 695, in field\n",
      "    column = self.columns[key]\n",
      "             ~~~~~~~~~~~~^^^^^\n",
      "  File \"/home/petershi/miniconda3/envs/SDSSV/lib/python3.11/site-packages/astropy/io/fits/column.py\", line 1751, in __getitem__\n",
      "    key = _get_index(self.names, key)\n",
      "          ^^^^^^^^^^^^^^^^^^^^^^^^^^^\n",
      "  File \"/home/petershi/miniconda3/envs/SDSSV/lib/python3.11/site-packages/astropy/io/fits/column.py\", line 2151, in _get_index\n",
      "    raise KeyError(f\"Key '{key}' does not exist.\")\n",
      "KeyError: \"Key 'SNR' does not exist.\"\n",
      "\n"
     ]
    },
    {
     "name": "stderr",
     "output_type": "stream",
     "text": [
      " 53%|█████▎    | 81421/153700 [7:18:36<7:09:35,  2.80it/s]"
     ]
    },
    {
     "name": "stdout",
     "output_type": "stream",
     "text": [
      "Traceback (most recent call last):\n",
      "  File \"/home/petershi/miniconda3/envs/SDSSV/lib/python3.11/site-packages/astropy/io/fits/column.py\", line 2142, in _get_index\n",
      "    indx = names.index(key.rstrip())\n",
      "           ^^^^^^^^^^^^^^^^^^^^^^^^^\n",
      "ValueError: 'SNR' is not in list\n",
      "\n",
      "During handling of the above exception, another exception occurred:\n",
      "\n",
      "Traceback (most recent call last):\n",
      "  File \"/tmp/ipykernel_10073/3388262553.py\", line 15, in <module>\n",
      "    cdata = getSDSSVData(cfile)\n",
      "            ^^^^^^^^^^^^^^^^^^^\n",
      "  File \"/tmp/ipykernel_10073/4007893978.py\", line 3, in getSDSSVData\n",
      "    snr = hdul[3].data[\"SNR\"]\n",
      "          ~~~~~~~~~~~~^^^^^^^\n",
      "  File \"/home/petershi/miniconda3/envs/SDSSV/lib/python3.11/site-packages/astropy/io/fits/fitsrec.py\", line 513, in __getitem__\n",
      "    return self.field(key)\n",
      "           ^^^^^^^^^^^^^^^\n",
      "  File \"/home/petershi/miniconda3/envs/SDSSV/lib/python3.11/site-packages/astropy/io/fits/fitsrec.py\", line 695, in field\n",
      "    column = self.columns[key]\n",
      "             ~~~~~~~~~~~~^^^^^\n",
      "  File \"/home/petershi/miniconda3/envs/SDSSV/lib/python3.11/site-packages/astropy/io/fits/column.py\", line 1751, in __getitem__\n",
      "    key = _get_index(self.names, key)\n",
      "          ^^^^^^^^^^^^^^^^^^^^^^^^^^^\n",
      "  File \"/home/petershi/miniconda3/envs/SDSSV/lib/python3.11/site-packages/astropy/io/fits/column.py\", line 2151, in _get_index\n",
      "    raise KeyError(f\"Key '{key}' does not exist.\")\n",
      "KeyError: \"Key 'SNR' does not exist.\"\n",
      "\n"
     ]
    },
    {
     "name": "stderr",
     "output_type": "stream",
     "text": [
      " 53%|█████▎    | 81426/153700 [7:18:38<4:59:08,  4.03it/s]"
     ]
    },
    {
     "name": "stdout",
     "output_type": "stream",
     "text": [
      "Traceback (most recent call last):\n",
      "  File \"/home/petershi/miniconda3/envs/SDSSV/lib/python3.11/site-packages/astropy/io/fits/column.py\", line 2142, in _get_index\n",
      "    indx = names.index(key.rstrip())\n",
      "           ^^^^^^^^^^^^^^^^^^^^^^^^^\n",
      "ValueError: 'SNR' is not in list\n",
      "\n",
      "During handling of the above exception, another exception occurred:\n",
      "\n",
      "Traceback (most recent call last):\n",
      "  File \"/tmp/ipykernel_10073/3388262553.py\", line 15, in <module>\n",
      "    cdata = getSDSSVData(cfile)\n",
      "            ^^^^^^^^^^^^^^^^^^^\n",
      "  File \"/tmp/ipykernel_10073/4007893978.py\", line 3, in getSDSSVData\n",
      "    snr = hdul[3].data[\"SNR\"]\n",
      "          ~~~~~~~~~~~~^^^^^^^\n",
      "  File \"/home/petershi/miniconda3/envs/SDSSV/lib/python3.11/site-packages/astropy/io/fits/fitsrec.py\", line 513, in __getitem__\n",
      "    return self.field(key)\n",
      "           ^^^^^^^^^^^^^^^\n",
      "  File \"/home/petershi/miniconda3/envs/SDSSV/lib/python3.11/site-packages/astropy/io/fits/fitsrec.py\", line 695, in field\n",
      "    column = self.columns[key]\n",
      "             ~~~~~~~~~~~~^^^^^\n",
      "  File \"/home/petershi/miniconda3/envs/SDSSV/lib/python3.11/site-packages/astropy/io/fits/column.py\", line 1751, in __getitem__\n",
      "    key = _get_index(self.names, key)\n",
      "          ^^^^^^^^^^^^^^^^^^^^^^^^^^^\n",
      "  File \"/home/petershi/miniconda3/envs/SDSSV/lib/python3.11/site-packages/astropy/io/fits/column.py\", line 2151, in _get_index\n",
      "    raise KeyError(f\"Key '{key}' does not exist.\")\n",
      "KeyError: \"Key 'SNR' does not exist.\"\n",
      "\n"
     ]
    },
    {
     "name": "stderr",
     "output_type": "stream",
     "text": [
      " 53%|█████▎    | 81511/153700 [7:19:06<10:50:38,  1.85it/s]"
     ]
    },
    {
     "name": "stdout",
     "output_type": "stream",
     "text": [
      "File 27021597920468311 not found in /yngve_data/sdssv/ipl-2/spectro/astra/0.3.0/v6_0_9-1.0/spectra/star\n"
     ]
    },
    {
     "name": "stderr",
     "output_type": "stream",
     "text": [
      " 53%|█████▎    | 81521/153700 [7:19:10<7:57:57,  2.52it/s] "
     ]
    },
    {
     "name": "stdout",
     "output_type": "stream",
     "text": [
      "File 27021597920477246 not found in /yngve_data/sdssv/ipl-2/spectro/astra/0.3.0/v6_0_9-1.0/spectra/star\n"
     ]
    },
    {
     "name": "stderr",
     "output_type": "stream",
     "text": [
      " 53%|█████▎    | 81550/153700 [7:19:23<9:24:03,  2.13it/s] "
     ]
    },
    {
     "name": "stdout",
     "output_type": "stream",
     "text": [
      "File 27021597920487271 not found in /yngve_data/sdssv/ipl-2/spectro/astra/0.3.0/v6_0_9-1.0/spectra/star\n"
     ]
    },
    {
     "name": "stderr",
     "output_type": "stream",
     "text": [
      " 53%|█████▎    | 81564/153700 [7:19:31<12:19:44,  1.63it/s]"
     ]
    },
    {
     "name": "stdout",
     "output_type": "stream",
     "text": [
      "File 27021597920489152 not found in /yngve_data/sdssv/ipl-2/spectro/astra/0.3.0/v6_0_9-1.0/spectra/star\n"
     ]
    },
    {
     "name": "stderr",
     "output_type": "stream",
     "text": [
      " 53%|█████▎    | 81584/153700 [7:19:37<2:24:36,  8.31it/s] "
     ]
    },
    {
     "name": "stdout",
     "output_type": "stream",
     "text": [
      "Traceback (most recent call last):\n",
      "  File \"/home/petershi/miniconda3/envs/SDSSV/lib/python3.11/site-packages/astropy/io/fits/column.py\", line 2142, in _get_index\n",
      "    indx = names.index(key.rstrip())\n",
      "           ^^^^^^^^^^^^^^^^^^^^^^^^^\n",
      "ValueError: 'SNR' is not in list\n",
      "\n",
      "During handling of the above exception, another exception occurred:\n",
      "\n",
      "Traceback (most recent call last):\n",
      "  File \"/tmp/ipykernel_10073/3388262553.py\", line 15, in <module>\n",
      "    cdata = getSDSSVData(cfile)\n",
      "            ^^^^^^^^^^^^^^^^^^^\n",
      "  File \"/tmp/ipykernel_10073/4007893978.py\", line 3, in getSDSSVData\n",
      "    snr = hdul[3].data[\"SNR\"]\n",
      "          ~~~~~~~~~~~~^^^^^^^\n",
      "  File \"/home/petershi/miniconda3/envs/SDSSV/lib/python3.11/site-packages/astropy/io/fits/fitsrec.py\", line 513, in __getitem__\n",
      "    return self.field(key)\n",
      "           ^^^^^^^^^^^^^^^\n",
      "  File \"/home/petershi/miniconda3/envs/SDSSV/lib/python3.11/site-packages/astropy/io/fits/fitsrec.py\", line 695, in field\n",
      "    column = self.columns[key]\n",
      "             ~~~~~~~~~~~~^^^^^\n",
      "  File \"/home/petershi/miniconda3/envs/SDSSV/lib/python3.11/site-packages/astropy/io/fits/column.py\", line 1751, in __getitem__\n",
      "    key = _get_index(self.names, key)\n",
      "          ^^^^^^^^^^^^^^^^^^^^^^^^^^^\n",
      "  File \"/home/petershi/miniconda3/envs/SDSSV/lib/python3.11/site-packages/astropy/io/fits/column.py\", line 2151, in _get_index\n",
      "    raise KeyError(f\"Key '{key}' does not exist.\")\n",
      "KeyError: \"Key 'SNR' does not exist.\"\n",
      "\n"
     ]
    },
    {
     "name": "stderr",
     "output_type": "stream",
     "text": [
      " 53%|█████▎    | 81618/153700 [7:19:44<7:16:26,  2.75it/s]"
     ]
    },
    {
     "name": "stdout",
     "output_type": "stream",
     "text": [
      "File 27021597920494367 not found in /yngve_data/sdssv/ipl-2/spectro/astra/0.3.0/v6_0_9-1.0/spectra/star\n"
     ]
    },
    {
     "name": "stderr",
     "output_type": "stream",
     "text": [
      " 53%|█████▎    | 81661/153700 [7:20:02<7:47:40,  2.57it/s] "
     ]
    },
    {
     "name": "stdout",
     "output_type": "stream",
     "text": [
      "File 27021597920534622 not found in /yngve_data/sdssv/ipl-2/spectro/astra/0.3.0/v6_0_9-1.0/spectra/star\n"
     ]
    },
    {
     "name": "stderr",
     "output_type": "stream",
     "text": [
      " 53%|█████▎    | 81678/153700 [7:20:08<9:11:35,  2.18it/s]"
     ]
    },
    {
     "name": "stdout",
     "output_type": "stream",
     "text": [
      "Traceback (most recent call last):\n",
      "  File \"/home/petershi/miniconda3/envs/SDSSV/lib/python3.11/site-packages/astropy/io/fits/column.py\", line 2142, in _get_index\n",
      "    indx = names.index(key.rstrip())\n",
      "           ^^^^^^^^^^^^^^^^^^^^^^^^^\n",
      "ValueError: 'SNR' is not in list\n",
      "\n",
      "During handling of the above exception, another exception occurred:\n",
      "\n",
      "Traceback (most recent call last):\n",
      "  File \"/tmp/ipykernel_10073/3388262553.py\", line 15, in <module>\n",
      "    cdata = getSDSSVData(cfile)\n",
      "            ^^^^^^^^^^^^^^^^^^^\n",
      "  File \"/tmp/ipykernel_10073/4007893978.py\", line 3, in getSDSSVData\n",
      "    snr = hdul[3].data[\"SNR\"]\n",
      "          ~~~~~~~~~~~~^^^^^^^\n",
      "  File \"/home/petershi/miniconda3/envs/SDSSV/lib/python3.11/site-packages/astropy/io/fits/fitsrec.py\", line 513, in __getitem__\n",
      "    return self.field(key)\n",
      "           ^^^^^^^^^^^^^^^\n",
      "  File \"/home/petershi/miniconda3/envs/SDSSV/lib/python3.11/site-packages/astropy/io/fits/fitsrec.py\", line 695, in field\n",
      "    column = self.columns[key]\n",
      "             ~~~~~~~~~~~~^^^^^\n",
      "  File \"/home/petershi/miniconda3/envs/SDSSV/lib/python3.11/site-packages/astropy/io/fits/column.py\", line 1751, in __getitem__\n",
      "    key = _get_index(self.names, key)\n",
      "          ^^^^^^^^^^^^^^^^^^^^^^^^^^^\n",
      "  File \"/home/petershi/miniconda3/envs/SDSSV/lib/python3.11/site-packages/astropy/io/fits/column.py\", line 2151, in _get_index\n",
      "    raise KeyError(f\"Key '{key}' does not exist.\")\n",
      "KeyError: \"Key 'SNR' does not exist.\"\n",
      "\n"
     ]
    },
    {
     "name": "stderr",
     "output_type": "stream",
     "text": [
      " 54%|█████▎    | 82243/153700 [7:23:06<12:23:13,  1.60it/s]"
     ]
    },
    {
     "name": "stdout",
     "output_type": "stream",
     "text": [
      "File 27021597926539572 not found in /yngve_data/sdssv/ipl-2/spectro/astra/0.3.0/v6_0_9-1.0/spectra/star\n"
     ]
    },
    {
     "name": "stderr",
     "output_type": "stream",
     "text": [
      " 54%|█████▍    | 82643/153700 [7:25:10<7:15:13,  2.72it/s] "
     ]
    },
    {
     "name": "stdout",
     "output_type": "stream",
     "text": [
      "File 27021597933165837 not found in /yngve_data/sdssv/ipl-2/spectro/astra/0.3.0/v6_0_9-1.0/spectra/star\n"
     ]
    },
    {
     "name": "stderr",
     "output_type": "stream",
     "text": [
      " 54%|█████▍    | 82721/153700 [7:25:37<5:15:41,  3.75it/s] "
     ]
    },
    {
     "name": "stdout",
     "output_type": "stream",
     "text": [
      "Traceback (most recent call last):\n",
      "  File \"/home/petershi/miniconda3/envs/SDSSV/lib/python3.11/site-packages/astropy/io/fits/column.py\", line 2142, in _get_index\n",
      "    indx = names.index(key.rstrip())\n",
      "           ^^^^^^^^^^^^^^^^^^^^^^^^^\n",
      "ValueError: 'SNR' is not in list\n",
      "\n",
      "During handling of the above exception, another exception occurred:\n",
      "\n",
      "Traceback (most recent call last):\n",
      "  File \"/tmp/ipykernel_10073/3388262553.py\", line 15, in <module>\n",
      "    cdata = getSDSSVData(cfile)\n",
      "            ^^^^^^^^^^^^^^^^^^^\n",
      "  File \"/tmp/ipykernel_10073/4007893978.py\", line 3, in getSDSSVData\n",
      "    snr = hdul[3].data[\"SNR\"]\n",
      "          ~~~~~~~~~~~~^^^^^^^\n",
      "  File \"/home/petershi/miniconda3/envs/SDSSV/lib/python3.11/site-packages/astropy/io/fits/fitsrec.py\", line 513, in __getitem__\n",
      "    return self.field(key)\n",
      "           ^^^^^^^^^^^^^^^\n",
      "  File \"/home/petershi/miniconda3/envs/SDSSV/lib/python3.11/site-packages/astropy/io/fits/fitsrec.py\", line 695, in field\n",
      "    column = self.columns[key]\n",
      "             ~~~~~~~~~~~~^^^^^\n",
      "  File \"/home/petershi/miniconda3/envs/SDSSV/lib/python3.11/site-packages/astropy/io/fits/column.py\", line 1751, in __getitem__\n",
      "    key = _get_index(self.names, key)\n",
      "          ^^^^^^^^^^^^^^^^^^^^^^^^^^^\n",
      "  File \"/home/petershi/miniconda3/envs/SDSSV/lib/python3.11/site-packages/astropy/io/fits/column.py\", line 2151, in _get_index\n",
      "    raise KeyError(f\"Key '{key}' does not exist.\")\n",
      "KeyError: \"Key 'SNR' does not exist.\"\n",
      "\n"
     ]
    },
    {
     "name": "stderr",
     "output_type": "stream",
     "text": [
      " 54%|█████▍    | 82790/153700 [7:26:02<9:41:43,  2.03it/s] "
     ]
    },
    {
     "name": "stdout",
     "output_type": "stream",
     "text": [
      "File 27021597934427220 not found in /yngve_data/sdssv/ipl-2/spectro/astra/0.3.0/v6_0_9-1.0/spectra/star\n"
     ]
    },
    {
     "name": "stderr",
     "output_type": "stream",
     "text": [
      " 54%|█████▍    | 82833/153700 [7:26:11<6:57:38,  2.83it/s] "
     ]
    },
    {
     "name": "stdout",
     "output_type": "stream",
     "text": [
      "File 27021597934444072 not found in /yngve_data/sdssv/ipl-2/spectro/astra/0.3.0/v6_0_9-1.0/spectra/star\n"
     ]
    },
    {
     "name": "stderr",
     "output_type": "stream",
     "text": [
      " 54%|█████▍    | 83685/153700 [7:30:54<9:01:24,  2.16it/s] "
     ]
    },
    {
     "name": "stdout",
     "output_type": "stream",
     "text": [
      "File 27021597941707970 not found in /yngve_data/sdssv/ipl-2/spectro/astra/0.3.0/v6_0_9-1.0/spectra/star\n"
     ]
    },
    {
     "name": "stderr",
     "output_type": "stream",
     "text": [
      " 54%|█████▍    | 83688/153700 [7:30:55<10:01:52,  1.94it/s]"
     ]
    },
    {
     "name": "stdout",
     "output_type": "stream",
     "text": [
      "File 27021597941708804 not found in /yngve_data/sdssv/ipl-2/spectro/astra/0.3.0/v6_0_9-1.0/spectra/star\n"
     ]
    },
    {
     "name": "stderr",
     "output_type": "stream",
     "text": [
      " 54%|█████▍    | 83693/153700 [7:30:58<10:57:58,  1.77it/s]"
     ]
    },
    {
     "name": "stdout",
     "output_type": "stream",
     "text": [
      "File 27021597941709759 not found in /yngve_data/sdssv/ipl-2/spectro/astra/0.3.0/v6_0_9-1.0/spectra/star\n"
     ]
    },
    {
     "name": "stderr",
     "output_type": "stream",
     "text": [
      " 54%|█████▍    | 83699/153700 [7:31:00<6:10:52,  3.15it/s] "
     ]
    },
    {
     "name": "stdout",
     "output_type": "stream",
     "text": [
      "File 27021597941710281 not found in /yngve_data/sdssv/ipl-2/spectro/astra/0.3.0/v6_0_9-1.0/spectra/star\n"
     ]
    },
    {
     "name": "stderr",
     "output_type": "stream",
     "text": [
      " 54%|█████▍    | 83703/153700 [7:31:01<5:37:22,  3.46it/s]"
     ]
    },
    {
     "name": "stdout",
     "output_type": "stream",
     "text": [
      "File 27021597941712430 not found in /yngve_data/sdssv/ipl-2/spectro/astra/0.3.0/v6_0_9-1.0/spectra/star\n"
     ]
    },
    {
     "name": "stderr",
     "output_type": "stream",
     "text": [
      " 54%|█████▍    | 83705/153700 [7:31:02<6:07:06,  3.18it/s]"
     ]
    },
    {
     "name": "stdout",
     "output_type": "stream",
     "text": [
      "File 27021597941712590 not found in /yngve_data/sdssv/ipl-2/spectro/astra/0.3.0/v6_0_9-1.0/spectra/star\n"
     ]
    },
    {
     "name": "stderr",
     "output_type": "stream",
     "text": [
      " 54%|█████▍    | 83708/153700 [7:31:03<6:08:50,  3.16it/s]"
     ]
    },
    {
     "name": "stdout",
     "output_type": "stream",
     "text": [
      "File 27021597941712823 not found in /yngve_data/sdssv/ipl-2/spectro/astra/0.3.0/v6_0_9-1.0/spectra/star\n"
     ]
    },
    {
     "name": "stderr",
     "output_type": "stream",
     "text": [
      " 54%|█████▍    | 83711/153700 [7:31:04<6:46:19,  2.87it/s]"
     ]
    },
    {
     "name": "stdout",
     "output_type": "stream",
     "text": [
      "File 27021597941713089 not found in /yngve_data/sdssv/ipl-2/spectro/astra/0.3.0/v6_0_9-1.0/spectra/star\n"
     ]
    },
    {
     "name": "stderr",
     "output_type": "stream",
     "text": [
      " 54%|█████▍    | 83723/153700 [7:31:08<9:05:18,  2.14it/s]"
     ]
    },
    {
     "name": "stdout",
     "output_type": "stream",
     "text": [
      "File 27021597941717195 not found in /yngve_data/sdssv/ipl-2/spectro/astra/0.3.0/v6_0_9-1.0/spectra/star\n"
     ]
    },
    {
     "name": "stderr",
     "output_type": "stream",
     "text": [
      " 54%|█████▍    | 83727/153700 [7:31:10<9:18:07,  2.09it/s]"
     ]
    },
    {
     "name": "stdout",
     "output_type": "stream",
     "text": [
      "File 27021597941717721 not found in /yngve_data/sdssv/ipl-2/spectro/astra/0.3.0/v6_0_9-1.0/spectra/star\n"
     ]
    },
    {
     "name": "stderr",
     "output_type": "stream",
     "text": [
      " 54%|█████▍    | 83728/153700 [7:31:11<9:40:49,  2.01it/s]"
     ]
    },
    {
     "name": "stdout",
     "output_type": "stream",
     "text": [
      "File 27021597941717982 not found in /yngve_data/sdssv/ipl-2/spectro/astra/0.3.0/v6_0_9-1.0/spectra/star\n"
     ]
    },
    {
     "name": "stderr",
     "output_type": "stream",
     "text": [
      " 54%|█████▍    | 83729/153700 [7:31:11<10:16:22,  1.89it/s]"
     ]
    },
    {
     "name": "stdout",
     "output_type": "stream",
     "text": [
      "File 27021597941718282 not found in /yngve_data/sdssv/ipl-2/spectro/astra/0.3.0/v6_0_9-1.0/spectra/star\n"
     ]
    },
    {
     "name": "stderr",
     "output_type": "stream",
     "text": [
      " 54%|█████▍    | 83735/153700 [7:31:15<10:48:22,  1.80it/s]"
     ]
    },
    {
     "name": "stdout",
     "output_type": "stream",
     "text": [
      "File 27021597941718711 not found in /yngve_data/sdssv/ipl-2/spectro/astra/0.3.0/v6_0_9-1.0/spectra/star\n"
     ]
    },
    {
     "name": "stderr",
     "output_type": "stream",
     "text": [
      " 54%|█████▍    | 83737/153700 [7:31:16<10:48:18,  1.80it/s]"
     ]
    },
    {
     "name": "stdout",
     "output_type": "stream",
     "text": [
      "File 27021597941718952 not found in /yngve_data/sdssv/ipl-2/spectro/astra/0.3.0/v6_0_9-1.0/spectra/star\n"
     ]
    },
    {
     "name": "stderr",
     "output_type": "stream",
     "text": [
      " 54%|█████▍    | 83738/153700 [7:31:16<10:56:41,  1.78it/s]"
     ]
    },
    {
     "name": "stdout",
     "output_type": "stream",
     "text": [
      "File 27021597941719206 not found in /yngve_data/sdssv/ipl-2/spectro/astra/0.3.0/v6_0_9-1.0/spectra/star\n"
     ]
    },
    {
     "name": "stderr",
     "output_type": "stream",
     "text": [
      " 54%|█████▍    | 83739/153700 [7:31:17<10:48:27,  1.80it/s]"
     ]
    },
    {
     "name": "stdout",
     "output_type": "stream",
     "text": [
      "File 27021597941719413 not found in /yngve_data/sdssv/ipl-2/spectro/astra/0.3.0/v6_0_9-1.0/spectra/star\n"
     ]
    },
    {
     "name": "stderr",
     "output_type": "stream",
     "text": [
      " 54%|█████▍    | 83740/153700 [7:31:17<11:02:52,  1.76it/s]"
     ]
    },
    {
     "name": "stdout",
     "output_type": "stream",
     "text": [
      "File 27021597941719464 not found in /yngve_data/sdssv/ipl-2/spectro/astra/0.3.0/v6_0_9-1.0/spectra/star\n"
     ]
    },
    {
     "name": "stderr",
     "output_type": "stream",
     "text": [
      " 54%|█████▍    | 83741/153700 [7:31:18<10:56:10,  1.78it/s]"
     ]
    },
    {
     "name": "stdout",
     "output_type": "stream",
     "text": [
      "File 27021597941719580 not found in /yngve_data/sdssv/ipl-2/spectro/astra/0.3.0/v6_0_9-1.0/spectra/star\n"
     ]
    },
    {
     "name": "stderr",
     "output_type": "stream",
     "text": [
      " 54%|█████▍    | 83742/153700 [7:31:18<10:46:16,  1.80it/s]"
     ]
    },
    {
     "name": "stdout",
     "output_type": "stream",
     "text": [
      "File 27021597941719585 not found in /yngve_data/sdssv/ipl-2/spectro/astra/0.3.0/v6_0_9-1.0/spectra/star\n"
     ]
    },
    {
     "name": "stderr",
     "output_type": "stream",
     "text": [
      " 54%|█████▍    | 83750/153700 [7:31:20<3:46:23,  5.15it/s] "
     ]
    },
    {
     "name": "stdout",
     "output_type": "stream",
     "text": [
      "File 27021597941720831 not found in /yngve_data/sdssv/ipl-2/spectro/astra/0.3.0/v6_0_9-1.0/spectra/star\n"
     ]
    },
    {
     "name": "stderr",
     "output_type": "stream",
     "text": [
      " 54%|█████▍    | 83754/153700 [7:31:22<5:15:04,  3.70it/s]"
     ]
    },
    {
     "name": "stdout",
     "output_type": "stream",
     "text": [
      "File 27021597941720906 not found in /yngve_data/sdssv/ipl-2/spectro/astra/0.3.0/v6_0_9-1.0/spectra/star\n"
     ]
    },
    {
     "name": "stderr",
     "output_type": "stream",
     "text": [
      " 54%|█████▍    | 83764/153700 [7:31:24<4:26:40,  4.37it/s]"
     ]
    },
    {
     "name": "stdout",
     "output_type": "stream",
     "text": [
      "File 27021597941722317 not found in /yngve_data/sdssv/ipl-2/spectro/astra/0.3.0/v6_0_9-1.0/spectra/star\n"
     ]
    },
    {
     "name": "stderr",
     "output_type": "stream",
     "text": [
      " 55%|█████▍    | 83769/153700 [7:31:25<5:07:51,  3.79it/s]"
     ]
    },
    {
     "name": "stdout",
     "output_type": "stream",
     "text": [
      "File 27021597941723090 not found in /yngve_data/sdssv/ipl-2/spectro/astra/0.3.0/v6_0_9-1.0/spectra/star\n"
     ]
    },
    {
     "name": "stderr",
     "output_type": "stream",
     "text": [
      " 55%|█████▍    | 83771/153700 [7:31:26<8:06:12,  2.40it/s]"
     ]
    },
    {
     "name": "stdout",
     "output_type": "stream",
     "text": [
      "File 27021597941723198 not found in /yngve_data/sdssv/ipl-2/spectro/astra/0.3.0/v6_0_9-1.0/spectra/star\n"
     ]
    },
    {
     "name": "stderr",
     "output_type": "stream",
     "text": [
      " 55%|█████▍    | 83772/153700 [7:31:27<10:28:07,  1.86it/s]"
     ]
    },
    {
     "name": "stdout",
     "output_type": "stream",
     "text": [
      "File 27021597941723265 not found in /yngve_data/sdssv/ipl-2/spectro/astra/0.3.0/v6_0_9-1.0/spectra/star\n"
     ]
    },
    {
     "name": "stderr",
     "output_type": "stream",
     "text": [
      " 55%|█████▍    | 83773/153700 [7:31:27<10:27:20,  1.86it/s]"
     ]
    },
    {
     "name": "stdout",
     "output_type": "stream",
     "text": [
      "File 27021597941723446 not found in /yngve_data/sdssv/ipl-2/spectro/astra/0.3.0/v6_0_9-1.0/spectra/star\n"
     ]
    },
    {
     "name": "stderr",
     "output_type": "stream",
     "text": [
      " 55%|█████▍    | 83776/153700 [7:31:28<8:22:26,  2.32it/s] "
     ]
    },
    {
     "name": "stdout",
     "output_type": "stream",
     "text": [
      "File 27021597941723814 not found in /yngve_data/sdssv/ipl-2/spectro/astra/0.3.0/v6_0_9-1.0/spectra/star\n"
     ]
    },
    {
     "name": "stderr",
     "output_type": "stream",
     "text": [
      " 55%|█████▍    | 83777/153700 [7:31:29<9:01:25,  2.15it/s]"
     ]
    },
    {
     "name": "stdout",
     "output_type": "stream",
     "text": [
      "File 27021597941724058 not found in /yngve_data/sdssv/ipl-2/spectro/astra/0.3.0/v6_0_9-1.0/spectra/star\n"
     ]
    },
    {
     "name": "stderr",
     "output_type": "stream",
     "text": [
      " 55%|█████▍    | 83781/153700 [7:31:30<7:29:51,  2.59it/s]"
     ]
    },
    {
     "name": "stdout",
     "output_type": "stream",
     "text": [
      "File 27021597941724583 not found in /yngve_data/sdssv/ipl-2/spectro/astra/0.3.0/v6_0_9-1.0/spectra/star\n"
     ]
    },
    {
     "name": "stderr",
     "output_type": "stream",
     "text": [
      " 55%|█████▍    | 83782/153700 [7:31:31<8:12:00,  2.37it/s]"
     ]
    },
    {
     "name": "stdout",
     "output_type": "stream",
     "text": [
      "File 27021597941724716 not found in /yngve_data/sdssv/ipl-2/spectro/astra/0.3.0/v6_0_9-1.0/spectra/star\n"
     ]
    },
    {
     "name": "stderr",
     "output_type": "stream",
     "text": [
      " 55%|█████▍    | 83789/153700 [7:31:33<5:48:14,  3.35it/s]"
     ]
    },
    {
     "name": "stdout",
     "output_type": "stream",
     "text": [
      "File 27021597941725630 not found in /yngve_data/sdssv/ipl-2/spectro/astra/0.3.0/v6_0_9-1.0/spectra/star\n"
     ]
    },
    {
     "name": "stderr",
     "output_type": "stream",
     "text": [
      " 55%|█████▍    | 83792/153700 [7:31:34<5:54:37,  3.29it/s]"
     ]
    },
    {
     "name": "stdout",
     "output_type": "stream",
     "text": [
      "File 27021597942084133 not found in /yngve_data/sdssv/ipl-2/spectro/astra/0.3.0/v6_0_9-1.0/spectra/star\n"
     ]
    },
    {
     "name": "stderr",
     "output_type": "stream",
     "text": [
      " 55%|█████▍    | 83798/153700 [7:31:36<7:36:52,  2.55it/s]"
     ]
    },
    {
     "name": "stdout",
     "output_type": "stream",
     "text": [
      "File 27021597942085136 not found in /yngve_data/sdssv/ipl-2/spectro/astra/0.3.0/v6_0_9-1.0/spectra/star\n"
     ]
    },
    {
     "name": "stderr",
     "output_type": "stream",
     "text": [
      " 55%|█████▍    | 83799/153700 [7:31:36<8:47:47,  2.21it/s]"
     ]
    },
    {
     "name": "stdout",
     "output_type": "stream",
     "text": [
      "File 27021597942085349 not found in /yngve_data/sdssv/ipl-2/spectro/astra/0.3.0/v6_0_9-1.0/spectra/star\n"
     ]
    },
    {
     "name": "stderr",
     "output_type": "stream",
     "text": [
      " 55%|█████▍    | 83800/153700 [7:31:37<9:40:33,  2.01it/s]"
     ]
    },
    {
     "name": "stdout",
     "output_type": "stream",
     "text": [
      "File 27021597942085384 not found in /yngve_data/sdssv/ipl-2/spectro/astra/0.3.0/v6_0_9-1.0/spectra/star\n"
     ]
    },
    {
     "name": "stderr",
     "output_type": "stream",
     "text": [
      " 55%|█████▍    | 83802/153700 [7:31:38<9:49:03,  1.98it/s]"
     ]
    },
    {
     "name": "stdout",
     "output_type": "stream",
     "text": [
      "File 27021597942085795 not found in /yngve_data/sdssv/ipl-2/spectro/astra/0.3.0/v6_0_9-1.0/spectra/star\n"
     ]
    },
    {
     "name": "stderr",
     "output_type": "stream",
     "text": [
      " 55%|█████▍    | 83806/153700 [7:31:39<8:30:39,  2.28it/s]"
     ]
    },
    {
     "name": "stdout",
     "output_type": "stream",
     "text": [
      "File 27021597942086828 not found in /yngve_data/sdssv/ipl-2/spectro/astra/0.3.0/v6_0_9-1.0/spectra/star\n"
     ]
    },
    {
     "name": "stderr",
     "output_type": "stream",
     "text": [
      " 55%|█████▍    | 83809/153700 [7:31:41<9:04:16,  2.14it/s]"
     ]
    },
    {
     "name": "stdout",
     "output_type": "stream",
     "text": [
      "File 27021597942087038 not found in /yngve_data/sdssv/ipl-2/spectro/astra/0.3.0/v6_0_9-1.0/spectra/star\n"
     ]
    },
    {
     "name": "stderr",
     "output_type": "stream",
     "text": [
      " 55%|█████▍    | 83810/153700 [7:31:41<9:45:41,  1.99it/s]"
     ]
    },
    {
     "name": "stdout",
     "output_type": "stream",
     "text": [
      "File 27021597942087081 not found in /yngve_data/sdssv/ipl-2/spectro/astra/0.3.0/v6_0_9-1.0/spectra/star\n"
     ]
    },
    {
     "name": "stderr",
     "output_type": "stream",
     "text": [
      " 55%|█████▍    | 83812/153700 [7:31:42<10:17:21,  1.89it/s]"
     ]
    },
    {
     "name": "stdout",
     "output_type": "stream",
     "text": [
      "File 27021597942087327 not found in /yngve_data/sdssv/ipl-2/spectro/astra/0.3.0/v6_0_9-1.0/spectra/star\n"
     ]
    },
    {
     "name": "stderr",
     "output_type": "stream",
     "text": [
      " 55%|█████▍    | 83826/153700 [7:31:47<6:58:31,  2.78it/s] "
     ]
    },
    {
     "name": "stdout",
     "output_type": "stream",
     "text": [
      "File 27021597942096175 not found in /yngve_data/sdssv/ipl-2/spectro/astra/0.3.0/v6_0_9-1.0/spectra/star\n"
     ]
    },
    {
     "name": "stderr",
     "output_type": "stream",
     "text": [
      " 55%|█████▍    | 83828/153700 [7:31:47<7:58:39,  2.43it/s]"
     ]
    },
    {
     "name": "stdout",
     "output_type": "stream",
     "text": [
      "File 27021597942096586 not found in /yngve_data/sdssv/ipl-2/spectro/astra/0.3.0/v6_0_9-1.0/spectra/star\n"
     ]
    },
    {
     "name": "stderr",
     "output_type": "stream",
     "text": [
      " 55%|█████▍    | 83831/153700 [7:31:49<8:14:57,  2.35it/s]"
     ]
    },
    {
     "name": "stdout",
     "output_type": "stream",
     "text": [
      "File 27021597942096810 not found in /yngve_data/sdssv/ipl-2/spectro/astra/0.3.0/v6_0_9-1.0/spectra/star\n"
     ]
    },
    {
     "name": "stderr",
     "output_type": "stream",
     "text": [
      " 55%|█████▍    | 83833/153700 [7:31:50<8:30:42,  2.28it/s]"
     ]
    },
    {
     "name": "stdout",
     "output_type": "stream",
     "text": [
      "File 27021597942097232 not found in /yngve_data/sdssv/ipl-2/spectro/astra/0.3.0/v6_0_9-1.0/spectra/star\n"
     ]
    },
    {
     "name": "stderr",
     "output_type": "stream",
     "text": [
      " 55%|█████▍    | 83842/153700 [7:31:54<8:47:57,  2.21it/s]"
     ]
    },
    {
     "name": "stdout",
     "output_type": "stream",
     "text": [
      "File 27021597942097939 not found in /yngve_data/sdssv/ipl-2/spectro/astra/0.3.0/v6_0_9-1.0/spectra/star\n"
     ]
    },
    {
     "name": "stderr",
     "output_type": "stream",
     "text": [
      " 55%|█████▍    | 83847/153700 [7:31:56<9:10:51,  2.11it/s]"
     ]
    },
    {
     "name": "stdout",
     "output_type": "stream",
     "text": [
      "File 27021597942098735 not found in /yngve_data/sdssv/ipl-2/spectro/astra/0.3.0/v6_0_9-1.0/spectra/star\n"
     ]
    },
    {
     "name": "stderr",
     "output_type": "stream",
     "text": [
      " 55%|█████▍    | 83850/153700 [7:31:57<9:30:13,  2.04it/s]"
     ]
    },
    {
     "name": "stdout",
     "output_type": "stream",
     "text": [
      "File 27021597942099426 not found in /yngve_data/sdssv/ipl-2/spectro/astra/0.3.0/v6_0_9-1.0/spectra/star\n"
     ]
    },
    {
     "name": "stderr",
     "output_type": "stream",
     "text": [
      " 55%|█████▍    | 83854/153700 [7:31:59<10:11:23,  1.90it/s]"
     ]
    },
    {
     "name": "stdout",
     "output_type": "stream",
     "text": [
      "File 27021597942100044 not found in /yngve_data/sdssv/ipl-2/spectro/astra/0.3.0/v6_0_9-1.0/spectra/star\n"
     ]
    },
    {
     "name": "stderr",
     "output_type": "stream",
     "text": [
      " 55%|█████▍    | 83856/153700 [7:32:00<7:54:31,  2.45it/s] "
     ]
    },
    {
     "name": "stdout",
     "output_type": "stream",
     "text": [
      "File 27021597942100365 not found in /yngve_data/sdssv/ipl-2/spectro/astra/0.3.0/v6_0_9-1.0/spectra/star\n"
     ]
    },
    {
     "name": "stderr",
     "output_type": "stream",
     "text": [
      " 55%|█████▍    | 83859/153700 [7:32:01<5:27:03,  3.56it/s]"
     ]
    },
    {
     "name": "stdout",
     "output_type": "stream",
     "text": [
      "File 27021597942100571 not found in /yngve_data/sdssv/ipl-2/spectro/astra/0.3.0/v6_0_9-1.0/spectra/star\n"
     ]
    },
    {
     "name": "stderr",
     "output_type": "stream",
     "text": [
      " 55%|█████▍    | 83861/153700 [7:32:01<5:32:12,  3.50it/s]"
     ]
    },
    {
     "name": "stdout",
     "output_type": "stream",
     "text": [
      "File 27021597942100626 not found in /yngve_data/sdssv/ipl-2/spectro/astra/0.3.0/v6_0_9-1.0/spectra/star\n"
     ]
    },
    {
     "name": "stderr",
     "output_type": "stream",
     "text": [
      " 55%|█████▍    | 83862/153700 [7:32:02<6:43:22,  2.89it/s]"
     ]
    },
    {
     "name": "stdout",
     "output_type": "stream",
     "text": [
      "File 27021597942100818 not found in /yngve_data/sdssv/ipl-2/spectro/astra/0.3.0/v6_0_9-1.0/spectra/star\n"
     ]
    },
    {
     "name": "stderr",
     "output_type": "stream",
     "text": [
      " 55%|█████▍    | 83863/153700 [7:32:02<7:36:12,  2.55it/s]"
     ]
    },
    {
     "name": "stdout",
     "output_type": "stream",
     "text": [
      "File 27021597942101162 not found in /yngve_data/sdssv/ipl-2/spectro/astra/0.3.0/v6_0_9-1.0/spectra/star\n"
     ]
    },
    {
     "name": "stderr",
     "output_type": "stream",
     "text": [
      " 55%|█████▍    | 83865/153700 [7:32:03<6:51:32,  2.83it/s]"
     ]
    },
    {
     "name": "stdout",
     "output_type": "stream",
     "text": [
      "File 27021597942101299 not found in /yngve_data/sdssv/ipl-2/spectro/astra/0.3.0/v6_0_9-1.0/spectra/star\n"
     ]
    },
    {
     "name": "stderr",
     "output_type": "stream",
     "text": [
      " 55%|█████▍    | 83866/153700 [7:32:03<7:36:54,  2.55it/s]"
     ]
    },
    {
     "name": "stdout",
     "output_type": "stream",
     "text": [
      "File 27021597942101580 not found in /yngve_data/sdssv/ipl-2/spectro/astra/0.3.0/v6_0_9-1.0/spectra/star\n"
     ]
    },
    {
     "name": "stderr",
     "output_type": "stream",
     "text": [
      " 55%|█████▍    | 83868/153700 [7:32:04<6:43:28,  2.88it/s]"
     ]
    },
    {
     "name": "stdout",
     "output_type": "stream",
     "text": [
      "File 27021597942101701 not found in /yngve_data/sdssv/ipl-2/spectro/astra/0.3.0/v6_0_9-1.0/spectra/star\n"
     ]
    },
    {
     "name": "stderr",
     "output_type": "stream",
     "text": [
      " 55%|█████▍    | 83871/153700 [7:32:05<5:54:04,  3.29it/s]"
     ]
    },
    {
     "name": "stdout",
     "output_type": "stream",
     "text": [
      "File 27021597942102574 not found in /yngve_data/sdssv/ipl-2/spectro/astra/0.3.0/v6_0_9-1.0/spectra/star\n"
     ]
    },
    {
     "name": "stderr",
     "output_type": "stream",
     "text": [
      " 55%|█████▍    | 83876/153700 [7:32:06<6:26:05,  3.01it/s]"
     ]
    },
    {
     "name": "stdout",
     "output_type": "stream",
     "text": [
      "File 27021597942104242 not found in /yngve_data/sdssv/ipl-2/spectro/astra/0.3.0/v6_0_9-1.0/spectra/star\n"
     ]
    },
    {
     "name": "stderr",
     "output_type": "stream",
     "text": [
      " 55%|█████▍    | 83878/153700 [7:32:07<7:27:18,  2.60it/s]"
     ]
    },
    {
     "name": "stdout",
     "output_type": "stream",
     "text": [
      "File 27021597942104682 not found in /yngve_data/sdssv/ipl-2/spectro/astra/0.3.0/v6_0_9-1.0/spectra/star\n"
     ]
    },
    {
     "name": "stderr",
     "output_type": "stream",
     "text": [
      " 55%|█████▍    | 83879/153700 [7:32:08<8:17:56,  2.34it/s]"
     ]
    },
    {
     "name": "stdout",
     "output_type": "stream",
     "text": [
      "File 27021597942104844 not found in /yngve_data/sdssv/ipl-2/spectro/astra/0.3.0/v6_0_9-1.0/spectra/star\n"
     ]
    },
    {
     "name": "stderr",
     "output_type": "stream",
     "text": [
      " 55%|█████▍    | 83882/153700 [7:32:09<7:49:39,  2.48it/s]"
     ]
    },
    {
     "name": "stdout",
     "output_type": "stream",
     "text": [
      "File 27021597942105235 not found in /yngve_data/sdssv/ipl-2/spectro/astra/0.3.0/v6_0_9-1.0/spectra/star\n"
     ]
    },
    {
     "name": "stderr",
     "output_type": "stream",
     "text": [
      " 55%|█████▍    | 83885/153700 [7:32:10<7:50:00,  2.48it/s]"
     ]
    },
    {
     "name": "stdout",
     "output_type": "stream",
     "text": [
      "File 27021597942105615 not found in /yngve_data/sdssv/ipl-2/spectro/astra/0.3.0/v6_0_9-1.0/spectra/star\n"
     ]
    },
    {
     "name": "stderr",
     "output_type": "stream",
     "text": [
      " 55%|█████▍    | 83887/153700 [7:32:11<8:11:06,  2.37it/s]"
     ]
    },
    {
     "name": "stdout",
     "output_type": "stream",
     "text": [
      "File 27021597942106011 not found in /yngve_data/sdssv/ipl-2/spectro/astra/0.3.0/v6_0_9-1.0/spectra/star\n"
     ]
    },
    {
     "name": "stderr",
     "output_type": "stream",
     "text": [
      " 55%|█████▍    | 83888/153700 [7:32:11<8:42:30,  2.23it/s]"
     ]
    },
    {
     "name": "stdout",
     "output_type": "stream",
     "text": [
      "File 27021597942106522 not found in /yngve_data/sdssv/ipl-2/spectro/astra/0.3.0/v6_0_9-1.0/spectra/star\n"
     ]
    },
    {
     "name": "stderr",
     "output_type": "stream",
     "text": [
      " 55%|█████▍    | 83889/153700 [7:32:12<9:09:12,  2.12it/s]"
     ]
    },
    {
     "name": "stdout",
     "output_type": "stream",
     "text": [
      "File 27021597942107466 not found in /yngve_data/sdssv/ipl-2/spectro/astra/0.3.0/v6_0_9-1.0/spectra/star\n"
     ]
    },
    {
     "name": "stderr",
     "output_type": "stream",
     "text": [
      " 55%|█████▍    | 83890/153700 [7:32:12<9:20:08,  2.08it/s]"
     ]
    },
    {
     "name": "stdout",
     "output_type": "stream",
     "text": [
      "File 27021597942107547 not found in /yngve_data/sdssv/ipl-2/spectro/astra/0.3.0/v6_0_9-1.0/spectra/star\n"
     ]
    },
    {
     "name": "stderr",
     "output_type": "stream",
     "text": [
      " 55%|█████▍    | 83892/153700 [7:32:13<9:27:59,  2.05it/s]"
     ]
    },
    {
     "name": "stdout",
     "output_type": "stream",
     "text": [
      "File 27021597942107791 not found in /yngve_data/sdssv/ipl-2/spectro/astra/0.3.0/v6_0_9-1.0/spectra/star\n"
     ]
    },
    {
     "name": "stderr",
     "output_type": "stream",
     "text": [
      " 55%|█████▍    | 83893/153700 [7:32:14<9:40:42,  2.00it/s]"
     ]
    },
    {
     "name": "stdout",
     "output_type": "stream",
     "text": [
      "File 27021597942107816 not found in /yngve_data/sdssv/ipl-2/spectro/astra/0.3.0/v6_0_9-1.0/spectra/star\n"
     ]
    },
    {
     "name": "stderr",
     "output_type": "stream",
     "text": [
      " 55%|█████▍    | 83895/153700 [7:32:15<9:34:00,  2.03it/s]"
     ]
    },
    {
     "name": "stdout",
     "output_type": "stream",
     "text": [
      "File 27021597942108225 not found in /yngve_data/sdssv/ipl-2/spectro/astra/0.3.0/v6_0_9-1.0/spectra/star\n"
     ]
    },
    {
     "name": "stderr",
     "output_type": "stream",
     "text": [
      " 55%|█████▍    | 83896/153700 [7:32:15<9:37:49,  2.01it/s]"
     ]
    },
    {
     "name": "stdout",
     "output_type": "stream",
     "text": [
      "File 27021597942108359 not found in /yngve_data/sdssv/ipl-2/spectro/astra/0.3.0/v6_0_9-1.0/spectra/star\n"
     ]
    },
    {
     "name": "stderr",
     "output_type": "stream",
     "text": [
      " 55%|█████▍    | 83904/153700 [7:32:19<9:44:31,  1.99it/s]"
     ]
    },
    {
     "name": "stdout",
     "output_type": "stream",
     "text": [
      "File 27021597942109326 not found in /yngve_data/sdssv/ipl-2/spectro/astra/0.3.0/v6_0_9-1.0/spectra/star\n"
     ]
    },
    {
     "name": "stderr",
     "output_type": "stream",
     "text": [
      " 55%|█████▍    | 83906/153700 [7:32:20<9:53:17,  1.96it/s]"
     ]
    },
    {
     "name": "stdout",
     "output_type": "stream",
     "text": [
      "File 27021597942416831 not found in /yngve_data/sdssv/ipl-2/spectro/astra/0.3.0/v6_0_9-1.0/spectra/star\n"
     ]
    },
    {
     "name": "stderr",
     "output_type": "stream",
     "text": [
      " 55%|█████▍    | 83907/153700 [7:32:21<9:53:51,  1.96it/s]"
     ]
    },
    {
     "name": "stdout",
     "output_type": "stream",
     "text": [
      "File 27021597942418251 not found in /yngve_data/sdssv/ipl-2/spectro/astra/0.3.0/v6_0_9-1.0/spectra/star\n"
     ]
    },
    {
     "name": "stderr",
     "output_type": "stream",
     "text": [
      " 55%|█████▍    | 83910/153700 [7:32:22<9:30:24,  2.04it/s]"
     ]
    },
    {
     "name": "stdout",
     "output_type": "stream",
     "text": [
      "File 27021597942418563 not found in /yngve_data/sdssv/ipl-2/spectro/astra/0.3.0/v6_0_9-1.0/spectra/star\n"
     ]
    },
    {
     "name": "stderr",
     "output_type": "stream",
     "text": [
      " 55%|█████▍    | 83912/153700 [7:32:23<9:37:28,  2.01it/s]"
     ]
    },
    {
     "name": "stdout",
     "output_type": "stream",
     "text": [
      "File 27021597942418921 not found in /yngve_data/sdssv/ipl-2/spectro/astra/0.3.0/v6_0_9-1.0/spectra/star\n"
     ]
    },
    {
     "name": "stderr",
     "output_type": "stream",
     "text": [
      " 55%|█████▍    | 83919/153700 [7:32:25<4:32:36,  4.27it/s]"
     ]
    },
    {
     "name": "stdout",
     "output_type": "stream",
     "text": [
      "File 27021597942700580 not found in /yngve_data/sdssv/ipl-2/spectro/astra/0.3.0/v6_0_9-1.0/spectra/star\n"
     ]
    },
    {
     "name": "stderr",
     "output_type": "stream",
     "text": [
      " 55%|█████▍    | 83923/153700 [7:32:26<4:59:01,  3.89it/s]"
     ]
    },
    {
     "name": "stdout",
     "output_type": "stream",
     "text": [
      "File 27021597942706956 not found in /yngve_data/sdssv/ipl-2/spectro/astra/0.3.0/v6_0_9-1.0/spectra/star\n"
     ]
    },
    {
     "name": "stderr",
     "output_type": "stream",
     "text": [
      " 55%|█████▍    | 83924/153700 [7:32:26<6:10:04,  3.14it/s]"
     ]
    },
    {
     "name": "stdout",
     "output_type": "stream",
     "text": [
      "File 27021597942707062 not found in /yngve_data/sdssv/ipl-2/spectro/astra/0.3.0/v6_0_9-1.0/spectra/star\n"
     ]
    },
    {
     "name": "stderr",
     "output_type": "stream",
     "text": [
      " 55%|█████▍    | 83925/153700 [7:32:27<7:07:41,  2.72it/s]"
     ]
    },
    {
     "name": "stdout",
     "output_type": "stream",
     "text": [
      "File 27021597956626557 not found in /yngve_data/sdssv/ipl-2/spectro/astra/0.3.0/v6_0_9-1.0/spectra/star\n"
     ]
    },
    {
     "name": "stderr",
     "output_type": "stream",
     "text": [
      " 55%|█████▍    | 83927/153700 [7:32:28<8:00:47,  2.42it/s]"
     ]
    },
    {
     "name": "stdout",
     "output_type": "stream",
     "text": [
      "Traceback (most recent call last):\n",
      "  File \"/home/petershi/miniconda3/envs/SDSSV/lib/python3.11/site-packages/astropy/io/fits/column.py\", line 2142, in _get_index\n",
      "    indx = names.index(key.rstrip())\n",
      "           ^^^^^^^^^^^^^^^^^^^^^^^^^\n",
      "ValueError: 'SNR' is not in list\n",
      "\n",
      "During handling of the above exception, another exception occurred:\n",
      "\n",
      "Traceback (most recent call last):\n",
      "  File \"/tmp/ipykernel_10073/3388262553.py\", line 15, in <module>\n",
      "    cdata = getSDSSVData(cfile)\n",
      "            ^^^^^^^^^^^^^^^^^^^\n",
      "  File \"/tmp/ipykernel_10073/4007893978.py\", line 3, in getSDSSVData\n",
      "    snr = hdul[3].data[\"SNR\"]\n",
      "          ~~~~~~~~~~~~^^^^^^^\n",
      "  File \"/home/petershi/miniconda3/envs/SDSSV/lib/python3.11/site-packages/astropy/io/fits/fitsrec.py\", line 513, in __getitem__\n",
      "    return self.field(key)\n",
      "           ^^^^^^^^^^^^^^^\n",
      "  File \"/home/petershi/miniconda3/envs/SDSSV/lib/python3.11/site-packages/astropy/io/fits/fitsrec.py\", line 695, in field\n",
      "    column = self.columns[key]\n",
      "             ~~~~~~~~~~~~^^^^^\n",
      "  File \"/home/petershi/miniconda3/envs/SDSSV/lib/python3.11/site-packages/astropy/io/fits/column.py\", line 1751, in __getitem__\n",
      "    key = _get_index(self.names, key)\n",
      "          ^^^^^^^^^^^^^^^^^^^^^^^^^^^\n",
      "  File \"/home/petershi/miniconda3/envs/SDSSV/lib/python3.11/site-packages/astropy/io/fits/column.py\", line 2151, in _get_index\n",
      "    raise KeyError(f\"Key '{key}' does not exist.\")\n",
      "KeyError: \"Key 'SNR' does not exist.\"\n",
      "\n"
     ]
    },
    {
     "name": "stderr",
     "output_type": "stream",
     "text": [
      " 55%|█████▍    | 83931/153700 [7:32:30<9:14:59,  2.10it/s]"
     ]
    },
    {
     "name": "stdout",
     "output_type": "stream",
     "text": [
      "File 27021597956629927 not found in /yngve_data/sdssv/ipl-2/spectro/astra/0.3.0/v6_0_9-1.0/spectra/star\n"
     ]
    },
    {
     "name": "stderr",
     "output_type": "stream",
     "text": [
      " 55%|█████▍    | 83936/153700 [7:32:32<7:44:39,  2.50it/s]"
     ]
    },
    {
     "name": "stdout",
     "output_type": "stream",
     "text": [
      "File 27021597956726689 not found in /yngve_data/sdssv/ipl-2/spectro/astra/0.3.0/v6_0_9-1.0/spectra/star\n"
     ]
    },
    {
     "name": "stderr",
     "output_type": "stream",
     "text": [
      " 55%|█████▍    | 83976/153700 [7:32:42<4:27:22,  4.35it/s]"
     ]
    },
    {
     "name": "stdout",
     "output_type": "stream",
     "text": [
      "File 27021597956761792 not found in /yngve_data/sdssv/ipl-2/spectro/astra/0.3.0/v6_0_9-1.0/spectra/star\n"
     ]
    },
    {
     "name": "stderr",
     "output_type": "stream",
     "text": [
      " 55%|█████▍    | 83977/153700 [7:32:43<5:57:57,  3.25it/s]"
     ]
    },
    {
     "name": "stdout",
     "output_type": "stream",
     "text": [
      "File 27021597956762098 not found in /yngve_data/sdssv/ipl-2/spectro/astra/0.3.0/v6_0_9-1.0/spectra/star\n"
     ]
    },
    {
     "name": "stderr",
     "output_type": "stream",
     "text": [
      " 55%|█████▍    | 84006/153700 [7:32:53<8:20:37,  2.32it/s]"
     ]
    },
    {
     "name": "stdout",
     "output_type": "stream",
     "text": [
      "File 27021597957251607 not found in /yngve_data/sdssv/ipl-2/spectro/astra/0.3.0/v6_0_9-1.0/spectra/star\n"
     ]
    },
    {
     "name": "stderr",
     "output_type": "stream",
     "text": [
      " 55%|█████▍    | 84114/153700 [7:33:25<5:46:20,  3.35it/s] "
     ]
    },
    {
     "name": "stdout",
     "output_type": "stream",
     "text": [
      "File 27021597958923578 not found in /yngve_data/sdssv/ipl-2/spectro/astra/0.3.0/v6_0_9-1.0/spectra/star\n"
     ]
    },
    {
     "name": "stderr",
     "output_type": "stream",
     "text": [
      " 55%|█████▍    | 84130/153700 [7:33:31<8:54:50,  2.17it/s]"
     ]
    },
    {
     "name": "stdout",
     "output_type": "stream",
     "text": [
      "File 27021597959179003 not found in /yngve_data/sdssv/ipl-2/spectro/astra/0.3.0/v6_0_9-1.0/spectra/star\n"
     ]
    },
    {
     "name": "stderr",
     "output_type": "stream",
     "text": [
      " 55%|█████▍    | 84145/153700 [7:33:36<4:44:23,  4.08it/s]"
     ]
    },
    {
     "name": "stdout",
     "output_type": "stream",
     "text": [
      "File 27021597959381631 not found in /yngve_data/sdssv/ipl-2/spectro/astra/0.3.0/v6_0_9-1.0/spectra/star\n"
     ]
    },
    {
     "name": "stderr",
     "output_type": "stream",
     "text": [
      " 55%|█████▍    | 84154/153700 [7:33:37<4:15:20,  4.54it/s]"
     ]
    },
    {
     "name": "stdout",
     "output_type": "stream",
     "text": [
      "File 27021597959382166 not found in /yngve_data/sdssv/ipl-2/spectro/astra/0.3.0/v6_0_9-1.0/spectra/star\n"
     ]
    },
    {
     "name": "stderr",
     "output_type": "stream",
     "text": [
      " 55%|█████▍    | 84156/153700 [7:33:38<5:00:25,  3.86it/s]"
     ]
    },
    {
     "name": "stdout",
     "output_type": "stream",
     "text": [
      "File 27021597959382281 not found in /yngve_data/sdssv/ipl-2/spectro/astra/0.3.0/v6_0_9-1.0/spectra/star\n"
     ]
    },
    {
     "name": "stderr",
     "output_type": "stream",
     "text": [
      " 55%|█████▍    | 84162/153700 [7:33:39<4:59:49,  3.87it/s]"
     ]
    },
    {
     "name": "stdout",
     "output_type": "stream",
     "text": [
      "File 27021597959383037 not found in /yngve_data/sdssv/ipl-2/spectro/astra/0.3.0/v6_0_9-1.0/spectra/star\n"
     ]
    },
    {
     "name": "stderr",
     "output_type": "stream",
     "text": [
      " 55%|█████▍    | 84186/153700 [7:33:46<6:47:34,  2.84it/s]"
     ]
    },
    {
     "name": "stdout",
     "output_type": "stream",
     "text": [
      "File 27021597959385336 not found in /yngve_data/sdssv/ipl-2/spectro/astra/0.3.0/v6_0_9-1.0/spectra/star\n"
     ]
    },
    {
     "name": "stderr",
     "output_type": "stream",
     "text": [
      " 55%|█████▍    | 84187/153700 [7:33:46<7:44:17,  2.50it/s]"
     ]
    },
    {
     "name": "stdout",
     "output_type": "stream",
     "text": [
      "File 27021597959385554 not found in /yngve_data/sdssv/ipl-2/spectro/astra/0.3.0/v6_0_9-1.0/spectra/star\n"
     ]
    },
    {
     "name": "stderr",
     "output_type": "stream",
     "text": [
      " 55%|█████▍    | 84201/153700 [7:33:50<4:48:11,  4.02it/s]"
     ]
    },
    {
     "name": "stdout",
     "output_type": "stream",
     "text": [
      "File 27021597959392153 not found in /yngve_data/sdssv/ipl-2/spectro/astra/0.3.0/v6_0_9-1.0/spectra/star\n"
     ]
    },
    {
     "name": "stderr",
     "output_type": "stream",
     "text": [
      " 55%|█████▍    | 84213/153700 [7:33:54<6:58:27,  2.77it/s]"
     ]
    },
    {
     "name": "stdout",
     "output_type": "stream",
     "text": [
      "File 27021597959545455 not found in /yngve_data/sdssv/ipl-2/spectro/astra/0.3.0/v6_0_9-1.0/spectra/star\n"
     ]
    },
    {
     "name": "stderr",
     "output_type": "stream",
     "text": [
      " 55%|█████▍    | 84261/153700 [7:34:12<4:24:44,  4.37it/s] "
     ]
    },
    {
     "name": "stdout",
     "output_type": "stream",
     "text": [
      "File 27021597959551806 not found in /yngve_data/sdssv/ipl-2/spectro/astra/0.3.0/v6_0_9-1.0/spectra/star\n"
     ]
    },
    {
     "name": "stderr",
     "output_type": "stream",
     "text": [
      " 55%|█████▍    | 84264/153700 [7:34:13<4:47:35,  4.02it/s]"
     ]
    },
    {
     "name": "stdout",
     "output_type": "stream",
     "text": [
      "File 27021597959552233 not found in /yngve_data/sdssv/ipl-2/spectro/astra/0.3.0/v6_0_9-1.0/spectra/star\n"
     ]
    },
    {
     "name": "stderr",
     "output_type": "stream",
     "text": [
      " 55%|█████▍    | 84267/153700 [7:34:13<5:03:00,  3.82it/s]"
     ]
    },
    {
     "name": "stdout",
     "output_type": "stream",
     "text": [
      "File 27021597959552468 not found in /yngve_data/sdssv/ipl-2/spectro/astra/0.3.0/v6_0_9-1.0/spectra/star\n"
     ]
    },
    {
     "name": "stderr",
     "output_type": "stream",
     "text": [
      " 55%|█████▍    | 84318/153700 [7:34:25<3:15:56,  5.90it/s]"
     ]
    },
    {
     "name": "stdout",
     "output_type": "stream",
     "text": [
      "File 27021597959821520 not found in /yngve_data/sdssv/ipl-2/spectro/astra/0.3.0/v6_0_9-1.0/spectra/star\n"
     ]
    },
    {
     "name": "stderr",
     "output_type": "stream",
     "text": [
      " 55%|█████▍    | 84349/153700 [7:34:37<9:25:20,  2.04it/s]"
     ]
    },
    {
     "name": "stdout",
     "output_type": "stream",
     "text": [
      "File 27021597959839176 not found in /yngve_data/sdssv/ipl-2/spectro/astra/0.3.0/v6_0_9-1.0/spectra/star\n"
     ]
    },
    {
     "name": "stderr",
     "output_type": "stream",
     "text": [
      " 55%|█████▍    | 84355/153700 [7:34:40<9:59:27,  1.93it/s]"
     ]
    },
    {
     "name": "stdout",
     "output_type": "stream",
     "text": [
      "Traceback (most recent call last):\n",
      "  File \"/home/petershi/miniconda3/envs/SDSSV/lib/python3.11/site-packages/astropy/io/fits/column.py\", line 2142, in _get_index\n",
      "    indx = names.index(key.rstrip())\n",
      "           ^^^^^^^^^^^^^^^^^^^^^^^^^\n",
      "ValueError: 'SNR' is not in list\n",
      "\n",
      "During handling of the above exception, another exception occurred:\n",
      "\n",
      "Traceback (most recent call last):\n",
      "  File \"/tmp/ipykernel_10073/3388262553.py\", line 15, in <module>\n",
      "    cdata = getSDSSVData(cfile)\n",
      "            ^^^^^^^^^^^^^^^^^^^\n",
      "  File \"/tmp/ipykernel_10073/4007893978.py\", line 3, in getSDSSVData\n",
      "    snr = hdul[3].data[\"SNR\"]\n",
      "          ~~~~~~~~~~~~^^^^^^^\n",
      "  File \"/home/petershi/miniconda3/envs/SDSSV/lib/python3.11/site-packages/astropy/io/fits/fitsrec.py\", line 513, in __getitem__\n",
      "    return self.field(key)\n",
      "           ^^^^^^^^^^^^^^^\n",
      "  File \"/home/petershi/miniconda3/envs/SDSSV/lib/python3.11/site-packages/astropy/io/fits/fitsrec.py\", line 695, in field\n",
      "    column = self.columns[key]\n",
      "             ~~~~~~~~~~~~^^^^^\n",
      "  File \"/home/petershi/miniconda3/envs/SDSSV/lib/python3.11/site-packages/astropy/io/fits/column.py\", line 1751, in __getitem__\n",
      "    key = _get_index(self.names, key)\n",
      "          ^^^^^^^^^^^^^^^^^^^^^^^^^^^\n",
      "  File \"/home/petershi/miniconda3/envs/SDSSV/lib/python3.11/site-packages/astropy/io/fits/column.py\", line 2151, in _get_index\n",
      "    raise KeyError(f\"Key '{key}' does not exist.\")\n",
      "KeyError: \"Key 'SNR' does not exist.\"\n",
      "\n"
     ]
    },
    {
     "name": "stderr",
     "output_type": "stream",
     "text": [
      " 55%|█████▍    | 84360/153700 [7:34:42<9:57:17,  1.93it/s] "
     ]
    },
    {
     "name": "stdout",
     "output_type": "stream",
     "text": [
      "File 27021597959839904 not found in /yngve_data/sdssv/ipl-2/spectro/astra/0.3.0/v6_0_9-1.0/spectra/star\n"
     ]
    },
    {
     "name": "stderr",
     "output_type": "stream",
     "text": [
      " 55%|█████▍    | 84387/153700 [7:34:45<3:43:38,  5.17it/s] "
     ]
    },
    {
     "name": "stdout",
     "output_type": "stream",
     "text": [
      "File 27021597959842456 not found in /yngve_data/sdssv/ipl-2/spectro/astra/0.3.0/v6_0_9-1.0/spectra/star\n"
     ]
    },
    {
     "name": "stderr",
     "output_type": "stream",
     "text": [
      " 55%|█████▍    | 84389/153700 [7:34:46<4:39:37,  4.13it/s]"
     ]
    },
    {
     "name": "stdout",
     "output_type": "stream",
     "text": [
      "File 27021597959842567 not found in /yngve_data/sdssv/ipl-2/spectro/astra/0.3.0/v6_0_9-1.0/spectra/star\n"
     ]
    },
    {
     "name": "stderr",
     "output_type": "stream",
     "text": [
      " 55%|█████▍    | 84445/153700 [7:35:03<3:19:23,  5.79it/s]"
     ]
    },
    {
     "name": "stdout",
     "output_type": "stream",
     "text": [
      "Traceback (most recent call last):\n",
      "  File \"/home/petershi/miniconda3/envs/SDSSV/lib/python3.11/site-packages/astropy/io/fits/column.py\", line 2142, in _get_index\n",
      "    indx = names.index(key.rstrip())\n",
      "           ^^^^^^^^^^^^^^^^^^^^^^^^^\n",
      "ValueError: 'SNR' is not in list\n",
      "\n",
      "During handling of the above exception, another exception occurred:\n",
      "\n",
      "Traceback (most recent call last):\n",
      "  File \"/tmp/ipykernel_10073/3388262553.py\", line 15, in <module>\n",
      "    cdata = getSDSSVData(cfile)\n",
      "            ^^^^^^^^^^^^^^^^^^^\n",
      "  File \"/tmp/ipykernel_10073/4007893978.py\", line 3, in getSDSSVData\n",
      "    snr = hdul[3].data[\"SNR\"]\n",
      "          ~~~~~~~~~~~~^^^^^^^\n",
      "  File \"/home/petershi/miniconda3/envs/SDSSV/lib/python3.11/site-packages/astropy/io/fits/fitsrec.py\", line 513, in __getitem__\n",
      "    return self.field(key)\n",
      "           ^^^^^^^^^^^^^^^\n",
      "  File \"/home/petershi/miniconda3/envs/SDSSV/lib/python3.11/site-packages/astropy/io/fits/fitsrec.py\", line 695, in field\n",
      "    column = self.columns[key]\n",
      "             ~~~~~~~~~~~~^^^^^\n",
      "  File \"/home/petershi/miniconda3/envs/SDSSV/lib/python3.11/site-packages/astropy/io/fits/column.py\", line 1751, in __getitem__\n",
      "    key = _get_index(self.names, key)\n",
      "          ^^^^^^^^^^^^^^^^^^^^^^^^^^^\n",
      "  File \"/home/petershi/miniconda3/envs/SDSSV/lib/python3.11/site-packages/astropy/io/fits/column.py\", line 2151, in _get_index\n",
      "    raise KeyError(f\"Key '{key}' does not exist.\")\n",
      "KeyError: \"Key 'SNR' does not exist.\"\n",
      "\n"
     ]
    },
    {
     "name": "stderr",
     "output_type": "stream",
     "text": [
      " 55%|█████▍    | 84501/153700 [7:35:13<2:45:44,  6.96it/s]"
     ]
    },
    {
     "name": "stdout",
     "output_type": "stream",
     "text": [
      "Traceback (most recent call last):\n",
      "  File \"/home/petershi/miniconda3/envs/SDSSV/lib/python3.11/site-packages/astropy/io/fits/column.py\", line 2142, in _get_index\n",
      "    indx = names.index(key.rstrip())\n",
      "           ^^^^^^^^^^^^^^^^^^^^^^^^^\n",
      "ValueError: 'SNR' is not in list\n",
      "\n",
      "During handling of the above exception, another exception occurred:\n",
      "\n",
      "Traceback (most recent call last):\n",
      "  File \"/tmp/ipykernel_10073/3388262553.py\", line 15, in <module>\n",
      "    cdata = getSDSSVData(cfile)\n",
      "            ^^^^^^^^^^^^^^^^^^^\n",
      "  File \"/tmp/ipykernel_10073/4007893978.py\", line 3, in getSDSSVData\n",
      "    snr = hdul[3].data[\"SNR\"]\n",
      "          ~~~~~~~~~~~~^^^^^^^\n",
      "  File \"/home/petershi/miniconda3/envs/SDSSV/lib/python3.11/site-packages/astropy/io/fits/fitsrec.py\", line 513, in __getitem__\n",
      "    return self.field(key)\n",
      "           ^^^^^^^^^^^^^^^\n",
      "  File \"/home/petershi/miniconda3/envs/SDSSV/lib/python3.11/site-packages/astropy/io/fits/fitsrec.py\", line 695, in field\n",
      "    column = self.columns[key]\n",
      "             ~~~~~~~~~~~~^^^^^\n",
      "  File \"/home/petershi/miniconda3/envs/SDSSV/lib/python3.11/site-packages/astropy/io/fits/column.py\", line 1751, in __getitem__\n",
      "    key = _get_index(self.names, key)\n",
      "          ^^^^^^^^^^^^^^^^^^^^^^^^^^^\n",
      "  File \"/home/petershi/miniconda3/envs/SDSSV/lib/python3.11/site-packages/astropy/io/fits/column.py\", line 2151, in _get_index\n",
      "    raise KeyError(f\"Key '{key}' does not exist.\")\n",
      "KeyError: \"Key 'SNR' does not exist.\"\n",
      "\n"
     ]
    },
    {
     "name": "stderr",
     "output_type": "stream",
     "text": [
      " 55%|█████▍    | 84504/153700 [7:35:13<3:10:44,  6.05it/s]"
     ]
    },
    {
     "name": "stdout",
     "output_type": "stream",
     "text": [
      "Traceback (most recent call last):\n",
      "  File \"/home/petershi/miniconda3/envs/SDSSV/lib/python3.11/site-packages/astropy/io/fits/column.py\", line 2142, in _get_index\n",
      "    indx = names.index(key.rstrip())\n",
      "           ^^^^^^^^^^^^^^^^^^^^^^^^^\n",
      "ValueError: 'SNR' is not in list\n",
      "\n",
      "During handling of the above exception, another exception occurred:\n",
      "\n",
      "Traceback (most recent call last):\n",
      "  File \"/tmp/ipykernel_10073/3388262553.py\", line 15, in <module>\n",
      "    cdata = getSDSSVData(cfile)\n",
      "            ^^^^^^^^^^^^^^^^^^^\n",
      "  File \"/tmp/ipykernel_10073/4007893978.py\", line 3, in getSDSSVData\n",
      "    snr = hdul[3].data[\"SNR\"]\n",
      "          ~~~~~~~~~~~~^^^^^^^\n",
      "  File \"/home/petershi/miniconda3/envs/SDSSV/lib/python3.11/site-packages/astropy/io/fits/fitsrec.py\", line 513, in __getitem__\n",
      "    return self.field(key)\n",
      "           ^^^^^^^^^^^^^^^\n",
      "  File \"/home/petershi/miniconda3/envs/SDSSV/lib/python3.11/site-packages/astropy/io/fits/fitsrec.py\", line 695, in field\n",
      "    column = self.columns[key]\n",
      "             ~~~~~~~~~~~~^^^^^\n",
      "  File \"/home/petershi/miniconda3/envs/SDSSV/lib/python3.11/site-packages/astropy/io/fits/column.py\", line 1751, in __getitem__\n",
      "    key = _get_index(self.names, key)\n",
      "          ^^^^^^^^^^^^^^^^^^^^^^^^^^^\n",
      "  File \"/home/petershi/miniconda3/envs/SDSSV/lib/python3.11/site-packages/astropy/io/fits/column.py\", line 2151, in _get_index\n",
      "    raise KeyError(f\"Key '{key}' does not exist.\")\n",
      "KeyError: \"Key 'SNR' does not exist.\"\n",
      "\n"
     ]
    },
    {
     "name": "stderr",
     "output_type": "stream",
     "text": [
      " 55%|█████▍    | 84527/153700 [7:35:19<2:35:46,  7.40it/s] "
     ]
    },
    {
     "name": "stdout",
     "output_type": "stream",
     "text": [
      "Traceback (most recent call last):\n",
      "  File \"/home/petershi/miniconda3/envs/SDSSV/lib/python3.11/site-packages/astropy/io/fits/column.py\", line 2142, in _get_index\n",
      "    indx = names.index(key.rstrip())\n",
      "           ^^^^^^^^^^^^^^^^^^^^^^^^^\n",
      "ValueError: 'SNR' is not in list\n",
      "\n",
      "During handling of the above exception, another exception occurred:\n",
      "\n",
      "Traceback (most recent call last):\n",
      "  File \"/tmp/ipykernel_10073/3388262553.py\", line 15, in <module>\n",
      "    cdata = getSDSSVData(cfile)\n",
      "            ^^^^^^^^^^^^^^^^^^^\n",
      "  File \"/tmp/ipykernel_10073/4007893978.py\", line 3, in getSDSSVData\n",
      "    snr = hdul[3].data[\"SNR\"]\n",
      "          ~~~~~~~~~~~~^^^^^^^\n",
      "  File \"/home/petershi/miniconda3/envs/SDSSV/lib/python3.11/site-packages/astropy/io/fits/fitsrec.py\", line 513, in __getitem__\n",
      "    return self.field(key)\n",
      "           ^^^^^^^^^^^^^^^\n",
      "  File \"/home/petershi/miniconda3/envs/SDSSV/lib/python3.11/site-packages/astropy/io/fits/fitsrec.py\", line 695, in field\n",
      "    column = self.columns[key]\n",
      "             ~~~~~~~~~~~~^^^^^\n",
      "  File \"/home/petershi/miniconda3/envs/SDSSV/lib/python3.11/site-packages/astropy/io/fits/column.py\", line 1751, in __getitem__\n",
      "    key = _get_index(self.names, key)\n",
      "          ^^^^^^^^^^^^^^^^^^^^^^^^^^^\n",
      "  File \"/home/petershi/miniconda3/envs/SDSSV/lib/python3.11/site-packages/astropy/io/fits/column.py\", line 2151, in _get_index\n",
      "    raise KeyError(f\"Key '{key}' does not exist.\")\n",
      "KeyError: \"Key 'SNR' does not exist.\"\n",
      "\n",
      "Traceback (most recent call last):\n",
      "  File \"/home/petershi/miniconda3/envs/SDSSV/lib/python3.11/site-packages/astropy/io/fits/column.py\", line 2142, in _get_index\n",
      "    indx = names.index(key.rstrip())\n",
      "           ^^^^^^^^^^^^^^^^^^^^^^^^^\n",
      "ValueError: 'SNR' is not in list\n",
      "\n",
      "During handling of the above exception, another exception occurred:\n",
      "\n",
      "Traceback (most recent call last):\n",
      "  File \"/tmp/ipykernel_10073/3388262553.py\", line 15, in <module>\n",
      "    cdata = getSDSSVData(cfile)\n",
      "            ^^^^^^^^^^^^^^^^^^^\n",
      "  File \"/tmp/ipykernel_10073/4007893978.py\", line 3, in getSDSSVData\n",
      "    snr = hdul[3].data[\"SNR\"]\n",
      "          ~~~~~~~~~~~~^^^^^^^\n",
      "  File \"/home/petershi/miniconda3/envs/SDSSV/lib/python3.11/site-packages/astropy/io/fits/fitsrec.py\", line 513, in __getitem__\n",
      "    return self.field(key)\n",
      "           ^^^^^^^^^^^^^^^\n",
      "  File \"/home/petershi/miniconda3/envs/SDSSV/lib/python3.11/site-packages/astropy/io/fits/fitsrec.py\", line 695, in field\n",
      "    column = self.columns[key]\n",
      "             ~~~~~~~~~~~~^^^^^\n",
      "  File \"/home/petershi/miniconda3/envs/SDSSV/lib/python3.11/site-packages/astropy/io/fits/column.py\", line 1751, in __getitem__\n",
      "    key = _get_index(self.names, key)\n",
      "          ^^^^^^^^^^^^^^^^^^^^^^^^^^^\n",
      "  File \"/home/petershi/miniconda3/envs/SDSSV/lib/python3.11/site-packages/astropy/io/fits/column.py\", line 2151, in _get_index\n",
      "    raise KeyError(f\"Key '{key}' does not exist.\")\n",
      "KeyError: \"Key 'SNR' does not exist.\"\n",
      "\n"
     ]
    },
    {
     "name": "stderr",
     "output_type": "stream",
     "text": [
      " 55%|█████▍    | 84533/153700 [7:35:20<2:10:40,  8.82it/s]"
     ]
    },
    {
     "name": "stdout",
     "output_type": "stream",
     "text": [
      "Traceback (most recent call last):\n",
      "  File \"/home/petershi/miniconda3/envs/SDSSV/lib/python3.11/site-packages/astropy/io/fits/column.py\", line 2142, in _get_index\n",
      "    indx = names.index(key.rstrip())\n",
      "           ^^^^^^^^^^^^^^^^^^^^^^^^^\n",
      "ValueError: 'SNR' is not in list\n",
      "\n",
      "During handling of the above exception, another exception occurred:\n",
      "\n",
      "Traceback (most recent call last):\n",
      "  File \"/tmp/ipykernel_10073/3388262553.py\", line 15, in <module>\n",
      "    cdata = getSDSSVData(cfile)\n",
      "            ^^^^^^^^^^^^^^^^^^^\n",
      "  File \"/tmp/ipykernel_10073/4007893978.py\", line 3, in getSDSSVData\n",
      "    snr = hdul[3].data[\"SNR\"]\n",
      "          ~~~~~~~~~~~~^^^^^^^\n",
      "  File \"/home/petershi/miniconda3/envs/SDSSV/lib/python3.11/site-packages/astropy/io/fits/fitsrec.py\", line 513, in __getitem__\n",
      "    return self.field(key)\n",
      "           ^^^^^^^^^^^^^^^\n",
      "  File \"/home/petershi/miniconda3/envs/SDSSV/lib/python3.11/site-packages/astropy/io/fits/fitsrec.py\", line 695, in field\n",
      "    column = self.columns[key]\n",
      "             ~~~~~~~~~~~~^^^^^\n",
      "  File \"/home/petershi/miniconda3/envs/SDSSV/lib/python3.11/site-packages/astropy/io/fits/column.py\", line 1751, in __getitem__\n",
      "    key = _get_index(self.names, key)\n",
      "          ^^^^^^^^^^^^^^^^^^^^^^^^^^^\n",
      "  File \"/home/petershi/miniconda3/envs/SDSSV/lib/python3.11/site-packages/astropy/io/fits/column.py\", line 2151, in _get_index\n",
      "    raise KeyError(f\"Key '{key}' does not exist.\")\n",
      "KeyError: \"Key 'SNR' does not exist.\"\n",
      "\n"
     ]
    },
    {
     "name": "stderr",
     "output_type": "stream",
     "text": [
      " 55%|█████▌    | 84536/153700 [7:35:21<3:05:21,  6.22it/s]"
     ]
    },
    {
     "name": "stdout",
     "output_type": "stream",
     "text": [
      "File 27021597960671159 not found in /yngve_data/sdssv/ipl-2/spectro/astra/0.3.0/v6_0_9-1.0/spectra/star\n"
     ]
    },
    {
     "name": "stderr",
     "output_type": "stream",
     "text": [
      " 55%|█████▌    | 84549/153700 [7:35:23<4:23:32,  4.37it/s]"
     ]
    },
    {
     "name": "stdout",
     "output_type": "stream",
     "text": [
      "File 27021597960672373 not found in /yngve_data/sdssv/ipl-2/spectro/astra/0.3.0/v6_0_9-1.0/spectra/star\n"
     ]
    },
    {
     "name": "stderr",
     "output_type": "stream",
     "text": [
      " 55%|█████▌    | 84551/153700 [7:35:24<5:18:23,  3.62it/s]"
     ]
    },
    {
     "name": "stdout",
     "output_type": "stream",
     "text": [
      "File 27021597960672502 not found in /yngve_data/sdssv/ipl-2/spectro/astra/0.3.0/v6_0_9-1.0/spectra/star\n"
     ]
    },
    {
     "name": "stderr",
     "output_type": "stream",
     "text": [
      " 55%|█████▌    | 84560/153700 [7:35:25<3:54:20,  4.92it/s]"
     ]
    },
    {
     "name": "stdout",
     "output_type": "stream",
     "text": [
      "Traceback (most recent call last):\n",
      "  File \"/home/petershi/miniconda3/envs/SDSSV/lib/python3.11/site-packages/astropy/io/fits/column.py\", line 2142, in _get_index\n",
      "    indx = names.index(key.rstrip())\n",
      "           ^^^^^^^^^^^^^^^^^^^^^^^^^\n",
      "ValueError: 'SNR' is not in list\n",
      "\n",
      "During handling of the above exception, another exception occurred:\n",
      "\n",
      "Traceback (most recent call last):\n",
      "  File \"/tmp/ipykernel_10073/3388262553.py\", line 15, in <module>\n",
      "    cdata = getSDSSVData(cfile)\n",
      "            ^^^^^^^^^^^^^^^^^^^\n",
      "  File \"/tmp/ipykernel_10073/4007893978.py\", line 3, in getSDSSVData\n",
      "    snr = hdul[3].data[\"SNR\"]\n",
      "          ~~~~~~~~~~~~^^^^^^^\n",
      "  File \"/home/petershi/miniconda3/envs/SDSSV/lib/python3.11/site-packages/astropy/io/fits/fitsrec.py\", line 513, in __getitem__\n",
      "    return self.field(key)\n",
      "           ^^^^^^^^^^^^^^^\n",
      "  File \"/home/petershi/miniconda3/envs/SDSSV/lib/python3.11/site-packages/astropy/io/fits/fitsrec.py\", line 695, in field\n",
      "    column = self.columns[key]\n",
      "             ~~~~~~~~~~~~^^^^^\n",
      "  File \"/home/petershi/miniconda3/envs/SDSSV/lib/python3.11/site-packages/astropy/io/fits/column.py\", line 1751, in __getitem__\n",
      "    key = _get_index(self.names, key)\n",
      "          ^^^^^^^^^^^^^^^^^^^^^^^^^^^\n",
      "  File \"/home/petershi/miniconda3/envs/SDSSV/lib/python3.11/site-packages/astropy/io/fits/column.py\", line 2151, in _get_index\n",
      "    raise KeyError(f\"Key '{key}' does not exist.\")\n",
      "KeyError: \"Key 'SNR' does not exist.\"\n",
      "\n"
     ]
    },
    {
     "name": "stderr",
     "output_type": "stream",
     "text": [
      " 55%|█████▌    | 84561/153700 [7:35:26<5:39:36,  3.39it/s]"
     ]
    },
    {
     "name": "stdout",
     "output_type": "stream",
     "text": [
      "File 27021597960673165 not found in /yngve_data/sdssv/ipl-2/spectro/astra/0.3.0/v6_0_9-1.0/spectra/star\n"
     ]
    },
    {
     "name": "stderr",
     "output_type": "stream",
     "text": [
      " 55%|█████▌    | 84564/153700 [7:35:27<6:21:10,  3.02it/s]"
     ]
    },
    {
     "name": "stdout",
     "output_type": "stream",
     "text": [
      "File 27021597960673230 not found in /yngve_data/sdssv/ipl-2/spectro/astra/0.3.0/v6_0_9-1.0/spectra/star\n"
     ]
    },
    {
     "name": "stderr",
     "output_type": "stream",
     "text": [
      " 55%|█████▌    | 84568/153700 [7:35:28<6:35:23,  2.91it/s]"
     ]
    },
    {
     "name": "stdout",
     "output_type": "stream",
     "text": [
      "File 27021597960673469 not found in /yngve_data/sdssv/ipl-2/spectro/astra/0.3.0/v6_0_9-1.0/spectra/star\n"
     ]
    },
    {
     "name": "stderr",
     "output_type": "stream",
     "text": [
      " 55%|█████▌    | 84572/153700 [7:35:29<5:04:33,  3.78it/s]"
     ]
    },
    {
     "name": "stdout",
     "output_type": "stream",
     "text": [
      "Traceback (most recent call last):\n",
      "  File \"/home/petershi/miniconda3/envs/SDSSV/lib/python3.11/site-packages/astropy/io/fits/column.py\", line 2142, in _get_index\n",
      "    indx = names.index(key.rstrip())\n",
      "           ^^^^^^^^^^^^^^^^^^^^^^^^^\n",
      "ValueError: 'SNR' is not in list\n",
      "\n",
      "During handling of the above exception, another exception occurred:\n",
      "\n",
      "Traceback (most recent call last):\n",
      "  File \"/tmp/ipykernel_10073/3388262553.py\", line 15, in <module>\n",
      "    cdata = getSDSSVData(cfile)\n",
      "            ^^^^^^^^^^^^^^^^^^^\n",
      "  File \"/tmp/ipykernel_10073/4007893978.py\", line 3, in getSDSSVData\n",
      "    snr = hdul[3].data[\"SNR\"]\n",
      "          ~~~~~~~~~~~~^^^^^^^\n",
      "  File \"/home/petershi/miniconda3/envs/SDSSV/lib/python3.11/site-packages/astropy/io/fits/fitsrec.py\", line 513, in __getitem__\n",
      "    return self.field(key)\n",
      "           ^^^^^^^^^^^^^^^\n",
      "  File \"/home/petershi/miniconda3/envs/SDSSV/lib/python3.11/site-packages/astropy/io/fits/fitsrec.py\", line 695, in field\n",
      "    column = self.columns[key]\n",
      "             ~~~~~~~~~~~~^^^^^\n",
      "  File \"/home/petershi/miniconda3/envs/SDSSV/lib/python3.11/site-packages/astropy/io/fits/column.py\", line 1751, in __getitem__\n",
      "    key = _get_index(self.names, key)\n",
      "          ^^^^^^^^^^^^^^^^^^^^^^^^^^^\n",
      "  File \"/home/petershi/miniconda3/envs/SDSSV/lib/python3.11/site-packages/astropy/io/fits/column.py\", line 2151, in _get_index\n",
      "    raise KeyError(f\"Key '{key}' does not exist.\")\n",
      "KeyError: \"Key 'SNR' does not exist.\"\n",
      "\n"
     ]
    },
    {
     "name": "stderr",
     "output_type": "stream",
     "text": [
      " 55%|█████▌    | 84584/153700 [7:35:32<5:01:46,  3.82it/s]"
     ]
    },
    {
     "name": "stdout",
     "output_type": "stream",
     "text": [
      "Traceback (most recent call last):\n",
      "  File \"/home/petershi/miniconda3/envs/SDSSV/lib/python3.11/site-packages/astropy/io/fits/column.py\", line 2142, in _get_index\n",
      "    indx = names.index(key.rstrip())\n",
      "           ^^^^^^^^^^^^^^^^^^^^^^^^^\n",
      "ValueError: 'SNR' is not in list\n",
      "\n",
      "During handling of the above exception, another exception occurred:\n",
      "\n",
      "Traceback (most recent call last):\n",
      "  File \"/tmp/ipykernel_10073/3388262553.py\", line 15, in <module>\n",
      "    cdata = getSDSSVData(cfile)\n",
      "            ^^^^^^^^^^^^^^^^^^^\n",
      "  File \"/tmp/ipykernel_10073/4007893978.py\", line 3, in getSDSSVData\n",
      "    snr = hdul[3].data[\"SNR\"]\n",
      "          ~~~~~~~~~~~~^^^^^^^\n",
      "  File \"/home/petershi/miniconda3/envs/SDSSV/lib/python3.11/site-packages/astropy/io/fits/fitsrec.py\", line 513, in __getitem__\n",
      "    return self.field(key)\n",
      "           ^^^^^^^^^^^^^^^\n",
      "  File \"/home/petershi/miniconda3/envs/SDSSV/lib/python3.11/site-packages/astropy/io/fits/fitsrec.py\", line 695, in field\n",
      "    column = self.columns[key]\n",
      "             ~~~~~~~~~~~~^^^^^\n",
      "  File \"/home/petershi/miniconda3/envs/SDSSV/lib/python3.11/site-packages/astropy/io/fits/column.py\", line 1751, in __getitem__\n",
      "    key = _get_index(self.names, key)\n",
      "          ^^^^^^^^^^^^^^^^^^^^^^^^^^^\n",
      "  File \"/home/petershi/miniconda3/envs/SDSSV/lib/python3.11/site-packages/astropy/io/fits/column.py\", line 2151, in _get_index\n",
      "    raise KeyError(f\"Key '{key}' does not exist.\")\n",
      "KeyError: \"Key 'SNR' does not exist.\"\n",
      "\n"
     ]
    },
    {
     "name": "stderr",
     "output_type": "stream",
     "text": [
      " 55%|█████▌    | 84597/153700 [7:35:36<6:17:25,  3.05it/s]"
     ]
    },
    {
     "name": "stdout",
     "output_type": "stream",
     "text": [
      "Traceback (most recent call last):\n",
      "  File \"/home/petershi/miniconda3/envs/SDSSV/lib/python3.11/site-packages/astropy/io/fits/column.py\", line 2142, in _get_index\n",
      "    indx = names.index(key.rstrip())\n",
      "           ^^^^^^^^^^^^^^^^^^^^^^^^^\n",
      "ValueError: 'SNR' is not in list\n",
      "\n",
      "During handling of the above exception, another exception occurred:\n",
      "\n",
      "Traceback (most recent call last):\n",
      "  File \"/tmp/ipykernel_10073/3388262553.py\", line 15, in <module>\n",
      "    cdata = getSDSSVData(cfile)\n",
      "            ^^^^^^^^^^^^^^^^^^^\n",
      "  File \"/tmp/ipykernel_10073/4007893978.py\", line 3, in getSDSSVData\n",
      "    snr = hdul[3].data[\"SNR\"]\n",
      "          ~~~~~~~~~~~~^^^^^^^\n",
      "  File \"/home/petershi/miniconda3/envs/SDSSV/lib/python3.11/site-packages/astropy/io/fits/fitsrec.py\", line 513, in __getitem__\n",
      "    return self.field(key)\n",
      "           ^^^^^^^^^^^^^^^\n",
      "  File \"/home/petershi/miniconda3/envs/SDSSV/lib/python3.11/site-packages/astropy/io/fits/fitsrec.py\", line 695, in field\n",
      "    column = self.columns[key]\n",
      "             ~~~~~~~~~~~~^^^^^\n",
      "  File \"/home/petershi/miniconda3/envs/SDSSV/lib/python3.11/site-packages/astropy/io/fits/column.py\", line 1751, in __getitem__\n",
      "    key = _get_index(self.names, key)\n",
      "          ^^^^^^^^^^^^^^^^^^^^^^^^^^^\n",
      "  File \"/home/petershi/miniconda3/envs/SDSSV/lib/python3.11/site-packages/astropy/io/fits/column.py\", line 2151, in _get_index\n",
      "    raise KeyError(f\"Key '{key}' does not exist.\")\n",
      "KeyError: \"Key 'SNR' does not exist.\"\n",
      "\n"
     ]
    },
    {
     "name": "stderr",
     "output_type": "stream",
     "text": [
      " 55%|█████▌    | 84600/153700 [7:35:37<6:34:25,  2.92it/s]"
     ]
    },
    {
     "name": "stdout",
     "output_type": "stream",
     "text": [
      "Traceback (most recent call last):\n",
      "  File \"/home/petershi/miniconda3/envs/SDSSV/lib/python3.11/site-packages/astropy/io/fits/column.py\", line 2142, in _get_index\n",
      "    indx = names.index(key.rstrip())\n",
      "           ^^^^^^^^^^^^^^^^^^^^^^^^^\n",
      "ValueError: 'SNR' is not in list\n",
      "\n",
      "During handling of the above exception, another exception occurred:\n",
      "\n",
      "Traceback (most recent call last):\n",
      "  File \"/tmp/ipykernel_10073/3388262553.py\", line 15, in <module>\n",
      "    cdata = getSDSSVData(cfile)\n",
      "            ^^^^^^^^^^^^^^^^^^^\n",
      "  File \"/tmp/ipykernel_10073/4007893978.py\", line 3, in getSDSSVData\n",
      "    snr = hdul[3].data[\"SNR\"]\n",
      "          ~~~~~~~~~~~~^^^^^^^\n",
      "  File \"/home/petershi/miniconda3/envs/SDSSV/lib/python3.11/site-packages/astropy/io/fits/fitsrec.py\", line 513, in __getitem__\n",
      "    return self.field(key)\n",
      "           ^^^^^^^^^^^^^^^\n",
      "  File \"/home/petershi/miniconda3/envs/SDSSV/lib/python3.11/site-packages/astropy/io/fits/fitsrec.py\", line 695, in field\n",
      "    column = self.columns[key]\n",
      "             ~~~~~~~~~~~~^^^^^\n",
      "  File \"/home/petershi/miniconda3/envs/SDSSV/lib/python3.11/site-packages/astropy/io/fits/column.py\", line 1751, in __getitem__\n",
      "    key = _get_index(self.names, key)\n",
      "          ^^^^^^^^^^^^^^^^^^^^^^^^^^^\n",
      "  File \"/home/petershi/miniconda3/envs/SDSSV/lib/python3.11/site-packages/astropy/io/fits/column.py\", line 2151, in _get_index\n",
      "    raise KeyError(f\"Key '{key}' does not exist.\")\n",
      "KeyError: \"Key 'SNR' does not exist.\"\n",
      "\n"
     ]
    },
    {
     "name": "stderr",
     "output_type": "stream",
     "text": [
      " 55%|█████▌    | 84620/153700 [7:35:46<9:57:15,  1.93it/s]"
     ]
    },
    {
     "name": "stdout",
     "output_type": "stream",
     "text": [
      "File 27021597960679592 not found in /yngve_data/sdssv/ipl-2/spectro/astra/0.3.0/v6_0_9-1.0/spectra/star\n"
     ]
    },
    {
     "name": "stderr",
     "output_type": "stream",
     "text": [
      " 55%|█████▌    | 84674/153700 [7:36:00<3:14:53,  5.90it/s] "
     ]
    },
    {
     "name": "stdout",
     "output_type": "stream",
     "text": [
      "File 27021597961111473 not found in /yngve_data/sdssv/ipl-2/spectro/astra/0.3.0/v6_0_9-1.0/spectra/star\n"
     ]
    },
    {
     "name": "stderr",
     "output_type": "stream",
     "text": [
      " 55%|█████▌    | 84760/153700 [7:36:22<7:46:50,  2.46it/s]"
     ]
    },
    {
     "name": "stdout",
     "output_type": "stream",
     "text": [
      "File 27021597962717667 not found in /yngve_data/sdssv/ipl-2/spectro/astra/0.3.0/v6_0_9-1.0/spectra/star\n"
     ]
    },
    {
     "name": "stderr",
     "output_type": "stream",
     "text": [
      " 55%|█████▌    | 84912/153700 [7:37:04<5:42:28,  3.35it/s]"
     ]
    },
    {
     "name": "stdout",
     "output_type": "stream",
     "text": [
      "File 27021597965513372 not found in /yngve_data/sdssv/ipl-2/spectro/astra/0.3.0/v6_0_9-1.0/spectra/star\n"
     ]
    },
    {
     "name": "stderr",
     "output_type": "stream",
     "text": [
      " 55%|█████▌    | 84993/153700 [7:37:29<6:16:21,  3.04it/s] "
     ]
    },
    {
     "name": "stdout",
     "output_type": "stream",
     "text": [
      "File 27021597965615584 not found in /yngve_data/sdssv/ipl-2/spectro/astra/0.3.0/v6_0_9-1.0/spectra/star\n"
     ]
    },
    {
     "name": "stderr",
     "output_type": "stream",
     "text": [
      " 55%|█████▌    | 85022/153700 [7:37:36<3:36:15,  5.29it/s]"
     ]
    },
    {
     "name": "stdout",
     "output_type": "stream",
     "text": [
      "Traceback (most recent call last):\n",
      "  File \"/home/petershi/miniconda3/envs/SDSSV/lib/python3.11/site-packages/astropy/io/fits/column.py\", line 2142, in _get_index\n",
      "    indx = names.index(key.rstrip())\n",
      "           ^^^^^^^^^^^^^^^^^^^^^^^^^\n",
      "ValueError: 'SNR' is not in list\n",
      "\n",
      "During handling of the above exception, another exception occurred:\n",
      "\n",
      "Traceback (most recent call last):\n",
      "  File \"/tmp/ipykernel_10073/3388262553.py\", line 15, in <module>\n",
      "    cdata = getSDSSVData(cfile)\n",
      "            ^^^^^^^^^^^^^^^^^^^\n",
      "  File \"/tmp/ipykernel_10073/4007893978.py\", line 3, in getSDSSVData\n",
      "    snr = hdul[3].data[\"SNR\"]\n",
      "          ~~~~~~~~~~~~^^^^^^^\n",
      "  File \"/home/petershi/miniconda3/envs/SDSSV/lib/python3.11/site-packages/astropy/io/fits/fitsrec.py\", line 513, in __getitem__\n",
      "    return self.field(key)\n",
      "           ^^^^^^^^^^^^^^^\n",
      "  File \"/home/petershi/miniconda3/envs/SDSSV/lib/python3.11/site-packages/astropy/io/fits/fitsrec.py\", line 695, in field\n",
      "    column = self.columns[key]\n",
      "             ~~~~~~~~~~~~^^^^^\n",
      "  File \"/home/petershi/miniconda3/envs/SDSSV/lib/python3.11/site-packages/astropy/io/fits/column.py\", line 1751, in __getitem__\n",
      "    key = _get_index(self.names, key)\n",
      "          ^^^^^^^^^^^^^^^^^^^^^^^^^^^\n",
      "  File \"/home/petershi/miniconda3/envs/SDSSV/lib/python3.11/site-packages/astropy/io/fits/column.py\", line 2151, in _get_index\n",
      "    raise KeyError(f\"Key '{key}' does not exist.\")\n",
      "KeyError: \"Key 'SNR' does not exist.\"\n",
      "\n"
     ]
    },
    {
     "name": "stderr",
     "output_type": "stream",
     "text": [
      " 55%|█████▌    | 85075/153700 [7:37:52<9:04:37,  2.10it/s]"
     ]
    },
    {
     "name": "stdout",
     "output_type": "stream",
     "text": [
      "File 27021597970649051 not found in /yngve_data/sdssv/ipl-2/spectro/astra/0.3.0/v6_0_9-1.0/spectra/star\n"
     ]
    },
    {
     "name": "stderr",
     "output_type": "stream",
     "text": [
      " 55%|█████▌    | 85130/153700 [7:38:07<3:29:16,  5.46it/s] "
     ]
    },
    {
     "name": "stdout",
     "output_type": "stream",
     "text": [
      "Traceback (most recent call last):\n",
      "  File \"/home/petershi/miniconda3/envs/SDSSV/lib/python3.11/site-packages/astropy/io/fits/column.py\", line 2142, in _get_index\n",
      "    indx = names.index(key.rstrip())\n",
      "           ^^^^^^^^^^^^^^^^^^^^^^^^^\n",
      "ValueError: 'SNR' is not in list\n",
      "\n",
      "During handling of the above exception, another exception occurred:\n",
      "\n",
      "Traceback (most recent call last):\n",
      "  File \"/tmp/ipykernel_10073/3388262553.py\", line 15, in <module>\n",
      "    cdata = getSDSSVData(cfile)\n",
      "            ^^^^^^^^^^^^^^^^^^^\n",
      "  File \"/tmp/ipykernel_10073/4007893978.py\", line 3, in getSDSSVData\n",
      "    snr = hdul[3].data[\"SNR\"]\n",
      "          ~~~~~~~~~~~~^^^^^^^\n",
      "  File \"/home/petershi/miniconda3/envs/SDSSV/lib/python3.11/site-packages/astropy/io/fits/fitsrec.py\", line 513, in __getitem__\n",
      "    return self.field(key)\n",
      "           ^^^^^^^^^^^^^^^\n",
      "  File \"/home/petershi/miniconda3/envs/SDSSV/lib/python3.11/site-packages/astropy/io/fits/fitsrec.py\", line 695, in field\n",
      "    column = self.columns[key]\n",
      "             ~~~~~~~~~~~~^^^^^\n",
      "  File \"/home/petershi/miniconda3/envs/SDSSV/lib/python3.11/site-packages/astropy/io/fits/column.py\", line 1751, in __getitem__\n",
      "    key = _get_index(self.names, key)\n",
      "          ^^^^^^^^^^^^^^^^^^^^^^^^^^^\n",
      "  File \"/home/petershi/miniconda3/envs/SDSSV/lib/python3.11/site-packages/astropy/io/fits/column.py\", line 2151, in _get_index\n",
      "    raise KeyError(f\"Key '{key}' does not exist.\")\n",
      "KeyError: \"Key 'SNR' does not exist.\"\n",
      "\n"
     ]
    },
    {
     "name": "stderr",
     "output_type": "stream",
     "text": [
      " 56%|█████▌    | 85364/153700 [7:39:21<7:43:59,  2.45it/s] "
     ]
    },
    {
     "name": "stdout",
     "output_type": "stream",
     "text": [
      "File 27021597973936599 not found in /yngve_data/sdssv/ipl-2/spectro/astra/0.3.0/v6_0_9-1.0/spectra/star\n"
     ]
    },
    {
     "name": "stderr",
     "output_type": "stream",
     "text": [
      " 56%|█████▌    | 85369/153700 [7:39:23<5:49:35,  3.26it/s]"
     ]
    },
    {
     "name": "stdout",
     "output_type": "stream",
     "text": [
      "File 27021597973941272 not found in /yngve_data/sdssv/ipl-2/spectro/astra/0.3.0/v6_0_9-1.0/spectra/star\n"
     ]
    },
    {
     "name": "stderr",
     "output_type": "stream",
     "text": [
      " 56%|█████▌    | 85374/153700 [7:39:24<5:54:28,  3.21it/s]"
     ]
    },
    {
     "name": "stdout",
     "output_type": "stream",
     "text": [
      "File 27021597973943529 not found in /yngve_data/sdssv/ipl-2/spectro/astra/0.3.0/v6_0_9-1.0/spectra/star\n"
     ]
    },
    {
     "name": "stderr",
     "output_type": "stream",
     "text": [
      " 56%|█████▌    | 85378/153700 [7:39:26<8:33:38,  2.22it/s]"
     ]
    },
    {
     "name": "stdout",
     "output_type": "stream",
     "text": [
      "File 27021597973948143 not found in /yngve_data/sdssv/ipl-2/spectro/astra/0.3.0/v6_0_9-1.0/spectra/star\n"
     ]
    },
    {
     "name": "stderr",
     "output_type": "stream",
     "text": [
      " 56%|█████▌    | 85387/153700 [7:39:29<5:36:09,  3.39it/s]"
     ]
    },
    {
     "name": "stdout",
     "output_type": "stream",
     "text": [
      "File 27021597973951408 not found in /yngve_data/sdssv/ipl-2/spectro/astra/0.3.0/v6_0_9-1.0/spectra/star\n"
     ]
    },
    {
     "name": "stderr",
     "output_type": "stream",
     "text": [
      " 56%|█████▌    | 85414/153700 [7:39:38<9:17:51,  2.04it/s]"
     ]
    },
    {
     "name": "stdout",
     "output_type": "stream",
     "text": [
      "File 27021597973959158 not found in /yngve_data/sdssv/ipl-2/spectro/astra/0.3.0/v6_0_9-1.0/spectra/star\n"
     ]
    },
    {
     "name": "stderr",
     "output_type": "stream",
     "text": [
      " 56%|█████▌    | 85426/153700 [7:39:41<4:22:53,  4.33it/s] "
     ]
    },
    {
     "name": "stdout",
     "output_type": "stream",
     "text": [
      "File 27021597973961034 not found in /yngve_data/sdssv/ipl-2/spectro/astra/0.3.0/v6_0_9-1.0/spectra/star\n"
     ]
    },
    {
     "name": "stderr",
     "output_type": "stream",
     "text": [
      " 56%|█████▌    | 85431/153700 [7:39:42<3:07:40,  6.06it/s]"
     ]
    },
    {
     "name": "stdout",
     "output_type": "stream",
     "text": [
      "Traceback (most recent call last):\n",
      "  File \"/home/petershi/miniconda3/envs/SDSSV/lib/python3.11/site-packages/astropy/io/fits/column.py\", line 2142, in _get_index\n",
      "    indx = names.index(key.rstrip())\n",
      "           ^^^^^^^^^^^^^^^^^^^^^^^^^\n",
      "ValueError: 'SNR' is not in list\n",
      "\n",
      "During handling of the above exception, another exception occurred:\n",
      "\n",
      "Traceback (most recent call last):\n",
      "  File \"/tmp/ipykernel_10073/3388262553.py\", line 15, in <module>\n",
      "    cdata = getSDSSVData(cfile)\n",
      "            ^^^^^^^^^^^^^^^^^^^\n",
      "  File \"/tmp/ipykernel_10073/4007893978.py\", line 3, in getSDSSVData\n",
      "    snr = hdul[3].data[\"SNR\"]\n",
      "          ~~~~~~~~~~~~^^^^^^^\n",
      "  File \"/home/petershi/miniconda3/envs/SDSSV/lib/python3.11/site-packages/astropy/io/fits/fitsrec.py\", line 513, in __getitem__\n",
      "    return self.field(key)\n",
      "           ^^^^^^^^^^^^^^^\n",
      "  File \"/home/petershi/miniconda3/envs/SDSSV/lib/python3.11/site-packages/astropy/io/fits/fitsrec.py\", line 695, in field\n",
      "    column = self.columns[key]\n",
      "             ~~~~~~~~~~~~^^^^^\n",
      "  File \"/home/petershi/miniconda3/envs/SDSSV/lib/python3.11/site-packages/astropy/io/fits/column.py\", line 1751, in __getitem__\n",
      "    key = _get_index(self.names, key)\n",
      "          ^^^^^^^^^^^^^^^^^^^^^^^^^^^\n",
      "  File \"/home/petershi/miniconda3/envs/SDSSV/lib/python3.11/site-packages/astropy/io/fits/column.py\", line 2151, in _get_index\n",
      "    raise KeyError(f\"Key '{key}' does not exist.\")\n",
      "KeyError: \"Key 'SNR' does not exist.\"\n",
      "\n"
     ]
    },
    {
     "name": "stderr",
     "output_type": "stream",
     "text": [
      " 56%|█████▌    | 85582/153700 [7:40:27<8:50:11,  2.14it/s]"
     ]
    },
    {
     "name": "stdout",
     "output_type": "stream",
     "text": [
      "File 27021598027242737 not found in /yngve_data/sdssv/ipl-2/spectro/astra/0.3.0/v6_0_9-1.0/spectra/star\n"
     ]
    },
    {
     "name": "stderr",
     "output_type": "stream",
     "text": [
      " 56%|█████▌    | 86448/153700 [7:44:43<6:46:06,  2.76it/s] "
     ]
    },
    {
     "name": "stdout",
     "output_type": "stream",
     "text": [
      "Traceback (most recent call last):\n",
      "  File \"/home/petershi/miniconda3/envs/SDSSV/lib/python3.11/site-packages/astropy/io/fits/column.py\", line 2142, in _get_index\n",
      "    indx = names.index(key.rstrip())\n",
      "           ^^^^^^^^^^^^^^^^^^^^^^^^^\n",
      "ValueError: 'SNR' is not in list\n",
      "\n",
      "During handling of the above exception, another exception occurred:\n",
      "\n",
      "Traceback (most recent call last):\n",
      "  File \"/tmp/ipykernel_10073/3388262553.py\", line 15, in <module>\n",
      "    cdata = getSDSSVData(cfile)\n",
      "            ^^^^^^^^^^^^^^^^^^^\n",
      "  File \"/tmp/ipykernel_10073/4007893978.py\", line 3, in getSDSSVData\n",
      "    snr = hdul[3].data[\"SNR\"]\n",
      "          ~~~~~~~~~~~~^^^^^^^\n",
      "  File \"/home/petershi/miniconda3/envs/SDSSV/lib/python3.11/site-packages/astropy/io/fits/fitsrec.py\", line 513, in __getitem__\n",
      "    return self.field(key)\n",
      "           ^^^^^^^^^^^^^^^\n",
      "  File \"/home/petershi/miniconda3/envs/SDSSV/lib/python3.11/site-packages/astropy/io/fits/fitsrec.py\", line 695, in field\n",
      "    column = self.columns[key]\n",
      "             ~~~~~~~~~~~~^^^^^\n",
      "  File \"/home/petershi/miniconda3/envs/SDSSV/lib/python3.11/site-packages/astropy/io/fits/column.py\", line 1751, in __getitem__\n",
      "    key = _get_index(self.names, key)\n",
      "          ^^^^^^^^^^^^^^^^^^^^^^^^^^^\n",
      "  File \"/home/petershi/miniconda3/envs/SDSSV/lib/python3.11/site-packages/astropy/io/fits/column.py\", line 2151, in _get_index\n",
      "    raise KeyError(f\"Key '{key}' does not exist.\")\n",
      "KeyError: \"Key 'SNR' does not exist.\"\n",
      "\n"
     ]
    },
    {
     "name": "stderr",
     "output_type": "stream",
     "text": [
      " 56%|█████▋    | 86714/153700 [7:46:05<5:34:14,  3.34it/s] "
     ]
    },
    {
     "name": "stdout",
     "output_type": "stream",
     "text": [
      "Traceback (most recent call last):\n",
      "  File \"/home/petershi/miniconda3/envs/SDSSV/lib/python3.11/site-packages/astropy/io/fits/column.py\", line 2142, in _get_index\n",
      "    indx = names.index(key.rstrip())\n",
      "           ^^^^^^^^^^^^^^^^^^^^^^^^^\n",
      "ValueError: 'SNR' is not in list\n",
      "\n",
      "During handling of the above exception, another exception occurred:\n",
      "\n",
      "Traceback (most recent call last):\n",
      "  File \"/tmp/ipykernel_10073/3388262553.py\", line 15, in <module>\n",
      "    cdata = getSDSSVData(cfile)\n",
      "            ^^^^^^^^^^^^^^^^^^^\n",
      "  File \"/tmp/ipykernel_10073/4007893978.py\", line 3, in getSDSSVData\n",
      "    snr = hdul[3].data[\"SNR\"]\n",
      "          ~~~~~~~~~~~~^^^^^^^\n",
      "  File \"/home/petershi/miniconda3/envs/SDSSV/lib/python3.11/site-packages/astropy/io/fits/fitsrec.py\", line 513, in __getitem__\n",
      "    return self.field(key)\n",
      "           ^^^^^^^^^^^^^^^\n",
      "  File \"/home/petershi/miniconda3/envs/SDSSV/lib/python3.11/site-packages/astropy/io/fits/fitsrec.py\", line 695, in field\n",
      "    column = self.columns[key]\n",
      "             ~~~~~~~~~~~~^^^^^\n",
      "  File \"/home/petershi/miniconda3/envs/SDSSV/lib/python3.11/site-packages/astropy/io/fits/column.py\", line 1751, in __getitem__\n",
      "    key = _get_index(self.names, key)\n",
      "          ^^^^^^^^^^^^^^^^^^^^^^^^^^^\n",
      "  File \"/home/petershi/miniconda3/envs/SDSSV/lib/python3.11/site-packages/astropy/io/fits/column.py\", line 2151, in _get_index\n",
      "    raise KeyError(f\"Key '{key}' does not exist.\")\n",
      "KeyError: \"Key 'SNR' does not exist.\"\n",
      "\n"
     ]
    },
    {
     "name": "stderr",
     "output_type": "stream",
     "text": [
      " 56%|█████▋    | 86798/153700 [7:46:35<4:52:45,  3.81it/s] "
     ]
    },
    {
     "name": "stdout",
     "output_type": "stream",
     "text": [
      "Traceback (most recent call last):\n",
      "  File \"/home/petershi/miniconda3/envs/SDSSV/lib/python3.11/site-packages/astropy/io/fits/column.py\", line 2142, in _get_index\n",
      "    indx = names.index(key.rstrip())\n",
      "           ^^^^^^^^^^^^^^^^^^^^^^^^^\n",
      "ValueError: 'SNR' is not in list\n",
      "\n",
      "During handling of the above exception, another exception occurred:\n",
      "\n",
      "Traceback (most recent call last):\n",
      "  File \"/tmp/ipykernel_10073/3388262553.py\", line 15, in <module>\n",
      "    cdata = getSDSSVData(cfile)\n",
      "            ^^^^^^^^^^^^^^^^^^^\n",
      "  File \"/tmp/ipykernel_10073/4007893978.py\", line 3, in getSDSSVData\n",
      "    snr = hdul[3].data[\"SNR\"]\n",
      "          ~~~~~~~~~~~~^^^^^^^\n",
      "  File \"/home/petershi/miniconda3/envs/SDSSV/lib/python3.11/site-packages/astropy/io/fits/fitsrec.py\", line 513, in __getitem__\n",
      "    return self.field(key)\n",
      "           ^^^^^^^^^^^^^^^\n",
      "  File \"/home/petershi/miniconda3/envs/SDSSV/lib/python3.11/site-packages/astropy/io/fits/fitsrec.py\", line 695, in field\n",
      "    column = self.columns[key]\n",
      "             ~~~~~~~~~~~~^^^^^\n",
      "  File \"/home/petershi/miniconda3/envs/SDSSV/lib/python3.11/site-packages/astropy/io/fits/column.py\", line 1751, in __getitem__\n",
      "    key = _get_index(self.names, key)\n",
      "          ^^^^^^^^^^^^^^^^^^^^^^^^^^^\n",
      "  File \"/home/petershi/miniconda3/envs/SDSSV/lib/python3.11/site-packages/astropy/io/fits/column.py\", line 2151, in _get_index\n",
      "    raise KeyError(f\"Key '{key}' does not exist.\")\n",
      "KeyError: \"Key 'SNR' does not exist.\"\n",
      "\n"
     ]
    },
    {
     "name": "stderr",
     "output_type": "stream",
     "text": [
      " 56%|█████▋    | 86802/153700 [7:46:37<7:04:06,  2.63it/s]"
     ]
    },
    {
     "name": "stdout",
     "output_type": "stream",
     "text": [
      "File 27021598031346781 not found in /yngve_data/sdssv/ipl-2/spectro/astra/0.3.0/v6_0_9-1.0/spectra/star\n"
     ]
    },
    {
     "name": "stderr",
     "output_type": "stream",
     "text": [
      " 57%|█████▋    | 87089/153700 [7:48:04<6:26:37,  2.87it/s] "
     ]
    },
    {
     "name": "stdout",
     "output_type": "stream",
     "text": [
      "File 27021598031836859 not found in /yngve_data/sdssv/ipl-2/spectro/astra/0.3.0/v6_0_9-1.0/spectra/star\n"
     ]
    },
    {
     "name": "stderr",
     "output_type": "stream",
     "text": [
      " 57%|█████▋    | 87104/153700 [7:48:09<5:03:40,  3.65it/s]"
     ]
    },
    {
     "name": "stdout",
     "output_type": "stream",
     "text": [
      "File 27021598031849234 not found in /yngve_data/sdssv/ipl-2/spectro/astra/0.3.0/v6_0_9-1.0/spectra/star\n"
     ]
    },
    {
     "name": "stderr",
     "output_type": "stream",
     "text": [
      " 57%|█████▋    | 87218/153700 [7:48:42<7:09:54,  2.58it/s]"
     ]
    },
    {
     "name": "stdout",
     "output_type": "stream",
     "text": [
      "File 27021598032047326 not found in /yngve_data/sdssv/ipl-2/spectro/astra/0.3.0/v6_0_9-1.0/spectra/star\n"
     ]
    },
    {
     "name": "stderr",
     "output_type": "stream",
     "text": [
      " 57%|█████▋    | 87338/153700 [7:49:19<4:34:57,  4.02it/s]"
     ]
    },
    {
     "name": "stdout",
     "output_type": "stream",
     "text": [
      "File 27021598032709938 not found in /yngve_data/sdssv/ipl-2/spectro/astra/0.3.0/v6_0_9-1.0/spectra/star\n"
     ]
    },
    {
     "name": "stderr",
     "output_type": "stream",
     "text": [
      " 57%|█████▋    | 87418/153700 [7:49:41<6:26:44,  2.86it/s]"
     ]
    },
    {
     "name": "stdout",
     "output_type": "stream",
     "text": [
      "File 27021598032861979 not found in /yngve_data/sdssv/ipl-2/spectro/astra/0.3.0/v6_0_9-1.0/spectra/star\n"
     ]
    },
    {
     "name": "stderr",
     "output_type": "stream",
     "text": [
      " 57%|█████▋    | 87436/153700 [7:49:45<5:39:18,  3.25it/s]"
     ]
    },
    {
     "name": "stdout",
     "output_type": "stream",
     "text": [
      "File 27021598032890143 not found in /yngve_data/sdssv/ipl-2/spectro/astra/0.3.0/v6_0_9-1.0/spectra/star\n"
     ]
    },
    {
     "name": "stderr",
     "output_type": "stream",
     "text": [
      " 57%|█████▋    | 87641/153700 [7:50:44<5:50:03,  3.15it/s]"
     ]
    },
    {
     "name": "stdout",
     "output_type": "stream",
     "text": [
      "File 27021598035873272 not found in /yngve_data/sdssv/ipl-2/spectro/astra/0.3.0/v6_0_9-1.0/spectra/star\n"
     ]
    },
    {
     "name": "stderr",
     "output_type": "stream",
     "text": [
      " 57%|█████▋    | 87893/153700 [7:51:57<5:13:21,  3.50it/s]"
     ]
    },
    {
     "name": "stdout",
     "output_type": "stream",
     "text": [
      "File 27021598037184180 not found in /yngve_data/sdssv/ipl-2/spectro/astra/0.3.0/v6_0_9-1.0/spectra/star\n"
     ]
    },
    {
     "name": "stderr",
     "output_type": "stream",
     "text": [
      " 57%|█████▋    | 88099/153700 [7:52:56<8:35:28,  2.12it/s]"
     ]
    },
    {
     "name": "stdout",
     "output_type": "stream",
     "text": [
      "File 27021598043833334 not found in /yngve_data/sdssv/ipl-2/spectro/astra/0.3.0/v6_0_9-1.0/spectra/star\n"
     ]
    },
    {
     "name": "stderr",
     "output_type": "stream",
     "text": [
      " 57%|█████▋    | 88169/153700 [7:53:15<6:33:05,  2.78it/s]"
     ]
    },
    {
     "name": "stdout",
     "output_type": "stream",
     "text": [
      "File 27021598043978217 not found in /yngve_data/sdssv/ipl-2/spectro/astra/0.3.0/v6_0_9-1.0/spectra/star\n"
     ]
    },
    {
     "name": "stderr",
     "output_type": "stream",
     "text": [
      " 57%|█████▋    | 88190/153700 [7:53:21<6:05:55,  2.98it/s]"
     ]
    },
    {
     "name": "stdout",
     "output_type": "stream",
     "text": [
      "File 27021598044014029 not found in /yngve_data/sdssv/ipl-2/spectro/astra/0.3.0/v6_0_9-1.0/spectra/star\n"
     ]
    },
    {
     "name": "stderr",
     "output_type": "stream",
     "text": [
      " 57%|█████▋    | 88196/153700 [7:53:22<5:01:46,  3.62it/s]"
     ]
    },
    {
     "name": "stdout",
     "output_type": "stream",
     "text": [
      "File 27021598044022738 not found in /yngve_data/sdssv/ipl-2/spectro/astra/0.3.0/v6_0_9-1.0/spectra/star\n"
     ]
    },
    {
     "name": "stderr",
     "output_type": "stream",
     "text": [
      " 57%|█████▋    | 88198/153700 [7:53:23<4:32:35,  4.00it/s]"
     ]
    },
    {
     "name": "stdout",
     "output_type": "stream",
     "text": [
      "Traceback (most recent call last):\n",
      "  File \"/home/petershi/miniconda3/envs/SDSSV/lib/python3.11/site-packages/astropy/io/fits/column.py\", line 2142, in _get_index\n",
      "    indx = names.index(key.rstrip())\n",
      "           ^^^^^^^^^^^^^^^^^^^^^^^^^\n",
      "ValueError: 'SNR' is not in list\n",
      "\n",
      "During handling of the above exception, another exception occurred:\n",
      "\n",
      "Traceback (most recent call last):\n",
      "  File \"/tmp/ipykernel_10073/3388262553.py\", line 15, in <module>\n",
      "    cdata = getSDSSVData(cfile)\n",
      "            ^^^^^^^^^^^^^^^^^^^\n",
      "  File \"/tmp/ipykernel_10073/4007893978.py\", line 3, in getSDSSVData\n",
      "    snr = hdul[3].data[\"SNR\"]\n",
      "          ~~~~~~~~~~~~^^^^^^^\n",
      "  File \"/home/petershi/miniconda3/envs/SDSSV/lib/python3.11/site-packages/astropy/io/fits/fitsrec.py\", line 513, in __getitem__\n",
      "    return self.field(key)\n",
      "           ^^^^^^^^^^^^^^^\n",
      "  File \"/home/petershi/miniconda3/envs/SDSSV/lib/python3.11/site-packages/astropy/io/fits/fitsrec.py\", line 695, in field\n",
      "    column = self.columns[key]\n",
      "             ~~~~~~~~~~~~^^^^^\n",
      "  File \"/home/petershi/miniconda3/envs/SDSSV/lib/python3.11/site-packages/astropy/io/fits/column.py\", line 1751, in __getitem__\n",
      "    key = _get_index(self.names, key)\n",
      "          ^^^^^^^^^^^^^^^^^^^^^^^^^^^\n",
      "  File \"/home/petershi/miniconda3/envs/SDSSV/lib/python3.11/site-packages/astropy/io/fits/column.py\", line 2151, in _get_index\n",
      "    raise KeyError(f\"Key '{key}' does not exist.\")\n",
      "KeyError: \"Key 'SNR' does not exist.\"\n",
      "\n"
     ]
    },
    {
     "name": "stderr",
     "output_type": "stream",
     "text": [
      " 57%|█████▋    | 88218/153700 [7:53:29<6:53:37,  2.64it/s]"
     ]
    },
    {
     "name": "stdout",
     "output_type": "stream",
     "text": [
      "File 27021598048428515 not found in /yngve_data/sdssv/ipl-2/spectro/astra/0.3.0/v6_0_9-1.0/spectra/star\n"
     ]
    },
    {
     "name": "stderr",
     "output_type": "stream",
     "text": [
      " 58%|█████▊    | 88501/153700 [7:54:50<7:04:26,  2.56it/s]"
     ]
    },
    {
     "name": "stdout",
     "output_type": "stream",
     "text": [
      "Traceback (most recent call last):\n",
      "  File \"/home/petershi/miniconda3/envs/SDSSV/lib/python3.11/site-packages/astropy/io/fits/column.py\", line 2142, in _get_index\n",
      "    indx = names.index(key.rstrip())\n",
      "           ^^^^^^^^^^^^^^^^^^^^^^^^^\n",
      "ValueError: 'SNR' is not in list\n",
      "\n",
      "During handling of the above exception, another exception occurred:\n",
      "\n",
      "Traceback (most recent call last):\n",
      "  File \"/tmp/ipykernel_10073/3388262553.py\", line 15, in <module>\n",
      "    cdata = getSDSSVData(cfile)\n",
      "            ^^^^^^^^^^^^^^^^^^^\n",
      "  File \"/tmp/ipykernel_10073/4007893978.py\", line 3, in getSDSSVData\n",
      "    snr = hdul[3].data[\"SNR\"]\n",
      "          ~~~~~~~~~~~~^^^^^^^\n",
      "  File \"/home/petershi/miniconda3/envs/SDSSV/lib/python3.11/site-packages/astropy/io/fits/fitsrec.py\", line 513, in __getitem__\n",
      "    return self.field(key)\n",
      "           ^^^^^^^^^^^^^^^\n",
      "  File \"/home/petershi/miniconda3/envs/SDSSV/lib/python3.11/site-packages/astropy/io/fits/fitsrec.py\", line 695, in field\n",
      "    column = self.columns[key]\n",
      "             ~~~~~~~~~~~~^^^^^\n",
      "  File \"/home/petershi/miniconda3/envs/SDSSV/lib/python3.11/site-packages/astropy/io/fits/column.py\", line 1751, in __getitem__\n",
      "    key = _get_index(self.names, key)\n",
      "          ^^^^^^^^^^^^^^^^^^^^^^^^^^^\n",
      "  File \"/home/petershi/miniconda3/envs/SDSSV/lib/python3.11/site-packages/astropy/io/fits/column.py\", line 2151, in _get_index\n",
      "    raise KeyError(f\"Key '{key}' does not exist.\")\n",
      "KeyError: \"Key 'SNR' does not exist.\"\n",
      "\n"
     ]
    },
    {
     "name": "stderr",
     "output_type": "stream",
     "text": [
      " 58%|█████▊    | 88508/153700 [7:54:53<8:16:04,  2.19it/s]"
     ]
    },
    {
     "name": "stdout",
     "output_type": "stream",
     "text": [
      "File 27021598050357803 not found in /yngve_data/sdssv/ipl-2/spectro/astra/0.3.0/v6_0_9-1.0/spectra/star\n"
     ]
    },
    {
     "name": "stderr",
     "output_type": "stream",
     "text": [
      " 58%|█████▊    | 88512/153700 [7:54:55<8:44:26,  2.07it/s]"
     ]
    },
    {
     "name": "stdout",
     "output_type": "stream",
     "text": [
      "File 27021598050358659 not found in /yngve_data/sdssv/ipl-2/spectro/astra/0.3.0/v6_0_9-1.0/spectra/star\n"
     ]
    },
    {
     "name": "stderr",
     "output_type": "stream",
     "text": [
      " 58%|█████▊    | 88520/153700 [7:54:59<9:15:49,  1.95it/s]"
     ]
    },
    {
     "name": "stdout",
     "output_type": "stream",
     "text": [
      "File 27021598050359419 not found in /yngve_data/sdssv/ipl-2/spectro/astra/0.3.0/v6_0_9-1.0/spectra/star\n"
     ]
    },
    {
     "name": "stderr",
     "output_type": "stream",
     "text": [
      " 58%|█████▊    | 88542/153700 [7:55:08<7:39:05,  2.37it/s]"
     ]
    },
    {
     "name": "stdout",
     "output_type": "stream",
     "text": [
      "File 27021598050377272 not found in /yngve_data/sdssv/ipl-2/spectro/astra/0.3.0/v6_0_9-1.0/spectra/star\n"
     ]
    },
    {
     "name": "stderr",
     "output_type": "stream",
     "text": [
      " 58%|█████▊    | 88592/153700 [7:55:21<6:09:36,  2.94it/s]"
     ]
    },
    {
     "name": "stdout",
     "output_type": "stream",
     "text": [
      "Traceback (most recent call last):\n",
      "  File \"/home/petershi/miniconda3/envs/SDSSV/lib/python3.11/site-packages/astropy/io/fits/column.py\", line 2142, in _get_index\n",
      "    indx = names.index(key.rstrip())\n",
      "           ^^^^^^^^^^^^^^^^^^^^^^^^^\n",
      "ValueError: 'SNR' is not in list\n",
      "\n",
      "During handling of the above exception, another exception occurred:\n",
      "\n",
      "Traceback (most recent call last):\n",
      "  File \"/tmp/ipykernel_10073/3388262553.py\", line 15, in <module>\n",
      "    cdata = getSDSSVData(cfile)\n",
      "            ^^^^^^^^^^^^^^^^^^^\n",
      "  File \"/tmp/ipykernel_10073/4007893978.py\", line 3, in getSDSSVData\n",
      "    snr = hdul[3].data[\"SNR\"]\n",
      "          ~~~~~~~~~~~~^^^^^^^\n",
      "  File \"/home/petershi/miniconda3/envs/SDSSV/lib/python3.11/site-packages/astropy/io/fits/fitsrec.py\", line 513, in __getitem__\n",
      "    return self.field(key)\n",
      "           ^^^^^^^^^^^^^^^\n",
      "  File \"/home/petershi/miniconda3/envs/SDSSV/lib/python3.11/site-packages/astropy/io/fits/fitsrec.py\", line 695, in field\n",
      "    column = self.columns[key]\n",
      "             ~~~~~~~~~~~~^^^^^\n",
      "  File \"/home/petershi/miniconda3/envs/SDSSV/lib/python3.11/site-packages/astropy/io/fits/column.py\", line 1751, in __getitem__\n",
      "    key = _get_index(self.names, key)\n",
      "          ^^^^^^^^^^^^^^^^^^^^^^^^^^^\n",
      "  File \"/home/petershi/miniconda3/envs/SDSSV/lib/python3.11/site-packages/astropy/io/fits/column.py\", line 2151, in _get_index\n",
      "    raise KeyError(f\"Key '{key}' does not exist.\")\n",
      "KeyError: \"Key 'SNR' does not exist.\"\n",
      "\n"
     ]
    },
    {
     "name": "stderr",
     "output_type": "stream",
     "text": [
      " 58%|█████▊    | 88593/153700 [7:55:21<7:12:28,  2.51it/s]"
     ]
    },
    {
     "name": "stdout",
     "output_type": "stream",
     "text": [
      "File 27021598051615475 not found in /yngve_data/sdssv/ipl-2/spectro/astra/0.3.0/v6_0_9-1.0/spectra/star\n"
     ]
    },
    {
     "name": "stderr",
     "output_type": "stream",
     "text": [
      " 58%|█████▊    | 88594/153700 [7:55:22<6:41:58,  2.70it/s]"
     ]
    },
    {
     "name": "stdout",
     "output_type": "stream",
     "text": [
      "Traceback (most recent call last):\n",
      "  File \"/home/petershi/miniconda3/envs/SDSSV/lib/python3.11/site-packages/astropy/io/fits/column.py\", line 2142, in _get_index\n",
      "    indx = names.index(key.rstrip())\n",
      "           ^^^^^^^^^^^^^^^^^^^^^^^^^\n",
      "ValueError: 'SNR' is not in list\n",
      "\n",
      "During handling of the above exception, another exception occurred:\n",
      "\n",
      "Traceback (most recent call last):\n",
      "  File \"/tmp/ipykernel_10073/3388262553.py\", line 15, in <module>\n",
      "    cdata = getSDSSVData(cfile)\n",
      "            ^^^^^^^^^^^^^^^^^^^\n",
      "  File \"/tmp/ipykernel_10073/4007893978.py\", line 3, in getSDSSVData\n",
      "    snr = hdul[3].data[\"SNR\"]\n",
      "          ~~~~~~~~~~~~^^^^^^^\n",
      "  File \"/home/petershi/miniconda3/envs/SDSSV/lib/python3.11/site-packages/astropy/io/fits/fitsrec.py\", line 513, in __getitem__\n",
      "    return self.field(key)\n",
      "           ^^^^^^^^^^^^^^^\n",
      "  File \"/home/petershi/miniconda3/envs/SDSSV/lib/python3.11/site-packages/astropy/io/fits/fitsrec.py\", line 695, in field\n",
      "    column = self.columns[key]\n",
      "             ~~~~~~~~~~~~^^^^^\n",
      "  File \"/home/petershi/miniconda3/envs/SDSSV/lib/python3.11/site-packages/astropy/io/fits/column.py\", line 1751, in __getitem__\n",
      "    key = _get_index(self.names, key)\n",
      "          ^^^^^^^^^^^^^^^^^^^^^^^^^^^\n",
      "  File \"/home/petershi/miniconda3/envs/SDSSV/lib/python3.11/site-packages/astropy/io/fits/column.py\", line 2151, in _get_index\n",
      "    raise KeyError(f\"Key '{key}' does not exist.\")\n",
      "KeyError: \"Key 'SNR' does not exist.\"\n",
      "\n"
     ]
    },
    {
     "name": "stderr",
     "output_type": "stream",
     "text": [
      " 58%|█████▊    | 88597/153700 [7:55:22<4:29:19,  4.03it/s]"
     ]
    },
    {
     "name": "stdout",
     "output_type": "stream",
     "text": [
      "Traceback (most recent call last):\n",
      "  File \"/home/petershi/miniconda3/envs/SDSSV/lib/python3.11/site-packages/astropy/io/fits/column.py\", line 2142, in _get_index\n",
      "    indx = names.index(key.rstrip())\n",
      "           ^^^^^^^^^^^^^^^^^^^^^^^^^\n",
      "ValueError: 'SNR' is not in list\n",
      "\n",
      "During handling of the above exception, another exception occurred:\n",
      "\n",
      "Traceback (most recent call last):\n",
      "  File \"/tmp/ipykernel_10073/3388262553.py\", line 15, in <module>\n",
      "    cdata = getSDSSVData(cfile)\n",
      "            ^^^^^^^^^^^^^^^^^^^\n",
      "  File \"/tmp/ipykernel_10073/4007893978.py\", line 3, in getSDSSVData\n",
      "    snr = hdul[3].data[\"SNR\"]\n",
      "          ~~~~~~~~~~~~^^^^^^^\n",
      "  File \"/home/petershi/miniconda3/envs/SDSSV/lib/python3.11/site-packages/astropy/io/fits/fitsrec.py\", line 513, in __getitem__\n",
      "    return self.field(key)\n",
      "           ^^^^^^^^^^^^^^^\n",
      "  File \"/home/petershi/miniconda3/envs/SDSSV/lib/python3.11/site-packages/astropy/io/fits/fitsrec.py\", line 695, in field\n",
      "    column = self.columns[key]\n",
      "             ~~~~~~~~~~~~^^^^^\n",
      "  File \"/home/petershi/miniconda3/envs/SDSSV/lib/python3.11/site-packages/astropy/io/fits/column.py\", line 1751, in __getitem__\n",
      "    key = _get_index(self.names, key)\n",
      "          ^^^^^^^^^^^^^^^^^^^^^^^^^^^\n",
      "  File \"/home/petershi/miniconda3/envs/SDSSV/lib/python3.11/site-packages/astropy/io/fits/column.py\", line 2151, in _get_index\n",
      "    raise KeyError(f\"Key '{key}' does not exist.\")\n",
      "KeyError: \"Key 'SNR' does not exist.\"\n",
      "\n"
     ]
    },
    {
     "name": "stderr",
     "output_type": "stream",
     "text": [
      " 58%|█████▊    | 88624/153700 [7:55:28<5:42:37,  3.17it/s]"
     ]
    },
    {
     "name": "stdout",
     "output_type": "stream",
     "text": [
      "File 27021598052123875 not found in /yngve_data/sdssv/ipl-2/spectro/astra/0.3.0/v6_0_9-1.0/spectra/star\n"
     ]
    },
    {
     "name": "stderr",
     "output_type": "stream",
     "text": [
      " 58%|█████▊    | 88627/153700 [7:55:29<6:26:01,  2.81it/s]"
     ]
    },
    {
     "name": "stdout",
     "output_type": "stream",
     "text": [
      "File 27021598052125287 not found in /yngve_data/sdssv/ipl-2/spectro/astra/0.3.0/v6_0_9-1.0/spectra/star\n"
     ]
    },
    {
     "name": "stderr",
     "output_type": "stream",
     "text": [
      " 58%|█████▊    | 88628/153700 [7:55:30<7:13:24,  2.50it/s]"
     ]
    },
    {
     "name": "stdout",
     "output_type": "stream",
     "text": [
      "File 27021598052127369 not found in /yngve_data/sdssv/ipl-2/spectro/astra/0.3.0/v6_0_9-1.0/spectra/star\n"
     ]
    },
    {
     "name": "stderr",
     "output_type": "stream",
     "text": [
      " 58%|█████▊    | 88631/153700 [7:55:31<7:55:59,  2.28it/s]"
     ]
    },
    {
     "name": "stdout",
     "output_type": "stream",
     "text": [
      "Traceback (most recent call last):\n",
      "  File \"/home/petershi/miniconda3/envs/SDSSV/lib/python3.11/site-packages/astropy/io/fits/column.py\", line 2142, in _get_index\n",
      "    indx = names.index(key.rstrip())\n",
      "           ^^^^^^^^^^^^^^^^^^^^^^^^^\n",
      "ValueError: 'SNR' is not in list\n",
      "\n",
      "During handling of the above exception, another exception occurred:\n",
      "\n",
      "Traceback (most recent call last):\n",
      "  File \"/tmp/ipykernel_10073/3388262553.py\", line 15, in <module>\n",
      "    cdata = getSDSSVData(cfile)\n",
      "            ^^^^^^^^^^^^^^^^^^^\n",
      "  File \"/tmp/ipykernel_10073/4007893978.py\", line 3, in getSDSSVData\n",
      "    snr = hdul[3].data[\"SNR\"]\n",
      "          ~~~~~~~~~~~~^^^^^^^\n",
      "  File \"/home/petershi/miniconda3/envs/SDSSV/lib/python3.11/site-packages/astropy/io/fits/fitsrec.py\", line 513, in __getitem__\n",
      "    return self.field(key)\n",
      "           ^^^^^^^^^^^^^^^\n",
      "  File \"/home/petershi/miniconda3/envs/SDSSV/lib/python3.11/site-packages/astropy/io/fits/fitsrec.py\", line 695, in field\n",
      "    column = self.columns[key]\n",
      "             ~~~~~~~~~~~~^^^^^\n",
      "  File \"/home/petershi/miniconda3/envs/SDSSV/lib/python3.11/site-packages/astropy/io/fits/column.py\", line 1751, in __getitem__\n",
      "    key = _get_index(self.names, key)\n",
      "          ^^^^^^^^^^^^^^^^^^^^^^^^^^^\n",
      "  File \"/home/petershi/miniconda3/envs/SDSSV/lib/python3.11/site-packages/astropy/io/fits/column.py\", line 2151, in _get_index\n",
      "    raise KeyError(f\"Key '{key}' does not exist.\")\n",
      "KeyError: \"Key 'SNR' does not exist.\"\n",
      "\n"
     ]
    },
    {
     "name": "stderr",
     "output_type": "stream",
     "text": [
      " 58%|█████▊    | 88646/153700 [7:55:34<5:33:09,  3.25it/s]"
     ]
    },
    {
     "name": "stdout",
     "output_type": "stream",
     "text": [
      "File 27021598052143740 not found in /yngve_data/sdssv/ipl-2/spectro/astra/0.3.0/v6_0_9-1.0/spectra/star\n"
     ]
    },
    {
     "name": "stderr",
     "output_type": "stream",
     "text": [
      " 58%|█████▊    | 88647/153700 [7:55:35<5:09:10,  3.51it/s]"
     ]
    },
    {
     "name": "stdout",
     "output_type": "stream",
     "text": [
      "Traceback (most recent call last):\n",
      "  File \"/home/petershi/miniconda3/envs/SDSSV/lib/python3.11/site-packages/astropy/io/fits/column.py\", line 2142, in _get_index\n",
      "    indx = names.index(key.rstrip())\n",
      "           ^^^^^^^^^^^^^^^^^^^^^^^^^\n",
      "ValueError: 'SNR' is not in list\n",
      "\n",
      "During handling of the above exception, another exception occurred:\n",
      "\n",
      "Traceback (most recent call last):\n",
      "  File \"/tmp/ipykernel_10073/3388262553.py\", line 15, in <module>\n",
      "    cdata = getSDSSVData(cfile)\n",
      "            ^^^^^^^^^^^^^^^^^^^\n",
      "  File \"/tmp/ipykernel_10073/4007893978.py\", line 3, in getSDSSVData\n",
      "    snr = hdul[3].data[\"SNR\"]\n",
      "          ~~~~~~~~~~~~^^^^^^^\n",
      "  File \"/home/petershi/miniconda3/envs/SDSSV/lib/python3.11/site-packages/astropy/io/fits/fitsrec.py\", line 513, in __getitem__\n",
      "    return self.field(key)\n",
      "           ^^^^^^^^^^^^^^^\n",
      "  File \"/home/petershi/miniconda3/envs/SDSSV/lib/python3.11/site-packages/astropy/io/fits/fitsrec.py\", line 695, in field\n",
      "    column = self.columns[key]\n",
      "             ~~~~~~~~~~~~^^^^^\n",
      "  File \"/home/petershi/miniconda3/envs/SDSSV/lib/python3.11/site-packages/astropy/io/fits/column.py\", line 1751, in __getitem__\n",
      "    key = _get_index(self.names, key)\n",
      "          ^^^^^^^^^^^^^^^^^^^^^^^^^^^\n",
      "  File \"/home/petershi/miniconda3/envs/SDSSV/lib/python3.11/site-packages/astropy/io/fits/column.py\", line 2151, in _get_index\n",
      "    raise KeyError(f\"Key '{key}' does not exist.\")\n",
      "KeyError: \"Key 'SNR' does not exist.\"\n",
      "\n"
     ]
    },
    {
     "name": "stderr",
     "output_type": "stream",
     "text": [
      " 58%|█████▊    | 88652/153700 [7:55:36<5:26:20,  3.32it/s]"
     ]
    },
    {
     "name": "stdout",
     "output_type": "stream",
     "text": [
      "Traceback (most recent call last):\n",
      "  File \"/home/petershi/miniconda3/envs/SDSSV/lib/python3.11/site-packages/astropy/io/fits/column.py\", line 2142, in _get_index\n",
      "    indx = names.index(key.rstrip())\n",
      "           ^^^^^^^^^^^^^^^^^^^^^^^^^\n",
      "ValueError: 'SNR' is not in list\n",
      "\n",
      "During handling of the above exception, another exception occurred:\n",
      "\n",
      "Traceback (most recent call last):\n",
      "  File \"/tmp/ipykernel_10073/3388262553.py\", line 15, in <module>\n",
      "    cdata = getSDSSVData(cfile)\n",
      "            ^^^^^^^^^^^^^^^^^^^\n",
      "  File \"/tmp/ipykernel_10073/4007893978.py\", line 3, in getSDSSVData\n",
      "    snr = hdul[3].data[\"SNR\"]\n",
      "          ~~~~~~~~~~~~^^^^^^^\n",
      "  File \"/home/petershi/miniconda3/envs/SDSSV/lib/python3.11/site-packages/astropy/io/fits/fitsrec.py\", line 513, in __getitem__\n",
      "    return self.field(key)\n",
      "           ^^^^^^^^^^^^^^^\n",
      "  File \"/home/petershi/miniconda3/envs/SDSSV/lib/python3.11/site-packages/astropy/io/fits/fitsrec.py\", line 695, in field\n",
      "    column = self.columns[key]\n",
      "             ~~~~~~~~~~~~^^^^^\n",
      "  File \"/home/petershi/miniconda3/envs/SDSSV/lib/python3.11/site-packages/astropy/io/fits/column.py\", line 1751, in __getitem__\n",
      "    key = _get_index(self.names, key)\n",
      "          ^^^^^^^^^^^^^^^^^^^^^^^^^^^\n",
      "  File \"/home/petershi/miniconda3/envs/SDSSV/lib/python3.11/site-packages/astropy/io/fits/column.py\", line 2151, in _get_index\n",
      "    raise KeyError(f\"Key '{key}' does not exist.\")\n",
      "KeyError: \"Key 'SNR' does not exist.\"\n",
      "\n"
     ]
    },
    {
     "name": "stderr",
     "output_type": "stream",
     "text": [
      " 58%|█████▊    | 88667/153700 [7:55:42<5:09:36,  3.50it/s]"
     ]
    },
    {
     "name": "stdout",
     "output_type": "stream",
     "text": [
      "Traceback (most recent call last):\n",
      "  File \"/home/petershi/miniconda3/envs/SDSSV/lib/python3.11/site-packages/astropy/io/fits/column.py\", line 2142, in _get_index\n",
      "    indx = names.index(key.rstrip())\n",
      "           ^^^^^^^^^^^^^^^^^^^^^^^^^\n",
      "ValueError: 'SNR' is not in list\n",
      "\n",
      "During handling of the above exception, another exception occurred:\n",
      "\n",
      "Traceback (most recent call last):\n",
      "  File \"/tmp/ipykernel_10073/3388262553.py\", line 15, in <module>\n",
      "    cdata = getSDSSVData(cfile)\n",
      "            ^^^^^^^^^^^^^^^^^^^\n",
      "  File \"/tmp/ipykernel_10073/4007893978.py\", line 3, in getSDSSVData\n",
      "    snr = hdul[3].data[\"SNR\"]\n",
      "          ~~~~~~~~~~~~^^^^^^^\n",
      "  File \"/home/petershi/miniconda3/envs/SDSSV/lib/python3.11/site-packages/astropy/io/fits/fitsrec.py\", line 513, in __getitem__\n",
      "    return self.field(key)\n",
      "           ^^^^^^^^^^^^^^^\n",
      "  File \"/home/petershi/miniconda3/envs/SDSSV/lib/python3.11/site-packages/astropy/io/fits/fitsrec.py\", line 695, in field\n",
      "    column = self.columns[key]\n",
      "             ~~~~~~~~~~~~^^^^^\n",
      "  File \"/home/petershi/miniconda3/envs/SDSSV/lib/python3.11/site-packages/astropy/io/fits/column.py\", line 1751, in __getitem__\n",
      "    key = _get_index(self.names, key)\n",
      "          ^^^^^^^^^^^^^^^^^^^^^^^^^^^\n",
      "  File \"/home/petershi/miniconda3/envs/SDSSV/lib/python3.11/site-packages/astropy/io/fits/column.py\", line 2151, in _get_index\n",
      "    raise KeyError(f\"Key '{key}' does not exist.\")\n",
      "KeyError: \"Key 'SNR' does not exist.\"\n",
      "\n"
     ]
    },
    {
     "name": "stderr",
     "output_type": "stream",
     "text": [
      " 58%|█████▊    | 88675/153700 [7:55:43<2:42:06,  6.69it/s]"
     ]
    },
    {
     "name": "stdout",
     "output_type": "stream",
     "text": [
      "Traceback (most recent call last):\n",
      "  File \"/home/petershi/miniconda3/envs/SDSSV/lib/python3.11/site-packages/astropy/io/fits/column.py\", line 2142, in _get_index\n",
      "    indx = names.index(key.rstrip())\n",
      "           ^^^^^^^^^^^^^^^^^^^^^^^^^\n",
      "ValueError: 'SNR' is not in list\n",
      "\n",
      "During handling of the above exception, another exception occurred:\n",
      "\n",
      "Traceback (most recent call last):\n",
      "  File \"/tmp/ipykernel_10073/3388262553.py\", line 15, in <module>\n",
      "    cdata = getSDSSVData(cfile)\n",
      "            ^^^^^^^^^^^^^^^^^^^\n",
      "  File \"/tmp/ipykernel_10073/4007893978.py\", line 3, in getSDSSVData\n",
      "    snr = hdul[3].data[\"SNR\"]\n",
      "          ~~~~~~~~~~~~^^^^^^^\n",
      "  File \"/home/petershi/miniconda3/envs/SDSSV/lib/python3.11/site-packages/astropy/io/fits/fitsrec.py\", line 513, in __getitem__\n",
      "    return self.field(key)\n",
      "           ^^^^^^^^^^^^^^^\n",
      "  File \"/home/petershi/miniconda3/envs/SDSSV/lib/python3.11/site-packages/astropy/io/fits/fitsrec.py\", line 695, in field\n",
      "    column = self.columns[key]\n",
      "             ~~~~~~~~~~~~^^^^^\n",
      "  File \"/home/petershi/miniconda3/envs/SDSSV/lib/python3.11/site-packages/astropy/io/fits/column.py\", line 1751, in __getitem__\n",
      "    key = _get_index(self.names, key)\n",
      "          ^^^^^^^^^^^^^^^^^^^^^^^^^^^\n",
      "  File \"/home/petershi/miniconda3/envs/SDSSV/lib/python3.11/site-packages/astropy/io/fits/column.py\", line 2151, in _get_index\n",
      "    raise KeyError(f\"Key '{key}' does not exist.\")\n",
      "KeyError: \"Key 'SNR' does not exist.\"\n",
      "\n"
     ]
    },
    {
     "name": "stderr",
     "output_type": "stream",
     "text": [
      " 58%|█████▊    | 88677/153700 [7:55:43<2:53:10,  6.26it/s]"
     ]
    },
    {
     "name": "stdout",
     "output_type": "stream",
     "text": [
      "Traceback (most recent call last):\n",
      "  File \"/home/petershi/miniconda3/envs/SDSSV/lib/python3.11/site-packages/astropy/io/fits/column.py\", line 2142, in _get_index\n",
      "    indx = names.index(key.rstrip())\n",
      "           ^^^^^^^^^^^^^^^^^^^^^^^^^\n",
      "ValueError: 'SNR' is not in list\n",
      "\n",
      "During handling of the above exception, another exception occurred:\n",
      "\n",
      "Traceback (most recent call last):\n",
      "  File \"/tmp/ipykernel_10073/3388262553.py\", line 15, in <module>\n",
      "    cdata = getSDSSVData(cfile)\n",
      "            ^^^^^^^^^^^^^^^^^^^\n",
      "  File \"/tmp/ipykernel_10073/4007893978.py\", line 3, in getSDSSVData\n",
      "    snr = hdul[3].data[\"SNR\"]\n",
      "          ~~~~~~~~~~~~^^^^^^^\n",
      "  File \"/home/petershi/miniconda3/envs/SDSSV/lib/python3.11/site-packages/astropy/io/fits/fitsrec.py\", line 513, in __getitem__\n",
      "    return self.field(key)\n",
      "           ^^^^^^^^^^^^^^^\n",
      "  File \"/home/petershi/miniconda3/envs/SDSSV/lib/python3.11/site-packages/astropy/io/fits/fitsrec.py\", line 695, in field\n",
      "    column = self.columns[key]\n",
      "             ~~~~~~~~~~~~^^^^^\n",
      "  File \"/home/petershi/miniconda3/envs/SDSSV/lib/python3.11/site-packages/astropy/io/fits/column.py\", line 1751, in __getitem__\n",
      "    key = _get_index(self.names, key)\n",
      "          ^^^^^^^^^^^^^^^^^^^^^^^^^^^\n",
      "  File \"/home/petershi/miniconda3/envs/SDSSV/lib/python3.11/site-packages/astropy/io/fits/column.py\", line 2151, in _get_index\n",
      "    raise KeyError(f\"Key '{key}' does not exist.\")\n",
      "KeyError: \"Key 'SNR' does not exist.\"\n",
      "\n"
     ]
    },
    {
     "name": "stderr",
     "output_type": "stream",
     "text": [
      " 58%|█████▊    | 88691/153700 [7:55:48<5:52:53,  3.07it/s]"
     ]
    },
    {
     "name": "stdout",
     "output_type": "stream",
     "text": [
      "File 27021598052157008 not found in /yngve_data/sdssv/ipl-2/spectro/astra/0.3.0/v6_0_9-1.0/spectra/star\n"
     ]
    },
    {
     "name": "stderr",
     "output_type": "stream",
     "text": [
      " 58%|█████▊    | 88693/153700 [7:55:48<5:39:46,  3.19it/s]"
     ]
    },
    {
     "name": "stdout",
     "output_type": "stream",
     "text": [
      "File 27021598052161810 not found in /yngve_data/sdssv/ipl-2/spectro/astra/0.3.0/v6_0_9-1.0/spectra/star\n"
     ]
    },
    {
     "name": "stderr",
     "output_type": "stream",
     "text": [
      " 58%|█████▊    | 88759/153700 [7:56:09<7:05:12,  2.55it/s]"
     ]
    },
    {
     "name": "stdout",
     "output_type": "stream",
     "text": [
      "File 27021598054137252 not found in /yngve_data/sdssv/ipl-2/spectro/astra/0.3.0/v6_0_9-1.0/spectra/star\n"
     ]
    },
    {
     "name": "stderr",
     "output_type": "stream",
     "text": [
      " 58%|█████▊    | 89164/153700 [7:58:08<7:32:50,  2.38it/s]"
     ]
    },
    {
     "name": "stdout",
     "output_type": "stream",
     "text": [
      "File 27021598081722365 not found in /yngve_data/sdssv/ipl-2/spectro/astra/0.3.0/v6_0_9-1.0/spectra/star\n"
     ]
    },
    {
     "name": "stderr",
     "output_type": "stream",
     "text": [
      " 58%|█████▊    | 89239/153700 [7:58:30<6:14:42,  2.87it/s]"
     ]
    },
    {
     "name": "stdout",
     "output_type": "stream",
     "text": [
      "File 27021598081831302 not found in /yngve_data/sdssv/ipl-2/spectro/astra/0.3.0/v6_0_9-1.0/spectra/star\n"
     ]
    },
    {
     "name": "stderr",
     "output_type": "stream",
     "text": [
      " 58%|█████▊    | 89328/153700 [7:58:58<7:26:25,  2.40it/s]"
     ]
    },
    {
     "name": "stdout",
     "output_type": "stream",
     "text": [
      "File 27021598081907085 not found in /yngve_data/sdssv/ipl-2/spectro/astra/0.3.0/v6_0_9-1.0/spectra/star\n"
     ]
    },
    {
     "name": "stderr",
     "output_type": "stream",
     "text": [
      " 58%|█████▊    | 89435/153700 [7:59:30<7:19:28,  2.44it/s]"
     ]
    },
    {
     "name": "stdout",
     "output_type": "stream",
     "text": [
      "File 27021598082026132 not found in /yngve_data/sdssv/ipl-2/spectro/astra/0.3.0/v6_0_9-1.0/spectra/star\n"
     ]
    },
    {
     "name": "stderr",
     "output_type": "stream",
     "text": [
      " 58%|█████▊    | 89467/153700 [7:59:37<4:32:17,  3.93it/s]"
     ]
    },
    {
     "name": "stdout",
     "output_type": "stream",
     "text": [
      "File 27021598082150265 not found in /yngve_data/sdssv/ipl-2/spectro/astra/0.3.0/v6_0_9-1.0/spectra/star\n"
     ]
    },
    {
     "name": "stderr",
     "output_type": "stream",
     "text": [
      " 58%|█████▊    | 89518/153700 [7:59:50<4:07:54,  4.31it/s]"
     ]
    },
    {
     "name": "stdout",
     "output_type": "stream",
     "text": [
      "Traceback (most recent call last):\n",
      "  File \"/home/petershi/miniconda3/envs/SDSSV/lib/python3.11/site-packages/astropy/io/fits/column.py\", line 2142, in _get_index\n",
      "    indx = names.index(key.rstrip())\n",
      "           ^^^^^^^^^^^^^^^^^^^^^^^^^\n",
      "ValueError: 'SNR' is not in list\n",
      "\n",
      "During handling of the above exception, another exception occurred:\n",
      "\n",
      "Traceback (most recent call last):\n",
      "  File \"/tmp/ipykernel_10073/3388262553.py\", line 15, in <module>\n",
      "    cdata = getSDSSVData(cfile)\n",
      "            ^^^^^^^^^^^^^^^^^^^\n",
      "  File \"/tmp/ipykernel_10073/4007893978.py\", line 3, in getSDSSVData\n",
      "    snr = hdul[3].data[\"SNR\"]\n",
      "          ~~~~~~~~~~~~^^^^^^^\n",
      "  File \"/home/petershi/miniconda3/envs/SDSSV/lib/python3.11/site-packages/astropy/io/fits/fitsrec.py\", line 513, in __getitem__\n",
      "    return self.field(key)\n",
      "           ^^^^^^^^^^^^^^^\n",
      "  File \"/home/petershi/miniconda3/envs/SDSSV/lib/python3.11/site-packages/astropy/io/fits/fitsrec.py\", line 695, in field\n",
      "    column = self.columns[key]\n",
      "             ~~~~~~~~~~~~^^^^^\n",
      "  File \"/home/petershi/miniconda3/envs/SDSSV/lib/python3.11/site-packages/astropy/io/fits/column.py\", line 1751, in __getitem__\n",
      "    key = _get_index(self.names, key)\n",
      "          ^^^^^^^^^^^^^^^^^^^^^^^^^^^\n",
      "  File \"/home/petershi/miniconda3/envs/SDSSV/lib/python3.11/site-packages/astropy/io/fits/column.py\", line 2151, in _get_index\n",
      "    raise KeyError(f\"Key '{key}' does not exist.\")\n",
      "KeyError: \"Key 'SNR' does not exist.\"\n",
      "\n"
     ]
    },
    {
     "name": "stderr",
     "output_type": "stream",
     "text": [
      " 58%|█████▊    | 89532/153700 [7:59:55<5:51:32,  3.04it/s]"
     ]
    },
    {
     "name": "stdout",
     "output_type": "stream",
     "text": [
      "File 27021598099053250 not found in /yngve_data/sdssv/ipl-2/spectro/astra/0.3.0/v6_0_9-1.0/spectra/star\n"
     ]
    },
    {
     "name": "stderr",
     "output_type": "stream",
     "text": [
      " 58%|█████▊    | 89568/153700 [8:00:06<4:36:38,  3.86it/s]"
     ]
    },
    {
     "name": "stdout",
     "output_type": "stream",
     "text": [
      "File 27021598099082986 not found in /yngve_data/sdssv/ipl-2/spectro/astra/0.3.0/v6_0_9-1.0/spectra/star\n"
     ]
    },
    {
     "name": "stderr",
     "output_type": "stream",
     "text": [
      " 58%|█████▊    | 89627/153700 [8:00:23<4:22:40,  4.07it/s]"
     ]
    },
    {
     "name": "stdout",
     "output_type": "stream",
     "text": [
      "File 27021598099142769 not found in /yngve_data/sdssv/ipl-2/spectro/astra/0.3.0/v6_0_9-1.0/spectra/star\n"
     ]
    },
    {
     "name": "stderr",
     "output_type": "stream",
     "text": [
      " 58%|█████▊    | 89628/153700 [8:00:23<5:44:11,  3.10it/s]"
     ]
    },
    {
     "name": "stdout",
     "output_type": "stream",
     "text": [
      "File 27021598099843855 not found in /yngve_data/sdssv/ipl-2/spectro/astra/0.3.0/v6_0_9-1.0/spectra/star\n"
     ]
    },
    {
     "name": "stderr",
     "output_type": "stream",
     "text": [
      " 58%|█████▊    | 89639/153700 [8:00:27<5:11:05,  3.43it/s]"
     ]
    },
    {
     "name": "stdout",
     "output_type": "stream",
     "text": [
      "File 27021598099850164 not found in /yngve_data/sdssv/ipl-2/spectro/astra/0.3.0/v6_0_9-1.0/spectra/star\n"
     ]
    },
    {
     "name": "stderr",
     "output_type": "stream",
     "text": [
      " 58%|█████▊    | 89658/153700 [8:00:33<8:20:11,  2.13it/s]"
     ]
    },
    {
     "name": "stdout",
     "output_type": "stream",
     "text": [
      "File 27021598099858568 not found in /yngve_data/sdssv/ipl-2/spectro/astra/0.3.0/v6_0_9-1.0/spectra/star\n"
     ]
    },
    {
     "name": "stderr",
     "output_type": "stream",
     "text": [
      " 58%|█████▊    | 89665/153700 [8:00:36<5:39:36,  3.14it/s]"
     ]
    },
    {
     "name": "stdout",
     "output_type": "stream",
     "text": [
      "File 27021598099860351 not found in /yngve_data/sdssv/ipl-2/spectro/astra/0.3.0/v6_0_9-1.0/spectra/star\n"
     ]
    },
    {
     "name": "stderr",
     "output_type": "stream",
     "text": [
      " 58%|█████▊    | 89675/153700 [8:00:38<5:40:15,  3.14it/s]"
     ]
    },
    {
     "name": "stdout",
     "output_type": "stream",
     "text": [
      "File 27021598099865076 not found in /yngve_data/sdssv/ipl-2/spectro/astra/0.3.0/v6_0_9-1.0/spectra/star\n"
     ]
    },
    {
     "name": "stderr",
     "output_type": "stream",
     "text": [
      " 58%|█████▊    | 89683/153700 [8:00:41<8:08:40,  2.18it/s]"
     ]
    },
    {
     "name": "stdout",
     "output_type": "stream",
     "text": [
      "Traceback (most recent call last):\n",
      "  File \"/home/petershi/miniconda3/envs/SDSSV/lib/python3.11/site-packages/astropy/io/fits/column.py\", line 2142, in _get_index\n",
      "    indx = names.index(key.rstrip())\n",
      "           ^^^^^^^^^^^^^^^^^^^^^^^^^\n",
      "ValueError: 'SNR' is not in list\n",
      "\n",
      "During handling of the above exception, another exception occurred:\n",
      "\n",
      "Traceback (most recent call last):\n",
      "  File \"/tmp/ipykernel_10073/3388262553.py\", line 15, in <module>\n",
      "    cdata = getSDSSVData(cfile)\n",
      "            ^^^^^^^^^^^^^^^^^^^\n",
      "  File \"/tmp/ipykernel_10073/4007893978.py\", line 3, in getSDSSVData\n",
      "    snr = hdul[3].data[\"SNR\"]\n",
      "          ~~~~~~~~~~~~^^^^^^^\n",
      "  File \"/home/petershi/miniconda3/envs/SDSSV/lib/python3.11/site-packages/astropy/io/fits/fitsrec.py\", line 513, in __getitem__\n",
      "    return self.field(key)\n",
      "           ^^^^^^^^^^^^^^^\n",
      "  File \"/home/petershi/miniconda3/envs/SDSSV/lib/python3.11/site-packages/astropy/io/fits/fitsrec.py\", line 695, in field\n",
      "    column = self.columns[key]\n",
      "             ~~~~~~~~~~~~^^^^^\n",
      "  File \"/home/petershi/miniconda3/envs/SDSSV/lib/python3.11/site-packages/astropy/io/fits/column.py\", line 1751, in __getitem__\n",
      "    key = _get_index(self.names, key)\n",
      "          ^^^^^^^^^^^^^^^^^^^^^^^^^^^\n",
      "  File \"/home/petershi/miniconda3/envs/SDSSV/lib/python3.11/site-packages/astropy/io/fits/column.py\", line 2151, in _get_index\n",
      "    raise KeyError(f\"Key '{key}' does not exist.\")\n",
      "KeyError: \"Key 'SNR' does not exist.\"\n",
      "\n"
     ]
    },
    {
     "name": "stderr",
     "output_type": "stream",
     "text": [
      " 58%|█████▊    | 89755/153700 [8:01:03<6:23:34,  2.78it/s]"
     ]
    },
    {
     "name": "stdout",
     "output_type": "stream",
     "text": [
      "File 27021598100937030 not found in /yngve_data/sdssv/ipl-2/spectro/astra/0.3.0/v6_0_9-1.0/spectra/star\n"
     ]
    },
    {
     "name": "stderr",
     "output_type": "stream",
     "text": [
      " 58%|█████▊    | 89907/153700 [8:01:43<3:16:03,  5.42it/s]"
     ]
    },
    {
     "name": "stdout",
     "output_type": "stream",
     "text": [
      "File 27021598101131420 not found in /yngve_data/sdssv/ipl-2/spectro/astra/0.3.0/v6_0_9-1.0/spectra/star\n"
     ]
    },
    {
     "name": "stderr",
     "output_type": "stream",
     "text": [
      " 59%|█████▊    | 90138/153700 [8:02:50<5:39:50,  3.12it/s]"
     ]
    },
    {
     "name": "stdout",
     "output_type": "stream",
     "text": [
      "File 27021598102445849 not found in /yngve_data/sdssv/ipl-2/spectro/astra/0.3.0/v6_0_9-1.0/spectra/star\n"
     ]
    },
    {
     "name": "stderr",
     "output_type": "stream",
     "text": [
      " 59%|█████▊    | 90193/153700 [8:03:08<6:10:41,  2.86it/s]"
     ]
    },
    {
     "name": "stdout",
     "output_type": "stream",
     "text": [
      "File 27021598102857558 not found in /yngve_data/sdssv/ipl-2/spectro/astra/0.3.0/v6_0_9-1.0/spectra/star\n"
     ]
    },
    {
     "name": "stderr",
     "output_type": "stream",
     "text": [
      " 59%|█████▊    | 90286/153700 [8:03:34<3:30:41,  5.02it/s]"
     ]
    },
    {
     "name": "stdout",
     "output_type": "stream",
     "text": [
      "Traceback (most recent call last):\n",
      "  File \"/home/petershi/miniconda3/envs/SDSSV/lib/python3.11/site-packages/astropy/io/fits/column.py\", line 2142, in _get_index\n",
      "    indx = names.index(key.rstrip())\n",
      "           ^^^^^^^^^^^^^^^^^^^^^^^^^\n",
      "ValueError: 'SNR' is not in list\n",
      "\n",
      "During handling of the above exception, another exception occurred:\n",
      "\n",
      "Traceback (most recent call last):\n",
      "  File \"/tmp/ipykernel_10073/3388262553.py\", line 15, in <module>\n",
      "    cdata = getSDSSVData(cfile)\n",
      "            ^^^^^^^^^^^^^^^^^^^\n",
      "  File \"/tmp/ipykernel_10073/4007893978.py\", line 3, in getSDSSVData\n",
      "    snr = hdul[3].data[\"SNR\"]\n",
      "          ~~~~~~~~~~~~^^^^^^^\n",
      "  File \"/home/petershi/miniconda3/envs/SDSSV/lib/python3.11/site-packages/astropy/io/fits/fitsrec.py\", line 513, in __getitem__\n",
      "    return self.field(key)\n",
      "           ^^^^^^^^^^^^^^^\n",
      "  File \"/home/petershi/miniconda3/envs/SDSSV/lib/python3.11/site-packages/astropy/io/fits/fitsrec.py\", line 695, in field\n",
      "    column = self.columns[key]\n",
      "             ~~~~~~~~~~~~^^^^^\n",
      "  File \"/home/petershi/miniconda3/envs/SDSSV/lib/python3.11/site-packages/astropy/io/fits/column.py\", line 1751, in __getitem__\n",
      "    key = _get_index(self.names, key)\n",
      "          ^^^^^^^^^^^^^^^^^^^^^^^^^^^\n",
      "  File \"/home/petershi/miniconda3/envs/SDSSV/lib/python3.11/site-packages/astropy/io/fits/column.py\", line 2151, in _get_index\n",
      "    raise KeyError(f\"Key '{key}' does not exist.\")\n",
      "KeyError: \"Key 'SNR' does not exist.\"\n",
      "\n"
     ]
    },
    {
     "name": "stderr",
     "output_type": "stream",
     "text": [
      " 59%|█████▊    | 90292/153700 [8:03:35<5:03:58,  3.48it/s]"
     ]
    },
    {
     "name": "stdout",
     "output_type": "stream",
     "text": [
      "File 27021598103703255 not found in /yngve_data/sdssv/ipl-2/spectro/astra/0.3.0/v6_0_9-1.0/spectra/star\n"
     ]
    },
    {
     "name": "stderr",
     "output_type": "stream",
     "text": [
      " 59%|█████▉    | 90300/153700 [8:03:38<4:13:03,  4.18it/s]"
     ]
    },
    {
     "name": "stdout",
     "output_type": "stream",
     "text": [
      "File 27021598103709790 not found in /yngve_data/sdssv/ipl-2/spectro/astra/0.3.0/v6_0_9-1.0/spectra/star\n"
     ]
    },
    {
     "name": "stderr",
     "output_type": "stream",
     "text": [
      " 59%|█████▉    | 90303/153700 [8:03:38<3:46:56,  4.66it/s]"
     ]
    },
    {
     "name": "stdout",
     "output_type": "stream",
     "text": [
      "File 27021598103710896 not found in /yngve_data/sdssv/ipl-2/spectro/astra/0.3.0/v6_0_9-1.0/spectra/star\n"
     ]
    },
    {
     "name": "stderr",
     "output_type": "stream",
     "text": [
      " 59%|█████▉    | 90311/153700 [8:03:40<4:53:59,  3.59it/s]"
     ]
    },
    {
     "name": "stdout",
     "output_type": "stream",
     "text": [
      "File 27021598103723379 not found in /yngve_data/sdssv/ipl-2/spectro/astra/0.3.0/v6_0_9-1.0/spectra/star\n"
     ]
    },
    {
     "name": "stderr",
     "output_type": "stream",
     "text": [
      " 59%|█████▉    | 90315/153700 [8:03:41<6:00:01,  2.93it/s]"
     ]
    },
    {
     "name": "stdout",
     "output_type": "stream",
     "text": [
      "File 27021598103725362 not found in /yngve_data/sdssv/ipl-2/spectro/astra/0.3.0/v6_0_9-1.0/spectra/star\n"
     ]
    },
    {
     "name": "stderr",
     "output_type": "stream",
     "text": [
      " 59%|█████▉    | 90339/153700 [8:03:53<7:10:14,  2.45it/s] "
     ]
    },
    {
     "name": "stdout",
     "output_type": "stream",
     "text": [
      "File 27021598103745629 not found in /yngve_data/sdssv/ipl-2/spectro/astra/0.3.0/v6_0_9-1.0/spectra/star\n"
     ]
    },
    {
     "name": "stderr",
     "output_type": "stream",
     "text": [
      " 59%|█████▉    | 90347/153700 [8:03:56<6:54:28,  2.55it/s]"
     ]
    },
    {
     "name": "stdout",
     "output_type": "stream",
     "text": [
      "Traceback (most recent call last):\n",
      "  File \"/home/petershi/miniconda3/envs/SDSSV/lib/python3.11/site-packages/astropy/io/fits/column.py\", line 2142, in _get_index\n",
      "    indx = names.index(key.rstrip())\n",
      "           ^^^^^^^^^^^^^^^^^^^^^^^^^\n",
      "ValueError: 'SNR' is not in list\n",
      "\n",
      "During handling of the above exception, another exception occurred:\n",
      "\n",
      "Traceback (most recent call last):\n",
      "  File \"/tmp/ipykernel_10073/3388262553.py\", line 15, in <module>\n",
      "    cdata = getSDSSVData(cfile)\n",
      "            ^^^^^^^^^^^^^^^^^^^\n",
      "  File \"/tmp/ipykernel_10073/4007893978.py\", line 3, in getSDSSVData\n",
      "    snr = hdul[3].data[\"SNR\"]\n",
      "          ~~~~~~~~~~~~^^^^^^^\n",
      "  File \"/home/petershi/miniconda3/envs/SDSSV/lib/python3.11/site-packages/astropy/io/fits/fitsrec.py\", line 513, in __getitem__\n",
      "    return self.field(key)\n",
      "           ^^^^^^^^^^^^^^^\n",
      "  File \"/home/petershi/miniconda3/envs/SDSSV/lib/python3.11/site-packages/astropy/io/fits/fitsrec.py\", line 695, in field\n",
      "    column = self.columns[key]\n",
      "             ~~~~~~~~~~~~^^^^^\n",
      "  File \"/home/petershi/miniconda3/envs/SDSSV/lib/python3.11/site-packages/astropy/io/fits/column.py\", line 1751, in __getitem__\n",
      "    key = _get_index(self.names, key)\n",
      "          ^^^^^^^^^^^^^^^^^^^^^^^^^^^\n",
      "  File \"/home/petershi/miniconda3/envs/SDSSV/lib/python3.11/site-packages/astropy/io/fits/column.py\", line 2151, in _get_index\n",
      "    raise KeyError(f\"Key '{key}' does not exist.\")\n",
      "KeyError: \"Key 'SNR' does not exist.\"\n",
      "\n"
     ]
    },
    {
     "name": "stderr",
     "output_type": "stream",
     "text": [
      " 59%|█████▉    | 90366/153700 [8:04:02<2:40:50,  6.56it/s]"
     ]
    },
    {
     "name": "stdout",
     "output_type": "stream",
     "text": [
      "Traceback (most recent call last):\n",
      "  File \"/home/petershi/miniconda3/envs/SDSSV/lib/python3.11/site-packages/astropy/io/fits/column.py\", line 2142, in _get_index\n",
      "    indx = names.index(key.rstrip())\n",
      "           ^^^^^^^^^^^^^^^^^^^^^^^^^\n",
      "ValueError: 'SNR' is not in list\n",
      "\n",
      "During handling of the above exception, another exception occurred:\n",
      "\n",
      "Traceback (most recent call last):\n",
      "  File \"/tmp/ipykernel_10073/3388262553.py\", line 15, in <module>\n",
      "    cdata = getSDSSVData(cfile)\n",
      "            ^^^^^^^^^^^^^^^^^^^\n",
      "  File \"/tmp/ipykernel_10073/4007893978.py\", line 3, in getSDSSVData\n",
      "    snr = hdul[3].data[\"SNR\"]\n",
      "          ~~~~~~~~~~~~^^^^^^^\n",
      "  File \"/home/petershi/miniconda3/envs/SDSSV/lib/python3.11/site-packages/astropy/io/fits/fitsrec.py\", line 513, in __getitem__\n",
      "    return self.field(key)\n",
      "           ^^^^^^^^^^^^^^^\n",
      "  File \"/home/petershi/miniconda3/envs/SDSSV/lib/python3.11/site-packages/astropy/io/fits/fitsrec.py\", line 695, in field\n",
      "    column = self.columns[key]\n",
      "             ~~~~~~~~~~~~^^^^^\n",
      "  File \"/home/petershi/miniconda3/envs/SDSSV/lib/python3.11/site-packages/astropy/io/fits/column.py\", line 1751, in __getitem__\n",
      "    key = _get_index(self.names, key)\n",
      "          ^^^^^^^^^^^^^^^^^^^^^^^^^^^\n",
      "  File \"/home/petershi/miniconda3/envs/SDSSV/lib/python3.11/site-packages/astropy/io/fits/column.py\", line 2151, in _get_index\n",
      "    raise KeyError(f\"Key '{key}' does not exist.\")\n",
      "KeyError: \"Key 'SNR' does not exist.\"\n",
      "\n"
     ]
    },
    {
     "name": "stderr",
     "output_type": "stream",
     "text": [
      " 59%|█████▉    | 90394/153700 [8:04:11<8:17:06,  2.12it/s]"
     ]
    },
    {
     "name": "stdout",
     "output_type": "stream",
     "text": [
      "Traceback (most recent call last):\n",
      "  File \"/home/petershi/miniconda3/envs/SDSSV/lib/python3.11/site-packages/astropy/io/fits/column.py\", line 2142, in _get_index\n",
      "    indx = names.index(key.rstrip())\n",
      "           ^^^^^^^^^^^^^^^^^^^^^^^^^\n",
      "ValueError: 'SNR' is not in list\n",
      "\n",
      "During handling of the above exception, another exception occurred:\n",
      "\n",
      "Traceback (most recent call last):\n",
      "  File \"/tmp/ipykernel_10073/3388262553.py\", line 15, in <module>\n",
      "    cdata = getSDSSVData(cfile)\n",
      "            ^^^^^^^^^^^^^^^^^^^\n",
      "  File \"/tmp/ipykernel_10073/4007893978.py\", line 3, in getSDSSVData\n",
      "    snr = hdul[3].data[\"SNR\"]\n",
      "          ~~~~~~~~~~~~^^^^^^^\n",
      "  File \"/home/petershi/miniconda3/envs/SDSSV/lib/python3.11/site-packages/astropy/io/fits/fitsrec.py\", line 513, in __getitem__\n",
      "    return self.field(key)\n",
      "           ^^^^^^^^^^^^^^^\n",
      "  File \"/home/petershi/miniconda3/envs/SDSSV/lib/python3.11/site-packages/astropy/io/fits/fitsrec.py\", line 695, in field\n",
      "    column = self.columns[key]\n",
      "             ~~~~~~~~~~~~^^^^^\n",
      "  File \"/home/petershi/miniconda3/envs/SDSSV/lib/python3.11/site-packages/astropy/io/fits/column.py\", line 1751, in __getitem__\n",
      "    key = _get_index(self.names, key)\n",
      "          ^^^^^^^^^^^^^^^^^^^^^^^^^^^\n",
      "  File \"/home/petershi/miniconda3/envs/SDSSV/lib/python3.11/site-packages/astropy/io/fits/column.py\", line 2151, in _get_index\n",
      "    raise KeyError(f\"Key '{key}' does not exist.\")\n",
      "KeyError: \"Key 'SNR' does not exist.\"\n",
      "\n"
     ]
    },
    {
     "name": "stderr",
     "output_type": "stream",
     "text": [
      " 59%|█████▉    | 90420/153700 [8:04:21<8:41:36,  2.02it/s]"
     ]
    },
    {
     "name": "stdout",
     "output_type": "stream",
     "text": [
      "Traceback (most recent call last):\n",
      "  File \"/home/petershi/miniconda3/envs/SDSSV/lib/python3.11/site-packages/astropy/io/fits/column.py\", line 2142, in _get_index\n",
      "    indx = names.index(key.rstrip())\n",
      "           ^^^^^^^^^^^^^^^^^^^^^^^^^\n",
      "ValueError: 'SNR' is not in list\n",
      "\n",
      "During handling of the above exception, another exception occurred:\n",
      "\n",
      "Traceback (most recent call last):\n",
      "  File \"/tmp/ipykernel_10073/3388262553.py\", line 15, in <module>\n",
      "    cdata = getSDSSVData(cfile)\n",
      "            ^^^^^^^^^^^^^^^^^^^\n",
      "  File \"/tmp/ipykernel_10073/4007893978.py\", line 3, in getSDSSVData\n",
      "    snr = hdul[3].data[\"SNR\"]\n",
      "          ~~~~~~~~~~~~^^^^^^^\n",
      "  File \"/home/petershi/miniconda3/envs/SDSSV/lib/python3.11/site-packages/astropy/io/fits/fitsrec.py\", line 513, in __getitem__\n",
      "    return self.field(key)\n",
      "           ^^^^^^^^^^^^^^^\n",
      "  File \"/home/petershi/miniconda3/envs/SDSSV/lib/python3.11/site-packages/astropy/io/fits/fitsrec.py\", line 695, in field\n",
      "    column = self.columns[key]\n",
      "             ~~~~~~~~~~~~^^^^^\n",
      "  File \"/home/petershi/miniconda3/envs/SDSSV/lib/python3.11/site-packages/astropy/io/fits/column.py\", line 1751, in __getitem__\n",
      "    key = _get_index(self.names, key)\n",
      "          ^^^^^^^^^^^^^^^^^^^^^^^^^^^\n",
      "  File \"/home/petershi/miniconda3/envs/SDSSV/lib/python3.11/site-packages/astropy/io/fits/column.py\", line 2151, in _get_index\n",
      "    raise KeyError(f\"Key '{key}' does not exist.\")\n",
      "KeyError: \"Key 'SNR' does not exist.\"\n",
      "\n"
     ]
    },
    {
     "name": "stderr",
     "output_type": "stream",
     "text": [
      " 59%|█████▉    | 90440/153700 [8:04:26<2:59:37,  5.87it/s]"
     ]
    },
    {
     "name": "stdout",
     "output_type": "stream",
     "text": [
      "Traceback (most recent call last):\n",
      "  File \"/home/petershi/miniconda3/envs/SDSSV/lib/python3.11/site-packages/astropy/io/fits/column.py\", line 2142, in _get_index\n",
      "    indx = names.index(key.rstrip())\n",
      "           ^^^^^^^^^^^^^^^^^^^^^^^^^\n",
      "ValueError: 'SNR' is not in list\n",
      "\n",
      "During handling of the above exception, another exception occurred:\n",
      "\n",
      "Traceback (most recent call last):\n",
      "  File \"/tmp/ipykernel_10073/3388262553.py\", line 15, in <module>\n",
      "    cdata = getSDSSVData(cfile)\n",
      "            ^^^^^^^^^^^^^^^^^^^\n",
      "  File \"/tmp/ipykernel_10073/4007893978.py\", line 3, in getSDSSVData\n",
      "    snr = hdul[3].data[\"SNR\"]\n",
      "          ~~~~~~~~~~~~^^^^^^^\n",
      "  File \"/home/petershi/miniconda3/envs/SDSSV/lib/python3.11/site-packages/astropy/io/fits/fitsrec.py\", line 513, in __getitem__\n",
      "    return self.field(key)\n",
      "           ^^^^^^^^^^^^^^^\n",
      "  File \"/home/petershi/miniconda3/envs/SDSSV/lib/python3.11/site-packages/astropy/io/fits/fitsrec.py\", line 695, in field\n",
      "    column = self.columns[key]\n",
      "             ~~~~~~~~~~~~^^^^^\n",
      "  File \"/home/petershi/miniconda3/envs/SDSSV/lib/python3.11/site-packages/astropy/io/fits/column.py\", line 1751, in __getitem__\n",
      "    key = _get_index(self.names, key)\n",
      "          ^^^^^^^^^^^^^^^^^^^^^^^^^^^\n",
      "  File \"/home/petershi/miniconda3/envs/SDSSV/lib/python3.11/site-packages/astropy/io/fits/column.py\", line 2151, in _get_index\n",
      "    raise KeyError(f\"Key '{key}' does not exist.\")\n",
      "KeyError: \"Key 'SNR' does not exist.\"\n",
      "\n"
     ]
    },
    {
     "name": "stderr",
     "output_type": "stream",
     "text": [
      " 59%|█████▉    | 90524/153700 [8:04:51<4:42:21,  3.73it/s]"
     ]
    },
    {
     "name": "stdout",
     "output_type": "stream",
     "text": [
      "File 27021598104223053 not found in /yngve_data/sdssv/ipl-2/spectro/astra/0.3.0/v6_0_9-1.0/spectra/star\n"
     ]
    },
    {
     "name": "stderr",
     "output_type": "stream",
     "text": [
      " 59%|█████▉    | 90557/153700 [8:04:59<3:35:17,  4.89it/s]"
     ]
    },
    {
     "name": "stdout",
     "output_type": "stream",
     "text": [
      "File 27021598104501431 not found in /yngve_data/sdssv/ipl-2/spectro/astra/0.3.0/v6_0_9-1.0/spectra/star\n"
     ]
    },
    {
     "name": "stderr",
     "output_type": "stream",
     "text": [
      " 59%|█████▉    | 90570/153700 [8:05:02<4:44:02,  3.70it/s]"
     ]
    },
    {
     "name": "stdout",
     "output_type": "stream",
     "text": [
      "Traceback (most recent call last):\n",
      "  File \"/home/petershi/miniconda3/envs/SDSSV/lib/python3.11/site-packages/astropy/io/fits/column.py\", line 2142, in _get_index\n",
      "    indx = names.index(key.rstrip())\n",
      "           ^^^^^^^^^^^^^^^^^^^^^^^^^\n",
      "ValueError: 'SNR' is not in list\n",
      "\n",
      "During handling of the above exception, another exception occurred:\n",
      "\n",
      "Traceback (most recent call last):\n",
      "  File \"/tmp/ipykernel_10073/3388262553.py\", line 15, in <module>\n",
      "    cdata = getSDSSVData(cfile)\n",
      "            ^^^^^^^^^^^^^^^^^^^\n",
      "  File \"/tmp/ipykernel_10073/4007893978.py\", line 3, in getSDSSVData\n",
      "    snr = hdul[3].data[\"SNR\"]\n",
      "          ~~~~~~~~~~~~^^^^^^^\n",
      "  File \"/home/petershi/miniconda3/envs/SDSSV/lib/python3.11/site-packages/astropy/io/fits/fitsrec.py\", line 513, in __getitem__\n",
      "    return self.field(key)\n",
      "           ^^^^^^^^^^^^^^^\n",
      "  File \"/home/petershi/miniconda3/envs/SDSSV/lib/python3.11/site-packages/astropy/io/fits/fitsrec.py\", line 695, in field\n",
      "    column = self.columns[key]\n",
      "             ~~~~~~~~~~~~^^^^^\n",
      "  File \"/home/petershi/miniconda3/envs/SDSSV/lib/python3.11/site-packages/astropy/io/fits/column.py\", line 1751, in __getitem__\n",
      "    key = _get_index(self.names, key)\n",
      "          ^^^^^^^^^^^^^^^^^^^^^^^^^^^\n",
      "  File \"/home/petershi/miniconda3/envs/SDSSV/lib/python3.11/site-packages/astropy/io/fits/column.py\", line 2151, in _get_index\n",
      "    raise KeyError(f\"Key '{key}' does not exist.\")\n",
      "KeyError: \"Key 'SNR' does not exist.\"\n",
      "\n"
     ]
    },
    {
     "name": "stderr",
     "output_type": "stream",
     "text": [
      " 59%|█████▉    | 90747/153700 [8:05:54<5:26:04,  3.22it/s]"
     ]
    },
    {
     "name": "stdout",
     "output_type": "stream",
     "text": [
      "File 27021598111093491 not found in /yngve_data/sdssv/ipl-2/spectro/astra/0.3.0/v6_0_9-1.0/spectra/star\n"
     ]
    },
    {
     "name": "stderr",
     "output_type": "stream",
     "text": [
      " 59%|█████▉    | 90748/153700 [8:05:55<6:21:45,  2.75it/s]"
     ]
    },
    {
     "name": "stdout",
     "output_type": "stream",
     "text": [
      "File 27021598111093751 not found in /yngve_data/sdssv/ipl-2/spectro/astra/0.3.0/v6_0_9-1.0/spectra/star\n"
     ]
    },
    {
     "name": "stderr",
     "output_type": "stream",
     "text": [
      " 59%|█████▉    | 90988/153700 [8:07:07<5:37:20,  3.10it/s] "
     ]
    },
    {
     "name": "stdout",
     "output_type": "stream",
     "text": [
      "File 27021598112438900 not found in /yngve_data/sdssv/ipl-2/spectro/astra/0.3.0/v6_0_9-1.0/spectra/star\n"
     ]
    },
    {
     "name": "stderr",
     "output_type": "stream",
     "text": [
      " 59%|█████▉    | 90993/153700 [8:07:09<8:16:04,  2.11it/s]"
     ]
    },
    {
     "name": "stdout",
     "output_type": "stream",
     "text": [
      "Traceback (most recent call last):\n",
      "  File \"/home/petershi/miniconda3/envs/SDSSV/lib/python3.11/site-packages/astropy/io/fits/column.py\", line 2142, in _get_index\n",
      "    indx = names.index(key.rstrip())\n",
      "           ^^^^^^^^^^^^^^^^^^^^^^^^^\n",
      "ValueError: 'SNR' is not in list\n",
      "\n",
      "During handling of the above exception, another exception occurred:\n",
      "\n",
      "Traceback (most recent call last):\n",
      "  File \"/tmp/ipykernel_10073/3388262553.py\", line 15, in <module>\n",
      "    cdata = getSDSSVData(cfile)\n",
      "            ^^^^^^^^^^^^^^^^^^^\n",
      "  File \"/tmp/ipykernel_10073/4007893978.py\", line 3, in getSDSSVData\n",
      "    snr = hdul[3].data[\"SNR\"]\n",
      "          ~~~~~~~~~~~~^^^^^^^\n",
      "  File \"/home/petershi/miniconda3/envs/SDSSV/lib/python3.11/site-packages/astropy/io/fits/fitsrec.py\", line 513, in __getitem__\n",
      "    return self.field(key)\n",
      "           ^^^^^^^^^^^^^^^\n",
      "  File \"/home/petershi/miniconda3/envs/SDSSV/lib/python3.11/site-packages/astropy/io/fits/fitsrec.py\", line 695, in field\n",
      "    column = self.columns[key]\n",
      "             ~~~~~~~~~~~~^^^^^\n",
      "  File \"/home/petershi/miniconda3/envs/SDSSV/lib/python3.11/site-packages/astropy/io/fits/column.py\", line 1751, in __getitem__\n",
      "    key = _get_index(self.names, key)\n",
      "          ^^^^^^^^^^^^^^^^^^^^^^^^^^^\n",
      "  File \"/home/petershi/miniconda3/envs/SDSSV/lib/python3.11/site-packages/astropy/io/fits/column.py\", line 2151, in _get_index\n",
      "    raise KeyError(f\"Key '{key}' does not exist.\")\n",
      "KeyError: \"Key 'SNR' does not exist.\"\n",
      "\n"
     ]
    },
    {
     "name": "stderr",
     "output_type": "stream",
     "text": [
      " 59%|█████▉    | 91048/153700 [8:07:27<4:17:39,  4.05it/s]"
     ]
    },
    {
     "name": "stdout",
     "output_type": "stream",
     "text": [
      "Traceback (most recent call last):\n",
      "  File \"/home/petershi/miniconda3/envs/SDSSV/lib/python3.11/site-packages/astropy/io/fits/column.py\", line 2142, in _get_index\n",
      "    indx = names.index(key.rstrip())\n",
      "           ^^^^^^^^^^^^^^^^^^^^^^^^^\n",
      "ValueError: 'SNR' is not in list\n",
      "\n",
      "During handling of the above exception, another exception occurred:\n",
      "\n",
      "Traceback (most recent call last):\n",
      "  File \"/tmp/ipykernel_10073/3388262553.py\", line 15, in <module>\n",
      "    cdata = getSDSSVData(cfile)\n",
      "            ^^^^^^^^^^^^^^^^^^^\n",
      "  File \"/tmp/ipykernel_10073/4007893978.py\", line 3, in getSDSSVData\n",
      "    snr = hdul[3].data[\"SNR\"]\n",
      "          ~~~~~~~~~~~~^^^^^^^\n",
      "  File \"/home/petershi/miniconda3/envs/SDSSV/lib/python3.11/site-packages/astropy/io/fits/fitsrec.py\", line 513, in __getitem__\n",
      "    return self.field(key)\n",
      "           ^^^^^^^^^^^^^^^\n",
      "  File \"/home/petershi/miniconda3/envs/SDSSV/lib/python3.11/site-packages/astropy/io/fits/fitsrec.py\", line 695, in field\n",
      "    column = self.columns[key]\n",
      "             ~~~~~~~~~~~~^^^^^\n",
      "  File \"/home/petershi/miniconda3/envs/SDSSV/lib/python3.11/site-packages/astropy/io/fits/column.py\", line 1751, in __getitem__\n",
      "    key = _get_index(self.names, key)\n",
      "          ^^^^^^^^^^^^^^^^^^^^^^^^^^^\n",
      "  File \"/home/petershi/miniconda3/envs/SDSSV/lib/python3.11/site-packages/astropy/io/fits/column.py\", line 2151, in _get_index\n",
      "    raise KeyError(f\"Key '{key}' does not exist.\")\n",
      "KeyError: \"Key 'SNR' does not exist.\"\n",
      "\n"
     ]
    },
    {
     "name": "stderr",
     "output_type": "stream",
     "text": [
      " 59%|█████▉    | 91402/153700 [8:09:12<7:16:58,  2.38it/s]"
     ]
    },
    {
     "name": "stdout",
     "output_type": "stream",
     "text": [
      "File 27021598127800340 not found in /yngve_data/sdssv/ipl-2/spectro/astra/0.3.0/v6_0_9-1.0/spectra/star\n"
     ]
    },
    {
     "name": "stderr",
     "output_type": "stream",
     "text": [
      " 59%|█████▉    | 91413/153700 [8:09:15<6:13:01,  2.78it/s]"
     ]
    },
    {
     "name": "stdout",
     "output_type": "stream",
     "text": [
      "File 27021598127805308 not found in /yngve_data/sdssv/ipl-2/spectro/astra/0.3.0/v6_0_9-1.0/spectra/star\n"
     ]
    },
    {
     "name": "stderr",
     "output_type": "stream",
     "text": [
      " 59%|█████▉    | 91418/153700 [8:09:17<7:07:27,  2.43it/s]"
     ]
    },
    {
     "name": "stdout",
     "output_type": "stream",
     "text": [
      "File 27021598127826310 not found in /yngve_data/sdssv/ipl-2/spectro/astra/0.3.0/v6_0_9-1.0/spectra/star\n"
     ]
    },
    {
     "name": "stderr",
     "output_type": "stream",
     "text": [
      " 59%|█████▉    | 91422/153700 [8:09:18<4:32:24,  3.81it/s]"
     ]
    },
    {
     "name": "stdout",
     "output_type": "stream",
     "text": [
      "File 27021598127829465 not found in /yngve_data/sdssv/ipl-2/spectro/astra/0.3.0/v6_0_9-1.0/spectra/star\n"
     ]
    },
    {
     "name": "stderr",
     "output_type": "stream",
     "text": [
      " 60%|█████▉    | 91457/153700 [8:09:27<3:56:12,  4.39it/s]"
     ]
    },
    {
     "name": "stdout",
     "output_type": "stream",
     "text": [
      "File 27021598127852267 not found in /yngve_data/sdssv/ipl-2/spectro/astra/0.3.0/v6_0_9-1.0/spectra/star\n"
     ]
    },
    {
     "name": "stderr",
     "output_type": "stream",
     "text": [
      " 60%|█████▉    | 91508/153700 [8:09:43<4:57:09,  3.49it/s]"
     ]
    },
    {
     "name": "stdout",
     "output_type": "stream",
     "text": [
      "File 27021598127873555 not found in /yngve_data/sdssv/ipl-2/spectro/astra/0.3.0/v6_0_9-1.0/spectra/star\n"
     ]
    },
    {
     "name": "stderr",
     "output_type": "stream",
     "text": [
      " 60%|█████▉    | 91514/153700 [8:09:45<6:45:13,  2.56it/s]"
     ]
    },
    {
     "name": "stdout",
     "output_type": "stream",
     "text": [
      "File 27021598127876898 not found in /yngve_data/sdssv/ipl-2/spectro/astra/0.3.0/v6_0_9-1.0/spectra/star\n"
     ]
    },
    {
     "name": "stderr",
     "output_type": "stream",
     "text": [
      " 60%|█████▉    | 91627/153700 [8:10:19<4:49:43,  3.57it/s]"
     ]
    },
    {
     "name": "stdout",
     "output_type": "stream",
     "text": [
      "File 27021598128324370 not found in /yngve_data/sdssv/ipl-2/spectro/astra/0.3.0/v6_0_9-1.0/spectra/star\n"
     ]
    },
    {
     "name": "stderr",
     "output_type": "stream",
     "text": [
      " 60%|█████▉    | 91638/153700 [8:10:22<4:36:17,  3.74it/s]"
     ]
    },
    {
     "name": "stdout",
     "output_type": "stream",
     "text": [
      "File 27021598128329357 not found in /yngve_data/sdssv/ipl-2/spectro/astra/0.3.0/v6_0_9-1.0/spectra/star\n"
     ]
    },
    {
     "name": "stderr",
     "output_type": "stream",
     "text": [
      " 60%|█████▉    | 91786/153700 [8:11:02<6:39:34,  2.58it/s]"
     ]
    },
    {
     "name": "stdout",
     "output_type": "stream",
     "text": [
      "File 27021598128487941 not found in /yngve_data/sdssv/ipl-2/spectro/astra/0.3.0/v6_0_9-1.0/spectra/star\n"
     ]
    },
    {
     "name": "stderr",
     "output_type": "stream",
     "text": [
      " 60%|█████▉    | 92088/153700 [8:12:31<2:56:13,  5.83it/s] "
     ]
    },
    {
     "name": "stdout",
     "output_type": "stream",
     "text": [
      "File 27021598146111223 not found in /yngve_data/sdssv/ipl-2/spectro/astra/0.3.0/v6_0_9-1.0/spectra/star\n"
     ]
    },
    {
     "name": "stderr",
     "output_type": "stream",
     "text": [
      " 60%|█████▉    | 92090/153700 [8:12:32<4:58:11,  3.44it/s]"
     ]
    },
    {
     "name": "stdout",
     "output_type": "stream",
     "text": [
      "File 27021598146648677 not found in /yngve_data/sdssv/ipl-2/spectro/astra/0.3.0/v6_0_9-1.0/spectra/star\n"
     ]
    },
    {
     "name": "stderr",
     "output_type": "stream",
     "text": [
      " 60%|█████▉    | 92094/153700 [8:12:34<7:23:42,  2.31it/s]"
     ]
    },
    {
     "name": "stdout",
     "output_type": "stream",
     "text": [
      "File 27021598146649060 not found in /yngve_data/sdssv/ipl-2/spectro/astra/0.3.0/v6_0_9-1.0/spectra/star\n"
     ]
    },
    {
     "name": "stderr",
     "output_type": "stream",
     "text": [
      " 60%|██████    | 92280/153700 [8:13:34<6:56:59,  2.45it/s]"
     ]
    },
    {
     "name": "stdout",
     "output_type": "stream",
     "text": [
      "File 27021598146878476 not found in /yngve_data/sdssv/ipl-2/spectro/astra/0.3.0/v6_0_9-1.0/spectra/star\n"
     ]
    },
    {
     "name": "stderr",
     "output_type": "stream",
     "text": [
      " 60%|██████    | 92299/153700 [8:13:39<5:18:05,  3.22it/s]"
     ]
    },
    {
     "name": "stdout",
     "output_type": "stream",
     "text": [
      "File 27021598146884210 not found in /yngve_data/sdssv/ipl-2/spectro/astra/0.3.0/v6_0_9-1.0/spectra/star\n"
     ]
    },
    {
     "name": "stderr",
     "output_type": "stream",
     "text": [
      " 60%|██████    | 92303/153700 [8:13:41<6:00:42,  2.84it/s]"
     ]
    },
    {
     "name": "stdout",
     "output_type": "stream",
     "text": [
      "File 27021598146885979 not found in /yngve_data/sdssv/ipl-2/spectro/astra/0.3.0/v6_0_9-1.0/spectra/star\n"
     ]
    },
    {
     "name": "stderr",
     "output_type": "stream",
     "text": [
      " 60%|██████    | 92805/153700 [8:16:05<6:06:22,  2.77it/s]"
     ]
    },
    {
     "name": "stdout",
     "output_type": "stream",
     "text": [
      "File 27021598150116001 not found in /yngve_data/sdssv/ipl-2/spectro/astra/0.3.0/v6_0_9-1.0/spectra/star\n"
     ]
    },
    {
     "name": "stderr",
     "output_type": "stream",
     "text": [
      " 61%|██████    | 93238/153700 [8:18:02<3:16:04,  5.14it/s]"
     ]
    },
    {
     "name": "stdout",
     "output_type": "stream",
     "text": [
      "File 27021598150531770 not found in /yngve_data/sdssv/ipl-2/spectro/astra/0.3.0/v6_0_9-1.0/spectra/star\n"
     ]
    },
    {
     "name": "stderr",
     "output_type": "stream",
     "text": [
      " 61%|██████    | 93242/153700 [8:18:03<5:07:28,  3.28it/s]"
     ]
    },
    {
     "name": "stdout",
     "output_type": "stream",
     "text": [
      "File 27021598150542792 not found in /yngve_data/sdssv/ipl-2/spectro/astra/0.3.0/v6_0_9-1.0/spectra/star\n"
     ]
    },
    {
     "name": "stderr",
     "output_type": "stream",
     "text": [
      " 61%|██████    | 93247/153700 [8:18:05<5:14:33,  3.20it/s]"
     ]
    },
    {
     "name": "stdout",
     "output_type": "stream",
     "text": [
      "File 27021598150552434 not found in /yngve_data/sdssv/ipl-2/spectro/astra/0.3.0/v6_0_9-1.0/spectra/star\n"
     ]
    },
    {
     "name": "stderr",
     "output_type": "stream",
     "text": [
      " 61%|██████    | 93248/153700 [8:18:05<6:07:03,  2.74it/s]"
     ]
    },
    {
     "name": "stdout",
     "output_type": "stream",
     "text": [
      "File 27021598150554830 not found in /yngve_data/sdssv/ipl-2/spectro/astra/0.3.0/v6_0_9-1.0/spectra/star\n"
     ]
    },
    {
     "name": "stderr",
     "output_type": "stream",
     "text": [
      " 61%|██████    | 93255/153700 [8:18:08<6:51:50,  2.45it/s]"
     ]
    },
    {
     "name": "stdout",
     "output_type": "stream",
     "text": [
      "File 27021598150558033 not found in /yngve_data/sdssv/ipl-2/spectro/astra/0.3.0/v6_0_9-1.0/spectra/star\n"
     ]
    },
    {
     "name": "stderr",
     "output_type": "stream",
     "text": [
      " 61%|██████    | 93259/153700 [8:18:10<8:00:54,  2.09it/s]"
     ]
    },
    {
     "name": "stdout",
     "output_type": "stream",
     "text": [
      "File 27021598150559893 not found in /yngve_data/sdssv/ipl-2/spectro/astra/0.3.0/v6_0_9-1.0/spectra/star\n"
     ]
    },
    {
     "name": "stderr",
     "output_type": "stream",
     "text": [
      " 61%|██████    | 93260/153700 [8:18:10<8:05:47,  2.07it/s]"
     ]
    },
    {
     "name": "stdout",
     "output_type": "stream",
     "text": [
      "File 27021598150560222 not found in /yngve_data/sdssv/ipl-2/spectro/astra/0.3.0/v6_0_9-1.0/spectra/star\n"
     ]
    },
    {
     "name": "stderr",
     "output_type": "stream",
     "text": [
      " 61%|██████    | 93261/153700 [8:18:11<8:09:10,  2.06it/s]"
     ]
    },
    {
     "name": "stdout",
     "output_type": "stream",
     "text": [
      "File 27021598150560327 not found in /yngve_data/sdssv/ipl-2/spectro/astra/0.3.0/v6_0_9-1.0/spectra/star\n"
     ]
    },
    {
     "name": "stderr",
     "output_type": "stream",
     "text": [
      " 61%|██████    | 93264/153700 [8:18:12<6:32:47,  2.56it/s]"
     ]
    },
    {
     "name": "stdout",
     "output_type": "stream",
     "text": [
      "File 27021598150564189 not found in /yngve_data/sdssv/ipl-2/spectro/astra/0.3.0/v6_0_9-1.0/spectra/star\n"
     ]
    },
    {
     "name": "stderr",
     "output_type": "stream",
     "text": [
      " 61%|██████    | 93622/153700 [8:19:56<5:57:42,  2.80it/s]"
     ]
    },
    {
     "name": "stdout",
     "output_type": "stream",
     "text": [
      "File 27021598151555123 not found in /yngve_data/sdssv/ipl-2/spectro/astra/0.3.0/v6_0_9-1.0/spectra/star\n"
     ]
    },
    {
     "name": "stderr",
     "output_type": "stream",
     "text": [
      " 61%|██████    | 93925/153700 [8:21:28<7:03:33,  2.35it/s]"
     ]
    },
    {
     "name": "stdout",
     "output_type": "stream",
     "text": [
      "File 27021598152627671 not found in /yngve_data/sdssv/ipl-2/spectro/astra/0.3.0/v6_0_9-1.0/spectra/star\n"
     ]
    },
    {
     "name": "stderr",
     "output_type": "stream",
     "text": [
      " 61%|██████    | 93955/153700 [8:21:41<7:16:16,  2.28it/s]"
     ]
    },
    {
     "name": "stdout",
     "output_type": "stream",
     "text": [
      "File 27021598152918560 not found in /yngve_data/sdssv/ipl-2/spectro/astra/0.3.0/v6_0_9-1.0/spectra/star\n"
     ]
    },
    {
     "name": "stderr",
     "output_type": "stream",
     "text": [
      " 61%|██████    | 93963/153700 [8:21:45<8:01:21,  2.07it/s]"
     ]
    },
    {
     "name": "stdout",
     "output_type": "stream",
     "text": [
      "File 27021598152919488 not found in /yngve_data/sdssv/ipl-2/spectro/astra/0.3.0/v6_0_9-1.0/spectra/star\n"
     ]
    },
    {
     "name": "stderr",
     "output_type": "stream",
     "text": [
      " 61%|██████    | 93967/153700 [8:21:47<8:20:58,  1.99it/s]"
     ]
    },
    {
     "name": "stdout",
     "output_type": "stream",
     "text": [
      "File 27021598152919645 not found in /yngve_data/sdssv/ipl-2/spectro/astra/0.3.0/v6_0_9-1.0/spectra/star\n"
     ]
    },
    {
     "name": "stderr",
     "output_type": "stream",
     "text": [
      " 61%|██████    | 93977/153700 [8:21:49<2:38:58,  6.26it/s]"
     ]
    },
    {
     "name": "stdout",
     "output_type": "stream",
     "text": [
      "File 27021598152920825 not found in /yngve_data/sdssv/ipl-2/spectro/astra/0.3.0/v6_0_9-1.0/spectra/star\n"
     ]
    },
    {
     "name": "stderr",
     "output_type": "stream",
     "text": [
      " 61%|██████    | 93981/153700 [8:21:50<3:24:16,  4.87it/s]"
     ]
    },
    {
     "name": "stdout",
     "output_type": "stream",
     "text": [
      "File 27021598152921098 not found in /yngve_data/sdssv/ipl-2/spectro/astra/0.3.0/v6_0_9-1.0/spectra/star\n"
     ]
    },
    {
     "name": "stderr",
     "output_type": "stream",
     "text": [
      " 61%|██████    | 93992/153700 [8:21:52<3:27:35,  4.79it/s]"
     ]
    },
    {
     "name": "stdout",
     "output_type": "stream",
     "text": [
      "File 27021598152922293 not found in /yngve_data/sdssv/ipl-2/spectro/astra/0.3.0/v6_0_9-1.0/spectra/star\n"
     ]
    },
    {
     "name": "stderr",
     "output_type": "stream",
     "text": [
      " 61%|██████    | 94000/153700 [8:21:54<3:50:34,  4.32it/s]"
     ]
    },
    {
     "name": "stdout",
     "output_type": "stream",
     "text": [
      "File 27021598152922660 not found in /yngve_data/sdssv/ipl-2/spectro/astra/0.3.0/v6_0_9-1.0/spectra/star\n"
     ]
    },
    {
     "name": "stderr",
     "output_type": "stream",
     "text": [
      " 61%|██████    | 94008/153700 [8:21:55<4:41:58,  3.53it/s]"
     ]
    },
    {
     "name": "stdout",
     "output_type": "stream",
     "text": [
      "File 27021598152923352 not found in /yngve_data/sdssv/ipl-2/spectro/astra/0.3.0/v6_0_9-1.0/spectra/star\n"
     ]
    },
    {
     "name": "stderr",
     "output_type": "stream",
     "text": [
      " 61%|██████    | 94010/153700 [8:21:56<5:25:56,  3.05it/s]"
     ]
    },
    {
     "name": "stdout",
     "output_type": "stream",
     "text": [
      "File 27021598152923687 not found in /yngve_data/sdssv/ipl-2/spectro/astra/0.3.0/v6_0_9-1.0/spectra/star\n"
     ]
    },
    {
     "name": "stderr",
     "output_type": "stream",
     "text": [
      " 61%|██████    | 94073/153700 [8:22:16<6:37:48,  2.50it/s]"
     ]
    },
    {
     "name": "stdout",
     "output_type": "stream",
     "text": [
      "Traceback (most recent call last):\n",
      "  File \"/home/petershi/miniconda3/envs/SDSSV/lib/python3.11/site-packages/astropy/io/fits/column.py\", line 2142, in _get_index\n",
      "    indx = names.index(key.rstrip())\n",
      "           ^^^^^^^^^^^^^^^^^^^^^^^^^\n",
      "ValueError: 'SNR' is not in list\n",
      "\n",
      "During handling of the above exception, another exception occurred:\n",
      "\n",
      "Traceback (most recent call last):\n",
      "  File \"/tmp/ipykernel_10073/3388262553.py\", line 15, in <module>\n",
      "    cdata = getSDSSVData(cfile)\n",
      "            ^^^^^^^^^^^^^^^^^^^\n",
      "  File \"/tmp/ipykernel_10073/4007893978.py\", line 3, in getSDSSVData\n",
      "    snr = hdul[3].data[\"SNR\"]\n",
      "          ~~~~~~~~~~~~^^^^^^^\n",
      "  File \"/home/petershi/miniconda3/envs/SDSSV/lib/python3.11/site-packages/astropy/io/fits/fitsrec.py\", line 513, in __getitem__\n",
      "    return self.field(key)\n",
      "           ^^^^^^^^^^^^^^^\n",
      "  File \"/home/petershi/miniconda3/envs/SDSSV/lib/python3.11/site-packages/astropy/io/fits/fitsrec.py\", line 695, in field\n",
      "    column = self.columns[key]\n",
      "             ~~~~~~~~~~~~^^^^^\n",
      "  File \"/home/petershi/miniconda3/envs/SDSSV/lib/python3.11/site-packages/astropy/io/fits/column.py\", line 1751, in __getitem__\n",
      "    key = _get_index(self.names, key)\n",
      "          ^^^^^^^^^^^^^^^^^^^^^^^^^^^\n",
      "  File \"/home/petershi/miniconda3/envs/SDSSV/lib/python3.11/site-packages/astropy/io/fits/column.py\", line 2151, in _get_index\n",
      "    raise KeyError(f\"Key '{key}' does not exist.\")\n",
      "KeyError: \"Key 'SNR' does not exist.\"\n",
      "\n"
     ]
    },
    {
     "name": "stderr",
     "output_type": "stream",
     "text": [
      " 61%|██████▏   | 94149/153700 [8:22:37<4:41:31,  3.53it/s]"
     ]
    },
    {
     "name": "stdout",
     "output_type": "stream",
     "text": [
      "File 27021598154673978 not found in /yngve_data/sdssv/ipl-2/spectro/astra/0.3.0/v6_0_9-1.0/spectra/star\n"
     ]
    },
    {
     "name": "stderr",
     "output_type": "stream",
     "text": [
      " 61%|██████▏   | 94327/153700 [8:23:26<4:07:13,  4.00it/s]"
     ]
    },
    {
     "name": "stdout",
     "output_type": "stream",
     "text": [
      "File 27021598154859925 not found in /yngve_data/sdssv/ipl-2/spectro/astra/0.3.0/v6_0_9-1.0/spectra/star\n"
     ]
    },
    {
     "name": "stderr",
     "output_type": "stream",
     "text": [
      " 61%|██████▏   | 94339/153700 [8:23:30<9:35:42,  1.72it/s]"
     ]
    },
    {
     "name": "stdout",
     "output_type": "stream",
     "text": [
      "File 27021598154879728 not found in /yngve_data/sdssv/ipl-2/spectro/astra/0.3.0/v6_0_9-1.0/spectra/star\n"
     ]
    },
    {
     "name": "stderr",
     "output_type": "stream",
     "text": [
      " 61%|██████▏   | 94356/153700 [8:23:33<1:34:09, 10.51it/s] "
     ]
    },
    {
     "name": "stdout",
     "output_type": "stream",
     "text": [
      "Traceback (most recent call last):\n",
      "  File \"/home/petershi/miniconda3/envs/SDSSV/lib/python3.11/site-packages/astropy/io/fits/column.py\", line 2142, in _get_index\n",
      "    indx = names.index(key.rstrip())\n",
      "           ^^^^^^^^^^^^^^^^^^^^^^^^^\n",
      "ValueError: 'SNR' is not in list\n",
      "\n",
      "During handling of the above exception, another exception occurred:\n",
      "\n",
      "Traceback (most recent call last):\n",
      "  File \"/tmp/ipykernel_10073/3388262553.py\", line 15, in <module>\n",
      "    cdata = getSDSSVData(cfile)\n",
      "            ^^^^^^^^^^^^^^^^^^^\n",
      "  File \"/tmp/ipykernel_10073/4007893978.py\", line 3, in getSDSSVData\n",
      "    snr = hdul[3].data[\"SNR\"]\n",
      "          ~~~~~~~~~~~~^^^^^^^\n",
      "  File \"/home/petershi/miniconda3/envs/SDSSV/lib/python3.11/site-packages/astropy/io/fits/fitsrec.py\", line 513, in __getitem__\n",
      "    return self.field(key)\n",
      "           ^^^^^^^^^^^^^^^\n",
      "  File \"/home/petershi/miniconda3/envs/SDSSV/lib/python3.11/site-packages/astropy/io/fits/fitsrec.py\", line 695, in field\n",
      "    column = self.columns[key]\n",
      "             ~~~~~~~~~~~~^^^^^\n",
      "  File \"/home/petershi/miniconda3/envs/SDSSV/lib/python3.11/site-packages/astropy/io/fits/column.py\", line 1751, in __getitem__\n",
      "    key = _get_index(self.names, key)\n",
      "          ^^^^^^^^^^^^^^^^^^^^^^^^^^^\n",
      "  File \"/home/petershi/miniconda3/envs/SDSSV/lib/python3.11/site-packages/astropy/io/fits/column.py\", line 2151, in _get_index\n",
      "    raise KeyError(f\"Key '{key}' does not exist.\")\n",
      "KeyError: \"Key 'SNR' does not exist.\"\n",
      "\n"
     ]
    },
    {
     "name": "stderr",
     "output_type": "stream",
     "text": [
      " 61%|██████▏   | 94360/153700 [8:23:34<2:18:21,  7.15it/s]"
     ]
    },
    {
     "name": "stdout",
     "output_type": "stream",
     "text": [
      "File 27021598154880802 not found in /yngve_data/sdssv/ipl-2/spectro/astra/0.3.0/v6_0_9-1.0/spectra/star\n"
     ]
    },
    {
     "name": "stderr",
     "output_type": "stream",
     "text": [
      " 61%|██████▏   | 94387/153700 [8:23:39<5:37:33,  2.93it/s]"
     ]
    },
    {
     "name": "stdout",
     "output_type": "stream",
     "text": [
      "Traceback (most recent call last):\n",
      "  File \"/home/petershi/miniconda3/envs/SDSSV/lib/python3.11/site-packages/astropy/io/fits/column.py\", line 2142, in _get_index\n",
      "    indx = names.index(key.rstrip())\n",
      "           ^^^^^^^^^^^^^^^^^^^^^^^^^\n",
      "ValueError: 'SNR' is not in list\n",
      "\n",
      "During handling of the above exception, another exception occurred:\n",
      "\n",
      "Traceback (most recent call last):\n",
      "  File \"/tmp/ipykernel_10073/3388262553.py\", line 15, in <module>\n",
      "    cdata = getSDSSVData(cfile)\n",
      "            ^^^^^^^^^^^^^^^^^^^\n",
      "  File \"/tmp/ipykernel_10073/4007893978.py\", line 3, in getSDSSVData\n",
      "    snr = hdul[3].data[\"SNR\"]\n",
      "          ~~~~~~~~~~~~^^^^^^^\n",
      "  File \"/home/petershi/miniconda3/envs/SDSSV/lib/python3.11/site-packages/astropy/io/fits/fitsrec.py\", line 513, in __getitem__\n",
      "    return self.field(key)\n",
      "           ^^^^^^^^^^^^^^^\n",
      "  File \"/home/petershi/miniconda3/envs/SDSSV/lib/python3.11/site-packages/astropy/io/fits/fitsrec.py\", line 695, in field\n",
      "    column = self.columns[key]\n",
      "             ~~~~~~~~~~~~^^^^^\n",
      "  File \"/home/petershi/miniconda3/envs/SDSSV/lib/python3.11/site-packages/astropy/io/fits/column.py\", line 1751, in __getitem__\n",
      "    key = _get_index(self.names, key)\n",
      "          ^^^^^^^^^^^^^^^^^^^^^^^^^^^\n",
      "  File \"/home/petershi/miniconda3/envs/SDSSV/lib/python3.11/site-packages/astropy/io/fits/column.py\", line 2151, in _get_index\n",
      "    raise KeyError(f\"Key '{key}' does not exist.\")\n",
      "KeyError: \"Key 'SNR' does not exist.\"\n",
      "\n"
     ]
    },
    {
     "name": "stderr",
     "output_type": "stream",
     "text": [
      " 61%|██████▏   | 94392/153700 [8:23:41<6:49:07,  2.42it/s]"
     ]
    },
    {
     "name": "stdout",
     "output_type": "stream",
     "text": [
      "File 27021598154886817 not found in /yngve_data/sdssv/ipl-2/spectro/astra/0.3.0/v6_0_9-1.0/spectra/star\n"
     ]
    },
    {
     "name": "stderr",
     "output_type": "stream",
     "text": [
      " 61%|██████▏   | 94396/153700 [8:23:43<6:41:25,  2.46it/s]"
     ]
    },
    {
     "name": "stdout",
     "output_type": "stream",
     "text": [
      "Traceback (most recent call last):\n",
      "  File \"/home/petershi/miniconda3/envs/SDSSV/lib/python3.11/site-packages/astropy/io/fits/column.py\", line 2142, in _get_index\n",
      "    indx = names.index(key.rstrip())\n",
      "           ^^^^^^^^^^^^^^^^^^^^^^^^^\n",
      "ValueError: 'SNR' is not in list\n",
      "\n",
      "During handling of the above exception, another exception occurred:\n",
      "\n",
      "Traceback (most recent call last):\n",
      "  File \"/tmp/ipykernel_10073/3388262553.py\", line 15, in <module>\n",
      "    cdata = getSDSSVData(cfile)\n",
      "            ^^^^^^^^^^^^^^^^^^^\n",
      "  File \"/tmp/ipykernel_10073/4007893978.py\", line 3, in getSDSSVData\n",
      "    snr = hdul[3].data[\"SNR\"]\n",
      "          ~~~~~~~~~~~~^^^^^^^\n",
      "  File \"/home/petershi/miniconda3/envs/SDSSV/lib/python3.11/site-packages/astropy/io/fits/fitsrec.py\", line 513, in __getitem__\n",
      "    return self.field(key)\n",
      "           ^^^^^^^^^^^^^^^\n",
      "  File \"/home/petershi/miniconda3/envs/SDSSV/lib/python3.11/site-packages/astropy/io/fits/fitsrec.py\", line 695, in field\n",
      "    column = self.columns[key]\n",
      "             ~~~~~~~~~~~~^^^^^\n",
      "  File \"/home/petershi/miniconda3/envs/SDSSV/lib/python3.11/site-packages/astropy/io/fits/column.py\", line 1751, in __getitem__\n",
      "    key = _get_index(self.names, key)\n",
      "          ^^^^^^^^^^^^^^^^^^^^^^^^^^^\n",
      "  File \"/home/petershi/miniconda3/envs/SDSSV/lib/python3.11/site-packages/astropy/io/fits/column.py\", line 2151, in _get_index\n",
      "    raise KeyError(f\"Key '{key}' does not exist.\")\n",
      "KeyError: \"Key 'SNR' does not exist.\"\n",
      "\n"
     ]
    },
    {
     "name": "stderr",
     "output_type": "stream",
     "text": [
      " 61%|██████▏   | 94404/153700 [8:23:46<7:05:12,  2.32it/s]"
     ]
    },
    {
     "name": "stdout",
     "output_type": "stream",
     "text": [
      "Traceback (most recent call last):\n",
      "  File \"/home/petershi/miniconda3/envs/SDSSV/lib/python3.11/site-packages/astropy/io/fits/column.py\", line 2142, in _get_index\n",
      "    indx = names.index(key.rstrip())\n",
      "           ^^^^^^^^^^^^^^^^^^^^^^^^^\n",
      "ValueError: 'SNR' is not in list\n",
      "\n",
      "During handling of the above exception, another exception occurred:\n",
      "\n",
      "Traceback (most recent call last):\n",
      "  File \"/tmp/ipykernel_10073/3388262553.py\", line 15, in <module>\n",
      "    cdata = getSDSSVData(cfile)\n",
      "            ^^^^^^^^^^^^^^^^^^^\n",
      "  File \"/tmp/ipykernel_10073/4007893978.py\", line 3, in getSDSSVData\n",
      "    snr = hdul[3].data[\"SNR\"]\n",
      "          ~~~~~~~~~~~~^^^^^^^\n",
      "  File \"/home/petershi/miniconda3/envs/SDSSV/lib/python3.11/site-packages/astropy/io/fits/fitsrec.py\", line 513, in __getitem__\n",
      "    return self.field(key)\n",
      "           ^^^^^^^^^^^^^^^\n",
      "  File \"/home/petershi/miniconda3/envs/SDSSV/lib/python3.11/site-packages/astropy/io/fits/fitsrec.py\", line 695, in field\n",
      "    column = self.columns[key]\n",
      "             ~~~~~~~~~~~~^^^^^\n",
      "  File \"/home/petershi/miniconda3/envs/SDSSV/lib/python3.11/site-packages/astropy/io/fits/column.py\", line 1751, in __getitem__\n",
      "    key = _get_index(self.names, key)\n",
      "          ^^^^^^^^^^^^^^^^^^^^^^^^^^^\n",
      "  File \"/home/petershi/miniconda3/envs/SDSSV/lib/python3.11/site-packages/astropy/io/fits/column.py\", line 2151, in _get_index\n",
      "    raise KeyError(f\"Key '{key}' does not exist.\")\n",
      "KeyError: \"Key 'SNR' does not exist.\"\n",
      "\n"
     ]
    },
    {
     "name": "stderr",
     "output_type": "stream",
     "text": [
      " 61%|██████▏   | 94409/153700 [8:23:49<7:40:06,  2.15it/s]"
     ]
    },
    {
     "name": "stdout",
     "output_type": "stream",
     "text": [
      "File 27021598154888215 not found in /yngve_data/sdssv/ipl-2/spectro/astra/0.3.0/v6_0_9-1.0/spectra/star\n"
     ]
    },
    {
     "name": "stderr",
     "output_type": "stream",
     "text": [
      " 61%|██████▏   | 94411/153700 [8:23:50<7:53:39,  2.09it/s]"
     ]
    },
    {
     "name": "stdout",
     "output_type": "stream",
     "text": [
      "File 27021598154888564 not found in /yngve_data/sdssv/ipl-2/spectro/astra/0.3.0/v6_0_9-1.0/spectra/star\n"
     ]
    },
    {
     "name": "stderr",
     "output_type": "stream",
     "text": [
      " 61%|██████▏   | 94413/153700 [8:23:51<8:18:31,  1.98it/s]"
     ]
    },
    {
     "name": "stdout",
     "output_type": "stream",
     "text": [
      "File 27021598154888761 not found in /yngve_data/sdssv/ipl-2/spectro/astra/0.3.0/v6_0_9-1.0/spectra/star\n"
     ]
    },
    {
     "name": "stderr",
     "output_type": "stream",
     "text": [
      " 61%|██████▏   | 94415/153700 [8:23:52<8:11:53,  2.01it/s]"
     ]
    },
    {
     "name": "stdout",
     "output_type": "stream",
     "text": [
      "Traceback (most recent call last):\n",
      "  File \"/home/petershi/miniconda3/envs/SDSSV/lib/python3.11/site-packages/astropy/io/fits/column.py\", line 2142, in _get_index\n",
      "    indx = names.index(key.rstrip())\n",
      "           ^^^^^^^^^^^^^^^^^^^^^^^^^\n",
      "ValueError: 'SNR' is not in list\n",
      "\n",
      "During handling of the above exception, another exception occurred:\n",
      "\n",
      "Traceback (most recent call last):\n",
      "  File \"/tmp/ipykernel_10073/3388262553.py\", line 15, in <module>\n",
      "    cdata = getSDSSVData(cfile)\n",
      "            ^^^^^^^^^^^^^^^^^^^\n",
      "  File \"/tmp/ipykernel_10073/4007893978.py\", line 3, in getSDSSVData\n",
      "    snr = hdul[3].data[\"SNR\"]\n",
      "          ~~~~~~~~~~~~^^^^^^^\n",
      "  File \"/home/petershi/miniconda3/envs/SDSSV/lib/python3.11/site-packages/astropy/io/fits/fitsrec.py\", line 513, in __getitem__\n",
      "    return self.field(key)\n",
      "           ^^^^^^^^^^^^^^^\n",
      "  File \"/home/petershi/miniconda3/envs/SDSSV/lib/python3.11/site-packages/astropy/io/fits/fitsrec.py\", line 695, in field\n",
      "    column = self.columns[key]\n",
      "             ~~~~~~~~~~~~^^^^^\n",
      "  File \"/home/petershi/miniconda3/envs/SDSSV/lib/python3.11/site-packages/astropy/io/fits/column.py\", line 1751, in __getitem__\n",
      "    key = _get_index(self.names, key)\n",
      "          ^^^^^^^^^^^^^^^^^^^^^^^^^^^\n",
      "  File \"/home/petershi/miniconda3/envs/SDSSV/lib/python3.11/site-packages/astropy/io/fits/column.py\", line 2151, in _get_index\n",
      "    raise KeyError(f\"Key '{key}' does not exist.\")\n",
      "KeyError: \"Key 'SNR' does not exist.\"\n",
      "\n"
     ]
    },
    {
     "name": "stderr",
     "output_type": "stream",
     "text": [
      " 61%|██████▏   | 94462/153700 [8:24:06<3:21:47,  4.89it/s]"
     ]
    },
    {
     "name": "stdout",
     "output_type": "stream",
     "text": [
      "Traceback (most recent call last):\n",
      "  File \"/home/petershi/miniconda3/envs/SDSSV/lib/python3.11/site-packages/astropy/io/fits/column.py\", line 2142, in _get_index\n",
      "    indx = names.index(key.rstrip())\n",
      "           ^^^^^^^^^^^^^^^^^^^^^^^^^\n",
      "ValueError: 'SNR' is not in list\n",
      "\n",
      "During handling of the above exception, another exception occurred:\n",
      "\n",
      "Traceback (most recent call last):\n",
      "  File \"/tmp/ipykernel_10073/3388262553.py\", line 15, in <module>\n",
      "    cdata = getSDSSVData(cfile)\n",
      "            ^^^^^^^^^^^^^^^^^^^\n",
      "  File \"/tmp/ipykernel_10073/4007893978.py\", line 3, in getSDSSVData\n",
      "    snr = hdul[3].data[\"SNR\"]\n",
      "          ~~~~~~~~~~~~^^^^^^^\n",
      "  File \"/home/petershi/miniconda3/envs/SDSSV/lib/python3.11/site-packages/astropy/io/fits/fitsrec.py\", line 513, in __getitem__\n",
      "    return self.field(key)\n",
      "           ^^^^^^^^^^^^^^^\n",
      "  File \"/home/petershi/miniconda3/envs/SDSSV/lib/python3.11/site-packages/astropy/io/fits/fitsrec.py\", line 695, in field\n",
      "    column = self.columns[key]\n",
      "             ~~~~~~~~~~~~^^^^^\n",
      "  File \"/home/petershi/miniconda3/envs/SDSSV/lib/python3.11/site-packages/astropy/io/fits/column.py\", line 1751, in __getitem__\n",
      "    key = _get_index(self.names, key)\n",
      "          ^^^^^^^^^^^^^^^^^^^^^^^^^^^\n",
      "  File \"/home/petershi/miniconda3/envs/SDSSV/lib/python3.11/site-packages/astropy/io/fits/column.py\", line 2151, in _get_index\n",
      "    raise KeyError(f\"Key '{key}' does not exist.\")\n",
      "KeyError: \"Key 'SNR' does not exist.\"\n",
      "\n"
     ]
    },
    {
     "name": "stderr",
     "output_type": "stream",
     "text": [
      " 62%|██████▏   | 94555/153700 [8:24:35<6:22:26,  2.58it/s]"
     ]
    },
    {
     "name": "stdout",
     "output_type": "stream",
     "text": [
      "File 27021598155656512 not found in /yngve_data/sdssv/ipl-2/spectro/astra/0.3.0/v6_0_9-1.0/spectra/star\n"
     ]
    },
    {
     "name": "stderr",
     "output_type": "stream",
     "text": [
      " 62%|██████▏   | 94573/153700 [8:24:42<7:23:54,  2.22it/s]"
     ]
    },
    {
     "name": "stdout",
     "output_type": "stream",
     "text": [
      "File 27021598155658130 not found in /yngve_data/sdssv/ipl-2/spectro/astra/0.3.0/v6_0_9-1.0/spectra/star\n"
     ]
    },
    {
     "name": "stderr",
     "output_type": "stream",
     "text": [
      " 62%|██████▏   | 94580/153700 [8:24:44<3:44:04,  4.40it/s]"
     ]
    },
    {
     "name": "stdout",
     "output_type": "stream",
     "text": [
      "File 27021598155660096 not found in /yngve_data/sdssv/ipl-2/spectro/astra/0.3.0/v6_0_9-1.0/spectra/star\n"
     ]
    },
    {
     "name": "stderr",
     "output_type": "stream",
     "text": [
      " 62%|██████▏   | 94675/153700 [8:25:07<5:11:43,  3.16it/s]"
     ]
    },
    {
     "name": "stdout",
     "output_type": "stream",
     "text": [
      "File 27021598156327136 not found in /yngve_data/sdssv/ipl-2/spectro/astra/0.3.0/v6_0_9-1.0/spectra/star\n"
     ]
    },
    {
     "name": "stderr",
     "output_type": "stream",
     "text": [
      " 62%|██████▏   | 94676/153700 [8:25:07<6:10:36,  2.65it/s]"
     ]
    },
    {
     "name": "stdout",
     "output_type": "stream",
     "text": [
      "File 27021598156327157 not found in /yngve_data/sdssv/ipl-2/spectro/astra/0.3.0/v6_0_9-1.0/spectra/star\n"
     ]
    },
    {
     "name": "stderr",
     "output_type": "stream",
     "text": [
      " 62%|██████▏   | 94677/153700 [8:25:08<6:58:00,  2.35it/s]"
     ]
    },
    {
     "name": "stdout",
     "output_type": "stream",
     "text": [
      "File 27021598156327219 not found in /yngve_data/sdssv/ipl-2/spectro/astra/0.3.0/v6_0_9-1.0/spectra/star\n"
     ]
    },
    {
     "name": "stderr",
     "output_type": "stream",
     "text": [
      " 62%|██████▏   | 94681/153700 [8:25:10<7:31:24,  2.18it/s]"
     ]
    },
    {
     "name": "stdout",
     "output_type": "stream",
     "text": [
      "File 27021598156327644 not found in /yngve_data/sdssv/ipl-2/spectro/astra/0.3.0/v6_0_9-1.0/spectra/star\n"
     ]
    },
    {
     "name": "stderr",
     "output_type": "stream",
     "text": [
      " 62%|██████▏   | 94682/153700 [8:25:10<7:50:03,  2.09it/s]"
     ]
    },
    {
     "name": "stdout",
     "output_type": "stream",
     "text": [
      "File 27021598156327645 not found in /yngve_data/sdssv/ipl-2/spectro/astra/0.3.0/v6_0_9-1.0/spectra/star\n"
     ]
    },
    {
     "name": "stderr",
     "output_type": "stream",
     "text": [
      " 62%|██████▏   | 94683/153700 [8:25:11<8:02:07,  2.04it/s]"
     ]
    },
    {
     "name": "stdout",
     "output_type": "stream",
     "text": [
      "File 27021598156327783 not found in /yngve_data/sdssv/ipl-2/spectro/astra/0.3.0/v6_0_9-1.0/spectra/star\n"
     ]
    },
    {
     "name": "stderr",
     "output_type": "stream",
     "text": [
      " 62%|██████▏   | 94684/153700 [8:25:11<8:09:03,  2.01it/s]"
     ]
    },
    {
     "name": "stdout",
     "output_type": "stream",
     "text": [
      "File 27021598156339527 not found in /yngve_data/sdssv/ipl-2/spectro/astra/0.3.0/v6_0_9-1.0/spectra/star\n"
     ]
    },
    {
     "name": "stderr",
     "output_type": "stream",
     "text": [
      " 62%|██████▏   | 94696/153700 [8:25:15<3:28:02,  4.73it/s]"
     ]
    },
    {
     "name": "stdout",
     "output_type": "stream",
     "text": [
      "File 27021598156340116 not found in /yngve_data/sdssv/ipl-2/spectro/astra/0.3.0/v6_0_9-1.0/spectra/star\n"
     ]
    },
    {
     "name": "stderr",
     "output_type": "stream",
     "text": [
      " 62%|██████▏   | 94704/153700 [8:25:16<2:37:13,  6.25it/s]"
     ]
    },
    {
     "name": "stdout",
     "output_type": "stream",
     "text": [
      "File 27021598156340637 not found in /yngve_data/sdssv/ipl-2/spectro/astra/0.3.0/v6_0_9-1.0/spectra/star\n"
     ]
    },
    {
     "name": "stderr",
     "output_type": "stream",
     "text": [
      " 62%|██████▏   | 94708/153700 [8:25:17<2:41:10,  6.10it/s]"
     ]
    },
    {
     "name": "stdout",
     "output_type": "stream",
     "text": [
      "File 27021598156340868 not found in /yngve_data/sdssv/ipl-2/spectro/astra/0.3.0/v6_0_9-1.0/spectra/star\n"
     ]
    },
    {
     "name": "stderr",
     "output_type": "stream",
     "text": [
      " 62%|██████▏   | 94718/153700 [8:25:19<3:51:26,  4.25it/s]"
     ]
    },
    {
     "name": "stdout",
     "output_type": "stream",
     "text": [
      "File 27021598156343147 not found in /yngve_data/sdssv/ipl-2/spectro/astra/0.3.0/v6_0_9-1.0/spectra/star\n"
     ]
    },
    {
     "name": "stderr",
     "output_type": "stream",
     "text": [
      " 62%|██████▏   | 94728/153700 [8:25:21<4:58:09,  3.30it/s]"
     ]
    },
    {
     "name": "stdout",
     "output_type": "stream",
     "text": [
      "File 27021598156343840 not found in /yngve_data/sdssv/ipl-2/spectro/astra/0.3.0/v6_0_9-1.0/spectra/star\n"
     ]
    },
    {
     "name": "stderr",
     "output_type": "stream",
     "text": [
      " 62%|██████▏   | 94733/153700 [8:25:23<5:32:05,  2.96it/s]"
     ]
    },
    {
     "name": "stdout",
     "output_type": "stream",
     "text": [
      "File 27021598156344321 not found in /yngve_data/sdssv/ipl-2/spectro/astra/0.3.0/v6_0_9-1.0/spectra/star\n"
     ]
    },
    {
     "name": "stderr",
     "output_type": "stream",
     "text": [
      " 62%|██████▏   | 94734/153700 [8:25:23<6:24:27,  2.56it/s]"
     ]
    },
    {
     "name": "stdout",
     "output_type": "stream",
     "text": [
      "File 27021598156344342 not found in /yngve_data/sdssv/ipl-2/spectro/astra/0.3.0/v6_0_9-1.0/spectra/star\n"
     ]
    },
    {
     "name": "stderr",
     "output_type": "stream",
     "text": [
      " 62%|██████▏   | 94735/153700 [8:25:24<7:15:16,  2.26it/s]"
     ]
    },
    {
     "name": "stdout",
     "output_type": "stream",
     "text": [
      "File 27021598156344508 not found in /yngve_data/sdssv/ipl-2/spectro/astra/0.3.0/v6_0_9-1.0/spectra/star\n"
     ]
    },
    {
     "name": "stderr",
     "output_type": "stream",
     "text": [
      " 62%|██████▏   | 94736/153700 [8:25:24<7:40:43,  2.13it/s]"
     ]
    },
    {
     "name": "stdout",
     "output_type": "stream",
     "text": [
      "File 27021598156344539 not found in /yngve_data/sdssv/ipl-2/spectro/astra/0.3.0/v6_0_9-1.0/spectra/star\n"
     ]
    },
    {
     "name": "stderr",
     "output_type": "stream",
     "text": [
      " 62%|██████▏   | 94741/153700 [8:25:26<6:23:32,  2.56it/s]"
     ]
    },
    {
     "name": "stdout",
     "output_type": "stream",
     "text": [
      "File 27021598156344957 not found in /yngve_data/sdssv/ipl-2/spectro/astra/0.3.0/v6_0_9-1.0/spectra/star\n"
     ]
    },
    {
     "name": "stderr",
     "output_type": "stream",
     "text": [
      " 62%|██████▏   | 94750/153700 [8:25:29<6:25:33,  2.55it/s]"
     ]
    },
    {
     "name": "stdout",
     "output_type": "stream",
     "text": [
      "File 27021598156514405 not found in /yngve_data/sdssv/ipl-2/spectro/astra/0.3.0/v6_0_9-1.0/spectra/star\n"
     ]
    },
    {
     "name": "stderr",
     "output_type": "stream",
     "text": [
      " 62%|██████▏   | 94759/153700 [8:25:32<6:08:44,  2.66it/s]"
     ]
    },
    {
     "name": "stdout",
     "output_type": "stream",
     "text": [
      "File 27021598156515310 not found in /yngve_data/sdssv/ipl-2/spectro/astra/0.3.0/v6_0_9-1.0/spectra/star\n"
     ]
    },
    {
     "name": "stderr",
     "output_type": "stream",
     "text": [
      " 62%|██████▏   | 94762/153700 [8:25:33<6:26:45,  2.54it/s]"
     ]
    },
    {
     "name": "stdout",
     "output_type": "stream",
     "text": [
      "File 27021598156515636 not found in /yngve_data/sdssv/ipl-2/spectro/astra/0.3.0/v6_0_9-1.0/spectra/star\n"
     ]
    },
    {
     "name": "stderr",
     "output_type": "stream",
     "text": [
      " 62%|██████▏   | 94764/153700 [8:25:34<6:51:54,  2.38it/s]"
     ]
    },
    {
     "name": "stdout",
     "output_type": "stream",
     "text": [
      "File 27021598156515684 not found in /yngve_data/sdssv/ipl-2/spectro/astra/0.3.0/v6_0_9-1.0/spectra/star\n"
     ]
    },
    {
     "name": "stderr",
     "output_type": "stream",
     "text": [
      " 62%|██████▏   | 94768/153700 [8:25:36<6:44:27,  2.43it/s]"
     ]
    },
    {
     "name": "stdout",
     "output_type": "stream",
     "text": [
      "File 27021598156516113 not found in /yngve_data/sdssv/ipl-2/spectro/astra/0.3.0/v6_0_9-1.0/spectra/star\n"
     ]
    },
    {
     "name": "stderr",
     "output_type": "stream",
     "text": [
      " 62%|██████▏   | 94960/153700 [8:26:28<5:38:31,  2.89it/s]"
     ]
    },
    {
     "name": "stdout",
     "output_type": "stream",
     "text": [
      "File 27021598158805002 not found in /yngve_data/sdssv/ipl-2/spectro/astra/0.3.0/v6_0_9-1.0/spectra/star\n"
     ]
    },
    {
     "name": "stderr",
     "output_type": "stream",
     "text": [
      " 62%|██████▏   | 94995/153700 [8:26:38<5:34:39,  2.92it/s]"
     ]
    },
    {
     "name": "stdout",
     "output_type": "stream",
     "text": [
      "File 27021598159426549 not found in /yngve_data/sdssv/ipl-2/spectro/astra/0.3.0/v6_0_9-1.0/spectra/star\n"
     ]
    },
    {
     "name": "stderr",
     "output_type": "stream",
     "text": [
      " 62%|██████▏   | 95018/153700 [8:26:45<4:36:57,  3.53it/s]"
     ]
    },
    {
     "name": "stdout",
     "output_type": "stream",
     "text": [
      "Traceback (most recent call last):\n",
      "  File \"/home/petershi/miniconda3/envs/SDSSV/lib/python3.11/site-packages/astropy/io/fits/column.py\", line 2142, in _get_index\n",
      "    indx = names.index(key.rstrip())\n",
      "           ^^^^^^^^^^^^^^^^^^^^^^^^^\n",
      "ValueError: 'SNR' is not in list\n",
      "\n",
      "During handling of the above exception, another exception occurred:\n",
      "\n",
      "Traceback (most recent call last):\n",
      "  File \"/tmp/ipykernel_10073/3388262553.py\", line 15, in <module>\n",
      "    cdata = getSDSSVData(cfile)\n",
      "            ^^^^^^^^^^^^^^^^^^^\n",
      "  File \"/tmp/ipykernel_10073/4007893978.py\", line 3, in getSDSSVData\n",
      "    snr = hdul[3].data[\"SNR\"]\n",
      "          ~~~~~~~~~~~~^^^^^^^\n",
      "  File \"/home/petershi/miniconda3/envs/SDSSV/lib/python3.11/site-packages/astropy/io/fits/fitsrec.py\", line 513, in __getitem__\n",
      "    return self.field(key)\n",
      "           ^^^^^^^^^^^^^^^\n",
      "  File \"/home/petershi/miniconda3/envs/SDSSV/lib/python3.11/site-packages/astropy/io/fits/fitsrec.py\", line 695, in field\n",
      "    column = self.columns[key]\n",
      "             ~~~~~~~~~~~~^^^^^\n",
      "  File \"/home/petershi/miniconda3/envs/SDSSV/lib/python3.11/site-packages/astropy/io/fits/column.py\", line 1751, in __getitem__\n",
      "    key = _get_index(self.names, key)\n",
      "          ^^^^^^^^^^^^^^^^^^^^^^^^^^^\n",
      "  File \"/home/petershi/miniconda3/envs/SDSSV/lib/python3.11/site-packages/astropy/io/fits/column.py\", line 2151, in _get_index\n",
      "    raise KeyError(f\"Key '{key}' does not exist.\")\n",
      "KeyError: \"Key 'SNR' does not exist.\"\n",
      "\n"
     ]
    },
    {
     "name": "stderr",
     "output_type": "stream",
     "text": [
      " 62%|██████▏   | 95019/153700 [8:26:45<5:41:40,  2.86it/s]"
     ]
    },
    {
     "name": "stdout",
     "output_type": "stream",
     "text": [
      "File 27021598159504730 not found in /yngve_data/sdssv/ipl-2/spectro/astra/0.3.0/v6_0_9-1.0/spectra/star\n"
     ]
    },
    {
     "name": "stderr",
     "output_type": "stream",
     "text": [
      " 62%|██████▏   | 95020/153700 [8:26:46<6:23:11,  2.55it/s]"
     ]
    },
    {
     "name": "stdout",
     "output_type": "stream",
     "text": [
      "File 27021598159504846 not found in /yngve_data/sdssv/ipl-2/spectro/astra/0.3.0/v6_0_9-1.0/spectra/star\n"
     ]
    },
    {
     "name": "stderr",
     "output_type": "stream",
     "text": [
      " 62%|██████▏   | 95035/153700 [8:26:51<6:11:29,  2.63it/s]"
     ]
    },
    {
     "name": "stdout",
     "output_type": "stream",
     "text": [
      "File 27021598159505991 not found in /yngve_data/sdssv/ipl-2/spectro/astra/0.3.0/v6_0_9-1.0/spectra/star\n"
     ]
    },
    {
     "name": "stderr",
     "output_type": "stream",
     "text": [
      " 62%|██████▏   | 95072/153700 [8:27:06<4:37:22,  3.52it/s]"
     ]
    },
    {
     "name": "stdout",
     "output_type": "stream",
     "text": [
      "Traceback (most recent call last):\n",
      "  File \"/home/petershi/miniconda3/envs/SDSSV/lib/python3.11/site-packages/astropy/io/fits/column.py\", line 2142, in _get_index\n",
      "    indx = names.index(key.rstrip())\n",
      "           ^^^^^^^^^^^^^^^^^^^^^^^^^\n",
      "ValueError: 'SNR' is not in list\n",
      "\n",
      "During handling of the above exception, another exception occurred:\n",
      "\n",
      "Traceback (most recent call last):\n",
      "  File \"/tmp/ipykernel_10073/3388262553.py\", line 15, in <module>\n",
      "    cdata = getSDSSVData(cfile)\n",
      "            ^^^^^^^^^^^^^^^^^^^\n",
      "  File \"/tmp/ipykernel_10073/4007893978.py\", line 3, in getSDSSVData\n",
      "    snr = hdul[3].data[\"SNR\"]\n",
      "          ~~~~~~~~~~~~^^^^^^^\n",
      "  File \"/home/petershi/miniconda3/envs/SDSSV/lib/python3.11/site-packages/astropy/io/fits/fitsrec.py\", line 513, in __getitem__\n",
      "    return self.field(key)\n",
      "           ^^^^^^^^^^^^^^^\n",
      "  File \"/home/petershi/miniconda3/envs/SDSSV/lib/python3.11/site-packages/astropy/io/fits/fitsrec.py\", line 695, in field\n",
      "    column = self.columns[key]\n",
      "             ~~~~~~~~~~~~^^^^^\n",
      "  File \"/home/petershi/miniconda3/envs/SDSSV/lib/python3.11/site-packages/astropy/io/fits/column.py\", line 1751, in __getitem__\n",
      "    key = _get_index(self.names, key)\n",
      "          ^^^^^^^^^^^^^^^^^^^^^^^^^^^\n",
      "  File \"/home/petershi/miniconda3/envs/SDSSV/lib/python3.11/site-packages/astropy/io/fits/column.py\", line 2151, in _get_index\n",
      "    raise KeyError(f\"Key '{key}' does not exist.\")\n",
      "KeyError: \"Key 'SNR' does not exist.\"\n",
      "\n"
     ]
    },
    {
     "name": "stderr",
     "output_type": "stream",
     "text": [
      " 62%|██████▏   | 95089/153700 [8:27:10<4:12:26,  3.87it/s]"
     ]
    },
    {
     "name": "stdout",
     "output_type": "stream",
     "text": [
      "File 27021598159512796 not found in /yngve_data/sdssv/ipl-2/spectro/astra/0.3.0/v6_0_9-1.0/spectra/star\n"
     ]
    },
    {
     "name": "stderr",
     "output_type": "stream",
     "text": [
      " 62%|██████▏   | 95092/153700 [8:27:10<4:35:45,  3.54it/s]"
     ]
    },
    {
     "name": "stdout",
     "output_type": "stream",
     "text": [
      "File 27021598159513254 not found in /yngve_data/sdssv/ipl-2/spectro/astra/0.3.0/v6_0_9-1.0/spectra/star\n"
     ]
    },
    {
     "name": "stderr",
     "output_type": "stream",
     "text": [
      " 62%|██████▏   | 95096/153700 [8:27:11<3:56:59,  4.12it/s]"
     ]
    },
    {
     "name": "stdout",
     "output_type": "stream",
     "text": [
      "Traceback (most recent call last):\n",
      "  File \"/home/petershi/miniconda3/envs/SDSSV/lib/python3.11/site-packages/astropy/io/fits/column.py\", line 2142, in _get_index\n",
      "    indx = names.index(key.rstrip())\n",
      "           ^^^^^^^^^^^^^^^^^^^^^^^^^\n",
      "ValueError: 'SNR' is not in list\n",
      "\n",
      "During handling of the above exception, another exception occurred:\n",
      "\n",
      "Traceback (most recent call last):\n",
      "  File \"/tmp/ipykernel_10073/3388262553.py\", line 15, in <module>\n",
      "    cdata = getSDSSVData(cfile)\n",
      "            ^^^^^^^^^^^^^^^^^^^\n",
      "  File \"/tmp/ipykernel_10073/4007893978.py\", line 3, in getSDSSVData\n",
      "    snr = hdul[3].data[\"SNR\"]\n",
      "          ~~~~~~~~~~~~^^^^^^^\n",
      "  File \"/home/petershi/miniconda3/envs/SDSSV/lib/python3.11/site-packages/astropy/io/fits/fitsrec.py\", line 513, in __getitem__\n",
      "    return self.field(key)\n",
      "           ^^^^^^^^^^^^^^^\n",
      "  File \"/home/petershi/miniconda3/envs/SDSSV/lib/python3.11/site-packages/astropy/io/fits/fitsrec.py\", line 695, in field\n",
      "    column = self.columns[key]\n",
      "             ~~~~~~~~~~~~^^^^^\n",
      "  File \"/home/petershi/miniconda3/envs/SDSSV/lib/python3.11/site-packages/astropy/io/fits/column.py\", line 1751, in __getitem__\n",
      "    key = _get_index(self.names, key)\n",
      "          ^^^^^^^^^^^^^^^^^^^^^^^^^^^\n",
      "  File \"/home/petershi/miniconda3/envs/SDSSV/lib/python3.11/site-packages/astropy/io/fits/column.py\", line 2151, in _get_index\n",
      "    raise KeyError(f\"Key '{key}' does not exist.\")\n",
      "KeyError: \"Key 'SNR' does not exist.\"\n",
      "\n"
     ]
    },
    {
     "name": "stderr",
     "output_type": "stream",
     "text": [
      " 62%|██████▏   | 95101/153700 [8:27:13<5:23:12,  3.02it/s]"
     ]
    },
    {
     "name": "stdout",
     "output_type": "stream",
     "text": [
      "File 27021598159513964 not found in /yngve_data/sdssv/ipl-2/spectro/astra/0.3.0/v6_0_9-1.0/spectra/star\n"
     ]
    },
    {
     "name": "stderr",
     "output_type": "stream",
     "text": [
      " 62%|██████▏   | 95103/153700 [8:27:14<5:54:33,  2.75it/s]"
     ]
    },
    {
     "name": "stdout",
     "output_type": "stream",
     "text": [
      "File 27021598159514186 not found in /yngve_data/sdssv/ipl-2/spectro/astra/0.3.0/v6_0_9-1.0/spectra/star\n"
     ]
    },
    {
     "name": "stderr",
     "output_type": "stream",
     "text": [
      " 62%|██████▏   | 95114/153700 [8:27:17<4:28:11,  3.64it/s]"
     ]
    },
    {
     "name": "stdout",
     "output_type": "stream",
     "text": [
      "Traceback (most recent call last):\n",
      "  File \"/home/petershi/miniconda3/envs/SDSSV/lib/python3.11/site-packages/astropy/io/fits/column.py\", line 2142, in _get_index\n",
      "    indx = names.index(key.rstrip())\n",
      "           ^^^^^^^^^^^^^^^^^^^^^^^^^\n",
      "ValueError: 'SNR' is not in list\n",
      "\n",
      "During handling of the above exception, another exception occurred:\n",
      "\n",
      "Traceback (most recent call last):\n",
      "  File \"/tmp/ipykernel_10073/3388262553.py\", line 15, in <module>\n",
      "    cdata = getSDSSVData(cfile)\n",
      "            ^^^^^^^^^^^^^^^^^^^\n",
      "  File \"/tmp/ipykernel_10073/4007893978.py\", line 3, in getSDSSVData\n",
      "    snr = hdul[3].data[\"SNR\"]\n",
      "          ~~~~~~~~~~~~^^^^^^^\n",
      "  File \"/home/petershi/miniconda3/envs/SDSSV/lib/python3.11/site-packages/astropy/io/fits/fitsrec.py\", line 513, in __getitem__\n",
      "    return self.field(key)\n",
      "           ^^^^^^^^^^^^^^^\n",
      "  File \"/home/petershi/miniconda3/envs/SDSSV/lib/python3.11/site-packages/astropy/io/fits/fitsrec.py\", line 695, in field\n",
      "    column = self.columns[key]\n",
      "             ~~~~~~~~~~~~^^^^^\n",
      "  File \"/home/petershi/miniconda3/envs/SDSSV/lib/python3.11/site-packages/astropy/io/fits/column.py\", line 1751, in __getitem__\n",
      "    key = _get_index(self.names, key)\n",
      "          ^^^^^^^^^^^^^^^^^^^^^^^^^^^\n",
      "  File \"/home/petershi/miniconda3/envs/SDSSV/lib/python3.11/site-packages/astropy/io/fits/column.py\", line 2151, in _get_index\n",
      "    raise KeyError(f\"Key '{key}' does not exist.\")\n",
      "KeyError: \"Key 'SNR' does not exist.\"\n",
      "\n"
     ]
    },
    {
     "name": "stderr",
     "output_type": "stream",
     "text": [
      " 62%|██████▏   | 95347/153700 [8:28:21<3:49:25,  4.24it/s]"
     ]
    },
    {
     "name": "stdout",
     "output_type": "stream",
     "text": [
      "File 27021598160612919 not found in /yngve_data/sdssv/ipl-2/spectro/astra/0.3.0/v6_0_9-1.0/spectra/star\n"
     ]
    },
    {
     "name": "stderr",
     "output_type": "stream",
     "text": [
      " 62%|██████▏   | 95585/153700 [8:29:28<6:45:41,  2.39it/s]"
     ]
    },
    {
     "name": "stdout",
     "output_type": "stream",
     "text": [
      "File 27021598333768920 not found in /yngve_data/sdssv/ipl-2/spectro/astra/0.3.0/v6_0_9-1.0/spectra/star\n"
     ]
    },
    {
     "name": "stderr",
     "output_type": "stream",
     "text": [
      " 63%|██████▎   | 96212/153700 [8:32:18<4:12:59,  3.79it/s]"
     ]
    },
    {
     "name": "stdout",
     "output_type": "stream",
     "text": [
      "File 27021598423710125 not found in /yngve_data/sdssv/ipl-2/spectro/astra/0.3.0/v6_0_9-1.0/spectra/star\n"
     ]
    },
    {
     "name": "stderr",
     "output_type": "stream",
     "text": [
      " 63%|██████▎   | 96229/153700 [8:32:23<5:57:51,  2.68it/s]"
     ]
    },
    {
     "name": "stdout",
     "output_type": "stream",
     "text": [
      "File 27021598423732161 not found in /yngve_data/sdssv/ipl-2/spectro/astra/0.3.0/v6_0_9-1.0/spectra/star\n"
     ]
    },
    {
     "name": "stderr",
     "output_type": "stream",
     "text": [
      " 63%|██████▎   | 96245/153700 [8:32:27<5:09:02,  3.10it/s]"
     ]
    },
    {
     "name": "stdout",
     "output_type": "stream",
     "text": [
      "File 27021598423789369 not found in /yngve_data/sdssv/ipl-2/spectro/astra/0.3.0/v6_0_9-1.0/spectra/star\n"
     ]
    },
    {
     "name": "stderr",
     "output_type": "stream",
     "text": [
      " 63%|██████▎   | 96248/153700 [8:32:28<5:34:27,  2.86it/s]"
     ]
    },
    {
     "name": "stdout",
     "output_type": "stream",
     "text": [
      "File 27021598423795642 not found in /yngve_data/sdssv/ipl-2/spectro/astra/0.3.0/v6_0_9-1.0/spectra/star\n"
     ]
    },
    {
     "name": "stderr",
     "output_type": "stream",
     "text": [
      " 63%|██████▎   | 96316/153700 [8:32:48<5:33:20,  2.87it/s]"
     ]
    },
    {
     "name": "stdout",
     "output_type": "stream",
     "text": [
      "File 27021598423913902 not found in /yngve_data/sdssv/ipl-2/spectro/astra/0.3.0/v6_0_9-1.0/spectra/star\n"
     ]
    },
    {
     "name": "stderr",
     "output_type": "stream",
     "text": [
      " 63%|██████▎   | 96336/153700 [8:32:55<6:22:28,  2.50it/s]"
     ]
    },
    {
     "name": "stdout",
     "output_type": "stream",
     "text": [
      "File 27021598423946667 not found in /yngve_data/sdssv/ipl-2/spectro/astra/0.3.0/v6_0_9-1.0/spectra/star\n"
     ]
    },
    {
     "name": "stderr",
     "output_type": "stream",
     "text": [
      " 63%|██████▎   | 96350/153700 [8:32:59<6:11:14,  2.57it/s]"
     ]
    },
    {
     "name": "stdout",
     "output_type": "stream",
     "text": [
      "File 27021598423958967 not found in /yngve_data/sdssv/ipl-2/spectro/astra/0.3.0/v6_0_9-1.0/spectra/star\n"
     ]
    },
    {
     "name": "stderr",
     "output_type": "stream",
     "text": [
      " 63%|██████▎   | 96370/153700 [8:33:03<3:42:16,  4.30it/s]"
     ]
    },
    {
     "name": "stdout",
     "output_type": "stream",
     "text": [
      "File 27021598426261715 not found in /yngve_data/sdssv/ipl-2/spectro/astra/0.3.0/v6_0_9-1.0/spectra/star\n"
     ]
    },
    {
     "name": "stderr",
     "output_type": "stream",
     "text": [
      " 63%|██████▎   | 96461/153700 [8:33:32<5:17:11,  3.01it/s]"
     ]
    },
    {
     "name": "stdout",
     "output_type": "stream",
     "text": [
      "File 27021598428555703 not found in /yngve_data/sdssv/ipl-2/spectro/astra/0.3.0/v6_0_9-1.0/spectra/star\n"
     ]
    },
    {
     "name": "stderr",
     "output_type": "stream",
     "text": [
      " 63%|██████▎   | 96558/153700 [8:34:00<4:49:22,  3.29it/s]"
     ]
    },
    {
     "name": "stdout",
     "output_type": "stream",
     "text": [
      "File 27021598428946549 not found in /yngve_data/sdssv/ipl-2/spectro/astra/0.3.0/v6_0_9-1.0/spectra/star\n"
     ]
    },
    {
     "name": "stderr",
     "output_type": "stream",
     "text": [
      " 63%|██████▎   | 97065/153700 [8:36:22<5:10:58,  3.04it/s]"
     ]
    },
    {
     "name": "stdout",
     "output_type": "stream",
     "text": [
      "File 27021598430338246 not found in /yngve_data/sdssv/ipl-2/spectro/astra/0.3.0/v6_0_9-1.0/spectra/star\n"
     ]
    },
    {
     "name": "stderr",
     "output_type": "stream",
     "text": [
      " 63%|██████▎   | 97281/153700 [8:37:24<2:44:29,  5.72it/s]"
     ]
    },
    {
     "name": "stdout",
     "output_type": "stream",
     "text": [
      "File 27021598430817801 not found in /yngve_data/sdssv/ipl-2/spectro/astra/0.3.0/v6_0_9-1.0/spectra/star\n"
     ]
    },
    {
     "name": "stderr",
     "output_type": "stream",
     "text": [
      " 63%|██████▎   | 97326/153700 [8:37:37<6:20:14,  2.47it/s]"
     ]
    },
    {
     "name": "stdout",
     "output_type": "stream",
     "text": [
      "File 27021598430947338 not found in /yngve_data/sdssv/ipl-2/spectro/astra/0.3.0/v6_0_9-1.0/spectra/star\n"
     ]
    },
    {
     "name": "stderr",
     "output_type": "stream",
     "text": [
      " 63%|██████▎   | 97363/153700 [8:37:47<5:41:02,  2.75it/s]"
     ]
    },
    {
     "name": "stdout",
     "output_type": "stream",
     "text": [
      "File 27021598431013878 not found in /yngve_data/sdssv/ipl-2/spectro/astra/0.3.0/v6_0_9-1.0/spectra/star\n"
     ]
    },
    {
     "name": "stderr",
     "output_type": "stream",
     "text": [
      " 63%|██████▎   | 97518/153700 [8:38:31<4:23:32,  3.55it/s]"
     ]
    },
    {
     "name": "stdout",
     "output_type": "stream",
     "text": [
      "File 27021598431456427 not found in /yngve_data/sdssv/ipl-2/spectro/astra/0.3.0/v6_0_9-1.0/spectra/star\n"
     ]
    },
    {
     "name": "stderr",
     "output_type": "stream",
     "text": [
      " 63%|██████▎   | 97583/153700 [8:38:51<6:00:44,  2.59it/s]"
     ]
    },
    {
     "name": "stdout",
     "output_type": "stream",
     "text": [
      "File 27021598432129072 not found in /yngve_data/sdssv/ipl-2/spectro/astra/0.3.0/v6_0_9-1.0/spectra/star\n"
     ]
    },
    {
     "name": "stderr",
     "output_type": "stream",
     "text": [
      " 63%|██████▎   | 97588/153700 [8:38:53<5:18:55,  2.93it/s]"
     ]
    },
    {
     "name": "stdout",
     "output_type": "stream",
     "text": [
      "File 27021598432136277 not found in /yngve_data/sdssv/ipl-2/spectro/astra/0.3.0/v6_0_9-1.0/spectra/star\n"
     ]
    },
    {
     "name": "stderr",
     "output_type": "stream",
     "text": [
      " 64%|██████▎   | 97611/153700 [8:39:00<4:50:24,  3.22it/s]"
     ]
    },
    {
     "name": "stdout",
     "output_type": "stream",
     "text": [
      "File 27021598432162591 not found in /yngve_data/sdssv/ipl-2/spectro/astra/0.3.0/v6_0_9-1.0/spectra/star\n"
     ]
    },
    {
     "name": "stderr",
     "output_type": "stream",
     "text": [
      " 64%|██████▎   | 97638/153700 [8:39:07<4:42:23,  3.31it/s]"
     ]
    },
    {
     "name": "stdout",
     "output_type": "stream",
     "text": [
      "File 27021598432206159 not found in /yngve_data/sdssv/ipl-2/spectro/astra/0.3.0/v6_0_9-1.0/spectra/star\n"
     ]
    },
    {
     "name": "stderr",
     "output_type": "stream",
     "text": [
      " 64%|██████▎   | 97639/153700 [8:39:07<5:42:42,  2.73it/s]"
     ]
    },
    {
     "name": "stdout",
     "output_type": "stream",
     "text": [
      "File 27021598432206252 not found in /yngve_data/sdssv/ipl-2/spectro/astra/0.3.0/v6_0_9-1.0/spectra/star\n"
     ]
    },
    {
     "name": "stderr",
     "output_type": "stream",
     "text": [
      " 64%|██████▎   | 97687/153700 [8:39:22<4:50:48,  3.21it/s]"
     ]
    },
    {
     "name": "stdout",
     "output_type": "stream",
     "text": [
      "File 27021598432401193 not found in /yngve_data/sdssv/ipl-2/spectro/astra/0.3.0/v6_0_9-1.0/spectra/star\n"
     ]
    },
    {
     "name": "stderr",
     "output_type": "stream",
     "text": [
      " 64%|██████▎   | 97724/153700 [8:39:32<5:27:57,  2.84it/s]"
     ]
    },
    {
     "name": "stdout",
     "output_type": "stream",
     "text": [
      "File 27021598433344417 not found in /yngve_data/sdssv/ipl-2/spectro/astra/0.3.0/v6_0_9-1.0/spectra/star\n"
     ]
    },
    {
     "name": "stderr",
     "output_type": "stream",
     "text": [
      " 64%|██████▎   | 97947/153700 [8:40:40<4:38:59,  3.33it/s]"
     ]
    },
    {
     "name": "stdout",
     "output_type": "stream",
     "text": [
      "File 27021598433841193 not found in /yngve_data/sdssv/ipl-2/spectro/astra/0.3.0/v6_0_9-1.0/spectra/star\n"
     ]
    },
    {
     "name": "stderr",
     "output_type": "stream",
     "text": [
      " 64%|██████▍   | 98176/153700 [8:41:48<4:45:22,  3.24it/s]"
     ]
    },
    {
     "name": "stdout",
     "output_type": "stream",
     "text": [
      "File 27021598434673522 not found in /yngve_data/sdssv/ipl-2/spectro/astra/0.3.0/v6_0_9-1.0/spectra/star\n"
     ]
    },
    {
     "name": "stderr",
     "output_type": "stream",
     "text": [
      " 64%|██████▍   | 98230/153700 [8:42:06<4:43:35,  3.26it/s]"
     ]
    },
    {
     "name": "stdout",
     "output_type": "stream",
     "text": [
      "File 27021598434780987 not found in /yngve_data/sdssv/ipl-2/spectro/astra/0.3.0/v6_0_9-1.0/spectra/star\n"
     ]
    },
    {
     "name": "stderr",
     "output_type": "stream",
     "text": [
      " 64%|██████▍   | 98455/153700 [8:43:13<6:18:24,  2.43it/s]"
     ]
    },
    {
     "name": "stdout",
     "output_type": "stream",
     "text": [
      "File 27021598435317870 not found in /yngve_data/sdssv/ipl-2/spectro/astra/0.3.0/v6_0_9-1.0/spectra/star\n"
     ]
    },
    {
     "name": "stderr",
     "output_type": "stream",
     "text": [
      " 64%|██████▍   | 98538/153700 [8:43:36<4:30:08,  3.40it/s]"
     ]
    },
    {
     "name": "stdout",
     "output_type": "stream",
     "text": [
      "File 27021598436180582 not found in /yngve_data/sdssv/ipl-2/spectro/astra/0.3.0/v6_0_9-1.0/spectra/star\n"
     ]
    },
    {
     "name": "stderr",
     "output_type": "stream",
     "text": [
      " 64%|██████▍   | 98941/153700 [8:45:29<3:44:05,  4.07it/s]"
     ]
    },
    {
     "name": "stdout",
     "output_type": "stream",
     "text": [
      "File 27021598634860134 not found in /yngve_data/sdssv/ipl-2/spectro/astra/0.3.0/v6_0_9-1.0/spectra/star\n"
     ]
    },
    {
     "name": "stderr",
     "output_type": "stream",
     "text": [
      " 64%|██████▍   | 99060/153700 [8:46:00<4:36:03,  3.30it/s]"
     ]
    },
    {
     "name": "stdout",
     "output_type": "stream",
     "text": [
      "File 27021598635638182 not found in /yngve_data/sdssv/ipl-2/spectro/astra/0.3.0/v6_0_9-1.0/spectra/star\n"
     ]
    },
    {
     "name": "stderr",
     "output_type": "stream",
     "text": [
      " 64%|██████▍   | 99077/153700 [8:46:04<3:32:13,  4.29it/s]"
     ]
    },
    {
     "name": "stdout",
     "output_type": "stream",
     "text": [
      "File 27021598635691001 not found in /yngve_data/sdssv/ipl-2/spectro/astra/0.3.0/v6_0_9-1.0/spectra/star\n"
     ]
    },
    {
     "name": "stderr",
     "output_type": "stream",
     "text": [
      " 65%|██████▍   | 99161/153700 [8:46:30<4:32:20,  3.34it/s]"
     ]
    },
    {
     "name": "stdout",
     "output_type": "stream",
     "text": [
      "File 27021598636057302 not found in /yngve_data/sdssv/ipl-2/spectro/astra/0.3.0/v6_0_9-1.0/spectra/star\n"
     ]
    },
    {
     "name": "stderr",
     "output_type": "stream",
     "text": [
      " 65%|██████▍   | 99163/153700 [8:46:30<4:24:38,  3.43it/s]"
     ]
    },
    {
     "name": "stdout",
     "output_type": "stream",
     "text": [
      "File 27021598636058380 not found in /yngve_data/sdssv/ipl-2/spectro/astra/0.3.0/v6_0_9-1.0/spectra/star\n"
     ]
    },
    {
     "name": "stderr",
     "output_type": "stream",
     "text": [
      " 65%|██████▍   | 99196/153700 [8:46:40<5:55:21,  2.56it/s]"
     ]
    },
    {
     "name": "stdout",
     "output_type": "stream",
     "text": [
      "File 27021598636181189 not found in /yngve_data/sdssv/ipl-2/spectro/astra/0.3.0/v6_0_9-1.0/spectra/star\n"
     ]
    },
    {
     "name": "stderr",
     "output_type": "stream",
     "text": [
      " 65%|██████▍   | 99202/153700 [8:46:42<5:19:23,  2.84it/s]"
     ]
    },
    {
     "name": "stdout",
     "output_type": "stream",
     "text": [
      "File 27021598636215698 not found in /yngve_data/sdssv/ipl-2/spectro/astra/0.3.0/v6_0_9-1.0/spectra/star\n"
     ]
    },
    {
     "name": "stderr",
     "output_type": "stream",
     "text": [
      " 65%|██████▍   | 99241/153700 [8:46:55<6:36:33,  2.29it/s]"
     ]
    },
    {
     "name": "stdout",
     "output_type": "stream",
     "text": [
      "File 27021598636372677 not found in /yngve_data/sdssv/ipl-2/spectro/astra/0.3.0/v6_0_9-1.0/spectra/star\n"
     ]
    },
    {
     "name": "stderr",
     "output_type": "stream",
     "text": [
      " 65%|██████▍   | 99256/153700 [8:46:59<4:08:17,  3.65it/s]"
     ]
    },
    {
     "name": "stdout",
     "output_type": "stream",
     "text": [
      "File 27021598636406092 not found in /yngve_data/sdssv/ipl-2/spectro/astra/0.3.0/v6_0_9-1.0/spectra/star\n"
     ]
    },
    {
     "name": "stderr",
     "output_type": "stream",
     "text": [
      " 65%|██████▍   | 99306/153700 [8:47:14<4:41:17,  3.22it/s]"
     ]
    },
    {
     "name": "stdout",
     "output_type": "stream",
     "text": [
      "File 27021598636594834 not found in /yngve_data/sdssv/ipl-2/spectro/astra/0.3.0/v6_0_9-1.0/spectra/star\n"
     ]
    },
    {
     "name": "stderr",
     "output_type": "stream",
     "text": [
      " 65%|██████▍   | 99310/153700 [8:47:15<5:22:57,  2.81it/s]"
     ]
    },
    {
     "name": "stdout",
     "output_type": "stream",
     "text": [
      "File 27021598636618699 not found in /yngve_data/sdssv/ipl-2/spectro/astra/0.3.0/v6_0_9-1.0/spectra/star\n"
     ]
    },
    {
     "name": "stderr",
     "output_type": "stream",
     "text": [
      " 65%|██████▍   | 99473/153700 [8:48:03<4:09:27,  3.62it/s]"
     ]
    },
    {
     "name": "stdout",
     "output_type": "stream",
     "text": [
      "File 27021598637224924 not found in /yngve_data/sdssv/ipl-2/spectro/astra/0.3.0/v6_0_9-1.0/spectra/star\n"
     ]
    },
    {
     "name": "stderr",
     "output_type": "stream",
     "text": [
      " 65%|██████▍   | 99513/153700 [8:48:13<5:11:22,  2.90it/s]"
     ]
    },
    {
     "name": "stdout",
     "output_type": "stream",
     "text": [
      "File 27021598637502581 not found in /yngve_data/sdssv/ipl-2/spectro/astra/0.3.0/v6_0_9-1.0/spectra/star\n"
     ]
    },
    {
     "name": "stderr",
     "output_type": "stream",
     "text": [
      " 65%|██████▍   | 99514/153700 [8:48:14<5:45:12,  2.62it/s]"
     ]
    },
    {
     "name": "stdout",
     "output_type": "stream",
     "text": [
      "File 27021598637502839 not found in /yngve_data/sdssv/ipl-2/spectro/astra/0.3.0/v6_0_9-1.0/spectra/star\n"
     ]
    },
    {
     "name": "stderr",
     "output_type": "stream",
     "text": [
      " 65%|██████▍   | 99528/153700 [8:48:18<5:31:13,  2.73it/s]"
     ]
    },
    {
     "name": "stdout",
     "output_type": "stream",
     "text": [
      "File 27021598637543817 not found in /yngve_data/sdssv/ipl-2/spectro/astra/0.3.0/v6_0_9-1.0/spectra/star\n"
     ]
    },
    {
     "name": "stderr",
     "output_type": "stream",
     "text": [
      " 65%|██████▍   | 99549/153700 [8:48:24<3:04:32,  4.89it/s]"
     ]
    },
    {
     "name": "stdout",
     "output_type": "stream",
     "text": [
      "Traceback (most recent call last):\n",
      "  File \"/home/petershi/miniconda3/envs/SDSSV/lib/python3.11/site-packages/astropy/io/fits/column.py\", line 2142, in _get_index\n",
      "    indx = names.index(key.rstrip())\n",
      "           ^^^^^^^^^^^^^^^^^^^^^^^^^\n",
      "ValueError: 'SNR' is not in list\n",
      "\n",
      "During handling of the above exception, another exception occurred:\n",
      "\n",
      "Traceback (most recent call last):\n",
      "  File \"/tmp/ipykernel_10073/3388262553.py\", line 15, in <module>\n",
      "    cdata = getSDSSVData(cfile)\n",
      "            ^^^^^^^^^^^^^^^^^^^\n",
      "  File \"/tmp/ipykernel_10073/4007893978.py\", line 3, in getSDSSVData\n",
      "    snr = hdul[3].data[\"SNR\"]\n",
      "          ~~~~~~~~~~~~^^^^^^^\n",
      "  File \"/home/petershi/miniconda3/envs/SDSSV/lib/python3.11/site-packages/astropy/io/fits/fitsrec.py\", line 513, in __getitem__\n",
      "    return self.field(key)\n",
      "           ^^^^^^^^^^^^^^^\n",
      "  File \"/home/petershi/miniconda3/envs/SDSSV/lib/python3.11/site-packages/astropy/io/fits/fitsrec.py\", line 695, in field\n",
      "    column = self.columns[key]\n",
      "             ~~~~~~~~~~~~^^^^^\n",
      "  File \"/home/petershi/miniconda3/envs/SDSSV/lib/python3.11/site-packages/astropy/io/fits/column.py\", line 1751, in __getitem__\n",
      "    key = _get_index(self.names, key)\n",
      "          ^^^^^^^^^^^^^^^^^^^^^^^^^^^\n",
      "  File \"/home/petershi/miniconda3/envs/SDSSV/lib/python3.11/site-packages/astropy/io/fits/column.py\", line 2151, in _get_index\n",
      "    raise KeyError(f\"Key '{key}' does not exist.\")\n",
      "KeyError: \"Key 'SNR' does not exist.\"\n",
      "\n"
     ]
    },
    {
     "name": "stderr",
     "output_type": "stream",
     "text": [
      " 65%|██████▍   | 99612/153700 [8:48:42<5:07:31,  2.93it/s]"
     ]
    },
    {
     "name": "stdout",
     "output_type": "stream",
     "text": [
      "File 27021598637995591 not found in /yngve_data/sdssv/ipl-2/spectro/astra/0.3.0/v6_0_9-1.0/spectra/star\n"
     ]
    },
    {
     "name": "stderr",
     "output_type": "stream",
     "text": [
      " 65%|██████▍   | 99615/153700 [8:48:43<5:55:56,  2.53it/s]"
     ]
    },
    {
     "name": "stdout",
     "output_type": "stream",
     "text": [
      "File 27021598638007687 not found in /yngve_data/sdssv/ipl-2/spectro/astra/0.3.0/v6_0_9-1.0/spectra/star\n"
     ]
    },
    {
     "name": "stderr",
     "output_type": "stream",
     "text": [
      " 65%|██████▍   | 99695/153700 [8:49:08<5:11:22,  2.89it/s]"
     ]
    },
    {
     "name": "stdout",
     "output_type": "stream",
     "text": [
      "File 27021598638467105 not found in /yngve_data/sdssv/ipl-2/spectro/astra/0.3.0/v6_0_9-1.0/spectra/star\n"
     ]
    },
    {
     "name": "stderr",
     "output_type": "stream",
     "text": [
      " 65%|██████▍   | 99716/153700 [8:49:14<4:38:51,  3.23it/s]"
     ]
    },
    {
     "name": "stdout",
     "output_type": "stream",
     "text": [
      "File 27021598638535630 not found in /yngve_data/sdssv/ipl-2/spectro/astra/0.3.0/v6_0_9-1.0/spectra/star\n"
     ]
    },
    {
     "name": "stderr",
     "output_type": "stream",
     "text": [
      " 65%|██████▍   | 99725/153700 [8:49:17<4:31:34,  3.31it/s]"
     ]
    },
    {
     "name": "stdout",
     "output_type": "stream",
     "text": [
      "File 27021598638584375 not found in /yngve_data/sdssv/ipl-2/spectro/astra/0.3.0/v6_0_9-1.0/spectra/star\n"
     ]
    },
    {
     "name": "stderr",
     "output_type": "stream",
     "text": [
      " 65%|██████▍   | 99754/153700 [8:49:24<4:25:35,  3.39it/s]"
     ]
    },
    {
     "name": "stdout",
     "output_type": "stream",
     "text": [
      "File 27021598638971577 not found in /yngve_data/sdssv/ipl-2/spectro/astra/0.3.0/v6_0_9-1.0/spectra/star\n"
     ]
    },
    {
     "name": "stderr",
     "output_type": "stream",
     "text": [
      " 65%|██████▍   | 99817/153700 [8:49:42<5:20:13,  2.80it/s]"
     ]
    },
    {
     "name": "stdout",
     "output_type": "stream",
     "text": [
      "File 27021598639357463 not found in /yngve_data/sdssv/ipl-2/spectro/astra/0.3.0/v6_0_9-1.0/spectra/star\n"
     ]
    },
    {
     "name": "stderr",
     "output_type": "stream",
     "text": [
      " 65%|██████▍   | 99844/153700 [8:49:50<5:25:53,  2.75it/s]"
     ]
    },
    {
     "name": "stdout",
     "output_type": "stream",
     "text": [
      "File 27021598639470171 not found in /yngve_data/sdssv/ipl-2/spectro/astra/0.3.0/v6_0_9-1.0/spectra/star\n"
     ]
    },
    {
     "name": "stderr",
     "output_type": "stream",
     "text": [
      " 65%|██████▍   | 99857/153700 [8:49:53<3:20:22,  4.48it/s]"
     ]
    },
    {
     "name": "stdout",
     "output_type": "stream",
     "text": [
      "File 27021598639536076 not found in /yngve_data/sdssv/ipl-2/spectro/astra/0.3.0/v6_0_9-1.0/spectra/star\n"
     ]
    },
    {
     "name": "stderr",
     "output_type": "stream",
     "text": [
      " 65%|██████▍   | 99876/153700 [8:49:59<6:02:19,  2.48it/s]"
     ]
    },
    {
     "name": "stdout",
     "output_type": "stream",
     "text": [
      "File 27021598639588400 not found in /yngve_data/sdssv/ipl-2/spectro/astra/0.3.0/v6_0_9-1.0/spectra/star\n"
     ]
    },
    {
     "name": "stderr",
     "output_type": "stream",
     "text": [
      " 65%|██████▌   | 99977/153700 [8:50:28<3:26:14,  4.34it/s]"
     ]
    },
    {
     "name": "stdout",
     "output_type": "stream",
     "text": [
      "File 27021598640705943 not found in /yngve_data/sdssv/ipl-2/spectro/astra/0.3.0/v6_0_9-1.0/spectra/star\n"
     ]
    },
    {
     "name": "stderr",
     "output_type": "stream",
     "text": [
      " 65%|██████▌   | 100188/153700 [8:51:30<4:56:58,  3.00it/s]"
     ]
    },
    {
     "name": "stdout",
     "output_type": "stream",
     "text": [
      "File 27021598642135388 not found in /yngve_data/sdssv/ipl-2/spectro/astra/0.3.0/v6_0_9-1.0/spectra/star\n"
     ]
    },
    {
     "name": "stderr",
     "output_type": "stream",
     "text": [
      " 65%|██████▌   | 100331/153700 [8:52:10<5:09:47,  2.87it/s]"
     ]
    },
    {
     "name": "stdout",
     "output_type": "stream",
     "text": [
      "File 27021598642894342 not found in /yngve_data/sdssv/ipl-2/spectro/astra/0.3.0/v6_0_9-1.0/spectra/star\n"
     ]
    },
    {
     "name": "stderr",
     "output_type": "stream",
     "text": [
      " 65%|██████▌   | 100382/153700 [8:52:26<5:35:16,  2.65it/s]"
     ]
    },
    {
     "name": "stdout",
     "output_type": "stream",
     "text": [
      "File 27021598643559183 not found in /yngve_data/sdssv/ipl-2/spectro/astra/0.3.0/v6_0_9-1.0/spectra/star\n"
     ]
    },
    {
     "name": "stderr",
     "output_type": "stream",
     "text": [
      " 65%|██████▌   | 100392/153700 [8:52:29<4:40:20,  3.17it/s]"
     ]
    },
    {
     "name": "stdout",
     "output_type": "stream",
     "text": [
      "File 27021598643650498 not found in /yngve_data/sdssv/ipl-2/spectro/astra/0.3.0/v6_0_9-1.0/spectra/star\n"
     ]
    },
    {
     "name": "stderr",
     "output_type": "stream",
     "text": [
      " 65%|██████▌   | 100460/153700 [8:52:46<3:33:16,  4.16it/s]"
     ]
    },
    {
     "name": "stdout",
     "output_type": "stream",
     "text": [
      "File 27021598644125394 not found in /yngve_data/sdssv/ipl-2/spectro/astra/0.3.0/v6_0_9-1.0/spectra/star\n"
     ]
    },
    {
     "name": "stderr",
     "output_type": "stream",
     "text": [
      " 65%|██████▌   | 100508/153700 [8:53:00<4:08:26,  3.57it/s]"
     ]
    },
    {
     "name": "stdout",
     "output_type": "stream",
     "text": [
      "File 27021598644752565 not found in /yngve_data/sdssv/ipl-2/spectro/astra/0.3.0/v6_0_9-1.0/spectra/star\n"
     ]
    },
    {
     "name": "stderr",
     "output_type": "stream",
     "text": [
      " 65%|██████▌   | 100514/153700 [8:53:01<2:56:55,  5.01it/s]"
     ]
    },
    {
     "name": "stdout",
     "output_type": "stream",
     "text": [
      "Traceback (most recent call last):\n",
      "  File \"/home/petershi/miniconda3/envs/SDSSV/lib/python3.11/site-packages/astropy/io/fits/column.py\", line 2142, in _get_index\n",
      "    indx = names.index(key.rstrip())\n",
      "           ^^^^^^^^^^^^^^^^^^^^^^^^^\n",
      "ValueError: 'SNR' is not in list\n",
      "\n",
      "During handling of the above exception, another exception occurred:\n",
      "\n",
      "Traceback (most recent call last):\n",
      "  File \"/tmp/ipykernel_10073/3388262553.py\", line 15, in <module>\n",
      "    cdata = getSDSSVData(cfile)\n",
      "            ^^^^^^^^^^^^^^^^^^^\n",
      "  File \"/tmp/ipykernel_10073/4007893978.py\", line 3, in getSDSSVData\n",
      "    snr = hdul[3].data[\"SNR\"]\n",
      "          ~~~~~~~~~~~~^^^^^^^\n",
      "  File \"/home/petershi/miniconda3/envs/SDSSV/lib/python3.11/site-packages/astropy/io/fits/fitsrec.py\", line 513, in __getitem__\n",
      "    return self.field(key)\n",
      "           ^^^^^^^^^^^^^^^\n",
      "  File \"/home/petershi/miniconda3/envs/SDSSV/lib/python3.11/site-packages/astropy/io/fits/fitsrec.py\", line 695, in field\n",
      "    column = self.columns[key]\n",
      "             ~~~~~~~~~~~~^^^^^\n",
      "  File \"/home/petershi/miniconda3/envs/SDSSV/lib/python3.11/site-packages/astropy/io/fits/column.py\", line 1751, in __getitem__\n",
      "    key = _get_index(self.names, key)\n",
      "          ^^^^^^^^^^^^^^^^^^^^^^^^^^^\n",
      "  File \"/home/petershi/miniconda3/envs/SDSSV/lib/python3.11/site-packages/astropy/io/fits/column.py\", line 2151, in _get_index\n",
      "    raise KeyError(f\"Key '{key}' does not exist.\")\n",
      "KeyError: \"Key 'SNR' does not exist.\"\n",
      "\n"
     ]
    },
    {
     "name": "stderr",
     "output_type": "stream",
     "text": [
      " 65%|██████▌   | 100611/153700 [8:53:31<5:14:37,  2.81it/s]"
     ]
    },
    {
     "name": "stdout",
     "output_type": "stream",
     "text": [
      "File 27021598645887731 not found in /yngve_data/sdssv/ipl-2/spectro/astra/0.3.0/v6_0_9-1.0/spectra/star\n"
     ]
    },
    {
     "name": "stderr",
     "output_type": "stream",
     "text": [
      " 66%|██████▌   | 100679/153700 [8:53:50<5:36:10,  2.63it/s]"
     ]
    },
    {
     "name": "stdout",
     "output_type": "stream",
     "text": [
      "File 27021598646197802 not found in /yngve_data/sdssv/ipl-2/spectro/astra/0.3.0/v6_0_9-1.0/spectra/star\n"
     ]
    },
    {
     "name": "stderr",
     "output_type": "stream",
     "text": [
      " 66%|██████▌   | 100702/153700 [8:53:57<3:29:32,  4.22it/s]"
     ]
    },
    {
     "name": "stdout",
     "output_type": "stream",
     "text": [
      "Traceback (most recent call last):\n",
      "  File \"/home/petershi/miniconda3/envs/SDSSV/lib/python3.11/site-packages/astropy/io/fits/column.py\", line 2142, in _get_index\n",
      "    indx = names.index(key.rstrip())\n",
      "           ^^^^^^^^^^^^^^^^^^^^^^^^^\n",
      "ValueError: 'SNR' is not in list\n",
      "\n",
      "During handling of the above exception, another exception occurred:\n",
      "\n",
      "Traceback (most recent call last):\n",
      "  File \"/tmp/ipykernel_10073/3388262553.py\", line 15, in <module>\n",
      "    cdata = getSDSSVData(cfile)\n",
      "            ^^^^^^^^^^^^^^^^^^^\n",
      "  File \"/tmp/ipykernel_10073/4007893978.py\", line 3, in getSDSSVData\n",
      "    snr = hdul[3].data[\"SNR\"]\n",
      "          ~~~~~~~~~~~~^^^^^^^\n",
      "  File \"/home/petershi/miniconda3/envs/SDSSV/lib/python3.11/site-packages/astropy/io/fits/fitsrec.py\", line 513, in __getitem__\n",
      "    return self.field(key)\n",
      "           ^^^^^^^^^^^^^^^\n",
      "  File \"/home/petershi/miniconda3/envs/SDSSV/lib/python3.11/site-packages/astropy/io/fits/fitsrec.py\", line 695, in field\n",
      "    column = self.columns[key]\n",
      "             ~~~~~~~~~~~~^^^^^\n",
      "  File \"/home/petershi/miniconda3/envs/SDSSV/lib/python3.11/site-packages/astropy/io/fits/column.py\", line 1751, in __getitem__\n",
      "    key = _get_index(self.names, key)\n",
      "          ^^^^^^^^^^^^^^^^^^^^^^^^^^^\n",
      "  File \"/home/petershi/miniconda3/envs/SDSSV/lib/python3.11/site-packages/astropy/io/fits/column.py\", line 2151, in _get_index\n",
      "    raise KeyError(f\"Key '{key}' does not exist.\")\n",
      "KeyError: \"Key 'SNR' does not exist.\"\n",
      "\n"
     ]
    },
    {
     "name": "stderr",
     "output_type": "stream",
     "text": [
      " 66%|██████▌   | 100704/153700 [8:53:57<4:38:30,  3.17it/s]"
     ]
    },
    {
     "name": "stdout",
     "output_type": "stream",
     "text": [
      "File 27021598646315450 not found in /yngve_data/sdssv/ipl-2/spectro/astra/0.3.0/v6_0_9-1.0/spectra/star\n"
     ]
    },
    {
     "name": "stderr",
     "output_type": "stream",
     "text": [
      " 66%|██████▌   | 100712/153700 [8:54:00<5:14:33,  2.81it/s]"
     ]
    },
    {
     "name": "stdout",
     "output_type": "stream",
     "text": [
      "Traceback (most recent call last):\n",
      "  File \"/home/petershi/miniconda3/envs/SDSSV/lib/python3.11/site-packages/astropy/io/fits/column.py\", line 2142, in _get_index\n",
      "    indx = names.index(key.rstrip())\n",
      "           ^^^^^^^^^^^^^^^^^^^^^^^^^\n",
      "ValueError: 'SNR' is not in list\n",
      "\n",
      "During handling of the above exception, another exception occurred:\n",
      "\n",
      "Traceback (most recent call last):\n",
      "  File \"/tmp/ipykernel_10073/3388262553.py\", line 15, in <module>\n",
      "    cdata = getSDSSVData(cfile)\n",
      "            ^^^^^^^^^^^^^^^^^^^\n",
      "  File \"/tmp/ipykernel_10073/4007893978.py\", line 3, in getSDSSVData\n",
      "    snr = hdul[3].data[\"SNR\"]\n",
      "          ~~~~~~~~~~~~^^^^^^^\n",
      "  File \"/home/petershi/miniconda3/envs/SDSSV/lib/python3.11/site-packages/astropy/io/fits/fitsrec.py\", line 513, in __getitem__\n",
      "    return self.field(key)\n",
      "           ^^^^^^^^^^^^^^^\n",
      "  File \"/home/petershi/miniconda3/envs/SDSSV/lib/python3.11/site-packages/astropy/io/fits/fitsrec.py\", line 695, in field\n",
      "    column = self.columns[key]\n",
      "             ~~~~~~~~~~~~^^^^^\n",
      "  File \"/home/petershi/miniconda3/envs/SDSSV/lib/python3.11/site-packages/astropy/io/fits/column.py\", line 1751, in __getitem__\n",
      "    key = _get_index(self.names, key)\n",
      "          ^^^^^^^^^^^^^^^^^^^^^^^^^^^\n",
      "  File \"/home/petershi/miniconda3/envs/SDSSV/lib/python3.11/site-packages/astropy/io/fits/column.py\", line 2151, in _get_index\n",
      "    raise KeyError(f\"Key '{key}' does not exist.\")\n",
      "KeyError: \"Key 'SNR' does not exist.\"\n",
      "\n"
     ]
    },
    {
     "name": "stderr",
     "output_type": "stream",
     "text": [
      " 66%|██████▌   | 100892/153700 [8:54:49<5:09:12,  2.85it/s]"
     ]
    },
    {
     "name": "stdout",
     "output_type": "stream",
     "text": [
      "File 27021598652702461 not found in /yngve_data/sdssv/ipl-2/spectro/astra/0.3.0/v6_0_9-1.0/spectra/star\n"
     ]
    },
    {
     "name": "stderr",
     "output_type": "stream",
     "text": [
      " 66%|██████▌   | 100902/153700 [8:54:52<3:09:13,  4.65it/s]"
     ]
    },
    {
     "name": "stdout",
     "output_type": "stream",
     "text": [
      "File 27021598652719214 not found in /yngve_data/sdssv/ipl-2/spectro/astra/0.3.0/v6_0_9-1.0/spectra/star\n"
     ]
    },
    {
     "name": "stderr",
     "output_type": "stream",
     "text": [
      " 66%|██████▌   | 100913/153700 [8:54:55<4:54:06,  2.99it/s]"
     ]
    },
    {
     "name": "stdout",
     "output_type": "stream",
     "text": [
      "File 27021598652763409 not found in /yngve_data/sdssv/ipl-2/spectro/astra/0.3.0/v6_0_9-1.0/spectra/star\n"
     ]
    },
    {
     "name": "stderr",
     "output_type": "stream",
     "text": [
      " 66%|██████▌   | 100923/153700 [8:54:58<5:43:42,  2.56it/s]"
     ]
    },
    {
     "name": "stdout",
     "output_type": "stream",
     "text": [
      "File 27021598652790177 not found in /yngve_data/sdssv/ipl-2/spectro/astra/0.3.0/v6_0_9-1.0/spectra/star\n"
     ]
    },
    {
     "name": "stderr",
     "output_type": "stream",
     "text": [
      " 66%|██████▌   | 100929/153700 [8:54:59<2:57:34,  4.95it/s]"
     ]
    },
    {
     "name": "stdout",
     "output_type": "stream",
     "text": [
      "Traceback (most recent call last):\n",
      "  File \"/home/petershi/miniconda3/envs/SDSSV/lib/python3.11/site-packages/astropy/io/fits/column.py\", line 2142, in _get_index\n",
      "    indx = names.index(key.rstrip())\n",
      "           ^^^^^^^^^^^^^^^^^^^^^^^^^\n",
      "ValueError: 'SNR' is not in list\n",
      "\n",
      "During handling of the above exception, another exception occurred:\n",
      "\n",
      "Traceback (most recent call last):\n",
      "  File \"/tmp/ipykernel_10073/3388262553.py\", line 15, in <module>\n",
      "    cdata = getSDSSVData(cfile)\n",
      "            ^^^^^^^^^^^^^^^^^^^\n",
      "  File \"/tmp/ipykernel_10073/4007893978.py\", line 3, in getSDSSVData\n",
      "    snr = hdul[3].data[\"SNR\"]\n",
      "          ~~~~~~~~~~~~^^^^^^^\n",
      "  File \"/home/petershi/miniconda3/envs/SDSSV/lib/python3.11/site-packages/astropy/io/fits/fitsrec.py\", line 513, in __getitem__\n",
      "    return self.field(key)\n",
      "           ^^^^^^^^^^^^^^^\n",
      "  File \"/home/petershi/miniconda3/envs/SDSSV/lib/python3.11/site-packages/astropy/io/fits/fitsrec.py\", line 695, in field\n",
      "    column = self.columns[key]\n",
      "             ~~~~~~~~~~~~^^^^^\n",
      "  File \"/home/petershi/miniconda3/envs/SDSSV/lib/python3.11/site-packages/astropy/io/fits/column.py\", line 1751, in __getitem__\n",
      "    key = _get_index(self.names, key)\n",
      "          ^^^^^^^^^^^^^^^^^^^^^^^^^^^\n",
      "  File \"/home/petershi/miniconda3/envs/SDSSV/lib/python3.11/site-packages/astropy/io/fits/column.py\", line 2151, in _get_index\n",
      "    raise KeyError(f\"Key '{key}' does not exist.\")\n",
      "KeyError: \"Key 'SNR' does not exist.\"\n",
      "\n"
     ]
    },
    {
     "name": "stderr",
     "output_type": "stream",
     "text": [
      " 66%|██████▌   | 100934/153700 [8:55:00<2:22:06,  6.19it/s]"
     ]
    },
    {
     "name": "stdout",
     "output_type": "stream",
     "text": [
      "File 27021598652834579 not found in /yngve_data/sdssv/ipl-2/spectro/astra/0.3.0/v6_0_9-1.0/spectra/star\n"
     ]
    },
    {
     "name": "stderr",
     "output_type": "stream",
     "text": [
      " 66%|██████▌   | 100975/153700 [8:55:11<4:12:54,  3.47it/s]"
     ]
    },
    {
     "name": "stdout",
     "output_type": "stream",
     "text": [
      "File 27021598652974365 not found in /yngve_data/sdssv/ipl-2/spectro/astra/0.3.0/v6_0_9-1.0/spectra/star\n"
     ]
    },
    {
     "name": "stderr",
     "output_type": "stream",
     "text": [
      " 66%|██████▌   | 100985/153700 [8:55:14<4:05:14,  3.58it/s]"
     ]
    },
    {
     "name": "stdout",
     "output_type": "stream",
     "text": [
      "File 27021598652991783 not found in /yngve_data/sdssv/ipl-2/spectro/astra/0.3.0/v6_0_9-1.0/spectra/star\n"
     ]
    },
    {
     "name": "stderr",
     "output_type": "stream",
     "text": [
      " 66%|██████▌   | 101098/153700 [8:55:44<4:28:00,  3.27it/s]"
     ]
    },
    {
     "name": "stdout",
     "output_type": "stream",
     "text": [
      "File 27021598653556426 not found in /yngve_data/sdssv/ipl-2/spectro/astra/0.3.0/v6_0_9-1.0/spectra/star\n"
     ]
    },
    {
     "name": "stderr",
     "output_type": "stream",
     "text": [
      " 66%|██████▌   | 101203/153700 [8:56:15<4:04:44,  3.57it/s]"
     ]
    },
    {
     "name": "stdout",
     "output_type": "stream",
     "text": [
      "Traceback (most recent call last):\n",
      "  File \"/home/petershi/miniconda3/envs/SDSSV/lib/python3.11/site-packages/astropy/io/fits/column.py\", line 2142, in _get_index\n",
      "    indx = names.index(key.rstrip())\n",
      "           ^^^^^^^^^^^^^^^^^^^^^^^^^\n",
      "ValueError: 'SNR' is not in list\n",
      "\n",
      "During handling of the above exception, another exception occurred:\n",
      "\n",
      "Traceback (most recent call last):\n",
      "  File \"/tmp/ipykernel_10073/3388262553.py\", line 15, in <module>\n",
      "    cdata = getSDSSVData(cfile)\n",
      "            ^^^^^^^^^^^^^^^^^^^\n",
      "  File \"/tmp/ipykernel_10073/4007893978.py\", line 3, in getSDSSVData\n",
      "    snr = hdul[3].data[\"SNR\"]\n",
      "          ~~~~~~~~~~~~^^^^^^^\n",
      "  File \"/home/petershi/miniconda3/envs/SDSSV/lib/python3.11/site-packages/astropy/io/fits/fitsrec.py\", line 513, in __getitem__\n",
      "    return self.field(key)\n",
      "           ^^^^^^^^^^^^^^^\n",
      "  File \"/home/petershi/miniconda3/envs/SDSSV/lib/python3.11/site-packages/astropy/io/fits/fitsrec.py\", line 695, in field\n",
      "    column = self.columns[key]\n",
      "             ~~~~~~~~~~~~^^^^^\n",
      "  File \"/home/petershi/miniconda3/envs/SDSSV/lib/python3.11/site-packages/astropy/io/fits/column.py\", line 1751, in __getitem__\n",
      "    key = _get_index(self.names, key)\n",
      "          ^^^^^^^^^^^^^^^^^^^^^^^^^^^\n",
      "  File \"/home/petershi/miniconda3/envs/SDSSV/lib/python3.11/site-packages/astropy/io/fits/column.py\", line 2151, in _get_index\n",
      "    raise KeyError(f\"Key '{key}' does not exist.\")\n",
      "KeyError: \"Key 'SNR' does not exist.\"\n",
      "\n"
     ]
    },
    {
     "name": "stderr",
     "output_type": "stream",
     "text": [
      " 66%|██████▌   | 101395/153700 [8:57:10<4:01:02,  3.62it/s]"
     ]
    },
    {
     "name": "stdout",
     "output_type": "stream",
     "text": [
      "File 27021598655139055 not found in /yngve_data/sdssv/ipl-2/spectro/astra/0.3.0/v6_0_9-1.0/spectra/star\n"
     ]
    },
    {
     "name": "stderr",
     "output_type": "stream",
     "text": [
      " 66%|██████▌   | 101405/153700 [8:57:12<4:12:23,  3.45it/s]"
     ]
    },
    {
     "name": "stdout",
     "output_type": "stream",
     "text": [
      "File 27021598655171625 not found in /yngve_data/sdssv/ipl-2/spectro/astra/0.3.0/v6_0_9-1.0/spectra/star\n"
     ]
    },
    {
     "name": "stderr",
     "output_type": "stream",
     "text": [
      " 66%|██████▌   | 101457/153700 [8:57:29<4:52:52,  2.97it/s]"
     ]
    },
    {
     "name": "stdout",
     "output_type": "stream",
     "text": [
      "File 27021598655587201 not found in /yngve_data/sdssv/ipl-2/spectro/astra/0.3.0/v6_0_9-1.0/spectra/star\n"
     ]
    },
    {
     "name": "stderr",
     "output_type": "stream",
     "text": [
      " 66%|██████▌   | 101492/153700 [8:57:40<6:24:10,  2.26it/s]"
     ]
    },
    {
     "name": "stdout",
     "output_type": "stream",
     "text": [
      "File 27021598655673304 not found in /yngve_data/sdssv/ipl-2/spectro/astra/0.3.0/v6_0_9-1.0/spectra/star\n"
     ]
    },
    {
     "name": "stderr",
     "output_type": "stream",
     "text": [
      " 66%|██████▌   | 101580/153700 [8:58:05<5:13:55,  2.77it/s]"
     ]
    },
    {
     "name": "stdout",
     "output_type": "stream",
     "text": [
      "Traceback (most recent call last):\n",
      "  File \"/home/petershi/miniconda3/envs/SDSSV/lib/python3.11/site-packages/astropy/io/fits/column.py\", line 2142, in _get_index\n",
      "    indx = names.index(key.rstrip())\n",
      "           ^^^^^^^^^^^^^^^^^^^^^^^^^\n",
      "ValueError: 'SNR' is not in list\n",
      "\n",
      "During handling of the above exception, another exception occurred:\n",
      "\n",
      "Traceback (most recent call last):\n",
      "  File \"/tmp/ipykernel_10073/3388262553.py\", line 15, in <module>\n",
      "    cdata = getSDSSVData(cfile)\n",
      "            ^^^^^^^^^^^^^^^^^^^\n",
      "  File \"/tmp/ipykernel_10073/4007893978.py\", line 3, in getSDSSVData\n",
      "    snr = hdul[3].data[\"SNR\"]\n",
      "          ~~~~~~~~~~~~^^^^^^^\n",
      "  File \"/home/petershi/miniconda3/envs/SDSSV/lib/python3.11/site-packages/astropy/io/fits/fitsrec.py\", line 513, in __getitem__\n",
      "    return self.field(key)\n",
      "           ^^^^^^^^^^^^^^^\n",
      "  File \"/home/petershi/miniconda3/envs/SDSSV/lib/python3.11/site-packages/astropy/io/fits/fitsrec.py\", line 695, in field\n",
      "    column = self.columns[key]\n",
      "             ~~~~~~~~~~~~^^^^^\n",
      "  File \"/home/petershi/miniconda3/envs/SDSSV/lib/python3.11/site-packages/astropy/io/fits/column.py\", line 1751, in __getitem__\n",
      "    key = _get_index(self.names, key)\n",
      "          ^^^^^^^^^^^^^^^^^^^^^^^^^^^\n",
      "  File \"/home/petershi/miniconda3/envs/SDSSV/lib/python3.11/site-packages/astropy/io/fits/column.py\", line 2151, in _get_index\n",
      "    raise KeyError(f\"Key '{key}' does not exist.\")\n",
      "KeyError: \"Key 'SNR' does not exist.\"\n",
      "\n"
     ]
    },
    {
     "name": "stderr",
     "output_type": "stream",
     "text": [
      " 66%|██████▌   | 101681/153700 [8:58:34<5:06:26,  2.83it/s]"
     ]
    },
    {
     "name": "stdout",
     "output_type": "stream",
     "text": [
      "File 27021598659944195 not found in /yngve_data/sdssv/ipl-2/spectro/astra/0.3.0/v6_0_9-1.0/spectra/star\n"
     ]
    },
    {
     "name": "stderr",
     "output_type": "stream",
     "text": [
      " 66%|██████▌   | 101735/153700 [8:58:52<4:17:55,  3.36it/s]"
     ]
    },
    {
     "name": "stdout",
     "output_type": "stream",
     "text": [
      "Traceback (most recent call last):\n",
      "  File \"/home/petershi/miniconda3/envs/SDSSV/lib/python3.11/site-packages/astropy/io/fits/column.py\", line 2142, in _get_index\n",
      "    indx = names.index(key.rstrip())\n",
      "           ^^^^^^^^^^^^^^^^^^^^^^^^^\n",
      "ValueError: 'SNR' is not in list\n",
      "\n",
      "During handling of the above exception, another exception occurred:\n",
      "\n",
      "Traceback (most recent call last):\n",
      "  File \"/tmp/ipykernel_10073/3388262553.py\", line 15, in <module>\n",
      "    cdata = getSDSSVData(cfile)\n",
      "            ^^^^^^^^^^^^^^^^^^^\n",
      "  File \"/tmp/ipykernel_10073/4007893978.py\", line 3, in getSDSSVData\n",
      "    snr = hdul[3].data[\"SNR\"]\n",
      "          ~~~~~~~~~~~~^^^^^^^\n",
      "  File \"/home/petershi/miniconda3/envs/SDSSV/lib/python3.11/site-packages/astropy/io/fits/fitsrec.py\", line 513, in __getitem__\n",
      "    return self.field(key)\n",
      "           ^^^^^^^^^^^^^^^\n",
      "  File \"/home/petershi/miniconda3/envs/SDSSV/lib/python3.11/site-packages/astropy/io/fits/fitsrec.py\", line 695, in field\n",
      "    column = self.columns[key]\n",
      "             ~~~~~~~~~~~~^^^^^\n",
      "  File \"/home/petershi/miniconda3/envs/SDSSV/lib/python3.11/site-packages/astropy/io/fits/column.py\", line 1751, in __getitem__\n",
      "    key = _get_index(self.names, key)\n",
      "          ^^^^^^^^^^^^^^^^^^^^^^^^^^^\n",
      "  File \"/home/petershi/miniconda3/envs/SDSSV/lib/python3.11/site-packages/astropy/io/fits/column.py\", line 2151, in _get_index\n",
      "    raise KeyError(f\"Key '{key}' does not exist.\")\n",
      "KeyError: \"Key 'SNR' does not exist.\"\n",
      "\n"
     ]
    },
    {
     "name": "stderr",
     "output_type": "stream",
     "text": [
      " 66%|██████▌   | 101765/153700 [8:59:00<4:15:57,  3.38it/s]"
     ]
    },
    {
     "name": "stdout",
     "output_type": "stream",
     "text": [
      "File 27021598660817340 not found in /yngve_data/sdssv/ipl-2/spectro/astra/0.3.0/v6_0_9-1.0/spectra/star\n"
     ]
    },
    {
     "name": "stderr",
     "output_type": "stream",
     "text": [
      " 66%|██████▋   | 101971/153700 [8:59:58<3:57:25,  3.63it/s]"
     ]
    },
    {
     "name": "stdout",
     "output_type": "stream",
     "text": [
      "File 27021598664343561 not found in /yngve_data/sdssv/ipl-2/spectro/astra/0.3.0/v6_0_9-1.0/spectra/star\n"
     ]
    },
    {
     "name": "stderr",
     "output_type": "stream",
     "text": [
      " 66%|██████▋   | 102109/153700 [9:00:36<5:42:15,  2.51it/s]"
     ]
    },
    {
     "name": "stdout",
     "output_type": "stream",
     "text": [
      "File 27021598664427588 not found in /yngve_data/sdssv/ipl-2/spectro/astra/0.3.0/v6_0_9-1.0/spectra/star\n"
     ]
    },
    {
     "name": "stderr",
     "output_type": "stream",
     "text": [
      " 66%|██████▋   | 102174/153700 [9:00:55<4:14:44,  3.37it/s]"
     ]
    },
    {
     "name": "stdout",
     "output_type": "stream",
     "text": [
      "File 27021598664455605 not found in /yngve_data/sdssv/ipl-2/spectro/astra/0.3.0/v6_0_9-1.0/spectra/star\n"
     ]
    },
    {
     "name": "stderr",
     "output_type": "stream",
     "text": [
      " 66%|██████▋   | 102191/153700 [9:01:00<5:05:18,  2.81it/s]"
     ]
    },
    {
     "name": "stdout",
     "output_type": "stream",
     "text": [
      "File 27021598664479715 not found in /yngve_data/sdssv/ipl-2/spectro/astra/0.3.0/v6_0_9-1.0/spectra/star\n"
     ]
    },
    {
     "name": "stderr",
     "output_type": "stream",
     "text": [
      " 67%|██████▋   | 102221/153700 [9:01:07<4:56:21,  2.90it/s]"
     ]
    },
    {
     "name": "stdout",
     "output_type": "stream",
     "text": [
      "File 27021598664542822 not found in /yngve_data/sdssv/ipl-2/spectro/astra/0.3.0/v6_0_9-1.0/spectra/star\n"
     ]
    },
    {
     "name": "stderr",
     "output_type": "stream",
     "text": [
      " 67%|██████▋   | 102580/153700 [9:02:47<6:27:36,  2.20it/s]"
     ]
    },
    {
     "name": "stdout",
     "output_type": "stream",
     "text": [
      "File 27021598667278976 not found in /yngve_data/sdssv/ipl-2/spectro/astra/0.3.0/v6_0_9-1.0/spectra/star\n"
     ]
    },
    {
     "name": "stderr",
     "output_type": "stream",
     "text": [
      " 67%|██████▋   | 102585/153700 [9:02:48<3:19:03,  4.28it/s]"
     ]
    },
    {
     "name": "stdout",
     "output_type": "stream",
     "text": [
      "File 27021598667279525 not found in /yngve_data/sdssv/ipl-2/spectro/astra/0.3.0/v6_0_9-1.0/spectra/star\n"
     ]
    },
    {
     "name": "stderr",
     "output_type": "stream",
     "text": [
      " 67%|██████▋   | 102962/153700 [9:04:40<4:33:36,  3.09it/s]"
     ]
    },
    {
     "name": "stdout",
     "output_type": "stream",
     "text": [
      "File 27021598668079801 not found in /yngve_data/sdssv/ipl-2/spectro/astra/0.3.0/v6_0_9-1.0/spectra/star\n"
     ]
    },
    {
     "name": "stderr",
     "output_type": "stream",
     "text": [
      " 67%|██████▋   | 102986/153700 [9:04:48<5:45:52,  2.44it/s]"
     ]
    },
    {
     "name": "stdout",
     "output_type": "stream",
     "text": [
      "File 27021598668149655 not found in /yngve_data/sdssv/ipl-2/spectro/astra/0.3.0/v6_0_9-1.0/spectra/star\n"
     ]
    },
    {
     "name": "stderr",
     "output_type": "stream",
     "text": [
      " 67%|██████▋   | 103320/153700 [9:06:26<4:21:05,  3.22it/s]"
     ]
    },
    {
     "name": "stdout",
     "output_type": "stream",
     "text": [
      "File 27021598670089129 not found in /yngve_data/sdssv/ipl-2/spectro/astra/0.3.0/v6_0_9-1.0/spectra/star\n"
     ]
    },
    {
     "name": "stderr",
     "output_type": "stream",
     "text": [
      " 67%|██████▋   | 103347/153700 [9:06:34<5:09:30,  2.71it/s]"
     ]
    },
    {
     "name": "stdout",
     "output_type": "stream",
     "text": [
      "File 27021598670178142 not found in /yngve_data/sdssv/ipl-2/spectro/astra/0.3.0/v6_0_9-1.0/spectra/star\n"
     ]
    },
    {
     "name": "stderr",
     "output_type": "stream",
     "text": [
      " 67%|██████▋   | 103415/153700 [9:06:52<3:27:01,  4.05it/s]"
     ]
    },
    {
     "name": "stdout",
     "output_type": "stream",
     "text": [
      "File 27021598670311723 not found in /yngve_data/sdssv/ipl-2/spectro/astra/0.3.0/v6_0_9-1.0/spectra/star\n"
     ]
    },
    {
     "name": "stderr",
     "output_type": "stream",
     "text": [
      " 67%|██████▋   | 103417/153700 [9:06:52<3:34:18,  3.91it/s]"
     ]
    },
    {
     "name": "stdout",
     "output_type": "stream",
     "text": [
      "File 27021598670323108 not found in /yngve_data/sdssv/ipl-2/spectro/astra/0.3.0/v6_0_9-1.0/spectra/star\n"
     ]
    },
    {
     "name": "stderr",
     "output_type": "stream",
     "text": [
      " 67%|██████▋   | 103421/153700 [9:06:53<3:53:05,  3.60it/s]"
     ]
    },
    {
     "name": "stdout",
     "output_type": "stream",
     "text": [
      "File 27021598670338685 not found in /yngve_data/sdssv/ipl-2/spectro/astra/0.3.0/v6_0_9-1.0/spectra/star\n"
     ]
    },
    {
     "name": "stderr",
     "output_type": "stream",
     "text": [
      " 67%|██████▋   | 103445/153700 [9:07:02<5:35:29,  2.50it/s]"
     ]
    },
    {
     "name": "stdout",
     "output_type": "stream",
     "text": [
      "File 27021598670478339 not found in /yngve_data/sdssv/ipl-2/spectro/astra/0.3.0/v6_0_9-1.0/spectra/star\n"
     ]
    },
    {
     "name": "stderr",
     "output_type": "stream",
     "text": [
      " 67%|██████▋   | 103450/153700 [9:07:04<6:14:36,  2.24it/s]"
     ]
    },
    {
     "name": "stdout",
     "output_type": "stream",
     "text": [
      "File 27021598670497723 not found in /yngve_data/sdssv/ipl-2/spectro/astra/0.3.0/v6_0_9-1.0/spectra/star\n"
     ]
    },
    {
     "name": "stderr",
     "output_type": "stream",
     "text": [
      " 67%|██████▋   | 103491/153700 [9:07:17<5:09:14,  2.71it/s]"
     ]
    },
    {
     "name": "stdout",
     "output_type": "stream",
     "text": [
      "File 27021598670713940 not found in /yngve_data/sdssv/ipl-2/spectro/astra/0.3.0/v6_0_9-1.0/spectra/star\n"
     ]
    },
    {
     "name": "stderr",
     "output_type": "stream",
     "text": [
      " 67%|██████▋   | 103521/153700 [9:07:26<4:19:17,  3.23it/s]"
     ]
    },
    {
     "name": "stdout",
     "output_type": "stream",
     "text": [
      "Traceback (most recent call last):\n",
      "  File \"/home/petershi/miniconda3/envs/SDSSV/lib/python3.11/site-packages/astropy/io/fits/column.py\", line 2142, in _get_index\n",
      "    indx = names.index(key.rstrip())\n",
      "           ^^^^^^^^^^^^^^^^^^^^^^^^^\n",
      "ValueError: 'SNR' is not in list\n",
      "\n",
      "During handling of the above exception, another exception occurred:\n",
      "\n",
      "Traceback (most recent call last):\n",
      "  File \"/tmp/ipykernel_10073/3388262553.py\", line 15, in <module>\n",
      "    cdata = getSDSSVData(cfile)\n",
      "            ^^^^^^^^^^^^^^^^^^^\n",
      "  File \"/tmp/ipykernel_10073/4007893978.py\", line 3, in getSDSSVData\n",
      "    snr = hdul[3].data[\"SNR\"]\n",
      "          ~~~~~~~~~~~~^^^^^^^\n",
      "  File \"/home/petershi/miniconda3/envs/SDSSV/lib/python3.11/site-packages/astropy/io/fits/fitsrec.py\", line 513, in __getitem__\n",
      "    return self.field(key)\n",
      "           ^^^^^^^^^^^^^^^\n",
      "  File \"/home/petershi/miniconda3/envs/SDSSV/lib/python3.11/site-packages/astropy/io/fits/fitsrec.py\", line 695, in field\n",
      "    column = self.columns[key]\n",
      "             ~~~~~~~~~~~~^^^^^\n",
      "  File \"/home/petershi/miniconda3/envs/SDSSV/lib/python3.11/site-packages/astropy/io/fits/column.py\", line 1751, in __getitem__\n",
      "    key = _get_index(self.names, key)\n",
      "          ^^^^^^^^^^^^^^^^^^^^^^^^^^^\n",
      "  File \"/home/petershi/miniconda3/envs/SDSSV/lib/python3.11/site-packages/astropy/io/fits/column.py\", line 2151, in _get_index\n",
      "    raise KeyError(f\"Key '{key}' does not exist.\")\n",
      "KeyError: \"Key 'SNR' does not exist.\"\n",
      "\n"
     ]
    },
    {
     "name": "stderr",
     "output_type": "stream",
     "text": [
      " 67%|██████▋   | 103528/153700 [9:07:28<3:55:42,  3.55it/s]"
     ]
    },
    {
     "name": "stdout",
     "output_type": "stream",
     "text": [
      "Traceback (most recent call last):\n",
      "  File \"/home/petershi/miniconda3/envs/SDSSV/lib/python3.11/site-packages/astropy/io/fits/column.py\", line 2142, in _get_index\n",
      "    indx = names.index(key.rstrip())\n",
      "           ^^^^^^^^^^^^^^^^^^^^^^^^^\n",
      "ValueError: 'SNR' is not in list\n",
      "\n",
      "During handling of the above exception, another exception occurred:\n",
      "\n",
      "Traceback (most recent call last):\n",
      "  File \"/tmp/ipykernel_10073/3388262553.py\", line 15, in <module>\n",
      "    cdata = getSDSSVData(cfile)\n",
      "            ^^^^^^^^^^^^^^^^^^^\n",
      "  File \"/tmp/ipykernel_10073/4007893978.py\", line 3, in getSDSSVData\n",
      "    snr = hdul[3].data[\"SNR\"]\n",
      "          ~~~~~~~~~~~~^^^^^^^\n",
      "  File \"/home/petershi/miniconda3/envs/SDSSV/lib/python3.11/site-packages/astropy/io/fits/fitsrec.py\", line 513, in __getitem__\n",
      "    return self.field(key)\n",
      "           ^^^^^^^^^^^^^^^\n",
      "  File \"/home/petershi/miniconda3/envs/SDSSV/lib/python3.11/site-packages/astropy/io/fits/fitsrec.py\", line 695, in field\n",
      "    column = self.columns[key]\n",
      "             ~~~~~~~~~~~~^^^^^\n",
      "  File \"/home/petershi/miniconda3/envs/SDSSV/lib/python3.11/site-packages/astropy/io/fits/column.py\", line 1751, in __getitem__\n",
      "    key = _get_index(self.names, key)\n",
      "          ^^^^^^^^^^^^^^^^^^^^^^^^^^^\n",
      "  File \"/home/petershi/miniconda3/envs/SDSSV/lib/python3.11/site-packages/astropy/io/fits/column.py\", line 2151, in _get_index\n",
      "    raise KeyError(f\"Key '{key}' does not exist.\")\n",
      "KeyError: \"Key 'SNR' does not exist.\"\n",
      "\n"
     ]
    },
    {
     "name": "stderr",
     "output_type": "stream",
     "text": [
      " 67%|██████▋   | 103549/153700 [9:07:35<5:25:12,  2.57it/s]"
     ]
    },
    {
     "name": "stdout",
     "output_type": "stream",
     "text": [
      "File 27021598671055663 not found in /yngve_data/sdssv/ipl-2/spectro/astra/0.3.0/v6_0_9-1.0/spectra/star\n"
     ]
    },
    {
     "name": "stderr",
     "output_type": "stream",
     "text": [
      " 67%|██████▋   | 103552/153700 [9:07:37<5:40:19,  2.46it/s]"
     ]
    },
    {
     "name": "stdout",
     "output_type": "stream",
     "text": [
      "File 27021598671082757 not found in /yngve_data/sdssv/ipl-2/spectro/astra/0.3.0/v6_0_9-1.0/spectra/star\n"
     ]
    },
    {
     "name": "stderr",
     "output_type": "stream",
     "text": [
      " 67%|██████▋   | 103566/153700 [9:07:41<4:11:57,  3.32it/s]"
     ]
    },
    {
     "name": "stdout",
     "output_type": "stream",
     "text": [
      "File 27021598671190928 not found in /yngve_data/sdssv/ipl-2/spectro/astra/0.3.0/v6_0_9-1.0/spectra/star\n"
     ]
    },
    {
     "name": "stderr",
     "output_type": "stream",
     "text": [
      " 67%|██████▋   | 103567/153700 [9:07:41<4:53:29,  2.85it/s]"
     ]
    },
    {
     "name": "stdout",
     "output_type": "stream",
     "text": [
      "File 27021598671193192 not found in /yngve_data/sdssv/ipl-2/spectro/astra/0.3.0/v6_0_9-1.0/spectra/star\n"
     ]
    },
    {
     "name": "stderr",
     "output_type": "stream",
     "text": [
      " 67%|██████▋   | 103576/153700 [9:07:43<2:47:19,  4.99it/s]"
     ]
    },
    {
     "name": "stdout",
     "output_type": "stream",
     "text": [
      "Traceback (most recent call last):\n",
      "  File \"/home/petershi/miniconda3/envs/SDSSV/lib/python3.11/site-packages/astropy/io/fits/column.py\", line 2142, in _get_index\n",
      "    indx = names.index(key.rstrip())\n",
      "           ^^^^^^^^^^^^^^^^^^^^^^^^^\n",
      "ValueError: 'SNR' is not in list\n",
      "\n",
      "During handling of the above exception, another exception occurred:\n",
      "\n",
      "Traceback (most recent call last):\n",
      "  File \"/tmp/ipykernel_10073/3388262553.py\", line 15, in <module>\n",
      "    cdata = getSDSSVData(cfile)\n",
      "            ^^^^^^^^^^^^^^^^^^^\n",
      "  File \"/tmp/ipykernel_10073/4007893978.py\", line 3, in getSDSSVData\n",
      "    snr = hdul[3].data[\"SNR\"]\n",
      "          ~~~~~~~~~~~~^^^^^^^\n",
      "  File \"/home/petershi/miniconda3/envs/SDSSV/lib/python3.11/site-packages/astropy/io/fits/fitsrec.py\", line 513, in __getitem__\n",
      "    return self.field(key)\n",
      "           ^^^^^^^^^^^^^^^\n",
      "  File \"/home/petershi/miniconda3/envs/SDSSV/lib/python3.11/site-packages/astropy/io/fits/fitsrec.py\", line 695, in field\n",
      "    column = self.columns[key]\n",
      "             ~~~~~~~~~~~~^^^^^\n",
      "  File \"/home/petershi/miniconda3/envs/SDSSV/lib/python3.11/site-packages/astropy/io/fits/column.py\", line 1751, in __getitem__\n",
      "    key = _get_index(self.names, key)\n",
      "          ^^^^^^^^^^^^^^^^^^^^^^^^^^^\n",
      "  File \"/home/petershi/miniconda3/envs/SDSSV/lib/python3.11/site-packages/astropy/io/fits/column.py\", line 2151, in _get_index\n",
      "    raise KeyError(f\"Key '{key}' does not exist.\")\n",
      "KeyError: \"Key 'SNR' does not exist.\"\n",
      "\n"
     ]
    },
    {
     "name": "stderr",
     "output_type": "stream",
     "text": [
      " 67%|██████▋   | 103590/153700 [9:07:48<5:34:04,  2.50it/s]"
     ]
    },
    {
     "name": "stdout",
     "output_type": "stream",
     "text": [
      "File 27021598671277232 not found in /yngve_data/sdssv/ipl-2/spectro/astra/0.3.0/v6_0_9-1.0/spectra/star\n"
     ]
    },
    {
     "name": "stderr",
     "output_type": "stream",
     "text": [
      " 67%|██████▋   | 103644/153700 [9:08:04<5:28:28,  2.54it/s]"
     ]
    },
    {
     "name": "stdout",
     "output_type": "stream",
     "text": [
      "File 27021598671467989 not found in /yngve_data/sdssv/ipl-2/spectro/astra/0.3.0/v6_0_9-1.0/spectra/star\n"
     ]
    },
    {
     "name": "stderr",
     "output_type": "stream",
     "text": [
      " 67%|██████▋   | 103710/153700 [9:08:25<6:40:57,  2.08it/s]"
     ]
    },
    {
     "name": "stdout",
     "output_type": "stream",
     "text": [
      "File 27021598671620666 not found in /yngve_data/sdssv/ipl-2/spectro/astra/0.3.0/v6_0_9-1.0/spectra/star\n"
     ]
    },
    {
     "name": "stderr",
     "output_type": "stream",
     "text": [
      " 68%|██████▊   | 103810/153700 [9:08:53<5:00:25,  2.77it/s]"
     ]
    },
    {
     "name": "stdout",
     "output_type": "stream",
     "text": [
      "File 27021598672303334 not found in /yngve_data/sdssv/ipl-2/spectro/astra/0.3.0/v6_0_9-1.0/spectra/star\n"
     ]
    },
    {
     "name": "stderr",
     "output_type": "stream",
     "text": [
      " 68%|██████▊   | 103929/153700 [9:09:30<5:02:16,  2.74it/s]"
     ]
    },
    {
     "name": "stdout",
     "output_type": "stream",
     "text": [
      "File 27021598673464254 not found in /yngve_data/sdssv/ipl-2/spectro/astra/0.3.0/v6_0_9-1.0/spectra/star\n"
     ]
    },
    {
     "name": "stderr",
     "output_type": "stream",
     "text": [
      " 68%|██████▊   | 103979/153700 [9:09:48<5:26:03,  2.54it/s]"
     ]
    },
    {
     "name": "stdout",
     "output_type": "stream",
     "text": [
      "File 27021598674185252 not found in /yngve_data/sdssv/ipl-2/spectro/astra/0.3.0/v6_0_9-1.0/spectra/star\n"
     ]
    },
    {
     "name": "stderr",
     "output_type": "stream",
     "text": [
      " 68%|██████▊   | 104034/153700 [9:10:04<4:48:48,  2.87it/s]"
     ]
    },
    {
     "name": "stdout",
     "output_type": "stream",
     "text": [
      "File 27021598674808875 not found in /yngve_data/sdssv/ipl-2/spectro/astra/0.3.0/v6_0_9-1.0/spectra/star\n"
     ]
    },
    {
     "name": "stderr",
     "output_type": "stream",
     "text": [
      " 68%|██████▊   | 104089/153700 [9:10:18<3:54:45,  3.52it/s]"
     ]
    },
    {
     "name": "stdout",
     "output_type": "stream",
     "text": [
      "File 27021598675894951 not found in /yngve_data/sdssv/ipl-2/spectro/astra/0.3.0/v6_0_9-1.0/spectra/star\n"
     ]
    },
    {
     "name": "stderr",
     "output_type": "stream",
     "text": [
      " 68%|██████▊   | 104143/153700 [9:10:35<5:13:48,  2.63it/s]"
     ]
    },
    {
     "name": "stdout",
     "output_type": "stream",
     "text": [
      "File 27021598676768560 not found in /yngve_data/sdssv/ipl-2/spectro/astra/0.3.0/v6_0_9-1.0/spectra/star\n"
     ]
    },
    {
     "name": "stderr",
     "output_type": "stream",
     "text": [
      " 68%|██████▊   | 104241/153700 [9:11:05<5:53:03,  2.33it/s]"
     ]
    },
    {
     "name": "stdout",
     "output_type": "stream",
     "text": [
      "File 27021598677557190 not found in /yngve_data/sdssv/ipl-2/spectro/astra/0.3.0/v6_0_9-1.0/spectra/star\n"
     ]
    },
    {
     "name": "stderr",
     "output_type": "stream",
     "text": [
      " 68%|██████▊   | 104242/153700 [9:11:05<6:11:28,  2.22it/s]"
     ]
    },
    {
     "name": "stdout",
     "output_type": "stream",
     "text": [
      "File 27021598677563704 not found in /yngve_data/sdssv/ipl-2/spectro/astra/0.3.0/v6_0_9-1.0/spectra/star\n"
     ]
    },
    {
     "name": "stderr",
     "output_type": "stream",
     "text": [
      " 68%|██████▊   | 104285/153700 [9:11:19<4:37:16,  2.97it/s]"
     ]
    },
    {
     "name": "stdout",
     "output_type": "stream",
     "text": [
      "File 27021598677793731 not found in /yngve_data/sdssv/ipl-2/spectro/astra/0.3.0/v6_0_9-1.0/spectra/star\n"
     ]
    },
    {
     "name": "stderr",
     "output_type": "stream",
     "text": [
      " 68%|██████▊   | 104288/153700 [9:11:20<4:55:36,  2.79it/s]"
     ]
    },
    {
     "name": "stdout",
     "output_type": "stream",
     "text": [
      "File 27021598677803057 not found in /yngve_data/sdssv/ipl-2/spectro/astra/0.3.0/v6_0_9-1.0/spectra/star\n"
     ]
    },
    {
     "name": "stderr",
     "output_type": "stream",
     "text": [
      " 68%|██████▊   | 104625/153700 [9:12:58<4:13:30,  3.23it/s]"
     ]
    },
    {
     "name": "stdout",
     "output_type": "stream",
     "text": [
      "File 27021598679507280 not found in /yngve_data/sdssv/ipl-2/spectro/astra/0.3.0/v6_0_9-1.0/spectra/star\n"
     ]
    },
    {
     "name": "stderr",
     "output_type": "stream",
     "text": [
      " 68%|██████▊   | 104686/153700 [9:13:12<3:27:15,  3.94it/s]"
     ]
    },
    {
     "name": "stdout",
     "output_type": "stream",
     "text": [
      "File 27021598680034851 not found in /yngve_data/sdssv/ipl-2/spectro/astra/0.3.0/v6_0_9-1.0/spectra/star\n"
     ]
    },
    {
     "name": "stderr",
     "output_type": "stream",
     "text": [
      " 68%|██████▊   | 105129/153700 [9:15:22<5:36:26,  2.41it/s]"
     ]
    },
    {
     "name": "stdout",
     "output_type": "stream",
     "text": [
      "File 27021598681078853 not found in /yngve_data/sdssv/ipl-2/spectro/astra/0.3.0/v6_0_9-1.0/spectra/star\n"
     ]
    },
    {
     "name": "stderr",
     "output_type": "stream",
     "text": [
      " 68%|██████▊   | 105187/153700 [9:15:38<3:17:08,  4.10it/s]"
     ]
    },
    {
     "name": "stdout",
     "output_type": "stream",
     "text": [
      "File 27021598681218417 not found in /yngve_data/sdssv/ipl-2/spectro/astra/0.3.0/v6_0_9-1.0/spectra/star\n"
     ]
    },
    {
     "name": "stderr",
     "output_type": "stream",
     "text": [
      " 68%|██████▊   | 105192/153700 [9:15:39<4:14:31,  3.18it/s]"
     ]
    },
    {
     "name": "stdout",
     "output_type": "stream",
     "text": [
      "File 27021598681248516 not found in /yngve_data/sdssv/ipl-2/spectro/astra/0.3.0/v6_0_9-1.0/spectra/star\n"
     ]
    },
    {
     "name": "stderr",
     "output_type": "stream",
     "text": [
      " 68%|██████▊   | 105196/153700 [9:15:40<3:03:07,  4.41it/s]"
     ]
    },
    {
     "name": "stdout",
     "output_type": "stream",
     "text": [
      "Traceback (most recent call last):\n",
      "  File \"/home/petershi/miniconda3/envs/SDSSV/lib/python3.11/site-packages/astropy/io/fits/column.py\", line 2142, in _get_index\n",
      "    indx = names.index(key.rstrip())\n",
      "           ^^^^^^^^^^^^^^^^^^^^^^^^^\n",
      "ValueError: 'SNR' is not in list\n",
      "\n",
      "During handling of the above exception, another exception occurred:\n",
      "\n",
      "Traceback (most recent call last):\n",
      "  File \"/tmp/ipykernel_10073/3388262553.py\", line 15, in <module>\n",
      "    cdata = getSDSSVData(cfile)\n",
      "            ^^^^^^^^^^^^^^^^^^^\n",
      "  File \"/tmp/ipykernel_10073/4007893978.py\", line 3, in getSDSSVData\n",
      "    snr = hdul[3].data[\"SNR\"]\n",
      "          ~~~~~~~~~~~~^^^^^^^\n",
      "  File \"/home/petershi/miniconda3/envs/SDSSV/lib/python3.11/site-packages/astropy/io/fits/fitsrec.py\", line 513, in __getitem__\n",
      "    return self.field(key)\n",
      "           ^^^^^^^^^^^^^^^\n",
      "  File \"/home/petershi/miniconda3/envs/SDSSV/lib/python3.11/site-packages/astropy/io/fits/fitsrec.py\", line 695, in field\n",
      "    column = self.columns[key]\n",
      "             ~~~~~~~~~~~~^^^^^\n",
      "  File \"/home/petershi/miniconda3/envs/SDSSV/lib/python3.11/site-packages/astropy/io/fits/column.py\", line 1751, in __getitem__\n",
      "    key = _get_index(self.names, key)\n",
      "          ^^^^^^^^^^^^^^^^^^^^^^^^^^^\n",
      "  File \"/home/petershi/miniconda3/envs/SDSSV/lib/python3.11/site-packages/astropy/io/fits/column.py\", line 2151, in _get_index\n",
      "    raise KeyError(f\"Key '{key}' does not exist.\")\n",
      "KeyError: \"Key 'SNR' does not exist.\"\n",
      "\n"
     ]
    },
    {
     "name": "stderr",
     "output_type": "stream",
     "text": [
      " 68%|██████▊   | 105197/153700 [9:15:41<3:57:43,  3.40it/s]"
     ]
    },
    {
     "name": "stdout",
     "output_type": "stream",
     "text": [
      "File 27021598681264203 not found in /yngve_data/sdssv/ipl-2/spectro/astra/0.3.0/v6_0_9-1.0/spectra/star\n"
     ]
    },
    {
     "name": "stderr",
     "output_type": "stream",
     "text": [
      " 68%|██████▊   | 105212/153700 [9:15:45<4:08:52,  3.25it/s]"
     ]
    },
    {
     "name": "stdout",
     "output_type": "stream",
     "text": [
      "Traceback (most recent call last):\n",
      "  File \"/home/petershi/miniconda3/envs/SDSSV/lib/python3.11/site-packages/astropy/io/fits/column.py\", line 2142, in _get_index\n",
      "    indx = names.index(key.rstrip())\n",
      "           ^^^^^^^^^^^^^^^^^^^^^^^^^\n",
      "ValueError: 'SNR' is not in list\n",
      "\n",
      "During handling of the above exception, another exception occurred:\n",
      "\n",
      "Traceback (most recent call last):\n",
      "  File \"/tmp/ipykernel_10073/3388262553.py\", line 15, in <module>\n",
      "    cdata = getSDSSVData(cfile)\n",
      "            ^^^^^^^^^^^^^^^^^^^\n",
      "  File \"/tmp/ipykernel_10073/4007893978.py\", line 3, in getSDSSVData\n",
      "    snr = hdul[3].data[\"SNR\"]\n",
      "          ~~~~~~~~~~~~^^^^^^^\n",
      "  File \"/home/petershi/miniconda3/envs/SDSSV/lib/python3.11/site-packages/astropy/io/fits/fitsrec.py\", line 513, in __getitem__\n",
      "    return self.field(key)\n",
      "           ^^^^^^^^^^^^^^^\n",
      "  File \"/home/petershi/miniconda3/envs/SDSSV/lib/python3.11/site-packages/astropy/io/fits/fitsrec.py\", line 695, in field\n",
      "    column = self.columns[key]\n",
      "             ~~~~~~~~~~~~^^^^^\n",
      "  File \"/home/petershi/miniconda3/envs/SDSSV/lib/python3.11/site-packages/astropy/io/fits/column.py\", line 1751, in __getitem__\n",
      "    key = _get_index(self.names, key)\n",
      "          ^^^^^^^^^^^^^^^^^^^^^^^^^^^\n",
      "  File \"/home/petershi/miniconda3/envs/SDSSV/lib/python3.11/site-packages/astropy/io/fits/column.py\", line 2151, in _get_index\n",
      "    raise KeyError(f\"Key '{key}' does not exist.\")\n",
      "KeyError: \"Key 'SNR' does not exist.\"\n",
      "\n"
     ]
    },
    {
     "name": "stderr",
     "output_type": "stream",
     "text": [
      " 68%|██████▊   | 105222/153700 [9:15:48<4:20:44,  3.10it/s]"
     ]
    },
    {
     "name": "stdout",
     "output_type": "stream",
     "text": [
      "File 27021598681392062 not found in /yngve_data/sdssv/ipl-2/spectro/astra/0.3.0/v6_0_9-1.0/spectra/star\n"
     ]
    },
    {
     "name": "stderr",
     "output_type": "stream",
     "text": [
      " 68%|██████▊   | 105238/153700 [9:15:54<5:25:52,  2.48it/s]"
     ]
    },
    {
     "name": "stdout",
     "output_type": "stream",
     "text": [
      "File 27021598681415510 not found in /yngve_data/sdssv/ipl-2/spectro/astra/0.3.0/v6_0_9-1.0/spectra/star\n"
     ]
    },
    {
     "name": "stderr",
     "output_type": "stream",
     "text": [
      " 68%|██████▊   | 105239/153700 [9:15:54<5:47:32,  2.32it/s]"
     ]
    },
    {
     "name": "stdout",
     "output_type": "stream",
     "text": [
      "File 27021598681416841 not found in /yngve_data/sdssv/ipl-2/spectro/astra/0.3.0/v6_0_9-1.0/spectra/star\n"
     ]
    },
    {
     "name": "stderr",
     "output_type": "stream",
     "text": [
      " 68%|██████▊   | 105254/153700 [9:15:59<4:27:47,  3.02it/s]"
     ]
    },
    {
     "name": "stdout",
     "output_type": "stream",
     "text": [
      "File 27021598681459750 not found in /yngve_data/sdssv/ipl-2/spectro/astra/0.3.0/v6_0_9-1.0/spectra/star\n"
     ]
    },
    {
     "name": "stderr",
     "output_type": "stream",
     "text": [
      " 69%|██████▊   | 105307/153700 [9:16:15<5:24:23,  2.49it/s]"
     ]
    },
    {
     "name": "stdout",
     "output_type": "stream",
     "text": [
      "File 27021598681680631 not found in /yngve_data/sdssv/ipl-2/spectro/astra/0.3.0/v6_0_9-1.0/spectra/star\n"
     ]
    },
    {
     "name": "stderr",
     "output_type": "stream",
     "text": [
      " 69%|██████▊   | 105323/153700 [9:16:20<3:47:37,  3.54it/s]"
     ]
    },
    {
     "name": "stdout",
     "output_type": "stream",
     "text": [
      "File 27021598681716572 not found in /yngve_data/sdssv/ipl-2/spectro/astra/0.3.0/v6_0_9-1.0/spectra/star\n"
     ]
    },
    {
     "name": "stderr",
     "output_type": "stream",
     "text": [
      " 69%|██████▊   | 105348/153700 [9:16:26<3:38:14,  3.69it/s]"
     ]
    },
    {
     "name": "stdout",
     "output_type": "stream",
     "text": [
      "File 27021598681766724 not found in /yngve_data/sdssv/ipl-2/spectro/astra/0.3.0/v6_0_9-1.0/spectra/star\n"
     ]
    },
    {
     "name": "stderr",
     "output_type": "stream",
     "text": [
      " 69%|██████▊   | 105379/153700 [9:16:36<4:40:59,  2.87it/s]"
     ]
    },
    {
     "name": "stdout",
     "output_type": "stream",
     "text": [
      "File 27021598681849811 not found in /yngve_data/sdssv/ipl-2/spectro/astra/0.3.0/v6_0_9-1.0/spectra/star\n"
     ]
    },
    {
     "name": "stderr",
     "output_type": "stream",
     "text": [
      " 69%|██████▊   | 105380/153700 [9:16:37<5:10:47,  2.59it/s]"
     ]
    },
    {
     "name": "stdout",
     "output_type": "stream",
     "text": [
      "File 27021598681856703 not found in /yngve_data/sdssv/ipl-2/spectro/astra/0.3.0/v6_0_9-1.0/spectra/star\n"
     ]
    },
    {
     "name": "stderr",
     "output_type": "stream",
     "text": [
      " 69%|██████▊   | 105383/153700 [9:16:38<6:10:05,  2.18it/s]"
     ]
    },
    {
     "name": "stdout",
     "output_type": "stream",
     "text": [
      "File 27021598681862026 not found in /yngve_data/sdssv/ipl-2/spectro/astra/0.3.0/v6_0_9-1.0/spectra/star\n"
     ]
    },
    {
     "name": "stderr",
     "output_type": "stream",
     "text": [
      " 69%|██████▊   | 105443/153700 [9:16:55<2:54:43,  4.60it/s]"
     ]
    },
    {
     "name": "stdout",
     "output_type": "stream",
     "text": [
      "File 27021598682049664 not found in /yngve_data/sdssv/ipl-2/spectro/astra/0.3.0/v6_0_9-1.0/spectra/star\n"
     ]
    },
    {
     "name": "stderr",
     "output_type": "stream",
     "text": [
      " 69%|██████▊   | 105468/153700 [9:17:02<3:47:29,  3.53it/s]"
     ]
    },
    {
     "name": "stdout",
     "output_type": "stream",
     "text": [
      "File 27021598682133603 not found in /yngve_data/sdssv/ipl-2/spectro/astra/0.3.0/v6_0_9-1.0/spectra/star\n"
     ]
    },
    {
     "name": "stderr",
     "output_type": "stream",
     "text": [
      " 69%|██████▊   | 105483/153700 [9:17:06<3:19:23,  4.03it/s]"
     ]
    },
    {
     "name": "stdout",
     "output_type": "stream",
     "text": [
      "Traceback (most recent call last):\n",
      "  File \"/home/petershi/miniconda3/envs/SDSSV/lib/python3.11/site-packages/astropy/io/fits/column.py\", line 2142, in _get_index\n",
      "    indx = names.index(key.rstrip())\n",
      "           ^^^^^^^^^^^^^^^^^^^^^^^^^\n",
      "ValueError: 'SNR' is not in list\n",
      "\n",
      "During handling of the above exception, another exception occurred:\n",
      "\n",
      "Traceback (most recent call last):\n",
      "  File \"/tmp/ipykernel_10073/3388262553.py\", line 15, in <module>\n",
      "    cdata = getSDSSVData(cfile)\n",
      "            ^^^^^^^^^^^^^^^^^^^\n",
      "  File \"/tmp/ipykernel_10073/4007893978.py\", line 3, in getSDSSVData\n",
      "    snr = hdul[3].data[\"SNR\"]\n",
      "          ~~~~~~~~~~~~^^^^^^^\n",
      "  File \"/home/petershi/miniconda3/envs/SDSSV/lib/python3.11/site-packages/astropy/io/fits/fitsrec.py\", line 513, in __getitem__\n",
      "    return self.field(key)\n",
      "           ^^^^^^^^^^^^^^^\n",
      "  File \"/home/petershi/miniconda3/envs/SDSSV/lib/python3.11/site-packages/astropy/io/fits/fitsrec.py\", line 695, in field\n",
      "    column = self.columns[key]\n",
      "             ~~~~~~~~~~~~^^^^^\n",
      "  File \"/home/petershi/miniconda3/envs/SDSSV/lib/python3.11/site-packages/astropy/io/fits/column.py\", line 1751, in __getitem__\n",
      "    key = _get_index(self.names, key)\n",
      "          ^^^^^^^^^^^^^^^^^^^^^^^^^^^\n",
      "  File \"/home/petershi/miniconda3/envs/SDSSV/lib/python3.11/site-packages/astropy/io/fits/column.py\", line 2151, in _get_index\n",
      "    raise KeyError(f\"Key '{key}' does not exist.\")\n",
      "KeyError: \"Key 'SNR' does not exist.\"\n",
      "\n"
     ]
    },
    {
     "name": "stderr",
     "output_type": "stream",
     "text": [
      " 69%|██████▊   | 105490/153700 [9:17:07<3:08:24,  4.26it/s]"
     ]
    },
    {
     "name": "stdout",
     "output_type": "stream",
     "text": [
      "File 27021598682211051 not found in /yngve_data/sdssv/ipl-2/spectro/astra/0.3.0/v6_0_9-1.0/spectra/star\n"
     ]
    },
    {
     "name": "stderr",
     "output_type": "stream",
     "text": [
      " 69%|██████▊   | 105494/153700 [9:17:09<3:43:45,  3.59it/s]"
     ]
    },
    {
     "name": "stdout",
     "output_type": "stream",
     "text": [
      "File 27021598682234285 not found in /yngve_data/sdssv/ipl-2/spectro/astra/0.3.0/v6_0_9-1.0/spectra/star\n"
     ]
    },
    {
     "name": "stderr",
     "output_type": "stream",
     "text": [
      " 69%|██████▊   | 105593/153700 [9:17:38<3:54:40,  3.42it/s]"
     ]
    },
    {
     "name": "stdout",
     "output_type": "stream",
     "text": [
      "File 27021598682511034 not found in /yngve_data/sdssv/ipl-2/spectro/astra/0.3.0/v6_0_9-1.0/spectra/star\n"
     ]
    },
    {
     "name": "stderr",
     "output_type": "stream",
     "text": [
      " 69%|██████▊   | 105615/153700 [9:17:44<3:33:07,  3.76it/s]"
     ]
    },
    {
     "name": "stdout",
     "output_type": "stream",
     "text": [
      "File 27021598682620989 not found in /yngve_data/sdssv/ipl-2/spectro/astra/0.3.0/v6_0_9-1.0/spectra/star\n"
     ]
    },
    {
     "name": "stderr",
     "output_type": "stream",
     "text": [
      " 69%|██████▊   | 105628/153700 [9:17:49<4:43:11,  2.83it/s]"
     ]
    },
    {
     "name": "stdout",
     "output_type": "stream",
     "text": [
      "File 27021598682650564 not found in /yngve_data/sdssv/ipl-2/spectro/astra/0.3.0/v6_0_9-1.0/spectra/star\n"
     ]
    },
    {
     "name": "stderr",
     "output_type": "stream",
     "text": [
      " 69%|██████▊   | 105658/153700 [9:17:58<4:28:15,  2.98it/s]"
     ]
    },
    {
     "name": "stdout",
     "output_type": "stream",
     "text": [
      "File 27021598682775821 not found in /yngve_data/sdssv/ipl-2/spectro/astra/0.3.0/v6_0_9-1.0/spectra/star\n"
     ]
    },
    {
     "name": "stderr",
     "output_type": "stream",
     "text": [
      " 69%|██████▉   | 105742/153700 [9:18:23<3:09:07,  4.23it/s]"
     ]
    },
    {
     "name": "stdout",
     "output_type": "stream",
     "text": [
      "Traceback (most recent call last):\n",
      "  File \"/home/petershi/miniconda3/envs/SDSSV/lib/python3.11/site-packages/astropy/io/fits/column.py\", line 2142, in _get_index\n",
      "    indx = names.index(key.rstrip())\n",
      "           ^^^^^^^^^^^^^^^^^^^^^^^^^\n",
      "ValueError: 'SNR' is not in list\n",
      "\n",
      "During handling of the above exception, another exception occurred:\n",
      "\n",
      "Traceback (most recent call last):\n",
      "  File \"/tmp/ipykernel_10073/3388262553.py\", line 15, in <module>\n",
      "    cdata = getSDSSVData(cfile)\n",
      "            ^^^^^^^^^^^^^^^^^^^\n",
      "  File \"/tmp/ipykernel_10073/4007893978.py\", line 3, in getSDSSVData\n",
      "    snr = hdul[3].data[\"SNR\"]\n",
      "          ~~~~~~~~~~~~^^^^^^^\n",
      "  File \"/home/petershi/miniconda3/envs/SDSSV/lib/python3.11/site-packages/astropy/io/fits/fitsrec.py\", line 513, in __getitem__\n",
      "    return self.field(key)\n",
      "           ^^^^^^^^^^^^^^^\n",
      "  File \"/home/petershi/miniconda3/envs/SDSSV/lib/python3.11/site-packages/astropy/io/fits/fitsrec.py\", line 695, in field\n",
      "    column = self.columns[key]\n",
      "             ~~~~~~~~~~~~^^^^^\n",
      "  File \"/home/petershi/miniconda3/envs/SDSSV/lib/python3.11/site-packages/astropy/io/fits/column.py\", line 1751, in __getitem__\n",
      "    key = _get_index(self.names, key)\n",
      "          ^^^^^^^^^^^^^^^^^^^^^^^^^^^\n",
      "  File \"/home/petershi/miniconda3/envs/SDSSV/lib/python3.11/site-packages/astropy/io/fits/column.py\", line 2151, in _get_index\n",
      "    raise KeyError(f\"Key '{key}' does not exist.\")\n",
      "KeyError: \"Key 'SNR' does not exist.\"\n",
      "\n"
     ]
    },
    {
     "name": "stderr",
     "output_type": "stream",
     "text": [
      " 69%|██████▉   | 105745/153700 [9:18:25<4:32:36,  2.93it/s]"
     ]
    },
    {
     "name": "stdout",
     "output_type": "stream",
     "text": [
      "File 27021598683055477 not found in /yngve_data/sdssv/ipl-2/spectro/astra/0.3.0/v6_0_9-1.0/spectra/star\n"
     ]
    },
    {
     "name": "stderr",
     "output_type": "stream",
     "text": [
      " 69%|██████▉   | 105772/153700 [9:18:31<3:32:23,  3.76it/s]"
     ]
    },
    {
     "name": "stdout",
     "output_type": "stream",
     "text": [
      "File 27021598683197334 not found in /yngve_data/sdssv/ipl-2/spectro/astra/0.3.0/v6_0_9-1.0/spectra/star\n"
     ]
    },
    {
     "name": "stderr",
     "output_type": "stream",
     "text": [
      " 69%|██████▉   | 105854/153700 [9:18:57<3:47:52,  3.50it/s]"
     ]
    },
    {
     "name": "stdout",
     "output_type": "stream",
     "text": [
      "File 27021598683541244 not found in /yngve_data/sdssv/ipl-2/spectro/astra/0.3.0/v6_0_9-1.0/spectra/star\n"
     ]
    },
    {
     "name": "stderr",
     "output_type": "stream",
     "text": [
      " 69%|██████▉   | 105881/153700 [9:19:05<3:12:20,  4.14it/s]"
     ]
    },
    {
     "name": "stdout",
     "output_type": "stream",
     "text": [
      "Traceback (most recent call last):\n",
      "  File \"/home/petershi/miniconda3/envs/SDSSV/lib/python3.11/site-packages/astropy/io/fits/column.py\", line 2142, in _get_index\n",
      "    indx = names.index(key.rstrip())\n",
      "           ^^^^^^^^^^^^^^^^^^^^^^^^^\n",
      "ValueError: 'SNR' is not in list\n",
      "\n",
      "During handling of the above exception, another exception occurred:\n",
      "\n",
      "Traceback (most recent call last):\n",
      "  File \"/tmp/ipykernel_10073/3388262553.py\", line 15, in <module>\n",
      "    cdata = getSDSSVData(cfile)\n",
      "            ^^^^^^^^^^^^^^^^^^^\n",
      "  File \"/tmp/ipykernel_10073/4007893978.py\", line 3, in getSDSSVData\n",
      "    snr = hdul[3].data[\"SNR\"]\n",
      "          ~~~~~~~~~~~~^^^^^^^\n",
      "  File \"/home/petershi/miniconda3/envs/SDSSV/lib/python3.11/site-packages/astropy/io/fits/fitsrec.py\", line 513, in __getitem__\n",
      "    return self.field(key)\n",
      "           ^^^^^^^^^^^^^^^\n",
      "  File \"/home/petershi/miniconda3/envs/SDSSV/lib/python3.11/site-packages/astropy/io/fits/fitsrec.py\", line 695, in field\n",
      "    column = self.columns[key]\n",
      "             ~~~~~~~~~~~~^^^^^\n",
      "  File \"/home/petershi/miniconda3/envs/SDSSV/lib/python3.11/site-packages/astropy/io/fits/column.py\", line 1751, in __getitem__\n",
      "    key = _get_index(self.names, key)\n",
      "          ^^^^^^^^^^^^^^^^^^^^^^^^^^^\n",
      "  File \"/home/petershi/miniconda3/envs/SDSSV/lib/python3.11/site-packages/astropy/io/fits/column.py\", line 2151, in _get_index\n",
      "    raise KeyError(f\"Key '{key}' does not exist.\")\n",
      "KeyError: \"Key 'SNR' does not exist.\"\n",
      "\n"
     ]
    },
    {
     "name": "stderr",
     "output_type": "stream",
     "text": [
      " 69%|██████▉   | 105905/153700 [9:19:12<4:48:32,  2.76it/s]"
     ]
    },
    {
     "name": "stdout",
     "output_type": "stream",
     "text": [
      "File 27021598683860140 not found in /yngve_data/sdssv/ipl-2/spectro/astra/0.3.0/v6_0_9-1.0/spectra/star\n"
     ]
    },
    {
     "name": "stderr",
     "output_type": "stream",
     "text": [
      " 69%|██████▉   | 106372/153700 [9:21:21<2:58:50,  4.41it/s]"
     ]
    },
    {
     "name": "stdout",
     "output_type": "stream",
     "text": [
      "Traceback (most recent call last):\n",
      "  File \"/home/petershi/miniconda3/envs/SDSSV/lib/python3.11/site-packages/astropy/io/fits/column.py\", line 2142, in _get_index\n",
      "    indx = names.index(key.rstrip())\n",
      "           ^^^^^^^^^^^^^^^^^^^^^^^^^\n",
      "ValueError: 'SNR' is not in list\n",
      "\n",
      "During handling of the above exception, another exception occurred:\n",
      "\n",
      "Traceback (most recent call last):\n",
      "  File \"/tmp/ipykernel_10073/3388262553.py\", line 15, in <module>\n",
      "    cdata = getSDSSVData(cfile)\n",
      "            ^^^^^^^^^^^^^^^^^^^\n",
      "  File \"/tmp/ipykernel_10073/4007893978.py\", line 3, in getSDSSVData\n",
      "    snr = hdul[3].data[\"SNR\"]\n",
      "          ~~~~~~~~~~~~^^^^^^^\n",
      "  File \"/home/petershi/miniconda3/envs/SDSSV/lib/python3.11/site-packages/astropy/io/fits/fitsrec.py\", line 513, in __getitem__\n",
      "    return self.field(key)\n",
      "           ^^^^^^^^^^^^^^^\n",
      "  File \"/home/petershi/miniconda3/envs/SDSSV/lib/python3.11/site-packages/astropy/io/fits/fitsrec.py\", line 695, in field\n",
      "    column = self.columns[key]\n",
      "             ~~~~~~~~~~~~^^^^^\n",
      "  File \"/home/petershi/miniconda3/envs/SDSSV/lib/python3.11/site-packages/astropy/io/fits/column.py\", line 1751, in __getitem__\n",
      "    key = _get_index(self.names, key)\n",
      "          ^^^^^^^^^^^^^^^^^^^^^^^^^^^\n",
      "  File \"/home/petershi/miniconda3/envs/SDSSV/lib/python3.11/site-packages/astropy/io/fits/column.py\", line 2151, in _get_index\n",
      "    raise KeyError(f\"Key '{key}' does not exist.\")\n",
      "KeyError: \"Key 'SNR' does not exist.\"\n",
      "\n"
     ]
    },
    {
     "name": "stderr",
     "output_type": "stream",
     "text": [
      " 69%|██████▉   | 106457/153700 [9:21:45<2:52:32,  4.56it/s]"
     ]
    },
    {
     "name": "stdout",
     "output_type": "stream",
     "text": [
      "File 27021598703359772 not found in /yngve_data/sdssv/ipl-2/spectro/astra/0.3.0/v6_0_9-1.0/spectra/star\n"
     ]
    },
    {
     "name": "stderr",
     "output_type": "stream",
     "text": [
      " 69%|██████▉   | 106568/153700 [9:22:18<4:32:46,  2.88it/s]"
     ]
    },
    {
     "name": "stdout",
     "output_type": "stream",
     "text": [
      "File 27021598704004806 not found in /yngve_data/sdssv/ipl-2/spectro/astra/0.3.0/v6_0_9-1.0/spectra/star\n"
     ]
    },
    {
     "name": "stderr",
     "output_type": "stream",
     "text": [
      " 69%|██████▉   | 106628/153700 [9:22:36<3:51:15,  3.39it/s]"
     ]
    },
    {
     "name": "stdout",
     "output_type": "stream",
     "text": [
      "File 27021598704170883 not found in /yngve_data/sdssv/ipl-2/spectro/astra/0.3.0/v6_0_9-1.0/spectra/star\n"
     ]
    },
    {
     "name": "stderr",
     "output_type": "stream",
     "text": [
      " 69%|██████▉   | 106630/153700 [9:22:36<4:11:37,  3.12it/s]"
     ]
    },
    {
     "name": "stdout",
     "output_type": "stream",
     "text": [
      "Traceback (most recent call last):\n",
      "  File \"/home/petershi/miniconda3/envs/SDSSV/lib/python3.11/site-packages/astropy/io/fits/column.py\", line 2142, in _get_index\n",
      "    indx = names.index(key.rstrip())\n",
      "           ^^^^^^^^^^^^^^^^^^^^^^^^^\n",
      "ValueError: 'SNR' is not in list\n",
      "\n",
      "During handling of the above exception, another exception occurred:\n",
      "\n",
      "Traceback (most recent call last):\n",
      "  File \"/tmp/ipykernel_10073/3388262553.py\", line 15, in <module>\n",
      "    cdata = getSDSSVData(cfile)\n",
      "            ^^^^^^^^^^^^^^^^^^^\n",
      "  File \"/tmp/ipykernel_10073/4007893978.py\", line 3, in getSDSSVData\n",
      "    snr = hdul[3].data[\"SNR\"]\n",
      "          ~~~~~~~~~~~~^^^^^^^\n",
      "  File \"/home/petershi/miniconda3/envs/SDSSV/lib/python3.11/site-packages/astropy/io/fits/fitsrec.py\", line 513, in __getitem__\n",
      "    return self.field(key)\n",
      "           ^^^^^^^^^^^^^^^\n",
      "  File \"/home/petershi/miniconda3/envs/SDSSV/lib/python3.11/site-packages/astropy/io/fits/fitsrec.py\", line 695, in field\n",
      "    column = self.columns[key]\n",
      "             ~~~~~~~~~~~~^^^^^\n",
      "  File \"/home/petershi/miniconda3/envs/SDSSV/lib/python3.11/site-packages/astropy/io/fits/column.py\", line 1751, in __getitem__\n",
      "    key = _get_index(self.names, key)\n",
      "          ^^^^^^^^^^^^^^^^^^^^^^^^^^^\n",
      "  File \"/home/petershi/miniconda3/envs/SDSSV/lib/python3.11/site-packages/astropy/io/fits/column.py\", line 2151, in _get_index\n",
      "    raise KeyError(f\"Key '{key}' does not exist.\")\n",
      "KeyError: \"Key 'SNR' does not exist.\"\n",
      "\n"
     ]
    },
    {
     "name": "stderr",
     "output_type": "stream",
     "text": [
      " 69%|██████▉   | 106643/153700 [9:22:39<2:02:38,  6.39it/s]"
     ]
    },
    {
     "name": "stdout",
     "output_type": "stream",
     "text": [
      "Traceback (most recent call last):\n",
      "  File \"/home/petershi/miniconda3/envs/SDSSV/lib/python3.11/site-packages/astropy/io/fits/column.py\", line 2142, in _get_index\n",
      "    indx = names.index(key.rstrip())\n",
      "           ^^^^^^^^^^^^^^^^^^^^^^^^^\n",
      "ValueError: 'SNR' is not in list\n",
      "\n",
      "During handling of the above exception, another exception occurred:\n",
      "\n",
      "Traceback (most recent call last):\n",
      "  File \"/tmp/ipykernel_10073/3388262553.py\", line 15, in <module>\n",
      "    cdata = getSDSSVData(cfile)\n",
      "            ^^^^^^^^^^^^^^^^^^^\n",
      "  File \"/tmp/ipykernel_10073/4007893978.py\", line 3, in getSDSSVData\n",
      "    snr = hdul[3].data[\"SNR\"]\n",
      "          ~~~~~~~~~~~~^^^^^^^\n",
      "  File \"/home/petershi/miniconda3/envs/SDSSV/lib/python3.11/site-packages/astropy/io/fits/fitsrec.py\", line 513, in __getitem__\n",
      "    return self.field(key)\n",
      "           ^^^^^^^^^^^^^^^\n",
      "  File \"/home/petershi/miniconda3/envs/SDSSV/lib/python3.11/site-packages/astropy/io/fits/fitsrec.py\", line 695, in field\n",
      "    column = self.columns[key]\n",
      "             ~~~~~~~~~~~~^^^^^\n",
      "  File \"/home/petershi/miniconda3/envs/SDSSV/lib/python3.11/site-packages/astropy/io/fits/column.py\", line 1751, in __getitem__\n",
      "    key = _get_index(self.names, key)\n",
      "          ^^^^^^^^^^^^^^^^^^^^^^^^^^^\n",
      "  File \"/home/petershi/miniconda3/envs/SDSSV/lib/python3.11/site-packages/astropy/io/fits/column.py\", line 2151, in _get_index\n",
      "    raise KeyError(f\"Key '{key}' does not exist.\")\n",
      "KeyError: \"Key 'SNR' does not exist.\"\n",
      "\n"
     ]
    },
    {
     "name": "stderr",
     "output_type": "stream",
     "text": [
      " 70%|██████▉   | 106916/153700 [9:24:01<4:17:59,  3.02it/s]"
     ]
    },
    {
     "name": "stdout",
     "output_type": "stream",
     "text": [
      "File 27021598707306829 not found in /yngve_data/sdssv/ipl-2/spectro/astra/0.3.0/v6_0_9-1.0/spectra/star\n"
     ]
    },
    {
     "name": "stderr",
     "output_type": "stream",
     "text": [
      " 70%|██████▉   | 107401/153700 [9:26:25<4:09:30,  3.09it/s]"
     ]
    },
    {
     "name": "stdout",
     "output_type": "stream",
     "text": [
      "File 27021598713449593 not found in /yngve_data/sdssv/ipl-2/spectro/astra/0.3.0/v6_0_9-1.0/spectra/star\n"
     ]
    },
    {
     "name": "stderr",
     "output_type": "stream",
     "text": [
      " 70%|███████   | 107730/153700 [9:28:01<3:10:39,  4.02it/s]"
     ]
    },
    {
     "name": "stdout",
     "output_type": "stream",
     "text": [
      "File 27021598722454491 not found in /yngve_data/sdssv/ipl-2/spectro/astra/0.3.0/v6_0_9-1.0/spectra/star\n"
     ]
    },
    {
     "name": "stderr",
     "output_type": "stream",
     "text": [
      " 70%|███████   | 107766/153700 [9:28:12<4:27:29,  2.86it/s]"
     ]
    },
    {
     "name": "stdout",
     "output_type": "stream",
     "text": [
      "File 27021598723012414 not found in /yngve_data/sdssv/ipl-2/spectro/astra/0.3.0/v6_0_9-1.0/spectra/star\n"
     ]
    },
    {
     "name": "stderr",
     "output_type": "stream",
     "text": [
      " 70%|███████   | 107864/153700 [9:28:41<3:36:12,  3.53it/s]"
     ]
    },
    {
     "name": "stdout",
     "output_type": "stream",
     "text": [
      "File 27021598723983077 not found in /yngve_data/sdssv/ipl-2/spectro/astra/0.3.0/v6_0_9-1.0/spectra/star\n"
     ]
    },
    {
     "name": "stderr",
     "output_type": "stream",
     "text": [
      " 70%|███████   | 108169/153700 [9:30:10<3:58:17,  3.18it/s]"
     ]
    },
    {
     "name": "stdout",
     "output_type": "stream",
     "text": [
      "File 27021598725525688 not found in /yngve_data/sdssv/ipl-2/spectro/astra/0.3.0/v6_0_9-1.0/spectra/star\n"
     ]
    },
    {
     "name": "stderr",
     "output_type": "stream",
     "text": [
      " 70%|███████   | 108319/153700 [9:30:52<4:08:12,  3.05it/s]"
     ]
    },
    {
     "name": "stdout",
     "output_type": "stream",
     "text": [
      "File 27021598725670877 not found in /yngve_data/sdssv/ipl-2/spectro/astra/0.3.0/v6_0_9-1.0/spectra/star\n"
     ]
    },
    {
     "name": "stderr",
     "output_type": "stream",
     "text": [
      " 71%|███████   | 109006/153700 [9:34:18<3:56:52,  3.14it/s]"
     ]
    },
    {
     "name": "stdout",
     "output_type": "stream",
     "text": [
      "File 27021598728334509 not found in /yngve_data/sdssv/ipl-2/spectro/astra/0.3.0/v6_0_9-1.0/spectra/star\n"
     ]
    },
    {
     "name": "stderr",
     "output_type": "stream",
     "text": [
      " 71%|███████   | 109136/153700 [9:35:03<2:59:43,  4.13it/s]"
     ]
    },
    {
     "name": "stdout",
     "output_type": "stream",
     "text": [
      "File 27021598729040539 not found in /yngve_data/sdssv/ipl-2/spectro/astra/0.3.0/v6_0_9-1.0/spectra/star\n"
     ]
    },
    {
     "name": "stderr",
     "output_type": "stream",
     "text": [
      " 72%|███████▏  | 109975/153700 [9:39:18<4:30:45,  2.69it/s]"
     ]
    },
    {
     "name": "stdout",
     "output_type": "stream",
     "text": [
      "File 27021598737767649 not found in /yngve_data/sdssv/ipl-2/spectro/astra/0.3.0/v6_0_9-1.0/spectra/star\n"
     ]
    },
    {
     "name": "stderr",
     "output_type": "stream",
     "text": [
      " 72%|███████▏  | 110778/153700 [9:43:18<3:22:45,  3.53it/s]"
     ]
    },
    {
     "name": "stdout",
     "output_type": "stream",
     "text": [
      "File 27021598751451173 not found in /yngve_data/sdssv/ipl-2/spectro/astra/0.3.0/v6_0_9-1.0/spectra/star\n"
     ]
    },
    {
     "name": "stderr",
     "output_type": "stream",
     "text": [
      " 73%|███████▎  | 111525/153700 [9:46:52<3:45:26,  3.12it/s]"
     ]
    },
    {
     "name": "stdout",
     "output_type": "stream",
     "text": [
      "File 27021598755554516 not found in /yngve_data/sdssv/ipl-2/spectro/astra/0.3.0/v6_0_9-1.0/spectra/star\n"
     ]
    },
    {
     "name": "stderr",
     "output_type": "stream",
     "text": [
      " 73%|███████▎  | 111638/153700 [9:47:25<3:45:14,  3.11it/s]"
     ]
    },
    {
     "name": "stdout",
     "output_type": "stream",
     "text": [
      "File 27021598755633604 not found in /yngve_data/sdssv/ipl-2/spectro/astra/0.3.0/v6_0_9-1.0/spectra/star\n"
     ]
    },
    {
     "name": "stderr",
     "output_type": "stream",
     "text": [
      " 73%|███████▎  | 111777/153700 [9:48:07<4:11:42,  2.78it/s]"
     ]
    },
    {
     "name": "stdout",
     "output_type": "stream",
     "text": [
      "File 27021598755921633 not found in /yngve_data/sdssv/ipl-2/spectro/astra/0.3.0/v6_0_9-1.0/spectra/star\n"
     ]
    },
    {
     "name": "stderr",
     "output_type": "stream",
     "text": [
      " 73%|███████▎  | 111879/153700 [9:48:35<3:57:33,  2.93it/s]"
     ]
    },
    {
     "name": "stdout",
     "output_type": "stream",
     "text": [
      "File 27021598757009985 not found in /yngve_data/sdssv/ipl-2/spectro/astra/0.3.0/v6_0_9-1.0/spectra/star\n"
     ]
    },
    {
     "name": "stderr",
     "output_type": "stream",
     "text": [
      " 73%|███████▎  | 112040/153700 [9:49:23<4:09:10,  2.79it/s]"
     ]
    },
    {
     "name": "stdout",
     "output_type": "stream",
     "text": [
      "File 27021598757477132 not found in /yngve_data/sdssv/ipl-2/spectro/astra/0.3.0/v6_0_9-1.0/spectra/star\n"
     ]
    },
    {
     "name": "stderr",
     "output_type": "stream",
     "text": [
      " 73%|███████▎  | 112043/153700 [9:49:24<3:57:21,  2.92it/s]"
     ]
    },
    {
     "name": "stdout",
     "output_type": "stream",
     "text": [
      "File 27021598757487315 not found in /yngve_data/sdssv/ipl-2/spectro/astra/0.3.0/v6_0_9-1.0/spectra/star\n"
     ]
    },
    {
     "name": "stderr",
     "output_type": "stream",
     "text": [
      " 73%|███████▎  | 112072/153700 [9:49:34<4:02:01,  2.87it/s]"
     ]
    },
    {
     "name": "stdout",
     "output_type": "stream",
     "text": [
      "File 27021598757545652 not found in /yngve_data/sdssv/ipl-2/spectro/astra/0.3.0/v6_0_9-1.0/spectra/star\n"
     ]
    },
    {
     "name": "stderr",
     "output_type": "stream",
     "text": [
      " 73%|███████▎  | 112076/153700 [9:49:35<3:58:41,  2.91it/s]"
     ]
    },
    {
     "name": "stdout",
     "output_type": "stream",
     "text": [
      "File 27021598757552436 not found in /yngve_data/sdssv/ipl-2/spectro/astra/0.3.0/v6_0_9-1.0/spectra/star\n"
     ]
    },
    {
     "name": "stderr",
     "output_type": "stream",
     "text": [
      " 73%|███████▎  | 112081/153700 [9:49:37<4:42:02,  2.46it/s]"
     ]
    },
    {
     "name": "stdout",
     "output_type": "stream",
     "text": [
      "File 27021598757567507 not found in /yngve_data/sdssv/ipl-2/spectro/astra/0.3.0/v6_0_9-1.0/spectra/star\n"
     ]
    },
    {
     "name": "stderr",
     "output_type": "stream",
     "text": [
      " 73%|███████▎  | 112092/153700 [9:49:40<3:15:59,  3.54it/s]"
     ]
    },
    {
     "name": "stdout",
     "output_type": "stream",
     "text": [
      "File 27021598757626468 not found in /yngve_data/sdssv/ipl-2/spectro/astra/0.3.0/v6_0_9-1.0/spectra/star\n"
     ]
    },
    {
     "name": "stderr",
     "output_type": "stream",
     "text": [
      " 73%|███████▎  | 112129/153700 [9:49:51<4:09:39,  2.78it/s]"
     ]
    },
    {
     "name": "stdout",
     "output_type": "stream",
     "text": [
      "File 27021598757724755 not found in /yngve_data/sdssv/ipl-2/spectro/astra/0.3.0/v6_0_9-1.0/spectra/star\n"
     ]
    },
    {
     "name": "stderr",
     "output_type": "stream",
     "text": [
      " 73%|███████▎  | 112167/153700 [9:50:04<4:35:25,  2.51it/s]"
     ]
    },
    {
     "name": "stdout",
     "output_type": "stream",
     "text": [
      "File 27021598757778618 not found in /yngve_data/sdssv/ipl-2/spectro/astra/0.3.0/v6_0_9-1.0/spectra/star\n"
     ]
    },
    {
     "name": "stderr",
     "output_type": "stream",
     "text": [
      " 73%|███████▎  | 112182/153700 [9:50:09<3:03:17,  3.78it/s]"
     ]
    },
    {
     "name": "stdout",
     "output_type": "stream",
     "text": [
      "File 27021598757811560 not found in /yngve_data/sdssv/ipl-2/spectro/astra/0.3.0/v6_0_9-1.0/spectra/star\n"
     ]
    },
    {
     "name": "stderr",
     "output_type": "stream",
     "text": [
      " 73%|███████▎  | 112196/153700 [9:50:12<3:21:18,  3.44it/s]"
     ]
    },
    {
     "name": "stdout",
     "output_type": "stream",
     "text": [
      "File 27021598757834109 not found in /yngve_data/sdssv/ipl-2/spectro/astra/0.3.0/v6_0_9-1.0/spectra/star\n"
     ]
    },
    {
     "name": "stderr",
     "output_type": "stream",
     "text": [
      " 73%|███████▎  | 112197/153700 [9:50:13<3:58:47,  2.90it/s]"
     ]
    },
    {
     "name": "stdout",
     "output_type": "stream",
     "text": [
      "File 27021598757834274 not found in /yngve_data/sdssv/ipl-2/spectro/astra/0.3.0/v6_0_9-1.0/spectra/star\n"
     ]
    },
    {
     "name": "stderr",
     "output_type": "stream",
     "text": [
      " 73%|███████▎  | 112575/153700 [9:52:01<3:37:50,  3.15it/s]"
     ]
    },
    {
     "name": "stdout",
     "output_type": "stream",
     "text": [
      "File 27021598758557354 not found in /yngve_data/sdssv/ipl-2/spectro/astra/0.3.0/v6_0_9-1.0/spectra/star\n"
     ]
    },
    {
     "name": "stderr",
     "output_type": "stream",
     "text": [
      " 73%|███████▎  | 112577/153700 [9:52:02<4:20:23,  2.63it/s]"
     ]
    },
    {
     "name": "stdout",
     "output_type": "stream",
     "text": [
      "File 27021598758572962 not found in /yngve_data/sdssv/ipl-2/spectro/astra/0.3.0/v6_0_9-1.0/spectra/star\n"
     ]
    },
    {
     "name": "stderr",
     "output_type": "stream",
     "text": [
      " 73%|███████▎  | 112674/153700 [9:52:30<4:18:52,  2.64it/s]"
     ]
    },
    {
     "name": "stdout",
     "output_type": "stream",
     "text": [
      "File 27021598758982860 not found in /yngve_data/sdssv/ipl-2/spectro/astra/0.3.0/v6_0_9-1.0/spectra/star\n"
     ]
    },
    {
     "name": "stderr",
     "output_type": "stream",
     "text": [
      " 73%|███████▎  | 112750/153700 [9:52:52<3:15:48,  3.49it/s]"
     ]
    },
    {
     "name": "stdout",
     "output_type": "stream",
     "text": [
      "File 27021598761023582 not found in /yngve_data/sdssv/ipl-2/spectro/astra/0.3.0/v6_0_9-1.0/spectra/star\n"
     ]
    },
    {
     "name": "stderr",
     "output_type": "stream",
     "text": [
      " 73%|███████▎  | 112761/153700 [9:52:56<3:45:22,  3.03it/s]"
     ]
    },
    {
     "name": "stdout",
     "output_type": "stream",
     "text": [
      "File 27021598761104816 not found in /yngve_data/sdssv/ipl-2/spectro/astra/0.3.0/v6_0_9-1.0/spectra/star\n"
     ]
    },
    {
     "name": "stderr",
     "output_type": "stream",
     "text": [
      " 73%|███████▎  | 112791/153700 [9:53:03<3:40:31,  3.09it/s]"
     ]
    },
    {
     "name": "stdout",
     "output_type": "stream",
     "text": [
      "File 27021598761147027 not found in /yngve_data/sdssv/ipl-2/spectro/astra/0.3.0/v6_0_9-1.0/spectra/star\n"
     ]
    },
    {
     "name": "stderr",
     "output_type": "stream",
     "text": [
      " 73%|███████▎  | 112837/153700 [9:53:20<4:07:37,  2.75it/s]"
     ]
    },
    {
     "name": "stdout",
     "output_type": "stream",
     "text": [
      "File 27021598761171061 not found in /yngve_data/sdssv/ipl-2/spectro/astra/0.3.0/v6_0_9-1.0/spectra/star\n"
     ]
    },
    {
     "name": "stderr",
     "output_type": "stream",
     "text": [
      " 73%|███████▎  | 112900/153700 [9:53:37<2:42:48,  4.18it/s]"
     ]
    },
    {
     "name": "stdout",
     "output_type": "stream",
     "text": [
      "File 27021598761221106 not found in /yngve_data/sdssv/ipl-2/spectro/astra/0.3.0/v6_0_9-1.0/spectra/star\n"
     ]
    },
    {
     "name": "stderr",
     "output_type": "stream",
     "text": [
      " 74%|███████▍  | 113751/153700 [9:57:46<4:22:28,  2.54it/s]"
     ]
    },
    {
     "name": "stdout",
     "output_type": "stream",
     "text": [
      "File 27021598775970926 not found in /yngve_data/sdssv/ipl-2/spectro/astra/0.3.0/v6_0_9-1.0/spectra/star\n"
     ]
    },
    {
     "name": "stderr",
     "output_type": "stream",
     "text": [
      " 74%|███████▍  | 114009/153700 [9:58:59<3:20:40,  3.30it/s]"
     ]
    },
    {
     "name": "stdout",
     "output_type": "stream",
     "text": [
      "File 27021598777134418 not found in /yngve_data/sdssv/ipl-2/spectro/astra/0.3.0/v6_0_9-1.0/spectra/star\n"
     ]
    },
    {
     "name": "stderr",
     "output_type": "stream",
     "text": [
      " 74%|███████▍  | 114032/153700 [9:59:07<3:35:55,  3.06it/s]"
     ]
    },
    {
     "name": "stdout",
     "output_type": "stream",
     "text": [
      "File 27021598777211668 not found in /yngve_data/sdssv/ipl-2/spectro/astra/0.3.0/v6_0_9-1.0/spectra/star\n"
     ]
    },
    {
     "name": "stderr",
     "output_type": "stream",
     "text": [
      " 74%|███████▍  | 114097/153700 [9:59:27<4:01:02,  2.74it/s]"
     ]
    },
    {
     "name": "stdout",
     "output_type": "stream",
     "text": [
      "File 27021598777360071 not found in /yngve_data/sdssv/ipl-2/spectro/astra/0.3.0/v6_0_9-1.0/spectra/star\n"
     ]
    },
    {
     "name": "stderr",
     "output_type": "stream",
     "text": [
      " 74%|███████▍  | 114156/153700 [9:59:44<2:58:00,  3.70it/s]"
     ]
    },
    {
     "name": "stdout",
     "output_type": "stream",
     "text": [
      "File 27021598777507283 not found in /yngve_data/sdssv/ipl-2/spectro/astra/0.3.0/v6_0_9-1.0/spectra/star\n"
     ]
    },
    {
     "name": "stderr",
     "output_type": "stream",
     "text": [
      " 74%|███████▍  | 114315/153700 [10:00:29<3:53:01,  2.82it/s]"
     ]
    },
    {
     "name": "stdout",
     "output_type": "stream",
     "text": [
      "File 27021598779547978 not found in /yngve_data/sdssv/ipl-2/spectro/astra/0.3.0/v6_0_9-1.0/spectra/star\n"
     ]
    },
    {
     "name": "stderr",
     "output_type": "stream",
     "text": [
      " 75%|███████▍  | 114979/153700 [10:03:48<2:59:18,  3.60it/s]"
     ]
    },
    {
     "name": "stdout",
     "output_type": "stream",
     "text": [
      "File 27021598783823570 not found in /yngve_data/sdssv/ipl-2/spectro/astra/0.3.0/v6_0_9-1.0/spectra/star\n"
     ]
    },
    {
     "name": "stderr",
     "output_type": "stream",
     "text": [
      " 75%|███████▍  | 115249/153700 [10:05:00<2:10:44,  4.90it/s]"
     ]
    },
    {
     "name": "stdout",
     "output_type": "stream",
     "text": [
      "File 27021598784771539 not found in /yngve_data/sdssv/ipl-2/spectro/astra/0.3.0/v6_0_9-1.0/spectra/star\n"
     ]
    },
    {
     "name": "stderr",
     "output_type": "stream",
     "text": [
      " 75%|███████▌  | 115464/153700 [10:06:05<3:07:16,  3.40it/s]"
     ]
    },
    {
     "name": "stdout",
     "output_type": "stream",
     "text": [
      "File 27021598785971708 not found in /yngve_data/sdssv/ipl-2/spectro/astra/0.3.0/v6_0_9-1.0/spectra/star\n"
     ]
    },
    {
     "name": "stderr",
     "output_type": "stream",
     "text": [
      " 75%|███████▌  | 115633/153700 [10:06:55<3:22:00,  3.14it/s]"
     ]
    },
    {
     "name": "stdout",
     "output_type": "stream",
     "text": [
      "Traceback (most recent call last):\n",
      "  File \"/home/petershi/miniconda3/envs/SDSSV/lib/python3.11/site-packages/astropy/io/fits/column.py\", line 2142, in _get_index\n",
      "    indx = names.index(key.rstrip())\n",
      "           ^^^^^^^^^^^^^^^^^^^^^^^^^\n",
      "ValueError: 'SNR' is not in list\n",
      "\n",
      "During handling of the above exception, another exception occurred:\n",
      "\n",
      "Traceback (most recent call last):\n",
      "  File \"/tmp/ipykernel_10073/3388262553.py\", line 15, in <module>\n",
      "    cdata = getSDSSVData(cfile)\n",
      "            ^^^^^^^^^^^^^^^^^^^\n",
      "  File \"/tmp/ipykernel_10073/4007893978.py\", line 3, in getSDSSVData\n",
      "    snr = hdul[3].data[\"SNR\"]\n",
      "          ~~~~~~~~~~~~^^^^^^^\n",
      "  File \"/home/petershi/miniconda3/envs/SDSSV/lib/python3.11/site-packages/astropy/io/fits/fitsrec.py\", line 513, in __getitem__\n",
      "    return self.field(key)\n",
      "           ^^^^^^^^^^^^^^^\n",
      "  File \"/home/petershi/miniconda3/envs/SDSSV/lib/python3.11/site-packages/astropy/io/fits/fitsrec.py\", line 695, in field\n",
      "    column = self.columns[key]\n",
      "             ~~~~~~~~~~~~^^^^^\n",
      "  File \"/home/petershi/miniconda3/envs/SDSSV/lib/python3.11/site-packages/astropy/io/fits/column.py\", line 1751, in __getitem__\n",
      "    key = _get_index(self.names, key)\n",
      "          ^^^^^^^^^^^^^^^^^^^^^^^^^^^\n",
      "  File \"/home/petershi/miniconda3/envs/SDSSV/lib/python3.11/site-packages/astropy/io/fits/column.py\", line 2151, in _get_index\n",
      "    raise KeyError(f\"Key '{key}' does not exist.\")\n",
      "KeyError: \"Key 'SNR' does not exist.\"\n",
      "\n"
     ]
    },
    {
     "name": "stderr",
     "output_type": "stream",
     "text": [
      " 75%|███████▌  | 115779/153700 [10:07:40<3:32:40,  2.97it/s]"
     ]
    },
    {
     "name": "stdout",
     "output_type": "stream",
     "text": [
      "File 27021598787225355 not found in /yngve_data/sdssv/ipl-2/spectro/astra/0.3.0/v6_0_9-1.0/spectra/star\n"
     ]
    },
    {
     "name": "stderr",
     "output_type": "stream",
     "text": [
      " 75%|███████▌  | 115882/153700 [10:08:10<2:30:04,  4.20it/s]"
     ]
    },
    {
     "name": "stdout",
     "output_type": "stream",
     "text": [
      "File 27021598787736955 not found in /yngve_data/sdssv/ipl-2/spectro/astra/0.3.0/v6_0_9-1.0/spectra/star\n"
     ]
    },
    {
     "name": "stderr",
     "output_type": "stream",
     "text": [
      " 75%|███████▌  | 116036/153700 [10:08:50<3:12:28,  3.26it/s]"
     ]
    },
    {
     "name": "stdout",
     "output_type": "stream",
     "text": [
      "File 27021598788538640 not found in /yngve_data/sdssv/ipl-2/spectro/astra/0.3.0/v6_0_9-1.0/spectra/star\n"
     ]
    },
    {
     "name": "stderr",
     "output_type": "stream",
     "text": [
      " 76%|███████▌  | 116224/153700 [10:09:43<4:34:47,  2.27it/s]"
     ]
    },
    {
     "name": "stdout",
     "output_type": "stream",
     "text": [
      "File 27021598789845886 not found in /yngve_data/sdssv/ipl-2/spectro/astra/0.3.0/v6_0_9-1.0/spectra/star\n"
     ]
    },
    {
     "name": "stderr",
     "output_type": "stream",
     "text": [
      " 76%|███████▌  | 116250/153700 [10:09:50<3:27:02,  3.01it/s]"
     ]
    },
    {
     "name": "stdout",
     "output_type": "stream",
     "text": [
      "File 27021598789958740 not found in /yngve_data/sdssv/ipl-2/spectro/astra/0.3.0/v6_0_9-1.0/spectra/star\n"
     ]
    },
    {
     "name": "stderr",
     "output_type": "stream",
     "text": [
      " 76%|███████▌  | 117028/153700 [10:13:34<3:18:38,  3.08it/s]"
     ]
    },
    {
     "name": "stdout",
     "output_type": "stream",
     "text": [
      "File 27021598795078937 not found in /yngve_data/sdssv/ipl-2/spectro/astra/0.3.0/v6_0_9-1.0/spectra/star\n"
     ]
    },
    {
     "name": "stderr",
     "output_type": "stream",
     "text": [
      " 76%|███████▌  | 117030/153700 [10:13:35<3:05:41,  3.29it/s]"
     ]
    },
    {
     "name": "stdout",
     "output_type": "stream",
     "text": [
      "File 27021598795079236 not found in /yngve_data/sdssv/ipl-2/spectro/astra/0.3.0/v6_0_9-1.0/spectra/star\n"
     ]
    },
    {
     "name": "stderr",
     "output_type": "stream",
     "text": [
      " 76%|███████▌  | 117089/153700 [10:13:51<2:24:48,  4.21it/s]"
     ]
    },
    {
     "name": "stdout",
     "output_type": "stream",
     "text": [
      "File 27021598795183995 not found in /yngve_data/sdssv/ipl-2/spectro/astra/0.3.0/v6_0_9-1.0/spectra/star\n"
     ]
    },
    {
     "name": "stderr",
     "output_type": "stream",
     "text": [
      " 76%|███████▌  | 117113/153700 [10:14:00<3:35:36,  2.83it/s]"
     ]
    },
    {
     "name": "stdout",
     "output_type": "stream",
     "text": [
      "File 27021598795243307 not found in /yngve_data/sdssv/ipl-2/spectro/astra/0.3.0/v6_0_9-1.0/spectra/star\n"
     ]
    },
    {
     "name": "stderr",
     "output_type": "stream",
     "text": [
      " 76%|███████▌  | 117126/153700 [10:14:04<3:54:41,  2.60it/s]"
     ]
    },
    {
     "name": "stdout",
     "output_type": "stream",
     "text": [
      "File 27021598795266524 not found in /yngve_data/sdssv/ipl-2/spectro/astra/0.3.0/v6_0_9-1.0/spectra/star\n"
     ]
    },
    {
     "name": "stderr",
     "output_type": "stream",
     "text": [
      " 76%|███████▋  | 117327/153700 [10:15:03<4:35:55,  2.20it/s]"
     ]
    },
    {
     "name": "stdout",
     "output_type": "stream",
     "text": [
      "File 27021598796013374 not found in /yngve_data/sdssv/ipl-2/spectro/astra/0.3.0/v6_0_9-1.0/spectra/star\n"
     ]
    },
    {
     "name": "stderr",
     "output_type": "stream",
     "text": [
      " 76%|███████▋  | 117353/153700 [10:15:11<3:23:48,  2.97it/s]"
     ]
    },
    {
     "name": "stdout",
     "output_type": "stream",
     "text": [
      "File 27021598796069877 not found in /yngve_data/sdssv/ipl-2/spectro/astra/0.3.0/v6_0_9-1.0/spectra/star\n"
     ]
    },
    {
     "name": "stderr",
     "output_type": "stream",
     "text": [
      " 76%|███████▋  | 117385/153700 [10:15:18<1:50:20,  5.49it/s]"
     ]
    },
    {
     "name": "stdout",
     "output_type": "stream",
     "text": [
      "Traceback (most recent call last):\n",
      "  File \"/home/petershi/miniconda3/envs/SDSSV/lib/python3.11/site-packages/astropy/io/fits/column.py\", line 2142, in _get_index\n",
      "    indx = names.index(key.rstrip())\n",
      "           ^^^^^^^^^^^^^^^^^^^^^^^^^\n",
      "ValueError: 'SNR' is not in list\n",
      "\n",
      "During handling of the above exception, another exception occurred:\n",
      "\n",
      "Traceback (most recent call last):\n",
      "  File \"/tmp/ipykernel_10073/3388262553.py\", line 15, in <module>\n",
      "    cdata = getSDSSVData(cfile)\n",
      "            ^^^^^^^^^^^^^^^^^^^\n",
      "  File \"/tmp/ipykernel_10073/4007893978.py\", line 3, in getSDSSVData\n",
      "    snr = hdul[3].data[\"SNR\"]\n",
      "          ~~~~~~~~~~~~^^^^^^^\n",
      "  File \"/home/petershi/miniconda3/envs/SDSSV/lib/python3.11/site-packages/astropy/io/fits/fitsrec.py\", line 513, in __getitem__\n",
      "    return self.field(key)\n",
      "           ^^^^^^^^^^^^^^^\n",
      "  File \"/home/petershi/miniconda3/envs/SDSSV/lib/python3.11/site-packages/astropy/io/fits/fitsrec.py\", line 695, in field\n",
      "    column = self.columns[key]\n",
      "             ~~~~~~~~~~~~^^^^^\n",
      "  File \"/home/petershi/miniconda3/envs/SDSSV/lib/python3.11/site-packages/astropy/io/fits/column.py\", line 1751, in __getitem__\n",
      "    key = _get_index(self.names, key)\n",
      "          ^^^^^^^^^^^^^^^^^^^^^^^^^^^\n",
      "  File \"/home/petershi/miniconda3/envs/SDSSV/lib/python3.11/site-packages/astropy/io/fits/column.py\", line 2151, in _get_index\n",
      "    raise KeyError(f\"Key '{key}' does not exist.\")\n",
      "KeyError: \"Key 'SNR' does not exist.\"\n",
      "\n"
     ]
    },
    {
     "name": "stderr",
     "output_type": "stream",
     "text": [
      " 76%|███████▋  | 117404/153700 [10:15:24<3:40:30,  2.74it/s]"
     ]
    },
    {
     "name": "stdout",
     "output_type": "stream",
     "text": [
      "File 27021598796173792 not found in /yngve_data/sdssv/ipl-2/spectro/astra/0.3.0/v6_0_9-1.0/spectra/star\n"
     ]
    },
    {
     "name": "stderr",
     "output_type": "stream",
     "text": [
      " 76%|███████▋  | 117566/153700 [10:16:10<3:59:24,  2.52it/s]"
     ]
    },
    {
     "name": "stdout",
     "output_type": "stream",
     "text": [
      "File 27021598796806903 not found in /yngve_data/sdssv/ipl-2/spectro/astra/0.3.0/v6_0_9-1.0/spectra/star\n"
     ]
    },
    {
     "name": "stderr",
     "output_type": "stream",
     "text": [
      " 76%|███████▋  | 117578/153700 [10:16:14<3:52:20,  2.59it/s]"
     ]
    },
    {
     "name": "stdout",
     "output_type": "stream",
     "text": [
      "File 27021598796823163 not found in /yngve_data/sdssv/ipl-2/spectro/astra/0.3.0/v6_0_9-1.0/spectra/star\n"
     ]
    },
    {
     "name": "stderr",
     "output_type": "stream",
     "text": [
      " 77%|███████▋  | 117690/153700 [10:16:44<3:19:07,  3.01it/s]"
     ]
    },
    {
     "name": "stdout",
     "output_type": "stream",
     "text": [
      "File 27021598797730061 not found in /yngve_data/sdssv/ipl-2/spectro/astra/0.3.0/v6_0_9-1.0/spectra/star\n"
     ]
    },
    {
     "name": "stderr",
     "output_type": "stream",
     "text": [
      " 77%|███████▋  | 117699/153700 [10:16:46<3:06:31,  3.22it/s]"
     ]
    },
    {
     "name": "stdout",
     "output_type": "stream",
     "text": [
      "File 27021598797740579 not found in /yngve_data/sdssv/ipl-2/spectro/astra/0.3.0/v6_0_9-1.0/spectra/star\n"
     ]
    },
    {
     "name": "stderr",
     "output_type": "stream",
     "text": [
      " 77%|███████▋  | 117726/153700 [10:16:54<2:46:09,  3.61it/s]"
     ]
    },
    {
     "name": "stdout",
     "output_type": "stream",
     "text": [
      "File 27021598797791275 not found in /yngve_data/sdssv/ipl-2/spectro/astra/0.3.0/v6_0_9-1.0/spectra/star\n"
     ]
    },
    {
     "name": "stderr",
     "output_type": "stream",
     "text": [
      " 77%|███████▋  | 117727/153700 [10:16:54<3:14:27,  3.08it/s]"
     ]
    },
    {
     "name": "stdout",
     "output_type": "stream",
     "text": [
      "File 27021598797792040 not found in /yngve_data/sdssv/ipl-2/spectro/astra/0.3.0/v6_0_9-1.0/spectra/star\n"
     ]
    },
    {
     "name": "stderr",
     "output_type": "stream",
     "text": [
      " 77%|███████▋  | 117744/153700 [10:16:58<1:44:45,  5.72it/s]"
     ]
    },
    {
     "name": "stdout",
     "output_type": "stream",
     "text": [
      "File 27021598797870660 not found in /yngve_data/sdssv/ipl-2/spectro/astra/0.3.0/v6_0_9-1.0/spectra/star\n"
     ]
    },
    {
     "name": "stderr",
     "output_type": "stream",
     "text": [
      " 77%|███████▋  | 118010/153700 [10:18:16<4:30:10,  2.20it/s]"
     ]
    },
    {
     "name": "stdout",
     "output_type": "stream",
     "text": [
      "File 27021598800077040 not found in /yngve_data/sdssv/ipl-2/spectro/astra/0.3.0/v6_0_9-1.0/spectra/star\n"
     ]
    },
    {
     "name": "stderr",
     "output_type": "stream",
     "text": [
      " 77%|███████▋  | 118084/153700 [10:18:38<3:50:31,  2.57it/s]"
     ]
    },
    {
     "name": "stdout",
     "output_type": "stream",
     "text": [
      "File 27021598800489541 not found in /yngve_data/sdssv/ipl-2/spectro/astra/0.3.0/v6_0_9-1.0/spectra/star\n"
     ]
    },
    {
     "name": "stderr",
     "output_type": "stream",
     "text": [
      " 77%|███████▋  | 118194/153700 [10:19:14<3:02:04,  3.25it/s]"
     ]
    },
    {
     "name": "stdout",
     "output_type": "stream",
     "text": [
      "Traceback (most recent call last):\n",
      "  File \"/home/petershi/miniconda3/envs/SDSSV/lib/python3.11/site-packages/astropy/io/fits/column.py\", line 2142, in _get_index\n",
      "    indx = names.index(key.rstrip())\n",
      "           ^^^^^^^^^^^^^^^^^^^^^^^^^\n",
      "ValueError: 'SNR' is not in list\n",
      "\n",
      "During handling of the above exception, another exception occurred:\n",
      "\n",
      "Traceback (most recent call last):\n",
      "  File \"/tmp/ipykernel_10073/3388262553.py\", line 15, in <module>\n",
      "    cdata = getSDSSVData(cfile)\n",
      "            ^^^^^^^^^^^^^^^^^^^\n",
      "  File \"/tmp/ipykernel_10073/4007893978.py\", line 3, in getSDSSVData\n",
      "    snr = hdul[3].data[\"SNR\"]\n",
      "          ~~~~~~~~~~~~^^^^^^^\n",
      "  File \"/home/petershi/miniconda3/envs/SDSSV/lib/python3.11/site-packages/astropy/io/fits/fitsrec.py\", line 513, in __getitem__\n",
      "    return self.field(key)\n",
      "           ^^^^^^^^^^^^^^^\n",
      "  File \"/home/petershi/miniconda3/envs/SDSSV/lib/python3.11/site-packages/astropy/io/fits/fitsrec.py\", line 695, in field\n",
      "    column = self.columns[key]\n",
      "             ~~~~~~~~~~~~^^^^^\n",
      "  File \"/home/petershi/miniconda3/envs/SDSSV/lib/python3.11/site-packages/astropy/io/fits/column.py\", line 1751, in __getitem__\n",
      "    key = _get_index(self.names, key)\n",
      "          ^^^^^^^^^^^^^^^^^^^^^^^^^^^\n",
      "  File \"/home/petershi/miniconda3/envs/SDSSV/lib/python3.11/site-packages/astropy/io/fits/column.py\", line 2151, in _get_index\n",
      "    raise KeyError(f\"Key '{key}' does not exist.\")\n",
      "KeyError: \"Key 'SNR' does not exist.\"\n",
      "\n"
     ]
    },
    {
     "name": "stderr",
     "output_type": "stream",
     "text": [
      " 77%|███████▋  | 118208/153700 [10:19:19<3:59:49,  2.47it/s]"
     ]
    },
    {
     "name": "stdout",
     "output_type": "stream",
     "text": [
      "File 27021598801673440 not found in /yngve_data/sdssv/ipl-2/spectro/astra/0.3.0/v6_0_9-1.0/spectra/star\n"
     ]
    },
    {
     "name": "stderr",
     "output_type": "stream",
     "text": [
      " 77%|███████▋  | 118218/153700 [10:19:23<4:02:53,  2.43it/s]"
     ]
    },
    {
     "name": "stdout",
     "output_type": "stream",
     "text": [
      "File 27021598801720791 not found in /yngve_data/sdssv/ipl-2/spectro/astra/0.3.0/v6_0_9-1.0/spectra/star\n"
     ]
    },
    {
     "name": "stderr",
     "output_type": "stream",
     "text": [
      " 77%|███████▋  | 118258/153700 [10:19:36<3:47:24,  2.60it/s]"
     ]
    },
    {
     "name": "stdout",
     "output_type": "stream",
     "text": [
      "File 27021598801897248 not found in /yngve_data/sdssv/ipl-2/spectro/astra/0.3.0/v6_0_9-1.0/spectra/star\n"
     ]
    },
    {
     "name": "stderr",
     "output_type": "stream",
     "text": [
      " 77%|███████▋  | 118275/153700 [10:19:41<3:22:23,  2.92it/s]"
     ]
    },
    {
     "name": "stdout",
     "output_type": "stream",
     "text": [
      "File 27021598801962944 not found in /yngve_data/sdssv/ipl-2/spectro/astra/0.3.0/v6_0_9-1.0/spectra/star\n"
     ]
    },
    {
     "name": "stderr",
     "output_type": "stream",
     "text": [
      " 77%|███████▋  | 118446/153700 [10:20:32<2:29:54,  3.92it/s]"
     ]
    },
    {
     "name": "stdout",
     "output_type": "stream",
     "text": [
      "File 27021598802597257 not found in /yngve_data/sdssv/ipl-2/spectro/astra/0.3.0/v6_0_9-1.0/spectra/star\n"
     ]
    },
    {
     "name": "stderr",
     "output_type": "stream",
     "text": [
      " 77%|███████▋  | 118679/153700 [10:21:37<3:25:23,  2.84it/s]"
     ]
    },
    {
     "name": "stdout",
     "output_type": "stream",
     "text": [
      "File 27021598803492263 not found in /yngve_data/sdssv/ipl-2/spectro/astra/0.3.0/v6_0_9-1.0/spectra/star\n"
     ]
    },
    {
     "name": "stderr",
     "output_type": "stream",
     "text": [
      " 77%|███████▋  | 118700/153700 [10:21:45<3:58:37,  2.44it/s]"
     ]
    },
    {
     "name": "stdout",
     "output_type": "stream",
     "text": [
      "Traceback (most recent call last):\n",
      "  File \"/home/petershi/miniconda3/envs/SDSSV/lib/python3.11/site-packages/astropy/io/fits/column.py\", line 2142, in _get_index\n",
      "    indx = names.index(key.rstrip())\n",
      "           ^^^^^^^^^^^^^^^^^^^^^^^^^\n",
      "ValueError: 'SNR' is not in list\n",
      "\n",
      "During handling of the above exception, another exception occurred:\n",
      "\n",
      "Traceback (most recent call last):\n",
      "  File \"/tmp/ipykernel_10073/3388262553.py\", line 15, in <module>\n",
      "    cdata = getSDSSVData(cfile)\n",
      "            ^^^^^^^^^^^^^^^^^^^\n",
      "  File \"/tmp/ipykernel_10073/4007893978.py\", line 3, in getSDSSVData\n",
      "    snr = hdul[3].data[\"SNR\"]\n",
      "          ~~~~~~~~~~~~^^^^^^^\n",
      "  File \"/home/petershi/miniconda3/envs/SDSSV/lib/python3.11/site-packages/astropy/io/fits/fitsrec.py\", line 513, in __getitem__\n",
      "    return self.field(key)\n",
      "           ^^^^^^^^^^^^^^^\n",
      "  File \"/home/petershi/miniconda3/envs/SDSSV/lib/python3.11/site-packages/astropy/io/fits/fitsrec.py\", line 695, in field\n",
      "    column = self.columns[key]\n",
      "             ~~~~~~~~~~~~^^^^^\n",
      "  File \"/home/petershi/miniconda3/envs/SDSSV/lib/python3.11/site-packages/astropy/io/fits/column.py\", line 1751, in __getitem__\n",
      "    key = _get_index(self.names, key)\n",
      "          ^^^^^^^^^^^^^^^^^^^^^^^^^^^\n",
      "  File \"/home/petershi/miniconda3/envs/SDSSV/lib/python3.11/site-packages/astropy/io/fits/column.py\", line 2151, in _get_index\n",
      "    raise KeyError(f\"Key '{key}' does not exist.\")\n",
      "KeyError: \"Key 'SNR' does not exist.\"\n",
      "\n"
     ]
    },
    {
     "name": "stderr",
     "output_type": "stream",
     "text": [
      " 77%|███████▋  | 118706/153700 [10:21:46<3:06:21,  3.13it/s]"
     ]
    },
    {
     "name": "stdout",
     "output_type": "stream",
     "text": [
      "File 27021598803638849 not found in /yngve_data/sdssv/ipl-2/spectro/astra/0.3.0/v6_0_9-1.0/spectra/star\n"
     ]
    },
    {
     "name": "stderr",
     "output_type": "stream",
     "text": [
      " 77%|███████▋  | 118760/153700 [10:22:03<3:42:41,  2.61it/s]"
     ]
    },
    {
     "name": "stdout",
     "output_type": "stream",
     "text": [
      "File 27021598803762666 not found in /yngve_data/sdssv/ipl-2/spectro/astra/0.3.0/v6_0_9-1.0/spectra/star\n"
     ]
    },
    {
     "name": "stderr",
     "output_type": "stream",
     "text": [
      " 77%|███████▋  | 118762/153700 [10:22:04<3:22:51,  2.87it/s]"
     ]
    },
    {
     "name": "stdout",
     "output_type": "stream",
     "text": [
      "File 27021598803769192 not found in /yngve_data/sdssv/ipl-2/spectro/astra/0.3.0/v6_0_9-1.0/spectra/star\n"
     ]
    },
    {
     "name": "stderr",
     "output_type": "stream",
     "text": [
      " 77%|███████▋  | 118796/153700 [10:22:13<3:05:42,  3.13it/s]"
     ]
    },
    {
     "name": "stdout",
     "output_type": "stream",
     "text": [
      "File 27021598804088979 not found in /yngve_data/sdssv/ipl-2/spectro/astra/0.3.0/v6_0_9-1.0/spectra/star\n"
     ]
    },
    {
     "name": "stderr",
     "output_type": "stream",
     "text": [
      " 78%|███████▊  | 119549/153700 [10:25:49<2:52:59,  3.29it/s]"
     ]
    },
    {
     "name": "stdout",
     "output_type": "stream",
     "text": [
      "File 27021598829855141 not found in /yngve_data/sdssv/ipl-2/spectro/astra/0.3.0/v6_0_9-1.0/spectra/star\n"
     ]
    },
    {
     "name": "stderr",
     "output_type": "stream",
     "text": [
      " 78%|███████▊  | 119576/153700 [10:25:57<1:57:43,  4.83it/s]"
     ]
    },
    {
     "name": "stdout",
     "output_type": "stream",
     "text": [
      "File 27021598830334008 not found in /yngve_data/sdssv/ipl-2/spectro/astra/0.3.0/v6_0_9-1.0/spectra/star\n"
     ]
    },
    {
     "name": "stderr",
     "output_type": "stream",
     "text": [
      " 78%|███████▊  | 119813/153700 [10:27:09<3:26:40,  2.73it/s]"
     ]
    },
    {
     "name": "stdout",
     "output_type": "stream",
     "text": [
      "File 27021598834359953 not found in /yngve_data/sdssv/ipl-2/spectro/astra/0.3.0/v6_0_9-1.0/spectra/star\n"
     ]
    },
    {
     "name": "stderr",
     "output_type": "stream",
     "text": [
      " 78%|███████▊  | 119889/153700 [10:27:31<3:42:45,  2.53it/s]"
     ]
    },
    {
     "name": "stdout",
     "output_type": "stream",
     "text": [
      "File 27021598838910372 not found in /yngve_data/sdssv/ipl-2/spectro/astra/0.3.0/v6_0_9-1.0/spectra/star\n"
     ]
    },
    {
     "name": "stderr",
     "output_type": "stream",
     "text": [
      " 78%|███████▊  | 119916/153700 [10:27:38<2:04:14,  4.53it/s]"
     ]
    },
    {
     "name": "stdout",
     "output_type": "stream",
     "text": [
      "File 27021598838975819 not found in /yngve_data/sdssv/ipl-2/spectro/astra/0.3.0/v6_0_9-1.0/spectra/star\n"
     ]
    },
    {
     "name": "stderr",
     "output_type": "stream",
     "text": [
      " 78%|███████▊  | 119963/153700 [10:27:51<3:15:06,  2.88it/s]"
     ]
    },
    {
     "name": "stdout",
     "output_type": "stream",
     "text": [
      "File 27021598839789357 not found in /yngve_data/sdssv/ipl-2/spectro/astra/0.3.0/v6_0_9-1.0/spectra/star\n"
     ]
    },
    {
     "name": "stderr",
     "output_type": "stream",
     "text": [
      " 78%|███████▊  | 120053/153700 [10:28:17<2:32:42,  3.67it/s]"
     ]
    },
    {
     "name": "stdout",
     "output_type": "stream",
     "text": [
      "File 27021598840011878 not found in /yngve_data/sdssv/ipl-2/spectro/astra/0.3.0/v6_0_9-1.0/spectra/star\n"
     ]
    },
    {
     "name": "stderr",
     "output_type": "stream",
     "text": [
      " 78%|███████▊  | 120105/153700 [10:28:33<3:50:46,  2.43it/s]"
     ]
    },
    {
     "name": "stdout",
     "output_type": "stream",
     "text": [
      "File 27021598840441369 not found in /yngve_data/sdssv/ipl-2/spectro/astra/0.3.0/v6_0_9-1.0/spectra/star\n"
     ]
    },
    {
     "name": "stderr",
     "output_type": "stream",
     "text": [
      " 78%|███████▊  | 120183/153700 [10:28:55<3:08:28,  2.96it/s]"
     ]
    },
    {
     "name": "stdout",
     "output_type": "stream",
     "text": [
      "File 27021598843234576 not found in /yngve_data/sdssv/ipl-2/spectro/astra/0.3.0/v6_0_9-1.0/spectra/star\n"
     ]
    },
    {
     "name": "stderr",
     "output_type": "stream",
     "text": [
      " 78%|███████▊  | 120253/153700 [10:29:18<3:14:02,  2.87it/s]"
     ]
    },
    {
     "name": "stdout",
     "output_type": "stream",
     "text": [
      "File 27021598843637849 not found in /yngve_data/sdssv/ipl-2/spectro/astra/0.3.0/v6_0_9-1.0/spectra/star\n"
     ]
    },
    {
     "name": "stderr",
     "output_type": "stream",
     "text": [
      " 78%|███████▊  | 120299/153700 [10:29:30<2:52:29,  3.23it/s]"
     ]
    },
    {
     "name": "stdout",
     "output_type": "stream",
     "text": [
      "File 27021598843780434 not found in /yngve_data/sdssv/ipl-2/spectro/astra/0.3.0/v6_0_9-1.0/spectra/star\n"
     ]
    },
    {
     "name": "stderr",
     "output_type": "stream",
     "text": [
      " 78%|███████▊  | 120387/153700 [10:29:54<2:44:26,  3.38it/s]"
     ]
    },
    {
     "name": "stdout",
     "output_type": "stream",
     "text": [
      "File 27021598843978062 not found in /yngve_data/sdssv/ipl-2/spectro/astra/0.3.0/v6_0_9-1.0/spectra/star\n"
     ]
    },
    {
     "name": "stderr",
     "output_type": "stream",
     "text": [
      " 78%|███████▊  | 120452/153700 [10:30:15<3:20:18,  2.77it/s]"
     ]
    },
    {
     "name": "stdout",
     "output_type": "stream",
     "text": [
      "File 27021598844133223 not found in /yngve_data/sdssv/ipl-2/spectro/astra/0.3.0/v6_0_9-1.0/spectra/star\n"
     ]
    },
    {
     "name": "stderr",
     "output_type": "stream",
     "text": [
      " 78%|███████▊  | 120562/153700 [10:30:47<2:25:36,  3.79it/s]"
     ]
    },
    {
     "name": "stdout",
     "output_type": "stream",
     "text": [
      "File 27021598844710821 not found in /yngve_data/sdssv/ipl-2/spectro/astra/0.3.0/v6_0_9-1.0/spectra/star\n"
     ]
    },
    {
     "name": "stderr",
     "output_type": "stream",
     "text": [
      " 78%|███████▊  | 120570/153700 [10:30:50<2:53:33,  3.18it/s]"
     ]
    },
    {
     "name": "stdout",
     "output_type": "stream",
     "text": [
      "File 27021598844734059 not found in /yngve_data/sdssv/ipl-2/spectro/astra/0.3.0/v6_0_9-1.0/spectra/star\n"
     ]
    },
    {
     "name": "stderr",
     "output_type": "stream",
     "text": [
      " 79%|███████▊  | 120736/153700 [10:31:37<1:52:02,  4.90it/s]"
     ]
    },
    {
     "name": "stdout",
     "output_type": "stream",
     "text": [
      "Traceback (most recent call last):\n",
      "  File \"/home/petershi/miniconda3/envs/SDSSV/lib/python3.11/site-packages/astropy/io/fits/column.py\", line 2142, in _get_index\n",
      "    indx = names.index(key.rstrip())\n",
      "           ^^^^^^^^^^^^^^^^^^^^^^^^^\n",
      "ValueError: 'SNR' is not in list\n",
      "\n",
      "During handling of the above exception, another exception occurred:\n",
      "\n",
      "Traceback (most recent call last):\n",
      "  File \"/tmp/ipykernel_10073/3388262553.py\", line 15, in <module>\n",
      "    cdata = getSDSSVData(cfile)\n",
      "            ^^^^^^^^^^^^^^^^^^^\n",
      "  File \"/tmp/ipykernel_10073/4007893978.py\", line 3, in getSDSSVData\n",
      "    snr = hdul[3].data[\"SNR\"]\n",
      "          ~~~~~~~~~~~~^^^^^^^\n",
      "  File \"/home/petershi/miniconda3/envs/SDSSV/lib/python3.11/site-packages/astropy/io/fits/fitsrec.py\", line 513, in __getitem__\n",
      "    return self.field(key)\n",
      "           ^^^^^^^^^^^^^^^\n",
      "  File \"/home/petershi/miniconda3/envs/SDSSV/lib/python3.11/site-packages/astropy/io/fits/fitsrec.py\", line 695, in field\n",
      "    column = self.columns[key]\n",
      "             ~~~~~~~~~~~~^^^^^\n",
      "  File \"/home/petershi/miniconda3/envs/SDSSV/lib/python3.11/site-packages/astropy/io/fits/column.py\", line 1751, in __getitem__\n",
      "    key = _get_index(self.names, key)\n",
      "          ^^^^^^^^^^^^^^^^^^^^^^^^^^^\n",
      "  File \"/home/petershi/miniconda3/envs/SDSSV/lib/python3.11/site-packages/astropy/io/fits/column.py\", line 2151, in _get_index\n",
      "    raise KeyError(f\"Key '{key}' does not exist.\")\n",
      "KeyError: \"Key 'SNR' does not exist.\"\n",
      "\n"
     ]
    },
    {
     "name": "stderr",
     "output_type": "stream",
     "text": [
      " 79%|███████▊  | 120844/153700 [10:32:10<2:45:57,  3.30it/s]"
     ]
    },
    {
     "name": "stdout",
     "output_type": "stream",
     "text": [
      "Traceback (most recent call last):\n",
      "  File \"/home/petershi/miniconda3/envs/SDSSV/lib/python3.11/site-packages/astropy/io/fits/column.py\", line 2142, in _get_index\n",
      "    indx = names.index(key.rstrip())\n",
      "           ^^^^^^^^^^^^^^^^^^^^^^^^^\n",
      "ValueError: 'SNR' is not in list\n",
      "\n",
      "During handling of the above exception, another exception occurred:\n",
      "\n",
      "Traceback (most recent call last):\n",
      "  File \"/tmp/ipykernel_10073/3388262553.py\", line 15, in <module>\n",
      "    cdata = getSDSSVData(cfile)\n",
      "            ^^^^^^^^^^^^^^^^^^^\n",
      "  File \"/tmp/ipykernel_10073/4007893978.py\", line 3, in getSDSSVData\n",
      "    snr = hdul[3].data[\"SNR\"]\n",
      "          ~~~~~~~~~~~~^^^^^^^\n",
      "  File \"/home/petershi/miniconda3/envs/SDSSV/lib/python3.11/site-packages/astropy/io/fits/fitsrec.py\", line 513, in __getitem__\n",
      "    return self.field(key)\n",
      "           ^^^^^^^^^^^^^^^\n",
      "  File \"/home/petershi/miniconda3/envs/SDSSV/lib/python3.11/site-packages/astropy/io/fits/fitsrec.py\", line 695, in field\n",
      "    column = self.columns[key]\n",
      "             ~~~~~~~~~~~~^^^^^\n",
      "  File \"/home/petershi/miniconda3/envs/SDSSV/lib/python3.11/site-packages/astropy/io/fits/column.py\", line 1751, in __getitem__\n",
      "    key = _get_index(self.names, key)\n",
      "          ^^^^^^^^^^^^^^^^^^^^^^^^^^^\n",
      "  File \"/home/petershi/miniconda3/envs/SDSSV/lib/python3.11/site-packages/astropy/io/fits/column.py\", line 2151, in _get_index\n",
      "    raise KeyError(f\"Key '{key}' does not exist.\")\n",
      "KeyError: \"Key 'SNR' does not exist.\"\n",
      "\n"
     ]
    },
    {
     "name": "stderr",
     "output_type": "stream",
     "text": [
      " 79%|███████▊  | 120914/153700 [10:32:28<1:59:33,  4.57it/s]"
     ]
    },
    {
     "name": "stdout",
     "output_type": "stream",
     "text": [
      "Traceback (most recent call last):\n",
      "  File \"/home/petershi/miniconda3/envs/SDSSV/lib/python3.11/site-packages/astropy/io/fits/column.py\", line 2142, in _get_index\n",
      "    indx = names.index(key.rstrip())\n",
      "           ^^^^^^^^^^^^^^^^^^^^^^^^^\n",
      "ValueError: 'SNR' is not in list\n",
      "\n",
      "During handling of the above exception, another exception occurred:\n",
      "\n",
      "Traceback (most recent call last):\n",
      "  File \"/tmp/ipykernel_10073/3388262553.py\", line 15, in <module>\n",
      "    cdata = getSDSSVData(cfile)\n",
      "            ^^^^^^^^^^^^^^^^^^^\n",
      "  File \"/tmp/ipykernel_10073/4007893978.py\", line 3, in getSDSSVData\n",
      "    snr = hdul[3].data[\"SNR\"]\n",
      "          ~~~~~~~~~~~~^^^^^^^\n",
      "  File \"/home/petershi/miniconda3/envs/SDSSV/lib/python3.11/site-packages/astropy/io/fits/fitsrec.py\", line 513, in __getitem__\n",
      "    return self.field(key)\n",
      "           ^^^^^^^^^^^^^^^\n",
      "  File \"/home/petershi/miniconda3/envs/SDSSV/lib/python3.11/site-packages/astropy/io/fits/fitsrec.py\", line 695, in field\n",
      "    column = self.columns[key]\n",
      "             ~~~~~~~~~~~~^^^^^\n",
      "  File \"/home/petershi/miniconda3/envs/SDSSV/lib/python3.11/site-packages/astropy/io/fits/column.py\", line 1751, in __getitem__\n",
      "    key = _get_index(self.names, key)\n",
      "          ^^^^^^^^^^^^^^^^^^^^^^^^^^^\n",
      "  File \"/home/petershi/miniconda3/envs/SDSSV/lib/python3.11/site-packages/astropy/io/fits/column.py\", line 2151, in _get_index\n",
      "    raise KeyError(f\"Key '{key}' does not exist.\")\n",
      "KeyError: \"Key 'SNR' does not exist.\"\n",
      "\n"
     ]
    },
    {
     "name": "stderr",
     "output_type": "stream",
     "text": [
      " 79%|███████▊  | 120937/153700 [10:32:34<3:00:15,  3.03it/s]"
     ]
    },
    {
     "name": "stdout",
     "output_type": "stream",
     "text": [
      "File 27021598847240439 not found in /yngve_data/sdssv/ipl-2/spectro/astra/0.3.0/v6_0_9-1.0/spectra/star\n"
     ]
    },
    {
     "name": "stderr",
     "output_type": "stream",
     "text": [
      " 79%|███████▊  | 120946/153700 [10:32:37<2:33:03,  3.57it/s]"
     ]
    },
    {
     "name": "stdout",
     "output_type": "stream",
     "text": [
      "File 27021598847329563 not found in /yngve_data/sdssv/ipl-2/spectro/astra/0.3.0/v6_0_9-1.0/spectra/star\n"
     ]
    },
    {
     "name": "stderr",
     "output_type": "stream",
     "text": [
      " 79%|███████▊  | 120958/153700 [10:32:40<2:08:42,  4.24it/s]"
     ]
    },
    {
     "name": "stdout",
     "output_type": "stream",
     "text": [
      "File 27021598850166737 not found in /yngve_data/sdssv/ipl-2/spectro/astra/0.3.0/v6_0_9-1.0/spectra/star\n"
     ]
    },
    {
     "name": "stderr",
     "output_type": "stream",
     "text": [
      " 79%|███████▉  | 121182/153700 [10:33:42<2:24:46,  3.74it/s]"
     ]
    },
    {
     "name": "stdout",
     "output_type": "stream",
     "text": [
      "File 27021598851608236 not found in /yngve_data/sdssv/ipl-2/spectro/astra/0.3.0/v6_0_9-1.0/spectra/star\n"
     ]
    },
    {
     "name": "stderr",
     "output_type": "stream",
     "text": [
      " 79%|███████▉  | 121332/153700 [10:34:26<3:52:40,  2.32it/s]"
     ]
    },
    {
     "name": "stdout",
     "output_type": "stream",
     "text": [
      "File 27021598855082445 not found in /yngve_data/sdssv/ipl-2/spectro/astra/0.3.0/v6_0_9-1.0/spectra/star\n"
     ]
    },
    {
     "name": "stderr",
     "output_type": "stream",
     "text": [
      " 79%|███████▉  | 121528/153700 [10:35:20<3:31:08,  2.54it/s]"
     ]
    },
    {
     "name": "stdout",
     "output_type": "stream",
     "text": [
      "File 27021598856072543 not found in /yngve_data/sdssv/ipl-2/spectro/astra/0.3.0/v6_0_9-1.0/spectra/star\n"
     ]
    },
    {
     "name": "stderr",
     "output_type": "stream",
     "text": [
      " 79%|███████▉  | 121707/153700 [10:36:08<2:10:14,  4.09it/s]"
     ]
    },
    {
     "name": "stdout",
     "output_type": "stream",
     "text": [
      "Traceback (most recent call last):\n",
      "  File \"/home/petershi/miniconda3/envs/SDSSV/lib/python3.11/site-packages/astropy/io/fits/column.py\", line 2142, in _get_index\n",
      "    indx = names.index(key.rstrip())\n",
      "           ^^^^^^^^^^^^^^^^^^^^^^^^^\n",
      "ValueError: 'SNR' is not in list\n",
      "\n",
      "During handling of the above exception, another exception occurred:\n",
      "\n",
      "Traceback (most recent call last):\n",
      "  File \"/tmp/ipykernel_10073/3388262553.py\", line 15, in <module>\n",
      "    cdata = getSDSSVData(cfile)\n",
      "            ^^^^^^^^^^^^^^^^^^^\n",
      "  File \"/tmp/ipykernel_10073/4007893978.py\", line 3, in getSDSSVData\n",
      "    snr = hdul[3].data[\"SNR\"]\n",
      "          ~~~~~~~~~~~~^^^^^^^\n",
      "  File \"/home/petershi/miniconda3/envs/SDSSV/lib/python3.11/site-packages/astropy/io/fits/fitsrec.py\", line 513, in __getitem__\n",
      "    return self.field(key)\n",
      "           ^^^^^^^^^^^^^^^\n",
      "  File \"/home/petershi/miniconda3/envs/SDSSV/lib/python3.11/site-packages/astropy/io/fits/fitsrec.py\", line 695, in field\n",
      "    column = self.columns[key]\n",
      "             ~~~~~~~~~~~~^^^^^\n",
      "  File \"/home/petershi/miniconda3/envs/SDSSV/lib/python3.11/site-packages/astropy/io/fits/column.py\", line 1751, in __getitem__\n",
      "    key = _get_index(self.names, key)\n",
      "          ^^^^^^^^^^^^^^^^^^^^^^^^^^^\n",
      "  File \"/home/petershi/miniconda3/envs/SDSSV/lib/python3.11/site-packages/astropy/io/fits/column.py\", line 2151, in _get_index\n",
      "    raise KeyError(f\"Key '{key}' does not exist.\")\n",
      "KeyError: \"Key 'SNR' does not exist.\"\n",
      "\n"
     ]
    },
    {
     "name": "stderr",
     "output_type": "stream",
     "text": [
      " 79%|███████▉  | 121729/153700 [10:36:15<2:42:35,  3.28it/s]"
     ]
    },
    {
     "name": "stdout",
     "output_type": "stream",
     "text": [
      "File 27021598857312608 not found in /yngve_data/sdssv/ipl-2/spectro/astra/0.3.0/v6_0_9-1.0/spectra/star\n"
     ]
    },
    {
     "name": "stderr",
     "output_type": "stream",
     "text": [
      " 79%|███████▉  | 121764/153700 [10:36:26<2:18:47,  3.84it/s]"
     ]
    },
    {
     "name": "stdout",
     "output_type": "stream",
     "text": [
      "File 27021598857672222 not found in /yngve_data/sdssv/ipl-2/spectro/astra/0.3.0/v6_0_9-1.0/spectra/star\n"
     ]
    },
    {
     "name": "stderr",
     "output_type": "stream",
     "text": [
      " 79%|███████▉  | 121802/153700 [10:36:38<3:13:30,  2.75it/s]"
     ]
    },
    {
     "name": "stdout",
     "output_type": "stream",
     "text": [
      "Traceback (most recent call last):\n",
      "  File \"/home/petershi/miniconda3/envs/SDSSV/lib/python3.11/site-packages/astropy/io/fits/column.py\", line 2142, in _get_index\n",
      "    indx = names.index(key.rstrip())\n",
      "           ^^^^^^^^^^^^^^^^^^^^^^^^^\n",
      "ValueError: 'SNR' is not in list\n",
      "\n",
      "During handling of the above exception, another exception occurred:\n",
      "\n",
      "Traceback (most recent call last):\n",
      "  File \"/tmp/ipykernel_10073/3388262553.py\", line 15, in <module>\n",
      "    cdata = getSDSSVData(cfile)\n",
      "            ^^^^^^^^^^^^^^^^^^^\n",
      "  File \"/tmp/ipykernel_10073/4007893978.py\", line 3, in getSDSSVData\n",
      "    snr = hdul[3].data[\"SNR\"]\n",
      "          ~~~~~~~~~~~~^^^^^^^\n",
      "  File \"/home/petershi/miniconda3/envs/SDSSV/lib/python3.11/site-packages/astropy/io/fits/fitsrec.py\", line 513, in __getitem__\n",
      "    return self.field(key)\n",
      "           ^^^^^^^^^^^^^^^\n",
      "  File \"/home/petershi/miniconda3/envs/SDSSV/lib/python3.11/site-packages/astropy/io/fits/fitsrec.py\", line 695, in field\n",
      "    column = self.columns[key]\n",
      "             ~~~~~~~~~~~~^^^^^\n",
      "  File \"/home/petershi/miniconda3/envs/SDSSV/lib/python3.11/site-packages/astropy/io/fits/column.py\", line 1751, in __getitem__\n",
      "    key = _get_index(self.names, key)\n",
      "          ^^^^^^^^^^^^^^^^^^^^^^^^^^^\n",
      "  File \"/home/petershi/miniconda3/envs/SDSSV/lib/python3.11/site-packages/astropy/io/fits/column.py\", line 2151, in _get_index\n",
      "    raise KeyError(f\"Key '{key}' does not exist.\")\n",
      "KeyError: \"Key 'SNR' does not exist.\"\n",
      "\n"
     ]
    },
    {
     "name": "stderr",
     "output_type": "stream",
     "text": [
      " 79%|███████▉  | 121866/153700 [10:36:57<2:01:57,  4.35it/s]"
     ]
    },
    {
     "name": "stdout",
     "output_type": "stream",
     "text": [
      "File 27021598858920226 not found in /yngve_data/sdssv/ipl-2/spectro/astra/0.3.0/v6_0_9-1.0/spectra/star\n"
     ]
    },
    {
     "name": "stderr",
     "output_type": "stream",
     "text": [
      " 79%|███████▉  | 121955/153700 [10:37:22<1:46:43,  4.96it/s]"
     ]
    },
    {
     "name": "stdout",
     "output_type": "stream",
     "text": [
      "Traceback (most recent call last):\n",
      "  File \"/home/petershi/miniconda3/envs/SDSSV/lib/python3.11/site-packages/astropy/io/fits/column.py\", line 2142, in _get_index\n",
      "    indx = names.index(key.rstrip())\n",
      "           ^^^^^^^^^^^^^^^^^^^^^^^^^\n",
      "ValueError: 'SNR' is not in list\n",
      "\n",
      "During handling of the above exception, another exception occurred:\n",
      "\n",
      "Traceback (most recent call last):\n",
      "  File \"/tmp/ipykernel_10073/3388262553.py\", line 15, in <module>\n",
      "    cdata = getSDSSVData(cfile)\n",
      "            ^^^^^^^^^^^^^^^^^^^\n",
      "  File \"/tmp/ipykernel_10073/4007893978.py\", line 3, in getSDSSVData\n",
      "    snr = hdul[3].data[\"SNR\"]\n",
      "          ~~~~~~~~~~~~^^^^^^^\n",
      "  File \"/home/petershi/miniconda3/envs/SDSSV/lib/python3.11/site-packages/astropy/io/fits/fitsrec.py\", line 513, in __getitem__\n",
      "    return self.field(key)\n",
      "           ^^^^^^^^^^^^^^^\n",
      "  File \"/home/petershi/miniconda3/envs/SDSSV/lib/python3.11/site-packages/astropy/io/fits/fitsrec.py\", line 695, in field\n",
      "    column = self.columns[key]\n",
      "             ~~~~~~~~~~~~^^^^^\n",
      "  File \"/home/petershi/miniconda3/envs/SDSSV/lib/python3.11/site-packages/astropy/io/fits/column.py\", line 1751, in __getitem__\n",
      "    key = _get_index(self.names, key)\n",
      "          ^^^^^^^^^^^^^^^^^^^^^^^^^^^\n",
      "  File \"/home/petershi/miniconda3/envs/SDSSV/lib/python3.11/site-packages/astropy/io/fits/column.py\", line 2151, in _get_index\n",
      "    raise KeyError(f\"Key '{key}' does not exist.\")\n",
      "KeyError: \"Key 'SNR' does not exist.\"\n",
      "\n"
     ]
    },
    {
     "name": "stderr",
     "output_type": "stream",
     "text": [
      " 79%|███████▉  | 122091/153700 [10:38:01<2:08:18,  4.11it/s]"
     ]
    },
    {
     "name": "stdout",
     "output_type": "stream",
     "text": [
      "Traceback (most recent call last):\n",
      "  File \"/home/petershi/miniconda3/envs/SDSSV/lib/python3.11/site-packages/astropy/io/fits/column.py\", line 2142, in _get_index\n",
      "    indx = names.index(key.rstrip())\n",
      "           ^^^^^^^^^^^^^^^^^^^^^^^^^\n",
      "ValueError: 'SNR' is not in list\n",
      "\n",
      "During handling of the above exception, another exception occurred:\n",
      "\n",
      "Traceback (most recent call last):\n",
      "  File \"/tmp/ipykernel_10073/3388262553.py\", line 15, in <module>\n",
      "    cdata = getSDSSVData(cfile)\n",
      "            ^^^^^^^^^^^^^^^^^^^\n",
      "  File \"/tmp/ipykernel_10073/4007893978.py\", line 3, in getSDSSVData\n",
      "    snr = hdul[3].data[\"SNR\"]\n",
      "          ~~~~~~~~~~~~^^^^^^^\n",
      "  File \"/home/petershi/miniconda3/envs/SDSSV/lib/python3.11/site-packages/astropy/io/fits/fitsrec.py\", line 513, in __getitem__\n",
      "    return self.field(key)\n",
      "           ^^^^^^^^^^^^^^^\n",
      "  File \"/home/petershi/miniconda3/envs/SDSSV/lib/python3.11/site-packages/astropy/io/fits/fitsrec.py\", line 695, in field\n",
      "    column = self.columns[key]\n",
      "             ~~~~~~~~~~~~^^^^^\n",
      "  File \"/home/petershi/miniconda3/envs/SDSSV/lib/python3.11/site-packages/astropy/io/fits/column.py\", line 1751, in __getitem__\n",
      "    key = _get_index(self.names, key)\n",
      "          ^^^^^^^^^^^^^^^^^^^^^^^^^^^\n",
      "  File \"/home/petershi/miniconda3/envs/SDSSV/lib/python3.11/site-packages/astropy/io/fits/column.py\", line 2151, in _get_index\n",
      "    raise KeyError(f\"Key '{key}' does not exist.\")\n",
      "KeyError: \"Key 'SNR' does not exist.\"\n",
      "\n"
     ]
    },
    {
     "name": "stderr",
     "output_type": "stream",
     "text": [
      " 80%|███████▉  | 122240/153700 [10:38:48<2:18:35,  3.78it/s]"
     ]
    },
    {
     "name": "stdout",
     "output_type": "stream",
     "text": [
      "File 27021598862936959 not found in /yngve_data/sdssv/ipl-2/spectro/astra/0.3.0/v6_0_9-1.0/spectra/star\n"
     ]
    },
    {
     "name": "stderr",
     "output_type": "stream",
     "text": [
      " 80%|███████▉  | 122690/153700 [10:40:56<2:38:03,  3.27it/s]"
     ]
    },
    {
     "name": "stdout",
     "output_type": "stream",
     "text": [
      "File 27021598867161303 not found in /yngve_data/sdssv/ipl-2/spectro/astra/0.3.0/v6_0_9-1.0/spectra/star\n"
     ]
    },
    {
     "name": "stderr",
     "output_type": "stream",
     "text": [
      " 80%|███████▉  | 122896/153700 [10:41:52<2:48:36,  3.05it/s]"
     ]
    },
    {
     "name": "stdout",
     "output_type": "stream",
     "text": [
      "File 27021598867895223 not found in /yngve_data/sdssv/ipl-2/spectro/astra/0.3.0/v6_0_9-1.0/spectra/star\n"
     ]
    },
    {
     "name": "stderr",
     "output_type": "stream",
     "text": [
      " 80%|████████  | 123056/153700 [10:42:36<2:52:35,  2.96it/s]"
     ]
    },
    {
     "name": "stdout",
     "output_type": "stream",
     "text": [
      "File 27021598873857135 not found in /yngve_data/sdssv/ipl-2/spectro/astra/0.3.0/v6_0_9-1.0/spectra/star\n"
     ]
    },
    {
     "name": "stderr",
     "output_type": "stream",
     "text": [
      " 80%|████████  | 123284/153700 [10:43:41<2:18:12,  3.67it/s]"
     ]
    },
    {
     "name": "stdout",
     "output_type": "stream",
     "text": [
      "File 27021598874162346 not found in /yngve_data/sdssv/ipl-2/spectro/astra/0.3.0/v6_0_9-1.0/spectra/star\n"
     ]
    },
    {
     "name": "stderr",
     "output_type": "stream",
     "text": [
      " 80%|████████  | 123352/153700 [10:43:58<2:34:43,  3.27it/s]"
     ]
    },
    {
     "name": "stdout",
     "output_type": "stream",
     "text": [
      "File 27021598874323887 not found in /yngve_data/sdssv/ipl-2/spectro/astra/0.3.0/v6_0_9-1.0/spectra/star\n"
     ]
    },
    {
     "name": "stderr",
     "output_type": "stream",
     "text": [
      " 80%|████████  | 123491/153700 [10:44:39<2:39:28,  3.16it/s]"
     ]
    },
    {
     "name": "stdout",
     "output_type": "stream",
     "text": [
      "File 27021598874582799 not found in /yngve_data/sdssv/ipl-2/spectro/astra/0.3.0/v6_0_9-1.0/spectra/star\n"
     ]
    },
    {
     "name": "stderr",
     "output_type": "stream",
     "text": [
      " 80%|████████  | 123494/153700 [10:44:40<3:06:49,  2.69it/s]"
     ]
    },
    {
     "name": "stdout",
     "output_type": "stream",
     "text": [
      "File 27021598874585666 not found in /yngve_data/sdssv/ipl-2/spectro/astra/0.3.0/v6_0_9-1.0/spectra/star\n"
     ]
    },
    {
     "name": "stderr",
     "output_type": "stream",
     "text": [
      " 80%|████████  | 123506/153700 [10:44:44<3:36:09,  2.33it/s]"
     ]
    },
    {
     "name": "stdout",
     "output_type": "stream",
     "text": [
      "File 27021598874596888 not found in /yngve_data/sdssv/ipl-2/spectro/astra/0.3.0/v6_0_9-1.0/spectra/star\n"
     ]
    },
    {
     "name": "stderr",
     "output_type": "stream",
     "text": [
      " 81%|████████  | 123871/153700 [10:46:26<3:20:44,  2.48it/s]"
     ]
    },
    {
     "name": "stdout",
     "output_type": "stream",
     "text": [
      "File 27021598904920465 not found in /yngve_data/sdssv/ipl-2/spectro/astra/0.3.0/v6_0_9-1.0/spectra/star\n"
     ]
    },
    {
     "name": "stderr",
     "output_type": "stream",
     "text": [
      " 81%|████████  | 124208/153700 [10:47:58<2:11:00,  3.75it/s]"
     ]
    },
    {
     "name": "stdout",
     "output_type": "stream",
     "text": [
      "File 27021598932795742 not found in /yngve_data/sdssv/ipl-2/spectro/astra/0.3.0/v6_0_9-1.0/spectra/star\n"
     ]
    },
    {
     "name": "stderr",
     "output_type": "stream",
     "text": [
      " 81%|████████  | 124216/153700 [10:48:01<2:35:55,  3.15it/s]"
     ]
    },
    {
     "name": "stdout",
     "output_type": "stream",
     "text": [
      "File 27021598932824830 not found in /yngve_data/sdssv/ipl-2/spectro/astra/0.3.0/v6_0_9-1.0/spectra/star\n"
     ]
    },
    {
     "name": "stderr",
     "output_type": "stream",
     "text": [
      " 81%|████████  | 124223/153700 [10:48:02<1:45:00,  4.68it/s]"
     ]
    },
    {
     "name": "stdout",
     "output_type": "stream",
     "text": [
      "Traceback (most recent call last):\n",
      "  File \"/home/petershi/miniconda3/envs/SDSSV/lib/python3.11/site-packages/astropy/io/fits/column.py\", line 2142, in _get_index\n",
      "    indx = names.index(key.rstrip())\n",
      "           ^^^^^^^^^^^^^^^^^^^^^^^^^\n",
      "ValueError: 'SNR' is not in list\n",
      "\n",
      "During handling of the above exception, another exception occurred:\n",
      "\n",
      "Traceback (most recent call last):\n",
      "  File \"/tmp/ipykernel_10073/3388262553.py\", line 15, in <module>\n",
      "    cdata = getSDSSVData(cfile)\n",
      "            ^^^^^^^^^^^^^^^^^^^\n",
      "  File \"/tmp/ipykernel_10073/4007893978.py\", line 3, in getSDSSVData\n",
      "    snr = hdul[3].data[\"SNR\"]\n",
      "          ~~~~~~~~~~~~^^^^^^^\n",
      "  File \"/home/petershi/miniconda3/envs/SDSSV/lib/python3.11/site-packages/astropy/io/fits/fitsrec.py\", line 513, in __getitem__\n",
      "    return self.field(key)\n",
      "           ^^^^^^^^^^^^^^^\n",
      "  File \"/home/petershi/miniconda3/envs/SDSSV/lib/python3.11/site-packages/astropy/io/fits/fitsrec.py\", line 695, in field\n",
      "    column = self.columns[key]\n",
      "             ~~~~~~~~~~~~^^^^^\n",
      "  File \"/home/petershi/miniconda3/envs/SDSSV/lib/python3.11/site-packages/astropy/io/fits/column.py\", line 1751, in __getitem__\n",
      "    key = _get_index(self.names, key)\n",
      "          ^^^^^^^^^^^^^^^^^^^^^^^^^^^\n",
      "  File \"/home/petershi/miniconda3/envs/SDSSV/lib/python3.11/site-packages/astropy/io/fits/column.py\", line 2151, in _get_index\n",
      "    raise KeyError(f\"Key '{key}' does not exist.\")\n",
      "KeyError: \"Key 'SNR' does not exist.\"\n",
      "\n"
     ]
    },
    {
     "name": "stderr",
     "output_type": "stream",
     "text": [
      " 81%|████████  | 124779/153700 [10:50:33<3:09:36,  2.54it/s]"
     ]
    },
    {
     "name": "stdout",
     "output_type": "stream",
     "text": [
      "File 27021599488106100 not found in /yngve_data/sdssv/ipl-2/spectro/astra/0.3.0/v6_0_9-1.0/spectra/star\n"
     ]
    },
    {
     "name": "stderr",
     "output_type": "stream",
     "text": [
      " 81%|████████  | 124843/153700 [10:50:55<3:04:20,  2.61it/s]"
     ]
    },
    {
     "name": "stdout",
     "output_type": "stream",
     "text": [
      "File 27021599488106339 not found in /yngve_data/sdssv/ipl-2/spectro/astra/0.3.0/v6_0_9-1.0/spectra/star\n"
     ]
    },
    {
     "name": "stderr",
     "output_type": "stream",
     "text": [
      " 82%|████████▏ | 125856/153700 [10:55:18<2:14:44,  3.44it/s]"
     ]
    },
    {
     "name": "stdout",
     "output_type": "stream",
     "text": [
      "File 27021599488126467 not found in /yngve_data/sdssv/ipl-2/spectro/astra/0.3.0/v6_0_9-1.0/spectra/star\n"
     ]
    },
    {
     "name": "stderr",
     "output_type": "stream",
     "text": [
      " 82%|████████▏ | 126423/153700 [10:58:56<3:36:20,  2.10it/s]"
     ]
    },
    {
     "name": "stdout",
     "output_type": "stream",
     "text": [
      "File 27021599488139027 not found in /yngve_data/sdssv/ipl-2/spectro/astra/0.3.0/v6_0_9-1.0/spectra/star\n"
     ]
    },
    {
     "name": "stderr",
     "output_type": "stream",
     "text": [
      " 83%|████████▎ | 126875/153700 [11:00:50<2:43:14,  2.74it/s]"
     ]
    },
    {
     "name": "stdout",
     "output_type": "stream",
     "text": [
      "File 27021599488145521 not found in /yngve_data/sdssv/ipl-2/spectro/astra/0.3.0/v6_0_9-1.0/spectra/star\n"
     ]
    },
    {
     "name": "stderr",
     "output_type": "stream",
     "text": [
      " 83%|████████▎ | 127176/153700 [11:02:58<3:32:30,  2.08it/s]"
     ]
    },
    {
     "name": "stdout",
     "output_type": "stream",
     "text": [
      "File 27021599488148389 not found in /yngve_data/sdssv/ipl-2/spectro/astra/0.3.0/v6_0_9-1.0/spectra/star\n"
     ]
    },
    {
     "name": "stderr",
     "output_type": "stream",
     "text": [
      " 83%|████████▎ | 127926/153700 [11:06:59<3:38:54,  1.96it/s]"
     ]
    },
    {
     "name": "stdout",
     "output_type": "stream",
     "text": [
      "File 27021599488158083 not found in /yngve_data/sdssv/ipl-2/spectro/astra/0.3.0/v6_0_9-1.0/spectra/star\n"
     ]
    },
    {
     "name": "stderr",
     "output_type": "stream",
     "text": [
      " 84%|████████▍ | 129248/153700 [11:12:23<2:50:15,  2.39it/s]"
     ]
    },
    {
     "name": "stdout",
     "output_type": "stream",
     "text": [
      "File 27021599488226791 not found in /yngve_data/sdssv/ipl-2/spectro/astra/0.3.0/v6_0_9-1.0/spectra/star\n"
     ]
    },
    {
     "name": "stderr",
     "output_type": "stream",
     "text": [
      " 84%|████████▍ | 129306/153700 [11:12:48<2:56:37,  2.30it/s]"
     ]
    },
    {
     "name": "stdout",
     "output_type": "stream",
     "text": [
      "File 27021599488227663 not found in /yngve_data/sdssv/ipl-2/spectro/astra/0.3.0/v6_0_9-1.0/spectra/star\n"
     ]
    },
    {
     "name": "stderr",
     "output_type": "stream",
     "text": [
      " 84%|████████▍ | 129309/153700 [11:12:49<3:03:41,  2.21it/s]"
     ]
    },
    {
     "name": "stdout",
     "output_type": "stream",
     "text": [
      "File 27021599488227672 not found in /yngve_data/sdssv/ipl-2/spectro/astra/0.3.0/v6_0_9-1.0/spectra/star\n"
     ]
    },
    {
     "name": "stderr",
     "output_type": "stream",
     "text": [
      " 84%|████████▍ | 129310/153700 [11:12:50<3:11:52,  2.12it/s]"
     ]
    },
    {
     "name": "stdout",
     "output_type": "stream",
     "text": [
      "File 27021599488227674 not found in /yngve_data/sdssv/ipl-2/spectro/astra/0.3.0/v6_0_9-1.0/spectra/star\n"
     ]
    },
    {
     "name": "stderr",
     "output_type": "stream",
     "text": [
      " 84%|████████▍ | 129314/153700 [11:12:52<3:39:19,  1.85it/s]"
     ]
    },
    {
     "name": "stdout",
     "output_type": "stream",
     "text": [
      "File 27021599488227690 not found in /yngve_data/sdssv/ipl-2/spectro/astra/0.3.0/v6_0_9-1.0/spectra/star\n"
     ]
    },
    {
     "name": "stderr",
     "output_type": "stream",
     "text": [
      " 84%|████████▍ | 129315/153700 [11:12:52<3:35:57,  1.88it/s]"
     ]
    },
    {
     "name": "stdout",
     "output_type": "stream",
     "text": [
      "File 27021599488227693 not found in /yngve_data/sdssv/ipl-2/spectro/astra/0.3.0/v6_0_9-1.0/spectra/star\n"
     ]
    },
    {
     "name": "stderr",
     "output_type": "stream",
     "text": [
      " 84%|████████▍ | 129322/153700 [11:12:55<3:03:24,  2.22it/s]"
     ]
    },
    {
     "name": "stdout",
     "output_type": "stream",
     "text": [
      "File 27021599488227705 not found in /yngve_data/sdssv/ipl-2/spectro/astra/0.3.0/v6_0_9-1.0/spectra/star\n"
     ]
    },
    {
     "name": "stderr",
     "output_type": "stream",
     "text": [
      " 84%|████████▍ | 129329/153700 [11:12:58<3:03:23,  2.21it/s]"
     ]
    },
    {
     "name": "stdout",
     "output_type": "stream",
     "text": [
      "File 27021599488227740 not found in /yngve_data/sdssv/ipl-2/spectro/astra/0.3.0/v6_0_9-1.0/spectra/star\n"
     ]
    },
    {
     "name": "stderr",
     "output_type": "stream",
     "text": [
      " 84%|████████▍ | 129352/153700 [11:13:10<3:21:25,  2.01it/s]"
     ]
    },
    {
     "name": "stdout",
     "output_type": "stream",
     "text": [
      "File 27021599488229230 not found in /yngve_data/sdssv/ipl-2/spectro/astra/0.3.0/v6_0_9-1.0/spectra/star\n"
     ]
    },
    {
     "name": "stderr",
     "output_type": "stream",
     "text": [
      " 84%|████████▍ | 129354/153700 [11:13:11<3:29:50,  1.93it/s]"
     ]
    },
    {
     "name": "stdout",
     "output_type": "stream",
     "text": [
      "File 27021599488229239 not found in /yngve_data/sdssv/ipl-2/spectro/astra/0.3.0/v6_0_9-1.0/spectra/star\n"
     ]
    },
    {
     "name": "stderr",
     "output_type": "stream",
     "text": [
      " 84%|████████▍ | 129360/153700 [11:13:14<3:23:31,  1.99it/s]"
     ]
    },
    {
     "name": "stdout",
     "output_type": "stream",
     "text": [
      "File 27021599488229352 not found in /yngve_data/sdssv/ipl-2/spectro/astra/0.3.0/v6_0_9-1.0/spectra/star\n"
     ]
    },
    {
     "name": "stderr",
     "output_type": "stream",
     "text": [
      " 84%|████████▍ | 129408/153700 [11:13:20<1:00:53,  6.65it/s]"
     ]
    },
    {
     "name": "stdout",
     "output_type": "stream",
     "text": [
      "File 27021599488231187 not found in /yngve_data/sdssv/ipl-2/spectro/astra/0.3.0/v6_0_9-1.0/spectra/star\n"
     ]
    },
    {
     "name": "stderr",
     "output_type": "stream",
     "text": [
      " 85%|████████▍ | 130060/153700 [11:15:26<1:39:17,  3.97it/s]"
     ]
    },
    {
     "name": "stdout",
     "output_type": "stream",
     "text": [
      "File 27021599488312973 not found in /yngve_data/sdssv/ipl-2/spectro/astra/0.3.0/v6_0_9-1.0/spectra/star\n"
     ]
    },
    {
     "name": "stderr",
     "output_type": "stream",
     "text": [
      " 85%|████████▍ | 130236/153700 [11:16:33<2:32:38,  2.56it/s]"
     ]
    },
    {
     "name": "stdout",
     "output_type": "stream",
     "text": [
      "Traceback (most recent call last):\n",
      "  File \"/home/petershi/miniconda3/envs/SDSSV/lib/python3.11/site-packages/astropy/io/fits/column.py\", line 2142, in _get_index\n",
      "    indx = names.index(key.rstrip())\n",
      "           ^^^^^^^^^^^^^^^^^^^^^^^^^\n",
      "ValueError: 'SNR' is not in list\n",
      "\n",
      "During handling of the above exception, another exception occurred:\n",
      "\n",
      "Traceback (most recent call last):\n",
      "  File \"/tmp/ipykernel_10073/3388262553.py\", line 15, in <module>\n",
      "    cdata = getSDSSVData(cfile)\n",
      "            ^^^^^^^^^^^^^^^^^^^\n",
      "  File \"/tmp/ipykernel_10073/4007893978.py\", line 3, in getSDSSVData\n",
      "    snr = hdul[3].data[\"SNR\"]\n",
      "          ~~~~~~~~~~~~^^^^^^^\n",
      "  File \"/home/petershi/miniconda3/envs/SDSSV/lib/python3.11/site-packages/astropy/io/fits/fitsrec.py\", line 513, in __getitem__\n",
      "    return self.field(key)\n",
      "           ^^^^^^^^^^^^^^^\n",
      "  File \"/home/petershi/miniconda3/envs/SDSSV/lib/python3.11/site-packages/astropy/io/fits/fitsrec.py\", line 695, in field\n",
      "    column = self.columns[key]\n",
      "             ~~~~~~~~~~~~^^^^^\n",
      "  File \"/home/petershi/miniconda3/envs/SDSSV/lib/python3.11/site-packages/astropy/io/fits/column.py\", line 1751, in __getitem__\n",
      "    key = _get_index(self.names, key)\n",
      "          ^^^^^^^^^^^^^^^^^^^^^^^^^^^\n",
      "  File \"/home/petershi/miniconda3/envs/SDSSV/lib/python3.11/site-packages/astropy/io/fits/column.py\", line 2151, in _get_index\n",
      "    raise KeyError(f\"Key '{key}' does not exist.\")\n",
      "KeyError: \"Key 'SNR' does not exist.\"\n",
      "\n"
     ]
    },
    {
     "name": "stderr",
     "output_type": "stream",
     "text": [
      " 85%|████████▍ | 130242/153700 [11:16:35<2:57:17,  2.21it/s]"
     ]
    },
    {
     "name": "stdout",
     "output_type": "stream",
     "text": [
      "File 27021599488346945 not found in /yngve_data/sdssv/ipl-2/spectro/astra/0.3.0/v6_0_9-1.0/spectra/star\n"
     ]
    },
    {
     "name": "stderr",
     "output_type": "stream",
     "text": [
      " 85%|████████▍ | 130264/153700 [11:16:45<2:51:29,  2.28it/s]"
     ]
    },
    {
     "name": "stdout",
     "output_type": "stream",
     "text": [
      "File 27021599488347053 not found in /yngve_data/sdssv/ipl-2/spectro/astra/0.3.0/v6_0_9-1.0/spectra/star\n"
     ]
    },
    {
     "name": "stderr",
     "output_type": "stream",
     "text": [
      " 85%|████████▍ | 130289/153700 [11:16:55<1:49:49,  3.55it/s]"
     ]
    },
    {
     "name": "stdout",
     "output_type": "stream",
     "text": [
      "Traceback (most recent call last):\n",
      "  File \"/home/petershi/miniconda3/envs/SDSSV/lib/python3.11/site-packages/astropy/io/fits/column.py\", line 2142, in _get_index\n",
      "    indx = names.index(key.rstrip())\n",
      "           ^^^^^^^^^^^^^^^^^^^^^^^^^\n",
      "ValueError: 'SNR' is not in list\n",
      "\n",
      "During handling of the above exception, another exception occurred:\n",
      "\n",
      "Traceback (most recent call last):\n",
      "  File \"/tmp/ipykernel_10073/3388262553.py\", line 15, in <module>\n",
      "    cdata = getSDSSVData(cfile)\n",
      "            ^^^^^^^^^^^^^^^^^^^\n",
      "  File \"/tmp/ipykernel_10073/4007893978.py\", line 3, in getSDSSVData\n",
      "    snr = hdul[3].data[\"SNR\"]\n",
      "          ~~~~~~~~~~~~^^^^^^^\n",
      "  File \"/home/petershi/miniconda3/envs/SDSSV/lib/python3.11/site-packages/astropy/io/fits/fitsrec.py\", line 513, in __getitem__\n",
      "    return self.field(key)\n",
      "           ^^^^^^^^^^^^^^^\n",
      "  File \"/home/petershi/miniconda3/envs/SDSSV/lib/python3.11/site-packages/astropy/io/fits/fitsrec.py\", line 695, in field\n",
      "    column = self.columns[key]\n",
      "             ~~~~~~~~~~~~^^^^^\n",
      "  File \"/home/petershi/miniconda3/envs/SDSSV/lib/python3.11/site-packages/astropy/io/fits/column.py\", line 1751, in __getitem__\n",
      "    key = _get_index(self.names, key)\n",
      "          ^^^^^^^^^^^^^^^^^^^^^^^^^^^\n",
      "  File \"/home/petershi/miniconda3/envs/SDSSV/lib/python3.11/site-packages/astropy/io/fits/column.py\", line 2151, in _get_index\n",
      "    raise KeyError(f\"Key '{key}' does not exist.\")\n",
      "KeyError: \"Key 'SNR' does not exist.\"\n",
      "\n"
     ]
    },
    {
     "name": "stderr",
     "output_type": "stream",
     "text": [
      " 85%|████████▍ | 130297/153700 [11:16:57<1:05:58,  5.91it/s]"
     ]
    },
    {
     "name": "stdout",
     "output_type": "stream",
     "text": [
      "Traceback (most recent call last):\n",
      "  File \"/home/petershi/miniconda3/envs/SDSSV/lib/python3.11/site-packages/astropy/io/fits/column.py\", line 2142, in _get_index\n",
      "    indx = names.index(key.rstrip())\n",
      "           ^^^^^^^^^^^^^^^^^^^^^^^^^\n",
      "ValueError: 'SNR' is not in list\n",
      "\n",
      "During handling of the above exception, another exception occurred:\n",
      "\n",
      "Traceback (most recent call last):\n",
      "  File \"/tmp/ipykernel_10073/3388262553.py\", line 15, in <module>\n",
      "    cdata = getSDSSVData(cfile)\n",
      "            ^^^^^^^^^^^^^^^^^^^\n",
      "  File \"/tmp/ipykernel_10073/4007893978.py\", line 3, in getSDSSVData\n",
      "    snr = hdul[3].data[\"SNR\"]\n",
      "          ~~~~~~~~~~~~^^^^^^^\n",
      "  File \"/home/petershi/miniconda3/envs/SDSSV/lib/python3.11/site-packages/astropy/io/fits/fitsrec.py\", line 513, in __getitem__\n",
      "    return self.field(key)\n",
      "           ^^^^^^^^^^^^^^^\n",
      "  File \"/home/petershi/miniconda3/envs/SDSSV/lib/python3.11/site-packages/astropy/io/fits/fitsrec.py\", line 695, in field\n",
      "    column = self.columns[key]\n",
      "             ~~~~~~~~~~~~^^^^^\n",
      "  File \"/home/petershi/miniconda3/envs/SDSSV/lib/python3.11/site-packages/astropy/io/fits/column.py\", line 1751, in __getitem__\n",
      "    key = _get_index(self.names, key)\n",
      "          ^^^^^^^^^^^^^^^^^^^^^^^^^^^\n",
      "  File \"/home/petershi/miniconda3/envs/SDSSV/lib/python3.11/site-packages/astropy/io/fits/column.py\", line 2151, in _get_index\n",
      "    raise KeyError(f\"Key '{key}' does not exist.\")\n",
      "KeyError: \"Key 'SNR' does not exist.\"\n",
      "\n"
     ]
    },
    {
     "name": "stderr",
     "output_type": "stream",
     "text": [
      " 85%|████████▍ | 130301/153700 [11:16:57<1:02:51,  6.20it/s]"
     ]
    },
    {
     "name": "stdout",
     "output_type": "stream",
     "text": [
      "Traceback (most recent call last):\n",
      "  File \"/home/petershi/miniconda3/envs/SDSSV/lib/python3.11/site-packages/astropy/io/fits/column.py\", line 2142, in _get_index\n",
      "    indx = names.index(key.rstrip())\n",
      "           ^^^^^^^^^^^^^^^^^^^^^^^^^\n",
      "ValueError: 'SNR' is not in list\n",
      "\n",
      "During handling of the above exception, another exception occurred:\n",
      "\n",
      "Traceback (most recent call last):\n",
      "  File \"/tmp/ipykernel_10073/3388262553.py\", line 15, in <module>\n",
      "    cdata = getSDSSVData(cfile)\n",
      "            ^^^^^^^^^^^^^^^^^^^\n",
      "  File \"/tmp/ipykernel_10073/4007893978.py\", line 3, in getSDSSVData\n",
      "    snr = hdul[3].data[\"SNR\"]\n",
      "          ~~~~~~~~~~~~^^^^^^^\n",
      "  File \"/home/petershi/miniconda3/envs/SDSSV/lib/python3.11/site-packages/astropy/io/fits/fitsrec.py\", line 513, in __getitem__\n",
      "    return self.field(key)\n",
      "           ^^^^^^^^^^^^^^^\n",
      "  File \"/home/petershi/miniconda3/envs/SDSSV/lib/python3.11/site-packages/astropy/io/fits/fitsrec.py\", line 695, in field\n",
      "    column = self.columns[key]\n",
      "             ~~~~~~~~~~~~^^^^^\n",
      "  File \"/home/petershi/miniconda3/envs/SDSSV/lib/python3.11/site-packages/astropy/io/fits/column.py\", line 1751, in __getitem__\n",
      "    key = _get_index(self.names, key)\n",
      "          ^^^^^^^^^^^^^^^^^^^^^^^^^^^\n",
      "  File \"/home/petershi/miniconda3/envs/SDSSV/lib/python3.11/site-packages/astropy/io/fits/column.py\", line 2151, in _get_index\n",
      "    raise KeyError(f\"Key '{key}' does not exist.\")\n",
      "KeyError: \"Key 'SNR' does not exist.\"\n",
      "\n"
     ]
    },
    {
     "name": "stderr",
     "output_type": "stream",
     "text": [
      " 85%|████████▍ | 130306/153700 [11:16:58<1:12:11,  5.40it/s]"
     ]
    },
    {
     "name": "stdout",
     "output_type": "stream",
     "text": [
      "Traceback (most recent call last):\n",
      "  File \"/home/petershi/miniconda3/envs/SDSSV/lib/python3.11/site-packages/astropy/io/fits/column.py\", line 2142, in _get_index\n",
      "    indx = names.index(key.rstrip())\n",
      "           ^^^^^^^^^^^^^^^^^^^^^^^^^\n",
      "ValueError: 'SNR' is not in list\n",
      "\n",
      "During handling of the above exception, another exception occurred:\n",
      "\n",
      "Traceback (most recent call last):\n",
      "  File \"/tmp/ipykernel_10073/3388262553.py\", line 15, in <module>\n",
      "    cdata = getSDSSVData(cfile)\n",
      "            ^^^^^^^^^^^^^^^^^^^\n",
      "  File \"/tmp/ipykernel_10073/4007893978.py\", line 3, in getSDSSVData\n",
      "    snr = hdul[3].data[\"SNR\"]\n",
      "          ~~~~~~~~~~~~^^^^^^^\n",
      "  File \"/home/petershi/miniconda3/envs/SDSSV/lib/python3.11/site-packages/astropy/io/fits/fitsrec.py\", line 513, in __getitem__\n",
      "    return self.field(key)\n",
      "           ^^^^^^^^^^^^^^^\n",
      "  File \"/home/petershi/miniconda3/envs/SDSSV/lib/python3.11/site-packages/astropy/io/fits/fitsrec.py\", line 695, in field\n",
      "    column = self.columns[key]\n",
      "             ~~~~~~~~~~~~^^^^^\n",
      "  File \"/home/petershi/miniconda3/envs/SDSSV/lib/python3.11/site-packages/astropy/io/fits/column.py\", line 1751, in __getitem__\n",
      "    key = _get_index(self.names, key)\n",
      "          ^^^^^^^^^^^^^^^^^^^^^^^^^^^\n",
      "  File \"/home/petershi/miniconda3/envs/SDSSV/lib/python3.11/site-packages/astropy/io/fits/column.py\", line 2151, in _get_index\n",
      "    raise KeyError(f\"Key '{key}' does not exist.\")\n",
      "KeyError: \"Key 'SNR' does not exist.\"\n",
      "\n"
     ]
    },
    {
     "name": "stderr",
     "output_type": "stream",
     "text": [
      " 85%|████████▍ | 130329/153700 [11:17:03<1:24:10,  4.63it/s]"
     ]
    },
    {
     "name": "stdout",
     "output_type": "stream",
     "text": [
      "Traceback (most recent call last):\n",
      "  File \"/home/petershi/miniconda3/envs/SDSSV/lib/python3.11/site-packages/astropy/io/fits/column.py\", line 2142, in _get_index\n",
      "    indx = names.index(key.rstrip())\n",
      "           ^^^^^^^^^^^^^^^^^^^^^^^^^\n",
      "ValueError: 'SNR' is not in list\n",
      "\n",
      "During handling of the above exception, another exception occurred:\n",
      "\n",
      "Traceback (most recent call last):\n",
      "  File \"/tmp/ipykernel_10073/3388262553.py\", line 15, in <module>\n",
      "    cdata = getSDSSVData(cfile)\n",
      "            ^^^^^^^^^^^^^^^^^^^\n",
      "  File \"/tmp/ipykernel_10073/4007893978.py\", line 3, in getSDSSVData\n",
      "    snr = hdul[3].data[\"SNR\"]\n",
      "          ~~~~~~~~~~~~^^^^^^^\n",
      "  File \"/home/petershi/miniconda3/envs/SDSSV/lib/python3.11/site-packages/astropy/io/fits/fitsrec.py\", line 513, in __getitem__\n",
      "    return self.field(key)\n",
      "           ^^^^^^^^^^^^^^^\n",
      "  File \"/home/petershi/miniconda3/envs/SDSSV/lib/python3.11/site-packages/astropy/io/fits/fitsrec.py\", line 695, in field\n",
      "    column = self.columns[key]\n",
      "             ~~~~~~~~~~~~^^^^^\n",
      "  File \"/home/petershi/miniconda3/envs/SDSSV/lib/python3.11/site-packages/astropy/io/fits/column.py\", line 1751, in __getitem__\n",
      "    key = _get_index(self.names, key)\n",
      "          ^^^^^^^^^^^^^^^^^^^^^^^^^^^\n",
      "  File \"/home/petershi/miniconda3/envs/SDSSV/lib/python3.11/site-packages/astropy/io/fits/column.py\", line 2151, in _get_index\n",
      "    raise KeyError(f\"Key '{key}' does not exist.\")\n",
      "KeyError: \"Key 'SNR' does not exist.\"\n",
      "\n"
     ]
    },
    {
     "name": "stderr",
     "output_type": "stream",
     "text": [
      " 85%|████████▍ | 130330/153700 [11:17:03<1:30:01,  4.33it/s]"
     ]
    },
    {
     "name": "stdout",
     "output_type": "stream",
     "text": [
      "Traceback (most recent call last):\n",
      "  File \"/home/petershi/miniconda3/envs/SDSSV/lib/python3.11/site-packages/astropy/io/fits/column.py\", line 2142, in _get_index\n",
      "    indx = names.index(key.rstrip())\n",
      "           ^^^^^^^^^^^^^^^^^^^^^^^^^\n",
      "ValueError: 'SNR' is not in list\n",
      "\n",
      "During handling of the above exception, another exception occurred:\n",
      "\n",
      "Traceback (most recent call last):\n",
      "  File \"/tmp/ipykernel_10073/3388262553.py\", line 15, in <module>\n",
      "    cdata = getSDSSVData(cfile)\n",
      "            ^^^^^^^^^^^^^^^^^^^\n",
      "  File \"/tmp/ipykernel_10073/4007893978.py\", line 3, in getSDSSVData\n",
      "    snr = hdul[3].data[\"SNR\"]\n",
      "          ~~~~~~~~~~~~^^^^^^^\n",
      "  File \"/home/petershi/miniconda3/envs/SDSSV/lib/python3.11/site-packages/astropy/io/fits/fitsrec.py\", line 513, in __getitem__\n",
      "    return self.field(key)\n",
      "           ^^^^^^^^^^^^^^^\n",
      "  File \"/home/petershi/miniconda3/envs/SDSSV/lib/python3.11/site-packages/astropy/io/fits/fitsrec.py\", line 695, in field\n",
      "    column = self.columns[key]\n",
      "             ~~~~~~~~~~~~^^^^^\n",
      "  File \"/home/petershi/miniconda3/envs/SDSSV/lib/python3.11/site-packages/astropy/io/fits/column.py\", line 1751, in __getitem__\n",
      "    key = _get_index(self.names, key)\n",
      "          ^^^^^^^^^^^^^^^^^^^^^^^^^^^\n",
      "  File \"/home/petershi/miniconda3/envs/SDSSV/lib/python3.11/site-packages/astropy/io/fits/column.py\", line 2151, in _get_index\n",
      "    raise KeyError(f\"Key '{key}' does not exist.\")\n",
      "KeyError: \"Key 'SNR' does not exist.\"\n",
      "\n"
     ]
    },
    {
     "name": "stderr",
     "output_type": "stream",
     "text": [
      " 85%|████████▍ | 130331/153700 [11:17:03<1:48:47,  3.58it/s]"
     ]
    },
    {
     "name": "stdout",
     "output_type": "stream",
     "text": [
      "Traceback (most recent call last):\n",
      "  File \"/home/petershi/miniconda3/envs/SDSSV/lib/python3.11/site-packages/astropy/io/fits/column.py\", line 2142, in _get_index\n",
      "    indx = names.index(key.rstrip())\n",
      "           ^^^^^^^^^^^^^^^^^^^^^^^^^\n",
      "ValueError: 'SNR' is not in list\n",
      "\n",
      "During handling of the above exception, another exception occurred:\n",
      "\n",
      "Traceback (most recent call last):\n",
      "  File \"/tmp/ipykernel_10073/3388262553.py\", line 15, in <module>\n",
      "    cdata = getSDSSVData(cfile)\n",
      "            ^^^^^^^^^^^^^^^^^^^\n",
      "  File \"/tmp/ipykernel_10073/4007893978.py\", line 3, in getSDSSVData\n",
      "    snr = hdul[3].data[\"SNR\"]\n",
      "          ~~~~~~~~~~~~^^^^^^^\n",
      "  File \"/home/petershi/miniconda3/envs/SDSSV/lib/python3.11/site-packages/astropy/io/fits/fitsrec.py\", line 513, in __getitem__\n",
      "    return self.field(key)\n",
      "           ^^^^^^^^^^^^^^^\n",
      "  File \"/home/petershi/miniconda3/envs/SDSSV/lib/python3.11/site-packages/astropy/io/fits/fitsrec.py\", line 695, in field\n",
      "    column = self.columns[key]\n",
      "             ~~~~~~~~~~~~^^^^^\n",
      "  File \"/home/petershi/miniconda3/envs/SDSSV/lib/python3.11/site-packages/astropy/io/fits/column.py\", line 1751, in __getitem__\n",
      "    key = _get_index(self.names, key)\n",
      "          ^^^^^^^^^^^^^^^^^^^^^^^^^^^\n",
      "  File \"/home/petershi/miniconda3/envs/SDSSV/lib/python3.11/site-packages/astropy/io/fits/column.py\", line 2151, in _get_index\n",
      "    raise KeyError(f\"Key '{key}' does not exist.\")\n",
      "KeyError: \"Key 'SNR' does not exist.\"\n",
      "\n"
     ]
    },
    {
     "name": "stderr",
     "output_type": "stream",
     "text": [
      " 85%|████████▍ | 130332/153700 [11:17:04<1:59:48,  3.25it/s]"
     ]
    },
    {
     "name": "stdout",
     "output_type": "stream",
     "text": [
      "Traceback (most recent call last):\n",
      "  File \"/home/petershi/miniconda3/envs/SDSSV/lib/python3.11/site-packages/astropy/io/fits/column.py\", line 2142, in _get_index\n",
      "    indx = names.index(key.rstrip())\n",
      "           ^^^^^^^^^^^^^^^^^^^^^^^^^\n",
      "ValueError: 'SNR' is not in list\n",
      "\n",
      "During handling of the above exception, another exception occurred:\n",
      "\n",
      "Traceback (most recent call last):\n",
      "  File \"/tmp/ipykernel_10073/3388262553.py\", line 15, in <module>\n",
      "    cdata = getSDSSVData(cfile)\n",
      "            ^^^^^^^^^^^^^^^^^^^\n",
      "  File \"/tmp/ipykernel_10073/4007893978.py\", line 3, in getSDSSVData\n",
      "    snr = hdul[3].data[\"SNR\"]\n",
      "          ~~~~~~~~~~~~^^^^^^^\n",
      "  File \"/home/petershi/miniconda3/envs/SDSSV/lib/python3.11/site-packages/astropy/io/fits/fitsrec.py\", line 513, in __getitem__\n",
      "    return self.field(key)\n",
      "           ^^^^^^^^^^^^^^^\n",
      "  File \"/home/petershi/miniconda3/envs/SDSSV/lib/python3.11/site-packages/astropy/io/fits/fitsrec.py\", line 695, in field\n",
      "    column = self.columns[key]\n",
      "             ~~~~~~~~~~~~^^^^^\n",
      "  File \"/home/petershi/miniconda3/envs/SDSSV/lib/python3.11/site-packages/astropy/io/fits/column.py\", line 1751, in __getitem__\n",
      "    key = _get_index(self.names, key)\n",
      "          ^^^^^^^^^^^^^^^^^^^^^^^^^^^\n",
      "  File \"/home/petershi/miniconda3/envs/SDSSV/lib/python3.11/site-packages/astropy/io/fits/column.py\", line 2151, in _get_index\n",
      "    raise KeyError(f\"Key '{key}' does not exist.\")\n",
      "KeyError: \"Key 'SNR' does not exist.\"\n",
      "\n"
     ]
    },
    {
     "name": "stderr",
     "output_type": "stream",
     "text": [
      " 85%|████████▍ | 130353/153700 [11:17:11<2:09:54,  3.00it/s]"
     ]
    },
    {
     "name": "stdout",
     "output_type": "stream",
     "text": [
      "Traceback (most recent call last):\n",
      "  File \"/home/petershi/miniconda3/envs/SDSSV/lib/python3.11/site-packages/astropy/io/fits/column.py\", line 2142, in _get_index\n",
      "    indx = names.index(key.rstrip())\n",
      "           ^^^^^^^^^^^^^^^^^^^^^^^^^\n",
      "ValueError: 'SNR' is not in list\n",
      "\n",
      "During handling of the above exception, another exception occurred:\n",
      "\n",
      "Traceback (most recent call last):\n",
      "  File \"/tmp/ipykernel_10073/3388262553.py\", line 15, in <module>\n",
      "    cdata = getSDSSVData(cfile)\n",
      "            ^^^^^^^^^^^^^^^^^^^\n",
      "  File \"/tmp/ipykernel_10073/4007893978.py\", line 3, in getSDSSVData\n",
      "    snr = hdul[3].data[\"SNR\"]\n",
      "          ~~~~~~~~~~~~^^^^^^^\n",
      "  File \"/home/petershi/miniconda3/envs/SDSSV/lib/python3.11/site-packages/astropy/io/fits/fitsrec.py\", line 513, in __getitem__\n",
      "    return self.field(key)\n",
      "           ^^^^^^^^^^^^^^^\n",
      "  File \"/home/petershi/miniconda3/envs/SDSSV/lib/python3.11/site-packages/astropy/io/fits/fitsrec.py\", line 695, in field\n",
      "    column = self.columns[key]\n",
      "             ~~~~~~~~~~~~^^^^^\n",
      "  File \"/home/petershi/miniconda3/envs/SDSSV/lib/python3.11/site-packages/astropy/io/fits/column.py\", line 1751, in __getitem__\n",
      "    key = _get_index(self.names, key)\n",
      "          ^^^^^^^^^^^^^^^^^^^^^^^^^^^\n",
      "  File \"/home/petershi/miniconda3/envs/SDSSV/lib/python3.11/site-packages/astropy/io/fits/column.py\", line 2151, in _get_index\n",
      "    raise KeyError(f\"Key '{key}' does not exist.\")\n",
      "KeyError: \"Key 'SNR' does not exist.\"\n",
      "\n"
     ]
    },
    {
     "name": "stderr",
     "output_type": "stream",
     "text": [
      " 85%|████████▌ | 130751/153700 [11:19:15<1:01:20,  6.24it/s]"
     ]
    },
    {
     "name": "stdout",
     "output_type": "stream",
     "text": [
      "File 27021599488400605 not found in /yngve_data/sdssv/ipl-2/spectro/astra/0.3.0/v6_0_9-1.0/spectra/star\n"
     ]
    },
    {
     "name": "stderr",
     "output_type": "stream",
     "text": [
      " 85%|████████▌ | 130805/153700 [11:19:20<59:05,  6.46it/s]  "
     ]
    },
    {
     "name": "stdout",
     "output_type": "stream",
     "text": [
      "File 27021599488401155 not found in /yngve_data/sdssv/ipl-2/spectro/astra/0.3.0/v6_0_9-1.0/spectra/star\n"
     ]
    },
    {
     "name": "stderr",
     "output_type": "stream",
     "text": [
      " 85%|████████▌ | 131158/153700 [11:20:41<3:20:04,  1.88it/s]"
     ]
    },
    {
     "name": "stdout",
     "output_type": "stream",
     "text": [
      "File 27021599488436848 not found in /yngve_data/sdssv/ipl-2/spectro/astra/0.3.0/v6_0_9-1.0/spectra/star\n"
     ]
    },
    {
     "name": "stderr",
     "output_type": "stream",
     "text": [
      " 85%|████████▌ | 131409/153700 [11:22:07<50:50,  7.31it/s]  "
     ]
    },
    {
     "name": "stdout",
     "output_type": "stream",
     "text": [
      "File 27021599488530749 not found in /yngve_data/sdssv/ipl-2/spectro/astra/0.3.0/v6_0_9-1.0/spectra/star\n"
     ]
    },
    {
     "name": "stderr",
     "output_type": "stream",
     "text": [
      " 86%|████████▌ | 131875/153700 [11:24:29<1:25:08,  4.27it/s]"
     ]
    },
    {
     "name": "stdout",
     "output_type": "stream",
     "text": [
      "Traceback (most recent call last):\n",
      "  File \"/home/petershi/miniconda3/envs/SDSSV/lib/python3.11/site-packages/astropy/io/fits/column.py\", line 2142, in _get_index\n",
      "    indx = names.index(key.rstrip())\n",
      "           ^^^^^^^^^^^^^^^^^^^^^^^^^\n",
      "ValueError: 'SNR' is not in list\n",
      "\n",
      "During handling of the above exception, another exception occurred:\n",
      "\n",
      "Traceback (most recent call last):\n",
      "  File \"/tmp/ipykernel_10073/3388262553.py\", line 15, in <module>\n",
      "    cdata = getSDSSVData(cfile)\n",
      "            ^^^^^^^^^^^^^^^^^^^\n",
      "  File \"/tmp/ipykernel_10073/4007893978.py\", line 3, in getSDSSVData\n",
      "    snr = hdul[3].data[\"SNR\"]\n",
      "          ~~~~~~~~~~~~^^^^^^^\n",
      "  File \"/home/petershi/miniconda3/envs/SDSSV/lib/python3.11/site-packages/astropy/io/fits/fitsrec.py\", line 513, in __getitem__\n",
      "    return self.field(key)\n",
      "           ^^^^^^^^^^^^^^^\n",
      "  File \"/home/petershi/miniconda3/envs/SDSSV/lib/python3.11/site-packages/astropy/io/fits/fitsrec.py\", line 695, in field\n",
      "    column = self.columns[key]\n",
      "             ~~~~~~~~~~~~^^^^^\n",
      "  File \"/home/petershi/miniconda3/envs/SDSSV/lib/python3.11/site-packages/astropy/io/fits/column.py\", line 1751, in __getitem__\n",
      "    key = _get_index(self.names, key)\n",
      "          ^^^^^^^^^^^^^^^^^^^^^^^^^^^\n",
      "  File \"/home/petershi/miniconda3/envs/SDSSV/lib/python3.11/site-packages/astropy/io/fits/column.py\", line 2151, in _get_index\n",
      "    raise KeyError(f\"Key '{key}' does not exist.\")\n",
      "KeyError: \"Key 'SNR' does not exist.\"\n",
      "\n"
     ]
    },
    {
     "name": "stderr",
     "output_type": "stream",
     "text": [
      " 86%|████████▌ | 131895/153700 [11:24:35<2:44:54,  2.20it/s]"
     ]
    },
    {
     "name": "stdout",
     "output_type": "stream",
     "text": [
      "File 27021599488723884 not found in /yngve_data/sdssv/ipl-2/spectro/astra/0.3.0/v6_0_9-1.0/spectra/star\n"
     ]
    },
    {
     "name": "stderr",
     "output_type": "stream",
     "text": [
      " 86%|████████▌ | 132232/153700 [11:26:03<48:11,  7.42it/s]  "
     ]
    },
    {
     "name": "stdout",
     "output_type": "stream",
     "text": [
      "Traceback (most recent call last):\n",
      "  File \"/home/petershi/miniconda3/envs/SDSSV/lib/python3.11/site-packages/astropy/io/fits/column.py\", line 2142, in _get_index\n",
      "    indx = names.index(key.rstrip())\n",
      "           ^^^^^^^^^^^^^^^^^^^^^^^^^\n",
      "ValueError: 'SNR' is not in list\n",
      "\n",
      "During handling of the above exception, another exception occurred:\n",
      "\n",
      "Traceback (most recent call last):\n",
      "  File \"/tmp/ipykernel_10073/3388262553.py\", line 15, in <module>\n",
      "    cdata = getSDSSVData(cfile)\n",
      "            ^^^^^^^^^^^^^^^^^^^\n",
      "  File \"/tmp/ipykernel_10073/4007893978.py\", line 3, in getSDSSVData\n",
      "    snr = hdul[3].data[\"SNR\"]\n",
      "          ~~~~~~~~~~~~^^^^^^^\n",
      "  File \"/home/petershi/miniconda3/envs/SDSSV/lib/python3.11/site-packages/astropy/io/fits/fitsrec.py\", line 513, in __getitem__\n",
      "    return self.field(key)\n",
      "           ^^^^^^^^^^^^^^^\n",
      "  File \"/home/petershi/miniconda3/envs/SDSSV/lib/python3.11/site-packages/astropy/io/fits/fitsrec.py\", line 695, in field\n",
      "    column = self.columns[key]\n",
      "             ~~~~~~~~~~~~^^^^^\n",
      "  File \"/home/petershi/miniconda3/envs/SDSSV/lib/python3.11/site-packages/astropy/io/fits/column.py\", line 1751, in __getitem__\n",
      "    key = _get_index(self.names, key)\n",
      "          ^^^^^^^^^^^^^^^^^^^^^^^^^^^\n",
      "  File \"/home/petershi/miniconda3/envs/SDSSV/lib/python3.11/site-packages/astropy/io/fits/column.py\", line 2151, in _get_index\n",
      "    raise KeyError(f\"Key '{key}' does not exist.\")\n",
      "KeyError: \"Key 'SNR' does not exist.\"\n",
      "\n"
     ]
    },
    {
     "name": "stderr",
     "output_type": "stream",
     "text": [
      " 86%|████████▌ | 132237/153700 [11:26:04<55:59,  6.39it/s]"
     ]
    },
    {
     "name": "stdout",
     "output_type": "stream",
     "text": [
      "Traceback (most recent call last):\n",
      "  File \"/home/petershi/miniconda3/envs/SDSSV/lib/python3.11/site-packages/astropy/io/fits/column.py\", line 2142, in _get_index\n",
      "    indx = names.index(key.rstrip())\n",
      "           ^^^^^^^^^^^^^^^^^^^^^^^^^\n",
      "ValueError: 'SNR' is not in list\n",
      "\n",
      "During handling of the above exception, another exception occurred:\n",
      "\n",
      "Traceback (most recent call last):\n",
      "  File \"/tmp/ipykernel_10073/3388262553.py\", line 15, in <module>\n",
      "    cdata = getSDSSVData(cfile)\n",
      "            ^^^^^^^^^^^^^^^^^^^\n",
      "  File \"/tmp/ipykernel_10073/4007893978.py\", line 3, in getSDSSVData\n",
      "    snr = hdul[3].data[\"SNR\"]\n",
      "          ~~~~~~~~~~~~^^^^^^^\n",
      "  File \"/home/petershi/miniconda3/envs/SDSSV/lib/python3.11/site-packages/astropy/io/fits/fitsrec.py\", line 513, in __getitem__\n",
      "    return self.field(key)\n",
      "           ^^^^^^^^^^^^^^^\n",
      "  File \"/home/petershi/miniconda3/envs/SDSSV/lib/python3.11/site-packages/astropy/io/fits/fitsrec.py\", line 695, in field\n",
      "    column = self.columns[key]\n",
      "             ~~~~~~~~~~~~^^^^^\n",
      "  File \"/home/petershi/miniconda3/envs/SDSSV/lib/python3.11/site-packages/astropy/io/fits/column.py\", line 1751, in __getitem__\n",
      "    key = _get_index(self.names, key)\n",
      "          ^^^^^^^^^^^^^^^^^^^^^^^^^^^\n",
      "  File \"/home/petershi/miniconda3/envs/SDSSV/lib/python3.11/site-packages/astropy/io/fits/column.py\", line 2151, in _get_index\n",
      "    raise KeyError(f\"Key '{key}' does not exist.\")\n",
      "KeyError: \"Key 'SNR' does not exist.\"\n",
      "\n"
     ]
    },
    {
     "name": "stderr",
     "output_type": "stream",
     "text": [
      " 86%|████████▌ | 132299/153700 [11:26:15<1:27:30,  4.08it/s]"
     ]
    },
    {
     "name": "stdout",
     "output_type": "stream",
     "text": [
      "Traceback (most recent call last):\n",
      "  File \"/home/petershi/miniconda3/envs/SDSSV/lib/python3.11/site-packages/astropy/io/fits/column.py\", line 2142, in _get_index\n",
      "    indx = names.index(key.rstrip())\n",
      "           ^^^^^^^^^^^^^^^^^^^^^^^^^\n",
      "ValueError: 'SNR' is not in list\n",
      "\n",
      "During handling of the above exception, another exception occurred:\n",
      "\n",
      "Traceback (most recent call last):\n",
      "  File \"/tmp/ipykernel_10073/3388262553.py\", line 15, in <module>\n",
      "    cdata = getSDSSVData(cfile)\n",
      "            ^^^^^^^^^^^^^^^^^^^\n",
      "  File \"/tmp/ipykernel_10073/4007893978.py\", line 3, in getSDSSVData\n",
      "    snr = hdul[3].data[\"SNR\"]\n",
      "          ~~~~~~~~~~~~^^^^^^^\n",
      "  File \"/home/petershi/miniconda3/envs/SDSSV/lib/python3.11/site-packages/astropy/io/fits/fitsrec.py\", line 513, in __getitem__\n",
      "    return self.field(key)\n",
      "           ^^^^^^^^^^^^^^^\n",
      "  File \"/home/petershi/miniconda3/envs/SDSSV/lib/python3.11/site-packages/astropy/io/fits/fitsrec.py\", line 695, in field\n",
      "    column = self.columns[key]\n",
      "             ~~~~~~~~~~~~^^^^^\n",
      "  File \"/home/petershi/miniconda3/envs/SDSSV/lib/python3.11/site-packages/astropy/io/fits/column.py\", line 1751, in __getitem__\n",
      "    key = _get_index(self.names, key)\n",
      "          ^^^^^^^^^^^^^^^^^^^^^^^^^^^\n",
      "  File \"/home/petershi/miniconda3/envs/SDSSV/lib/python3.11/site-packages/astropy/io/fits/column.py\", line 2151, in _get_index\n",
      "    raise KeyError(f\"Key '{key}' does not exist.\")\n",
      "KeyError: \"Key 'SNR' does not exist.\"\n",
      "\n"
     ]
    },
    {
     "name": "stderr",
     "output_type": "stream",
     "text": [
      " 86%|████████▌ | 132318/153700 [11:26:20<2:22:11,  2.51it/s]"
     ]
    },
    {
     "name": "stdout",
     "output_type": "stream",
     "text": [
      "File 27021599488774369 not found in /yngve_data/sdssv/ipl-2/spectro/astra/0.3.0/v6_0_9-1.0/spectra/star\n"
     ]
    },
    {
     "name": "stderr",
     "output_type": "stream",
     "text": [
      " 86%|████████▌ | 132324/153700 [11:26:22<2:04:46,  2.86it/s]"
     ]
    },
    {
     "name": "stdout",
     "output_type": "stream",
     "text": [
      "File 27021599488774387 not found in /yngve_data/sdssv/ipl-2/spectro/astra/0.3.0/v6_0_9-1.0/spectra/star\n"
     ]
    },
    {
     "name": "stderr",
     "output_type": "stream",
     "text": [
      " 87%|████████▋ | 133048/153700 [11:29:19<19:52, 17.32it/s]  "
     ]
    },
    {
     "name": "stdout",
     "output_type": "stream",
     "text": [
      "File 27021599488903532 not found in /yngve_data/sdssv/ipl-2/spectro/astra/0.3.0/v6_0_9-1.0/spectra/star\n"
     ]
    },
    {
     "name": "stderr",
     "output_type": "stream",
     "text": [
      " 87%|████████▋ | 133051/153700 [11:29:20<56:29,  6.09it/s]"
     ]
    },
    {
     "name": "stdout",
     "output_type": "stream",
     "text": [
      "File 27021599488903664 not found in /yngve_data/sdssv/ipl-2/spectro/astra/0.3.0/v6_0_9-1.0/spectra/star\n",
      "File 27021599488903668 not found in /yngve_data/sdssv/ipl-2/spectro/astra/0.3.0/v6_0_9-1.0/spectra/star\n"
     ]
    },
    {
     "name": "stderr",
     "output_type": "stream",
     "text": [
      " 87%|████████▋ | 133053/153700 [11:29:21<1:22:48,  4.16it/s]"
     ]
    },
    {
     "name": "stdout",
     "output_type": "stream",
     "text": [
      "File 27021599488903675 not found in /yngve_data/sdssv/ipl-2/spectro/astra/0.3.0/v6_0_9-1.0/spectra/star\n",
      "File 27021599488903736 not found in /yngve_data/sdssv/ipl-2/spectro/astra/0.3.0/v6_0_9-1.0/spectra/star\n"
     ]
    },
    {
     "name": "stderr",
     "output_type": "stream",
     "text": [
      " 87%|████████▋ | 133055/153700 [11:29:22<1:46:17,  3.24it/s]"
     ]
    },
    {
     "name": "stdout",
     "output_type": "stream",
     "text": [
      "File 27021599488903738 not found in /yngve_data/sdssv/ipl-2/spectro/astra/0.3.0/v6_0_9-1.0/spectra/star\n"
     ]
    },
    {
     "name": "stderr",
     "output_type": "stream",
     "text": [
      " 87%|████████▋ | 133056/153700 [11:29:23<1:57:08,  2.94it/s]"
     ]
    },
    {
     "name": "stdout",
     "output_type": "stream",
     "text": [
      "File 27021599488904132 not found in /yngve_data/sdssv/ipl-2/spectro/astra/0.3.0/v6_0_9-1.0/spectra/star\n"
     ]
    },
    {
     "name": "stderr",
     "output_type": "stream",
     "text": [
      " 87%|████████▋ | 133057/153700 [11:29:23<2:06:51,  2.71it/s]"
     ]
    },
    {
     "name": "stdout",
     "output_type": "stream",
     "text": [
      "File 27021599488904173 not found in /yngve_data/sdssv/ipl-2/spectro/astra/0.3.0/v6_0_9-1.0/spectra/star\n"
     ]
    },
    {
     "name": "stderr",
     "output_type": "stream",
     "text": [
      " 87%|████████▋ | 133058/153700 [11:29:24<2:19:08,  2.47it/s]"
     ]
    },
    {
     "name": "stdout",
     "output_type": "stream",
     "text": [
      "File 27021599488904174 not found in /yngve_data/sdssv/ipl-2/spectro/astra/0.3.0/v6_0_9-1.0/spectra/star\n"
     ]
    },
    {
     "name": "stderr",
     "output_type": "stream",
     "text": [
      " 87%|████████▋ | 133059/153700 [11:29:24<2:27:01,  2.34it/s]"
     ]
    },
    {
     "name": "stdout",
     "output_type": "stream",
     "text": [
      "File 27021599488904177 not found in /yngve_data/sdssv/ipl-2/spectro/astra/0.3.0/v6_0_9-1.0/spectra/star\n"
     ]
    },
    {
     "name": "stderr",
     "output_type": "stream",
     "text": [
      " 87%|████████▋ | 133060/153700 [11:29:25<2:33:18,  2.24it/s]"
     ]
    },
    {
     "name": "stdout",
     "output_type": "stream",
     "text": [
      "File 27021599488904179 not found in /yngve_data/sdssv/ipl-2/spectro/astra/0.3.0/v6_0_9-1.0/spectra/star\n"
     ]
    },
    {
     "name": "stderr",
     "output_type": "stream",
     "text": [
      " 87%|████████▋ | 133061/153700 [11:29:25<2:39:10,  2.16it/s]"
     ]
    },
    {
     "name": "stdout",
     "output_type": "stream",
     "text": [
      "File 27021599488904197 not found in /yngve_data/sdssv/ipl-2/spectro/astra/0.3.0/v6_0_9-1.0/spectra/star\n"
     ]
    },
    {
     "name": "stderr",
     "output_type": "stream",
     "text": [
      " 87%|████████▋ | 133062/153700 [11:29:26<2:43:22,  2.11it/s]"
     ]
    },
    {
     "name": "stdout",
     "output_type": "stream",
     "text": [
      "File 27021599488904198 not found in /yngve_data/sdssv/ipl-2/spectro/astra/0.3.0/v6_0_9-1.0/spectra/star\n"
     ]
    },
    {
     "name": "stderr",
     "output_type": "stream",
     "text": [
      " 87%|████████▋ | 133063/153700 [11:29:26<2:47:32,  2.05it/s]"
     ]
    },
    {
     "name": "stdout",
     "output_type": "stream",
     "text": [
      "File 27021599488904211 not found in /yngve_data/sdssv/ipl-2/spectro/astra/0.3.0/v6_0_9-1.0/spectra/star\n"
     ]
    },
    {
     "name": "stderr",
     "output_type": "stream",
     "text": [
      " 87%|████████▋ | 133064/153700 [11:29:27<2:52:02,  2.00it/s]"
     ]
    },
    {
     "name": "stdout",
     "output_type": "stream",
     "text": [
      "File 27021599488904218 not found in /yngve_data/sdssv/ipl-2/spectro/astra/0.3.0/v6_0_9-1.0/spectra/star\n"
     ]
    },
    {
     "name": "stderr",
     "output_type": "stream",
     "text": [
      " 87%|████████▋ | 133065/153700 [11:29:27<2:52:30,  1.99it/s]"
     ]
    },
    {
     "name": "stdout",
     "output_type": "stream",
     "text": [
      "File 27021599488904240 not found in /yngve_data/sdssv/ipl-2/spectro/astra/0.3.0/v6_0_9-1.0/spectra/star\n"
     ]
    },
    {
     "name": "stderr",
     "output_type": "stream",
     "text": [
      " 87%|████████▋ | 133066/153700 [11:29:28<2:55:14,  1.96it/s]"
     ]
    },
    {
     "name": "stdout",
     "output_type": "stream",
     "text": [
      "File 27021599488904273 not found in /yngve_data/sdssv/ipl-2/spectro/astra/0.3.0/v6_0_9-1.0/spectra/star\n"
     ]
    },
    {
     "name": "stderr",
     "output_type": "stream",
     "text": [
      " 87%|████████▋ | 133067/153700 [11:29:29<2:55:43,  1.96it/s]"
     ]
    },
    {
     "name": "stdout",
     "output_type": "stream",
     "text": [
      "File 27021599488904293 not found in /yngve_data/sdssv/ipl-2/spectro/astra/0.3.0/v6_0_9-1.0/spectra/star\n"
     ]
    },
    {
     "name": "stderr",
     "output_type": "stream",
     "text": [
      " 87%|████████▋ | 133068/153700 [11:29:29<2:55:45,  1.96it/s]"
     ]
    },
    {
     "name": "stdout",
     "output_type": "stream",
     "text": [
      "File 27021599488904304 not found in /yngve_data/sdssv/ipl-2/spectro/astra/0.3.0/v6_0_9-1.0/spectra/star\n"
     ]
    },
    {
     "name": "stderr",
     "output_type": "stream",
     "text": [
      " 87%|████████▋ | 133069/153700 [11:29:30<2:55:21,  1.96it/s]"
     ]
    },
    {
     "name": "stdout",
     "output_type": "stream",
     "text": [
      "File 27021599488904316 not found in /yngve_data/sdssv/ipl-2/spectro/astra/0.3.0/v6_0_9-1.0/spectra/star\n"
     ]
    },
    {
     "name": "stderr",
     "output_type": "stream",
     "text": [
      " 87%|████████▋ | 133070/153700 [11:29:30<2:53:41,  1.98it/s]"
     ]
    },
    {
     "name": "stdout",
     "output_type": "stream",
     "text": [
      "File 27021599488904318 not found in /yngve_data/sdssv/ipl-2/spectro/astra/0.3.0/v6_0_9-1.0/spectra/star\n"
     ]
    },
    {
     "name": "stderr",
     "output_type": "stream",
     "text": [
      " 87%|████████▋ | 133071/153700 [11:29:31<2:51:45,  2.00it/s]"
     ]
    },
    {
     "name": "stdout",
     "output_type": "stream",
     "text": [
      "File 27021599488904325 not found in /yngve_data/sdssv/ipl-2/spectro/astra/0.3.0/v6_0_9-1.0/spectra/star\n"
     ]
    },
    {
     "name": "stderr",
     "output_type": "stream",
     "text": [
      " 87%|████████▋ | 133072/153700 [11:29:31<2:52:47,  1.99it/s]"
     ]
    },
    {
     "name": "stdout",
     "output_type": "stream",
     "text": [
      "File 27021599488904331 not found in /yngve_data/sdssv/ipl-2/spectro/astra/0.3.0/v6_0_9-1.0/spectra/star\n"
     ]
    },
    {
     "name": "stderr",
     "output_type": "stream",
     "text": [
      " 87%|████████▋ | 133073/153700 [11:29:32<2:53:56,  1.98it/s]"
     ]
    },
    {
     "name": "stdout",
     "output_type": "stream",
     "text": [
      "File 27021599488904337 not found in /yngve_data/sdssv/ipl-2/spectro/astra/0.3.0/v6_0_9-1.0/spectra/star\n"
     ]
    },
    {
     "name": "stderr",
     "output_type": "stream",
     "text": [
      " 87%|████████▋ | 133074/153700 [11:29:32<2:56:03,  1.95it/s]"
     ]
    },
    {
     "name": "stdout",
     "output_type": "stream",
     "text": [
      "File 27021599488904361 not found in /yngve_data/sdssv/ipl-2/spectro/astra/0.3.0/v6_0_9-1.0/spectra/star\n"
     ]
    },
    {
     "name": "stderr",
     "output_type": "stream",
     "text": [
      " 87%|████████▋ | 133075/153700 [11:29:33<2:55:26,  1.96it/s]"
     ]
    },
    {
     "name": "stdout",
     "output_type": "stream",
     "text": [
      "File 27021599488904420 not found in /yngve_data/sdssv/ipl-2/spectro/astra/0.3.0/v6_0_9-1.0/spectra/star\n"
     ]
    },
    {
     "name": "stderr",
     "output_type": "stream",
     "text": [
      " 87%|████████▋ | 133076/153700 [11:29:33<2:54:35,  1.97it/s]"
     ]
    },
    {
     "name": "stdout",
     "output_type": "stream",
     "text": [
      "File 27021599488904421 not found in /yngve_data/sdssv/ipl-2/spectro/astra/0.3.0/v6_0_9-1.0/spectra/star\n"
     ]
    },
    {
     "name": "stderr",
     "output_type": "stream",
     "text": [
      " 87%|████████▋ | 133077/153700 [11:29:34<2:52:59,  1.99it/s]"
     ]
    },
    {
     "name": "stdout",
     "output_type": "stream",
     "text": [
      "File 27021599488904422 not found in /yngve_data/sdssv/ipl-2/spectro/astra/0.3.0/v6_0_9-1.0/spectra/star\n"
     ]
    },
    {
     "name": "stderr",
     "output_type": "stream",
     "text": [
      " 87%|████████▋ | 133078/153700 [11:29:34<2:53:32,  1.98it/s]"
     ]
    },
    {
     "name": "stdout",
     "output_type": "stream",
     "text": [
      "File 27021599488904424 not found in /yngve_data/sdssv/ipl-2/spectro/astra/0.3.0/v6_0_9-1.0/spectra/star\n"
     ]
    },
    {
     "name": "stderr",
     "output_type": "stream",
     "text": [
      " 87%|████████▋ | 133079/153700 [11:29:35<2:55:34,  1.96it/s]"
     ]
    },
    {
     "name": "stdout",
     "output_type": "stream",
     "text": [
      "File 27021599488904425 not found in /yngve_data/sdssv/ipl-2/spectro/astra/0.3.0/v6_0_9-1.0/spectra/star\n"
     ]
    },
    {
     "name": "stderr",
     "output_type": "stream",
     "text": [
      " 87%|████████▋ | 133080/153700 [11:29:35<2:54:35,  1.97it/s]"
     ]
    },
    {
     "name": "stdout",
     "output_type": "stream",
     "text": [
      "File 27021599488904426 not found in /yngve_data/sdssv/ipl-2/spectro/astra/0.3.0/v6_0_9-1.0/spectra/star\n"
     ]
    },
    {
     "name": "stderr",
     "output_type": "stream",
     "text": [
      " 87%|████████▋ | 133081/153700 [11:29:36<2:56:19,  1.95it/s]"
     ]
    },
    {
     "name": "stdout",
     "output_type": "stream",
     "text": [
      "File 27021599488904436 not found in /yngve_data/sdssv/ipl-2/spectro/astra/0.3.0/v6_0_9-1.0/spectra/star\n"
     ]
    },
    {
     "name": "stderr",
     "output_type": "stream",
     "text": [
      " 87%|████████▋ | 133082/153700 [11:29:36<2:57:35,  1.93it/s]"
     ]
    },
    {
     "name": "stdout",
     "output_type": "stream",
     "text": [
      "File 27021599488904438 not found in /yngve_data/sdssv/ipl-2/spectro/astra/0.3.0/v6_0_9-1.0/spectra/star\n"
     ]
    },
    {
     "name": "stderr",
     "output_type": "stream",
     "text": [
      " 87%|████████▋ | 133083/153700 [11:29:37<2:55:25,  1.96it/s]"
     ]
    },
    {
     "name": "stdout",
     "output_type": "stream",
     "text": [
      "File 27021599488904440 not found in /yngve_data/sdssv/ipl-2/spectro/astra/0.3.0/v6_0_9-1.0/spectra/star\n"
     ]
    },
    {
     "name": "stderr",
     "output_type": "stream",
     "text": [
      " 87%|████████▋ | 133084/153700 [11:29:37<2:55:29,  1.96it/s]"
     ]
    },
    {
     "name": "stdout",
     "output_type": "stream",
     "text": [
      "File 27021599488904441 not found in /yngve_data/sdssv/ipl-2/spectro/astra/0.3.0/v6_0_9-1.0/spectra/star\n"
     ]
    },
    {
     "name": "stderr",
     "output_type": "stream",
     "text": [
      " 87%|████████▋ | 133085/153700 [11:29:38<2:55:00,  1.96it/s]"
     ]
    },
    {
     "name": "stdout",
     "output_type": "stream",
     "text": [
      "File 27021599488904445 not found in /yngve_data/sdssv/ipl-2/spectro/astra/0.3.0/v6_0_9-1.0/spectra/star\n"
     ]
    },
    {
     "name": "stderr",
     "output_type": "stream",
     "text": [
      " 87%|████████▋ | 133086/153700 [11:29:38<2:57:03,  1.94it/s]"
     ]
    },
    {
     "name": "stdout",
     "output_type": "stream",
     "text": [
      "File 27021599488904451 not found in /yngve_data/sdssv/ipl-2/spectro/astra/0.3.0/v6_0_9-1.0/spectra/star\n"
     ]
    },
    {
     "name": "stderr",
     "output_type": "stream",
     "text": [
      " 87%|████████▋ | 133087/153700 [11:29:39<2:57:08,  1.94it/s]"
     ]
    },
    {
     "name": "stdout",
     "output_type": "stream",
     "text": [
      "File 27021599488904459 not found in /yngve_data/sdssv/ipl-2/spectro/astra/0.3.0/v6_0_9-1.0/spectra/star\n"
     ]
    },
    {
     "name": "stderr",
     "output_type": "stream",
     "text": [
      " 87%|████████▋ | 133088/153700 [11:29:39<2:58:54,  1.92it/s]"
     ]
    },
    {
     "name": "stdout",
     "output_type": "stream",
     "text": [
      "File 27021599488904466 not found in /yngve_data/sdssv/ipl-2/spectro/astra/0.3.0/v6_0_9-1.0/spectra/star\n"
     ]
    },
    {
     "name": "stderr",
     "output_type": "stream",
     "text": [
      " 87%|████████▋ | 133089/153700 [11:29:40<2:59:32,  1.91it/s]"
     ]
    },
    {
     "name": "stdout",
     "output_type": "stream",
     "text": [
      "File 27021599488904469 not found in /yngve_data/sdssv/ipl-2/spectro/astra/0.3.0/v6_0_9-1.0/spectra/star\n"
     ]
    },
    {
     "name": "stderr",
     "output_type": "stream",
     "text": [
      " 87%|████████▋ | 133090/153700 [11:29:40<2:56:53,  1.94it/s]"
     ]
    },
    {
     "name": "stdout",
     "output_type": "stream",
     "text": [
      "File 27021599488904470 not found in /yngve_data/sdssv/ipl-2/spectro/astra/0.3.0/v6_0_9-1.0/spectra/star\n"
     ]
    },
    {
     "name": "stderr",
     "output_type": "stream",
     "text": [
      " 87%|████████▋ | 133091/153700 [11:29:41<2:53:36,  1.98it/s]"
     ]
    },
    {
     "name": "stdout",
     "output_type": "stream",
     "text": [
      "File 27021599488904472 not found in /yngve_data/sdssv/ipl-2/spectro/astra/0.3.0/v6_0_9-1.0/spectra/star\n"
     ]
    },
    {
     "name": "stderr",
     "output_type": "stream",
     "text": [
      " 87%|████████▋ | 133092/153700 [11:29:41<2:52:22,  1.99it/s]"
     ]
    },
    {
     "name": "stdout",
     "output_type": "stream",
     "text": [
      "File 27021599488904479 not found in /yngve_data/sdssv/ipl-2/spectro/astra/0.3.0/v6_0_9-1.0/spectra/star\n"
     ]
    },
    {
     "name": "stderr",
     "output_type": "stream",
     "text": [
      " 87%|████████▋ | 133093/153700 [11:29:42<3:03:17,  1.87it/s]"
     ]
    },
    {
     "name": "stdout",
     "output_type": "stream",
     "text": [
      "File 27021599488904483 not found in /yngve_data/sdssv/ipl-2/spectro/astra/0.3.0/v6_0_9-1.0/spectra/star\n"
     ]
    },
    {
     "name": "stderr",
     "output_type": "stream",
     "text": [
      " 87%|████████▋ | 133094/153700 [11:29:43<3:24:41,  1.68it/s]"
     ]
    },
    {
     "name": "stdout",
     "output_type": "stream",
     "text": [
      "File 27021599488904484 not found in /yngve_data/sdssv/ipl-2/spectro/astra/0.3.0/v6_0_9-1.0/spectra/star\n"
     ]
    },
    {
     "name": "stderr",
     "output_type": "stream",
     "text": [
      " 87%|████████▋ | 133095/153700 [11:29:43<3:17:17,  1.74it/s]"
     ]
    },
    {
     "name": "stdout",
     "output_type": "stream",
     "text": [
      "File 27021599488904490 not found in /yngve_data/sdssv/ipl-2/spectro/astra/0.3.0/v6_0_9-1.0/spectra/star\n"
     ]
    },
    {
     "name": "stderr",
     "output_type": "stream",
     "text": [
      " 87%|████████▋ | 133096/153700 [11:29:44<3:10:22,  1.80it/s]"
     ]
    },
    {
     "name": "stdout",
     "output_type": "stream",
     "text": [
      "File 27021599488904494 not found in /yngve_data/sdssv/ipl-2/spectro/astra/0.3.0/v6_0_9-1.0/spectra/star\n"
     ]
    },
    {
     "name": "stderr",
     "output_type": "stream",
     "text": [
      " 87%|████████▋ | 133097/153700 [11:29:44<3:05:04,  1.86it/s]"
     ]
    },
    {
     "name": "stdout",
     "output_type": "stream",
     "text": [
      "File 27021599488904495 not found in /yngve_data/sdssv/ipl-2/spectro/astra/0.3.0/v6_0_9-1.0/spectra/star\n"
     ]
    },
    {
     "name": "stderr",
     "output_type": "stream",
     "text": [
      " 87%|████████▋ | 133098/153700 [11:29:45<3:01:35,  1.89it/s]"
     ]
    },
    {
     "name": "stdout",
     "output_type": "stream",
     "text": [
      "File 27021599488904497 not found in /yngve_data/sdssv/ipl-2/spectro/astra/0.3.0/v6_0_9-1.0/spectra/star\n"
     ]
    },
    {
     "name": "stderr",
     "output_type": "stream",
     "text": [
      " 87%|████████▋ | 133099/153700 [11:29:45<2:59:33,  1.91it/s]"
     ]
    },
    {
     "name": "stdout",
     "output_type": "stream",
     "text": [
      "File 27021599488904500 not found in /yngve_data/sdssv/ipl-2/spectro/astra/0.3.0/v6_0_9-1.0/spectra/star\n"
     ]
    },
    {
     "name": "stderr",
     "output_type": "stream",
     "text": [
      " 87%|████████▋ | 133100/153700 [11:29:46<2:55:01,  1.96it/s]"
     ]
    },
    {
     "name": "stdout",
     "output_type": "stream",
     "text": [
      "File 27021599488904502 not found in /yngve_data/sdssv/ipl-2/spectro/astra/0.3.0/v6_0_9-1.0/spectra/star\n"
     ]
    },
    {
     "name": "stderr",
     "output_type": "stream",
     "text": [
      " 87%|████████▋ | 133101/153700 [11:29:46<2:51:32,  2.00it/s]"
     ]
    },
    {
     "name": "stdout",
     "output_type": "stream",
     "text": [
      "File 27021599488904503 not found in /yngve_data/sdssv/ipl-2/spectro/astra/0.3.0/v6_0_9-1.0/spectra/star\n"
     ]
    },
    {
     "name": "stderr",
     "output_type": "stream",
     "text": [
      " 87%|████████▋ | 133102/153700 [11:29:47<2:49:32,  2.02it/s]"
     ]
    },
    {
     "name": "stdout",
     "output_type": "stream",
     "text": [
      "File 27021599488904507 not found in /yngve_data/sdssv/ipl-2/spectro/astra/0.3.0/v6_0_9-1.0/spectra/star\n"
     ]
    },
    {
     "name": "stderr",
     "output_type": "stream",
     "text": [
      " 87%|████████▋ | 133103/153700 [11:29:47<2:51:24,  2.00it/s]"
     ]
    },
    {
     "name": "stdout",
     "output_type": "stream",
     "text": [
      "File 27021599488904510 not found in /yngve_data/sdssv/ipl-2/spectro/astra/0.3.0/v6_0_9-1.0/spectra/star\n"
     ]
    },
    {
     "name": "stderr",
     "output_type": "stream",
     "text": [
      " 87%|████████▋ | 133104/153700 [11:29:48<3:19:41,  1.72it/s]"
     ]
    },
    {
     "name": "stdout",
     "output_type": "stream",
     "text": [
      "File 27021599488904515 not found in /yngve_data/sdssv/ipl-2/spectro/astra/0.3.0/v6_0_9-1.0/spectra/star\n"
     ]
    },
    {
     "name": "stderr",
     "output_type": "stream",
     "text": [
      " 87%|████████▋ | 133105/153700 [11:29:48<3:20:58,  1.71it/s]"
     ]
    },
    {
     "name": "stdout",
     "output_type": "stream",
     "text": [
      "File 27021599488904518 not found in /yngve_data/sdssv/ipl-2/spectro/astra/0.3.0/v6_0_9-1.0/spectra/star\n"
     ]
    },
    {
     "name": "stderr",
     "output_type": "stream",
     "text": [
      " 87%|████████▋ | 133106/153700 [11:29:49<3:12:59,  1.78it/s]"
     ]
    },
    {
     "name": "stdout",
     "output_type": "stream",
     "text": [
      "File 27021599488904519 not found in /yngve_data/sdssv/ipl-2/spectro/astra/0.3.0/v6_0_9-1.0/spectra/star\n"
     ]
    },
    {
     "name": "stderr",
     "output_type": "stream",
     "text": [
      " 87%|████████▋ | 133107/153700 [11:29:49<3:07:32,  1.83it/s]"
     ]
    },
    {
     "name": "stdout",
     "output_type": "stream",
     "text": [
      "File 27021599488904520 not found in /yngve_data/sdssv/ipl-2/spectro/astra/0.3.0/v6_0_9-1.0/spectra/star\n"
     ]
    },
    {
     "name": "stderr",
     "output_type": "stream",
     "text": [
      " 87%|████████▋ | 133108/153700 [11:29:50<3:06:29,  1.84it/s]"
     ]
    },
    {
     "name": "stdout",
     "output_type": "stream",
     "text": [
      "File 27021599488904521 not found in /yngve_data/sdssv/ipl-2/spectro/astra/0.3.0/v6_0_9-1.0/spectra/star\n"
     ]
    },
    {
     "name": "stderr",
     "output_type": "stream",
     "text": [
      " 87%|████████▋ | 133109/153700 [11:29:51<3:01:48,  1.89it/s]"
     ]
    },
    {
     "name": "stdout",
     "output_type": "stream",
     "text": [
      "File 27021599488904523 not found in /yngve_data/sdssv/ipl-2/spectro/astra/0.3.0/v6_0_9-1.0/spectra/star\n"
     ]
    },
    {
     "name": "stderr",
     "output_type": "stream",
     "text": [
      " 87%|████████▋ | 133110/153700 [11:29:51<3:01:27,  1.89it/s]"
     ]
    },
    {
     "name": "stdout",
     "output_type": "stream",
     "text": [
      "File 27021599488904529 not found in /yngve_data/sdssv/ipl-2/spectro/astra/0.3.0/v6_0_9-1.0/spectra/star\n"
     ]
    },
    {
     "name": "stderr",
     "output_type": "stream",
     "text": [
      " 87%|████████▋ | 133111/153700 [11:29:52<2:58:41,  1.92it/s]"
     ]
    },
    {
     "name": "stdout",
     "output_type": "stream",
     "text": [
      "File 27021599488904536 not found in /yngve_data/sdssv/ipl-2/spectro/astra/0.3.0/v6_0_9-1.0/spectra/star\n"
     ]
    },
    {
     "name": "stderr",
     "output_type": "stream",
     "text": [
      " 87%|████████▋ | 133112/153700 [11:29:52<2:56:32,  1.94it/s]"
     ]
    },
    {
     "name": "stdout",
     "output_type": "stream",
     "text": [
      "File 27021599488904538 not found in /yngve_data/sdssv/ipl-2/spectro/astra/0.3.0/v6_0_9-1.0/spectra/star\n"
     ]
    },
    {
     "name": "stderr",
     "output_type": "stream",
     "text": [
      " 87%|████████▋ | 133113/153700 [11:29:53<2:58:51,  1.92it/s]"
     ]
    },
    {
     "name": "stdout",
     "output_type": "stream",
     "text": [
      "File 27021599488904540 not found in /yngve_data/sdssv/ipl-2/spectro/astra/0.3.0/v6_0_9-1.0/spectra/star\n"
     ]
    },
    {
     "name": "stderr",
     "output_type": "stream",
     "text": [
      " 87%|████████▋ | 133114/153700 [11:29:53<2:58:36,  1.92it/s]"
     ]
    },
    {
     "name": "stdout",
     "output_type": "stream",
     "text": [
      "File 27021599488904542 not found in /yngve_data/sdssv/ipl-2/spectro/astra/0.3.0/v6_0_9-1.0/spectra/star\n"
     ]
    },
    {
     "name": "stderr",
     "output_type": "stream",
     "text": [
      " 87%|████████▋ | 133115/153700 [11:29:54<2:57:42,  1.93it/s]"
     ]
    },
    {
     "name": "stdout",
     "output_type": "stream",
     "text": [
      "File 27021599488904544 not found in /yngve_data/sdssv/ipl-2/spectro/astra/0.3.0/v6_0_9-1.0/spectra/star\n"
     ]
    },
    {
     "name": "stderr",
     "output_type": "stream",
     "text": [
      " 87%|████████▋ | 133116/153700 [11:29:54<2:55:19,  1.96it/s]"
     ]
    },
    {
     "name": "stdout",
     "output_type": "stream",
     "text": [
      "File 27021599488904548 not found in /yngve_data/sdssv/ipl-2/spectro/astra/0.3.0/v6_0_9-1.0/spectra/star\n"
     ]
    },
    {
     "name": "stderr",
     "output_type": "stream",
     "text": [
      " 87%|████████▋ | 133117/153700 [11:29:55<2:54:21,  1.97it/s]"
     ]
    },
    {
     "name": "stdout",
     "output_type": "stream",
     "text": [
      "File 27021599488904552 not found in /yngve_data/sdssv/ipl-2/spectro/astra/0.3.0/v6_0_9-1.0/spectra/star\n"
     ]
    },
    {
     "name": "stderr",
     "output_type": "stream",
     "text": [
      " 87%|████████▋ | 133118/153700 [11:29:55<2:54:57,  1.96it/s]"
     ]
    },
    {
     "name": "stdout",
     "output_type": "stream",
     "text": [
      "File 27021599488904557 not found in /yngve_data/sdssv/ipl-2/spectro/astra/0.3.0/v6_0_9-1.0/spectra/star\n"
     ]
    },
    {
     "name": "stderr",
     "output_type": "stream",
     "text": [
      " 87%|████████▋ | 133119/153700 [11:29:56<2:53:32,  1.98it/s]"
     ]
    },
    {
     "name": "stdout",
     "output_type": "stream",
     "text": [
      "File 27021599488904560 not found in /yngve_data/sdssv/ipl-2/spectro/astra/0.3.0/v6_0_9-1.0/spectra/star\n"
     ]
    },
    {
     "name": "stderr",
     "output_type": "stream",
     "text": [
      " 87%|████████▋ | 133120/153700 [11:29:56<2:56:45,  1.94it/s]"
     ]
    },
    {
     "name": "stdout",
     "output_type": "stream",
     "text": [
      "File 27021599488904566 not found in /yngve_data/sdssv/ipl-2/spectro/astra/0.3.0/v6_0_9-1.0/spectra/star\n"
     ]
    },
    {
     "name": "stderr",
     "output_type": "stream",
     "text": [
      " 87%|████████▋ | 133121/153700 [11:29:57<2:58:06,  1.93it/s]"
     ]
    },
    {
     "name": "stdout",
     "output_type": "stream",
     "text": [
      "File 27021599488904568 not found in /yngve_data/sdssv/ipl-2/spectro/astra/0.3.0/v6_0_9-1.0/spectra/star\n"
     ]
    },
    {
     "name": "stderr",
     "output_type": "stream",
     "text": [
      " 87%|████████▋ | 133122/153700 [11:29:57<2:58:31,  1.92it/s]"
     ]
    },
    {
     "name": "stdout",
     "output_type": "stream",
     "text": [
      "File 27021599488904570 not found in /yngve_data/sdssv/ipl-2/spectro/astra/0.3.0/v6_0_9-1.0/spectra/star\n"
     ]
    },
    {
     "name": "stderr",
     "output_type": "stream",
     "text": [
      " 87%|████████▋ | 133123/153700 [11:29:58<2:58:50,  1.92it/s]"
     ]
    },
    {
     "name": "stdout",
     "output_type": "stream",
     "text": [
      "File 27021599488904571 not found in /yngve_data/sdssv/ipl-2/spectro/astra/0.3.0/v6_0_9-1.0/spectra/star\n"
     ]
    },
    {
     "name": "stderr",
     "output_type": "stream",
     "text": [
      " 87%|████████▋ | 133124/153700 [11:29:58<2:58:01,  1.93it/s]"
     ]
    },
    {
     "name": "stdout",
     "output_type": "stream",
     "text": [
      "File 27021599488904572 not found in /yngve_data/sdssv/ipl-2/spectro/astra/0.3.0/v6_0_9-1.0/spectra/star\n"
     ]
    },
    {
     "name": "stderr",
     "output_type": "stream",
     "text": [
      " 87%|████████▋ | 133125/153700 [11:29:59<2:56:08,  1.95it/s]"
     ]
    },
    {
     "name": "stdout",
     "output_type": "stream",
     "text": [
      "File 27021599488904576 not found in /yngve_data/sdssv/ipl-2/spectro/astra/0.3.0/v6_0_9-1.0/spectra/star\n"
     ]
    },
    {
     "name": "stderr",
     "output_type": "stream",
     "text": [
      " 87%|████████▋ | 133126/153700 [11:29:59<2:55:08,  1.96it/s]"
     ]
    },
    {
     "name": "stdout",
     "output_type": "stream",
     "text": [
      "File 27021599488904579 not found in /yngve_data/sdssv/ipl-2/spectro/astra/0.3.0/v6_0_9-1.0/spectra/star\n"
     ]
    },
    {
     "name": "stderr",
     "output_type": "stream",
     "text": [
      " 87%|████████▋ | 133127/153700 [11:30:00<2:53:14,  1.98it/s]"
     ]
    },
    {
     "name": "stdout",
     "output_type": "stream",
     "text": [
      "File 27021599488904582 not found in /yngve_data/sdssv/ipl-2/spectro/astra/0.3.0/v6_0_9-1.0/spectra/star\n"
     ]
    },
    {
     "name": "stderr",
     "output_type": "stream",
     "text": [
      " 87%|████████▋ | 133128/153700 [11:30:00<2:54:51,  1.96it/s]"
     ]
    },
    {
     "name": "stdout",
     "output_type": "stream",
     "text": [
      "File 27021599488904584 not found in /yngve_data/sdssv/ipl-2/spectro/astra/0.3.0/v6_0_9-1.0/spectra/star\n"
     ]
    },
    {
     "name": "stderr",
     "output_type": "stream",
     "text": [
      " 87%|████████▋ | 133129/153700 [11:30:01<2:54:20,  1.97it/s]"
     ]
    },
    {
     "name": "stdout",
     "output_type": "stream",
     "text": [
      "File 27021599488904587 not found in /yngve_data/sdssv/ipl-2/spectro/astra/0.3.0/v6_0_9-1.0/spectra/star\n"
     ]
    },
    {
     "name": "stderr",
     "output_type": "stream",
     "text": [
      " 87%|████████▋ | 133130/153700 [11:30:01<2:55:51,  1.95it/s]"
     ]
    },
    {
     "name": "stdout",
     "output_type": "stream",
     "text": [
      "File 27021599488904591 not found in /yngve_data/sdssv/ipl-2/spectro/astra/0.3.0/v6_0_9-1.0/spectra/star\n"
     ]
    },
    {
     "name": "stderr",
     "output_type": "stream",
     "text": [
      " 87%|████████▋ | 133131/153700 [11:30:02<2:54:46,  1.96it/s]"
     ]
    },
    {
     "name": "stdout",
     "output_type": "stream",
     "text": [
      "File 27021599488904597 not found in /yngve_data/sdssv/ipl-2/spectro/astra/0.3.0/v6_0_9-1.0/spectra/star\n"
     ]
    },
    {
     "name": "stderr",
     "output_type": "stream",
     "text": [
      " 87%|████████▋ | 133132/153700 [11:30:02<2:56:17,  1.94it/s]"
     ]
    },
    {
     "name": "stdout",
     "output_type": "stream",
     "text": [
      "File 27021599488904602 not found in /yngve_data/sdssv/ipl-2/spectro/astra/0.3.0/v6_0_9-1.0/spectra/star\n"
     ]
    },
    {
     "name": "stderr",
     "output_type": "stream",
     "text": [
      " 87%|████████▋ | 133133/153700 [11:30:03<2:58:50,  1.92it/s]"
     ]
    },
    {
     "name": "stdout",
     "output_type": "stream",
     "text": [
      "File 27021599488904603 not found in /yngve_data/sdssv/ipl-2/spectro/astra/0.3.0/v6_0_9-1.0/spectra/star\n"
     ]
    },
    {
     "name": "stderr",
     "output_type": "stream",
     "text": [
      " 87%|████████▋ | 133134/153700 [11:30:03<2:57:18,  1.93it/s]"
     ]
    },
    {
     "name": "stdout",
     "output_type": "stream",
     "text": [
      "File 27021599488904605 not found in /yngve_data/sdssv/ipl-2/spectro/astra/0.3.0/v6_0_9-1.0/spectra/star\n"
     ]
    },
    {
     "name": "stderr",
     "output_type": "stream",
     "text": [
      " 87%|████████▋ | 133135/153700 [11:30:04<2:54:30,  1.96it/s]"
     ]
    },
    {
     "name": "stdout",
     "output_type": "stream",
     "text": [
      "File 27021599488904609 not found in /yngve_data/sdssv/ipl-2/spectro/astra/0.3.0/v6_0_9-1.0/spectra/star\n"
     ]
    },
    {
     "name": "stderr",
     "output_type": "stream",
     "text": [
      " 87%|████████▋ | 133136/153700 [11:30:04<2:51:20,  2.00it/s]"
     ]
    },
    {
     "name": "stdout",
     "output_type": "stream",
     "text": [
      "File 27021599488904612 not found in /yngve_data/sdssv/ipl-2/spectro/astra/0.3.0/v6_0_9-1.0/spectra/star\n"
     ]
    },
    {
     "name": "stderr",
     "output_type": "stream",
     "text": [
      " 87%|████████▋ | 133137/153700 [11:30:05<2:50:05,  2.01it/s]"
     ]
    },
    {
     "name": "stdout",
     "output_type": "stream",
     "text": [
      "File 27021599488904615 not found in /yngve_data/sdssv/ipl-2/spectro/astra/0.3.0/v6_0_9-1.0/spectra/star\n"
     ]
    },
    {
     "name": "stderr",
     "output_type": "stream",
     "text": [
      " 87%|████████▋ | 133138/153700 [11:30:05<2:49:12,  2.03it/s]"
     ]
    },
    {
     "name": "stdout",
     "output_type": "stream",
     "text": [
      "File 27021599488904617 not found in /yngve_data/sdssv/ipl-2/spectro/astra/0.3.0/v6_0_9-1.0/spectra/star\n"
     ]
    },
    {
     "name": "stderr",
     "output_type": "stream",
     "text": [
      " 87%|████████▋ | 133139/153700 [11:30:06<2:49:30,  2.02it/s]"
     ]
    },
    {
     "name": "stdout",
     "output_type": "stream",
     "text": [
      "File 27021599488904618 not found in /yngve_data/sdssv/ipl-2/spectro/astra/0.3.0/v6_0_9-1.0/spectra/star\n"
     ]
    },
    {
     "name": "stderr",
     "output_type": "stream",
     "text": [
      " 87%|████████▋ | 133140/153700 [11:30:06<2:49:12,  2.03it/s]"
     ]
    },
    {
     "name": "stdout",
     "output_type": "stream",
     "text": [
      "File 27021599488904621 not found in /yngve_data/sdssv/ipl-2/spectro/astra/0.3.0/v6_0_9-1.0/spectra/star\n"
     ]
    },
    {
     "name": "stderr",
     "output_type": "stream",
     "text": [
      " 87%|████████▋ | 133271/153700 [11:30:38<2:17:52,  2.47it/s]"
     ]
    },
    {
     "name": "stdout",
     "output_type": "stream",
     "text": [
      "File 27021599488946721 not found in /yngve_data/sdssv/ipl-2/spectro/astra/0.3.0/v6_0_9-1.0/spectra/star\n"
     ]
    },
    {
     "name": "stderr",
     "output_type": "stream",
     "text": [
      " 87%|████████▋ | 133450/153700 [11:31:40<2:54:21,  1.94it/s]"
     ]
    },
    {
     "name": "stdout",
     "output_type": "stream",
     "text": [
      "File 27021599489006451 not found in /yngve_data/sdssv/ipl-2/spectro/astra/0.3.0/v6_0_9-1.0/spectra/star\n"
     ]
    },
    {
     "name": "stderr",
     "output_type": "stream",
     "text": [
      " 87%|████████▋ | 133533/153700 [11:31:59<1:46:54,  3.14it/s]"
     ]
    },
    {
     "name": "stdout",
     "output_type": "stream",
     "text": [
      "File 27021599489015390 not found in /yngve_data/sdssv/ipl-2/spectro/astra/0.3.0/v6_0_9-1.0/spectra/star\n"
     ]
    },
    {
     "name": "stderr",
     "output_type": "stream",
     "text": [
      " 88%|████████▊ | 135434/153700 [11:41:57<1:40:20,  3.03it/s]"
     ]
    },
    {
     "name": "stdout",
     "output_type": "stream",
     "text": [
      "File 27021599489094456 not found in /yngve_data/sdssv/ipl-2/spectro/astra/0.3.0/v6_0_9-1.0/spectra/star\n"
     ]
    },
    {
     "name": "stderr",
     "output_type": "stream",
     "text": [
      " 88%|████████▊ | 135515/153700 [11:42:33<4:09:09,  1.22it/s]"
     ]
    },
    {
     "name": "stdout",
     "output_type": "stream",
     "text": [
      "File 27021599489096944 not found in /yngve_data/sdssv/ipl-2/spectro/astra/0.3.0/v6_0_9-1.0/spectra/star\n"
     ]
    },
    {
     "name": "stderr",
     "output_type": "stream",
     "text": [
      " 88%|████████▊ | 135522/153700 [11:42:37<3:13:20,  1.57it/s]"
     ]
    },
    {
     "name": "stdout",
     "output_type": "stream",
     "text": [
      "File 27021599489097136 not found in /yngve_data/sdssv/ipl-2/spectro/astra/0.3.0/v6_0_9-1.0/spectra/star\n"
     ]
    },
    {
     "name": "stderr",
     "output_type": "stream",
     "text": [
      " 89%|████████▊ | 136113/153700 [11:46:36<1:10:54,  4.13it/s]"
     ]
    },
    {
     "name": "stdout",
     "output_type": "stream",
     "text": [
      "Traceback (most recent call last):\n",
      "  File \"/home/petershi/miniconda3/envs/SDSSV/lib/python3.11/site-packages/astropy/io/fits/column.py\", line 2142, in _get_index\n",
      "    indx = names.index(key.rstrip())\n",
      "           ^^^^^^^^^^^^^^^^^^^^^^^^^\n",
      "ValueError: 'SNR' is not in list\n",
      "\n",
      "During handling of the above exception, another exception occurred:\n",
      "\n",
      "Traceback (most recent call last):\n",
      "  File \"/tmp/ipykernel_10073/3388262553.py\", line 15, in <module>\n",
      "    cdata = getSDSSVData(cfile)\n",
      "            ^^^^^^^^^^^^^^^^^^^\n",
      "  File \"/tmp/ipykernel_10073/4007893978.py\", line 3, in getSDSSVData\n",
      "    snr = hdul[3].data[\"SNR\"]\n",
      "          ~~~~~~~~~~~~^^^^^^^\n",
      "  File \"/home/petershi/miniconda3/envs/SDSSV/lib/python3.11/site-packages/astropy/io/fits/fitsrec.py\", line 513, in __getitem__\n",
      "    return self.field(key)\n",
      "           ^^^^^^^^^^^^^^^\n",
      "  File \"/home/petershi/miniconda3/envs/SDSSV/lib/python3.11/site-packages/astropy/io/fits/fitsrec.py\", line 695, in field\n",
      "    column = self.columns[key]\n",
      "             ~~~~~~~~~~~~^^^^^\n",
      "  File \"/home/petershi/miniconda3/envs/SDSSV/lib/python3.11/site-packages/astropy/io/fits/column.py\", line 1751, in __getitem__\n",
      "    key = _get_index(self.names, key)\n",
      "          ^^^^^^^^^^^^^^^^^^^^^^^^^^^\n",
      "  File \"/home/petershi/miniconda3/envs/SDSSV/lib/python3.11/site-packages/astropy/io/fits/column.py\", line 2151, in _get_index\n",
      "    raise KeyError(f\"Key '{key}' does not exist.\")\n",
      "KeyError: \"Key 'SNR' does not exist.\"\n",
      "\n"
     ]
    },
    {
     "name": "stderr",
     "output_type": "stream",
     "text": [
      " 89%|████████▊ | 136206/153700 [11:46:58<31:27,  9.27it/s]  "
     ]
    },
    {
     "name": "stdout",
     "output_type": "stream",
     "text": [
      "File 27021599489120447 not found in /yngve_data/sdssv/ipl-2/spectro/astra/0.3.0/v6_0_9-1.0/spectra/star\n"
     ]
    },
    {
     "name": "stderr",
     "output_type": "stream",
     "text": [
      " 90%|█████████ | 138734/153700 [12:01:31<1:43:23,  2.41it/s]"
     ]
    },
    {
     "name": "stdout",
     "output_type": "stream",
     "text": [
      "File 27021599489142977 not found in /yngve_data/sdssv/ipl-2/spectro/astra/0.3.0/v6_0_9-1.0/spectra/star\n"
     ]
    },
    {
     "name": "stderr",
     "output_type": "stream",
     "text": [
      " 90%|█████████ | 138782/153700 [12:01:42<1:31:24,  2.72it/s]"
     ]
    },
    {
     "name": "stdout",
     "output_type": "stream",
     "text": [
      "File 27021599489143717 not found in /yngve_data/sdssv/ipl-2/spectro/astra/0.3.0/v6_0_9-1.0/spectra/star\n"
     ]
    },
    {
     "name": "stderr",
     "output_type": "stream",
     "text": [
      " 91%|█████████ | 139321/153700 [12:04:44<2:15:33,  1.77it/s]"
     ]
    },
    {
     "name": "stdout",
     "output_type": "stream",
     "text": [
      "File 27021599489145650 not found in /yngve_data/sdssv/ipl-2/spectro/astra/0.3.0/v6_0_9-1.0/spectra/star\n"
     ]
    },
    {
     "name": "stderr",
     "output_type": "stream",
     "text": [
      " 91%|█████████ | 139820/153700 [12:08:54<2:12:03,  1.75it/s]"
     ]
    },
    {
     "name": "stdout",
     "output_type": "stream",
     "text": [
      "File 27021599489149889 not found in /yngve_data/sdssv/ipl-2/spectro/astra/0.3.0/v6_0_9-1.0/spectra/star\n"
     ]
    },
    {
     "name": "stderr",
     "output_type": "stream",
     "text": [
      " 91%|█████████ | 140128/153700 [12:09:51<1:03:45,  3.55it/s]"
     ]
    },
    {
     "name": "stdout",
     "output_type": "stream",
     "text": [
      "File 27021599489153322 not found in /yngve_data/sdssv/ipl-2/spectro/astra/0.3.0/v6_0_9-1.0/spectra/star\n"
     ]
    },
    {
     "name": "stderr",
     "output_type": "stream",
     "text": [
      " 92%|█████████▏| 140702/153700 [12:12:46<1:11:45,  3.02it/s]"
     ]
    },
    {
     "name": "stdout",
     "output_type": "stream",
     "text": [
      "File 27021599489163767 not found in /yngve_data/sdssv/ipl-2/spectro/astra/0.3.0/v6_0_9-1.0/spectra/star\n"
     ]
    },
    {
     "name": "stderr",
     "output_type": "stream",
     "text": [
      " 92%|█████████▏| 140724/153700 [12:12:54<1:44:25,  2.07it/s]"
     ]
    },
    {
     "name": "stdout",
     "output_type": "stream",
     "text": [
      "File 27021599489164055 not found in /yngve_data/sdssv/ipl-2/spectro/astra/0.3.0/v6_0_9-1.0/spectra/star\n"
     ]
    },
    {
     "name": "stderr",
     "output_type": "stream",
     "text": [
      " 92%|█████████▏| 141345/153700 [12:16:17<2:00:52,  1.70it/s]"
     ]
    },
    {
     "name": "stdout",
     "output_type": "stream",
     "text": [
      "File 27021599489185871 not found in /yngve_data/sdssv/ipl-2/spectro/astra/0.3.0/v6_0_9-1.0/spectra/star\n"
     ]
    },
    {
     "name": "stderr",
     "output_type": "stream",
     "text": [
      " 92%|█████████▏| 141618/153700 [12:18:17<1:21:57,  2.46it/s]"
     ]
    },
    {
     "name": "stdout",
     "output_type": "stream",
     "text": [
      "File 27021599489186631 not found in /yngve_data/sdssv/ipl-2/spectro/astra/0.3.0/v6_0_9-1.0/spectra/star\n"
     ]
    },
    {
     "name": "stderr",
     "output_type": "stream",
     "text": [
      " 92%|█████████▏| 141979/153700 [12:21:14<1:49:24,  1.79it/s]"
     ]
    },
    {
     "name": "stdout",
     "output_type": "stream",
     "text": [
      "File 27021599489188379 not found in /yngve_data/sdssv/ipl-2/spectro/astra/0.3.0/v6_0_9-1.0/spectra/star\n"
     ]
    },
    {
     "name": "stderr",
     "output_type": "stream",
     "text": [
      " 93%|█████████▎| 142258/153700 [12:22:41<1:17:45,  2.45it/s]"
     ]
    },
    {
     "name": "stdout",
     "output_type": "stream",
     "text": [
      "File 27021599489195492 not found in /yngve_data/sdssv/ipl-2/spectro/astra/0.3.0/v6_0_9-1.0/spectra/star\n"
     ]
    },
    {
     "name": "stderr",
     "output_type": "stream",
     "text": [
      " 93%|█████████▎| 142393/153700 [12:23:38<1:17:51,  2.42it/s]"
     ]
    },
    {
     "name": "stdout",
     "output_type": "stream",
     "text": [
      "File 27021599489195849 not found in /yngve_data/sdssv/ipl-2/spectro/astra/0.3.0/v6_0_9-1.0/spectra/star\n"
     ]
    },
    {
     "name": "stderr",
     "output_type": "stream",
     "text": [
      " 94%|█████████▎| 144001/153700 [12:33:35<1:05:16,  2.48it/s]"
     ]
    },
    {
     "name": "stdout",
     "output_type": "stream",
     "text": [
      "File 27021599489203992 not found in /yngve_data/sdssv/ipl-2/spectro/astra/0.3.0/v6_0_9-1.0/spectra/star\n"
     ]
    },
    {
     "name": "stderr",
     "output_type": "stream",
     "text": [
      " 94%|█████████▍| 144568/153700 [12:36:06<49:03,  3.10it/s]  "
     ]
    },
    {
     "name": "stdout",
     "output_type": "stream",
     "text": [
      "File 27021599489223384 not found in /yngve_data/sdssv/ipl-2/spectro/astra/0.3.0/v6_0_9-1.0/spectra/star\n"
     ]
    },
    {
     "name": "stderr",
     "output_type": "stream",
     "text": [
      " 94%|█████████▍| 144908/153700 [12:37:51<1:12:15,  2.03it/s]"
     ]
    },
    {
     "name": "stdout",
     "output_type": "stream",
     "text": [
      "File 27021599489224568 not found in /yngve_data/sdssv/ipl-2/spectro/astra/0.3.0/v6_0_9-1.0/spectra/star\n"
     ]
    },
    {
     "name": "stderr",
     "output_type": "stream",
     "text": [
      " 94%|█████████▍| 145080/153700 [12:38:48<1:17:11,  1.86it/s]"
     ]
    },
    {
     "name": "stdout",
     "output_type": "stream",
     "text": [
      "File 27021599489225173 not found in /yngve_data/sdssv/ipl-2/spectro/astra/0.3.0/v6_0_9-1.0/spectra/star\n"
     ]
    },
    {
     "name": "stderr",
     "output_type": "stream",
     "text": [
      " 95%|█████████▍| 145322/153700 [12:40:36<1:11:24,  1.96it/s]"
     ]
    },
    {
     "name": "stdout",
     "output_type": "stream",
     "text": [
      "File 27021599489227282 not found in /yngve_data/sdssv/ipl-2/spectro/astra/0.3.0/v6_0_9-1.0/spectra/star\n"
     ]
    },
    {
     "name": "stderr",
     "output_type": "stream",
     "text": [
      " 95%|█████████▍| 145578/153700 [12:42:44<17:52,  7.58it/s]  "
     ]
    },
    {
     "name": "stdout",
     "output_type": "stream",
     "text": [
      "File 27021599489230428 not found in /yngve_data/sdssv/ipl-2/spectro/astra/0.3.0/v6_0_9-1.0/spectra/star\n"
     ]
    },
    {
     "name": "stderr",
     "output_type": "stream",
     "text": [
      " 95%|█████████▌| 146736/153700 [12:46:55<1:32:09,  1.26it/s]"
     ]
    },
    {
     "name": "stdout",
     "output_type": "stream",
     "text": [
      "File 27021599489234702 not found in /yngve_data/sdssv/ipl-2/spectro/astra/0.3.0/v6_0_9-1.0/spectra/star\n"
     ]
    },
    {
     "name": "stderr",
     "output_type": "stream",
     "text": [
      " 96%|█████████▌| 146808/153700 [12:47:26<57:26,  2.00it/s]  "
     ]
    },
    {
     "name": "stdout",
     "output_type": "stream",
     "text": [
      "File 27021599489234865 not found in /yngve_data/sdssv/ipl-2/spectro/astra/0.3.0/v6_0_9-1.0/spectra/star\n"
     ]
    },
    {
     "name": "stderr",
     "output_type": "stream",
     "text": [
      " 96%|█████████▌| 146876/153700 [12:47:48<54:39,  2.08it/s]"
     ]
    },
    {
     "name": "stdout",
     "output_type": "stream",
     "text": [
      "File 27021599489235051 not found in /yngve_data/sdssv/ipl-2/spectro/astra/0.3.0/v6_0_9-1.0/spectra/star\n"
     ]
    },
    {
     "name": "stderr",
     "output_type": "stream",
     "text": [
      " 96%|█████████▌| 147553/153700 [12:51:23<41:05,  2.49it/s]"
     ]
    },
    {
     "name": "stdout",
     "output_type": "stream",
     "text": [
      "File 27021599489245735 not found in /yngve_data/sdssv/ipl-2/spectro/astra/0.3.0/v6_0_9-1.0/spectra/star\n"
     ]
    },
    {
     "name": "stderr",
     "output_type": "stream",
     "text": [
      " 96%|█████████▌| 147562/153700 [12:51:27<45:47,  2.23it/s]"
     ]
    },
    {
     "name": "stdout",
     "output_type": "stream",
     "text": [
      "File 27021599489245750 not found in /yngve_data/sdssv/ipl-2/spectro/astra/0.3.0/v6_0_9-1.0/spectra/star\n"
     ]
    },
    {
     "name": "stderr",
     "output_type": "stream",
     "text": [
      " 96%|█████████▌| 147563/153700 [12:51:27<47:09,  2.17it/s]"
     ]
    },
    {
     "name": "stdout",
     "output_type": "stream",
     "text": [
      "File 27021599489245751 not found in /yngve_data/sdssv/ipl-2/spectro/astra/0.3.0/v6_0_9-1.0/spectra/star\n"
     ]
    },
    {
     "name": "stderr",
     "output_type": "stream",
     "text": [
      " 96%|█████████▌| 147566/153700 [12:51:28<43:36,  2.34it/s]"
     ]
    },
    {
     "name": "stdout",
     "output_type": "stream",
     "text": [
      "File 27021599489245754 not found in /yngve_data/sdssv/ipl-2/spectro/astra/0.3.0/v6_0_9-1.0/spectra/star\n"
     ]
    },
    {
     "name": "stderr",
     "output_type": "stream",
     "text": [
      " 96%|█████████▌| 147572/153700 [12:51:31<54:59,  1.86it/s]"
     ]
    },
    {
     "name": "stdout",
     "output_type": "stream",
     "text": [
      "File 27021599489245767 not found in /yngve_data/sdssv/ipl-2/spectro/astra/0.3.0/v6_0_9-1.0/spectra/star\n"
     ]
    },
    {
     "name": "stderr",
     "output_type": "stream",
     "text": [
      " 96%|█████████▌| 147573/153700 [12:51:32<1:01:56,  1.65it/s]"
     ]
    },
    {
     "name": "stdout",
     "output_type": "stream",
     "text": [
      "File 27021599489245768 not found in /yngve_data/sdssv/ipl-2/spectro/astra/0.3.0/v6_0_9-1.0/spectra/star\n"
     ]
    },
    {
     "name": "stderr",
     "output_type": "stream",
     "text": [
      " 96%|█████████▌| 147580/153700 [12:51:36<58:26,  1.75it/s]  "
     ]
    },
    {
     "name": "stdout",
     "output_type": "stream",
     "text": [
      "File 27021599489245777 not found in /yngve_data/sdssv/ipl-2/spectro/astra/0.3.0/v6_0_9-1.0/spectra/star\n"
     ]
    },
    {
     "name": "stderr",
     "output_type": "stream",
     "text": [
      " 96%|█████████▌| 147589/153700 [12:51:39<52:05,  1.95it/s]"
     ]
    },
    {
     "name": "stdout",
     "output_type": "stream",
     "text": [
      "File 27021599489245797 not found in /yngve_data/sdssv/ipl-2/spectro/astra/0.3.0/v6_0_9-1.0/spectra/star\n"
     ]
    },
    {
     "name": "stderr",
     "output_type": "stream",
     "text": [
      " 96%|█████████▌| 147615/153700 [12:51:50<46:19,  2.19it/s]"
     ]
    },
    {
     "name": "stdout",
     "output_type": "stream",
     "text": [
      "File 27021599489245871 not found in /yngve_data/sdssv/ipl-2/spectro/astra/0.3.0/v6_0_9-1.0/spectra/star\n"
     ]
    },
    {
     "name": "stderr",
     "output_type": "stream",
     "text": [
      " 96%|█████████▌| 147681/153700 [12:52:20<44:08,  2.27it/s]"
     ]
    },
    {
     "name": "stdout",
     "output_type": "stream",
     "text": [
      "File 27021599489246073 not found in /yngve_data/sdssv/ipl-2/spectro/astra/0.3.0/v6_0_9-1.0/spectra/star\n"
     ]
    },
    {
     "name": "stderr",
     "output_type": "stream",
     "text": [
      " 96%|█████████▌| 147684/153700 [12:52:21<46:05,  2.18it/s]"
     ]
    },
    {
     "name": "stdout",
     "output_type": "stream",
     "text": [
      "File 27021599489246082 not found in /yngve_data/sdssv/ipl-2/spectro/astra/0.3.0/v6_0_9-1.0/spectra/star\n"
     ]
    },
    {
     "name": "stderr",
     "output_type": "stream",
     "text": [
      " 96%|█████████▌| 147694/153700 [12:52:26<43:42,  2.29it/s]"
     ]
    },
    {
     "name": "stdout",
     "output_type": "stream",
     "text": [
      "File 27021599489246115 not found in /yngve_data/sdssv/ipl-2/spectro/astra/0.3.0/v6_0_9-1.0/spectra/star\n"
     ]
    },
    {
     "name": "stderr",
     "output_type": "stream",
     "text": [
      " 96%|█████████▌| 147695/153700 [12:52:26<45:41,  2.19it/s]"
     ]
    },
    {
     "name": "stdout",
     "output_type": "stream",
     "text": [
      "File 27021599489246122 not found in /yngve_data/sdssv/ipl-2/spectro/astra/0.3.0/v6_0_9-1.0/spectra/star\n"
     ]
    },
    {
     "name": "stderr",
     "output_type": "stream",
     "text": [
      " 96%|█████████▌| 147697/153700 [12:52:27<45:02,  2.22it/s]"
     ]
    },
    {
     "name": "stdout",
     "output_type": "stream",
     "text": [
      "File 27021599489246125 not found in /yngve_data/sdssv/ipl-2/spectro/astra/0.3.0/v6_0_9-1.0/spectra/star\n"
     ]
    },
    {
     "name": "stderr",
     "output_type": "stream",
     "text": [
      " 96%|█████████▌| 147699/153700 [12:52:28<45:37,  2.19it/s]"
     ]
    },
    {
     "name": "stdout",
     "output_type": "stream",
     "text": [
      "File 27021599489246133 not found in /yngve_data/sdssv/ipl-2/spectro/astra/0.3.0/v6_0_9-1.0/spectra/star\n"
     ]
    },
    {
     "name": "stderr",
     "output_type": "stream",
     "text": [
      " 96%|█████████▌| 147857/153700 [12:53:52<49:14,  1.98it/s]  "
     ]
    },
    {
     "name": "stdout",
     "output_type": "stream",
     "text": [
      "File 27021599489248825 not found in /yngve_data/sdssv/ipl-2/spectro/astra/0.3.0/v6_0_9-1.0/spectra/star\n"
     ]
    },
    {
     "name": "stderr",
     "output_type": "stream",
     "text": [
      " 96%|█████████▋| 148283/153700 [12:56:15<09:56,  9.08it/s]  "
     ]
    },
    {
     "name": "stdout",
     "output_type": "stream",
     "text": [
      "File 27021599489260716 not found in /yngve_data/sdssv/ipl-2/spectro/astra/0.3.0/v6_0_9-1.0/spectra/star\n"
     ]
    },
    {
     "name": "stderr",
     "output_type": "stream",
     "text": [
      " 97%|█████████▋| 148621/153700 [12:58:45<16:02,  5.28it/s]  "
     ]
    },
    {
     "name": "stdout",
     "output_type": "stream",
     "text": [
      "File 27021599489280919 not found in /yngve_data/sdssv/ipl-2/spectro/astra/0.3.0/v6_0_9-1.0/spectra/star\n"
     ]
    },
    {
     "name": "stderr",
     "output_type": "stream",
     "text": [
      " 98%|█████████▊| 150607/153700 [13:09:49<20:06,  2.56it/s]"
     ]
    },
    {
     "name": "stdout",
     "output_type": "stream",
     "text": [
      "File 27021599489335175 not found in /yngve_data/sdssv/ipl-2/spectro/astra/0.3.0/v6_0_9-1.0/spectra/star\n"
     ]
    },
    {
     "name": "stderr",
     "output_type": "stream",
     "text": [
      " 98%|█████████▊| 150689/153700 [13:10:21<28:14,  1.78it/s]"
     ]
    },
    {
     "name": "stdout",
     "output_type": "stream",
     "text": [
      "File 27021599489335645 not found in /yngve_data/sdssv/ipl-2/spectro/astra/0.3.0/v6_0_9-1.0/spectra/star\n"
     ]
    },
    {
     "name": "stderr",
     "output_type": "stream",
     "text": [
      " 98%|█████████▊| 150694/153700 [13:10:23<20:55,  2.40it/s]"
     ]
    },
    {
     "name": "stdout",
     "output_type": "stream",
     "text": [
      "File 27021599489335676 not found in /yngve_data/sdssv/ipl-2/spectro/astra/0.3.0/v6_0_9-1.0/spectra/star\n"
     ]
    },
    {
     "name": "stderr",
     "output_type": "stream",
     "text": [
      " 99%|█████████▊| 151602/153700 [13:17:26<22:10,  1.58it/s]"
     ]
    },
    {
     "name": "stdout",
     "output_type": "stream",
     "text": [
      "File 27021599489349667 not found in /yngve_data/sdssv/ipl-2/spectro/astra/0.3.0/v6_0_9-1.0/spectra/star\n"
     ]
    },
    {
     "name": "stderr",
     "output_type": "stream",
     "text": [
      " 99%|█████████▉| 152185/153700 [13:19:28<08:23,  3.01it/s]"
     ]
    },
    {
     "name": "stdout",
     "output_type": "stream",
     "text": [
      "File 27021599489352891 not found in /yngve_data/sdssv/ipl-2/spectro/astra/0.3.0/v6_0_9-1.0/spectra/star\n"
     ]
    },
    {
     "name": "stderr",
     "output_type": "stream",
     "text": [
      " 99%|█████████▉| 152563/153700 [13:21:24<09:34,  1.98it/s]"
     ]
    },
    {
     "name": "stdout",
     "output_type": "stream",
     "text": [
      "File 27021599489368820 not found in /yngve_data/sdssv/ipl-2/spectro/astra/0.3.0/v6_0_9-1.0/spectra/star\n"
     ]
    },
    {
     "name": "stderr",
     "output_type": "stream",
     "text": [
      " 99%|█████████▉| 152718/153700 [13:22:25<02:22,  6.89it/s]"
     ]
    },
    {
     "name": "stdout",
     "output_type": "stream",
     "text": [
      "File 27021599489390992 not found in /yngve_data/sdssv/ipl-2/spectro/astra/0.3.0/v6_0_9-1.0/spectra/star\n"
     ]
    },
    {
     "name": "stderr",
     "output_type": "stream",
     "text": [
      " 99%|█████████▉| 152801/153700 [13:22:41<07:03,  2.12it/s]"
     ]
    },
    {
     "name": "stdout",
     "output_type": "stream",
     "text": [
      "File 27021599489394324 not found in /yngve_data/sdssv/ipl-2/spectro/astra/0.3.0/v6_0_9-1.0/spectra/star\n"
     ]
    },
    {
     "name": "stderr",
     "output_type": "stream",
     "text": [
      "100%|█████████▉| 153360/153700 [13:25:04<01:37,  3.48it/s]"
     ]
    },
    {
     "name": "stdout",
     "output_type": "stream",
     "text": [
      "File 27021599489452238 not found in /yngve_data/sdssv/ipl-2/spectro/astra/0.3.0/v6_0_9-1.0/spectra/star\n"
     ]
    },
    {
     "name": "stderr",
     "output_type": "stream",
     "text": [
      "100%|█████████▉| 153490/153700 [13:25:34<01:38,  2.14it/s]"
     ]
    },
    {
     "name": "stdout",
     "output_type": "stream",
     "text": [
      "File 27021599489454080 not found in /yngve_data/sdssv/ipl-2/spectro/astra/0.3.0/v6_0_9-1.0/spectra/star\n"
     ]
    },
    {
     "name": "stderr",
     "output_type": "stream",
     "text": [
      "100%|█████████▉| 153493/153700 [13:25:35<01:37,  2.12it/s]"
     ]
    },
    {
     "name": "stdout",
     "output_type": "stream",
     "text": [
      "File 27021599489454091 not found in /yngve_data/sdssv/ipl-2/spectro/astra/0.3.0/v6_0_9-1.0/spectra/star\n"
     ]
    },
    {
     "name": "stderr",
     "output_type": "stream",
     "text": [
      "100%|██████████| 153700/153700 [13:27:03<00:00,  3.17it/s]\n"
     ]
    }
   ],
   "source": [
    "h5_path = os.path.join(geir_path, \"serialized\", \"SDSS-V Stars.hdf5\")\n",
    "hf = h5.File(h5_path, 'a')\n",
    "\n",
    "for c in tqdm(cat):\n",
    "    \n",
    "    try:\n",
    "        cpath = getPath(c, sdssv_files)\n",
    "\n",
    "        if cpath is not None:\n",
    "            \n",
    "            # for SDSS-V data \n",
    "            cfile = fits.open(cpath, memmap = False)\n",
    "\n",
    "            try:\n",
    "                cdata = getSDSSVData(cfile)\n",
    "            except Exception as e: \n",
    "                print(traceback.format_exc())\n",
    "                cdata = None\n",
    "\n",
    "            cfile.close()\n",
    "            for hdu in cfile: #close files \n",
    "                del hdu.data\n",
    "            del cfile\n",
    "\n",
    "            if cdata is not None:\n",
    "                \n",
    "                grp = hf.create_group(str(c))\n",
    "\n",
    "                for key in list(cdata.keys()):\n",
    "                    dset = grp.create_dataset(key, data = cdata[key])\n",
    "\n",
    "                \n",
    "\n",
    "    except Exception as e:\n",
    "        print(e)\n",
    "\n",
    "        print(c)\n",
    "\n",
    "hf.close()"
   ]
  },
  {
   "cell_type": "code",
   "execution_count": 15,
   "metadata": {},
   "outputs": [
    {
     "data": {
      "text/plain": [
       "152024"
      ]
     },
     "execution_count": 15,
     "metadata": {},
     "output_type": "execute_result"
    }
   ],
   "source": [
    "hf = h5.File(h5_path, 'r')\n",
    "\n",
    "len(list(hf.keys()))"
   ]
  },
  {
   "cell_type": "code",
   "execution_count": 16,
   "metadata": {},
   "outputs": [],
   "source": [
    "hf.close()"
   ]
  },
  {
   "cell_type": "code",
   "execution_count": null,
   "metadata": {},
   "outputs": [],
   "source": []
  }
 ],
 "metadata": {
  "kernelspec": {
   "display_name": "SDSSV",
   "language": "python",
   "name": "python3"
  },
  "language_info": {
   "codemirror_mode": {
    "name": "ipython",
    "version": 3
   },
   "file_extension": ".py",
   "mimetype": "text/x-python",
   "name": "python",
   "nbconvert_exporter": "python",
   "pygments_lexer": "ipython3",
   "version": "3.11.3"
  },
  "orig_nbformat": 4
 },
 "nbformat": 4,
 "nbformat_minor": 2
}
