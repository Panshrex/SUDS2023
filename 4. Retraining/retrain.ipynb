{
 "cells": [
  {
   "cell_type": "code",
   "execution_count": 1,
   "metadata": {},
   "outputs": [],
   "source": [
    "import os\n",
    "import astroNN\n",
    "from astroNN import datasets\n",
    "from astroNN.apogee import allstar, visit_spectra, combined_spectra, gap_delete, apogee_continuum, bitmask_boolean\n",
    "from astroNN.models import load_folder, ApogeeBCNNCensored\n",
    "from astroNN.apogee.chips import wavelength_solution, chips_split\n",
    "\n",
    "from astropy.io import fits\n",
    "from astropy.wcs import WCS\n",
    "from tensorflow.keras import utils\n",
    "import matplotlib.pyplot as plt\n",
    "import numpy as np\n",
    "import pandas as pd\n",
    "from tqdm import tqdm\n",
    "import pickle\n",
    "import traceback\n",
    "import h5py as h5\n",
    "\n",
    "%matplotlib inline\n",
    "import matplotlib.ticker as ticker"
   ]
  },
  {
   "cell_type": "code",
   "execution_count": 2,
   "metadata": {},
   "outputs": [],
   "source": [
    "geir_path = \"/geir_data/scr/petershi\" #should save work here \n",
    "sdssv_path = \"/yngve_data/sdssv/ipl-2/spectro/astra/0.3.0/v6_0_9-1.0/spectra/star\" #path for SDSSV spectra\n",
    "sdssiv_path = \"/yngve_data/sdss/apogee/dr17/apogee/spectro/redux/dr17/stars/apo25m\"\n",
    "\n",
    "xmatch_path = \"/yngve_data/sdssv/ipl-2/spectro/astra/0.3.0/v6_0_9-1.0/aux_xmatch/ipl-1_dr17_lite_230517_byYS.fits\"\n",
    "allstar_path = \"/yngve_data/sdss/apogee/dr17/apogee/spectro/aspcap/dr17/synspec/allStar-dr17-synspec.fits\"\n",
    "catlist_path = \"/yngve_data/sdssv/ipl-2/spectro/astra/0.3.0/v6_0_9-1.0/aux_xmatch/allStar-TIC_v8-APOGEE-0.2.6-v6_0_9-1.0.fits\""
   ]
  },
  {
   "cell_type": "code",
   "execution_count": 3,
   "metadata": {},
   "outputs": [],
   "source": [
    "h5_path = os.path.join(geir_path, \"serialized\", \"Retrain Dataset v2.hdf5\")\n",
    "hf = h5.File(h5_path, 'r')"
   ]
  },
  {
   "cell_type": "code",
   "execution_count": 4,
   "metadata": {},
   "outputs": [],
   "source": [
    "def getSpectrum(star, ind, mask_value):\n",
    "\n",
    "    spec = np.array(star[\"FLUX\"])\n",
    "    spec_err = np.array(star[\"FLUX_ERR\"])\n",
    "    bitmask = np.array(star[\"BITMASK\"])\n",
    "\n",
    "    target_bit = [0, 1, 2, 3, 4, 5, 6, 7, 12]\n",
    "\n",
    "    try:\n",
    "        _normspec, _spec_err = apogee_continuum(spec, spec_err, \n",
    "                                                bitmask=bitmask, \n",
    "                                                target_bit=target_bit, \n",
    "                                                dr=17, mask_value=mask_value)\n",
    "\n",
    "        return (_normspec, _spec_err)\n",
    "\n",
    "    except Exception: # for linalgerror\n",
    "        #print(\"LinAlgError encountered for \" + str(ind))\n",
    "        return None"
   ]
  },
  {
   "cell_type": "code",
   "execution_count": 5,
   "metadata": {},
   "outputs": [],
   "source": [
    "def read_h5(h5):\n",
    "\n",
    "    keys = list(h5.keys())\n",
    "    length = len(keys)\n",
    "\n",
    "    normspec_container = []\n",
    "    normspec_err_container = []\n",
    "    elem_container = []\n",
    "    elem_errs_container = []\n",
    "\n",
    "    symbols = ['teff', 'logg', 'C', 'CI', 'N', 'O', 'Na', 'Mg', 'Al', 'Si', 'P', 'S', 'K',\n",
    "               'Ca', 'Ti', 'TiII', 'V', 'Cr', 'Mn', 'Fe', 'Co', 'Ni']\n",
    "\n",
    "    try:\n",
    "        for key in tqdm(keys):\n",
    "\n",
    "            valid_elems = []\n",
    "            valid_elem_errs = []\n",
    "\n",
    "            grp = h5[key]\n",
    "\n",
    "            spec = grp[\"Spectra\"]\n",
    "            elems = grp[\"Elements\"]\n",
    "            elem_errs = grp[\"Element Errors\"]\n",
    "\n",
    "            container = getSpectrum(spec, key, 1.)\n",
    "\n",
    "            if container is not None:\n",
    "                normspec = container[0]\n",
    "                normspec_err = container[1]\n",
    "\n",
    "                normspec_container.append(normspec[0])\n",
    "                normspec_err_container.append(normspec_err[0])\n",
    "\n",
    "                for sym in symbols:\n",
    "                    if sym == \"P\":\n",
    "                        valid_elems.append(elems[\"C\"][()])\n",
    "                        valid_elem_errs.append(elem_errs[\"C\"][()])\n",
    "                    else:\n",
    "                        valid_elems.append(elems[sym][()])\n",
    "                        valid_elem_errs.append(elem_errs[sym][()])\n",
    "\n",
    "                elem_container.append(valid_elems)\n",
    "                elem_errs_container.append(valid_elem_errs)\n",
    "\n",
    "\n",
    "                # print(normspec)\n",
    "                # print(normspec_err)\n",
    "                # print(valid_elems)\n",
    "                # print(valid_elem_errs)\n",
    "    except:\n",
    "        print(traceback.format_exc())\n",
    "\n",
    "    return normspec_container, normspec_err_container, elem_container, elem_errs_container\n",
    "            "
   ]
  },
  {
   "cell_type": "code",
   "execution_count": 6,
   "metadata": {},
   "outputs": [
    {
     "name": "stderr",
     "output_type": "stream",
     "text": [
      "  0%|          | 0/98224 [00:00<?, ?it/s]/tmp/ipykernel_43374/502915280.py:3: DeprecationWarning: `product` is deprecated as of NumPy 1.25.0, and will be removed in NumPy 2.0. Please use `prod` instead.\n",
      "/tmp/ipykernel_43374/502915280.py:4: DeprecationWarning: `product` is deprecated as of NumPy 1.25.0, and will be removed in NumPy 2.0. Please use `prod` instead.\n",
      "/tmp/ipykernel_43374/502915280.py:5: DeprecationWarning: `product` is deprecated as of NumPy 1.25.0, and will be removed in NumPy 2.0. Please use `prod` instead.\n",
      "  0%|          | 219/98224 [00:06<46:41, 34.98it/s]"
     ]
    },
    {
     "name": "stdout",
     "output_type": "stream",
     "text": [
      "\n",
      "Intel MKL ERROR: Parameter 4 was incorrect on entry to DGELSD.\n"
     ]
    },
    {
     "name": "stderr",
     "output_type": "stream",
     "text": [
      "  1%|          | 662/98224 [00:19<49:55, 32.57it/s]/home/petershi/miniconda3/envs/mainenv/lib/python3.10/site-packages/astroNN/apogee/chips.py:252: RuntimeWarning: invalid value encountered in divide\n",
      "/home/petershi/miniconda3/envs/mainenv/lib/python3.10/site-packages/astroNN/apogee/chips.py:253: RuntimeWarning: invalid value encountered in divide\n",
      "  1%|          | 715/98224 [00:21<45:00, 36.11it/s]"
     ]
    },
    {
     "name": "stdout",
     "output_type": "stream",
     "text": [
      "\n",
      "Intel MKL ERROR: Parameter 4 was incorrect on entry to DGELSD.\n"
     ]
    },
    {
     "name": "stderr",
     "output_type": "stream",
     "text": [
      "  1%|          | 1043/98224 [00:31<42:38, 37.98it/s]"
     ]
    },
    {
     "name": "stdout",
     "output_type": "stream",
     "text": [
      "\n",
      "Intel MKL ERROR: Parameter 4 was incorrect on entry to DGELSD.\n"
     ]
    },
    {
     "name": "stderr",
     "output_type": "stream",
     "text": [
      "  1%|          | 1100/98224 [00:32<47:06, 34.37it/s]"
     ]
    },
    {
     "name": "stdout",
     "output_type": "stream",
     "text": [
      "\n",
      "Intel MKL ERROR: Parameter 4 was incorrect on entry to DGELSD.\n"
     ]
    },
    {
     "name": "stderr",
     "output_type": "stream",
     "text": [
      "  1%|▏         | 1246/98224 [00:37<44:00, 36.73it/s]"
     ]
    },
    {
     "name": "stdout",
     "output_type": "stream",
     "text": [
      "\n",
      "Intel MKL ERROR: Parameter 4 was incorrect on entry to DGELSD.\n"
     ]
    },
    {
     "name": "stderr",
     "output_type": "stream",
     "text": [
      "  1%|▏         | 1437/98224 [00:42<35:19, 45.67it/s]"
     ]
    },
    {
     "name": "stdout",
     "output_type": "stream",
     "text": [
      "\n",
      "Intel MKL ERROR: Parameter 4 was incorrect on entry to DGELSD.\n"
     ]
    },
    {
     "name": "stderr",
     "output_type": "stream",
     "text": [
      "  2%|▏         | 1498/98224 [00:44<36:08, 44.60it/s]"
     ]
    },
    {
     "name": "stdout",
     "output_type": "stream",
     "text": [
      "\n",
      "Intel MKL ERROR: Parameter 4 was incorrect on entry to DGELSD.\n"
     ]
    },
    {
     "name": "stderr",
     "output_type": "stream",
     "text": [
      "  2%|▏         | 1647/98224 [00:47<34:58, 46.02it/s]"
     ]
    },
    {
     "name": "stdout",
     "output_type": "stream",
     "text": [
      "\n",
      "Intel MKL ERROR: Parameter 4 was incorrect on entry to DGELSD.\n"
     ]
    },
    {
     "name": "stderr",
     "output_type": "stream",
     "text": [
      "  2%|▏         | 2286/98224 [01:05<36:19, 44.01it/s]"
     ]
    },
    {
     "name": "stdout",
     "output_type": "stream",
     "text": [
      "\n",
      "Intel MKL ERROR: Parameter 4 was incorrect on entry to DGELSD.\n"
     ]
    },
    {
     "name": "stderr",
     "output_type": "stream",
     "text": [
      "  3%|▎         | 2524/98224 [01:10<32:15, 49.45it/s]"
     ]
    },
    {
     "name": "stdout",
     "output_type": "stream",
     "text": [
      "\n",
      "Intel MKL ERROR: Parameter 4 was incorrect on entry to DGELSD.\n"
     ]
    },
    {
     "name": "stderr",
     "output_type": "stream",
     "text": [
      "  3%|▎         | 2914/98224 [01:20<40:25, 39.30it/s]"
     ]
    },
    {
     "name": "stdout",
     "output_type": "stream",
     "text": [
      "\n",
      "Intel MKL ERROR: Parameter 4 was incorrect on entry to DGELSD.\n"
     ]
    },
    {
     "name": "stderr",
     "output_type": "stream",
     "text": [
      "  3%|▎         | 3252/98224 [01:29<46:24, 34.11it/s]"
     ]
    },
    {
     "name": "stdout",
     "output_type": "stream",
     "text": [
      "\n",
      "Intel MKL ERROR: Parameter 4 was incorrect on entry to DGELSD.\n"
     ]
    },
    {
     "name": "stderr",
     "output_type": "stream",
     "text": [
      "  4%|▎         | 3580/98224 [01:38<46:46, 33.73it/s]"
     ]
    },
    {
     "name": "stdout",
     "output_type": "stream",
     "text": [
      "\n",
      "Intel MKL ERROR: Parameter 4 was incorrect on entry to DGELSD.\n"
     ]
    },
    {
     "name": "stderr",
     "output_type": "stream",
     "text": [
      "  4%|▍         | 3716/98224 [01:42<41:25, 38.03it/s]"
     ]
    },
    {
     "name": "stdout",
     "output_type": "stream",
     "text": [
      "\n",
      "Intel MKL ERROR: Parameter 4 was incorrect on entry to DGELSD.\n"
     ]
    },
    {
     "name": "stderr",
     "output_type": "stream",
     "text": [
      "  4%|▍         | 3825/98224 [01:45<35:33, 44.25it/s]"
     ]
    },
    {
     "name": "stdout",
     "output_type": "stream",
     "text": [
      "\n",
      "Intel MKL ERROR: Parameter 4 was incorrect on entry to DGELSD.\n"
     ]
    },
    {
     "name": "stderr",
     "output_type": "stream",
     "text": [
      "  4%|▍         | 4196/98224 [01:56<47:36, 32.91it/s]"
     ]
    },
    {
     "name": "stdout",
     "output_type": "stream",
     "text": [
      "\n",
      "Intel MKL ERROR: Parameter 4 was incorrect on entry to DGELSD.\n"
     ]
    },
    {
     "name": "stderr",
     "output_type": "stream",
     "text": [
      "  6%|▌         | 5867/98224 [02:41<31:08, 49.44it/s]"
     ]
    },
    {
     "name": "stdout",
     "output_type": "stream",
     "text": [
      "\n",
      "Intel MKL ERROR: Parameter 4 was incorrect on entry to DGELSD.\n"
     ]
    },
    {
     "name": "stderr",
     "output_type": "stream",
     "text": [
      "  6%|▌         | 5894/98224 [02:41<30:09, 51.03it/s]"
     ]
    },
    {
     "name": "stdout",
     "output_type": "stream",
     "text": [
      "\n",
      "Intel MKL ERROR: Parameter 4 was incorrect on entry to DGELSD.\n"
     ]
    },
    {
     "name": "stderr",
     "output_type": "stream",
     "text": [
      "  6%|▋         | 6167/98224 [02:47<30:29, 50.32it/s]"
     ]
    },
    {
     "name": "stdout",
     "output_type": "stream",
     "text": [
      "\n",
      "Intel MKL ERROR: Parameter 4 was incorrect on entry to DGELSD.\n"
     ]
    },
    {
     "name": "stderr",
     "output_type": "stream",
     "text": [
      "  8%|▊         | 7820/98224 [03:32<40:57, 36.78it/s]"
     ]
    },
    {
     "name": "stdout",
     "output_type": "stream",
     "text": [
      "\n",
      "Intel MKL ERROR: Parameter 4 was incorrect on entry to DGELSD.\n"
     ]
    },
    {
     "name": "stderr",
     "output_type": "stream",
     "text": [
      "  8%|▊         | 8071/98224 [03:39<42:00, 35.77it/s]"
     ]
    },
    {
     "name": "stdout",
     "output_type": "stream",
     "text": [
      "\n",
      "Intel MKL ERROR: Parameter 4 was incorrect on entry to DGELSD.\n"
     ]
    },
    {
     "name": "stderr",
     "output_type": "stream",
     "text": [
      "  8%|▊         | 8100/98224 [03:40<40:05, 37.47it/s]"
     ]
    },
    {
     "name": "stdout",
     "output_type": "stream",
     "text": [
      "\n",
      "Intel MKL ERROR: Parameter 4 was incorrect on entry to DGELSD.\n"
     ]
    },
    {
     "name": "stderr",
     "output_type": "stream",
     "text": [
      "  9%|▉         | 9225/98224 [04:14<47:51, 30.99it/s]  "
     ]
    },
    {
     "name": "stdout",
     "output_type": "stream",
     "text": [
      "\n",
      "Intel MKL ERROR: Parameter 4 was incorrect on entry to DGELSD.\n"
     ]
    },
    {
     "name": "stderr",
     "output_type": "stream",
     "text": [
      "  9%|▉         | 9322/98224 [04:17<45:05, 32.85it/s]"
     ]
    },
    {
     "name": "stdout",
     "output_type": "stream",
     "text": [
      "\n",
      "Intel MKL ERROR: Parameter 4 was incorrect on entry to DGELSD.\n"
     ]
    },
    {
     "name": "stderr",
     "output_type": "stream",
     "text": [
      " 12%|█▏        | 11833/98224 [05:36<40:05, 35.91it/s]"
     ]
    },
    {
     "name": "stdout",
     "output_type": "stream",
     "text": [
      "\n",
      "Intel MKL ERROR: Parameter 4 was incorrect on entry to DGELSD.\n"
     ]
    },
    {
     "name": "stderr",
     "output_type": "stream",
     "text": [
      " 12%|█▏        | 12150/98224 [05:46<39:53, 35.96it/s]"
     ]
    },
    {
     "name": "stdout",
     "output_type": "stream",
     "text": [
      "\n",
      "Intel MKL ERROR: Parameter 4 was incorrect on entry to DGELSD.\n"
     ]
    },
    {
     "name": "stderr",
     "output_type": "stream",
     "text": [
      " 12%|█▏        | 12201/98224 [05:48<42:42, 33.58it/s]"
     ]
    },
    {
     "name": "stdout",
     "output_type": "stream",
     "text": [
      "\n",
      "Intel MKL ERROR: Parameter 4 was incorrect on entry to DGELSD.\n"
     ]
    },
    {
     "name": "stderr",
     "output_type": "stream",
     "text": [
      " 13%|█▎        | 12599/98224 [06:00<39:04, 36.51it/s]"
     ]
    },
    {
     "name": "stdout",
     "output_type": "stream",
     "text": [
      "\n",
      "Intel MKL ERROR: Parameter 4 was incorrect on entry to DGELSD.\n"
     ]
    },
    {
     "name": "stderr",
     "output_type": "stream",
     "text": [
      " 13%|█▎        | 12914/98224 [06:09<40:50, 34.81it/s]"
     ]
    },
    {
     "name": "stdout",
     "output_type": "stream",
     "text": [
      "\n",
      "Intel MKL ERROR: Parameter 4 was incorrect on entry to DGELSD.\n"
     ]
    },
    {
     "name": "stderr",
     "output_type": "stream",
     "text": [
      " 13%|█▎        | 12923/98224 [06:09<37:55, 37.49it/s]"
     ]
    },
    {
     "name": "stdout",
     "output_type": "stream",
     "text": [
      "\n",
      "Intel MKL ERROR: Parameter 4 was incorrect on entry to DGELSD.\n"
     ]
    },
    {
     "name": "stderr",
     "output_type": "stream",
     "text": [
      " 13%|█▎        | 13208/98224 [06:18<39:52, 35.54it/s]"
     ]
    },
    {
     "name": "stdout",
     "output_type": "stream",
     "text": [
      "\n",
      "Intel MKL ERROR: Parameter 4 was incorrect on entry to DGELSD.\n"
     ]
    },
    {
     "name": "stderr",
     "output_type": "stream",
     "text": [
      " 14%|█▍        | 14139/98224 [06:45<31:03, 45.12it/s]"
     ]
    },
    {
     "name": "stdout",
     "output_type": "stream",
     "text": [
      "\n",
      "Intel MKL ERROR: Parameter 4 was incorrect on entry to DGELSD.\n"
     ]
    },
    {
     "name": "stderr",
     "output_type": "stream",
     "text": [
      " 16%|█▌        | 15580/98224 [07:27<37:50, 36.39it/s]"
     ]
    },
    {
     "name": "stdout",
     "output_type": "stream",
     "text": [
      "\n",
      "Intel MKL ERROR: Parameter 4 was incorrect on entry to DGELSD.\n"
     ]
    },
    {
     "name": "stderr",
     "output_type": "stream",
     "text": [
      " 17%|█▋        | 17050/98224 [08:10<34:18, 39.43it/s]"
     ]
    },
    {
     "name": "stdout",
     "output_type": "stream",
     "text": [
      "\n",
      "Intel MKL ERROR: Parameter 4 was incorrect on entry to DGELSD.\n"
     ]
    },
    {
     "name": "stderr",
     "output_type": "stream",
     "text": [
      " 18%|█▊        | 17208/98224 [08:14<42:39, 31.65it/s]"
     ]
    },
    {
     "name": "stdout",
     "output_type": "stream",
     "text": [
      "\n",
      "Intel MKL ERROR: Parameter 4 was incorrect on entry to DGELSD.\n"
     ]
    },
    {
     "name": "stderr",
     "output_type": "stream",
     "text": [
      " 18%|█▊        | 17317/98224 [08:18<37:40, 35.79it/s]"
     ]
    },
    {
     "name": "stdout",
     "output_type": "stream",
     "text": [
      "\n",
      "Intel MKL ERROR: Parameter 4 was incorrect on entry to DGELSD.\n"
     ]
    },
    {
     "name": "stderr",
     "output_type": "stream",
     "text": [
      " 20%|██        | 19880/98224 [09:35<37:42, 34.63it/s]"
     ]
    },
    {
     "name": "stdout",
     "output_type": "stream",
     "text": [
      "\n",
      "Intel MKL ERROR: Parameter 4 was incorrect on entry to DGELSD.\n"
     ]
    },
    {
     "name": "stderr",
     "output_type": "stream",
     "text": [
      " 22%|██▏       | 21181/98224 [10:06<26:07, 49.14it/s]"
     ]
    },
    {
     "name": "stdout",
     "output_type": "stream",
     "text": [
      "\n",
      "Intel MKL ERROR: Parameter 4 was incorrect on entry to DGELSD.\n"
     ]
    },
    {
     "name": "stderr",
     "output_type": "stream",
     "text": [
      " 22%|██▏       | 21578/98224 [10:15<26:23, 48.40it/s]"
     ]
    },
    {
     "name": "stdout",
     "output_type": "stream",
     "text": [
      "\n",
      "Intel MKL ERROR: Parameter 4 was incorrect on entry to DGELSD.\n"
     ]
    },
    {
     "name": "stderr",
     "output_type": "stream",
     "text": [
      " 23%|██▎       | 22634/98224 [10:38<25:31, 49.36it/s]"
     ]
    },
    {
     "name": "stdout",
     "output_type": "stream",
     "text": [
      "\n",
      "Intel MKL ERROR: Parameter 4 was incorrect on entry to DGELSD.\n"
     ]
    },
    {
     "name": "stderr",
     "output_type": "stream",
     "text": [
      " 25%|██▍       | 24249/98224 [11:14<27:35, 44.67it/s]"
     ]
    },
    {
     "name": "stdout",
     "output_type": "stream",
     "text": [
      "\n",
      "Intel MKL ERROR: Parameter 4 was incorrect on entry to DGELSD.\n"
     ]
    },
    {
     "name": "stderr",
     "output_type": "stream",
     "text": [
      " 25%|██▌       | 24948/98224 [11:31<34:11, 35.72it/s]"
     ]
    },
    {
     "name": "stdout",
     "output_type": "stream",
     "text": [
      "\n",
      "Intel MKL ERROR: Parameter 4 was incorrect on entry to DGELSD.\n"
     ]
    },
    {
     "name": "stderr",
     "output_type": "stream",
     "text": [
      " 26%|██▌       | 25501/98224 [11:43<26:04, 46.48it/s]"
     ]
    },
    {
     "name": "stdout",
     "output_type": "stream",
     "text": [
      "\n",
      "Intel MKL ERROR: Parameter 4 was incorrect on entry to DGELSD.\n"
     ]
    },
    {
     "name": "stderr",
     "output_type": "stream",
     "text": [
      " 27%|██▋       | 26983/98224 [12:15<23:41, 50.13it/s]"
     ]
    },
    {
     "name": "stdout",
     "output_type": "stream",
     "text": [
      "\n",
      "Intel MKL ERROR: Parameter 4 was incorrect on entry to DGELSD.\n",
      "\n",
      "Intel MKL ERROR: Parameter 4 was incorrect on entry to DGELSD.\n"
     ]
    },
    {
     "name": "stderr",
     "output_type": "stream",
     "text": [
      " 28%|██▊       | 27311/98224 [12:22<24:25, 48.38it/s]"
     ]
    },
    {
     "name": "stdout",
     "output_type": "stream",
     "text": [
      "\n",
      "Intel MKL ERROR: Parameter 4 was incorrect on entry to DGELSD.\n"
     ]
    },
    {
     "name": "stderr",
     "output_type": "stream",
     "text": [
      " 28%|██▊       | 27452/98224 [12:25<24:00, 49.12it/s]"
     ]
    },
    {
     "name": "stdout",
     "output_type": "stream",
     "text": [
      "\n",
      "Intel MKL ERROR: Parameter 4 was incorrect on entry to DGELSD.\n"
     ]
    },
    {
     "name": "stderr",
     "output_type": "stream",
     "text": [
      " 28%|██▊       | 27658/98224 [12:29<32:31, 36.17it/s]"
     ]
    },
    {
     "name": "stdout",
     "output_type": "stream",
     "text": [
      "\n",
      "Intel MKL ERROR: Parameter 4 was incorrect on entry to DGELSD.\n"
     ]
    },
    {
     "name": "stderr",
     "output_type": "stream",
     "text": [
      " 28%|██▊       | 27741/98224 [12:31<24:40, 47.62it/s]"
     ]
    },
    {
     "name": "stdout",
     "output_type": "stream",
     "text": [
      "\n",
      "Intel MKL ERROR: Parameter 4 was incorrect on entry to DGELSD.\n"
     ]
    },
    {
     "name": "stderr",
     "output_type": "stream",
     "text": [
      " 28%|██▊       | 27852/98224 [12:34<23:49, 49.23it/s]"
     ]
    },
    {
     "name": "stdout",
     "output_type": "stream",
     "text": [
      "\n",
      "Intel MKL ERROR: Parameter 4 was incorrect on entry to DGELSD.\n"
     ]
    },
    {
     "name": "stderr",
     "output_type": "stream",
     "text": [
      " 29%|██▊       | 28108/98224 [12:39<24:39, 47.39it/s]"
     ]
    },
    {
     "name": "stdout",
     "output_type": "stream",
     "text": [
      "\n",
      "Intel MKL ERROR: Parameter 4 was incorrect on entry to DGELSD.\n"
     ]
    },
    {
     "name": "stderr",
     "output_type": "stream",
     "text": [
      " 31%|███       | 30372/98224 [13:35<31:42, 35.67it/s]"
     ]
    },
    {
     "name": "stdout",
     "output_type": "stream",
     "text": [
      "\n",
      "Intel MKL ERROR: Parameter 4 was incorrect on entry to DGELSD.\n"
     ]
    },
    {
     "name": "stderr",
     "output_type": "stream",
     "text": [
      " 31%|███       | 30448/98224 [13:37<32:29, 34.76it/s]"
     ]
    },
    {
     "name": "stdout",
     "output_type": "stream",
     "text": [
      "\n",
      "Intel MKL ERROR: Parameter 4 was incorrect on entry to DGELSD.\n"
     ]
    },
    {
     "name": "stderr",
     "output_type": "stream",
     "text": [
      " 32%|███▏      | 31082/98224 [13:54<29:52, 37.45it/s]"
     ]
    },
    {
     "name": "stdout",
     "output_type": "stream",
     "text": [
      "\n",
      "Intel MKL ERROR: Parameter 4 was incorrect on entry to DGELSD.\n"
     ]
    },
    {
     "name": "stderr",
     "output_type": "stream",
     "text": [
      " 32%|███▏      | 31785/98224 [14:14<30:09, 36.71it/s]"
     ]
    },
    {
     "name": "stdout",
     "output_type": "stream",
     "text": [
      "\n",
      "Intel MKL ERROR: Parameter 4 was incorrect on entry to DGELSD.\n"
     ]
    },
    {
     "name": "stderr",
     "output_type": "stream",
     "text": [
      " 33%|███▎      | 32060/98224 [14:20<29:26, 37.45it/s]"
     ]
    },
    {
     "name": "stdout",
     "output_type": "stream",
     "text": [
      "\n",
      "Intel MKL ERROR: Parameter 4 was incorrect on entry to DGELSD.\n"
     ]
    },
    {
     "name": "stderr",
     "output_type": "stream",
     "text": [
      " 33%|███▎      | 32569/98224 [14:34<32:04, 34.11it/s]"
     ]
    },
    {
     "name": "stdout",
     "output_type": "stream",
     "text": [
      "\n",
      "Intel MKL ERROR: Parameter 4 was incorrect on entry to DGELSD.\n"
     ]
    },
    {
     "name": "stderr",
     "output_type": "stream",
     "text": [
      " 33%|███▎      | 32881/98224 [14:42<34:05, 31.95it/s]"
     ]
    },
    {
     "name": "stdout",
     "output_type": "stream",
     "text": [
      "\n",
      "Intel MKL ERROR: Parameter 4 was incorrect on entry to DGELSD.\n"
     ]
    },
    {
     "name": "stderr",
     "output_type": "stream",
     "text": [
      " 34%|███▎      | 32935/98224 [14:44<30:09, 36.08it/s]"
     ]
    },
    {
     "name": "stdout",
     "output_type": "stream",
     "text": [
      "\n",
      "Intel MKL ERROR: Parameter 4 was incorrect on entry to DGELSD.\n"
     ]
    },
    {
     "name": "stderr",
     "output_type": "stream",
     "text": [
      " 34%|███▍      | 33174/98224 [14:50<31:03, 34.92it/s]"
     ]
    },
    {
     "name": "stdout",
     "output_type": "stream",
     "text": [
      "\n",
      "Intel MKL ERROR: Parameter 4 was incorrect on entry to DGELSD.\n"
     ]
    },
    {
     "name": "stderr",
     "output_type": "stream",
     "text": [
      " 34%|███▍      | 33568/98224 [15:01<30:35, 35.23it/s]"
     ]
    },
    {
     "name": "stdout",
     "output_type": "stream",
     "text": [
      "\n",
      "Intel MKL ERROR: Parameter 4 was incorrect on entry to DGELSD.\n"
     ]
    },
    {
     "name": "stderr",
     "output_type": "stream",
     "text": [
      " 35%|███▍      | 34059/98224 [15:15<29:17, 36.51it/s]"
     ]
    },
    {
     "name": "stdout",
     "output_type": "stream",
     "text": [
      "\n",
      "Intel MKL ERROR: Parameter 4 was incorrect on entry to DGELSD.\n"
     ]
    },
    {
     "name": "stderr",
     "output_type": "stream",
     "text": [
      " 35%|███▌      | 34505/98224 [15:27<28:16, 37.57it/s]"
     ]
    },
    {
     "name": "stdout",
     "output_type": "stream",
     "text": [
      "\n",
      "Intel MKL ERROR: Parameter 4 was incorrect on entry to DGELSD.\n"
     ]
    },
    {
     "name": "stderr",
     "output_type": "stream",
     "text": [
      " 35%|███▌      | 34658/98224 [15:31<32:44, 32.35it/s]"
     ]
    },
    {
     "name": "stdout",
     "output_type": "stream",
     "text": [
      "\n",
      "Intel MKL ERROR: Parameter 4 was incorrect on entry to DGELSD.\n"
     ]
    },
    {
     "name": "stderr",
     "output_type": "stream",
     "text": [
      " 35%|███▌      | 34662/98224 [15:31<31:22, 33.77it/s]"
     ]
    },
    {
     "name": "stdout",
     "output_type": "stream",
     "text": [
      "\n",
      "Intel MKL ERROR: Parameter 4 was incorrect on entry to DGELSD.\n"
     ]
    },
    {
     "name": "stderr",
     "output_type": "stream",
     "text": [
      " 36%|███▋      | 35646/98224 [15:58<27:13, 38.30it/s]"
     ]
    },
    {
     "name": "stdout",
     "output_type": "stream",
     "text": [
      "\n",
      "Intel MKL ERROR: Parameter 4 was incorrect on entry to DGELSD.\n"
     ]
    },
    {
     "name": "stderr",
     "output_type": "stream",
     "text": [
      " 37%|███▋      | 35861/98224 [16:03<18:56, 54.86it/s]"
     ]
    },
    {
     "name": "stdout",
     "output_type": "stream",
     "text": [
      "\n",
      "Intel MKL ERROR: Parameter 4 was incorrect on entry to DGELSD.\n",
      "\n",
      "Intel MKL ERROR: Parameter 4 was incorrect on entry to DGELSD.\n"
     ]
    },
    {
     "name": "stderr",
     "output_type": "stream",
     "text": [
      " 37%|███▋      | 36735/98224 [16:22<21:38, 47.34it/s]"
     ]
    },
    {
     "name": "stdout",
     "output_type": "stream",
     "text": [
      "\n",
      "Intel MKL ERROR: Parameter 4 was incorrect on entry to DGELSD.\n"
     ]
    },
    {
     "name": "stderr",
     "output_type": "stream",
     "text": [
      " 37%|███▋      | 36825/98224 [16:24<20:28, 49.99it/s]"
     ]
    },
    {
     "name": "stdout",
     "output_type": "stream",
     "text": [
      "\n",
      "Intel MKL ERROR: Parameter 4 was incorrect on entry to DGELSD.\n"
     ]
    },
    {
     "name": "stderr",
     "output_type": "stream",
     "text": [
      " 38%|███▊      | 36842/98224 [16:24<19:44, 51.84it/s]"
     ]
    },
    {
     "name": "stdout",
     "output_type": "stream",
     "text": [
      "\n",
      "Intel MKL ERROR: Parameter 4 was incorrect on entry to DGELSD.\n"
     ]
    },
    {
     "name": "stderr",
     "output_type": "stream",
     "text": [
      " 38%|███▊      | 37212/98224 [16:32<19:18, 52.66it/s]"
     ]
    },
    {
     "name": "stdout",
     "output_type": "stream",
     "text": [
      "\n",
      "Intel MKL ERROR: Parameter 4 was incorrect on entry to DGELSD.\n"
     ]
    },
    {
     "name": "stderr",
     "output_type": "stream",
     "text": [
      " 38%|███▊      | 37254/98224 [16:33<19:28, 52.17it/s]"
     ]
    },
    {
     "name": "stdout",
     "output_type": "stream",
     "text": [
      "\n",
      "Intel MKL ERROR: Parameter 4 was incorrect on entry to DGELSD.\n"
     ]
    },
    {
     "name": "stderr",
     "output_type": "stream",
     "text": [
      " 38%|███▊      | 37324/98224 [16:35<19:47, 51.29it/s]"
     ]
    },
    {
     "name": "stdout",
     "output_type": "stream",
     "text": [
      "\n",
      "Intel MKL ERROR: Parameter 4 was incorrect on entry to DGELSD.\n"
     ]
    },
    {
     "name": "stderr",
     "output_type": "stream",
     "text": [
      " 38%|███▊      | 37396/98224 [16:36<18:49, 53.85it/s]"
     ]
    },
    {
     "name": "stdout",
     "output_type": "stream",
     "text": [
      "\n",
      "Intel MKL ERROR: Parameter 4 was incorrect on entry to DGELSD.\n"
     ]
    },
    {
     "name": "stderr",
     "output_type": "stream",
     "text": [
      " 39%|███▊      | 37847/98224 [16:45<19:34, 51.42it/s]"
     ]
    },
    {
     "name": "stdout",
     "output_type": "stream",
     "text": [
      "\n",
      "Intel MKL ERROR: Parameter 4 was incorrect on entry to DGELSD.\n"
     ]
    },
    {
     "name": "stderr",
     "output_type": "stream",
     "text": [
      " 39%|███▉      | 38551/98224 [17:00<19:53, 50.00it/s]"
     ]
    },
    {
     "name": "stdout",
     "output_type": "stream",
     "text": [
      "\n",
      "Intel MKL ERROR: Parameter 4 was incorrect on entry to DGELSD.\n"
     ]
    },
    {
     "name": "stderr",
     "output_type": "stream",
     "text": [
      " 40%|███▉      | 39263/98224 [17:17<19:37, 50.09it/s]"
     ]
    },
    {
     "name": "stdout",
     "output_type": "stream",
     "text": [
      "\n",
      "Intel MKL ERROR: Parameter 4 was incorrect on entry to DGELSD.\n"
     ]
    },
    {
     "name": "stderr",
     "output_type": "stream",
     "text": [
      " 40%|████      | 39385/98224 [17:20<22:51, 42.89it/s]"
     ]
    },
    {
     "name": "stdout",
     "output_type": "stream",
     "text": [
      "\n",
      "Intel MKL ERROR: Parameter 4 was incorrect on entry to DGELSD.\n"
     ]
    },
    {
     "name": "stderr",
     "output_type": "stream",
     "text": [
      " 40%|████      | 39553/98224 [17:24<18:28, 52.91it/s]"
     ]
    },
    {
     "name": "stdout",
     "output_type": "stream",
     "text": [
      "\n",
      "Intel MKL ERROR: Parameter 4 was incorrect on entry to DGELSD.\n"
     ]
    },
    {
     "name": "stderr",
     "output_type": "stream",
     "text": [
      " 40%|████      | 39613/98224 [17:25<18:32, 52.69it/s]"
     ]
    },
    {
     "name": "stdout",
     "output_type": "stream",
     "text": [
      "\n",
      "Intel MKL ERROR: Parameter 4 was incorrect on entry to DGELSD.\n"
     ]
    },
    {
     "name": "stderr",
     "output_type": "stream",
     "text": [
      " 41%|████      | 39799/98224 [17:29<17:53, 54.42it/s]"
     ]
    },
    {
     "name": "stdout",
     "output_type": "stream",
     "text": [
      "\n",
      "Intel MKL ERROR: Parameter 4 was incorrect on entry to DGELSD.\n"
     ]
    },
    {
     "name": "stderr",
     "output_type": "stream",
     "text": [
      " 41%|████      | 40088/98224 [17:34<17:59, 53.85it/s]"
     ]
    },
    {
     "name": "stdout",
     "output_type": "stream",
     "text": [
      "\n",
      "Intel MKL ERROR: Parameter 4 was incorrect on entry to DGELSD.\n"
     ]
    },
    {
     "name": "stderr",
     "output_type": "stream",
     "text": [
      " 41%|████      | 40220/98224 [17:37<18:10, 53.17it/s]"
     ]
    },
    {
     "name": "stdout",
     "output_type": "stream",
     "text": [
      "\n",
      "Intel MKL ERROR: Parameter 4 was incorrect on entry to DGELSD.\n"
     ]
    },
    {
     "name": "stderr",
     "output_type": "stream",
     "text": [
      " 41%|████      | 40275/98224 [17:38<19:22, 49.85it/s]"
     ]
    },
    {
     "name": "stdout",
     "output_type": "stream",
     "text": [
      "\n",
      "Intel MKL ERROR: Parameter 4 was incorrect on entry to DGELSD.\n"
     ]
    },
    {
     "name": "stderr",
     "output_type": "stream",
     "text": [
      " 41%|████      | 40342/98224 [17:39<19:54, 48.46it/s]"
     ]
    },
    {
     "name": "stdout",
     "output_type": "stream",
     "text": [
      "\n",
      "Intel MKL ERROR: Parameter 4 was incorrect on entry to DGELSD.\n"
     ]
    },
    {
     "name": "stderr",
     "output_type": "stream",
     "text": [
      " 41%|████▏     | 40669/98224 [17:47<19:12, 49.94it/s]"
     ]
    },
    {
     "name": "stdout",
     "output_type": "stream",
     "text": [
      "\n",
      "Intel MKL ERROR: Parameter 4 was incorrect on entry to DGELSD.\n"
     ]
    },
    {
     "name": "stderr",
     "output_type": "stream",
     "text": [
      " 42%|████▏     | 40918/98224 [17:52<18:54, 50.52it/s]"
     ]
    },
    {
     "name": "stdout",
     "output_type": "stream",
     "text": [
      "\n",
      "Intel MKL ERROR: Parameter 4 was incorrect on entry to DGELSD.\n"
     ]
    },
    {
     "name": "stderr",
     "output_type": "stream",
     "text": [
      " 42%|████▏     | 40987/98224 [17:54<19:01, 50.15it/s]"
     ]
    },
    {
     "name": "stdout",
     "output_type": "stream",
     "text": [
      "\n",
      "Intel MKL ERROR: Parameter 4 was incorrect on entry to DGELSD.\n"
     ]
    },
    {
     "name": "stderr",
     "output_type": "stream",
     "text": [
      " 42%|████▏     | 41031/98224 [17:55<20:01, 47.59it/s]"
     ]
    },
    {
     "name": "stdout",
     "output_type": "stream",
     "text": [
      "\n",
      "Intel MKL ERROR: Parameter 4 was incorrect on entry to DGELSD.\n",
      "\n",
      "Intel MKL ERROR: Parameter 4 was incorrect on entry to DGELSD.\n"
     ]
    },
    {
     "name": "stderr",
     "output_type": "stream",
     "text": [
      " 42%|████▏     | 41241/98224 [17:59<20:22, 46.61it/s]"
     ]
    },
    {
     "name": "stdout",
     "output_type": "stream",
     "text": [
      "\n",
      "Intel MKL ERROR: Parameter 4 was incorrect on entry to DGELSD.\n"
     ]
    },
    {
     "name": "stderr",
     "output_type": "stream",
     "text": [
      " 42%|████▏     | 41432/98224 [18:04<20:49, 45.47it/s]"
     ]
    },
    {
     "name": "stdout",
     "output_type": "stream",
     "text": [
      "\n",
      "Intel MKL ERROR: Parameter 4 was incorrect on entry to DGELSD.\n"
     ]
    },
    {
     "name": "stderr",
     "output_type": "stream",
     "text": [
      " 42%|████▏     | 41598/98224 [18:07<19:19, 48.83it/s]"
     ]
    },
    {
     "name": "stdout",
     "output_type": "stream",
     "text": [
      "\n",
      "Intel MKL ERROR: Parameter 4 was incorrect on entry to DGELSD.\n"
     ]
    },
    {
     "name": "stderr",
     "output_type": "stream",
     "text": [
      " 43%|████▎     | 42052/98224 [18:18<18:42, 50.04it/s]"
     ]
    },
    {
     "name": "stdout",
     "output_type": "stream",
     "text": [
      "\n",
      "Intel MKL ERROR: Parameter 4 was incorrect on entry to DGELSD.\n"
     ]
    },
    {
     "name": "stderr",
     "output_type": "stream",
     "text": [
      " 43%|████▎     | 42234/98224 [18:22<21:53, 42.63it/s]"
     ]
    },
    {
     "name": "stdout",
     "output_type": "stream",
     "text": [
      "\n",
      "Intel MKL ERROR: Parameter 4 was incorrect on entry to DGELSD.\n"
     ]
    },
    {
     "name": "stderr",
     "output_type": "stream",
     "text": [
      " 43%|████▎     | 42275/98224 [18:23<18:11, 51.24it/s]"
     ]
    },
    {
     "name": "stdout",
     "output_type": "stream",
     "text": [
      "\n",
      "Intel MKL ERROR: Parameter 4 was incorrect on entry to DGELSD.\n"
     ]
    },
    {
     "name": "stderr",
     "output_type": "stream",
     "text": [
      " 43%|████▎     | 42340/98224 [18:25<19:38, 47.42it/s]"
     ]
    },
    {
     "name": "stdout",
     "output_type": "stream",
     "text": [
      "\n",
      "Intel MKL ERROR: Parameter 4 was incorrect on entry to DGELSD.\n"
     ]
    },
    {
     "name": "stderr",
     "output_type": "stream",
     "text": [
      " 43%|████▎     | 42385/98224 [18:25<17:30, 53.15it/s]"
     ]
    },
    {
     "name": "stdout",
     "output_type": "stream",
     "text": [
      "\n",
      "Intel MKL ERROR: Parameter 4 was incorrect on entry to DGELSD.\n"
     ]
    },
    {
     "name": "stderr",
     "output_type": "stream",
     "text": [
      " 43%|████▎     | 42637/98224 [18:30<17:33, 52.76it/s]"
     ]
    },
    {
     "name": "stdout",
     "output_type": "stream",
     "text": [
      "\n",
      "Intel MKL ERROR: Parameter 4 was incorrect on entry to DGELSD.\n"
     ]
    },
    {
     "name": "stderr",
     "output_type": "stream",
     "text": [
      " 44%|████▎     | 42760/98224 [18:33<18:47, 49.17it/s]"
     ]
    },
    {
     "name": "stdout",
     "output_type": "stream",
     "text": [
      "\n",
      "Intel MKL ERROR: Parameter 4 was incorrect on entry to DGELSD.\n"
     ]
    },
    {
     "name": "stderr",
     "output_type": "stream",
     "text": [
      " 44%|████▎     | 42827/98224 [18:34<18:34, 49.72it/s]"
     ]
    },
    {
     "name": "stdout",
     "output_type": "stream",
     "text": [
      "\n",
      "Intel MKL ERROR: Parameter 4 was incorrect on entry to DGELSD.\n"
     ]
    },
    {
     "name": "stderr",
     "output_type": "stream",
     "text": [
      " 44%|████▍     | 43082/98224 [18:40<18:29, 49.69it/s]"
     ]
    },
    {
     "name": "stdout",
     "output_type": "stream",
     "text": [
      "\n",
      "Intel MKL ERROR: Parameter 4 was incorrect on entry to DGELSD.\n"
     ]
    },
    {
     "name": "stderr",
     "output_type": "stream",
     "text": [
      " 44%|████▍     | 43162/98224 [18:41<21:56, 41.82it/s]"
     ]
    },
    {
     "name": "stdout",
     "output_type": "stream",
     "text": [
      "\n",
      "Intel MKL ERROR: Parameter 4 was incorrect on entry to DGELSD.\n"
     ]
    },
    {
     "name": "stderr",
     "output_type": "stream",
     "text": [
      " 44%|████▍     | 43251/98224 [18:43<17:12, 53.26it/s]"
     ]
    },
    {
     "name": "stdout",
     "output_type": "stream",
     "text": [
      "\n",
      "Intel MKL ERROR: Parameter 4 was incorrect on entry to DGELSD.\n",
      "\n",
      "Intel MKL ERROR: Parameter 4 was incorrect on entry to DGELSD.\n",
      "\n",
      "Intel MKL ERROR: Parameter 4 was incorrect on entry to DGELSD.\n"
     ]
    },
    {
     "name": "stderr",
     "output_type": "stream",
     "text": [
      " 44%|████▍     | 43313/98224 [18:45<17:07, 53.44it/s]"
     ]
    },
    {
     "name": "stdout",
     "output_type": "stream",
     "text": [
      "\n",
      "Intel MKL ERROR: Parameter 4 was incorrect on entry to DGELSD.\n"
     ]
    },
    {
     "name": "stderr",
     "output_type": "stream",
     "text": [
      " 44%|████▍     | 43409/98224 [18:47<18:34, 49.17it/s]"
     ]
    },
    {
     "name": "stdout",
     "output_type": "stream",
     "text": [
      "\n",
      "Intel MKL ERROR: Parameter 4 was incorrect on entry to DGELSD.\n"
     ]
    },
    {
     "name": "stderr",
     "output_type": "stream",
     "text": [
      " 44%|████▍     | 43463/98224 [18:48<17:02, 53.54it/s]"
     ]
    },
    {
     "name": "stdout",
     "output_type": "stream",
     "text": [
      "\n",
      "Intel MKL ERROR: Parameter 4 was incorrect on entry to DGELSD.\n"
     ]
    },
    {
     "name": "stderr",
     "output_type": "stream",
     "text": [
      " 45%|████▍     | 44045/98224 [19:01<19:45, 45.70it/s]"
     ]
    },
    {
     "name": "stdout",
     "output_type": "stream",
     "text": [
      "\n",
      "Intel MKL ERROR: Parameter 4 was incorrect on entry to DGELSD.\n"
     ]
    },
    {
     "name": "stderr",
     "output_type": "stream",
     "text": [
      " 45%|████▍     | 44081/98224 [19:02<19:47, 45.61it/s]"
     ]
    },
    {
     "name": "stdout",
     "output_type": "stream",
     "text": [
      "\n",
      "Intel MKL ERROR: Parameter 4 was incorrect on entry to DGELSD.\n"
     ]
    },
    {
     "name": "stderr",
     "output_type": "stream",
     "text": [
      " 45%|████▍     | 44162/98224 [19:03<19:47, 45.51it/s]"
     ]
    },
    {
     "name": "stdout",
     "output_type": "stream",
     "text": [
      "\n",
      "Intel MKL ERROR: Parameter 4 was incorrect on entry to DGELSD.\n"
     ]
    },
    {
     "name": "stderr",
     "output_type": "stream",
     "text": [
      " 45%|████▍     | 44178/98224 [19:04<19:27, 46.28it/s]"
     ]
    },
    {
     "name": "stdout",
     "output_type": "stream",
     "text": [
      "\n",
      "Intel MKL ERROR: Parameter 4 was incorrect on entry to DGELSD.\n"
     ]
    },
    {
     "name": "stderr",
     "output_type": "stream",
     "text": [
      " 45%|████▌     | 44204/98224 [19:04<19:54, 45.23it/s]"
     ]
    },
    {
     "name": "stdout",
     "output_type": "stream",
     "text": [
      "\n",
      "Intel MKL ERROR: Parameter 4 was incorrect on entry to DGELSD.\n"
     ]
    },
    {
     "name": "stderr",
     "output_type": "stream",
     "text": [
      " 45%|████▌     | 44250/98224 [19:05<19:20, 46.51it/s]"
     ]
    },
    {
     "name": "stdout",
     "output_type": "stream",
     "text": [
      "\n",
      "Intel MKL ERROR: Parameter 4 was incorrect on entry to DGELSD.\n"
     ]
    },
    {
     "name": "stderr",
     "output_type": "stream",
     "text": [
      " 45%|████▌     | 44321/98224 [19:07<20:10, 44.54it/s]"
     ]
    },
    {
     "name": "stdout",
     "output_type": "stream",
     "text": [
      "\n",
      "Intel MKL ERROR: Parameter 4 was incorrect on entry to DGELSD.\n"
     ]
    },
    {
     "name": "stderr",
     "output_type": "stream",
     "text": [
      " 45%|████▌     | 44469/98224 [19:10<20:34, 43.56it/s]"
     ]
    },
    {
     "name": "stdout",
     "output_type": "stream",
     "text": [
      "\n",
      "Intel MKL ERROR: Parameter 4 was incorrect on entry to DGELSD.\n"
     ]
    },
    {
     "name": "stderr",
     "output_type": "stream",
     "text": [
      " 45%|████▌     | 44547/98224 [19:12<18:39, 47.96it/s]"
     ]
    },
    {
     "name": "stdout",
     "output_type": "stream",
     "text": [
      "\n",
      "Intel MKL ERROR: Parameter 4 was incorrect on entry to DGELSD.\n"
     ]
    },
    {
     "name": "stderr",
     "output_type": "stream",
     "text": [
      " 45%|████▌     | 44618/98224 [19:14<18:59, 47.06it/s]"
     ]
    },
    {
     "name": "stdout",
     "output_type": "stream",
     "text": [
      "\n",
      "Intel MKL ERROR: Parameter 4 was incorrect on entry to DGELSD.\n"
     ]
    },
    {
     "name": "stderr",
     "output_type": "stream",
     "text": [
      " 45%|████▌     | 44654/98224 [19:14<18:16, 48.85it/s]"
     ]
    },
    {
     "name": "stdout",
     "output_type": "stream",
     "text": [
      "\n",
      "Intel MKL ERROR: Parameter 4 was incorrect on entry to DGELSD.\n"
     ]
    },
    {
     "name": "stderr",
     "output_type": "stream",
     "text": [
      " 46%|████▌     | 44852/98224 [19:19<17:57, 49.52it/s]"
     ]
    },
    {
     "name": "stdout",
     "output_type": "stream",
     "text": [
      "\n",
      "Intel MKL ERROR: Parameter 4 was incorrect on entry to DGELSD.\n"
     ]
    },
    {
     "name": "stderr",
     "output_type": "stream",
     "text": [
      " 46%|████▌     | 45127/98224 [19:25<18:51, 46.92it/s]"
     ]
    },
    {
     "name": "stdout",
     "output_type": "stream",
     "text": [
      "\n",
      "Intel MKL ERROR: Parameter 4 was incorrect on entry to DGELSD.\n"
     ]
    },
    {
     "name": "stderr",
     "output_type": "stream",
     "text": [
      " 46%|████▌     | 45214/98224 [19:27<18:19, 48.19it/s]"
     ]
    },
    {
     "name": "stdout",
     "output_type": "stream",
     "text": [
      "\n",
      "Intel MKL ERROR: Parameter 4 was incorrect on entry to DGELSD.\n",
      "\n",
      "Intel MKL ERROR: Parameter 4 was incorrect on entry to DGELSD.\n"
     ]
    },
    {
     "name": "stderr",
     "output_type": "stream",
     "text": [
      " 46%|████▌     | 45400/98224 [19:31<19:17, 45.62it/s]"
     ]
    },
    {
     "name": "stdout",
     "output_type": "stream",
     "text": [
      "\n",
      "Intel MKL ERROR: Parameter 4 was incorrect on entry to DGELSD.\n"
     ]
    },
    {
     "name": "stderr",
     "output_type": "stream",
     "text": [
      " 46%|████▋     | 45596/98224 [19:36<18:28, 47.47it/s]"
     ]
    },
    {
     "name": "stdout",
     "output_type": "stream",
     "text": [
      "\n",
      "Intel MKL ERROR: Parameter 4 was incorrect on entry to DGELSD.\n",
      "\n",
      "Intel MKL ERROR: Parameter 4 was incorrect on entry to DGELSD.\n"
     ]
    },
    {
     "name": "stderr",
     "output_type": "stream",
     "text": [
      " 47%|████▋     | 45685/98224 [19:38<18:34, 47.16it/s]"
     ]
    },
    {
     "name": "stdout",
     "output_type": "stream",
     "text": [
      "\n",
      "Intel MKL ERROR: Parameter 4 was incorrect on entry to DGELSD.\n"
     ]
    },
    {
     "name": "stderr",
     "output_type": "stream",
     "text": [
      " 47%|████▋     | 45756/98224 [19:39<18:25, 47.48it/s]"
     ]
    },
    {
     "name": "stdout",
     "output_type": "stream",
     "text": [
      "\n",
      "Intel MKL ERROR: Parameter 4 was incorrect on entry to DGELSD.\n"
     ]
    },
    {
     "name": "stderr",
     "output_type": "stream",
     "text": [
      " 47%|████▋     | 45973/98224 [19:44<18:11, 47.86it/s]"
     ]
    },
    {
     "name": "stdout",
     "output_type": "stream",
     "text": [
      "\n",
      "Intel MKL ERROR: Parameter 4 was incorrect on entry to DGELSD.\n"
     ]
    },
    {
     "name": "stderr",
     "output_type": "stream",
     "text": [
      " 47%|████▋     | 46020/98224 [19:45<18:59, 45.80it/s]"
     ]
    },
    {
     "name": "stdout",
     "output_type": "stream",
     "text": [
      "\n",
      "Intel MKL ERROR: Parameter 4 was incorrect on entry to DGELSD.\n"
     ]
    },
    {
     "name": "stderr",
     "output_type": "stream",
     "text": [
      " 47%|████▋     | 46519/98224 [19:55<18:19, 47.02it/s]"
     ]
    },
    {
     "name": "stdout",
     "output_type": "stream",
     "text": [
      "\n",
      "Intel MKL ERROR: Parameter 4 was incorrect on entry to DGELSD.\n"
     ]
    },
    {
     "name": "stderr",
     "output_type": "stream",
     "text": [
      " 47%|████▋     | 46535/98224 [19:56<17:58, 47.94it/s]"
     ]
    },
    {
     "name": "stdout",
     "output_type": "stream",
     "text": [
      "\n",
      "Intel MKL ERROR: Parameter 4 was incorrect on entry to DGELSD.\n"
     ]
    },
    {
     "name": "stderr",
     "output_type": "stream",
     "text": [
      " 47%|████▋     | 46612/98224 [19:57<17:12, 50.00it/s]"
     ]
    },
    {
     "name": "stdout",
     "output_type": "stream",
     "text": [
      "\n",
      "Intel MKL ERROR: Parameter 4 was incorrect on entry to DGELSD.\n"
     ]
    },
    {
     "name": "stderr",
     "output_type": "stream",
     "text": [
      " 48%|████▊     | 46730/98224 [20:00<19:05, 44.95it/s]"
     ]
    },
    {
     "name": "stdout",
     "output_type": "stream",
     "text": [
      "\n",
      "Intel MKL ERROR: Parameter 4 was incorrect on entry to DGELSD.\n"
     ]
    },
    {
     "name": "stderr",
     "output_type": "stream",
     "text": [
      " 48%|████▊     | 46777/98224 [20:01<19:14, 44.57it/s]"
     ]
    },
    {
     "name": "stdout",
     "output_type": "stream",
     "text": [
      "\n",
      "Intel MKL ERROR: Parameter 4 was incorrect on entry to DGELSD.\n"
     ]
    },
    {
     "name": "stderr",
     "output_type": "stream",
     "text": [
      " 48%|████▊     | 46932/98224 [20:05<18:35, 45.99it/s]"
     ]
    },
    {
     "name": "stdout",
     "output_type": "stream",
     "text": [
      "\n",
      "Intel MKL ERROR: Parameter 4 was incorrect on entry to DGELSD.\n"
     ]
    },
    {
     "name": "stderr",
     "output_type": "stream",
     "text": [
      " 48%|████▊     | 47092/98224 [20:08<20:42, 41.17it/s]"
     ]
    },
    {
     "name": "stdout",
     "output_type": "stream",
     "text": [
      "\n",
      "Intel MKL ERROR: Parameter 4 was incorrect on entry to DGELSD.\n"
     ]
    },
    {
     "name": "stderr",
     "output_type": "stream",
     "text": [
      " 48%|████▊     | 47199/98224 [20:11<18:13, 46.65it/s]"
     ]
    },
    {
     "name": "stdout",
     "output_type": "stream",
     "text": [
      "\n",
      "Intel MKL ERROR: Parameter 4 was incorrect on entry to DGELSD.\n",
      "\n",
      "Intel MKL ERROR: Parameter 4 was incorrect on entry to DGELSD.\n"
     ]
    },
    {
     "name": "stderr",
     "output_type": "stream",
     "text": [
      " 48%|████▊     | 47226/98224 [20:11<17:47, 47.76it/s]"
     ]
    },
    {
     "name": "stdout",
     "output_type": "stream",
     "text": [
      "\n",
      "Intel MKL ERROR: Parameter 4 was incorrect on entry to DGELSD.\n"
     ]
    },
    {
     "name": "stderr",
     "output_type": "stream",
     "text": [
      " 48%|████▊     | 47267/98224 [20:12<18:09, 46.78it/s]"
     ]
    },
    {
     "name": "stdout",
     "output_type": "stream",
     "text": [
      "\n",
      "Intel MKL ERROR: Parameter 4 was incorrect on entry to DGELSD.\n"
     ]
    },
    {
     "name": "stderr",
     "output_type": "stream",
     "text": [
      " 48%|████▊     | 47354/98224 [20:14<19:01, 44.57it/s]"
     ]
    },
    {
     "name": "stdout",
     "output_type": "stream",
     "text": [
      "\n",
      "Intel MKL ERROR: Parameter 4 was incorrect on entry to DGELSD.\n"
     ]
    },
    {
     "name": "stderr",
     "output_type": "stream",
     "text": [
      " 48%|████▊     | 47600/98224 [20:20<18:35, 45.38it/s]"
     ]
    },
    {
     "name": "stdout",
     "output_type": "stream",
     "text": [
      "\n",
      "Intel MKL ERROR: Parameter 4 was incorrect on entry to DGELSD.\n"
     ]
    },
    {
     "name": "stderr",
     "output_type": "stream",
     "text": [
      " 49%|████▊     | 47842/98224 [20:26<26:10, 32.09it/s]"
     ]
    },
    {
     "name": "stdout",
     "output_type": "stream",
     "text": [
      "\n",
      "Intel MKL ERROR: Parameter 4 was incorrect on entry to DGELSD.\n"
     ]
    },
    {
     "name": "stderr",
     "output_type": "stream",
     "text": [
      " 49%|████▉     | 48106/98224 [20:34<23:19, 35.80it/s]"
     ]
    },
    {
     "name": "stdout",
     "output_type": "stream",
     "text": [
      "\n",
      "Intel MKL ERROR: Parameter 4 was incorrect on entry to DGELSD.\n"
     ]
    },
    {
     "name": "stderr",
     "output_type": "stream",
     "text": [
      " 49%|████▉     | 48420/98224 [20:43<23:19, 35.58it/s]"
     ]
    },
    {
     "name": "stdout",
     "output_type": "stream",
     "text": [
      "\n",
      "Intel MKL ERROR: Parameter 4 was incorrect on entry to DGELSD.\n"
     ]
    },
    {
     "name": "stderr",
     "output_type": "stream",
     "text": [
      " 50%|████▉     | 48634/98224 [20:50<24:02, 34.39it/s]"
     ]
    },
    {
     "name": "stdout",
     "output_type": "stream",
     "text": [
      "\n",
      "Intel MKL ERROR: Parameter 4 was incorrect on entry to DGELSD.\n"
     ]
    },
    {
     "name": "stderr",
     "output_type": "stream",
     "text": [
      " 50%|████▉     | 48805/98224 [20:55<21:35, 38.15it/s]"
     ]
    },
    {
     "name": "stdout",
     "output_type": "stream",
     "text": [
      "\n",
      "Intel MKL ERROR: Parameter 4 was incorrect on entry to DGELSD.\n"
     ]
    },
    {
     "name": "stderr",
     "output_type": "stream",
     "text": [
      " 50%|████▉     | 49102/98224 [21:04<25:31, 32.07it/s]"
     ]
    },
    {
     "name": "stdout",
     "output_type": "stream",
     "text": [
      "\n",
      "Intel MKL ERROR: Parameter 4 was incorrect on entry to DGELSD.\n"
     ]
    },
    {
     "name": "stderr",
     "output_type": "stream",
     "text": [
      " 50%|█████     | 49495/98224 [21:15<23:06, 35.14it/s]"
     ]
    },
    {
     "name": "stdout",
     "output_type": "stream",
     "text": [
      "\n",
      "Intel MKL ERROR: Parameter 4 was incorrect on entry to DGELSD.\n"
     ]
    },
    {
     "name": "stderr",
     "output_type": "stream",
     "text": [
      " 51%|█████     | 49611/98224 [21:19<22:35, 35.87it/s]"
     ]
    },
    {
     "name": "stdout",
     "output_type": "stream",
     "text": [
      "\n",
      "Intel MKL ERROR: Parameter 4 was incorrect on entry to DGELSD.\n"
     ]
    },
    {
     "name": "stderr",
     "output_type": "stream",
     "text": [
      " 51%|█████     | 49644/98224 [21:20<23:13, 34.85it/s]"
     ]
    },
    {
     "name": "stdout",
     "output_type": "stream",
     "text": [
      "\n",
      "Intel MKL ERROR: Parameter 4 was incorrect on entry to DGELSD.\n"
     ]
    },
    {
     "name": "stderr",
     "output_type": "stream",
     "text": [
      " 51%|█████     | 49975/98224 [21:29<16:24, 48.99it/s]"
     ]
    },
    {
     "name": "stdout",
     "output_type": "stream",
     "text": [
      "\n",
      "Intel MKL ERROR: Parameter 4 was incorrect on entry to DGELSD.\n"
     ]
    },
    {
     "name": "stderr",
     "output_type": "stream",
     "text": [
      " 51%|█████▏    | 50347/98224 [21:39<21:22, 37.32it/s]"
     ]
    },
    {
     "name": "stdout",
     "output_type": "stream",
     "text": [
      "\n",
      "Intel MKL ERROR: Parameter 4 was incorrect on entry to DGELSD.\n"
     ]
    },
    {
     "name": "stderr",
     "output_type": "stream",
     "text": [
      " 51%|█████▏    | 50384/98224 [21:40<20:38, 38.63it/s]"
     ]
    },
    {
     "name": "stdout",
     "output_type": "stream",
     "text": [
      "\n",
      "Intel MKL ERROR: Parameter 4 was incorrect on entry to DGELSD.\n"
     ]
    },
    {
     "name": "stderr",
     "output_type": "stream",
     "text": [
      " 51%|█████▏    | 50494/98224 [21:43<20:37, 38.56it/s]"
     ]
    },
    {
     "name": "stdout",
     "output_type": "stream",
     "text": [
      "\n",
      "Intel MKL ERROR: Parameter 4 was incorrect on entry to DGELSD.\n"
     ]
    },
    {
     "name": "stderr",
     "output_type": "stream",
     "text": [
      " 52%|█████▏    | 50764/98224 [21:51<21:35, 36.63it/s]"
     ]
    },
    {
     "name": "stdout",
     "output_type": "stream",
     "text": [
      "\n",
      "Intel MKL ERROR: Parameter 4 was incorrect on entry to DGELSD.\n"
     ]
    },
    {
     "name": "stderr",
     "output_type": "stream",
     "text": [
      " 52%|█████▏    | 50855/98224 [21:53<20:39, 38.20it/s]"
     ]
    },
    {
     "name": "stdout",
     "output_type": "stream",
     "text": [
      "\n",
      "Intel MKL ERROR: Parameter 4 was incorrect on entry to DGELSD.\n"
     ]
    },
    {
     "name": "stderr",
     "output_type": "stream",
     "text": [
      " 52%|█████▏    | 50919/98224 [21:55<23:51, 33.05it/s]"
     ]
    },
    {
     "name": "stdout",
     "output_type": "stream",
     "text": [
      "\n",
      "Intel MKL ERROR: Parameter 4 was incorrect on entry to DGELSD.\n"
     ]
    },
    {
     "name": "stderr",
     "output_type": "stream",
     "text": [
      " 52%|█████▏    | 51147/98224 [22:02<24:17, 32.29it/s]"
     ]
    },
    {
     "name": "stdout",
     "output_type": "stream",
     "text": [
      "\n",
      "Intel MKL ERROR: Parameter 4 was incorrect on entry to DGELSD.\n"
     ]
    },
    {
     "name": "stderr",
     "output_type": "stream",
     "text": [
      " 53%|█████▎    | 51877/98224 [22:23<22:17, 34.66it/s]"
     ]
    },
    {
     "name": "stdout",
     "output_type": "stream",
     "text": [
      "\n",
      "Intel MKL ERROR: Parameter 4 was incorrect on entry to DGELSD.\n"
     ]
    },
    {
     "name": "stderr",
     "output_type": "stream",
     "text": [
      " 53%|█████▎    | 51925/98224 [22:24<21:49, 35.36it/s]"
     ]
    },
    {
     "name": "stdout",
     "output_type": "stream",
     "text": [
      "\n",
      "Intel MKL ERROR: Parameter 4 was incorrect on entry to DGELSD.\n"
     ]
    },
    {
     "name": "stderr",
     "output_type": "stream",
     "text": [
      " 53%|█████▎    | 51945/98224 [22:25<23:44, 32.50it/s]"
     ]
    },
    {
     "name": "stdout",
     "output_type": "stream",
     "text": [
      "\n",
      "Intel MKL ERROR: Parameter 4 was incorrect on entry to DGELSD.\n"
     ]
    },
    {
     "name": "stderr",
     "output_type": "stream",
     "text": [
      " 53%|█████▎    | 51982/98224 [22:26<21:38, 35.60it/s]"
     ]
    },
    {
     "name": "stdout",
     "output_type": "stream",
     "text": [
      "\n",
      "Intel MKL ERROR: Parameter 4 was incorrect on entry to DGELSD.\n"
     ]
    },
    {
     "name": "stderr",
     "output_type": "stream",
     "text": [
      " 53%|█████▎    | 52035/98224 [22:27<22:04, 34.88it/s]"
     ]
    },
    {
     "name": "stdout",
     "output_type": "stream",
     "text": [
      "\n",
      "Intel MKL ERROR: Parameter 4 was incorrect on entry to DGELSD.\n"
     ]
    },
    {
     "name": "stderr",
     "output_type": "stream",
     "text": [
      " 53%|█████▎    | 52161/98224 [22:31<20:01, 38.34it/s]"
     ]
    },
    {
     "name": "stdout",
     "output_type": "stream",
     "text": [
      "\n",
      "Intel MKL ERROR: Parameter 4 was incorrect on entry to DGELSD.\n"
     ]
    },
    {
     "name": "stderr",
     "output_type": "stream",
     "text": [
      " 53%|█████▎    | 52470/98224 [22:39<20:31, 37.16it/s]"
     ]
    },
    {
     "name": "stdout",
     "output_type": "stream",
     "text": [
      "\n",
      "Intel MKL ERROR: Parameter 4 was incorrect on entry to DGELSD.\n"
     ]
    },
    {
     "name": "stderr",
     "output_type": "stream",
     "text": [
      " 53%|█████▎    | 52487/98224 [22:40<20:18, 37.54it/s]"
     ]
    },
    {
     "name": "stdout",
     "output_type": "stream",
     "text": [
      "\n",
      "Intel MKL ERROR: Parameter 4 was incorrect on entry to DGELSD.\n"
     ]
    },
    {
     "name": "stderr",
     "output_type": "stream",
     "text": [
      " 53%|█████▎    | 52528/98224 [22:41<22:07, 34.42it/s]"
     ]
    },
    {
     "name": "stdout",
     "output_type": "stream",
     "text": [
      "\n",
      "Intel MKL ERROR: Parameter 4 was incorrect on entry to DGELSD.\n"
     ]
    },
    {
     "name": "stderr",
     "output_type": "stream",
     "text": [
      " 54%|█████▎    | 52587/98224 [22:42<16:15, 46.80it/s]"
     ]
    },
    {
     "name": "stdout",
     "output_type": "stream",
     "text": [
      "\n",
      "Intel MKL ERROR: Parameter 4 was incorrect on entry to DGELSD.\n"
     ]
    },
    {
     "name": "stderr",
     "output_type": "stream",
     "text": [
      " 55%|█████▍    | 53886/98224 [23:20<23:25, 31.56it/s]"
     ]
    },
    {
     "name": "stdout",
     "output_type": "stream",
     "text": [
      "\n",
      "Intel MKL ERROR: Parameter 4 was incorrect on entry to DGELSD.\n"
     ]
    },
    {
     "name": "stderr",
     "output_type": "stream",
     "text": [
      " 55%|█████▍    | 53933/98224 [23:21<21:06, 34.96it/s]"
     ]
    },
    {
     "name": "stdout",
     "output_type": "stream",
     "text": [
      "\n",
      "Intel MKL ERROR: Parameter 4 was incorrect on entry to DGELSD.\n"
     ]
    },
    {
     "name": "stderr",
     "output_type": "stream",
     "text": [
      " 55%|█████▍    | 54002/98224 [23:23<19:41, 37.43it/s]"
     ]
    },
    {
     "name": "stdout",
     "output_type": "stream",
     "text": [
      "\n",
      "Intel MKL ERROR: Parameter 4 was incorrect on entry to DGELSD.\n",
      "\n",
      "Intel MKL ERROR: Parameter 4 was incorrect on entry to DGELSD.\n"
     ]
    },
    {
     "name": "stderr",
     "output_type": "stream",
     "text": [
      " 55%|█████▌    | 54226/98224 [23:29<15:11, 48.26it/s]"
     ]
    },
    {
     "name": "stdout",
     "output_type": "stream",
     "text": [
      "\n",
      "Intel MKL ERROR: Parameter 4 was incorrect on entry to DGELSD.\n"
     ]
    },
    {
     "name": "stderr",
     "output_type": "stream",
     "text": [
      " 55%|█████▌    | 54320/98224 [23:31<18:21, 39.85it/s]"
     ]
    },
    {
     "name": "stdout",
     "output_type": "stream",
     "text": [
      "\n",
      "Intel MKL ERROR: Parameter 4 was incorrect on entry to DGELSD.\n"
     ]
    },
    {
     "name": "stderr",
     "output_type": "stream",
     "text": [
      " 55%|█████▌    | 54370/98224 [23:32<19:55, 36.67it/s]"
     ]
    },
    {
     "name": "stdout",
     "output_type": "stream",
     "text": [
      "\n",
      "Intel MKL ERROR: Parameter 4 was incorrect on entry to DGELSD.\n"
     ]
    },
    {
     "name": "stderr",
     "output_type": "stream",
     "text": [
      " 55%|█████▌    | 54431/98224 [23:34<17:02, 42.84it/s]"
     ]
    },
    {
     "name": "stdout",
     "output_type": "stream",
     "text": [
      "\n",
      "Intel MKL ERROR: Parameter 4 was incorrect on entry to DGELSD.\n"
     ]
    },
    {
     "name": "stderr",
     "output_type": "stream",
     "text": [
      " 55%|█████▌    | 54441/98224 [23:34<19:11, 38.02it/s]"
     ]
    },
    {
     "name": "stdout",
     "output_type": "stream",
     "text": [
      "\n",
      "Intel MKL ERROR: Parameter 4 was incorrect on entry to DGELSD.\n"
     ]
    },
    {
     "name": "stderr",
     "output_type": "stream",
     "text": [
      " 56%|█████▌    | 54902/98224 [23:47<15:57, 45.25it/s]"
     ]
    },
    {
     "name": "stdout",
     "output_type": "stream",
     "text": [
      "\n",
      "Intel MKL ERROR: Parameter 4 was incorrect on entry to DGELSD.\n"
     ]
    },
    {
     "name": "stderr",
     "output_type": "stream",
     "text": [
      " 56%|█████▌    | 54959/98224 [23:48<15:03, 47.87it/s]"
     ]
    },
    {
     "name": "stdout",
     "output_type": "stream",
     "text": [
      "\n",
      "Intel MKL ERROR: Parameter 4 was incorrect on entry to DGELSD.\n"
     ]
    },
    {
     "name": "stderr",
     "output_type": "stream",
     "text": [
      " 56%|█████▌    | 55060/98224 [23:51<18:30, 38.86it/s]"
     ]
    },
    {
     "name": "stdout",
     "output_type": "stream",
     "text": [
      "\n",
      "Intel MKL ERROR: Parameter 4 was incorrect on entry to DGELSD.\n"
     ]
    },
    {
     "name": "stderr",
     "output_type": "stream",
     "text": [
      " 57%|█████▋    | 55694/98224 [24:10<20:55, 33.88it/s]"
     ]
    },
    {
     "name": "stdout",
     "output_type": "stream",
     "text": [
      "\n",
      "Intel MKL ERROR: Parameter 4 was incorrect on entry to DGELSD.\n"
     ]
    },
    {
     "name": "stderr",
     "output_type": "stream",
     "text": [
      " 57%|█████▋    | 55911/98224 [24:17<19:03, 37.00it/s]"
     ]
    },
    {
     "name": "stdout",
     "output_type": "stream",
     "text": [
      "\n",
      "Intel MKL ERROR: Parameter 4 was incorrect on entry to DGELSD.\n"
     ]
    },
    {
     "name": "stderr",
     "output_type": "stream",
     "text": [
      " 57%|█████▋    | 56090/98224 [24:22<19:25, 36.14it/s]"
     ]
    },
    {
     "name": "stdout",
     "output_type": "stream",
     "text": [
      "\n",
      "Intel MKL ERROR: Parameter 4 was incorrect on entry to DGELSD.\n"
     ]
    },
    {
     "name": "stderr",
     "output_type": "stream",
     "text": [
      " 57%|█████▋    | 56119/98224 [24:23<18:36, 37.72it/s]"
     ]
    },
    {
     "name": "stdout",
     "output_type": "stream",
     "text": [
      "\n",
      "Intel MKL ERROR: Parameter 4 was incorrect on entry to DGELSD.\n"
     ]
    },
    {
     "name": "stderr",
     "output_type": "stream",
     "text": [
      " 57%|█████▋    | 56222/98224 [24:25<15:42, 44.58it/s]"
     ]
    },
    {
     "name": "stdout",
     "output_type": "stream",
     "text": [
      "\n",
      "Intel MKL ERROR: Parameter 4 was incorrect on entry to DGELSD.\n"
     ]
    },
    {
     "name": "stderr",
     "output_type": "stream",
     "text": [
      " 57%|█████▋    | 56333/98224 [24:29<23:26, 29.79it/s]"
     ]
    },
    {
     "name": "stdout",
     "output_type": "stream",
     "text": [
      "\n",
      "Intel MKL ERROR: Parameter 4 was incorrect on entry to DGELSD.\n"
     ]
    },
    {
     "name": "stderr",
     "output_type": "stream",
     "text": [
      " 57%|█████▋    | 56373/98224 [24:30<19:30, 35.76it/s]"
     ]
    },
    {
     "name": "stdout",
     "output_type": "stream",
     "text": [
      "\n",
      "Intel MKL ERROR: Parameter 4 was incorrect on entry to DGELSD.\n"
     ]
    },
    {
     "name": "stderr",
     "output_type": "stream",
     "text": [
      " 58%|█████▊    | 56708/98224 [24:40<20:25, 33.89it/s]"
     ]
    },
    {
     "name": "stdout",
     "output_type": "stream",
     "text": [
      "\n",
      "Intel MKL ERROR: Parameter 4 was incorrect on entry to DGELSD.\n"
     ]
    },
    {
     "name": "stderr",
     "output_type": "stream",
     "text": [
      " 58%|█████▊    | 56716/98224 [24:40<20:02, 34.53it/s]"
     ]
    },
    {
     "name": "stdout",
     "output_type": "stream",
     "text": [
      "\n",
      "Intel MKL ERROR: Parameter 4 was incorrect on entry to DGELSD.\n"
     ]
    },
    {
     "name": "stderr",
     "output_type": "stream",
     "text": [
      " 58%|█████▊    | 56790/98224 [24:42<19:22, 35.64it/s]"
     ]
    },
    {
     "name": "stdout",
     "output_type": "stream",
     "text": [
      "\n",
      "Intel MKL ERROR: Parameter 4 was incorrect on entry to DGELSD.\n"
     ]
    },
    {
     "name": "stderr",
     "output_type": "stream",
     "text": [
      " 58%|█████▊    | 56815/98224 [24:43<19:08, 36.05it/s]"
     ]
    },
    {
     "name": "stdout",
     "output_type": "stream",
     "text": [
      "\n",
      "Intel MKL ERROR: Parameter 4 was incorrect on entry to DGELSD.\n"
     ]
    },
    {
     "name": "stderr",
     "output_type": "stream",
     "text": [
      " 58%|█████▊    | 57165/98224 [24:53<18:25, 37.14it/s]"
     ]
    },
    {
     "name": "stdout",
     "output_type": "stream",
     "text": [
      "\n",
      "Intel MKL ERROR: Parameter 4 was incorrect on entry to DGELSD.\n"
     ]
    },
    {
     "name": "stderr",
     "output_type": "stream",
     "text": [
      " 58%|█████▊    | 57394/98224 [25:00<16:41, 40.77it/s]"
     ]
    },
    {
     "name": "stdout",
     "output_type": "stream",
     "text": [
      "\n",
      "Intel MKL ERROR: Parameter 4 was incorrect on entry to DGELSD.\n"
     ]
    },
    {
     "name": "stderr",
     "output_type": "stream",
     "text": [
      " 59%|█████▊    | 57552/98224 [25:04<16:42, 40.59it/s]"
     ]
    },
    {
     "name": "stdout",
     "output_type": "stream",
     "text": [
      "\n",
      "Intel MKL ERROR: Parameter 4 was incorrect on entry to DGELSD.\n",
      "\n",
      "Intel MKL ERROR: Parameter 4 was incorrect on entry to DGELSD.\n"
     ]
    },
    {
     "name": "stderr",
     "output_type": "stream",
     "text": [
      " 59%|█████▊    | 57557/98224 [25:04<19:46, 34.27it/s]"
     ]
    },
    {
     "name": "stdout",
     "output_type": "stream",
     "text": [
      "\n",
      "Intel MKL ERROR: Parameter 4 was incorrect on entry to DGELSD.\n"
     ]
    },
    {
     "name": "stderr",
     "output_type": "stream",
     "text": [
      " 59%|█████▊    | 57577/98224 [25:05<20:23, 33.22it/s]"
     ]
    },
    {
     "name": "stdout",
     "output_type": "stream",
     "text": [
      "\n",
      "Intel MKL ERROR: Parameter 4 was incorrect on entry to DGELSD.\n",
      "\n",
      "Intel MKL ERROR: Parameter 4 was incorrect on entry to DGELSD.\n"
     ]
    },
    {
     "name": "stderr",
     "output_type": "stream",
     "text": [
      " 59%|█████▊    | 57615/98224 [25:06<15:55, 42.48it/s]"
     ]
    },
    {
     "name": "stdout",
     "output_type": "stream",
     "text": [
      "\n",
      "Intel MKL ERROR: Parameter 4 was incorrect on entry to DGELSD.\n"
     ]
    },
    {
     "name": "stderr",
     "output_type": "stream",
     "text": [
      " 59%|█████▊    | 57644/98224 [25:07<22:09, 30.52it/s]"
     ]
    },
    {
     "name": "stdout",
     "output_type": "stream",
     "text": [
      "\n",
      "Intel MKL ERROR: Parameter 4 was incorrect on entry to DGELSD.\n"
     ]
    },
    {
     "name": "stderr",
     "output_type": "stream",
     "text": [
      " 59%|█████▉    | 57803/98224 [25:12<17:46, 37.91it/s]"
     ]
    },
    {
     "name": "stdout",
     "output_type": "stream",
     "text": [
      "\n",
      "Intel MKL ERROR: Parameter 4 was incorrect on entry to DGELSD.\n"
     ]
    },
    {
     "name": "stderr",
     "output_type": "stream",
     "text": [
      " 59%|█████▉    | 57909/98224 [25:14<18:46, 35.80it/s]"
     ]
    },
    {
     "name": "stdout",
     "output_type": "stream",
     "text": [
      "\n",
      "Intel MKL ERROR: Parameter 4 was incorrect on entry to DGELSD.\n"
     ]
    },
    {
     "name": "stderr",
     "output_type": "stream",
     "text": [
      " 59%|█████▉    | 58024/98224 [25:18<18:30, 36.21it/s]"
     ]
    },
    {
     "name": "stdout",
     "output_type": "stream",
     "text": [
      "\n",
      "Intel MKL ERROR: Parameter 4 was incorrect on entry to DGELSD.\n"
     ]
    },
    {
     "name": "stderr",
     "output_type": "stream",
     "text": [
      " 59%|█████▉    | 58108/98224 [25:20<18:06, 36.94it/s]"
     ]
    },
    {
     "name": "stdout",
     "output_type": "stream",
     "text": [
      "\n",
      "Intel MKL ERROR: Parameter 4 was incorrect on entry to DGELSD.\n"
     ]
    },
    {
     "name": "stderr",
     "output_type": "stream",
     "text": [
      " 59%|█████▉    | 58265/98224 [25:25<21:52, 30.44it/s]"
     ]
    },
    {
     "name": "stdout",
     "output_type": "stream",
     "text": [
      "\n",
      "Intel MKL ERROR: Parameter 4 was incorrect on entry to DGELSD.\n"
     ]
    },
    {
     "name": "stderr",
     "output_type": "stream",
     "text": [
      " 60%|█████▉    | 58489/98224 [25:31<16:29, 40.16it/s]"
     ]
    },
    {
     "name": "stdout",
     "output_type": "stream",
     "text": [
      "\n",
      "Intel MKL ERROR: Parameter 4 was incorrect on entry to DGELSD.\n"
     ]
    },
    {
     "name": "stderr",
     "output_type": "stream",
     "text": [
      " 60%|█████▉    | 58634/98224 [25:35<16:00, 41.22it/s]"
     ]
    },
    {
     "name": "stdout",
     "output_type": "stream",
     "text": [
      "\n",
      "Intel MKL ERROR: Parameter 4 was incorrect on entry to DGELSD.\n"
     ]
    },
    {
     "name": "stderr",
     "output_type": "stream",
     "text": [
      " 60%|██████    | 58973/98224 [25:46<17:47, 36.78it/s]"
     ]
    },
    {
     "name": "stdout",
     "output_type": "stream",
     "text": [
      "\n",
      "Intel MKL ERROR: Parameter 4 was incorrect on entry to DGELSD.\n"
     ]
    },
    {
     "name": "stderr",
     "output_type": "stream",
     "text": [
      " 60%|██████    | 59010/98224 [25:47<19:36, 33.34it/s]"
     ]
    },
    {
     "name": "stdout",
     "output_type": "stream",
     "text": [
      "\n",
      "Intel MKL ERROR: Parameter 4 was incorrect on entry to DGELSD.\n"
     ]
    },
    {
     "name": "stderr",
     "output_type": "stream",
     "text": [
      " 60%|██████    | 59051/98224 [25:48<19:25, 33.61it/s]"
     ]
    },
    {
     "name": "stdout",
     "output_type": "stream",
     "text": [
      "\n",
      "Intel MKL ERROR: Parameter 4 was incorrect on entry to DGELSD.\n"
     ]
    },
    {
     "name": "stderr",
     "output_type": "stream",
     "text": [
      " 60%|██████    | 59129/98224 [25:50<18:03, 36.07it/s]"
     ]
    },
    {
     "name": "stdout",
     "output_type": "stream",
     "text": [
      "\n",
      "Intel MKL ERROR: Parameter 4 was incorrect on entry to DGELSD.\n"
     ]
    },
    {
     "name": "stderr",
     "output_type": "stream",
     "text": [
      " 61%|██████    | 59717/98224 [26:05<13:24, 47.89it/s]"
     ]
    },
    {
     "name": "stdout",
     "output_type": "stream",
     "text": [
      "\n",
      "Intel MKL ERROR: Parameter 4 was incorrect on entry to DGELSD.\n",
      "\n",
      "Intel MKL ERROR: Parameter 4 was incorrect on entry to DGELSD.\n"
     ]
    },
    {
     "name": "stderr",
     "output_type": "stream",
     "text": [
      " 61%|██████    | 59848/98224 [26:09<16:07, 39.68it/s]"
     ]
    },
    {
     "name": "stdout",
     "output_type": "stream",
     "text": [
      "\n",
      "Intel MKL ERROR: Parameter 4 was incorrect on entry to DGELSD.\n"
     ]
    },
    {
     "name": "stderr",
     "output_type": "stream",
     "text": [
      " 61%|██████    | 59988/98224 [26:12<15:43, 40.53it/s]"
     ]
    },
    {
     "name": "stdout",
     "output_type": "stream",
     "text": [
      "\n",
      "Intel MKL ERROR: Parameter 4 was incorrect on entry to DGELSD.\n"
     ]
    },
    {
     "name": "stderr",
     "output_type": "stream",
     "text": [
      " 61%|██████▏   | 60261/98224 [26:20<19:03, 33.19it/s]"
     ]
    },
    {
     "name": "stdout",
     "output_type": "stream",
     "text": [
      "\n",
      "Intel MKL ERROR: Parameter 4 was incorrect on entry to DGELSD.\n"
     ]
    },
    {
     "name": "stderr",
     "output_type": "stream",
     "text": [
      " 61%|██████▏   | 60322/98224 [26:22<18:14, 34.63it/s]"
     ]
    },
    {
     "name": "stdout",
     "output_type": "stream",
     "text": [
      "\n",
      "Intel MKL ERROR: Parameter 4 was incorrect on entry to DGELSD.\n"
     ]
    },
    {
     "name": "stderr",
     "output_type": "stream",
     "text": [
      " 62%|██████▏   | 60567/98224 [26:29<17:36, 35.65it/s]"
     ]
    },
    {
     "name": "stdout",
     "output_type": "stream",
     "text": [
      "\n",
      "Intel MKL ERROR: Parameter 4 was incorrect on entry to DGELSD.\n",
      "\n",
      "Intel MKL ERROR: Parameter 4 was incorrect on entry to DGELSD.\n"
     ]
    },
    {
     "name": "stderr",
     "output_type": "stream",
     "text": [
      " 62%|██████▏   | 60630/98224 [26:31<16:16, 38.48it/s]"
     ]
    },
    {
     "name": "stdout",
     "output_type": "stream",
     "text": [
      "\n",
      "Intel MKL ERROR: Parameter 4 was incorrect on entry to DGELSD.\n"
     ]
    },
    {
     "name": "stderr",
     "output_type": "stream",
     "text": [
      " 62%|██████▏   | 60738/98224 [26:34<17:04, 36.61it/s]"
     ]
    },
    {
     "name": "stdout",
     "output_type": "stream",
     "text": [
      "\n",
      "Intel MKL ERROR: Parameter 4 was incorrect on entry to DGELSD.\n"
     ]
    },
    {
     "name": "stderr",
     "output_type": "stream",
     "text": [
      " 62%|██████▏   | 60946/98224 [26:39<13:16, 46.83it/s]"
     ]
    },
    {
     "name": "stdout",
     "output_type": "stream",
     "text": [
      "\n",
      "Intel MKL ERROR: Parameter 4 was incorrect on entry to DGELSD.\n"
     ]
    },
    {
     "name": "stderr",
     "output_type": "stream",
     "text": [
      " 62%|██████▏   | 61013/98224 [26:41<16:54, 36.70it/s]"
     ]
    },
    {
     "name": "stdout",
     "output_type": "stream",
     "text": [
      "\n",
      "Intel MKL ERROR: Parameter 4 was incorrect on entry to DGELSD.\n"
     ]
    },
    {
     "name": "stderr",
     "output_type": "stream",
     "text": [
      " 62%|██████▏   | 61022/98224 [26:41<15:36, 39.74it/s]"
     ]
    },
    {
     "name": "stdout",
     "output_type": "stream",
     "text": [
      "\n",
      "Intel MKL ERROR: Parameter 4 was incorrect on entry to DGELSD.\n"
     ]
    },
    {
     "name": "stderr",
     "output_type": "stream",
     "text": [
      " 62%|██████▏   | 61068/98224 [26:43<18:09, 34.11it/s]"
     ]
    },
    {
     "name": "stdout",
     "output_type": "stream",
     "text": [
      "\n",
      "Intel MKL ERROR: Parameter 4 was incorrect on entry to DGELSD.\n"
     ]
    },
    {
     "name": "stderr",
     "output_type": "stream",
     "text": [
      " 62%|██████▏   | 61272/98224 [26:49<18:23, 33.50it/s]"
     ]
    },
    {
     "name": "stdout",
     "output_type": "stream",
     "text": [
      "\n",
      "Intel MKL ERROR: Parameter 4 was incorrect on entry to DGELSD.\n"
     ]
    },
    {
     "name": "stderr",
     "output_type": "stream",
     "text": [
      " 62%|██████▏   | 61383/98224 [26:52<13:53, 44.21it/s]"
     ]
    },
    {
     "name": "stdout",
     "output_type": "stream",
     "text": [
      "\n",
      "Intel MKL ERROR: Parameter 4 was incorrect on entry to DGELSD.\n"
     ]
    },
    {
     "name": "stderr",
     "output_type": "stream",
     "text": [
      " 63%|██████▎   | 61887/98224 [27:06<15:50, 38.21it/s]"
     ]
    },
    {
     "name": "stdout",
     "output_type": "stream",
     "text": [
      "\n",
      "Intel MKL ERROR: Parameter 4 was incorrect on entry to DGELSD.\n"
     ]
    },
    {
     "name": "stderr",
     "output_type": "stream",
     "text": [
      " 64%|██████▎   | 62554/98224 [27:24<12:01, 49.45it/s]"
     ]
    },
    {
     "name": "stdout",
     "output_type": "stream",
     "text": [
      "\n",
      "Intel MKL ERROR: Parameter 4 was incorrect on entry to DGELSD.\n"
     ]
    },
    {
     "name": "stderr",
     "output_type": "stream",
     "text": [
      " 64%|██████▍   | 62631/98224 [27:26<15:25, 38.46it/s]"
     ]
    },
    {
     "name": "stdout",
     "output_type": "stream",
     "text": [
      "\n",
      "Intel MKL ERROR: Parameter 4 was incorrect on entry to DGELSD.\n",
      "\n",
      "Intel MKL ERROR: Parameter 4 was incorrect on entry to DGELSD.\n"
     ]
    },
    {
     "name": "stderr",
     "output_type": "stream",
     "text": [
      " 64%|██████▍   | 62661/98224 [27:27<12:29, 47.42it/s]"
     ]
    },
    {
     "name": "stdout",
     "output_type": "stream",
     "text": [
      "\n",
      "Intel MKL ERROR: Parameter 4 was incorrect on entry to DGELSD.\n"
     ]
    },
    {
     "name": "stderr",
     "output_type": "stream",
     "text": [
      " 64%|██████▍   | 62683/98224 [27:27<12:07, 48.84it/s]"
     ]
    },
    {
     "name": "stdout",
     "output_type": "stream",
     "text": [
      "\n",
      "Intel MKL ERROR: Parameter 4 was incorrect on entry to DGELSD.\n"
     ]
    },
    {
     "name": "stderr",
     "output_type": "stream",
     "text": [
      " 64%|██████▍   | 62688/98224 [27:27<13:01, 45.45it/s]"
     ]
    },
    {
     "name": "stdout",
     "output_type": "stream",
     "text": [
      "\n",
      "Intel MKL ERROR: Parameter 4 was incorrect on entry to DGELSD.\n"
     ]
    },
    {
     "name": "stderr",
     "output_type": "stream",
     "text": [
      " 64%|██████▍   | 62808/98224 [27:31<15:10, 38.88it/s]"
     ]
    },
    {
     "name": "stdout",
     "output_type": "stream",
     "text": [
      "\n",
      "Intel MKL ERROR: Parameter 4 was incorrect on entry to DGELSD.\n"
     ]
    },
    {
     "name": "stderr",
     "output_type": "stream",
     "text": [
      " 64%|██████▍   | 62819/98224 [27:31<13:33, 43.50it/s]"
     ]
    },
    {
     "name": "stdout",
     "output_type": "stream",
     "text": [
      "\n",
      "Intel MKL ERROR: Parameter 4 was incorrect on entry to DGELSD.\n"
     ]
    },
    {
     "name": "stderr",
     "output_type": "stream",
     "text": [
      " 64%|██████▍   | 62947/98224 [27:34<15:06, 38.91it/s]"
     ]
    },
    {
     "name": "stdout",
     "output_type": "stream",
     "text": [
      "\n",
      "Intel MKL ERROR: Parameter 4 was incorrect on entry to DGELSD.\n"
     ]
    },
    {
     "name": "stderr",
     "output_type": "stream",
     "text": [
      " 64%|██████▍   | 62992/98224 [27:35<15:02, 39.04it/s]"
     ]
    },
    {
     "name": "stdout",
     "output_type": "stream",
     "text": [
      "\n",
      "Intel MKL ERROR: Parameter 4 was incorrect on entry to DGELSD.\n"
     ]
    },
    {
     "name": "stderr",
     "output_type": "stream",
     "text": [
      " 64%|██████▍   | 63013/98224 [27:36<15:58, 36.75it/s]"
     ]
    },
    {
     "name": "stdout",
     "output_type": "stream",
     "text": [
      "\n",
      "Intel MKL ERROR: Parameter 4 was incorrect on entry to DGELSD.\n"
     ]
    },
    {
     "name": "stderr",
     "output_type": "stream",
     "text": [
      " 64%|██████▍   | 63059/98224 [27:37<16:28, 35.56it/s]"
     ]
    },
    {
     "name": "stdout",
     "output_type": "stream",
     "text": [
      "\n",
      "Intel MKL ERROR: Parameter 4 was incorrect on entry to DGELSD.\n"
     ]
    },
    {
     "name": "stderr",
     "output_type": "stream",
     "text": [
      " 64%|██████▍   | 63229/98224 [27:42<16:30, 35.34it/s]"
     ]
    },
    {
     "name": "stdout",
     "output_type": "stream",
     "text": [
      "\n",
      "Intel MKL ERROR: Parameter 4 was incorrect on entry to DGELSD.\n"
     ]
    },
    {
     "name": "stderr",
     "output_type": "stream",
     "text": [
      " 65%|██████▍   | 63609/98224 [27:53<13:52, 41.59it/s]"
     ]
    },
    {
     "name": "stdout",
     "output_type": "stream",
     "text": [
      "\n",
      "Intel MKL ERROR: Parameter 4 was incorrect on entry to DGELSD.\n"
     ]
    },
    {
     "name": "stderr",
     "output_type": "stream",
     "text": [
      " 65%|██████▍   | 63623/98224 [27:53<15:25, 37.39it/s]"
     ]
    },
    {
     "name": "stdout",
     "output_type": "stream",
     "text": [
      "\n",
      "Intel MKL ERROR: Parameter 4 was incorrect on entry to DGELSD.\n"
     ]
    },
    {
     "name": "stderr",
     "output_type": "stream",
     "text": [
      " 65%|██████▍   | 63762/98224 [27:57<11:34, 49.60it/s]"
     ]
    },
    {
     "name": "stdout",
     "output_type": "stream",
     "text": [
      "\n",
      "Intel MKL ERROR: Parameter 4 was incorrect on entry to DGELSD.\n"
     ]
    },
    {
     "name": "stderr",
     "output_type": "stream",
     "text": [
      " 65%|██████▍   | 63804/98224 [27:58<16:17, 35.22it/s]"
     ]
    },
    {
     "name": "stdout",
     "output_type": "stream",
     "text": [
      "\n",
      "Intel MKL ERROR: Parameter 4 was incorrect on entry to DGELSD.\n"
     ]
    },
    {
     "name": "stderr",
     "output_type": "stream",
     "text": [
      " 65%|██████▌   | 63846/98224 [27:59<16:42, 34.30it/s]"
     ]
    },
    {
     "name": "stdout",
     "output_type": "stream",
     "text": [
      "\n",
      "Intel MKL ERROR: Parameter 4 was incorrect on entry to DGELSD.\n"
     ]
    },
    {
     "name": "stderr",
     "output_type": "stream",
     "text": [
      " 65%|██████▌   | 63882/98224 [28:00<17:00, 33.67it/s]"
     ]
    },
    {
     "name": "stdout",
     "output_type": "stream",
     "text": [
      "\n",
      "Intel MKL ERROR: Parameter 4 was incorrect on entry to DGELSD.\n"
     ]
    },
    {
     "name": "stderr",
     "output_type": "stream",
     "text": [
      " 65%|██████▌   | 63910/98224 [28:01<17:04, 33.49it/s]"
     ]
    },
    {
     "name": "stdout",
     "output_type": "stream",
     "text": [
      "\n",
      "Intel MKL ERROR: Parameter 4 was incorrect on entry to DGELSD.\n"
     ]
    },
    {
     "name": "stderr",
     "output_type": "stream",
     "text": [
      " 65%|██████▌   | 64040/98224 [28:05<15:42, 36.29it/s]"
     ]
    },
    {
     "name": "stdout",
     "output_type": "stream",
     "text": [
      "\n",
      "Intel MKL ERROR: Parameter 4 was incorrect on entry to DGELSD.\n"
     ]
    },
    {
     "name": "stderr",
     "output_type": "stream",
     "text": [
      " 65%|██████▌   | 64049/98224 [28:05<15:25, 36.93it/s]"
     ]
    },
    {
     "name": "stdout",
     "output_type": "stream",
     "text": [
      "\n",
      "Intel MKL ERROR: Parameter 4 was incorrect on entry to DGELSD.\n"
     ]
    },
    {
     "name": "stderr",
     "output_type": "stream",
     "text": [
      " 65%|██████▌   | 64199/98224 [28:09<17:10, 33.01it/s]"
     ]
    },
    {
     "name": "stdout",
     "output_type": "stream",
     "text": [
      "\n",
      "Intel MKL ERROR: Parameter 4 was incorrect on entry to DGELSD.\n"
     ]
    },
    {
     "name": "stderr",
     "output_type": "stream",
     "text": [
      " 65%|██████▌   | 64254/98224 [28:11<16:36, 34.09it/s]"
     ]
    },
    {
     "name": "stdout",
     "output_type": "stream",
     "text": [
      "\n",
      "Intel MKL ERROR: Parameter 4 was incorrect on entry to DGELSD.\n",
      "\n",
      "Intel MKL ERROR: Parameter 4 was incorrect on entry to DGELSD.\n"
     ]
    },
    {
     "name": "stderr",
     "output_type": "stream",
     "text": [
      " 66%|██████▌   | 64381/98224 [28:15<15:32, 36.30it/s]"
     ]
    },
    {
     "name": "stdout",
     "output_type": "stream",
     "text": [
      "\n",
      "Intel MKL ERROR: Parameter 4 was incorrect on entry to DGELSD.\n"
     ]
    },
    {
     "name": "stderr",
     "output_type": "stream",
     "text": [
      " 66%|██████▌   | 64531/98224 [28:19<16:01, 35.05it/s]"
     ]
    },
    {
     "name": "stdout",
     "output_type": "stream",
     "text": [
      "\n",
      "Intel MKL ERROR: Parameter 4 was incorrect on entry to DGELSD.\n"
     ]
    },
    {
     "name": "stderr",
     "output_type": "stream",
     "text": [
      " 66%|██████▌   | 64603/98224 [28:21<16:24, 34.15it/s]"
     ]
    },
    {
     "name": "stdout",
     "output_type": "stream",
     "text": [
      "\n",
      "Intel MKL ERROR: Parameter 4 was incorrect on entry to DGELSD.\n"
     ]
    },
    {
     "name": "stderr",
     "output_type": "stream",
     "text": [
      " 66%|██████▌   | 64749/98224 [28:25<18:05, 30.83it/s]"
     ]
    },
    {
     "name": "stdout",
     "output_type": "stream",
     "text": [
      "\n",
      "Intel MKL ERROR: Parameter 4 was incorrect on entry to DGELSD.\n"
     ]
    },
    {
     "name": "stderr",
     "output_type": "stream",
     "text": [
      " 66%|██████▌   | 64770/98224 [28:26<15:45, 35.39it/s]"
     ]
    },
    {
     "name": "stdout",
     "output_type": "stream",
     "text": [
      "\n",
      "Intel MKL ERROR: Parameter 4 was incorrect on entry to DGELSD.\n"
     ]
    },
    {
     "name": "stderr",
     "output_type": "stream",
     "text": [
      " 66%|██████▌   | 64885/98224 [28:29<15:05, 36.80it/s]"
     ]
    },
    {
     "name": "stdout",
     "output_type": "stream",
     "text": [
      "\n",
      "Intel MKL ERROR: Parameter 4 was incorrect on entry to DGELSD.\n"
     ]
    },
    {
     "name": "stderr",
     "output_type": "stream",
     "text": [
      " 66%|██████▌   | 65049/98224 [28:34<14:44, 37.49it/s]"
     ]
    },
    {
     "name": "stdout",
     "output_type": "stream",
     "text": [
      "\n",
      "Intel MKL ERROR: Parameter 4 was incorrect on entry to DGELSD.\n"
     ]
    },
    {
     "name": "stderr",
     "output_type": "stream",
     "text": [
      " 66%|██████▌   | 65066/98224 [28:34<14:40, 37.67it/s]"
     ]
    },
    {
     "name": "stdout",
     "output_type": "stream",
     "text": [
      "\n",
      "Intel MKL ERROR: Parameter 4 was incorrect on entry to DGELSD.\n"
     ]
    },
    {
     "name": "stderr",
     "output_type": "stream",
     "text": [
      " 66%|██████▋   | 65079/98224 [28:35<16:50, 32.79it/s]"
     ]
    },
    {
     "name": "stdout",
     "output_type": "stream",
     "text": [
      "\n",
      "Intel MKL ERROR: Parameter 4 was incorrect on entry to DGELSD.\n"
     ]
    },
    {
     "name": "stderr",
     "output_type": "stream",
     "text": [
      " 66%|██████▋   | 65097/98224 [28:35<15:52, 34.77it/s]"
     ]
    },
    {
     "name": "stdout",
     "output_type": "stream",
     "text": [
      "\n",
      "Intel MKL ERROR: Parameter 4 was incorrect on entry to DGELSD.\n"
     ]
    },
    {
     "name": "stderr",
     "output_type": "stream",
     "text": [
      " 66%|██████▋   | 65120/98224 [28:36<13:19, 41.40it/s]"
     ]
    },
    {
     "name": "stdout",
     "output_type": "stream",
     "text": [
      "\n",
      "Intel MKL ERROR: Parameter 4 was incorrect on entry to DGELSD.\n",
      "\n",
      "Intel MKL ERROR: Parameter 4 was incorrect on entry to DGELSD.\n"
     ]
    },
    {
     "name": "stderr",
     "output_type": "stream",
     "text": [
      " 66%|██████▋   | 65146/98224 [28:36<11:59, 45.98it/s]"
     ]
    },
    {
     "name": "stdout",
     "output_type": "stream",
     "text": [
      "\n",
      "Intel MKL ERROR: Parameter 4 was incorrect on entry to DGELSD.\n"
     ]
    },
    {
     "name": "stderr",
     "output_type": "stream",
     "text": [
      " 66%|██████▋   | 65180/98224 [28:37<13:33, 40.61it/s]"
     ]
    },
    {
     "name": "stdout",
     "output_type": "stream",
     "text": [
      "\n",
      "Intel MKL ERROR: Parameter 4 was incorrect on entry to DGELSD.\n",
      "\n",
      "Intel MKL ERROR: Parameter 4 was incorrect on entry to DGELSD.\n",
      "\n",
      "Intel MKL ERROR: Parameter 4 was incorrect on entry to DGELSD.\n",
      "\n",
      "Intel MKL ERROR: Parameter 4 was incorrect on entry to DGELSD.\n"
     ]
    },
    {
     "name": "stderr",
     "output_type": "stream",
     "text": [
      " 66%|██████▋   | 65192/98224 [28:37<12:04, 45.62it/s]"
     ]
    },
    {
     "name": "stdout",
     "output_type": "stream",
     "text": [
      "\n",
      "Intel MKL ERROR: Parameter 4 was incorrect on entry to DGELSD.\n"
     ]
    },
    {
     "name": "stderr",
     "output_type": "stream",
     "text": [
      " 66%|██████▋   | 65212/98224 [28:38<13:02, 42.21it/s]"
     ]
    },
    {
     "name": "stdout",
     "output_type": "stream",
     "text": [
      "\n",
      "Intel MKL ERROR: Parameter 4 was incorrect on entry to DGELSD.\n",
      "\n",
      "Intel MKL ERROR: Parameter 4 was incorrect on entry to DGELSD.\n",
      "\n",
      "Intel MKL ERROR: Parameter 4 was incorrect on entry to DGELSD.\n"
     ]
    },
    {
     "name": "stderr",
     "output_type": "stream",
     "text": [
      " 66%|██████▋   | 65227/98224 [28:38<12:54, 42.59it/s]"
     ]
    },
    {
     "name": "stdout",
     "output_type": "stream",
     "text": [
      "\n",
      "Intel MKL ERROR: Parameter 4 was incorrect on entry to DGELSD.\n"
     ]
    },
    {
     "name": "stderr",
     "output_type": "stream",
     "text": [
      " 66%|██████▋   | 65256/98224 [28:39<16:23, 33.53it/s]"
     ]
    },
    {
     "name": "stdout",
     "output_type": "stream",
     "text": [
      "\n",
      "Intel MKL ERROR: Parameter 4 was incorrect on entry to DGELSD.\n"
     ]
    },
    {
     "name": "stderr",
     "output_type": "stream",
     "text": [
      " 66%|██████▋   | 65268/98224 [28:39<16:22, 33.54it/s]"
     ]
    },
    {
     "name": "stdout",
     "output_type": "stream",
     "text": [
      "\n",
      "Intel MKL ERROR: Parameter 4 was incorrect on entry to DGELSD.\n",
      "\n",
      "Intel MKL ERROR: Parameter 4 was incorrect on entry to DGELSD.\n"
     ]
    },
    {
     "name": "stderr",
     "output_type": "stream",
     "text": [
      " 66%|██████▋   | 65294/98224 [28:40<15:25, 35.59it/s]"
     ]
    },
    {
     "name": "stdout",
     "output_type": "stream",
     "text": [
      "\n",
      "Intel MKL ERROR: Parameter 4 was incorrect on entry to DGELSD.\n"
     ]
    },
    {
     "name": "stderr",
     "output_type": "stream",
     "text": [
      " 66%|██████▋   | 65315/98224 [28:41<14:17, 38.37it/s]"
     ]
    },
    {
     "name": "stdout",
     "output_type": "stream",
     "text": [
      "\n",
      "Intel MKL ERROR: Parameter 4 was incorrect on entry to DGELSD.\n"
     ]
    },
    {
     "name": "stderr",
     "output_type": "stream",
     "text": [
      " 67%|██████▋   | 65351/98224 [28:42<17:16, 31.73it/s]"
     ]
    },
    {
     "name": "stdout",
     "output_type": "stream",
     "text": [
      "\n",
      "Intel MKL ERROR: Parameter 4 was incorrect on entry to DGELSD.\n"
     ]
    },
    {
     "name": "stderr",
     "output_type": "stream",
     "text": [
      " 67%|██████▋   | 65371/98224 [28:43<16:25, 33.34it/s]"
     ]
    },
    {
     "name": "stdout",
     "output_type": "stream",
     "text": [
      "\n",
      "Intel MKL ERROR: Parameter 4 was incorrect on entry to DGELSD.\n"
     ]
    },
    {
     "name": "stderr",
     "output_type": "stream",
     "text": [
      " 67%|██████▋   | 65538/98224 [28:48<15:19, 35.54it/s]"
     ]
    },
    {
     "name": "stdout",
     "output_type": "stream",
     "text": [
      "\n",
      "Intel MKL ERROR: Parameter 4 was incorrect on entry to DGELSD.\n"
     ]
    },
    {
     "name": "stderr",
     "output_type": "stream",
     "text": [
      " 67%|██████▋   | 65619/98224 [28:50<13:56, 38.99it/s]"
     ]
    },
    {
     "name": "stdout",
     "output_type": "stream",
     "text": [
      "\n",
      "Intel MKL ERROR: Parameter 4 was incorrect on entry to DGELSD.\n"
     ]
    },
    {
     "name": "stderr",
     "output_type": "stream",
     "text": [
      " 67%|██████▋   | 65636/98224 [28:51<14:28, 37.51it/s]"
     ]
    },
    {
     "name": "stdout",
     "output_type": "stream",
     "text": [
      "\n",
      "Intel MKL ERROR: Parameter 4 was incorrect on entry to DGELSD.\n"
     ]
    },
    {
     "name": "stderr",
     "output_type": "stream",
     "text": [
      " 67%|██████▋   | 65640/98224 [28:51<15:16, 35.56it/s]"
     ]
    },
    {
     "name": "stdout",
     "output_type": "stream",
     "text": [
      "\n",
      "Intel MKL ERROR: Parameter 4 was incorrect on entry to DGELSD.\n"
     ]
    },
    {
     "name": "stderr",
     "output_type": "stream",
     "text": [
      " 67%|██████▋   | 65712/98224 [28:53<13:37, 39.77it/s]"
     ]
    },
    {
     "name": "stdout",
     "output_type": "stream",
     "text": [
      "\n",
      "Intel MKL ERROR: Parameter 4 was incorrect on entry to DGELSD.\n"
     ]
    },
    {
     "name": "stderr",
     "output_type": "stream",
     "text": [
      " 67%|██████▋   | 65733/98224 [28:53<12:13, 44.30it/s]"
     ]
    },
    {
     "name": "stdout",
     "output_type": "stream",
     "text": [
      "\n",
      "Intel MKL ERROR: Parameter 4 was incorrect on entry to DGELSD.\n"
     ]
    },
    {
     "name": "stderr",
     "output_type": "stream",
     "text": [
      " 67%|██████▋   | 65782/98224 [28:54<13:04, 41.38it/s]"
     ]
    },
    {
     "name": "stdout",
     "output_type": "stream",
     "text": [
      "\n",
      "Intel MKL ERROR: Parameter 4 was incorrect on entry to DGELSD.\n"
     ]
    },
    {
     "name": "stderr",
     "output_type": "stream",
     "text": [
      " 67%|██████▋   | 65792/98224 [28:55<12:57, 41.71it/s]"
     ]
    },
    {
     "name": "stdout",
     "output_type": "stream",
     "text": [
      "\n",
      "Intel MKL ERROR: Parameter 4 was incorrect on entry to DGELSD.\n"
     ]
    },
    {
     "name": "stderr",
     "output_type": "stream",
     "text": [
      " 67%|██████▋   | 66064/98224 [29:02<13:20, 40.18it/s]"
     ]
    },
    {
     "name": "stdout",
     "output_type": "stream",
     "text": [
      "\n",
      "Intel MKL ERROR: Parameter 4 was incorrect on entry to DGELSD.\n"
     ]
    },
    {
     "name": "stderr",
     "output_type": "stream",
     "text": [
      " 67%|██████▋   | 66162/98224 [29:05<15:33, 34.33it/s]"
     ]
    },
    {
     "name": "stdout",
     "output_type": "stream",
     "text": [
      "\n",
      "Intel MKL ERROR: Parameter 4 was incorrect on entry to DGELSD.\n"
     ]
    },
    {
     "name": "stderr",
     "output_type": "stream",
     "text": [
      " 67%|██████▋   | 66236/98224 [29:07<13:26, 39.66it/s]"
     ]
    },
    {
     "name": "stdout",
     "output_type": "stream",
     "text": [
      "\n",
      "Intel MKL ERROR: Parameter 4 was incorrect on entry to DGELSD.\n"
     ]
    },
    {
     "name": "stderr",
     "output_type": "stream",
     "text": [
      " 67%|██████▋   | 66256/98224 [29:08<14:32, 36.63it/s]"
     ]
    },
    {
     "name": "stdout",
     "output_type": "stream",
     "text": [
      "\n",
      "Intel MKL ERROR: Parameter 4 was incorrect on entry to DGELSD.\n"
     ]
    },
    {
     "name": "stderr",
     "output_type": "stream",
     "text": [
      " 68%|██████▊   | 66324/98224 [29:10<15:41, 33.89it/s]"
     ]
    },
    {
     "name": "stdout",
     "output_type": "stream",
     "text": [
      "\n",
      "Intel MKL ERROR: Parameter 4 was incorrect on entry to DGELSD.\n"
     ]
    },
    {
     "name": "stderr",
     "output_type": "stream",
     "text": [
      " 68%|██████▊   | 66413/98224 [29:12<11:46, 45.03it/s]"
     ]
    },
    {
     "name": "stdout",
     "output_type": "stream",
     "text": [
      "\n",
      "Intel MKL ERROR: Parameter 4 was incorrect on entry to DGELSD.\n"
     ]
    },
    {
     "name": "stderr",
     "output_type": "stream",
     "text": [
      " 68%|██████▊   | 66428/98224 [29:12<12:05, 43.83it/s]"
     ]
    },
    {
     "name": "stdout",
     "output_type": "stream",
     "text": [
      "\n",
      "Intel MKL ERROR: Parameter 4 was incorrect on entry to DGELSD.\n",
      "\n",
      "Intel MKL ERROR: Parameter 4 was incorrect on entry to DGELSD.\n"
     ]
    },
    {
     "name": "stderr",
     "output_type": "stream",
     "text": [
      " 68%|██████▊   | 66448/98224 [29:13<13:09, 40.23it/s]"
     ]
    },
    {
     "name": "stdout",
     "output_type": "stream",
     "text": [
      "\n",
      "Intel MKL ERROR: Parameter 4 was incorrect on entry to DGELSD.\n"
     ]
    },
    {
     "name": "stderr",
     "output_type": "stream",
     "text": [
      " 68%|██████▊   | 66636/98224 [29:17<13:26, 39.17it/s]"
     ]
    },
    {
     "name": "stdout",
     "output_type": "stream",
     "text": [
      "\n",
      "Intel MKL ERROR: Parameter 4 was incorrect on entry to DGELSD.\n",
      "\n",
      "Intel MKL ERROR: Parameter 4 was incorrect on entry to DGELSD.\n"
     ]
    },
    {
     "name": "stderr",
     "output_type": "stream",
     "text": [
      " 68%|██████▊   | 66679/98224 [29:19<12:10, 43.17it/s]"
     ]
    },
    {
     "name": "stdout",
     "output_type": "stream",
     "text": [
      "\n",
      "Intel MKL ERROR: Parameter 4 was incorrect on entry to DGELSD.\n"
     ]
    },
    {
     "name": "stderr",
     "output_type": "stream",
     "text": [
      " 68%|██████▊   | 66691/98224 [29:19<11:01, 47.64it/s]"
     ]
    },
    {
     "name": "stdout",
     "output_type": "stream",
     "text": [
      "\n",
      "Intel MKL ERROR: Parameter 4 was incorrect on entry to DGELSD.\n"
     ]
    },
    {
     "name": "stderr",
     "output_type": "stream",
     "text": [
      " 68%|██████▊   | 66805/98224 [29:22<13:52, 37.72it/s]"
     ]
    },
    {
     "name": "stdout",
     "output_type": "stream",
     "text": [
      "\n",
      "Intel MKL ERROR: Parameter 4 was incorrect on entry to DGELSD.\n"
     ]
    },
    {
     "name": "stderr",
     "output_type": "stream",
     "text": [
      " 68%|██████▊   | 66819/98224 [29:22<12:34, 41.62it/s]"
     ]
    },
    {
     "name": "stdout",
     "output_type": "stream",
     "text": [
      "\n",
      "Intel MKL ERROR: Parameter 4 was incorrect on entry to DGELSD.\n"
     ]
    },
    {
     "name": "stderr",
     "output_type": "stream",
     "text": [
      " 68%|██████▊   | 66839/98224 [29:23<12:34, 41.61it/s]"
     ]
    },
    {
     "name": "stdout",
     "output_type": "stream",
     "text": [
      "\n",
      "Intel MKL ERROR: Parameter 4 was incorrect on entry to DGELSD.\n"
     ]
    },
    {
     "name": "stderr",
     "output_type": "stream",
     "text": [
      " 68%|██████▊   | 67066/98224 [29:29<13:48, 37.61it/s]"
     ]
    },
    {
     "name": "stdout",
     "output_type": "stream",
     "text": [
      "\n",
      "Intel MKL ERROR: Parameter 4 was incorrect on entry to DGELSD.\n"
     ]
    },
    {
     "name": "stderr",
     "output_type": "stream",
     "text": [
      " 68%|██████▊   | 67102/98224 [29:30<12:37, 41.09it/s]"
     ]
    },
    {
     "name": "stdout",
     "output_type": "stream",
     "text": [
      "\n",
      "Intel MKL ERROR: Parameter 4 was incorrect on entry to DGELSD.\n"
     ]
    },
    {
     "name": "stderr",
     "output_type": "stream",
     "text": [
      " 68%|██████▊   | 67120/98224 [29:30<13:46, 37.62it/s]"
     ]
    },
    {
     "name": "stdout",
     "output_type": "stream",
     "text": [
      "\n",
      "Intel MKL ERROR: Parameter 4 was incorrect on entry to DGELSD.\n"
     ]
    },
    {
     "name": "stderr",
     "output_type": "stream",
     "text": [
      " 68%|██████▊   | 67166/98224 [29:32<13:31, 38.28it/s]"
     ]
    },
    {
     "name": "stdout",
     "output_type": "stream",
     "text": [
      "\n",
      "Intel MKL ERROR: Parameter 4 was incorrect on entry to DGELSD.\n"
     ]
    },
    {
     "name": "stderr",
     "output_type": "stream",
     "text": [
      " 69%|██████▊   | 67294/98224 [29:35<12:56, 39.82it/s]"
     ]
    },
    {
     "name": "stdout",
     "output_type": "stream",
     "text": [
      "\n",
      "Intel MKL ERROR: Parameter 4 was incorrect on entry to DGELSD.\n",
      "\n",
      "Intel MKL ERROR: Parameter 4 was incorrect on entry to DGELSD.\n"
     ]
    },
    {
     "name": "stderr",
     "output_type": "stream",
     "text": [
      " 69%|██████▊   | 67342/98224 [29:36<15:09, 33.94it/s]"
     ]
    },
    {
     "name": "stdout",
     "output_type": "stream",
     "text": [
      "\n",
      "Intel MKL ERROR: Parameter 4 was incorrect on entry to DGELSD.\n"
     ]
    },
    {
     "name": "stderr",
     "output_type": "stream",
     "text": [
      " 69%|██████▊   | 67359/98224 [29:37<14:41, 35.01it/s]"
     ]
    },
    {
     "name": "stdout",
     "output_type": "stream",
     "text": [
      "\n",
      "Intel MKL ERROR: Parameter 4 was incorrect on entry to DGELSD.\n"
     ]
    },
    {
     "name": "stderr",
     "output_type": "stream",
     "text": [
      " 69%|██████▊   | 67372/98224 [29:37<14:25, 35.66it/s]"
     ]
    },
    {
     "name": "stdout",
     "output_type": "stream",
     "text": [
      "\n",
      "Intel MKL ERROR: Parameter 4 was incorrect on entry to DGELSD.\n"
     ]
    },
    {
     "name": "stderr",
     "output_type": "stream",
     "text": [
      " 69%|██████▊   | 67432/98224 [29:39<15:20, 33.43it/s]"
     ]
    },
    {
     "name": "stdout",
     "output_type": "stream",
     "text": [
      "\n",
      "Intel MKL ERROR: Parameter 4 was incorrect on entry to DGELSD.\n"
     ]
    },
    {
     "name": "stderr",
     "output_type": "stream",
     "text": [
      " 69%|██████▊   | 67461/98224 [29:40<14:08, 36.27it/s]"
     ]
    },
    {
     "name": "stdout",
     "output_type": "stream",
     "text": [
      "\n",
      "Intel MKL ERROR: Parameter 4 was incorrect on entry to DGELSD.\n"
     ]
    },
    {
     "name": "stderr",
     "output_type": "stream",
     "text": [
      " 69%|██████▊   | 67477/98224 [29:40<11:34, 44.27it/s]"
     ]
    },
    {
     "name": "stdout",
     "output_type": "stream",
     "text": [
      "\n",
      "Intel MKL ERROR: Parameter 4 was incorrect on entry to DGELSD.\n"
     ]
    },
    {
     "name": "stderr",
     "output_type": "stream",
     "text": [
      " 69%|██████▉   | 67560/98224 [29:43<13:21, 38.27it/s]"
     ]
    },
    {
     "name": "stdout",
     "output_type": "stream",
     "text": [
      "\n",
      "Intel MKL ERROR: Parameter 4 was incorrect on entry to DGELSD.\n",
      "\n",
      "Intel MKL ERROR: Parameter 4 was incorrect on entry to DGELSD.\n"
     ]
    },
    {
     "name": "stderr",
     "output_type": "stream",
     "text": [
      " 69%|██████▉   | 67593/98224 [29:44<15:03, 33.92it/s]"
     ]
    },
    {
     "name": "stdout",
     "output_type": "stream",
     "text": [
      "\n",
      "Intel MKL ERROR: Parameter 4 was incorrect on entry to DGELSD.\n"
     ]
    },
    {
     "name": "stderr",
     "output_type": "stream",
     "text": [
      " 69%|██████▉   | 67659/98224 [29:45<13:05, 38.91it/s]"
     ]
    },
    {
     "name": "stdout",
     "output_type": "stream",
     "text": [
      "\n",
      "Intel MKL ERROR: Parameter 4 was incorrect on entry to DGELSD.\n"
     ]
    },
    {
     "name": "stderr",
     "output_type": "stream",
     "text": [
      " 69%|██████▉   | 67675/98224 [29:46<15:42, 32.43it/s]"
     ]
    },
    {
     "name": "stdout",
     "output_type": "stream",
     "text": [
      "\n",
      "Intel MKL ERROR: Parameter 4 was incorrect on entry to DGELSD.\n"
     ]
    },
    {
     "name": "stderr",
     "output_type": "stream",
     "text": [
      " 69%|██████▉   | 67768/98224 [29:48<14:55, 34.00it/s]"
     ]
    },
    {
     "name": "stdout",
     "output_type": "stream",
     "text": [
      "\n",
      "Intel MKL ERROR: Parameter 4 was incorrect on entry to DGELSD.\n"
     ]
    },
    {
     "name": "stderr",
     "output_type": "stream",
     "text": [
      " 69%|██████▉   | 67876/98224 [29:51<10:47, 46.83it/s]"
     ]
    },
    {
     "name": "stdout",
     "output_type": "stream",
     "text": [
      "\n",
      "Intel MKL ERROR: Parameter 4 was incorrect on entry to DGELSD.\n"
     ]
    },
    {
     "name": "stderr",
     "output_type": "stream",
     "text": [
      " 69%|██████▉   | 67971/98224 [29:54<12:44, 39.55it/s]"
     ]
    },
    {
     "name": "stdout",
     "output_type": "stream",
     "text": [
      "\n",
      "Intel MKL ERROR: Parameter 4 was incorrect on entry to DGELSD.\n"
     ]
    },
    {
     "name": "stderr",
     "output_type": "stream",
     "text": [
      " 69%|██████▉   | 67984/98224 [29:54<14:08, 35.63it/s]"
     ]
    },
    {
     "name": "stdout",
     "output_type": "stream",
     "text": [
      "\n",
      "Intel MKL ERROR: Parameter 4 was incorrect on entry to DGELSD.\n"
     ]
    },
    {
     "name": "stderr",
     "output_type": "stream",
     "text": [
      " 69%|██████▉   | 68005/98224 [29:55<14:15, 35.30it/s]"
     ]
    },
    {
     "name": "stdout",
     "output_type": "stream",
     "text": [
      "\n",
      "Intel MKL ERROR: Parameter 4 was incorrect on entry to DGELSD.\n"
     ]
    },
    {
     "name": "stderr",
     "output_type": "stream",
     "text": [
      " 69%|██████▉   | 68072/98224 [29:57<13:15, 37.91it/s]"
     ]
    },
    {
     "name": "stdout",
     "output_type": "stream",
     "text": [
      "\n",
      "Intel MKL ERROR: Parameter 4 was incorrect on entry to DGELSD.\n",
      "\n",
      "Intel MKL ERROR: Parameter 4 was incorrect on entry to DGELSD.\n"
     ]
    },
    {
     "name": "stderr",
     "output_type": "stream",
     "text": [
      " 69%|██████▉   | 68166/98224 [30:00<13:33, 36.97it/s]"
     ]
    },
    {
     "name": "stdout",
     "output_type": "stream",
     "text": [
      "\n",
      "Intel MKL ERROR: Parameter 4 was incorrect on entry to DGELSD.\n"
     ]
    },
    {
     "name": "stderr",
     "output_type": "stream",
     "text": [
      " 69%|██████▉   | 68216/98224 [30:01<14:04, 35.55it/s]"
     ]
    },
    {
     "name": "stdout",
     "output_type": "stream",
     "text": [
      "\n",
      "Intel MKL ERROR: Parameter 4 was incorrect on entry to DGELSD.\n"
     ]
    },
    {
     "name": "stderr",
     "output_type": "stream",
     "text": [
      " 70%|██████▉   | 68631/98224 [30:13<14:58, 32.93it/s]"
     ]
    },
    {
     "name": "stdout",
     "output_type": "stream",
     "text": [
      "\n",
      "Intel MKL ERROR: Parameter 4 was incorrect on entry to DGELSD.\n"
     ]
    },
    {
     "name": "stderr",
     "output_type": "stream",
     "text": [
      " 70%|██████▉   | 68643/98224 [30:13<14:30, 33.97it/s]"
     ]
    },
    {
     "name": "stdout",
     "output_type": "stream",
     "text": [
      "\n",
      "Intel MKL ERROR: Parameter 4 was incorrect on entry to DGELSD.\n"
     ]
    },
    {
     "name": "stderr",
     "output_type": "stream",
     "text": [
      " 70%|██████▉   | 68660/98224 [30:14<13:58, 35.25it/s]"
     ]
    },
    {
     "name": "stdout",
     "output_type": "stream",
     "text": [
      "\n",
      "Intel MKL ERROR: Parameter 4 was incorrect on entry to DGELSD.\n"
     ]
    },
    {
     "name": "stderr",
     "output_type": "stream",
     "text": [
      " 70%|██████▉   | 68722/98224 [30:16<15:03, 32.67it/s]"
     ]
    },
    {
     "name": "stdout",
     "output_type": "stream",
     "text": [
      "\n",
      "Intel MKL ERROR: Parameter 4 was incorrect on entry to DGELSD.\n"
     ]
    },
    {
     "name": "stderr",
     "output_type": "stream",
     "text": [
      " 70%|███████   | 68768/98224 [30:17<14:04, 34.86it/s]"
     ]
    },
    {
     "name": "stdout",
     "output_type": "stream",
     "text": [
      "\n",
      "Intel MKL ERROR: Parameter 4 was incorrect on entry to DGELSD.\n"
     ]
    },
    {
     "name": "stderr",
     "output_type": "stream",
     "text": [
      " 70%|███████   | 68825/98224 [30:19<14:11, 34.52it/s]"
     ]
    },
    {
     "name": "stdout",
     "output_type": "stream",
     "text": [
      "\n",
      "Intel MKL ERROR: Parameter 4 was incorrect on entry to DGELSD.\n"
     ]
    },
    {
     "name": "stderr",
     "output_type": "stream",
     "text": [
      " 70%|███████   | 68833/98224 [30:19<15:39, 31.28it/s]"
     ]
    },
    {
     "name": "stdout",
     "output_type": "stream",
     "text": [
      "\n",
      "Intel MKL ERROR: Parameter 4 was incorrect on entry to DGELSD.\n"
     ]
    },
    {
     "name": "stderr",
     "output_type": "stream",
     "text": [
      " 70%|███████   | 68845/98224 [30:19<15:39, 31.29it/s]"
     ]
    },
    {
     "name": "stdout",
     "output_type": "stream",
     "text": [
      "\n",
      "Intel MKL ERROR: Parameter 4 was incorrect on entry to DGELSD.\n"
     ]
    },
    {
     "name": "stderr",
     "output_type": "stream",
     "text": [
      " 70%|███████   | 68861/98224 [30:20<14:45, 33.15it/s]"
     ]
    },
    {
     "name": "stdout",
     "output_type": "stream",
     "text": [
      "\n",
      "Intel MKL ERROR: Parameter 4 was incorrect on entry to DGELSD.\n"
     ]
    },
    {
     "name": "stderr",
     "output_type": "stream",
     "text": [
      " 70%|███████   | 68897/98224 [30:21<14:58, 32.64it/s]"
     ]
    },
    {
     "name": "stdout",
     "output_type": "stream",
     "text": [
      "\n",
      "Intel MKL ERROR: Parameter 4 was incorrect on entry to DGELSD.\n"
     ]
    },
    {
     "name": "stderr",
     "output_type": "stream",
     "text": [
      " 70%|███████   | 68960/98224 [30:23<13:51, 35.21it/s]"
     ]
    },
    {
     "name": "stdout",
     "output_type": "stream",
     "text": [
      "\n",
      "Intel MKL ERROR: Parameter 4 was incorrect on entry to DGELSD.\n",
      "\n",
      "Intel MKL ERROR: Parameter 4 was incorrect on entry to DGELSD.\n"
     ]
    },
    {
     "name": "stderr",
     "output_type": "stream",
     "text": [
      " 70%|███████   | 69011/98224 [30:24<11:46, 41.35it/s]"
     ]
    },
    {
     "name": "stdout",
     "output_type": "stream",
     "text": [
      "\n",
      "Intel MKL ERROR: Parameter 4 was incorrect on entry to DGELSD.\n",
      "\n",
      "Intel MKL ERROR: Parameter 4 was incorrect on entry to DGELSD.\n"
     ]
    },
    {
     "name": "stderr",
     "output_type": "stream",
     "text": [
      " 70%|███████   | 69069/98224 [30:26<16:09, 30.08it/s]"
     ]
    },
    {
     "name": "stdout",
     "output_type": "stream",
     "text": [
      "\n",
      "Intel MKL ERROR: Parameter 4 was incorrect on entry to DGELSD.\n"
     ]
    },
    {
     "name": "stderr",
     "output_type": "stream",
     "text": [
      " 70%|███████   | 69086/98224 [30:27<13:31, 35.91it/s]"
     ]
    },
    {
     "name": "stdout",
     "output_type": "stream",
     "text": [
      "\n",
      "Intel MKL ERROR: Parameter 4 was incorrect on entry to DGELSD.\n"
     ]
    },
    {
     "name": "stderr",
     "output_type": "stream",
     "text": [
      " 70%|███████   | 69136/98224 [30:28<12:16, 39.47it/s]"
     ]
    },
    {
     "name": "stdout",
     "output_type": "stream",
     "text": [
      "\n",
      "Intel MKL ERROR: Parameter 4 was incorrect on entry to DGELSD.\n"
     ]
    },
    {
     "name": "stderr",
     "output_type": "stream",
     "text": [
      " 70%|███████   | 69161/98224 [30:29<14:00, 34.58it/s]"
     ]
    },
    {
     "name": "stdout",
     "output_type": "stream",
     "text": [
      "\n",
      "Intel MKL ERROR: Parameter 4 was incorrect on entry to DGELSD.\n"
     ]
    },
    {
     "name": "stderr",
     "output_type": "stream",
     "text": [
      " 71%|███████   | 69382/98224 [30:35<14:05, 34.11it/s]"
     ]
    },
    {
     "name": "stdout",
     "output_type": "stream",
     "text": [
      "\n",
      "Intel MKL ERROR: Parameter 4 was incorrect on entry to DGELSD.\n"
     ]
    },
    {
     "name": "stderr",
     "output_type": "stream",
     "text": [
      " 71%|███████   | 69438/98224 [30:37<15:17, 31.36it/s]"
     ]
    },
    {
     "name": "stdout",
     "output_type": "stream",
     "text": [
      "\n",
      "Intel MKL ERROR: Parameter 4 was incorrect on entry to DGELSD.\n"
     ]
    },
    {
     "name": "stderr",
     "output_type": "stream",
     "text": [
      " 71%|███████   | 69459/98224 [30:38<16:03, 29.86it/s]"
     ]
    },
    {
     "name": "stdout",
     "output_type": "stream",
     "text": [
      "\n",
      "Intel MKL ERROR: Parameter 4 was incorrect on entry to DGELSD.\n"
     ]
    },
    {
     "name": "stderr",
     "output_type": "stream",
     "text": [
      " 71%|███████   | 69478/98224 [30:38<11:53, 40.32it/s]"
     ]
    },
    {
     "name": "stdout",
     "output_type": "stream",
     "text": [
      "\n",
      "Intel MKL ERROR: Parameter 4 was incorrect on entry to DGELSD.\n"
     ]
    },
    {
     "name": "stderr",
     "output_type": "stream",
     "text": [
      " 71%|███████   | 69495/98224 [30:39<10:12, 46.90it/s]"
     ]
    },
    {
     "name": "stdout",
     "output_type": "stream",
     "text": [
      "\n",
      "Intel MKL ERROR: Parameter 4 was incorrect on entry to DGELSD.\n"
     ]
    },
    {
     "name": "stderr",
     "output_type": "stream",
     "text": [
      " 71%|███████   | 69528/98224 [30:40<12:51, 37.17it/s]"
     ]
    },
    {
     "name": "stdout",
     "output_type": "stream",
     "text": [
      "\n",
      "Intel MKL ERROR: Parameter 4 was incorrect on entry to DGELSD.\n"
     ]
    },
    {
     "name": "stderr",
     "output_type": "stream",
     "text": [
      " 71%|███████   | 69582/98224 [30:41<12:36, 37.86it/s]"
     ]
    },
    {
     "name": "stdout",
     "output_type": "stream",
     "text": [
      "\n",
      "Intel MKL ERROR: Parameter 4 was incorrect on entry to DGELSD.\n"
     ]
    },
    {
     "name": "stderr",
     "output_type": "stream",
     "text": [
      " 71%|███████   | 69624/98224 [30:42<13:06, 36.35it/s]"
     ]
    },
    {
     "name": "stdout",
     "output_type": "stream",
     "text": [
      "\n",
      "Intel MKL ERROR: Parameter 4 was incorrect on entry to DGELSD.\n"
     ]
    },
    {
     "name": "stderr",
     "output_type": "stream",
     "text": [
      " 71%|███████   | 69641/98224 [30:43<12:46, 37.28it/s]"
     ]
    },
    {
     "name": "stdout",
     "output_type": "stream",
     "text": [
      "\n",
      "Intel MKL ERROR: Parameter 4 was incorrect on entry to DGELSD.\n"
     ]
    },
    {
     "name": "stderr",
     "output_type": "stream",
     "text": [
      " 71%|███████   | 69654/98224 [30:43<12:07, 39.26it/s]"
     ]
    },
    {
     "name": "stdout",
     "output_type": "stream",
     "text": [
      "\n",
      "Intel MKL ERROR: Parameter 4 was incorrect on entry to DGELSD.\n"
     ]
    },
    {
     "name": "stderr",
     "output_type": "stream",
     "text": [
      " 71%|███████   | 69686/98224 [30:44<09:11, 51.77it/s]"
     ]
    },
    {
     "name": "stdout",
     "output_type": "stream",
     "text": [
      "\n",
      "Intel MKL ERROR: Parameter 4 was incorrect on entry to DGELSD.\n"
     ]
    },
    {
     "name": "stderr",
     "output_type": "stream",
     "text": [
      " 71%|███████   | 69739/98224 [30:45<12:06, 39.20it/s]"
     ]
    },
    {
     "name": "stdout",
     "output_type": "stream",
     "text": [
      "\n",
      "Intel MKL ERROR: Parameter 4 was incorrect on entry to DGELSD.\n",
      "\n",
      "Intel MKL ERROR: Parameter 4 was incorrect on entry to DGELSD.\n",
      "\n",
      "Intel MKL ERROR: Parameter 4 was incorrect on entry to DGELSD.\n"
     ]
    },
    {
     "name": "stderr",
     "output_type": "stream",
     "text": [
      " 71%|███████   | 69769/98224 [30:46<11:27, 41.37it/s]"
     ]
    },
    {
     "name": "stdout",
     "output_type": "stream",
     "text": [
      "\n",
      "Intel MKL ERROR: Parameter 4 was incorrect on entry to DGELSD.\n",
      "\n",
      "Intel MKL ERROR: Parameter 4 was incorrect on entry to DGELSD.\n"
     ]
    },
    {
     "name": "stderr",
     "output_type": "stream",
     "text": [
      " 71%|███████   | 69779/98224 [30:46<10:57, 43.29it/s]"
     ]
    },
    {
     "name": "stdout",
     "output_type": "stream",
     "text": [
      "\n",
      "Intel MKL ERROR: Parameter 4 was incorrect on entry to DGELSD.\n"
     ]
    },
    {
     "name": "stderr",
     "output_type": "stream",
     "text": [
      " 71%|███████   | 69860/98224 [30:48<09:54, 47.68it/s]"
     ]
    },
    {
     "name": "stdout",
     "output_type": "stream",
     "text": [
      "\n",
      "Intel MKL ERROR: Parameter 4 was incorrect on entry to DGELSD.\n"
     ]
    },
    {
     "name": "stderr",
     "output_type": "stream",
     "text": [
      " 71%|███████   | 69944/98224 [30:51<12:37, 37.32it/s]"
     ]
    },
    {
     "name": "stdout",
     "output_type": "stream",
     "text": [
      "\n",
      "Intel MKL ERROR: Parameter 4 was incorrect on entry to DGELSD.\n"
     ]
    },
    {
     "name": "stderr",
     "output_type": "stream",
     "text": [
      " 71%|███████   | 69972/98224 [30:51<12:56, 36.37it/s]"
     ]
    },
    {
     "name": "stdout",
     "output_type": "stream",
     "text": [
      "\n",
      "Intel MKL ERROR: Parameter 4 was incorrect on entry to DGELSD.\n",
      "\n",
      "Intel MKL ERROR: Parameter 4 was incorrect on entry to DGELSD.\n"
     ]
    },
    {
     "name": "stderr",
     "output_type": "stream",
     "text": [
      " 71%|███████▏  | 70027/98224 [30:53<11:44, 40.01it/s]"
     ]
    },
    {
     "name": "stdout",
     "output_type": "stream",
     "text": [
      "\n",
      "Intel MKL ERROR: Parameter 4 was incorrect on entry to DGELSD.\n",
      "\n",
      "Intel MKL ERROR: Parameter 4 was incorrect on entry to DGELSD.\n"
     ]
    },
    {
     "name": "stderr",
     "output_type": "stream",
     "text": [
      " 71%|███████▏  | 70082/98224 [30:54<09:56, 47.21it/s]"
     ]
    },
    {
     "name": "stdout",
     "output_type": "stream",
     "text": [
      "\n",
      "Intel MKL ERROR: Parameter 4 was incorrect on entry to DGELSD.\n"
     ]
    },
    {
     "name": "stderr",
     "output_type": "stream",
     "text": [
      " 71%|███████▏  | 70115/98224 [30:55<09:01, 51.94it/s]"
     ]
    },
    {
     "name": "stdout",
     "output_type": "stream",
     "text": [
      "\n",
      "Intel MKL ERROR: Parameter 4 was incorrect on entry to DGELSD.\n"
     ]
    },
    {
     "name": "stderr",
     "output_type": "stream",
     "text": [
      " 71%|███████▏  | 70126/98224 [30:55<10:43, 43.68it/s]"
     ]
    },
    {
     "name": "stdout",
     "output_type": "stream",
     "text": [
      "\n",
      "Intel MKL ERROR: Parameter 4 was incorrect on entry to DGELSD.\n"
     ]
    },
    {
     "name": "stderr",
     "output_type": "stream",
     "text": [
      " 71%|███████▏  | 70160/98224 [30:56<11:35, 40.35it/s]"
     ]
    },
    {
     "name": "stdout",
     "output_type": "stream",
     "text": [
      "\n",
      "Intel MKL ERROR: Parameter 4 was incorrect on entry to DGELSD.\n"
     ]
    },
    {
     "name": "stderr",
     "output_type": "stream",
     "text": [
      " 71%|███████▏  | 70179/98224 [30:56<12:16, 38.08it/s]"
     ]
    },
    {
     "name": "stdout",
     "output_type": "stream",
     "text": [
      "\n",
      "Intel MKL ERROR: Parameter 4 was incorrect on entry to DGELSD.\n",
      "\n",
      "Intel MKL ERROR: Parameter 4 was incorrect on entry to DGELSD.\n",
      "\n",
      "Intel MKL ERROR: Parameter 4 was incorrect on entry to DGELSD.\n"
     ]
    },
    {
     "name": "stderr",
     "output_type": "stream",
     "text": [
      " 71%|███████▏  | 70209/98224 [30:57<13:10, 35.45it/s]"
     ]
    },
    {
     "name": "stdout",
     "output_type": "stream",
     "text": [
      "\n",
      "Intel MKL ERROR: Parameter 4 was incorrect on entry to DGELSD.\n",
      "\n",
      "Intel MKL ERROR: Parameter 4 was incorrect on entry to DGELSD.\n"
     ]
    },
    {
     "name": "stderr",
     "output_type": "stream",
     "text": [
      " 72%|███████▏  | 70249/98224 [30:58<11:14, 41.46it/s]"
     ]
    },
    {
     "name": "stdout",
     "output_type": "stream",
     "text": [
      "\n",
      "Intel MKL ERROR: Parameter 4 was incorrect on entry to DGELSD.\n",
      "\n",
      "Intel MKL ERROR: Parameter 4 was incorrect on entry to DGELSD.\n",
      "\n",
      "Intel MKL ERROR: Parameter 4 was incorrect on entry to DGELSD.\n",
      "\n",
      "Intel MKL ERROR: Parameter 4 was incorrect on entry to DGELSD.\n"
     ]
    },
    {
     "name": "stderr",
     "output_type": "stream",
     "text": [
      " 72%|███████▏  | 70261/98224 [30:59<09:52, 47.19it/s]"
     ]
    },
    {
     "name": "stdout",
     "output_type": "stream",
     "text": [
      "\n",
      "Intel MKL ERROR: Parameter 4 was incorrect on entry to DGELSD.\n",
      "\n",
      "Intel MKL ERROR: Parameter 4 was incorrect on entry to DGELSD.\n",
      "\n",
      "Intel MKL ERROR: Parameter 4 was incorrect on entry to DGELSD.\n",
      "\n",
      "Intel MKL ERROR: Parameter 4 was incorrect on entry to DGELSD.\n",
      "\n",
      "Intel MKL ERROR: Parameter 4 was incorrect on entry to DGELSD.\n"
     ]
    },
    {
     "name": "stderr",
     "output_type": "stream",
     "text": [
      " 72%|███████▏  | 70276/98224 [30:59<11:58, 38.88it/s]"
     ]
    },
    {
     "name": "stdout",
     "output_type": "stream",
     "text": [
      "\n",
      "Intel MKL ERROR: Parameter 4 was incorrect on entry to DGELSD.\n"
     ]
    },
    {
     "name": "stderr",
     "output_type": "stream",
     "text": [
      " 72%|███████▏  | 70303/98224 [31:00<12:38, 36.81it/s]"
     ]
    },
    {
     "name": "stdout",
     "output_type": "stream",
     "text": [
      "\n",
      "Intel MKL ERROR: Parameter 4 was incorrect on entry to DGELSD.\n",
      "\n",
      "Intel MKL ERROR: Parameter 4 was incorrect on entry to DGELSD.\n"
     ]
    },
    {
     "name": "stderr",
     "output_type": "stream",
     "text": [
      " 72%|███████▏  | 70316/98224 [31:00<12:04, 38.50it/s]"
     ]
    },
    {
     "name": "stdout",
     "output_type": "stream",
     "text": [
      "\n",
      "Intel MKL ERROR: Parameter 4 was incorrect on entry to DGELSD.\n"
     ]
    },
    {
     "name": "stderr",
     "output_type": "stream",
     "text": [
      " 72%|███████▏  | 70337/98224 [31:01<13:07, 35.40it/s]"
     ]
    },
    {
     "name": "stdout",
     "output_type": "stream",
     "text": [
      "\n",
      "Intel MKL ERROR: Parameter 4 was incorrect on entry to DGELSD.\n"
     ]
    },
    {
     "name": "stderr",
     "output_type": "stream",
     "text": [
      " 72%|███████▏  | 70367/98224 [31:02<11:47, 39.36it/s]"
     ]
    },
    {
     "name": "stdout",
     "output_type": "stream",
     "text": [
      "\n",
      "Intel MKL ERROR: Parameter 4 was incorrect on entry to DGELSD.\n",
      "\n",
      "Intel MKL ERROR: Parameter 4 was incorrect on entry to DGELSD.\n"
     ]
    },
    {
     "name": "stderr",
     "output_type": "stream",
     "text": [
      " 72%|███████▏  | 70404/98224 [31:03<11:17, 41.07it/s]"
     ]
    },
    {
     "name": "stdout",
     "output_type": "stream",
     "text": [
      "\n",
      "Intel MKL ERROR: Parameter 4 was incorrect on entry to DGELSD.\n"
     ]
    },
    {
     "name": "stderr",
     "output_type": "stream",
     "text": [
      " 72%|███████▏  | 70440/98224 [31:03<10:27, 44.27it/s]"
     ]
    },
    {
     "name": "stdout",
     "output_type": "stream",
     "text": [
      "\n",
      "Intel MKL ERROR: Parameter 4 was incorrect on entry to DGELSD.\n",
      "\n",
      "Intel MKL ERROR: Parameter 4 was incorrect on entry to DGELSD.\n"
     ]
    },
    {
     "name": "stderr",
     "output_type": "stream",
     "text": [
      " 72%|███████▏  | 70466/98224 [31:04<12:37, 36.65it/s]"
     ]
    },
    {
     "name": "stdout",
     "output_type": "stream",
     "text": [
      "\n",
      "Intel MKL ERROR: Parameter 4 was incorrect on entry to DGELSD.\n"
     ]
    },
    {
     "name": "stderr",
     "output_type": "stream",
     "text": [
      " 72%|███████▏  | 70487/98224 [31:05<12:36, 36.67it/s]"
     ]
    },
    {
     "name": "stdout",
     "output_type": "stream",
     "text": [
      "\n",
      "Intel MKL ERROR: Parameter 4 was incorrect on entry to DGELSD.\n"
     ]
    },
    {
     "name": "stderr",
     "output_type": "stream",
     "text": [
      " 72%|███████▏  | 70508/98224 [31:05<12:57, 35.65it/s]"
     ]
    },
    {
     "name": "stdout",
     "output_type": "stream",
     "text": [
      "\n",
      "Intel MKL ERROR: Parameter 4 was incorrect on entry to DGELSD.\n"
     ]
    },
    {
     "name": "stderr",
     "output_type": "stream",
     "text": [
      " 72%|███████▏  | 70530/98224 [31:06<11:55, 38.68it/s]"
     ]
    },
    {
     "name": "stdout",
     "output_type": "stream",
     "text": [
      "\n",
      "Intel MKL ERROR: Parameter 4 was incorrect on entry to DGELSD.\n",
      "\n",
      "Intel MKL ERROR: Parameter 4 was incorrect on entry to DGELSD.\n",
      "\n",
      "Intel MKL ERROR: Parameter 4 was incorrect on entry to DGELSD.\n"
     ]
    },
    {
     "name": "stderr",
     "output_type": "stream",
     "text": [
      " 72%|███████▏  | 70577/98224 [31:07<13:12, 34.89it/s]"
     ]
    },
    {
     "name": "stdout",
     "output_type": "stream",
     "text": [
      "\n",
      "Intel MKL ERROR: Parameter 4 was incorrect on entry to DGELSD.\n"
     ]
    },
    {
     "name": "stderr",
     "output_type": "stream",
     "text": [
      " 72%|███████▏  | 70618/98224 [31:09<13:02, 35.28it/s]"
     ]
    },
    {
     "name": "stdout",
     "output_type": "stream",
     "text": [
      "\n",
      "Intel MKL ERROR: Parameter 4 was incorrect on entry to DGELSD.\n"
     ]
    },
    {
     "name": "stderr",
     "output_type": "stream",
     "text": [
      " 72%|███████▏  | 70635/98224 [31:09<13:10, 34.90it/s]"
     ]
    },
    {
     "name": "stdout",
     "output_type": "stream",
     "text": [
      "\n",
      "Intel MKL ERROR: Parameter 4 was incorrect on entry to DGELSD.\n"
     ]
    },
    {
     "name": "stderr",
     "output_type": "stream",
     "text": [
      " 72%|███████▏  | 70659/98224 [31:10<11:47, 38.94it/s]"
     ]
    },
    {
     "name": "stdout",
     "output_type": "stream",
     "text": [
      "\n",
      "Intel MKL ERROR: Parameter 4 was incorrect on entry to DGELSD.\n"
     ]
    },
    {
     "name": "stderr",
     "output_type": "stream",
     "text": [
      " 72%|███████▏  | 70677/98224 [31:10<12:11, 37.68it/s]"
     ]
    },
    {
     "name": "stdout",
     "output_type": "stream",
     "text": [
      "\n",
      "Intel MKL ERROR: Parameter 4 was incorrect on entry to DGELSD.\n",
      "\n",
      "Intel MKL ERROR: Parameter 4 was incorrect on entry to DGELSD.\n"
     ]
    },
    {
     "name": "stderr",
     "output_type": "stream",
     "text": [
      " 72%|███████▏  | 70766/98224 [31:13<12:19, 37.14it/s]"
     ]
    },
    {
     "name": "stdout",
     "output_type": "stream",
     "text": [
      "\n",
      "Intel MKL ERROR: Parameter 4 was incorrect on entry to DGELSD.\n"
     ]
    },
    {
     "name": "stderr",
     "output_type": "stream",
     "text": [
      " 72%|███████▏  | 70809/98224 [31:14<11:27, 39.86it/s]"
     ]
    },
    {
     "name": "stdout",
     "output_type": "stream",
     "text": [
      "\n",
      "Intel MKL ERROR: Parameter 4 was incorrect on entry to DGELSD.\n"
     ]
    },
    {
     "name": "stderr",
     "output_type": "stream",
     "text": [
      " 72%|███████▏  | 70823/98224 [31:14<11:18, 40.36it/s]"
     ]
    },
    {
     "name": "stdout",
     "output_type": "stream",
     "text": [
      "\n",
      "Intel MKL ERROR: Parameter 4 was incorrect on entry to DGELSD.\n"
     ]
    },
    {
     "name": "stderr",
     "output_type": "stream",
     "text": [
      " 72%|███████▏  | 70918/98224 [31:17<13:31, 33.65it/s]"
     ]
    },
    {
     "name": "stdout",
     "output_type": "stream",
     "text": [
      "\n",
      "Intel MKL ERROR: Parameter 4 was incorrect on entry to DGELSD.\n"
     ]
    },
    {
     "name": "stderr",
     "output_type": "stream",
     "text": [
      " 72%|███████▏  | 70927/98224 [31:17<12:21, 36.82it/s]"
     ]
    },
    {
     "name": "stdout",
     "output_type": "stream",
     "text": [
      "\n",
      "Intel MKL ERROR: Parameter 4 was incorrect on entry to DGELSD.\n",
      "\n",
      "Intel MKL ERROR: Parameter 4 was incorrect on entry to DGELSD.\n"
     ]
    },
    {
     "name": "stderr",
     "output_type": "stream",
     "text": [
      " 72%|███████▏  | 71012/98224 [31:20<12:55, 35.11it/s]"
     ]
    },
    {
     "name": "stdout",
     "output_type": "stream",
     "text": [
      "\n",
      "Intel MKL ERROR: Parameter 4 was incorrect on entry to DGELSD.\n"
     ]
    },
    {
     "name": "stderr",
     "output_type": "stream",
     "text": [
      " 72%|███████▏  | 71033/98224 [31:20<11:21, 39.90it/s]"
     ]
    },
    {
     "name": "stdout",
     "output_type": "stream",
     "text": [
      "\n",
      "Intel MKL ERROR: Parameter 4 was incorrect on entry to DGELSD.\n"
     ]
    },
    {
     "name": "stderr",
     "output_type": "stream",
     "text": [
      " 72%|███████▏  | 71054/98224 [31:21<09:19, 48.55it/s]"
     ]
    },
    {
     "name": "stdout",
     "output_type": "stream",
     "text": [
      "\n",
      "Intel MKL ERROR: Parameter 4 was incorrect on entry to DGELSD.\n"
     ]
    },
    {
     "name": "stderr",
     "output_type": "stream",
     "text": [
      " 72%|███████▏  | 71113/98224 [31:22<11:49, 38.20it/s]"
     ]
    },
    {
     "name": "stdout",
     "output_type": "stream",
     "text": [
      "\n",
      "Intel MKL ERROR: Parameter 4 was incorrect on entry to DGELSD.\n",
      "\n",
      "Intel MKL ERROR: Parameter 4 was incorrect on entry to DGELSD.\n"
     ]
    },
    {
     "name": "stderr",
     "output_type": "stream",
     "text": [
      " 72%|███████▏  | 71140/98224 [31:23<09:19, 48.43it/s]"
     ]
    },
    {
     "name": "stdout",
     "output_type": "stream",
     "text": [
      "\n",
      "Intel MKL ERROR: Parameter 4 was incorrect on entry to DGELSD.\n"
     ]
    },
    {
     "name": "stderr",
     "output_type": "stream",
     "text": [
      " 72%|███████▏  | 71160/98224 [31:23<10:17, 43.81it/s]"
     ]
    },
    {
     "name": "stdout",
     "output_type": "stream",
     "text": [
      "\n",
      "Intel MKL ERROR: Parameter 4 was incorrect on entry to DGELSD.\n",
      "\n",
      "Intel MKL ERROR: Parameter 4 was incorrect on entry to DGELSD.\n",
      "\n",
      "Intel MKL ERROR: Parameter 4 was incorrect on entry to DGELSD.\n"
     ]
    },
    {
     "name": "stderr",
     "output_type": "stream",
     "text": [
      " 72%|███████▏  | 71175/98224 [31:23<10:14, 44.01it/s]"
     ]
    },
    {
     "name": "stdout",
     "output_type": "stream",
     "text": [
      "\n",
      "Intel MKL ERROR: Parameter 4 was incorrect on entry to DGELSD.\n"
     ]
    },
    {
     "name": "stderr",
     "output_type": "stream",
     "text": [
      " 72%|███████▏  | 71190/98224 [31:24<10:25, 43.21it/s]"
     ]
    },
    {
     "name": "stdout",
     "output_type": "stream",
     "text": [
      "\n",
      "Intel MKL ERROR: Parameter 4 was incorrect on entry to DGELSD.\n"
     ]
    },
    {
     "name": "stderr",
     "output_type": "stream",
     "text": [
      " 72%|███████▏  | 71200/98224 [31:24<11:10, 40.30it/s]"
     ]
    },
    {
     "name": "stdout",
     "output_type": "stream",
     "text": [
      "\n",
      "Intel MKL ERROR: Parameter 4 was incorrect on entry to DGELSD.\n"
     ]
    },
    {
     "name": "stderr",
     "output_type": "stream",
     "text": [
      " 73%|███████▎  | 71267/98224 [31:26<11:17, 39.79it/s]"
     ]
    },
    {
     "name": "stdout",
     "output_type": "stream",
     "text": [
      "\n",
      "Intel MKL ERROR: Parameter 4 was incorrect on entry to DGELSD.\n"
     ]
    },
    {
     "name": "stderr",
     "output_type": "stream",
     "text": [
      " 73%|███████▎  | 71277/98224 [31:26<11:07, 40.35it/s]"
     ]
    },
    {
     "name": "stdout",
     "output_type": "stream",
     "text": [
      "\n",
      "Intel MKL ERROR: Parameter 4 was incorrect on entry to DGELSD.\n",
      "\n",
      "Intel MKL ERROR: Parameter 4 was incorrect on entry to DGELSD.\n"
     ]
    },
    {
     "name": "stderr",
     "output_type": "stream",
     "text": [
      " 73%|███████▎  | 71327/98224 [31:27<10:39, 42.04it/s]"
     ]
    },
    {
     "name": "stdout",
     "output_type": "stream",
     "text": [
      "\n",
      "Intel MKL ERROR: Parameter 4 was incorrect on entry to DGELSD.\n"
     ]
    },
    {
     "name": "stderr",
     "output_type": "stream",
     "text": [
      " 73%|███████▎  | 71405/98224 [31:29<12:36, 35.44it/s]"
     ]
    },
    {
     "name": "stdout",
     "output_type": "stream",
     "text": [
      "\n",
      "Intel MKL ERROR: Parameter 4 was incorrect on entry to DGELSD.\n"
     ]
    },
    {
     "name": "stderr",
     "output_type": "stream",
     "text": [
      " 73%|███████▎  | 71441/98224 [31:30<13:02, 34.21it/s]"
     ]
    },
    {
     "name": "stdout",
     "output_type": "stream",
     "text": [
      "\n",
      "Intel MKL ERROR: Parameter 4 was incorrect on entry to DGELSD.\n"
     ]
    },
    {
     "name": "stderr",
     "output_type": "stream",
     "text": [
      " 73%|███████▎  | 71451/98224 [31:31<11:04, 40.29it/s]"
     ]
    },
    {
     "name": "stdout",
     "output_type": "stream",
     "text": [
      "\n",
      "Intel MKL ERROR: Parameter 4 was incorrect on entry to DGELSD.\n",
      "\n",
      "Intel MKL ERROR: Parameter 4 was incorrect on entry to DGELSD.\n",
      "\n",
      "Intel MKL ERROR: Parameter 4 was incorrect on entry to DGELSD.\n",
      "\n",
      "Intel MKL ERROR: Parameter 4 was incorrect on entry to DGELSD.\n"
     ]
    },
    {
     "name": "stderr",
     "output_type": "stream",
     "text": [
      " 73%|███████▎  | 71461/98224 [31:31<11:02, 40.41it/s]"
     ]
    },
    {
     "name": "stdout",
     "output_type": "stream",
     "text": [
      "\n",
      "Intel MKL ERROR: Parameter 4 was incorrect on entry to DGELSD.\n"
     ]
    },
    {
     "name": "stderr",
     "output_type": "stream",
     "text": [
      " 73%|███████▎  | 71507/98224 [31:32<11:46, 37.80it/s]"
     ]
    },
    {
     "name": "stdout",
     "output_type": "stream",
     "text": [
      "\n",
      "Intel MKL ERROR: Parameter 4 was incorrect on entry to DGELSD.\n"
     ]
    },
    {
     "name": "stderr",
     "output_type": "stream",
     "text": [
      " 73%|███████▎  | 71521/98224 [31:33<10:56, 40.65it/s]"
     ]
    },
    {
     "name": "stdout",
     "output_type": "stream",
     "text": [
      "\n",
      "Intel MKL ERROR: Parameter 4 was incorrect on entry to DGELSD.\n"
     ]
    },
    {
     "name": "stderr",
     "output_type": "stream",
     "text": [
      " 73%|███████▎  | 71579/98224 [31:34<11:24, 38.93it/s]"
     ]
    },
    {
     "name": "stdout",
     "output_type": "stream",
     "text": [
      "\n",
      "Intel MKL ERROR: Parameter 4 was incorrect on entry to DGELSD.\n",
      "\n",
      "Intel MKL ERROR: Parameter 4 was incorrect on entry to DGELSD.\n"
     ]
    },
    {
     "name": "stderr",
     "output_type": "stream",
     "text": [
      " 73%|███████▎  | 71599/98224 [31:35<10:20, 42.88it/s]"
     ]
    },
    {
     "name": "stdout",
     "output_type": "stream",
     "text": [
      "\n",
      "Intel MKL ERROR: Parameter 4 was incorrect on entry to DGELSD.\n"
     ]
    },
    {
     "name": "stderr",
     "output_type": "stream",
     "text": [
      " 73%|███████▎  | 71622/98224 [31:35<11:14, 39.44it/s]"
     ]
    },
    {
     "name": "stdout",
     "output_type": "stream",
     "text": [
      "\n",
      "Intel MKL ERROR: Parameter 4 was incorrect on entry to DGELSD.\n",
      "\n",
      "Intel MKL ERROR: Parameter 4 was incorrect on entry to DGELSD.\n"
     ]
    },
    {
     "name": "stderr",
     "output_type": "stream",
     "text": [
      " 73%|███████▎  | 71663/98224 [31:36<11:32, 38.36it/s]"
     ]
    },
    {
     "name": "stdout",
     "output_type": "stream",
     "text": [
      "\n",
      "Intel MKL ERROR: Parameter 4 was incorrect on entry to DGELSD.\n"
     ]
    },
    {
     "name": "stderr",
     "output_type": "stream",
     "text": [
      " 73%|███████▎  | 71672/98224 [31:37<11:15, 39.33it/s]"
     ]
    },
    {
     "name": "stdout",
     "output_type": "stream",
     "text": [
      "\n",
      "Intel MKL ERROR: Parameter 4 was incorrect on entry to DGELSD.\n"
     ]
    },
    {
     "name": "stderr",
     "output_type": "stream",
     "text": [
      " 73%|███████▎  | 71684/98224 [31:37<11:36, 38.09it/s]"
     ]
    },
    {
     "name": "stdout",
     "output_type": "stream",
     "text": [
      "\n",
      "Intel MKL ERROR: Parameter 4 was incorrect on entry to DGELSD.\n"
     ]
    },
    {
     "name": "stderr",
     "output_type": "stream",
     "text": [
      " 73%|███████▎  | 71728/98224 [31:38<09:24, 46.97it/s]"
     ]
    },
    {
     "name": "stdout",
     "output_type": "stream",
     "text": [
      "\n",
      "Intel MKL ERROR: Parameter 4 was incorrect on entry to DGELSD.\n"
     ]
    },
    {
     "name": "stderr",
     "output_type": "stream",
     "text": [
      " 73%|███████▎  | 71733/98224 [31:38<10:15, 43.07it/s]"
     ]
    },
    {
     "name": "stdout",
     "output_type": "stream",
     "text": [
      "\n",
      "Intel MKL ERROR: Parameter 4 was incorrect on entry to DGELSD.\n"
     ]
    },
    {
     "name": "stderr",
     "output_type": "stream",
     "text": [
      " 73%|███████▎  | 71756/98224 [31:39<12:33, 35.11it/s]"
     ]
    },
    {
     "name": "stdout",
     "output_type": "stream",
     "text": [
      "\n",
      "Intel MKL ERROR: Parameter 4 was incorrect on entry to DGELSD.\n"
     ]
    },
    {
     "name": "stderr",
     "output_type": "stream",
     "text": [
      " 73%|███████▎  | 71777/98224 [31:39<11:10, 39.44it/s]"
     ]
    },
    {
     "name": "stdout",
     "output_type": "stream",
     "text": [
      "\n",
      "Intel MKL ERROR: Parameter 4 was incorrect on entry to DGELSD.\n",
      "\n",
      "Intel MKL ERROR: Parameter 4 was incorrect on entry to DGELSD.\n"
     ]
    },
    {
     "name": "stderr",
     "output_type": "stream",
     "text": [
      " 73%|███████▎  | 71813/98224 [31:40<09:59, 44.07it/s]"
     ]
    },
    {
     "name": "stdout",
     "output_type": "stream",
     "text": [
      "\n",
      "Intel MKL ERROR: Parameter 4 was incorrect on entry to DGELSD.\n"
     ]
    },
    {
     "name": "stderr",
     "output_type": "stream",
     "text": [
      " 73%|███████▎  | 71825/98224 [31:40<09:30, 46.28it/s]"
     ]
    },
    {
     "name": "stdout",
     "output_type": "stream",
     "text": [
      "\n",
      "Intel MKL ERROR: Parameter 4 was incorrect on entry to DGELSD.\n"
     ]
    },
    {
     "name": "stderr",
     "output_type": "stream",
     "text": [
      " 73%|███████▎  | 71841/98224 [31:41<09:55, 44.28it/s]"
     ]
    },
    {
     "name": "stdout",
     "output_type": "stream",
     "text": [
      "\n",
      "Intel MKL ERROR: Parameter 4 was incorrect on entry to DGELSD.\n",
      "\n",
      "Intel MKL ERROR: Parameter 4 was incorrect on entry to DGELSD.\n",
      "\n",
      "Intel MKL ERROR: Parameter 4 was incorrect on entry to DGELSD.\n",
      "\n",
      "Intel MKL ERROR: Parameter 4 was incorrect on entry to DGELSD.\n"
     ]
    },
    {
     "name": "stderr",
     "output_type": "stream",
     "text": [
      " 73%|███████▎  | 71874/98224 [31:42<11:44, 37.39it/s]"
     ]
    },
    {
     "name": "stdout",
     "output_type": "stream",
     "text": [
      "\n",
      "Intel MKL ERROR: Parameter 4 was incorrect on entry to DGELSD.\n"
     ]
    },
    {
     "name": "stderr",
     "output_type": "stream",
     "text": [
      " 73%|███████▎  | 71888/98224 [31:42<11:34, 37.92it/s]"
     ]
    },
    {
     "name": "stdout",
     "output_type": "stream",
     "text": [
      "\n",
      "Intel MKL ERROR: Parameter 4 was incorrect on entry to DGELSD.\n",
      "\n",
      "Intel MKL ERROR: Parameter 4 was incorrect on entry to DGELSD.\n"
     ]
    },
    {
     "name": "stderr",
     "output_type": "stream",
     "text": [
      " 73%|███████▎  | 71956/98224 [31:44<08:31, 51.35it/s]"
     ]
    },
    {
     "name": "stdout",
     "output_type": "stream",
     "text": [
      "\n",
      "Intel MKL ERROR: Parameter 4 was incorrect on entry to DGELSD.\n"
     ]
    },
    {
     "name": "stderr",
     "output_type": "stream",
     "text": [
      " 73%|███████▎  | 71984/98224 [31:44<11:56, 36.60it/s]"
     ]
    },
    {
     "name": "stdout",
     "output_type": "stream",
     "text": [
      "\n",
      "Intel MKL ERROR: Parameter 4 was incorrect on entry to DGELSD.\n"
     ]
    },
    {
     "name": "stderr",
     "output_type": "stream",
     "text": [
      " 73%|███████▎  | 72002/98224 [31:45<10:52, 40.18it/s]"
     ]
    },
    {
     "name": "stdout",
     "output_type": "stream",
     "text": [
      "\n",
      "Intel MKL ERROR: Parameter 4 was incorrect on entry to DGELSD.\n"
     ]
    },
    {
     "name": "stderr",
     "output_type": "stream",
     "text": [
      " 73%|███████▎  | 72065/98224 [31:47<11:53, 36.66it/s]"
     ]
    },
    {
     "name": "stdout",
     "output_type": "stream",
     "text": [
      "\n",
      "Intel MKL ERROR: Parameter 4 was incorrect on entry to DGELSD.\n"
     ]
    },
    {
     "name": "stderr",
     "output_type": "stream",
     "text": [
      " 73%|███████▎  | 72077/98224 [31:47<12:07, 35.93it/s]"
     ]
    },
    {
     "name": "stdout",
     "output_type": "stream",
     "text": [
      "\n",
      "Intel MKL ERROR: Parameter 4 was incorrect on entry to DGELSD.\n"
     ]
    },
    {
     "name": "stderr",
     "output_type": "stream",
     "text": [
      " 73%|███████▎  | 72122/98224 [31:48<11:32, 37.69it/s]"
     ]
    },
    {
     "name": "stdout",
     "output_type": "stream",
     "text": [
      "\n",
      "Intel MKL ERROR: Parameter 4 was incorrect on entry to DGELSD.\n"
     ]
    },
    {
     "name": "stderr",
     "output_type": "stream",
     "text": [
      " 74%|███████▎  | 72229/98224 [31:51<09:42, 44.66it/s]"
     ]
    },
    {
     "name": "stdout",
     "output_type": "stream",
     "text": [
      "\n",
      "Intel MKL ERROR: Parameter 4 was incorrect on entry to DGELSD.\n",
      "\n",
      "Intel MKL ERROR: Parameter 4 was incorrect on entry to DGELSD.\n",
      "\n",
      "Intel MKL ERROR: Parameter 4 was incorrect on entry to DGELSD.\n"
     ]
    },
    {
     "name": "stderr",
     "output_type": "stream",
     "text": [
      " 74%|███████▎  | 72264/98224 [31:52<10:38, 40.68it/s]"
     ]
    },
    {
     "name": "stdout",
     "output_type": "stream",
     "text": [
      "\n",
      "Intel MKL ERROR: Parameter 4 was incorrect on entry to DGELSD.\n",
      "\n",
      "Intel MKL ERROR: Parameter 4 was incorrect on entry to DGELSD.\n"
     ]
    },
    {
     "name": "stderr",
     "output_type": "stream",
     "text": [
      " 74%|███████▎  | 72284/98224 [31:52<11:12, 38.55it/s]"
     ]
    },
    {
     "name": "stdout",
     "output_type": "stream",
     "text": [
      "\n",
      "Intel MKL ERROR: Parameter 4 was incorrect on entry to DGELSD.\n"
     ]
    },
    {
     "name": "stderr",
     "output_type": "stream",
     "text": [
      " 74%|███████▎  | 72346/98224 [31:54<11:17, 38.17it/s]"
     ]
    },
    {
     "name": "stdout",
     "output_type": "stream",
     "text": [
      "\n",
      "Intel MKL ERROR: Parameter 4 was incorrect on entry to DGELSD.\n"
     ]
    },
    {
     "name": "stderr",
     "output_type": "stream",
     "text": [
      " 74%|███████▎  | 72360/98224 [31:54<10:35, 40.67it/s]"
     ]
    },
    {
     "name": "stdout",
     "output_type": "stream",
     "text": [
      "\n",
      "Intel MKL ERROR: Parameter 4 was incorrect on entry to DGELSD.\n"
     ]
    },
    {
     "name": "stderr",
     "output_type": "stream",
     "text": [
      " 74%|███████▎  | 72371/98224 [31:55<10:08, 42.52it/s]"
     ]
    },
    {
     "name": "stdout",
     "output_type": "stream",
     "text": [
      "\n",
      "Intel MKL ERROR: Parameter 4 was incorrect on entry to DGELSD.\n"
     ]
    },
    {
     "name": "stderr",
     "output_type": "stream",
     "text": [
      " 74%|███████▎  | 72394/98224 [31:55<11:27, 37.59it/s]"
     ]
    },
    {
     "name": "stdout",
     "output_type": "stream",
     "text": [
      "\n",
      "Intel MKL ERROR: Parameter 4 was incorrect on entry to DGELSD.\n"
     ]
    },
    {
     "name": "stderr",
     "output_type": "stream",
     "text": [
      " 74%|███████▎  | 72435/98224 [31:56<11:30, 37.36it/s]"
     ]
    },
    {
     "name": "stdout",
     "output_type": "stream",
     "text": [
      "\n",
      "Intel MKL ERROR: Parameter 4 was incorrect on entry to DGELSD.\n"
     ]
    },
    {
     "name": "stderr",
     "output_type": "stream",
     "text": [
      " 74%|███████▍  | 72488/98224 [31:58<12:04, 35.53it/s]"
     ]
    },
    {
     "name": "stdout",
     "output_type": "stream",
     "text": [
      "\n",
      "Intel MKL ERROR: Parameter 4 was incorrect on entry to DGELSD.\n"
     ]
    },
    {
     "name": "stderr",
     "output_type": "stream",
     "text": [
      " 74%|███████▍  | 72504/98224 [31:58<13:17, 32.26it/s]"
     ]
    },
    {
     "name": "stdout",
     "output_type": "stream",
     "text": [
      "\n",
      "Intel MKL ERROR: Parameter 4 was incorrect on entry to DGELSD.\n"
     ]
    },
    {
     "name": "stderr",
     "output_type": "stream",
     "text": [
      " 74%|███████▍  | 72595/98224 [32:01<10:57, 38.98it/s]"
     ]
    },
    {
     "name": "stdout",
     "output_type": "stream",
     "text": [
      "\n",
      "Intel MKL ERROR: Parameter 4 was incorrect on entry to DGELSD.\n"
     ]
    },
    {
     "name": "stderr",
     "output_type": "stream",
     "text": [
      " 74%|███████▍  | 72632/98224 [32:02<11:39, 36.61it/s]"
     ]
    },
    {
     "name": "stdout",
     "output_type": "stream",
     "text": [
      "\n",
      "Intel MKL ERROR: Parameter 4 was incorrect on entry to DGELSD.\n"
     ]
    },
    {
     "name": "stderr",
     "output_type": "stream",
     "text": [
      " 74%|███████▍  | 72664/98224 [32:03<12:35, 33.83it/s]"
     ]
    },
    {
     "name": "stdout",
     "output_type": "stream",
     "text": [
      "\n",
      "Intel MKL ERROR: Parameter 4 was incorrect on entry to DGELSD.\n"
     ]
    },
    {
     "name": "stderr",
     "output_type": "stream",
     "text": [
      " 74%|███████▍  | 72674/98224 [32:03<10:21, 41.12it/s]"
     ]
    },
    {
     "name": "stdout",
     "output_type": "stream",
     "text": [
      "\n",
      "Intel MKL ERROR: Parameter 4 was incorrect on entry to DGELSD.\n",
      "\n",
      "Intel MKL ERROR: Parameter 4 was incorrect on entry to DGELSD.\n",
      "\n",
      "Intel MKL ERROR: Parameter 4 was incorrect on entry to DGELSD.\n"
     ]
    },
    {
     "name": "stderr",
     "output_type": "stream",
     "text": [
      " 74%|███████▍  | 72793/98224 [32:07<11:11, 37.86it/s]"
     ]
    },
    {
     "name": "stdout",
     "output_type": "stream",
     "text": [
      "\n",
      "Intel MKL ERROR: Parameter 4 was incorrect on entry to DGELSD.\n"
     ]
    },
    {
     "name": "stderr",
     "output_type": "stream",
     "text": [
      " 74%|███████▍  | 72810/98224 [32:07<12:47, 33.10it/s]"
     ]
    },
    {
     "name": "stdout",
     "output_type": "stream",
     "text": [
      "\n",
      "Intel MKL ERROR: Parameter 4 was incorrect on entry to DGELSD.\n"
     ]
    },
    {
     "name": "stderr",
     "output_type": "stream",
     "text": [
      " 74%|███████▍  | 72857/98224 [32:09<11:10, 37.82it/s]"
     ]
    },
    {
     "name": "stdout",
     "output_type": "stream",
     "text": [
      "\n",
      "Intel MKL ERROR: Parameter 4 was incorrect on entry to DGELSD.\n",
      "\n",
      "Intel MKL ERROR: Parameter 4 was incorrect on entry to DGELSD.\n"
     ]
    },
    {
     "name": "stderr",
     "output_type": "stream",
     "text": [
      " 74%|███████▍  | 72883/98224 [32:09<10:28, 40.34it/s]"
     ]
    },
    {
     "name": "stdout",
     "output_type": "stream",
     "text": [
      "\n",
      "Intel MKL ERROR: Parameter 4 was incorrect on entry to DGELSD.\n"
     ]
    },
    {
     "name": "stderr",
     "output_type": "stream",
     "text": [
      " 74%|███████▍  | 72960/98224 [32:11<12:04, 34.85it/s]"
     ]
    },
    {
     "name": "stdout",
     "output_type": "stream",
     "text": [
      "\n",
      "Intel MKL ERROR: Parameter 4 was incorrect on entry to DGELSD.\n"
     ]
    },
    {
     "name": "stderr",
     "output_type": "stream",
     "text": [
      " 74%|███████▍  | 72972/98224 [32:12<11:34, 36.37it/s]"
     ]
    },
    {
     "name": "stdout",
     "output_type": "stream",
     "text": [
      "\n",
      "Intel MKL ERROR: Parameter 4 was incorrect on entry to DGELSD.\n"
     ]
    },
    {
     "name": "stderr",
     "output_type": "stream",
     "text": [
      " 74%|███████▍  | 72999/98224 [32:12<09:59, 42.04it/s]"
     ]
    },
    {
     "name": "stdout",
     "output_type": "stream",
     "text": [
      "\n",
      "Intel MKL ERROR: Parameter 4 was incorrect on entry to DGELSD.\n"
     ]
    },
    {
     "name": "stderr",
     "output_type": "stream",
     "text": [
      " 75%|███████▍  | 73183/98224 [32:17<08:18, 50.19it/s]"
     ]
    },
    {
     "name": "stdout",
     "output_type": "stream",
     "text": [
      "\n",
      "Intel MKL ERROR: Parameter 4 was incorrect on entry to DGELSD.\n"
     ]
    },
    {
     "name": "stderr",
     "output_type": "stream",
     "text": [
      " 75%|███████▍  | 73235/98224 [32:18<10:28, 39.75it/s]"
     ]
    },
    {
     "name": "stdout",
     "output_type": "stream",
     "text": [
      "\n",
      "Intel MKL ERROR: Parameter 4 was incorrect on entry to DGELSD.\n"
     ]
    },
    {
     "name": "stderr",
     "output_type": "stream",
     "text": [
      " 75%|███████▍  | 73251/98224 [32:18<10:17, 40.43it/s]"
     ]
    },
    {
     "name": "stdout",
     "output_type": "stream",
     "text": [
      "\n",
      "Intel MKL ERROR: Parameter 4 was incorrect on entry to DGELSD.\n",
      "\n",
      "Intel MKL ERROR: Parameter 4 was incorrect on entry to DGELSD.\n"
     ]
    },
    {
     "name": "stderr",
     "output_type": "stream",
     "text": [
      " 75%|███████▍  | 73315/98224 [32:20<10:45, 38.61it/s]"
     ]
    },
    {
     "name": "stdout",
     "output_type": "stream",
     "text": [
      "\n",
      "Intel MKL ERROR: Parameter 4 was incorrect on entry to DGELSD.\n",
      "\n",
      "Intel MKL ERROR: Parameter 4 was incorrect on entry to DGELSD.\n"
     ]
    },
    {
     "name": "stderr",
     "output_type": "stream",
     "text": [
      " 75%|███████▍  | 73358/98224 [32:21<10:36, 39.08it/s]"
     ]
    },
    {
     "name": "stdout",
     "output_type": "stream",
     "text": [
      "\n",
      "Intel MKL ERROR: Parameter 4 was incorrect on entry to DGELSD.\n"
     ]
    },
    {
     "name": "stderr",
     "output_type": "stream",
     "text": [
      " 75%|███████▍  | 73375/98224 [32:22<11:07, 37.23it/s]"
     ]
    },
    {
     "name": "stdout",
     "output_type": "stream",
     "text": [
      "\n",
      "Intel MKL ERROR: Parameter 4 was incorrect on entry to DGELSD.\n"
     ]
    },
    {
     "name": "stderr",
     "output_type": "stream",
     "text": [
      " 75%|███████▍  | 73410/98224 [32:23<11:07, 37.17it/s]"
     ]
    },
    {
     "name": "stdout",
     "output_type": "stream",
     "text": [
      "\n",
      "Intel MKL ERROR: Parameter 4 was incorrect on entry to DGELSD.\n"
     ]
    },
    {
     "name": "stderr",
     "output_type": "stream",
     "text": [
      " 75%|███████▍  | 73453/98224 [32:24<10:24, 39.64it/s]"
     ]
    },
    {
     "name": "stdout",
     "output_type": "stream",
     "text": [
      "\n",
      "Intel MKL ERROR: Parameter 4 was incorrect on entry to DGELSD.\n"
     ]
    },
    {
     "name": "stderr",
     "output_type": "stream",
     "text": [
      " 75%|███████▍  | 73513/98224 [32:26<10:35, 38.86it/s]"
     ]
    },
    {
     "name": "stdout",
     "output_type": "stream",
     "text": [
      "\n",
      "Intel MKL ERROR: Parameter 4 was incorrect on entry to DGELSD.\n"
     ]
    },
    {
     "name": "stderr",
     "output_type": "stream",
     "text": [
      " 75%|███████▍  | 73522/98224 [32:26<10:02, 41.00it/s]"
     ]
    },
    {
     "name": "stdout",
     "output_type": "stream",
     "text": [
      "\n",
      "Intel MKL ERROR: Parameter 4 was incorrect on entry to DGELSD.\n"
     ]
    },
    {
     "name": "stderr",
     "output_type": "stream",
     "text": [
      " 75%|███████▍  | 73570/98224 [32:27<10:25, 39.45it/s]"
     ]
    },
    {
     "name": "stdout",
     "output_type": "stream",
     "text": [
      "\n",
      "Intel MKL ERROR: Parameter 4 was incorrect on entry to DGELSD.\n"
     ]
    },
    {
     "name": "stderr",
     "output_type": "stream",
     "text": [
      " 75%|███████▌  | 73834/98224 [32:33<07:52, 51.61it/s]"
     ]
    },
    {
     "name": "stdout",
     "output_type": "stream",
     "text": [
      "\n",
      "Intel MKL ERROR: Parameter 4 was incorrect on entry to DGELSD.\n"
     ]
    },
    {
     "name": "stderr",
     "output_type": "stream",
     "text": [
      " 75%|███████▌  | 74147/98224 [32:42<11:42, 34.27it/s]"
     ]
    },
    {
     "name": "stdout",
     "output_type": "stream",
     "text": [
      "\n",
      "Intel MKL ERROR: Parameter 4 was incorrect on entry to DGELSD.\n"
     ]
    },
    {
     "name": "stderr",
     "output_type": "stream",
     "text": [
      " 76%|███████▌  | 74455/98224 [32:50<07:13, 54.84it/s]"
     ]
    },
    {
     "name": "stdout",
     "output_type": "stream",
     "text": [
      "\n",
      "Intel MKL ERROR: Parameter 4 was incorrect on entry to DGELSD.\n",
      "\n",
      "Intel MKL ERROR: Parameter 4 was incorrect on entry to DGELSD.\n"
     ]
    },
    {
     "name": "stderr",
     "output_type": "stream",
     "text": [
      " 76%|███████▌  | 74710/98224 [32:56<10:09, 38.58it/s]"
     ]
    },
    {
     "name": "stdout",
     "output_type": "stream",
     "text": [
      "\n",
      "Intel MKL ERROR: Parameter 4 was incorrect on entry to DGELSD.\n"
     ]
    },
    {
     "name": "stderr",
     "output_type": "stream",
     "text": [
      " 77%|███████▋  | 75210/98224 [33:10<10:09, 37.75it/s]"
     ]
    },
    {
     "name": "stdout",
     "output_type": "stream",
     "text": [
      "\n",
      "Intel MKL ERROR: Parameter 4 was incorrect on entry to DGELSD.\n"
     ]
    },
    {
     "name": "stderr",
     "output_type": "stream",
     "text": [
      " 77%|███████▋  | 75571/98224 [33:21<09:51, 38.29it/s]"
     ]
    },
    {
     "name": "stdout",
     "output_type": "stream",
     "text": [
      "\n",
      "Intel MKL ERROR: Parameter 4 was incorrect on entry to DGELSD.\n"
     ]
    },
    {
     "name": "stderr",
     "output_type": "stream",
     "text": [
      " 77%|███████▋  | 75613/98224 [33:22<10:05, 37.34it/s]"
     ]
    },
    {
     "name": "stdout",
     "output_type": "stream",
     "text": [
      "\n",
      "Intel MKL ERROR: Parameter 4 was incorrect on entry to DGELSD.\n"
     ]
    },
    {
     "name": "stderr",
     "output_type": "stream",
     "text": [
      " 77%|███████▋  | 75683/98224 [33:24<10:31, 35.69it/s]"
     ]
    },
    {
     "name": "stdout",
     "output_type": "stream",
     "text": [
      "\n",
      "Intel MKL ERROR: Parameter 4 was incorrect on entry to DGELSD.\n"
     ]
    },
    {
     "name": "stderr",
     "output_type": "stream",
     "text": [
      " 77%|███████▋  | 75833/98224 [33:28<07:26, 50.14it/s]"
     ]
    },
    {
     "name": "stdout",
     "output_type": "stream",
     "text": [
      "\n",
      "Intel MKL ERROR: Parameter 4 was incorrect on entry to DGELSD.\n"
     ]
    },
    {
     "name": "stderr",
     "output_type": "stream",
     "text": [
      " 77%|███████▋  | 75952/98224 [33:31<10:05, 36.77it/s]"
     ]
    },
    {
     "name": "stdout",
     "output_type": "stream",
     "text": [
      "\n",
      "Intel MKL ERROR: Parameter 4 was incorrect on entry to DGELSD.\n"
     ]
    },
    {
     "name": "stderr",
     "output_type": "stream",
     "text": [
      " 77%|███████▋  | 76009/98224 [33:33<10:35, 34.94it/s]"
     ]
    },
    {
     "name": "stdout",
     "output_type": "stream",
     "text": [
      "\n",
      "Intel MKL ERROR: Parameter 4 was incorrect on entry to DGELSD.\n"
     ]
    },
    {
     "name": "stderr",
     "output_type": "stream",
     "text": [
      " 77%|███████▋  | 76062/98224 [33:34<09:53, 37.33it/s]"
     ]
    },
    {
     "name": "stdout",
     "output_type": "stream",
     "text": [
      "\n",
      "Intel MKL ERROR: Parameter 4 was incorrect on entry to DGELSD.\n"
     ]
    },
    {
     "name": "stderr",
     "output_type": "stream",
     "text": [
      " 77%|███████▋  | 76075/98224 [33:35<09:28, 38.96it/s]"
     ]
    },
    {
     "name": "stdout",
     "output_type": "stream",
     "text": [
      "\n",
      "Intel MKL ERROR: Parameter 4 was incorrect on entry to DGELSD.\n"
     ]
    },
    {
     "name": "stderr",
     "output_type": "stream",
     "text": [
      " 78%|███████▊  | 76152/98224 [33:37<10:36, 34.67it/s]"
     ]
    },
    {
     "name": "stdout",
     "output_type": "stream",
     "text": [
      "\n",
      "Intel MKL ERROR: Parameter 4 was incorrect on entry to DGELSD.\n"
     ]
    },
    {
     "name": "stderr",
     "output_type": "stream",
     "text": [
      " 78%|███████▊  | 76181/98224 [33:38<10:12, 35.98it/s]"
     ]
    },
    {
     "name": "stdout",
     "output_type": "stream",
     "text": [
      "\n",
      "Intel MKL ERROR: Parameter 4 was incorrect on entry to DGELSD.\n"
     ]
    },
    {
     "name": "stderr",
     "output_type": "stream",
     "text": [
      " 78%|███████▊  | 76237/98224 [33:39<07:48, 46.97it/s]"
     ]
    },
    {
     "name": "stdout",
     "output_type": "stream",
     "text": [
      "\n",
      "Intel MKL ERROR: Parameter 4 was incorrect on entry to DGELSD.\n",
      "\n",
      "Intel MKL ERROR: Parameter 4 was incorrect on entry to DGELSD.\n"
     ]
    },
    {
     "name": "stderr",
     "output_type": "stream",
     "text": [
      " 78%|███████▊  | 76307/98224 [33:41<09:01, 40.47it/s]"
     ]
    },
    {
     "name": "stdout",
     "output_type": "stream",
     "text": [
      "\n",
      "Intel MKL ERROR: Parameter 4 was incorrect on entry to DGELSD.\n",
      "\n",
      "Intel MKL ERROR: Parameter 4 was incorrect on entry to DGELSD.\n"
     ]
    },
    {
     "name": "stderr",
     "output_type": "stream",
     "text": [
      " 78%|███████▊  | 76411/98224 [33:43<10:16, 35.41it/s]"
     ]
    },
    {
     "name": "stdout",
     "output_type": "stream",
     "text": [
      "\n",
      "Intel MKL ERROR: Parameter 4 was incorrect on entry to DGELSD.\n"
     ]
    },
    {
     "name": "stderr",
     "output_type": "stream",
     "text": [
      " 78%|███████▊  | 76538/98224 [33:47<09:11, 39.34it/s]"
     ]
    },
    {
     "name": "stdout",
     "output_type": "stream",
     "text": [
      "\n",
      "Intel MKL ERROR: Parameter 4 was incorrect on entry to DGELSD.\n"
     ]
    },
    {
     "name": "stderr",
     "output_type": "stream",
     "text": [
      " 78%|███████▊  | 76693/98224 [33:51<07:23, 48.54it/s]"
     ]
    },
    {
     "name": "stdout",
     "output_type": "stream",
     "text": [
      "\n",
      "Intel MKL ERROR: Parameter 4 was incorrect on entry to DGELSD.\n"
     ]
    },
    {
     "name": "stderr",
     "output_type": "stream",
     "text": [
      " 78%|███████▊  | 76920/98224 [33:57<07:44, 45.88it/s]"
     ]
    },
    {
     "name": "stdout",
     "output_type": "stream",
     "text": [
      "\n",
      "Intel MKL ERROR: Parameter 4 was incorrect on entry to DGELSD.\n"
     ]
    },
    {
     "name": "stderr",
     "output_type": "stream",
     "text": [
      " 79%|███████▊  | 77178/98224 [34:04<12:15, 28.61it/s]"
     ]
    },
    {
     "name": "stdout",
     "output_type": "stream",
     "text": [
      "\n",
      "Intel MKL ERROR: Parameter 4 was incorrect on entry to DGELSD.\n"
     ]
    },
    {
     "name": "stderr",
     "output_type": "stream",
     "text": [
      " 79%|███████▊  | 77253/98224 [34:06<08:48, 39.71it/s]"
     ]
    },
    {
     "name": "stdout",
     "output_type": "stream",
     "text": [
      "\n",
      "Intel MKL ERROR: Parameter 4 was incorrect on entry to DGELSD.\n"
     ]
    },
    {
     "name": "stderr",
     "output_type": "stream",
     "text": [
      " 79%|███████▊  | 77264/98224 [34:07<08:15, 42.32it/s]"
     ]
    },
    {
     "name": "stdout",
     "output_type": "stream",
     "text": [
      "\n",
      "Intel MKL ERROR: Parameter 4 was incorrect on entry to DGELSD.\n"
     ]
    },
    {
     "name": "stderr",
     "output_type": "stream",
     "text": [
      " 79%|███████▉  | 77552/98224 [34:15<09:44, 35.39it/s]"
     ]
    },
    {
     "name": "stdout",
     "output_type": "stream",
     "text": [
      "\n",
      "Intel MKL ERROR: Parameter 4 was incorrect on entry to DGELSD.\n"
     ]
    },
    {
     "name": "stderr",
     "output_type": "stream",
     "text": [
      " 79%|███████▉  | 77591/98224 [34:16<08:14, 41.75it/s]"
     ]
    },
    {
     "name": "stdout",
     "output_type": "stream",
     "text": [
      "\n",
      "Intel MKL ERROR: Parameter 4 was incorrect on entry to DGELSD.\n",
      "\n",
      "Intel MKL ERROR: Parameter 4 was incorrect on entry to DGELSD.\n"
     ]
    },
    {
     "name": "stderr",
     "output_type": "stream",
     "text": [
      " 79%|███████▉  | 77699/98224 [34:19<09:14, 37.04it/s]"
     ]
    },
    {
     "name": "stdout",
     "output_type": "stream",
     "text": [
      "\n",
      "Intel MKL ERROR: Parameter 4 was incorrect on entry to DGELSD.\n"
     ]
    },
    {
     "name": "stderr",
     "output_type": "stream",
     "text": [
      " 79%|███████▉  | 77760/98224 [34:21<08:33, 39.84it/s]"
     ]
    },
    {
     "name": "stdout",
     "output_type": "stream",
     "text": [
      "\n",
      "Intel MKL ERROR: Parameter 4 was incorrect on entry to DGELSD.\n"
     ]
    },
    {
     "name": "stderr",
     "output_type": "stream",
     "text": [
      " 79%|███████▉  | 77923/98224 [34:26<09:25, 35.93it/s]"
     ]
    },
    {
     "name": "stdout",
     "output_type": "stream",
     "text": [
      "\n",
      "Intel MKL ERROR: Parameter 4 was incorrect on entry to DGELSD.\n"
     ]
    },
    {
     "name": "stderr",
     "output_type": "stream",
     "text": [
      " 79%|███████▉  | 77964/98224 [34:27<09:10, 36.79it/s]"
     ]
    },
    {
     "name": "stdout",
     "output_type": "stream",
     "text": [
      "\n",
      "Intel MKL ERROR: Parameter 4 was incorrect on entry to DGELSD.\n"
     ]
    },
    {
     "name": "stderr",
     "output_type": "stream",
     "text": [
      " 79%|███████▉  | 77981/98224 [34:27<10:02, 33.61it/s]"
     ]
    },
    {
     "name": "stdout",
     "output_type": "stream",
     "text": [
      "\n",
      "Intel MKL ERROR: Parameter 4 was incorrect on entry to DGELSD.\n"
     ]
    },
    {
     "name": "stderr",
     "output_type": "stream",
     "text": [
      " 79%|███████▉  | 77991/98224 [34:27<08:24, 40.10it/s]"
     ]
    },
    {
     "name": "stdout",
     "output_type": "stream",
     "text": [
      "\n",
      "Intel MKL ERROR: Parameter 4 was incorrect on entry to DGELSD.\n",
      "\n",
      "Intel MKL ERROR: Parameter 4 was incorrect on entry to DGELSD.\n"
     ]
    },
    {
     "name": "stderr",
     "output_type": "stream",
     "text": [
      " 80%|███████▉  | 78143/98224 [34:32<09:26, 35.42it/s]"
     ]
    },
    {
     "name": "stdout",
     "output_type": "stream",
     "text": [
      "\n",
      "Intel MKL ERROR: Parameter 4 was incorrect on entry to DGELSD.\n",
      "\n",
      "Intel MKL ERROR: Parameter 4 was incorrect on entry to DGELSD.\n"
     ]
    },
    {
     "name": "stderr",
     "output_type": "stream",
     "text": [
      " 80%|███████▉  | 78196/98224 [34:33<09:14, 36.09it/s]"
     ]
    },
    {
     "name": "stdout",
     "output_type": "stream",
     "text": [
      "\n",
      "Intel MKL ERROR: Parameter 4 was incorrect on entry to DGELSD.\n"
     ]
    },
    {
     "name": "stderr",
     "output_type": "stream",
     "text": [
      " 80%|███████▉  | 78218/98224 [34:34<08:39, 38.51it/s]"
     ]
    },
    {
     "name": "stdout",
     "output_type": "stream",
     "text": [
      "\n",
      "Intel MKL ERROR: Parameter 4 was incorrect on entry to DGELSD.\n"
     ]
    },
    {
     "name": "stderr",
     "output_type": "stream",
     "text": [
      " 80%|███████▉  | 78305/98224 [34:36<08:38, 38.44it/s]"
     ]
    },
    {
     "name": "stdout",
     "output_type": "stream",
     "text": [
      "\n",
      "Intel MKL ERROR: Parameter 4 was incorrect on entry to DGELSD.\n"
     ]
    },
    {
     "name": "stderr",
     "output_type": "stream",
     "text": [
      " 80%|███████▉  | 78422/98224 [34:40<09:12, 35.82it/s]"
     ]
    },
    {
     "name": "stdout",
     "output_type": "stream",
     "text": [
      "\n",
      "Intel MKL ERROR: Parameter 4 was incorrect on entry to DGELSD.\n"
     ]
    },
    {
     "name": "stderr",
     "output_type": "stream",
     "text": [
      " 80%|███████▉  | 78523/98224 [34:43<08:25, 38.97it/s]"
     ]
    },
    {
     "name": "stdout",
     "output_type": "stream",
     "text": [
      "\n",
      "Intel MKL ERROR: Parameter 4 was incorrect on entry to DGELSD.\n"
     ]
    },
    {
     "name": "stderr",
     "output_type": "stream",
     "text": [
      " 80%|███████▉  | 78563/98224 [34:44<09:48, 33.39it/s]"
     ]
    },
    {
     "name": "stdout",
     "output_type": "stream",
     "text": [
      "\n",
      "Intel MKL ERROR: Parameter 4 was incorrect on entry to DGELSD.\n"
     ]
    },
    {
     "name": "stderr",
     "output_type": "stream",
     "text": [
      " 80%|████████  | 78633/98224 [34:46<10:25, 31.31it/s]"
     ]
    },
    {
     "name": "stdout",
     "output_type": "stream",
     "text": [
      "\n",
      "Intel MKL ERROR: Parameter 4 was incorrect on entry to DGELSD.\n"
     ]
    },
    {
     "name": "stderr",
     "output_type": "stream",
     "text": [
      " 80%|████████  | 78690/98224 [34:48<09:11, 35.42it/s]"
     ]
    },
    {
     "name": "stdout",
     "output_type": "stream",
     "text": [
      "\n",
      "Intel MKL ERROR: Parameter 4 was incorrect on entry to DGELSD.\n"
     ]
    },
    {
     "name": "stderr",
     "output_type": "stream",
     "text": [
      " 80%|████████  | 78902/98224 [34:55<08:57, 35.95it/s]"
     ]
    },
    {
     "name": "stdout",
     "output_type": "stream",
     "text": [
      "\n",
      "Intel MKL ERROR: Parameter 4 was incorrect on entry to DGELSD.\n",
      "\n",
      "Intel MKL ERROR: Parameter 4 was incorrect on entry to DGELSD.\n"
     ]
    },
    {
     "name": "stderr",
     "output_type": "stream",
     "text": [
      " 80%|████████  | 79017/98224 [34:59<09:39, 33.12it/s]"
     ]
    },
    {
     "name": "stdout",
     "output_type": "stream",
     "text": [
      "\n",
      "Intel MKL ERROR: Parameter 4 was incorrect on entry to DGELSD.\n"
     ]
    },
    {
     "name": "stderr",
     "output_type": "stream",
     "text": [
      " 81%|████████  | 79122/98224 [35:01<08:31, 37.34it/s]"
     ]
    },
    {
     "name": "stdout",
     "output_type": "stream",
     "text": [
      "\n",
      "Intel MKL ERROR: Parameter 4 was incorrect on entry to DGELSD.\n"
     ]
    },
    {
     "name": "stderr",
     "output_type": "stream",
     "text": [
      " 81%|████████  | 79505/98224 [35:13<09:02, 34.52it/s]"
     ]
    },
    {
     "name": "stdout",
     "output_type": "stream",
     "text": [
      "\n",
      "Intel MKL ERROR: Parameter 4 was incorrect on entry to DGELSD.\n"
     ]
    },
    {
     "name": "stderr",
     "output_type": "stream",
     "text": [
      " 81%|████████  | 79587/98224 [35:15<08:55, 34.79it/s]"
     ]
    },
    {
     "name": "stdout",
     "output_type": "stream",
     "text": [
      "\n",
      "Intel MKL ERROR: Parameter 4 was incorrect on entry to DGELSD.\n"
     ]
    },
    {
     "name": "stderr",
     "output_type": "stream",
     "text": [
      " 81%|████████  | 79617/98224 [35:16<08:33, 36.22it/s]"
     ]
    },
    {
     "name": "stdout",
     "output_type": "stream",
     "text": [
      "\n",
      "Intel MKL ERROR: Parameter 4 was incorrect on entry to DGELSD.\n"
     ]
    },
    {
     "name": "stderr",
     "output_type": "stream",
     "text": [
      " 81%|████████  | 79665/98224 [35:17<06:48, 45.46it/s]"
     ]
    },
    {
     "name": "stdout",
     "output_type": "stream",
     "text": [
      "\n",
      "Intel MKL ERROR: Parameter 4 was incorrect on entry to DGELSD.\n",
      "\n",
      "Intel MKL ERROR: Parameter 4 was incorrect on entry to DGELSD.\n"
     ]
    },
    {
     "name": "stderr",
     "output_type": "stream",
     "text": [
      " 81%|████████  | 79804/98224 [35:22<08:24, 36.50it/s]"
     ]
    },
    {
     "name": "stdout",
     "output_type": "stream",
     "text": [
      "\n",
      "Intel MKL ERROR: Parameter 4 was incorrect on entry to DGELSD.\n",
      "\n",
      "Intel MKL ERROR: Parameter 4 was incorrect on entry to DGELSD.\n"
     ]
    },
    {
     "name": "stderr",
     "output_type": "stream",
     "text": [
      " 82%|████████▏ | 80269/98224 [35:35<08:50, 33.87it/s]"
     ]
    },
    {
     "name": "stdout",
     "output_type": "stream",
     "text": [
      "\n",
      "Intel MKL ERROR: Parameter 4 was incorrect on entry to DGELSD.\n",
      "\n",
      "Intel MKL ERROR: Parameter 4 was incorrect on entry to DGELSD.\n"
     ]
    },
    {
     "name": "stderr",
     "output_type": "stream",
     "text": [
      " 82%|████████▏ | 80312/98224 [35:37<09:10, 32.54it/s]"
     ]
    },
    {
     "name": "stdout",
     "output_type": "stream",
     "text": [
      "\n",
      "Intel MKL ERROR: Parameter 4 was incorrect on entry to DGELSD.\n"
     ]
    },
    {
     "name": "stderr",
     "output_type": "stream",
     "text": [
      " 82%|████████▏ | 80362/98224 [35:38<07:56, 37.49it/s]"
     ]
    },
    {
     "name": "stdout",
     "output_type": "stream",
     "text": [
      "\n",
      "Intel MKL ERROR: Parameter 4 was incorrect on entry to DGELSD.\n"
     ]
    },
    {
     "name": "stderr",
     "output_type": "stream",
     "text": [
      " 82%|████████▏ | 80429/98224 [35:40<07:52, 37.68it/s]"
     ]
    },
    {
     "name": "stdout",
     "output_type": "stream",
     "text": [
      "\n",
      "Intel MKL ERROR: Parameter 4 was incorrect on entry to DGELSD.\n"
     ]
    },
    {
     "name": "stderr",
     "output_type": "stream",
     "text": [
      " 82%|████████▏ | 80797/98224 [35:52<09:21, 31.02it/s]"
     ]
    },
    {
     "name": "stdout",
     "output_type": "stream",
     "text": [
      "\n",
      "Intel MKL ERROR: Parameter 4 was incorrect on entry to DGELSD.\n"
     ]
    },
    {
     "name": "stderr",
     "output_type": "stream",
     "text": [
      " 82%|████████▏ | 80926/98224 [35:57<09:16, 31.09it/s]"
     ]
    },
    {
     "name": "stdout",
     "output_type": "stream",
     "text": [
      "\n",
      "Intel MKL ERROR: Parameter 4 was incorrect on entry to DGELSD.\n"
     ]
    },
    {
     "name": "stderr",
     "output_type": "stream",
     "text": [
      " 83%|████████▎ | 81064/98224 [36:01<09:19, 30.69it/s]"
     ]
    },
    {
     "name": "stdout",
     "output_type": "stream",
     "text": [
      "\n",
      "Intel MKL ERROR: Parameter 4 was incorrect on entry to DGELSD.\n"
     ]
    },
    {
     "name": "stderr",
     "output_type": "stream",
     "text": [
      " 83%|████████▎ | 81133/98224 [36:04<08:30, 33.51it/s]"
     ]
    },
    {
     "name": "stdout",
     "output_type": "stream",
     "text": [
      "\n",
      "Intel MKL ERROR: Parameter 4 was incorrect on entry to DGELSD.\n"
     ]
    },
    {
     "name": "stderr",
     "output_type": "stream",
     "text": [
      " 83%|████████▎ | 81276/98224 [36:08<09:07, 30.94it/s]"
     ]
    },
    {
     "name": "stdout",
     "output_type": "stream",
     "text": [
      "\n",
      "Intel MKL ERROR: Parameter 4 was incorrect on entry to DGELSD.\n"
     ]
    },
    {
     "name": "stderr",
     "output_type": "stream",
     "text": [
      " 83%|████████▎ | 81406/98224 [36:13<08:13, 34.07it/s]"
     ]
    },
    {
     "name": "stdout",
     "output_type": "stream",
     "text": [
      "\n",
      "Intel MKL ERROR: Parameter 4 was incorrect on entry to DGELSD.\n",
      "\n",
      "Intel MKL ERROR: Parameter 4 was incorrect on entry to DGELSD.\n"
     ]
    },
    {
     "name": "stderr",
     "output_type": "stream",
     "text": [
      " 83%|████████▎ | 81466/98224 [36:15<08:37, 32.39it/s]"
     ]
    },
    {
     "name": "stdout",
     "output_type": "stream",
     "text": [
      "\n",
      "Intel MKL ERROR: Parameter 4 was incorrect on entry to DGELSD.\n"
     ]
    },
    {
     "name": "stderr",
     "output_type": "stream",
     "text": [
      " 83%|████████▎ | 81478/98224 [36:15<08:54, 31.34it/s]"
     ]
    },
    {
     "name": "stdout",
     "output_type": "stream",
     "text": [
      "\n",
      "Intel MKL ERROR: Parameter 4 was incorrect on entry to DGELSD.\n"
     ]
    },
    {
     "name": "stderr",
     "output_type": "stream",
     "text": [
      " 83%|████████▎ | 81490/98224 [36:15<07:58, 34.97it/s]"
     ]
    },
    {
     "name": "stdout",
     "output_type": "stream",
     "text": [
      "\n",
      "Intel MKL ERROR: Parameter 4 was incorrect on entry to DGELSD.\n"
     ]
    },
    {
     "name": "stderr",
     "output_type": "stream",
     "text": [
      " 83%|████████▎ | 81502/98224 [36:16<08:16, 33.68it/s]"
     ]
    },
    {
     "name": "stdout",
     "output_type": "stream",
     "text": [
      "\n",
      "Intel MKL ERROR: Parameter 4 was incorrect on entry to DGELSD.\n"
     ]
    },
    {
     "name": "stderr",
     "output_type": "stream",
     "text": [
      " 83%|████████▎ | 81670/98224 [36:22<09:03, 30.45it/s]"
     ]
    },
    {
     "name": "stdout",
     "output_type": "stream",
     "text": [
      "\n",
      "Intel MKL ERROR: Parameter 4 was incorrect on entry to DGELSD.\n"
     ]
    },
    {
     "name": "stderr",
     "output_type": "stream",
     "text": [
      " 83%|████████▎ | 81867/98224 [36:28<07:56, 34.34it/s]"
     ]
    },
    {
     "name": "stdout",
     "output_type": "stream",
     "text": [
      "\n",
      "Intel MKL ERROR: Parameter 4 was incorrect on entry to DGELSD.\n"
     ]
    },
    {
     "name": "stderr",
     "output_type": "stream",
     "text": [
      " 83%|████████▎ | 81941/98224 [36:31<09:56, 27.30it/s]"
     ]
    },
    {
     "name": "stdout",
     "output_type": "stream",
     "text": [
      "\n",
      "Intel MKL ERROR: Parameter 4 was incorrect on entry to DGELSD.\n"
     ]
    },
    {
     "name": "stderr",
     "output_type": "stream",
     "text": [
      " 83%|████████▎ | 81978/98224 [36:32<08:28, 31.93it/s]"
     ]
    },
    {
     "name": "stdout",
     "output_type": "stream",
     "text": [
      "\n",
      "Intel MKL ERROR: Parameter 4 was incorrect on entry to DGELSD.\n"
     ]
    },
    {
     "name": "stderr",
     "output_type": "stream",
     "text": [
      " 84%|████████▎ | 82094/98224 [36:36<09:23, 28.63it/s]"
     ]
    },
    {
     "name": "stdout",
     "output_type": "stream",
     "text": [
      "\n",
      "Intel MKL ERROR: Parameter 4 was incorrect on entry to DGELSD.\n"
     ]
    },
    {
     "name": "stderr",
     "output_type": "stream",
     "text": [
      " 84%|████████▎ | 82152/98224 [36:38<09:28, 28.29it/s]"
     ]
    },
    {
     "name": "stdout",
     "output_type": "stream",
     "text": [
      "\n",
      "Intel MKL ERROR: Parameter 4 was incorrect on entry to DGELSD.\n"
     ]
    },
    {
     "name": "stderr",
     "output_type": "stream",
     "text": [
      " 84%|████████▎ | 82220/98224 [36:40<07:22, 36.14it/s]"
     ]
    },
    {
     "name": "stdout",
     "output_type": "stream",
     "text": [
      "\n",
      "Intel MKL ERROR: Parameter 4 was incorrect on entry to DGELSD.\n"
     ]
    },
    {
     "name": "stderr",
     "output_type": "stream",
     "text": [
      " 84%|████████▍ | 82322/98224 [36:43<09:07, 29.06it/s]"
     ]
    },
    {
     "name": "stdout",
     "output_type": "stream",
     "text": [
      "\n",
      "Intel MKL ERROR: Parameter 4 was incorrect on entry to DGELSD.\n"
     ]
    },
    {
     "name": "stderr",
     "output_type": "stream",
     "text": [
      " 84%|████████▍ | 82544/98224 [36:51<08:38, 30.23it/s]"
     ]
    },
    {
     "name": "stdout",
     "output_type": "stream",
     "text": [
      "\n",
      "Intel MKL ERROR: Parameter 4 was incorrect on entry to DGELSD.\n"
     ]
    },
    {
     "name": "stderr",
     "output_type": "stream",
     "text": [
      " 84%|████████▍ | 82707/98224 [36:56<08:28, 30.49it/s]"
     ]
    },
    {
     "name": "stdout",
     "output_type": "stream",
     "text": [
      "\n",
      "Intel MKL ERROR: Parameter 4 was incorrect on entry to DGELSD.\n"
     ]
    },
    {
     "name": "stderr",
     "output_type": "stream",
     "text": [
      " 85%|████████▍ | 83081/98224 [37:09<07:59, 31.61it/s]"
     ]
    },
    {
     "name": "stdout",
     "output_type": "stream",
     "text": [
      "\n",
      "Intel MKL ERROR: Parameter 4 was incorrect on entry to DGELSD.\n"
     ]
    },
    {
     "name": "stderr",
     "output_type": "stream",
     "text": [
      " 85%|████████▍ | 83249/98224 [37:16<08:13, 30.34it/s]"
     ]
    },
    {
     "name": "stdout",
     "output_type": "stream",
     "text": [
      "\n",
      "Intel MKL ERROR: Parameter 4 was incorrect on entry to DGELSD.\n"
     ]
    },
    {
     "name": "stderr",
     "output_type": "stream",
     "text": [
      " 85%|████████▍ | 83296/98224 [37:17<07:35, 32.80it/s]"
     ]
    },
    {
     "name": "stdout",
     "output_type": "stream",
     "text": [
      "\n",
      "Intel MKL ERROR: Parameter 4 was incorrect on entry to DGELSD.\n"
     ]
    },
    {
     "name": "stderr",
     "output_type": "stream",
     "text": [
      " 85%|████████▍ | 83355/98224 [37:19<08:12, 30.19it/s]"
     ]
    },
    {
     "name": "stdout",
     "output_type": "stream",
     "text": [
      "\n",
      "Intel MKL ERROR: Parameter 4 was incorrect on entry to DGELSD.\n"
     ]
    },
    {
     "name": "stderr",
     "output_type": "stream",
     "text": [
      " 85%|████████▍ | 83414/98224 [37:21<08:14, 29.92it/s]"
     ]
    },
    {
     "name": "stdout",
     "output_type": "stream",
     "text": [
      "\n",
      "Intel MKL ERROR: Parameter 4 was incorrect on entry to DGELSD.\n"
     ]
    },
    {
     "name": "stderr",
     "output_type": "stream",
     "text": [
      " 85%|████████▍ | 83434/98224 [37:22<07:40, 32.11it/s]"
     ]
    },
    {
     "name": "stdout",
     "output_type": "stream",
     "text": [
      "\n",
      "Intel MKL ERROR: Parameter 4 was incorrect on entry to DGELSD.\n"
     ]
    },
    {
     "name": "stderr",
     "output_type": "stream",
     "text": [
      " 86%|████████▌ | 84693/98224 [38:08<06:40, 33.75it/s]"
     ]
    },
    {
     "name": "stdout",
     "output_type": "stream",
     "text": [
      "\n",
      "Intel MKL ERROR: Parameter 4 was incorrect on entry to DGELSD.\n"
     ]
    },
    {
     "name": "stderr",
     "output_type": "stream",
     "text": [
      " 86%|████████▋ | 84806/98224 [38:11<07:18, 30.58it/s]"
     ]
    },
    {
     "name": "stdout",
     "output_type": "stream",
     "text": [
      "\n",
      "Intel MKL ERROR: Parameter 4 was incorrect on entry to DGELSD.\n"
     ]
    },
    {
     "name": "stderr",
     "output_type": "stream",
     "text": [
      " 86%|████████▋ | 84850/98224 [38:13<08:12, 27.14it/s]"
     ]
    },
    {
     "name": "stdout",
     "output_type": "stream",
     "text": [
      "\n",
      "Intel MKL ERROR: Parameter 4 was incorrect on entry to DGELSD.\n"
     ]
    },
    {
     "name": "stderr",
     "output_type": "stream",
     "text": [
      " 87%|████████▋ | 84975/98224 [38:17<06:44, 32.78it/s]"
     ]
    },
    {
     "name": "stdout",
     "output_type": "stream",
     "text": [
      "\n",
      "Intel MKL ERROR: Parameter 4 was incorrect on entry to DGELSD.\n"
     ]
    },
    {
     "name": "stderr",
     "output_type": "stream",
     "text": [
      " 87%|████████▋ | 84996/98224 [38:17<06:30, 33.88it/s]"
     ]
    },
    {
     "name": "stdout",
     "output_type": "stream",
     "text": [
      "\n",
      "Intel MKL ERROR: Parameter 4 was incorrect on entry to DGELSD.\n"
     ]
    },
    {
     "name": "stderr",
     "output_type": "stream",
     "text": [
      " 87%|████████▋ | 85289/98224 [38:27<07:32, 28.58it/s]"
     ]
    },
    {
     "name": "stdout",
     "output_type": "stream",
     "text": [
      "\n",
      "Intel MKL ERROR: Parameter 4 was incorrect on entry to DGELSD.\n"
     ]
    },
    {
     "name": "stderr",
     "output_type": "stream",
     "text": [
      " 88%|████████▊ | 86483/98224 [39:09<06:02, 32.42it/s]"
     ]
    },
    {
     "name": "stdout",
     "output_type": "stream",
     "text": [
      "\n",
      "Intel MKL ERROR: Parameter 4 was incorrect on entry to DGELSD.\n"
     ]
    },
    {
     "name": "stderr",
     "output_type": "stream",
     "text": [
      " 89%|████████▊ | 87079/98224 [39:30<07:05, 26.21it/s]"
     ]
    },
    {
     "name": "stdout",
     "output_type": "stream",
     "text": [
      "\n",
      "Intel MKL ERROR: Parameter 4 was incorrect on entry to DGELSD.\n"
     ]
    },
    {
     "name": "stderr",
     "output_type": "stream",
     "text": [
      " 89%|████████▉ | 87553/98224 [39:47<06:27, 27.53it/s]"
     ]
    },
    {
     "name": "stdout",
     "output_type": "stream",
     "text": [
      "\n",
      "Intel MKL ERROR: Parameter 4 was incorrect on entry to DGELSD.\n"
     ]
    },
    {
     "name": "stderr",
     "output_type": "stream",
     "text": [
      " 90%|█████████ | 88434/98224 [40:20<05:17, 30.84it/s]"
     ]
    },
    {
     "name": "stdout",
     "output_type": "stream",
     "text": [
      "\n",
      "Intel MKL ERROR: Parameter 4 was incorrect on entry to DGELSD.\n"
     ]
    },
    {
     "name": "stderr",
     "output_type": "stream",
     "text": [
      " 90%|█████████ | 88579/98224 [40:24<06:02, 26.62it/s]"
     ]
    },
    {
     "name": "stdout",
     "output_type": "stream",
     "text": [
      "\n",
      "Intel MKL ERROR: Parameter 4 was incorrect on entry to DGELSD.\n"
     ]
    },
    {
     "name": "stderr",
     "output_type": "stream",
     "text": [
      " 90%|█████████ | 88634/98224 [40:26<05:31, 28.93it/s]"
     ]
    },
    {
     "name": "stdout",
     "output_type": "stream",
     "text": [
      "\n",
      "Intel MKL ERROR: Parameter 4 was incorrect on entry to DGELSD.\n"
     ]
    },
    {
     "name": "stderr",
     "output_type": "stream",
     "text": [
      " 91%|█████████ | 89057/98224 [40:43<05:42, 26.75it/s]"
     ]
    },
    {
     "name": "stdout",
     "output_type": "stream",
     "text": [
      "\n",
      "Intel MKL ERROR: Parameter 4 was incorrect on entry to DGELSD.\n"
     ]
    },
    {
     "name": "stderr",
     "output_type": "stream",
     "text": [
      " 91%|█████████ | 89414/98224 [40:58<05:30, 26.65it/s]"
     ]
    },
    {
     "name": "stdout",
     "output_type": "stream",
     "text": [
      "\n",
      "Intel MKL ERROR: Parameter 4 was incorrect on entry to DGELSD.\n"
     ]
    },
    {
     "name": "stderr",
     "output_type": "stream",
     "text": [
      " 91%|█████████ | 89480/98224 [41:00<05:29, 26.53it/s]"
     ]
    },
    {
     "name": "stdout",
     "output_type": "stream",
     "text": [
      "\n",
      "Intel MKL ERROR: Parameter 4 was incorrect on entry to DGELSD.\n"
     ]
    },
    {
     "name": "stderr",
     "output_type": "stream",
     "text": [
      " 91%|█████████ | 89494/98224 [41:01<05:33, 26.14it/s]"
     ]
    },
    {
     "name": "stdout",
     "output_type": "stream",
     "text": [
      "\n",
      "Intel MKL ERROR: Parameter 4 was incorrect on entry to DGELSD.\n"
     ]
    },
    {
     "name": "stderr",
     "output_type": "stream",
     "text": [
      " 91%|█████████ | 89628/98224 [41:06<06:05, 23.50it/s]"
     ]
    },
    {
     "name": "stdout",
     "output_type": "stream",
     "text": [
      "\n",
      "Intel MKL ERROR: Parameter 4 was incorrect on entry to DGELSD.\n"
     ]
    },
    {
     "name": "stderr",
     "output_type": "stream",
     "text": [
      " 91%|█████████▏| 89685/98224 [41:09<05:14, 27.19it/s]"
     ]
    },
    {
     "name": "stdout",
     "output_type": "stream",
     "text": [
      "\n",
      "Intel MKL ERROR: Parameter 4 was incorrect on entry to DGELSD.\n"
     ]
    },
    {
     "name": "stderr",
     "output_type": "stream",
     "text": [
      " 91%|█████████▏| 89791/98224 [41:13<05:53, 23.83it/s]"
     ]
    },
    {
     "name": "stdout",
     "output_type": "stream",
     "text": [
      "\n",
      "Intel MKL ERROR: Parameter 4 was incorrect on entry to DGELSD.\n"
     ]
    },
    {
     "name": "stderr",
     "output_type": "stream",
     "text": [
      " 91%|█████████▏| 89847/98224 [41:15<05:17, 26.36it/s]"
     ]
    },
    {
     "name": "stdout",
     "output_type": "stream",
     "text": [
      "\n",
      "Intel MKL ERROR: Parameter 4 was incorrect on entry to DGELSD.\n"
     ]
    },
    {
     "name": "stderr",
     "output_type": "stream",
     "text": [
      " 92%|█████████▏| 89935/98224 [41:18<05:06, 27.06it/s]"
     ]
    },
    {
     "name": "stdout",
     "output_type": "stream",
     "text": [
      "\n",
      "Intel MKL ERROR: Parameter 4 was incorrect on entry to DGELSD.\n"
     ]
    },
    {
     "name": "stderr",
     "output_type": "stream",
     "text": [
      " 92%|█████████▏| 90107/98224 [41:25<04:41, 28.85it/s]"
     ]
    },
    {
     "name": "stdout",
     "output_type": "stream",
     "text": [
      "\n",
      "Intel MKL ERROR: Parameter 4 was incorrect on entry to DGELSD.\n"
     ]
    },
    {
     "name": "stderr",
     "output_type": "stream",
     "text": [
      " 92%|█████████▏| 90159/98224 [41:27<04:25, 30.42it/s]"
     ]
    },
    {
     "name": "stdout",
     "output_type": "stream",
     "text": [
      "\n",
      "Intel MKL ERROR: Parameter 4 was incorrect on entry to DGELSD.\n"
     ]
    },
    {
     "name": "stderr",
     "output_type": "stream",
     "text": [
      " 92%|█████████▏| 90199/98224 [41:28<04:39, 28.70it/s]"
     ]
    },
    {
     "name": "stdout",
     "output_type": "stream",
     "text": [
      "\n",
      "Intel MKL ERROR: Parameter 4 was incorrect on entry to DGELSD.\n"
     ]
    },
    {
     "name": "stderr",
     "output_type": "stream",
     "text": [
      " 92%|█████████▏| 90422/98224 [41:36<04:35, 28.29it/s]"
     ]
    },
    {
     "name": "stdout",
     "output_type": "stream",
     "text": [
      "\n",
      "Intel MKL ERROR: Parameter 4 was incorrect on entry to DGELSD.\n"
     ]
    },
    {
     "name": "stderr",
     "output_type": "stream",
     "text": [
      " 92%|█████████▏| 90475/98224 [41:38<04:46, 27.05it/s]"
     ]
    },
    {
     "name": "stdout",
     "output_type": "stream",
     "text": [
      "\n",
      "Intel MKL ERROR: Parameter 4 was incorrect on entry to DGELSD.\n"
     ]
    },
    {
     "name": "stderr",
     "output_type": "stream",
     "text": [
      " 92%|█████████▏| 90721/98224 [41:47<03:50, 32.56it/s]"
     ]
    },
    {
     "name": "stdout",
     "output_type": "stream",
     "text": [
      "\n",
      "Intel MKL ERROR: Parameter 4 was incorrect on entry to DGELSD.\n"
     ]
    },
    {
     "name": "stderr",
     "output_type": "stream",
     "text": [
      " 92%|█████████▏| 90738/98224 [41:48<03:49, 32.59it/s]"
     ]
    },
    {
     "name": "stdout",
     "output_type": "stream",
     "text": [
      "\n",
      "Intel MKL ERROR: Parameter 4 was incorrect on entry to DGELSD.\n"
     ]
    },
    {
     "name": "stderr",
     "output_type": "stream",
     "text": [
      " 92%|█████████▏| 90813/98224 [41:50<03:52, 31.91it/s]"
     ]
    },
    {
     "name": "stdout",
     "output_type": "stream",
     "text": [
      "\n",
      "Intel MKL ERROR: Parameter 4 was incorrect on entry to DGELSD.\n"
     ]
    },
    {
     "name": "stderr",
     "output_type": "stream",
     "text": [
      " 92%|█████████▏| 90821/98224 [41:50<03:39, 33.77it/s]"
     ]
    },
    {
     "name": "stdout",
     "output_type": "stream",
     "text": [
      "\n",
      "Intel MKL ERROR: Parameter 4 was incorrect on entry to DGELSD.\n"
     ]
    },
    {
     "name": "stderr",
     "output_type": "stream",
     "text": [
      " 93%|█████████▎| 91054/98224 [41:58<03:48, 31.33it/s]"
     ]
    },
    {
     "name": "stdout",
     "output_type": "stream",
     "text": [
      "\n",
      "Intel MKL ERROR: Parameter 4 was incorrect on entry to DGELSD.\n"
     ]
    },
    {
     "name": "stderr",
     "output_type": "stream",
     "text": [
      " 93%|█████████▎| 91237/98224 [42:04<03:52, 30.04it/s]"
     ]
    },
    {
     "name": "stdout",
     "output_type": "stream",
     "text": [
      "\n",
      "Intel MKL ERROR: Parameter 4 was incorrect on entry to DGELSD.\n"
     ]
    },
    {
     "name": "stderr",
     "output_type": "stream",
     "text": [
      " 93%|█████████▎| 91446/98224 [42:10<03:19, 33.98it/s]"
     ]
    },
    {
     "name": "stdout",
     "output_type": "stream",
     "text": [
      "\n",
      "Intel MKL ERROR: Parameter 4 was incorrect on entry to DGELSD.\n"
     ]
    },
    {
     "name": "stderr",
     "output_type": "stream",
     "text": [
      " 93%|█████████▎| 91510/98224 [42:12<03:25, 32.63it/s]"
     ]
    },
    {
     "name": "stdout",
     "output_type": "stream",
     "text": [
      "\n",
      "Intel MKL ERROR: Parameter 4 was incorrect on entry to DGELSD.\n"
     ]
    },
    {
     "name": "stderr",
     "output_type": "stream",
     "text": [
      " 93%|█████████▎| 91613/98224 [42:16<03:26, 31.98it/s]"
     ]
    },
    {
     "name": "stdout",
     "output_type": "stream",
     "text": [
      "\n",
      "Intel MKL ERROR: Parameter 4 was incorrect on entry to DGELSD.\n"
     ]
    },
    {
     "name": "stderr",
     "output_type": "stream",
     "text": [
      " 94%|█████████▎| 91882/98224 [42:25<02:51, 37.01it/s]"
     ]
    },
    {
     "name": "stdout",
     "output_type": "stream",
     "text": [
      "\n",
      "Intel MKL ERROR: Parameter 4 was incorrect on entry to DGELSD.\n"
     ]
    },
    {
     "name": "stderr",
     "output_type": "stream",
     "text": [
      " 94%|█████████▍| 92106/98224 [42:32<02:49, 36.04it/s]"
     ]
    },
    {
     "name": "stdout",
     "output_type": "stream",
     "text": [
      "\n",
      "Intel MKL ERROR: Parameter 4 was incorrect on entry to DGELSD.\n"
     ]
    },
    {
     "name": "stderr",
     "output_type": "stream",
     "text": [
      " 94%|█████████▍| 92142/98224 [42:33<02:25, 41.79it/s]"
     ]
    },
    {
     "name": "stdout",
     "output_type": "stream",
     "text": [
      "\n",
      "Intel MKL ERROR: Parameter 4 was incorrect on entry to DGELSD.\n"
     ]
    },
    {
     "name": "stderr",
     "output_type": "stream",
     "text": [
      " 94%|█████████▍| 92541/98224 [42:45<03:13, 29.29it/s]"
     ]
    },
    {
     "name": "stdout",
     "output_type": "stream",
     "text": [
      "\n",
      "Intel MKL ERROR: Parameter 4 was incorrect on entry to DGELSD.\n"
     ]
    },
    {
     "name": "stderr",
     "output_type": "stream",
     "text": [
      " 94%|█████████▍| 92554/98224 [42:46<02:48, 33.55it/s]"
     ]
    },
    {
     "name": "stdout",
     "output_type": "stream",
     "text": [
      "\n",
      "Intel MKL ERROR: Parameter 4 was incorrect on entry to DGELSD.\n"
     ]
    },
    {
     "name": "stderr",
     "output_type": "stream",
     "text": [
      " 94%|█████████▍| 92685/98224 [42:50<02:44, 33.66it/s]"
     ]
    },
    {
     "name": "stdout",
     "output_type": "stream",
     "text": [
      "\n",
      "Intel MKL ERROR: Parameter 4 was incorrect on entry to DGELSD.\n"
     ]
    },
    {
     "name": "stderr",
     "output_type": "stream",
     "text": [
      " 95%|█████████▍| 92849/98224 [42:55<02:37, 34.08it/s]"
     ]
    },
    {
     "name": "stdout",
     "output_type": "stream",
     "text": [
      "\n",
      "Intel MKL ERROR: Parameter 4 was incorrect on entry to DGELSD.\n"
     ]
    },
    {
     "name": "stderr",
     "output_type": "stream",
     "text": [
      " 95%|█████████▍| 92905/98224 [42:56<02:43, 32.53it/s]"
     ]
    },
    {
     "name": "stdout",
     "output_type": "stream",
     "text": [
      "\n",
      "Intel MKL ERROR: Parameter 4 was incorrect on entry to DGELSD.\n"
     ]
    },
    {
     "name": "stderr",
     "output_type": "stream",
     "text": [
      " 95%|█████████▍| 93193/98224 [43:05<02:20, 35.69it/s]"
     ]
    },
    {
     "name": "stdout",
     "output_type": "stream",
     "text": [
      "\n",
      "Intel MKL ERROR: Parameter 4 was incorrect on entry to DGELSD.\n"
     ]
    },
    {
     "name": "stderr",
     "output_type": "stream",
     "text": [
      " 95%|█████████▌| 93380/98224 [43:10<02:03, 39.10it/s]"
     ]
    },
    {
     "name": "stdout",
     "output_type": "stream",
     "text": [
      "\n",
      "Intel MKL ERROR: Parameter 4 was incorrect on entry to DGELSD.\n"
     ]
    },
    {
     "name": "stderr",
     "output_type": "stream",
     "text": [
      " 95%|█████████▌| 93450/98224 [43:12<02:06, 37.64it/s]"
     ]
    },
    {
     "name": "stdout",
     "output_type": "stream",
     "text": [
      "\n",
      "Intel MKL ERROR: Parameter 4 was incorrect on entry to DGELSD.\n"
     ]
    },
    {
     "name": "stderr",
     "output_type": "stream",
     "text": [
      " 95%|█████████▌| 93476/98224 [43:13<02:01, 38.99it/s]"
     ]
    },
    {
     "name": "stdout",
     "output_type": "stream",
     "text": [
      "\n",
      "Intel MKL ERROR: Parameter 4 was incorrect on entry to DGELSD.\n"
     ]
    },
    {
     "name": "stderr",
     "output_type": "stream",
     "text": [
      " 96%|█████████▌| 94147/98224 [43:32<01:58, 34.31it/s]"
     ]
    },
    {
     "name": "stdout",
     "output_type": "stream",
     "text": [
      "\n",
      "Intel MKL ERROR: Parameter 4 was incorrect on entry to DGELSD.\n"
     ]
    },
    {
     "name": "stderr",
     "output_type": "stream",
     "text": [
      " 96%|█████████▌| 94294/98224 [43:37<01:53, 34.60it/s]"
     ]
    },
    {
     "name": "stdout",
     "output_type": "stream",
     "text": [
      "\n",
      "Intel MKL ERROR: Parameter 4 was incorrect on entry to DGELSD.\n"
     ]
    },
    {
     "name": "stderr",
     "output_type": "stream",
     "text": [
      " 96%|█████████▌| 94303/98224 [43:37<01:55, 34.04it/s]"
     ]
    },
    {
     "name": "stdout",
     "output_type": "stream",
     "text": [
      "\n",
      "Intel MKL ERROR: Parameter 4 was incorrect on entry to DGELSD.\n"
     ]
    },
    {
     "name": "stderr",
     "output_type": "stream",
     "text": [
      " 96%|█████████▌| 94320/98224 [43:38<01:51, 34.89it/s]"
     ]
    },
    {
     "name": "stdout",
     "output_type": "stream",
     "text": [
      "\n",
      "Intel MKL ERROR: Parameter 4 was incorrect on entry to DGELSD.\n"
     ]
    },
    {
     "name": "stderr",
     "output_type": "stream",
     "text": [
      " 97%|█████████▋| 94903/98224 [43:54<01:31, 36.15it/s]"
     ]
    },
    {
     "name": "stdout",
     "output_type": "stream",
     "text": [
      "\n",
      "Intel MKL ERROR: Parameter 4 was incorrect on entry to DGELSD.\n"
     ]
    },
    {
     "name": "stderr",
     "output_type": "stream",
     "text": [
      " 97%|█████████▋| 95097/98224 [44:00<01:29, 35.00it/s]"
     ]
    },
    {
     "name": "stdout",
     "output_type": "stream",
     "text": [
      "\n",
      "Intel MKL ERROR: Parameter 4 was incorrect on entry to DGELSD.\n"
     ]
    },
    {
     "name": "stderr",
     "output_type": "stream",
     "text": [
      " 97%|█████████▋| 95134/98224 [44:01<01:26, 35.54it/s]"
     ]
    },
    {
     "name": "stdout",
     "output_type": "stream",
     "text": [
      "\n",
      "Intel MKL ERROR: Parameter 4 was incorrect on entry to DGELSD.\n",
      "\n",
      "Intel MKL ERROR: Parameter 4 was incorrect on entry to DGELSD.\n"
     ]
    },
    {
     "name": "stderr",
     "output_type": "stream",
     "text": [
      " 97%|█████████▋| 95218/98224 [44:04<01:53, 26.39it/s]"
     ]
    },
    {
     "name": "stdout",
     "output_type": "stream",
     "text": [
      "\n",
      "Intel MKL ERROR: Parameter 4 was incorrect on entry to DGELSD.\n"
     ]
    },
    {
     "name": "stderr",
     "output_type": "stream",
     "text": [
      " 97%|█████████▋| 95375/98224 [44:09<01:24, 33.70it/s]"
     ]
    },
    {
     "name": "stdout",
     "output_type": "stream",
     "text": [
      "\n",
      "Intel MKL ERROR: Parameter 4 was incorrect on entry to DGELSD.\n"
     ]
    },
    {
     "name": "stderr",
     "output_type": "stream",
     "text": [
      " 97%|█████████▋| 95509/98224 [44:13<01:19, 33.96it/s]"
     ]
    },
    {
     "name": "stdout",
     "output_type": "stream",
     "text": [
      "\n",
      "Intel MKL ERROR: Parameter 4 was incorrect on entry to DGELSD.\n"
     ]
    },
    {
     "name": "stderr",
     "output_type": "stream",
     "text": [
      " 98%|█████████▊| 95775/98224 [44:20<00:50, 48.76it/s]"
     ]
    },
    {
     "name": "stdout",
     "output_type": "stream",
     "text": [
      "\n",
      "Intel MKL ERROR: Parameter 4 was incorrect on entry to DGELSD.\n"
     ]
    },
    {
     "name": "stderr",
     "output_type": "stream",
     "text": [
      " 98%|█████████▊| 95836/98224 [44:22<00:57, 41.75it/s]"
     ]
    },
    {
     "name": "stdout",
     "output_type": "stream",
     "text": [
      "\n",
      "Intel MKL ERROR: Parameter 4 was incorrect on entry to DGELSD.\n"
     ]
    },
    {
     "name": "stderr",
     "output_type": "stream",
     "text": [
      " 98%|█████████▊| 96175/98224 [44:31<00:59, 34.45it/s]"
     ]
    },
    {
     "name": "stdout",
     "output_type": "stream",
     "text": [
      "\n",
      "Intel MKL ERROR: Parameter 4 was incorrect on entry to DGELSD.\n"
     ]
    },
    {
     "name": "stderr",
     "output_type": "stream",
     "text": [
      " 98%|█████████▊| 96658/98224 [44:44<00:32, 48.40it/s]"
     ]
    },
    {
     "name": "stdout",
     "output_type": "stream",
     "text": [
      "\n",
      "Intel MKL ERROR: Parameter 4 was incorrect on entry to DGELSD.\n"
     ]
    },
    {
     "name": "stderr",
     "output_type": "stream",
     "text": [
      " 98%|█████████▊| 96688/98224 [44:45<00:36, 42.60it/s]"
     ]
    },
    {
     "name": "stdout",
     "output_type": "stream",
     "text": [
      "\n",
      "Intel MKL ERROR: Parameter 4 was incorrect on entry to DGELSD.\n"
     ]
    },
    {
     "name": "stderr",
     "output_type": "stream",
     "text": [
      " 99%|█████████▊| 96751/98224 [44:47<00:41, 35.34it/s]"
     ]
    },
    {
     "name": "stdout",
     "output_type": "stream",
     "text": [
      "\n",
      "Intel MKL ERROR: Parameter 4 was incorrect on entry to DGELSD.\n"
     ]
    },
    {
     "name": "stderr",
     "output_type": "stream",
     "text": [
      " 99%|█████████▊| 96848/98224 [44:50<00:34, 39.79it/s]"
     ]
    },
    {
     "name": "stdout",
     "output_type": "stream",
     "text": [
      "\n",
      "Intel MKL ERROR: Parameter 4 was incorrect on entry to DGELSD.\n"
     ]
    },
    {
     "name": "stderr",
     "output_type": "stream",
     "text": [
      " 99%|█████████▊| 96954/98224 [44:52<00:27, 46.82it/s]"
     ]
    },
    {
     "name": "stdout",
     "output_type": "stream",
     "text": [
      "\n",
      "Intel MKL ERROR: Parameter 4 was incorrect on entry to DGELSD.\n"
     ]
    },
    {
     "name": "stderr",
     "output_type": "stream",
     "text": [
      " 99%|█████████▉| 97191/98224 [44:58<00:29, 35.18it/s]"
     ]
    },
    {
     "name": "stdout",
     "output_type": "stream",
     "text": [
      "\n",
      "Intel MKL ERROR: Parameter 4 was incorrect on entry to DGELSD.\n"
     ]
    },
    {
     "name": "stderr",
     "output_type": "stream",
     "text": [
      " 99%|█████████▉| 97208/98224 [44:59<00:30, 33.43it/s]"
     ]
    },
    {
     "name": "stdout",
     "output_type": "stream",
     "text": [
      "\n",
      "Intel MKL ERROR: Parameter 4 was incorrect on entry to DGELSD.\n"
     ]
    },
    {
     "name": "stderr",
     "output_type": "stream",
     "text": [
      " 99%|█████████▉| 97224/98224 [44:59<00:31, 32.26it/s]"
     ]
    },
    {
     "name": "stdout",
     "output_type": "stream",
     "text": [
      "\n",
      "Intel MKL ERROR: Parameter 4 was incorrect on entry to DGELSD.\n"
     ]
    },
    {
     "name": "stderr",
     "output_type": "stream",
     "text": [
      " 99%|█████████▉| 97511/98224 [45:07<00:19, 35.86it/s]"
     ]
    },
    {
     "name": "stdout",
     "output_type": "stream",
     "text": [
      "\n",
      "Intel MKL ERROR: Parameter 4 was incorrect on entry to DGELSD.\n"
     ]
    },
    {
     "name": "stderr",
     "output_type": "stream",
     "text": [
      " 99%|█████████▉| 97656/98224 [45:12<00:14, 38.53it/s]"
     ]
    },
    {
     "name": "stdout",
     "output_type": "stream",
     "text": [
      "\n",
      "Intel MKL ERROR: Parameter 4 was incorrect on entry to DGELSD.\n"
     ]
    },
    {
     "name": "stderr",
     "output_type": "stream",
     "text": [
      "100%|█████████▉| 97960/98224 [45:21<00:07, 33.14it/s]"
     ]
    },
    {
     "name": "stdout",
     "output_type": "stream",
     "text": [
      "\n",
      "Intel MKL ERROR: Parameter 4 was incorrect on entry to DGELSD.\n"
     ]
    },
    {
     "name": "stderr",
     "output_type": "stream",
     "text": [
      "100%|█████████▉| 97973/98224 [45:22<00:07, 34.88it/s]"
     ]
    },
    {
     "name": "stdout",
     "output_type": "stream",
     "text": [
      "\n",
      "Intel MKL ERROR: Parameter 4 was incorrect on entry to DGELSD.\n"
     ]
    },
    {
     "name": "stderr",
     "output_type": "stream",
     "text": [
      "100%|█████████▉| 98100/98224 [45:25<00:03, 36.28it/s]"
     ]
    },
    {
     "name": "stdout",
     "output_type": "stream",
     "text": [
      "\n",
      "Intel MKL ERROR: Parameter 4 was incorrect on entry to DGELSD.\n"
     ]
    },
    {
     "name": "stderr",
     "output_type": "stream",
     "text": [
      "100%|█████████▉| 98180/98224 [45:28<00:01, 33.70it/s]"
     ]
    },
    {
     "name": "stdout",
     "output_type": "stream",
     "text": [
      "\n",
      "Intel MKL ERROR: Parameter 4 was incorrect on entry to DGELSD.\n"
     ]
    },
    {
     "name": "stderr",
     "output_type": "stream",
     "text": [
      "100%|██████████| 98224/98224 [45:29<00:00, 35.99it/s]\n"
     ]
    }
   ],
   "source": [
    "x, x_err, y, y_err = read_h5(hf)"
   ]
  },
  {
   "cell_type": "code",
   "execution_count": 7,
   "metadata": {},
   "outputs": [],
   "source": [
    "x_arr = np.array(x, dtype=\"float32\")\n",
    "y_arr = np.array(y, dtype=\"float32\")\n",
    "xerr_arr = np.array(x_err, dtype=\"float32\")\n",
    "yerr_arr =  np.array(y_err, dtype=\"float32\")"
   ]
  },
  {
   "cell_type": "code",
   "execution_count": 8,
   "metadata": {},
   "outputs": [],
   "source": [
    "yerr_arr = np.nan_to_num(yerr_arr, nan = 1000)"
   ]
  },
  {
   "cell_type": "code",
   "execution_count": 10,
   "metadata": {},
   "outputs": [
    {
     "name": "stdout",
     "output_type": "stream",
     "text": [
      "0 0 444 0\n"
     ]
    }
   ],
   "source": [
    "print(\n",
    "np.count_nonzero(np.isnan(x_arr)),\n",
    "np.count_nonzero(np.isnan(xerr_arr)),\n",
    "np.count_nonzero(np.isnan(y_arr)),\n",
    "np.count_nonzero(np.isnan(yerr_arr))\n",
    ")"
   ]
  },
  {
   "cell_type": "code",
   "execution_count": 11,
   "metadata": {},
   "outputs": [],
   "source": [
    "hf.close()"
   ]
  },
  {
   "cell_type": "code",
   "execution_count": 12,
   "metadata": {},
   "outputs": [],
   "source": [
    "bcnncensored_net = ApogeeBCNNCensored()"
   ]
  },
  {
   "cell_type": "code",
   "execution_count": 13,
   "metadata": {},
   "outputs": [],
   "source": [
    "bcnncensored_net.targetname = ['teff', 'logg', 'C', 'CI', 'N', 'O', 'Na', 'Mg', 'Al', 'Si', 'P', 'S', 'K',\n",
    "                               'Ca', 'Ti', 'TiII', 'V', 'Cr', 'Mn', 'Fe', 'Co', 'Ni']"
   ]
  },
  {
   "cell_type": "code",
   "execution_count": 14,
   "metadata": {},
   "outputs": [
    {
     "name": "stdout",
     "output_type": "stream",
     "text": [
      "Number of Training Data: 87789, Number of Validation Data: 9754\n",
      "====Message from Normalizer====\n",
      "You selected mode: 3\n",
      "Featurewise Center: {'input': True, 'input_err': True, 'labels_err': True}\n",
      "Datawise Center: {'input': False, 'input_err': False, 'labels_err': False} \n",
      "Featurewise std Center: {'input': False, 'input_err': False, 'labels_err': False}\n",
      "Datawise std Center: {'input': False, 'input_err': False, 'labels_err': False} \n",
      "====Message ends====\n",
      "====Message from Normalizer====\n",
      "You selected mode: 3\n",
      "Featurewise Center: {'input': True, 'input_err': True, 'labels_err': True}\n",
      "Datawise Center: {'input': False, 'input_err': False, 'labels_err': False} \n",
      "Featurewise std Center: {'input': False, 'input_err': False, 'labels_err': False}\n",
      "Datawise std Center: {'input': False, 'input_err': False, 'labels_err': False} \n",
      "====Message ends====\n",
      "====Message from Normalizer====\n",
      "You selected mode: 3\n",
      "Featurewise Center: {'input': True, 'input_err': True, 'labels_err': True}\n",
      "Datawise Center: {'input': False, 'input_err': False, 'labels_err': False} \n",
      "Featurewise std Center: {'input': False, 'input_err': False, 'labels_err': False}\n",
      "Datawise std Center: {'input': False, 'input_err': False, 'labels_err': False} \n",
      "====Message ends====\n",
      "====Message from Normalizer====\n",
      "You selected mode: 2\n",
      "Featurewise Center: {'output': True, 'variance_output': True}\n",
      "Datawise Center: {'output': False, 'variance_output': False} \n",
      "Featurewise std Center: {'output': True, 'variance_output': True}\n",
      "Datawise std Center: {'output': False, 'variance_output': False} \n",
      "====Message ends====\n",
      "====Message from Normalizer====\n",
      "You selected mode: 2\n",
      "Featurewise Center: {'output': True, 'variance_output': True}\n",
      "Datawise Center: {'output': False, 'variance_output': False} \n",
      "Featurewise std Center: {'output': True, 'variance_output': True}\n",
      "Datawise std Center: {'output': False, 'variance_output': False} \n",
      "====Message ends====\n"
     ]
    },
    {
     "name": "stderr",
     "output_type": "stream",
     "text": [
      "2023-07-05 17:17:18.054567: I tensorflow/core/common_runtime/gpu/gpu_device.cc:1635] Created device /job:localhost/replica:0/task:0/device:GPU:0 with 11385 MB memory:  -> device: 0, name: TITAN Xp, pci bus id: 0000:04:00.0, compute capability: 6.1\n",
      "/home/petershi/miniconda3/envs/mainenv/lib/python3.10/site-packages/keras/initializers/initializers_v2.py:120: UserWarning: The initializer RandomNormal is unseeded and being called multiple times, which will return identical values  each time (even if the initializer is unseeded). Please update your code to provide a seed to the initializer, or avoid using the same initalizer instance more than once.\n"
     ]
    },
    {
     "name": "stdout",
     "output_type": "stream",
     "text": [
      "Epoch 1/50\n"
     ]
    },
    {
     "name": "stderr",
     "output_type": "stream",
     "text": [
      "2023-07-05 17:17:31.789609: I tensorflow/core/common_runtime/executor.cc:1197] [/device:CPU:0] (DEBUG INFO) Executor start aborting (this does not indicate an error and you can ignore this message): INVALID_ARGUMENT: You must feed a value for placeholder tensor 'Placeholder/_0' with dtype int32\n",
      "\t [[{{node Placeholder/_0}}]]\n",
      "/home/petershi/miniconda3/envs/mainenv/lib/python3.10/site-packages/keras/engine/functional.py:638: UserWarning: Input dict contained keys ['input_err'] which did not match any model input. They will be ignored by the model.\n",
      "2023-07-05 17:18:07.996399: I tensorflow/compiler/xla/stream_executor/cuda/cuda_dnn.cc:424] Loaded cuDNN version 8600\n",
      "2023-07-05 17:18:20.839303: I tensorflow/compiler/xla/service/service.cc:169] XLA service 0x7f50a8012cf0 initialized for platform CUDA (this does not guarantee that XLA will be used). Devices:\n",
      "2023-07-05 17:18:20.839378: I tensorflow/compiler/xla/service/service.cc:177]   StreamExecutor device (0): TITAN Xp, Compute Capability 6.1\n",
      "2023-07-05 17:18:20.876141: I tensorflow/compiler/mlir/tensorflow/utils/dump_mlir_util.cc:269] disabling MLIR crash reproducer, set env var `MLIR_CRASH_REPRODUCER_DIRECTORY` to enable.\n",
      "2023-07-05 17:18:24.597568: I ./tensorflow/compiler/jit/device_compiler.h:180] Compiled cluster using XLA!  This line is logged at most once for the lifetime of the process.\n",
      "2023-07-05 17:21:33.215527: I tensorflow/core/common_runtime/executor.cc:1197] [/device:CPU:0] (DEBUG INFO) Executor start aborting (this does not indicate an error and you can ignore this message): INVALID_ARGUMENT: You must feed a value for placeholder tensor 'Placeholder/_0' with dtype int32\n",
      "\t [[{{node Placeholder/_0}}]]\n"
     ]
    },
    {
     "name": "stdout",
     "output_type": "stream",
     "text": [
      "1371/1371 - 250s - loss: -3.7242e-01 - output_loss: -3.7246e-01 - output_mean_absolute_error: 0.3551 - output_mean_error: -4.1039e-02 - variance_output_mean_absolute_error: 2.0157 - variance_output_mean_error: 1.6831 - val_loss: -6.8691e-01 - val_output_loss: -6.8696e-01 - val_output_mean_absolute_error: 0.2629 - val_output_mean_error: -1.5148e-02 - val_variance_output_mean_absolute_error: 2.5890 - val_variance_output_mean_error: 2.3639 - lr: 5.0000e-04 - 250s/epoch - 183ms/step\n",
      "Epoch 2/50\n",
      "1371/1371 - 75s - loss: -7.8642e-01 - output_loss: -7.8648e-01 - output_mean_absolute_error: 0.2401 - output_mean_error: -1.7008e-02 - variance_output_mean_absolute_error: 2.8048 - variance_output_mean_error: 2.6184 - val_loss: -8.4970e-01 - val_output_loss: -8.4976e-01 - val_output_mean_absolute_error: 0.2303 - val_output_mean_error: -3.0791e-02 - val_variance_output_mean_absolute_error: 2.9848 - val_variance_output_mean_error: 2.7912 - lr: 5.0000e-04 - 75s/epoch - 54ms/step\n",
      "Epoch 3/50\n",
      "1371/1371 - 74s - loss: -9.0986e-01 - output_loss: -9.0992e-01 - output_mean_absolute_error: 0.2204 - output_mean_error: -6.9802e-03 - variance_output_mean_absolute_error: 3.0969 - variance_output_mean_error: 2.9305 - val_loss: -9.5679e-01 - val_output_loss: -9.5685e-01 - val_output_mean_absolute_error: 0.2143 - val_output_mean_error: -1.2420e-02 - val_variance_output_mean_absolute_error: 3.2264 - val_variance_output_mean_error: 3.0377 - lr: 5.0000e-04 - 74s/epoch - 54ms/step\n",
      "Epoch 4/50\n",
      "1371/1371 - 73s - loss: -9.8986e-01 - output_loss: -9.8993e-01 - output_mean_absolute_error: 0.2098 - output_mean_error: -2.8838e-03 - variance_output_mean_absolute_error: 3.3020 - variance_output_mean_error: 3.1414 - val_loss: -1.0126e+00 - val_output_loss: -1.0127e+00 - val_output_mean_absolute_error: 0.2076 - val_output_mean_error: -4.2871e-03 - val_variance_output_mean_absolute_error: 3.3438 - val_variance_output_mean_error: 3.1566 - lr: 5.0000e-04 - 73s/epoch - 54ms/step\n",
      "Epoch 5/50\n",
      "1371/1371 - 74s - loss: -1.0483e+00 - output_loss: -1.0483e+00 - output_mean_absolute_error: 0.2031 - output_mean_error: -1.7283e-03 - variance_output_mean_absolute_error: 3.4574 - variance_output_mean_error: 3.2978 - val_loss: -1.0751e+00 - val_output_loss: -1.0752e+00 - val_output_mean_absolute_error: 0.2019 - val_output_mean_error: -1.3499e-03 - val_variance_output_mean_absolute_error: 3.5228 - val_variance_output_mean_error: 3.3392 - lr: 5.0000e-04 - 74s/epoch - 54ms/step\n",
      "Epoch 6/50\n",
      "1371/1371 - 73s - loss: -1.0929e+00 - output_loss: -1.0930e+00 - output_mean_absolute_error: 0.1980 - output_mean_error: -2.2058e-03 - variance_output_mean_absolute_error: 3.5803 - variance_output_mean_error: 3.4187 - val_loss: -1.1102e+00 - val_output_loss: -1.1102e+00 - val_output_mean_absolute_error: 0.1968 - val_output_mean_error: -2.1246e-03 - val_variance_output_mean_absolute_error: 3.6668 - val_variance_output_mean_error: 3.4843 - lr: 5.0000e-04 - 73s/epoch - 54ms/step\n",
      "Epoch 7/50\n",
      "1371/1371 - 75s - loss: -1.1286e+00 - output_loss: -1.1287e+00 - output_mean_absolute_error: 0.1941 - output_mean_error: -3.0250e-03 - variance_output_mean_absolute_error: 3.6762 - variance_output_mean_error: 3.5139 - val_loss: -1.1294e+00 - val_output_loss: -1.1295e+00 - val_output_mean_absolute_error: 0.1943 - val_output_mean_error: -1.5748e-02 - val_variance_output_mean_absolute_error: 3.6955 - val_variance_output_mean_error: 3.5079 - lr: 5.0000e-04 - 75s/epoch - 55ms/step\n",
      "Epoch 8/50\n",
      "1371/1371 - 74s - loss: -1.1572e+00 - output_loss: -1.1572e+00 - output_mean_absolute_error: 0.1905 - output_mean_error: -4.2029e-03 - variance_output_mean_absolute_error: 3.7470 - variance_output_mean_error: 3.5871 - val_loss: -1.1324e+00 - val_output_loss: -1.1325e+00 - val_output_mean_absolute_error: 0.1947 - val_output_mean_error: 0.0298 - val_variance_output_mean_absolute_error: 3.7946 - val_variance_output_mean_error: 3.6161 - lr: 5.0000e-04 - 74s/epoch - 54ms/step\n",
      "Epoch 9/50\n",
      "1371/1371 - 74s - loss: -1.1765e+00 - output_loss: -1.1766e+00 - output_mean_absolute_error: 0.1883 - output_mean_error: -4.5589e-03 - variance_output_mean_absolute_error: 3.7988 - variance_output_mean_error: 3.6378 - val_loss: -1.1486e+00 - val_output_loss: -1.1487e+00 - val_output_mean_absolute_error: 0.1924 - val_output_mean_error: 0.0225 - val_variance_output_mean_absolute_error: 3.8514 - val_variance_output_mean_error: 3.6749 - lr: 5.0000e-04 - 74s/epoch - 54ms/step\n",
      "Epoch 10/50\n",
      "1371/1371 - 73s - loss: -1.1962e+00 - output_loss: -1.1963e+00 - output_mean_absolute_error: 0.1859 - output_mean_error: -4.8064e-03 - variance_output_mean_absolute_error: 3.8494 - variance_output_mean_error: 3.6902 - val_loss: -1.1820e+00 - val_output_loss: -1.1821e+00 - val_output_mean_absolute_error: 0.1890 - val_output_mean_error: -2.0171e-02 - val_variance_output_mean_absolute_error: 3.8073 - val_variance_output_mean_error: 3.6115 - lr: 5.0000e-04 - 73s/epoch - 53ms/step\n",
      "Epoch 11/50\n",
      "1371/1371 - 73s - loss: -1.2096e+00 - output_loss: -1.2097e+00 - output_mean_absolute_error: 0.1841 - output_mean_error: -5.3514e-03 - variance_output_mean_absolute_error: 3.8805 - variance_output_mean_error: 3.7237 - val_loss: -1.1923e+00 - val_output_loss: -1.1924e+00 - val_output_mean_absolute_error: 0.1867 - val_output_mean_error: -6.2959e-03 - val_variance_output_mean_absolute_error: 3.9376 - val_variance_output_mean_error: 3.7652 - lr: 5.0000e-04 - 73s/epoch - 53ms/step\n",
      "Epoch 12/50\n",
      "1371/1371 - 74s - loss: -1.2252e+00 - output_loss: -1.2253e+00 - output_mean_absolute_error: 0.1820 - output_mean_error: -5.5453e-03 - variance_output_mean_absolute_error: 3.9235 - variance_output_mean_error: 3.7672 - val_loss: -1.2014e+00 - val_output_loss: -1.2015e+00 - val_output_mean_absolute_error: 0.1862 - val_output_mean_error: -3.1997e-02 - val_variance_output_mean_absolute_error: 3.9679 - val_variance_output_mean_error: 3.7903 - lr: 5.0000e-04 - 74s/epoch - 54ms/step\n",
      "Epoch 13/50\n",
      "1371/1371 - 73s - loss: -1.2373e+00 - output_loss: -1.2374e+00 - output_mean_absolute_error: 0.1808 - output_mean_error: -5.8993e-03 - variance_output_mean_absolute_error: 3.9576 - variance_output_mean_error: 3.8017 - val_loss: -1.2386e+00 - val_output_loss: -1.2388e+00 - val_output_mean_absolute_error: 0.1816 - val_output_mean_error: -1.2266e-02 - val_variance_output_mean_absolute_error: 3.9998 - val_variance_output_mean_error: 3.8293 - lr: 5.0000e-04 - 73s/epoch - 54ms/step\n",
      "Epoch 14/50\n",
      "1371/1371 - 75s - loss: -1.2471e+00 - output_loss: -1.2473e+00 - output_mean_absolute_error: 0.1795 - output_mean_error: -5.8144e-03 - variance_output_mean_absolute_error: 3.9841 - variance_output_mean_error: 3.8292 - val_loss: -1.2360e+00 - val_output_loss: -1.2361e+00 - val_output_mean_absolute_error: 0.1813 - val_output_mean_error: -2.8756e-02 - val_variance_output_mean_absolute_error: 3.9519 - val_variance_output_mean_error: 3.7826 - lr: 5.0000e-04 - 75s/epoch - 55ms/step\n",
      "Epoch 15/50\n",
      "1371/1371 - 75s - loss: -1.2582e+00 - output_loss: -1.2584e+00 - output_mean_absolute_error: 0.1782 - output_mean_error: -6.1295e-03 - variance_output_mean_absolute_error: 4.0147 - variance_output_mean_error: 3.8592 - val_loss: -1.2602e+00 - val_output_loss: -1.2603e+00 - val_output_mean_absolute_error: 0.1783 - val_output_mean_error: -1.3362e-02 - val_variance_output_mean_absolute_error: 4.0394 - val_variance_output_mean_error: 3.8597 - lr: 5.0000e-04 - 75s/epoch - 55ms/step\n",
      "Epoch 16/50\n",
      "1371/1371 - 68s - loss: -1.2652e+00 - output_loss: -1.2654e+00 - output_mean_absolute_error: 0.1776 - output_mean_error: -6.0906e-03 - variance_output_mean_absolute_error: 4.0345 - variance_output_mean_error: 3.8799 - val_loss: -1.2449e+00 - val_output_loss: -1.2450e+00 - val_output_mean_absolute_error: 0.1800 - val_output_mean_error: -2.9413e-02 - val_variance_output_mean_absolute_error: 4.0273 - val_variance_output_mean_error: 3.8518 - lr: 5.0000e-04 - 68s/epoch - 49ms/step\n",
      "Epoch 17/50\n",
      "1371/1371 - 73s - loss: -1.2728e+00 - output_loss: -1.2729e+00 - output_mean_absolute_error: 0.1765 - output_mean_error: -6.1631e-03 - variance_output_mean_absolute_error: 4.0539 - variance_output_mean_error: 3.8993 - val_loss: -1.2696e+00 - val_output_loss: -1.2698e+00 - val_output_mean_absolute_error: 0.1773 - val_output_mean_error: -3.8680e-03 - val_variance_output_mean_absolute_error: 4.0258 - val_variance_output_mean_error: 3.8495 - lr: 5.0000e-04 - 73s/epoch - 54ms/step\n",
      "Epoch 18/50\n",
      "1371/1371 - 74s - loss: -1.2813e+00 - output_loss: -1.2814e+00 - output_mean_absolute_error: 0.1754 - output_mean_error: -6.1835e-03 - variance_output_mean_absolute_error: 4.0757 - variance_output_mean_error: 3.9225 - val_loss: -1.2648e+00 - val_output_loss: -1.2649e+00 - val_output_mean_absolute_error: 0.1786 - val_output_mean_error: 0.0018 - val_variance_output_mean_absolute_error: 4.0630 - val_variance_output_mean_error: 3.8745 - lr: 5.0000e-04 - 74s/epoch - 54ms/step\n",
      "Epoch 19/50\n",
      "\n",
      "Epoch 19: ReduceLROnPlateau reducing learning rate to 0.0002500000118743628.\n",
      "1371/1371 - 68s - loss: -1.2874e+00 - output_loss: -1.2875e+00 - output_mean_absolute_error: 0.1749 - output_mean_error: -5.8813e-03 - variance_output_mean_absolute_error: 4.0942 - variance_output_mean_error: 3.9412 - val_loss: -1.2774e+00 - val_output_loss: -1.2775e+00 - val_output_mean_absolute_error: 0.1772 - val_output_mean_error: -2.4917e-03 - val_variance_output_mean_absolute_error: 4.0601 - val_variance_output_mean_error: 3.8782 - lr: 5.0000e-04 - 68s/epoch - 50ms/step\n",
      "Epoch 20/50\n",
      "1371/1371 - 72s - loss: -1.3141e+00 - output_loss: -1.3142e+00 - output_mean_absolute_error: 0.1719 - output_mean_error: -6.4370e-03 - variance_output_mean_absolute_error: 4.1627 - variance_output_mean_error: 4.0109 - val_loss: -1.2908e+00 - val_output_loss: -1.2910e+00 - val_output_mean_absolute_error: 0.1753 - val_output_mean_error: -1.7612e-02 - val_variance_output_mean_absolute_error: 4.1356 - val_variance_output_mean_error: 3.9615 - lr: 2.5000e-04 - 72s/epoch - 53ms/step\n",
      "Epoch 21/50\n",
      "1371/1371 - 73s - loss: -1.3191e+00 - output_loss: -1.3193e+00 - output_mean_absolute_error: 0.1715 - output_mean_error: -6.2341e-03 - variance_output_mean_absolute_error: 4.1782 - variance_output_mean_error: 4.0271 - val_loss: -1.2906e+00 - val_output_loss: -1.2907e+00 - val_output_mean_absolute_error: 0.1749 - val_output_mean_error: -2.1421e-03 - val_variance_output_mean_absolute_error: 4.2019 - val_variance_output_mean_error: 4.0243 - lr: 2.5000e-04 - 73s/epoch - 53ms/step\n",
      "Epoch 22/50\n",
      "1371/1371 - 73s - loss: -1.3220e+00 - output_loss: -1.3222e+00 - output_mean_absolute_error: 0.1712 - output_mean_error: -6.2719e-03 - variance_output_mean_absolute_error: 4.1884 - variance_output_mean_error: 4.0369 - val_loss: -1.3051e+00 - val_output_loss: -1.3052e+00 - val_output_mean_absolute_error: 0.1735 - val_output_mean_error: -5.5963e-03 - val_variance_output_mean_absolute_error: 4.1641 - val_variance_output_mean_error: 3.9902 - lr: 2.5000e-04 - 73s/epoch - 53ms/step\n",
      "Epoch 23/50\n",
      "1371/1371 - 73s - loss: -1.3273e+00 - output_loss: -1.3275e+00 - output_mean_absolute_error: 0.1705 - output_mean_error: -6.2480e-03 - variance_output_mean_absolute_error: 4.2029 - variance_output_mean_error: 4.0525 - val_loss: -1.3032e+00 - val_output_loss: -1.3034e+00 - val_output_mean_absolute_error: 0.1736 - val_output_mean_error: -1.8941e-02 - val_variance_output_mean_absolute_error: 4.1801 - val_variance_output_mean_error: 4.0046 - lr: 2.5000e-04 - 73s/epoch - 53ms/step\n",
      "Epoch 24/50\n",
      "\n",
      "Epoch 24: ReduceLROnPlateau reducing learning rate to 0.0001250000059371814.\n",
      "1371/1371 - 68s - loss: -1.3274e+00 - output_loss: -1.3276e+00 - output_mean_absolute_error: 0.1707 - output_mean_error: -6.1226e-03 - variance_output_mean_absolute_error: 4.2066 - variance_output_mean_error: 4.0551 - val_loss: -1.3064e+00 - val_output_loss: -1.3066e+00 - val_output_mean_absolute_error: 0.1738 - val_output_mean_error: 0.0027 - val_variance_output_mean_absolute_error: 4.1881 - val_variance_output_mean_error: 4.0161 - lr: 2.5000e-04 - 68s/epoch - 50ms/step\n",
      "Epoch 25/50\n",
      "1371/1371 - 73s - loss: -1.3441e+00 - output_loss: -1.3443e+00 - output_mean_absolute_error: 0.1690 - output_mean_error: -6.5704e-03 - variance_output_mean_absolute_error: 4.2482 - variance_output_mean_error: 4.0972 - val_loss: -1.3210e+00 - val_output_loss: -1.3212e+00 - val_output_mean_absolute_error: 0.1718 - val_output_mean_error: -9.8734e-03 - val_variance_output_mean_absolute_error: 4.2534 - val_variance_output_mean_error: 4.0788 - lr: 1.2500e-04 - 73s/epoch - 53ms/step\n",
      "Epoch 26/50\n",
      "1371/1371 - 73s - loss: -1.3480e+00 - output_loss: -1.3482e+00 - output_mean_absolute_error: 0.1686 - output_mean_error: -6.4411e-03 - variance_output_mean_absolute_error: 4.2632 - variance_output_mean_error: 4.1127 - val_loss: -1.3206e+00 - val_output_loss: -1.3207e+00 - val_output_mean_absolute_error: 0.1712 - val_output_mean_error: -1.5552e-02 - val_variance_output_mean_absolute_error: 4.2287 - val_variance_output_mean_error: 4.0565 - lr: 1.2500e-04 - 73s/epoch - 53ms/step\n",
      "Epoch 27/50\n",
      "1371/1371 - 73s - loss: -1.3487e+00 - output_loss: -1.3489e+00 - output_mean_absolute_error: 0.1684 - output_mean_error: -6.5227e-03 - variance_output_mean_absolute_error: 4.2631 - variance_output_mean_error: 4.1134 - val_loss: -1.3208e+00 - val_output_loss: -1.3210e+00 - val_output_mean_absolute_error: 0.1724 - val_output_mean_error: 0.0027 - val_variance_output_mean_absolute_error: 4.2370 - val_variance_output_mean_error: 4.0574 - lr: 1.2500e-04 - 73s/epoch - 53ms/step\n",
      "Epoch 28/50\n",
      "\n",
      "Epoch 28: ReduceLROnPlateau reducing learning rate to 6.25000029685907e-05.\n",
      "1371/1371 - 72s - loss: -1.3524e+00 - output_loss: -1.3526e+00 - output_mean_absolute_error: 0.1682 - output_mean_error: -6.1622e-03 - variance_output_mean_absolute_error: 4.2740 - variance_output_mean_error: 4.1239 - val_loss: -1.3193e+00 - val_output_loss: -1.3195e+00 - val_output_mean_absolute_error: 0.1717 - val_output_mean_error: -1.5261e-02 - val_variance_output_mean_absolute_error: 4.2726 - val_variance_output_mean_error: 4.0950 - lr: 1.2500e-04 - 72s/epoch - 52ms/step\n",
      "Epoch 29/50\n",
      "1371/1371 - 73s - loss: -1.3586e+00 - output_loss: -1.3587e+00 - output_mean_absolute_error: 0.1675 - output_mean_error: -6.5104e-03 - variance_output_mean_absolute_error: 4.2910 - variance_output_mean_error: 4.1423 - val_loss: -1.3285e+00 - val_output_loss: -1.3287e+00 - val_output_mean_absolute_error: 0.1706 - val_output_mean_error: -4.6338e-03 - val_variance_output_mean_absolute_error: 4.2853 - val_variance_output_mean_error: 4.1073 - lr: 6.2500e-05 - 73s/epoch - 54ms/step\n",
      "Epoch 30/50\n",
      "1371/1371 - 68s - loss: -1.3590e+00 - output_loss: -1.3591e+00 - output_mean_absolute_error: 0.1674 - output_mean_error: -6.4554e-03 - variance_output_mean_absolute_error: 4.2953 - variance_output_mean_error: 4.1457 - val_loss: -1.3301e+00 - val_output_loss: -1.3303e+00 - val_output_mean_absolute_error: 0.1707 - val_output_mean_error: -1.2781e-02 - val_variance_output_mean_absolute_error: 4.3021 - val_variance_output_mean_error: 4.1284 - lr: 6.2500e-05 - 68s/epoch - 50ms/step\n",
      "Epoch 31/50\n",
      "\n",
      "Epoch 31: ReduceLROnPlateau reducing learning rate to 3.125000148429535e-05.\n",
      "1371/1371 - 74s - loss: -1.3624e+00 - output_loss: -1.3626e+00 - output_mean_absolute_error: 0.1671 - output_mean_error: -6.1441e-03 - variance_output_mean_absolute_error: 4.3019 - variance_output_mean_error: 4.1530 - val_loss: -1.3267e+00 - val_output_loss: -1.3269e+00 - val_output_mean_absolute_error: 0.1714 - val_output_mean_error: -1.7665e-02 - val_variance_output_mean_absolute_error: 4.3001 - val_variance_output_mean_error: 4.1301 - lr: 6.2500e-05 - 74s/epoch - 54ms/step\n",
      "Epoch 32/50\n",
      "1371/1371 - 68s - loss: -1.3650e+00 - output_loss: -1.3652e+00 - output_mean_absolute_error: 0.1670 - output_mean_error: -6.8501e-03 - variance_output_mean_absolute_error: 4.3121 - variance_output_mean_error: 4.1633 - val_loss: -1.3328e+00 - val_output_loss: -1.3330e+00 - val_output_mean_absolute_error: 0.1703 - val_output_mean_error: -1.2621e-02 - val_variance_output_mean_absolute_error: 4.3032 - val_variance_output_mean_error: 4.1322 - lr: 3.1250e-05 - 68s/epoch - 49ms/step\n",
      "Epoch 33/50\n",
      "1371/1371 - 74s - loss: -1.3667e+00 - output_loss: -1.3669e+00 - output_mean_absolute_error: 0.1666 - output_mean_error: -6.4049e-03 - variance_output_mean_absolute_error: 4.3158 - variance_output_mean_error: 4.1670 - val_loss: -1.3356e+00 - val_output_loss: -1.3358e+00 - val_output_mean_absolute_error: 0.1705 - val_output_mean_error: -6.5761e-03 - val_variance_output_mean_absolute_error: 4.2933 - val_variance_output_mean_error: 4.1183 - lr: 3.1250e-05 - 74s/epoch - 54ms/step\n",
      "Epoch 34/50\n",
      "1371/1371 - 73s - loss: -1.3674e+00 - output_loss: -1.3675e+00 - output_mean_absolute_error: 0.1667 - output_mean_error: -6.5192e-03 - variance_output_mean_absolute_error: 4.3168 - variance_output_mean_error: 4.1672 - val_loss: -1.3343e+00 - val_output_loss: -1.3344e+00 - val_output_mean_absolute_error: 0.1700 - val_output_mean_error: -1.0945e-02 - val_variance_output_mean_absolute_error: 4.3173 - val_variance_output_mean_error: 4.1465 - lr: 3.1250e-05 - 73s/epoch - 53ms/step\n",
      "Epoch 35/50\n",
      "1371/1371 - 67s - loss: -1.3679e+00 - output_loss: -1.3680e+00 - output_mean_absolute_error: 0.1667 - output_mean_error: -6.4797e-03 - variance_output_mean_absolute_error: 4.3212 - variance_output_mean_error: 4.1720 - val_loss: -1.3326e+00 - val_output_loss: -1.3328e+00 - val_output_mean_absolute_error: 0.1706 - val_output_mean_error: -1.0928e-02 - val_variance_output_mean_absolute_error: 4.3077 - val_variance_output_mean_error: 4.1344 - lr: 3.1250e-05 - 67s/epoch - 49ms/step\n",
      "Epoch 36/50\n",
      "1371/1371 - 72s - loss: -1.3694e+00 - output_loss: -1.3695e+00 - output_mean_absolute_error: 0.1665 - output_mean_error: -6.3160e-03 - variance_output_mean_absolute_error: 4.3232 - variance_output_mean_error: 4.1747 - val_loss: -1.3377e+00 - val_output_loss: -1.3379e+00 - val_output_mean_absolute_error: 0.1699 - val_output_mean_error: -1.2667e-02 - val_variance_output_mean_absolute_error: 4.3076 - val_variance_output_mean_error: 4.1344 - lr: 3.1250e-05 - 72s/epoch - 53ms/step\n",
      "Epoch 37/50\n",
      "1371/1371 - 73s - loss: -1.3671e+00 - output_loss: -1.3673e+00 - output_mean_absolute_error: 0.1668 - output_mean_error: -6.6598e-03 - variance_output_mean_absolute_error: 4.3212 - variance_output_mean_error: 4.1714 - val_loss: -1.3377e+00 - val_output_loss: -1.3379e+00 - val_output_mean_absolute_error: 0.1699 - val_output_mean_error: -8.6188e-03 - val_variance_output_mean_absolute_error: 4.3100 - val_variance_output_mean_error: 4.1378 - lr: 3.1250e-05 - 73s/epoch - 53ms/step\n",
      "Epoch 38/50\n",
      "\n",
      "Epoch 38: ReduceLROnPlateau reducing learning rate to 1.5625000742147677e-05.\n",
      "1371/1371 - 74s - loss: -1.3682e+00 - output_loss: -1.3683e+00 - output_mean_absolute_error: 0.1665 - output_mean_error: -6.4853e-03 - variance_output_mean_absolute_error: 4.3216 - variance_output_mean_error: 4.1724 - val_loss: -1.3347e+00 - val_output_loss: -1.3349e+00 - val_output_mean_absolute_error: 0.1705 - val_output_mean_error: -1.0176e-02 - val_variance_output_mean_absolute_error: 4.3088 - val_variance_output_mean_error: 4.1368 - lr: 3.1250e-05 - 74s/epoch - 54ms/step\n",
      "Epoch 39/50\n",
      "1371/1371 - 72s - loss: -1.3706e+00 - output_loss: -1.3707e+00 - output_mean_absolute_error: 0.1662 - output_mean_error: -6.4263e-03 - variance_output_mean_absolute_error: 4.3269 - variance_output_mean_error: 4.1790 - val_loss: -1.3418e+00 - val_output_loss: -1.3420e+00 - val_output_mean_absolute_error: 0.1697 - val_output_mean_error: -1.0584e-02 - val_variance_output_mean_absolute_error: 4.3103 - val_variance_output_mean_error: 4.1394 - lr: 1.5625e-05 - 72s/epoch - 53ms/step\n",
      "Epoch 40/50\n",
      "1371/1371 - 74s - loss: -1.3730e+00 - output_loss: -1.3732e+00 - output_mean_absolute_error: 0.1663 - output_mean_error: -6.3406e-03 - variance_output_mean_absolute_error: 4.3323 - variance_output_mean_error: 4.1839 - val_loss: -1.3399e+00 - val_output_loss: -1.3401e+00 - val_output_mean_absolute_error: 0.1705 - val_output_mean_error: -7.5337e-03 - val_variance_output_mean_absolute_error: 4.3186 - val_variance_output_mean_error: 4.1495 - lr: 1.5625e-05 - 74s/epoch - 54ms/step\n",
      "Epoch 41/50\n",
      "\n",
      "Epoch 41: ReduceLROnPlateau reducing learning rate to 7.812500371073838e-06.\n",
      "1371/1371 - 73s - loss: -1.3714e+00 - output_loss: -1.3716e+00 - output_mean_absolute_error: 0.1664 - output_mean_error: -6.4382e-03 - variance_output_mean_absolute_error: 4.3323 - variance_output_mean_error: 4.1832 - val_loss: -1.3356e+00 - val_output_loss: -1.3358e+00 - val_output_mean_absolute_error: 0.1705 - val_output_mean_error: -7.0411e-03 - val_variance_output_mean_absolute_error: 4.3111 - val_variance_output_mean_error: 4.1382 - lr: 1.5625e-05 - 73s/epoch - 54ms/step\n",
      "Epoch 42/50\n",
      "1371/1371 - 74s - loss: -1.3743e+00 - output_loss: -1.3745e+00 - output_mean_absolute_error: 0.1661 - output_mean_error: -6.5886e-03 - variance_output_mean_absolute_error: 4.3370 - variance_output_mean_error: 4.1881 - val_loss: -1.3381e+00 - val_output_loss: -1.3383e+00 - val_output_mean_absolute_error: 0.1696 - val_output_mean_error: -8.6979e-03 - val_variance_output_mean_absolute_error: 4.3213 - val_variance_output_mean_error: 4.1500 - lr: 7.8125e-06 - 74s/epoch - 54ms/step\n",
      "Epoch 43/50\n",
      "1371/1371 - 67s - loss: -1.3721e+00 - output_loss: -1.3722e+00 - output_mean_absolute_error: 0.1662 - output_mean_error: -6.4876e-03 - variance_output_mean_absolute_error: 4.3330 - variance_output_mean_error: 4.1843 - val_loss: -1.3370e+00 - val_output_loss: -1.3371e+00 - val_output_mean_absolute_error: 0.1698 - val_output_mean_error: -2.3615e-03 - val_variance_output_mean_absolute_error: 4.3221 - val_variance_output_mean_error: 4.1481 - lr: 7.8125e-06 - 67s/epoch - 49ms/step\n",
      "Epoch 44/50\n",
      "\n",
      "Epoch 44: ReduceLROnPlateau reducing learning rate to 3.906250185536919e-06.\n",
      "1371/1371 - 74s - loss: -1.3728e+00 - output_loss: -1.3729e+00 - output_mean_absolute_error: 0.1660 - output_mean_error: -6.4895e-03 - variance_output_mean_absolute_error: 4.3341 - variance_output_mean_error: 4.1846 - val_loss: -1.3404e+00 - val_output_loss: -1.3406e+00 - val_output_mean_absolute_error: 0.1696 - val_output_mean_error: -9.9950e-03 - val_variance_output_mean_absolute_error: 4.3220 - val_variance_output_mean_error: 4.1499 - lr: 7.8125e-06 - 74s/epoch - 54ms/step\n",
      "Epoch 45/50\n",
      "1371/1371 - 74s - loss: -1.3732e+00 - output_loss: -1.3734e+00 - output_mean_absolute_error: 0.1661 - output_mean_error: -6.6138e-03 - variance_output_mean_absolute_error: 4.3372 - variance_output_mean_error: 4.1884 - val_loss: -1.3450e+00 - val_output_loss: -1.3452e+00 - val_output_mean_absolute_error: 0.1691 - val_output_mean_error: -7.8609e-03 - val_variance_output_mean_absolute_error: 4.3203 - val_variance_output_mean_error: 4.1476 - lr: 3.9063e-06 - 74s/epoch - 54ms/step\n",
      "Epoch 46/50\n",
      "1371/1371 - 72s - loss: -1.3743e+00 - output_loss: -1.3745e+00 - output_mean_absolute_error: 0.1662 - output_mean_error: -6.2351e-03 - variance_output_mean_absolute_error: 4.3360 - variance_output_mean_error: 4.1866 - val_loss: -1.3363e+00 - val_output_loss: -1.3365e+00 - val_output_mean_absolute_error: 0.1701 - val_output_mean_error: -1.1306e-02 - val_variance_output_mean_absolute_error: 4.3239 - val_variance_output_mean_error: 4.1519 - lr: 3.9063e-06 - 72s/epoch - 53ms/step\n",
      "Epoch 47/50\n",
      "\n",
      "Epoch 47: ReduceLROnPlateau reducing learning rate to 1.9531250927684596e-06.\n",
      "1371/1371 - 74s - loss: -1.3744e+00 - output_loss: -1.3745e+00 - output_mean_absolute_error: 0.1659 - output_mean_error: -6.5198e-03 - variance_output_mean_absolute_error: 4.3405 - variance_output_mean_error: 4.1913 - val_loss: -1.3363e+00 - val_output_loss: -1.3365e+00 - val_output_mean_absolute_error: 0.1702 - val_output_mean_error: -9.1153e-03 - val_variance_output_mean_absolute_error: 4.3242 - val_variance_output_mean_error: 4.1505 - lr: 3.9063e-06 - 74s/epoch - 54ms/step\n",
      "Epoch 48/50\n",
      "1371/1371 - 73s - loss: -1.3748e+00 - output_loss: -1.3750e+00 - output_mean_absolute_error: 0.1659 - output_mean_error: -6.2987e-03 - variance_output_mean_absolute_error: 4.3405 - variance_output_mean_error: 4.1918 - val_loss: -1.3382e+00 - val_output_loss: -1.3384e+00 - val_output_mean_absolute_error: 0.1701 - val_output_mean_error: -1.0032e-02 - val_variance_output_mean_absolute_error: 4.3318 - val_variance_output_mean_error: 4.1598 - lr: 1.9531e-06 - 73s/epoch - 53ms/step\n",
      "Epoch 49/50\n",
      "\n",
      "Epoch 49: ReduceLROnPlateau reducing learning rate to 9.765625463842298e-07.\n",
      "1371/1371 - 68s - loss: -1.3731e+00 - output_loss: -1.3733e+00 - output_mean_absolute_error: 0.1662 - output_mean_error: -6.4342e-03 - variance_output_mean_absolute_error: 4.3399 - variance_output_mean_error: 4.1911 - val_loss: -1.3367e+00 - val_output_loss: -1.3369e+00 - val_output_mean_absolute_error: 0.1699 - val_output_mean_error: -8.0881e-03 - val_variance_output_mean_absolute_error: 4.3297 - val_variance_output_mean_error: 4.1576 - lr: 1.9531e-06 - 68s/epoch - 49ms/step\n",
      "Epoch 50/50\n",
      "1371/1371 - 71s - loss: -1.3745e+00 - output_loss: -1.3746e+00 - output_mean_absolute_error: 0.1660 - output_mean_error: -6.4141e-03 - variance_output_mean_absolute_error: 4.3393 - variance_output_mean_error: 4.1906 - val_loss: -1.3400e+00 - val_output_loss: -1.3401e+00 - val_output_mean_absolute_error: 0.1702 - val_output_mean_error: -8.6730e-03 - val_variance_output_mean_absolute_error: 4.3316 - val_variance_output_mean_error: 4.1592 - lr: 9.7656e-07 - 71s/epoch - 52ms/step\n",
      "Completed Training, 3804.06s in total\n"
     ]
    }
   ],
   "source": [
    "bcnncensored_net.fit(x_arr, y_arr, xerr_arr, yerr_arr)"
   ]
  },
  {
   "cell_type": "code",
   "execution_count": 15,
   "metadata": {},
   "outputs": [],
   "source": [
    "save_path = os.path.join(geir_path, \"models\", \"retrain 2\")"
   ]
  },
  {
   "cell_type": "code",
   "execution_count": 16,
   "metadata": {},
   "outputs": [
    {
     "name": "stdout",
     "output_type": "stream",
     "text": [
      "model_weights.h5 saved to /geir_data/scr/petershi/models/retrain 2/model_weights.h5\n"
     ]
    },
    {
     "ename": "",
     "evalue": "",
     "output_type": "error",
     "traceback": [
      "\u001b[1;31mThe Kernel crashed while executing code in the the current cell or a previous cell. Please review the code in the cell(s) to identify a possible cause of the failure. Click <a href='https://aka.ms/vscodeJupyterKernelCrash'>here</a> for more info. View Jupyter <a href='command:jupyter.viewOutput'>log</a> for further details."
     ]
    }
   ],
   "source": [
    "bcnncensored_net.save(save_path)"
   ]
  },
  {
   "cell_type": "code",
   "execution_count": null,
   "metadata": {},
   "outputs": [],
   "source": []
  }
 ],
 "metadata": {
  "kernelspec": {
   "display_name": "SDSSV",
   "language": "python",
   "name": "python3"
  },
  "language_info": {
   "codemirror_mode": {
    "name": "ipython",
    "version": 3
   },
   "file_extension": ".py",
   "mimetype": "text/x-python",
   "name": "python",
   "nbconvert_exporter": "python",
   "pygments_lexer": "ipython3",
   "version": "3.10.11"
  },
  "orig_nbformat": 4
 },
 "nbformat": 4,
 "nbformat_minor": 2
}
